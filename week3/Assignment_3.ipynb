{
 "cells": [
  {
   "cell_type": "markdown",
   "metadata": {},
   "source": [
    "# Assignment 3\n",
    "\n",
    "\\- Si Nguyen Mai, May 26, 2018 -"
   ]
  },
  {
   "cell_type": "code",
   "execution_count": 28,
   "metadata": {
    "collapsed": true
   },
   "outputs": [],
   "source": [
    "import pandas as pd\n",
    "import numpy as np\n",
    "\n",
    "from sklearn.feature_extraction.text import CountVectorizer, TfidfVectorizer\n",
    "from gensim.models import Doc2Vec\n",
    "\n",
    "%run Doc2VecHelperFunctions.ipynb\n",
    "\n",
    "from sklearn.metrics import precision_score, recall_score\n",
    "from sklearn.model_selection import train_test_split, GridSearchCV\n",
    "\n",
    "from sklearn.linear_model import LogisticRegression\n",
    "from sklearn.svm import SVC\n",
    "from sklearn.neighbors import KNeighborsClassifier\n",
    "from sklearn.ensemble import RandomForestClassifier\n"
   ]
  },
  {
   "cell_type": "markdown",
   "metadata": {},
   "source": [
    "## Import my pre-processed data frame\n",
    "\n",
    "Code for preprocessing data is in \"Cleaning_Song-dataset\" notebook in the \"root\" directory\n",
    "\n",
    "There are 2 pre-processed file:\n",
    "- 'assignment-3_big-dataset.csv': contains lyrics for all kinds of mood\n",
    "- 'assignment-3_small-dataset.csv': contains lyrics for only 'happy' and 'aggressive', and column 'Index' for corresponding indices in 'assignment-3_big-dataset.csv'\n",
    "\n",
    "All the lyrics are clean (stop words, punctuation removed)"
   ]
  },
  {
   "cell_type": "code",
   "execution_count": 2,
   "metadata": {},
   "outputs": [
    {
     "name": "stdout",
     "output_type": "stream",
     "text": [
      "(20930, 2)\n"
     ]
    },
    {
     "data": {
      "text/html": [
       "<div>\n",
       "<style>\n",
       "    .dataframe thead tr:only-child th {\n",
       "        text-align: right;\n",
       "    }\n",
       "\n",
       "    .dataframe thead th {\n",
       "        text-align: left;\n",
       "    }\n",
       "\n",
       "    .dataframe tbody tr th {\n",
       "        vertical-align: top;\n",
       "    }\n",
       "</style>\n",
       "<table border=\"1\" class=\"dataframe\">\n",
       "  <thead>\n",
       "    <tr style=\"text-align: right;\">\n",
       "      <th></th>\n",
       "      <th>lyrics_features</th>\n",
       "      <th>moods</th>\n",
       "    </tr>\n",
       "  </thead>\n",
       "  <tbody>\n",
       "    <tr>\n",
       "      <th>0</th>\n",
       "      <td>oppa gangnam style gangnam style najeneun ttas...</td>\n",
       "      <td>['energetic', 'motivational']</td>\n",
       "    </tr>\n",
       "    <tr>\n",
       "      <th>1</th>\n",
       "      <td>late ve ve lose sleep dream thing babi ve ve p...</td>\n",
       "      <td>['happy']</td>\n",
       "    </tr>\n",
       "    <tr>\n",
       "      <th>2</th>\n",
       "      <td>parti rock yeah woo let s parti rock hous toni...</td>\n",
       "      <td>['happy', 'celebratory', 'rowdy']</td>\n",
       "    </tr>\n",
       "    <tr>\n",
       "      <th>3</th>\n",
       "      <td>alagamun lan weh wakun heya hanun gon alagamun...</td>\n",
       "      <td>['happy', 'energetic', 'celebratory']</td>\n",
       "    </tr>\n",
       "    <tr>\n",
       "      <th>4</th>\n",
       "      <td>j lo s new generat mr worldwid parti peopl flo...</td>\n",
       "      <td>['energetic']</td>\n",
       "    </tr>\n",
       "  </tbody>\n",
       "</table>\n",
       "</div>"
      ],
      "text/plain": [
       "                                     lyrics_features  \\\n",
       "0  oppa gangnam style gangnam style najeneun ttas...   \n",
       "1  late ve ve lose sleep dream thing babi ve ve p...   \n",
       "2  parti rock yeah woo let s parti rock hous toni...   \n",
       "3  alagamun lan weh wakun heya hanun gon alagamun...   \n",
       "4  j lo s new generat mr worldwid parti peopl flo...   \n",
       "\n",
       "                                   moods  \n",
       "0          ['energetic', 'motivational']  \n",
       "1                              ['happy']  \n",
       "2      ['happy', 'celebratory', 'rowdy']  \n",
       "3  ['happy', 'energetic', 'celebratory']  \n",
       "4                          ['energetic']  "
      ]
     },
     "execution_count": 2,
     "metadata": {},
     "output_type": "execute_result"
    }
   ],
   "source": [
    "big_df = pd.read_csv('assignment-3_big-dataset.csv')\n",
    "print(big_df.shape)\n",
    "big_df.head()"
   ]
  },
  {
   "cell_type": "code",
   "execution_count": 3,
   "metadata": {},
   "outputs": [
    {
     "name": "stdout",
     "output_type": "stream",
     "text": [
      "(3440, 3)\n"
     ]
    },
    {
     "data": {
      "text/html": [
       "<div>\n",
       "<style>\n",
       "    .dataframe thead tr:only-child th {\n",
       "        text-align: right;\n",
       "    }\n",
       "\n",
       "    .dataframe thead th {\n",
       "        text-align: left;\n",
       "    }\n",
       "\n",
       "    .dataframe tbody tr th {\n",
       "        vertical-align: top;\n",
       "    }\n",
       "</style>\n",
       "<table border=\"1\" class=\"dataframe\">\n",
       "  <thead>\n",
       "    <tr style=\"text-align: right;\">\n",
       "      <th></th>\n",
       "      <th>index</th>\n",
       "      <th>lyrics_features</th>\n",
       "      <th>moods</th>\n",
       "    </tr>\n",
       "  </thead>\n",
       "  <tbody>\n",
       "    <tr>\n",
       "      <th>0</th>\n",
       "      <td>1</td>\n",
       "      <td>late ve ve lose sleep dream thing babi ve ve p...</td>\n",
       "      <td>happy</td>\n",
       "    </tr>\n",
       "    <tr>\n",
       "      <th>1</th>\n",
       "      <td>2</td>\n",
       "      <td>parti rock yeah woo let s parti rock hous toni...</td>\n",
       "      <td>happy</td>\n",
       "    </tr>\n",
       "    <tr>\n",
       "      <th>2</th>\n",
       "      <td>3</td>\n",
       "      <td>alagamun lan weh wakun heya hanun gon alagamun...</td>\n",
       "      <td>happy</td>\n",
       "    </tr>\n",
       "    <tr>\n",
       "      <th>3</th>\n",
       "      <td>5</td>\n",
       "      <td>today don t feel like do just wanna lay bed do...</td>\n",
       "      <td>happy</td>\n",
       "    </tr>\n",
       "    <tr>\n",
       "      <th>4</th>\n",
       "      <td>9</td>\n",
       "      <td>don t know turn head walk o don t need make co...</td>\n",
       "      <td>happy</td>\n",
       "    </tr>\n",
       "  </tbody>\n",
       "</table>\n",
       "</div>"
      ],
      "text/plain": [
       "   index                                    lyrics_features  moods\n",
       "0      1  late ve ve lose sleep dream thing babi ve ve p...  happy\n",
       "1      2  parti rock yeah woo let s parti rock hous toni...  happy\n",
       "2      3  alagamun lan weh wakun heya hanun gon alagamun...  happy\n",
       "3      5  today don t feel like do just wanna lay bed do...  happy\n",
       "4      9  don t know turn head walk o don t need make co...  happy"
      ]
     },
     "execution_count": 3,
     "metadata": {},
     "output_type": "execute_result"
    }
   ],
   "source": [
    "target_df = pd.read_csv('assignment-3_small-dataset.csv')\n",
    "print(target_df.shape)\n",
    "target_df.head()"
   ]
  },
  {
   "cell_type": "markdown",
   "metadata": {},
   "source": [
    "Check the *equality* in sample size between two classes"
   ]
  },
  {
   "cell_type": "code",
   "execution_count": 4,
   "metadata": {},
   "outputs": [
    {
     "name": "stdout",
     "output_type": "stream",
     "text": [
      "1757\n",
      "1683\n"
     ]
    }
   ],
   "source": [
    "# The number of 'happy' lyrics:\n",
    "print(len(target_df[target_df['moods'] == 'happy']))\n",
    "\n",
    "# The number of 'aggressive' lyrics:\n",
    "print(len(target_df[target_df['moods'] == 'aggressive']))"
   ]
  },
  {
   "cell_type": "code",
   "execution_count": 26,
   "metadata": {},
   "outputs": [
    {
     "data": {
      "text/plain": [
       "array(['happy', 'happy', 'happy', ..., 'happy', 'aggressive', 'happy'], dtype=object)"
      ]
     },
     "execution_count": 26,
     "metadata": {},
     "output_type": "execute_result"
    }
   ],
   "source": [
    "labels = np.ravel(target_df['moods'])\n",
    "\n",
    "labels"
   ]
  },
  {
   "cell_type": "markdown",
   "metadata": {},
   "source": [
    "## Preparing features input "
   ]
  },
  {
   "cell_type": "markdown",
   "metadata": {},
   "source": [
    "### Bag of words"
   ]
  },
  {
   "cell_type": "code",
   "execution_count": 5,
   "metadata": {},
   "outputs": [
    {
     "data": {
      "text/plain": [
       "(3440, 22570)"
      ]
     },
     "execution_count": 5,
     "metadata": {},
     "output_type": "execute_result"
    }
   ],
   "source": [
    "count_vect = CountVectorizer()\n",
    "\n",
    "bow = count_vect.fit_transform(target_df['lyrics_features'])\n",
    "\n",
    "bow.shape"
   ]
  },
  {
   "cell_type": "markdown",
   "metadata": {},
   "source": [
    "### TF - IDF"
   ]
  },
  {
   "cell_type": "code",
   "execution_count": 7,
   "metadata": {},
   "outputs": [
    {
     "data": {
      "text/plain": [
       "(3440, 22570)"
      ]
     },
     "execution_count": 7,
     "metadata": {},
     "output_type": "execute_result"
    }
   ],
   "source": [
    "tfidf_vect = TfidfVectorizer()\n",
    "\n",
    "tf_idf = tfidf_vect.fit_transform(target_df['lyrics_features'])\n",
    "\n",
    "tf_idf.shape"
   ]
  },
  {
   "cell_type": "markdown",
   "metadata": {},
   "source": [
    "### Doc2Vec"
   ]
  },
  {
   "cell_type": "code",
   "execution_count": 10,
   "metadata": {},
   "outputs": [
    {
     "name": "stdout",
     "output_type": "stream",
     "text": [
      "<class 'list'>\n"
     ]
    },
    {
     "data": {
      "text/plain": [
       "20930"
      ]
     },
     "execution_count": 10,
     "metadata": {},
     "output_type": "execute_result"
    }
   ],
   "source": [
    "all_lyrics = big_df['lyrics_features'].tolist()\n",
    "\n",
    "print(type(all_lyrics))\n",
    "len(all_lyrics)"
   ]
  },
  {
   "cell_type": "code",
   "execution_count": 11,
   "metadata": {
    "collapsed": true
   },
   "outputs": [],
   "source": [
    "#convert_lyrics_to_d2v(all_lyrics)"
   ]
  },
  {
   "cell_type": "code",
   "execution_count": 13,
   "metadata": {
    "collapsed": true
   },
   "outputs": [],
   "source": [
    "doc2vec_model = Doc2Vec.load('./song_lyrics.d2v')"
   ]
  },
  {
   "cell_type": "code",
   "execution_count": 27,
   "metadata": {},
   "outputs": [
    {
     "data": {
      "text/plain": [
       "array([[ 1.23539937, -1.28101766, -1.48635399, ...,  1.57250249,\n",
       "         1.25255394,  1.86322331],\n",
       "       [ 2.20976281, -0.12866332, -2.41090131, ..., -0.2270617 ,\n",
       "         0.7468949 ,  2.48212528],\n",
       "       [ 3.03357291, -0.41046563, -0.86521643, ...,  0.09651477,\n",
       "        -0.23563212,  0.65808886],\n",
       "       ..., \n",
       "       [ 1.61306369,  0.28757182, -2.39796233, ..., -0.78782743,\n",
       "        -0.6883263 , -0.12553684],\n",
       "       [ 0.43706188,  0.17893283,  0.37903407, ..., -0.66263926,\n",
       "         1.11233342,  0.1141317 ],\n",
       "       [ 0.80377418, -0.89266783, -0.86730605, ..., -1.48051941,\n",
       "        -0.44940835,  0.12566899]], dtype=float32)"
      ]
     },
     "execution_count": 27,
     "metadata": {},
     "output_type": "execute_result"
    }
   ],
   "source": [
    "doc2vec = doc2vec_model[target_df['index']]\n",
    "\n",
    "doc2vec"
   ]
  },
  {
   "cell_type": "markdown",
   "metadata": {},
   "source": [
    "OK. <br>\n",
    "So now we get 3 sets of feature data from 3 methods: `bow`, `tf_idf`, and `doc2vec`. <br>\n",
    "Also, our labels array named: `labels`"
   ]
  },
  {
   "cell_type": "markdown",
   "metadata": {},
   "source": [
    "## Classification"
   ]
  },
  {
   "cell_type": "code",
   "execution_count": 49,
   "metadata": {
    "collapsed": true
   },
   "outputs": [],
   "source": [
    "np.random.seed(999)"
   ]
  },
  {
   "cell_type": "code",
   "execution_count": 50,
   "metadata": {
    "collapsed": true
   },
   "outputs": [],
   "source": [
    "feat_methods = ['bow', 'tf_idf', 'doc2vec']"
   ]
  },
  {
   "cell_type": "code",
   "execution_count": 51,
   "metadata": {
    "collapsed": true
   },
   "outputs": [],
   "source": [
    "train_test_sets = {\n",
    "    'bow': train_test_split(bow, labels, test_size = 0.3),\n",
    "    'tf_idf': train_test_split(tf_idf, labels, test_size = 0.3),\n",
    "    'doc2vec': train_test_split(doc2vec, labels, test_size = 0.3)\n",
    "}\n",
    "# In a key - value pair, value is a list in format of [X_train, X_test, y_train, y_test]"
   ]
  },
  {
   "cell_type": "code",
   "execution_count": 68,
   "metadata": {
    "collapsed": true
   },
   "outputs": [],
   "source": [
    "def optimizing (estimator, param_grid, train_test_list, n_jobs):\n",
    "    \n",
    "    output = {}\n",
    "    \n",
    "    grid = GridSearchCV(estimator, param_grid, refit = True, n_jobs = n_jobs)\n",
    "    grid.fit(train_test_list[0], train_test_list[2]) \n",
    "    # train_test_list is a list in form of [X_train, X_test, y_train, y_test]\n",
    "    \n",
    "    output['estimator'] = grid.best_estimator_\n",
    "    output['params'] = grid.best_params_\n",
    "    output['prediction'] = grid.predict(train_test_list[1])\n",
    "    \n",
    "    return output"
   ]
  },
  {
   "cell_type": "code",
   "execution_count": 73,
   "metadata": {
    "collapsed": true
   },
   "outputs": [],
   "source": [
    "def estimator_searching (init_classifiers, param_grids, train_test_list, n_jobs):\n",
    "    \n",
    "    classifiers = {method : {} for method in init_classifiers.keys()}\n",
    "    \n",
    "    for method in classifiers.keys():\n",
    "        \n",
    "        estimator = init_classifiers [method]\n",
    "        param_grid = param_grids [method]\n",
    "        \n",
    "        classifiers[method] = optimizing(estimator, param_grid, train_test_list, n_jobs)\n",
    "    \n",
    "    return classifiers"
   ]
  },
  {
   "cell_type": "code",
   "execution_count": 88,
   "metadata": {
    "collapsed": true
   },
   "outputs": [],
   "source": [
    "init_classifiers_0 = {\n",
    "        'knn': KNeighborsClassifier(),\n",
    "        'logreg': LogisticRegression(),\n",
    "        'svm': SVC(),\n",
    "        'rfc': RandomForestClassifier()\n",
    "    }\n",
    "    \n",
    "param_grids_0 = {\n",
    "    'knn': {'n_neighbors': [5, 10, 25, 50]},\n",
    "    'logreg': \n",
    "    {\n",
    "        'solver': ['liblinear'], \n",
    "    }, \n",
    "    'svm': \n",
    "    {\n",
    "        'C': [0.1, 1, 10],\n",
    "        'gamma': [1, 0.1, 0.01, 0.001]\n",
    "    },\n",
    "    'rfc': \n",
    "    {\n",
    "        'n_estimators': [5, 10, 100],\n",
    "        'min_samples_split': [2, 3, 4, 5, 10],\n",
    "        'max_features': ['sqrt', 'log2', 'auto']\n",
    "    }\n",
    "}"
   ]
  },
  {
   "cell_type": "code",
   "execution_count": 89,
   "metadata": {
    "collapsed": true
   },
   "outputs": [],
   "source": [
    "classifiers_0 = { method : estimator_searching(init_classifiers_0, param_grids_0, \n",
    "                                               train_test_sets[method], n_jobs = 2) \n",
    "                 for method in feat_methods }"
   ]
  },
  {
   "cell_type": "code",
   "execution_count": 90,
   "metadata": {
    "scrolled": true
   },
   "outputs": [
    {
     "name": "stdout",
     "output_type": "stream",
     "text": [
      "bow\n",
      "knn\n",
      "0.643410852713\n",
      "logreg\n",
      "0.747093023256\n",
      "svm\n",
      "0.768410852713\n",
      "rfc\n",
      "0.815891472868\n",
      "\n",
      "\n",
      "tf_idf\n",
      "knn\n",
      "0.763565891473\n",
      "logreg\n",
      "0.801356589147\n",
      "svm\n",
      "0.798449612403\n",
      "rfc\n",
      "0.813953488372\n",
      "\n",
      "\n",
      "doc2vec\n",
      "knn\n",
      "0.561046511628\n",
      "logreg\n",
      "0.789728682171\n",
      "svm\n",
      "0.790697674419\n",
      "rfc\n",
      "0.772286821705\n",
      "\n",
      "\n"
     ]
    }
   ],
   "source": [
    "for key in classifiers_0.keys():\n",
    "    \n",
    "    print(key)\n",
    "    for model in init_classifiers_0.keys():\n",
    "        print(model)\n",
    "        print(precision_score(train_test_sets[key][3], classifiers_0[key][model]['prediction'], average='micro'))\n",
    "    \n",
    "    print(\"\\n\")"
   ]
  }
 ],
 "metadata": {
  "kernelspec": {
   "display_name": "Python 3",
   "language": "python",
   "name": "python3"
  },
  "language_info": {
   "codemirror_mode": {
    "name": "ipython",
    "version": 3
   },
   "file_extension": ".py",
   "mimetype": "text/x-python",
   "name": "python",
   "nbconvert_exporter": "python",
   "pygments_lexer": "ipython3",
   "version": "3.6.3"
  }
 },
 "nbformat": 4,
 "nbformat_minor": 2
}
