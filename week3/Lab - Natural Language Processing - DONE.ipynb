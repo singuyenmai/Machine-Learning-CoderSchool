{
 "cells": [
  {
   "cell_type": "markdown",
   "metadata": {},
   "source": [
    "# Week 3: Lab - Natural Language Processing\n",
    "## Sentiment Analysis of Movie Reviews"
   ]
  },
  {
   "cell_type": "markdown",
   "metadata": {},
   "source": [
    "Welcome to Week 3 ! In today's lab, you will learn about Natural Language Processing (*NLP*). We will compare 3 methods of featurizing text data: \n",
    "* `CountVectorizer` (Bag of Words)\n",
    "* `TfidfVectorizer` (TF-IDF)\n",
    "* `Doc2Vec` \n",
    "\n",
    "in order to perform **sentiment analysis** on the Cornell IMDB movie review corpus (http://www.cs.cornell.edu/people/pabo/movie-review-data/)."
   ]
  },
  {
   "cell_type": "markdown",
   "metadata": {},
   "source": [
    "### Input Format\n",
    "\n",
    "We can't directly input the raw reviews from the Cornell movie review data repository. Instead, we have to \"clean them up\" by:\n",
    "1. Converting everything to lower case\n",
    "2. Removing punctuation\n",
    "3. Removing common words (stop words)\n",
    "4. Stemming\n",
    "\n",
    "'Cleaning up' text is an important **Data Pre-processing** step in NLP, and is crucial to getting good results. In the same way that we do with our numerical features (egs: filling na values with a mean, etc.), we need to make sure that words that we are going to use as features are consistently formatted and don't include information that will end up being unnecessary.\n",
    "\n",
    "To practise, we are going to perform the above 4 steps on the sample movie review below."
   ]
  },
  {
   "cell_type": "code",
   "execution_count": 1,
   "metadata": {
    "scrolled": true
   },
   "outputs": [
    {
     "name": "stdout",
     "output_type": "stream",
     "text": [
      "Bromwell High is nothing short of brilliant. Expertly scripted and perfectly delivered, this searing parody of a students and teachers at a South London Public School leaves you literally rolling with laughter. It's vulgar, provocative, witty and sharp. The characters are a superbly caricatured cross section of British society (or to be more accurate, of any society). Following the escapades of Keisha, Latrina and Natella, our three \"protagonists\" for want of a better term, the show doesn't shy away from parodying every imaginable subject. Political correctness flies out the window in every episode. If you enjoy shows that aren't afraid to poke fun of every taboo subject imaginable, then Bromwell High will not disappoint!\n"
     ]
    }
   ],
   "source": [
    "movie_review = \"\"\"Bromwell High is nothing short of brilliant. Expertly scripted and perfectly delivered, this searing parody of a students and teachers at a South London Public School leaves you literally rolling with laughter. It's vulgar, provocative, witty and sharp. The characters are a superbly caricatured cross section of British society (or to be more accurate, of any society). Following the escapades of Keisha, Latrina and Natella, our three \"protagonists\" for want of a better term, the show doesn't shy away from parodying every imaginable subject. Political correctness flies out the window in every episode. If you enjoy shows that aren't afraid to poke fun of every taboo subject imaginable, then Bromwell High will not disappoint!\"\"\"\n",
    "print(movie_review)"
   ]
  },
  {
   "cell_type": "markdown",
   "metadata": {},
   "source": [
    "#### The first step is to lowercase it\n",
    "You can do this using the `.lower()` function. Try it out on `movie_review`, and print it to see the result."
   ]
  },
  {
   "cell_type": "code",
   "execution_count": 2,
   "metadata": {},
   "outputs": [
    {
     "data": {
      "text/plain": [
       "'bromwell high is nothing short of brilliant. expertly scripted and perfectly delivered, this searing parody of a students and teachers at a south london public school leaves you literally rolling with laughter. it\\'s vulgar, provocative, witty and sharp. the characters are a superbly caricatured cross section of british society (or to be more accurate, of any society). following the escapades of keisha, latrina and natella, our three \"protagonists\" for want of a better term, the show doesn\\'t shy away from parodying every imaginable subject. political correctness flies out the window in every episode. if you enjoy shows that aren\\'t afraid to poke fun of every taboo subject imaginable, then bromwell high will not disappoint!'"
      ]
     },
     "execution_count": 2,
     "metadata": {},
     "output_type": "execute_result"
    }
   ],
   "source": [
    "movie_review = movie_review.lower()\n",
    "movie_review"
   ]
  },
  {
   "cell_type": "markdown",
   "metadata": {},
   "source": [
    "Next, we need to remove punctuation. import `string`, and then from `string` import `punctuation`.\n",
    "Print `punctuation` to see the list of punctuation marks in the library."
   ]
  },
  {
   "cell_type": "code",
   "execution_count": 3,
   "metadata": {},
   "outputs": [
    {
     "data": {
      "text/plain": [
       "'!\"#$%&\\'()*+,-./:;<=>?@[\\\\]^_`{|}~'"
      ]
     },
     "execution_count": 3,
     "metadata": {},
     "output_type": "execute_result"
    }
   ],
   "source": [
    "from string import punctuation\n",
    "punctuation"
   ]
  },
  {
   "cell_type": "markdown",
   "metadata": {},
   "source": [
    "The way we remove punctuation from a string is by creating a `translator` object, and then calling `.translate` on our string using the `translator` object.\n",
    "\n",
    "Create a `translator` object by calling `str.maketrans('', '', punctuation)`."
   ]
  },
  {
   "cell_type": "code",
   "execution_count": 4,
   "metadata": {
    "collapsed": true
   },
   "outputs": [],
   "source": [
    "translator = str.maketrans('','', punctuation)"
   ]
  },
  {
   "cell_type": "markdown",
   "metadata": {},
   "source": [
    "Now, call `.translate` on your `movie_review` and pass it your `translator` object. Then, print your movie review."
   ]
  },
  {
   "cell_type": "code",
   "execution_count": 5,
   "metadata": {},
   "outputs": [
    {
     "data": {
      "text/plain": [
       "'bromwell high is nothing short of brilliant expertly scripted and perfectly delivered this searing parody of a students and teachers at a south london public school leaves you literally rolling with laughter its vulgar provocative witty and sharp the characters are a superbly caricatured cross section of british society or to be more accurate of any society following the escapades of keisha latrina and natella our three protagonists for want of a better term the show doesnt shy away from parodying every imaginable subject political correctness flies out the window in every episode if you enjoy shows that arent afraid to poke fun of every taboo subject imaginable then bromwell high will not disappoint'"
      ]
     },
     "execution_count": 5,
     "metadata": {},
     "output_type": "execute_result"
    }
   ],
   "source": [
    "movie_review = movie_review.translate(translator)\n",
    "movie_review"
   ]
  },
  {
   "cell_type": "markdown",
   "metadata": {},
   "source": [
    "You should see that all the punctuation has been removed!\n",
    "\n",
    "If you want to understand why/how this works, check out these posts:\n",
    "* https://www.tutorialspoint.com/python/string_maketrans.htm\n",
    "* https://stackoverflow.com/questions/34293875/how-to-remove-punctuation-marks-from-a-string-in-python-3-x-using-translate"
   ]
  },
  {
   "cell_type": "markdown",
   "metadata": {},
   "source": [
    "#### Remove stop words\n",
    "\n",
    "Notice all of the punctuation has been removed.  Next we will remove common words.  This is because in NLP we want to find things that distinct between different sets of texts.  We can make that easier by removing words that are common to ALL texts (and, is are, etc.)\n",
    "\n",
    "from `sklearn.feature_extraction.stop_words` import `ENGLISH_STOP_WORDS`. Then, print `ENGLISH_STOP_WORDS` to see a list of common stop words."
   ]
  },
  {
   "cell_type": "code",
   "execution_count": 6,
   "metadata": {},
   "outputs": [
    {
     "data": {
      "text/plain": [
       "frozenset({'a',\n",
       "           'about',\n",
       "           'above',\n",
       "           'across',\n",
       "           'after',\n",
       "           'afterwards',\n",
       "           'again',\n",
       "           'against',\n",
       "           'all',\n",
       "           'almost',\n",
       "           'alone',\n",
       "           'along',\n",
       "           'already',\n",
       "           'also',\n",
       "           'although',\n",
       "           'always',\n",
       "           'am',\n",
       "           'among',\n",
       "           'amongst',\n",
       "           'amoungst',\n",
       "           'amount',\n",
       "           'an',\n",
       "           'and',\n",
       "           'another',\n",
       "           'any',\n",
       "           'anyhow',\n",
       "           'anyone',\n",
       "           'anything',\n",
       "           'anyway',\n",
       "           'anywhere',\n",
       "           'are',\n",
       "           'around',\n",
       "           'as',\n",
       "           'at',\n",
       "           'back',\n",
       "           'be',\n",
       "           'became',\n",
       "           'because',\n",
       "           'become',\n",
       "           'becomes',\n",
       "           'becoming',\n",
       "           'been',\n",
       "           'before',\n",
       "           'beforehand',\n",
       "           'behind',\n",
       "           'being',\n",
       "           'below',\n",
       "           'beside',\n",
       "           'besides',\n",
       "           'between',\n",
       "           'beyond',\n",
       "           'bill',\n",
       "           'both',\n",
       "           'bottom',\n",
       "           'but',\n",
       "           'by',\n",
       "           'call',\n",
       "           'can',\n",
       "           'cannot',\n",
       "           'cant',\n",
       "           'co',\n",
       "           'con',\n",
       "           'could',\n",
       "           'couldnt',\n",
       "           'cry',\n",
       "           'de',\n",
       "           'describe',\n",
       "           'detail',\n",
       "           'do',\n",
       "           'done',\n",
       "           'down',\n",
       "           'due',\n",
       "           'during',\n",
       "           'each',\n",
       "           'eg',\n",
       "           'eight',\n",
       "           'either',\n",
       "           'eleven',\n",
       "           'else',\n",
       "           'elsewhere',\n",
       "           'empty',\n",
       "           'enough',\n",
       "           'etc',\n",
       "           'even',\n",
       "           'ever',\n",
       "           'every',\n",
       "           'everyone',\n",
       "           'everything',\n",
       "           'everywhere',\n",
       "           'except',\n",
       "           'few',\n",
       "           'fifteen',\n",
       "           'fifty',\n",
       "           'fill',\n",
       "           'find',\n",
       "           'fire',\n",
       "           'first',\n",
       "           'five',\n",
       "           'for',\n",
       "           'former',\n",
       "           'formerly',\n",
       "           'forty',\n",
       "           'found',\n",
       "           'four',\n",
       "           'from',\n",
       "           'front',\n",
       "           'full',\n",
       "           'further',\n",
       "           'get',\n",
       "           'give',\n",
       "           'go',\n",
       "           'had',\n",
       "           'has',\n",
       "           'hasnt',\n",
       "           'have',\n",
       "           'he',\n",
       "           'hence',\n",
       "           'her',\n",
       "           'here',\n",
       "           'hereafter',\n",
       "           'hereby',\n",
       "           'herein',\n",
       "           'hereupon',\n",
       "           'hers',\n",
       "           'herself',\n",
       "           'him',\n",
       "           'himself',\n",
       "           'his',\n",
       "           'how',\n",
       "           'however',\n",
       "           'hundred',\n",
       "           'i',\n",
       "           'ie',\n",
       "           'if',\n",
       "           'in',\n",
       "           'inc',\n",
       "           'indeed',\n",
       "           'interest',\n",
       "           'into',\n",
       "           'is',\n",
       "           'it',\n",
       "           'its',\n",
       "           'itself',\n",
       "           'keep',\n",
       "           'last',\n",
       "           'latter',\n",
       "           'latterly',\n",
       "           'least',\n",
       "           'less',\n",
       "           'ltd',\n",
       "           'made',\n",
       "           'many',\n",
       "           'may',\n",
       "           'me',\n",
       "           'meanwhile',\n",
       "           'might',\n",
       "           'mill',\n",
       "           'mine',\n",
       "           'more',\n",
       "           'moreover',\n",
       "           'most',\n",
       "           'mostly',\n",
       "           'move',\n",
       "           'much',\n",
       "           'must',\n",
       "           'my',\n",
       "           'myself',\n",
       "           'name',\n",
       "           'namely',\n",
       "           'neither',\n",
       "           'never',\n",
       "           'nevertheless',\n",
       "           'next',\n",
       "           'nine',\n",
       "           'no',\n",
       "           'nobody',\n",
       "           'none',\n",
       "           'noone',\n",
       "           'nor',\n",
       "           'not',\n",
       "           'nothing',\n",
       "           'now',\n",
       "           'nowhere',\n",
       "           'of',\n",
       "           'off',\n",
       "           'often',\n",
       "           'on',\n",
       "           'once',\n",
       "           'one',\n",
       "           'only',\n",
       "           'onto',\n",
       "           'or',\n",
       "           'other',\n",
       "           'others',\n",
       "           'otherwise',\n",
       "           'our',\n",
       "           'ours',\n",
       "           'ourselves',\n",
       "           'out',\n",
       "           'over',\n",
       "           'own',\n",
       "           'part',\n",
       "           'per',\n",
       "           'perhaps',\n",
       "           'please',\n",
       "           'put',\n",
       "           'rather',\n",
       "           're',\n",
       "           'same',\n",
       "           'see',\n",
       "           'seem',\n",
       "           'seemed',\n",
       "           'seeming',\n",
       "           'seems',\n",
       "           'serious',\n",
       "           'several',\n",
       "           'she',\n",
       "           'should',\n",
       "           'show',\n",
       "           'side',\n",
       "           'since',\n",
       "           'sincere',\n",
       "           'six',\n",
       "           'sixty',\n",
       "           'so',\n",
       "           'some',\n",
       "           'somehow',\n",
       "           'someone',\n",
       "           'something',\n",
       "           'sometime',\n",
       "           'sometimes',\n",
       "           'somewhere',\n",
       "           'still',\n",
       "           'such',\n",
       "           'system',\n",
       "           'take',\n",
       "           'ten',\n",
       "           'than',\n",
       "           'that',\n",
       "           'the',\n",
       "           'their',\n",
       "           'them',\n",
       "           'themselves',\n",
       "           'then',\n",
       "           'thence',\n",
       "           'there',\n",
       "           'thereafter',\n",
       "           'thereby',\n",
       "           'therefore',\n",
       "           'therein',\n",
       "           'thereupon',\n",
       "           'these',\n",
       "           'they',\n",
       "           'thick',\n",
       "           'thin',\n",
       "           'third',\n",
       "           'this',\n",
       "           'those',\n",
       "           'though',\n",
       "           'three',\n",
       "           'through',\n",
       "           'throughout',\n",
       "           'thru',\n",
       "           'thus',\n",
       "           'to',\n",
       "           'together',\n",
       "           'too',\n",
       "           'top',\n",
       "           'toward',\n",
       "           'towards',\n",
       "           'twelve',\n",
       "           'twenty',\n",
       "           'two',\n",
       "           'un',\n",
       "           'under',\n",
       "           'until',\n",
       "           'up',\n",
       "           'upon',\n",
       "           'us',\n",
       "           'very',\n",
       "           'via',\n",
       "           'was',\n",
       "           'we',\n",
       "           'well',\n",
       "           'were',\n",
       "           'what',\n",
       "           'whatever',\n",
       "           'when',\n",
       "           'whence',\n",
       "           'whenever',\n",
       "           'where',\n",
       "           'whereafter',\n",
       "           'whereas',\n",
       "           'whereby',\n",
       "           'wherein',\n",
       "           'whereupon',\n",
       "           'wherever',\n",
       "           'whether',\n",
       "           'which',\n",
       "           'while',\n",
       "           'whither',\n",
       "           'who',\n",
       "           'whoever',\n",
       "           'whole',\n",
       "           'whom',\n",
       "           'whose',\n",
       "           'why',\n",
       "           'will',\n",
       "           'with',\n",
       "           'within',\n",
       "           'without',\n",
       "           'would',\n",
       "           'yet',\n",
       "           'you',\n",
       "           'your',\n",
       "           'yours',\n",
       "           'yourself',\n",
       "           'yourselves'})"
      ]
     },
     "execution_count": 6,
     "metadata": {},
     "output_type": "execute_result"
    }
   ],
   "source": [
    "from sklearn.feature_extraction.stop_words import ENGLISH_STOP_WORDS\n",
    "\n",
    "ENGLISH_STOP_WORDS"
   ]
  },
  {
   "cell_type": "markdown",
   "metadata": {},
   "source": [
    "We want to remove the above words from `movie_review`. First, convert `movie_review` into a list by calling the `.split()` method. Call your new object `split_review`."
   ]
  },
  {
   "cell_type": "code",
   "execution_count": 7,
   "metadata": {},
   "outputs": [
    {
     "name": "stdout",
     "output_type": "stream",
     "text": [
      "114\n"
     ]
    },
    {
     "data": {
      "text/plain": [
       "['bromwell',\n",
       " 'high',\n",
       " 'is',\n",
       " 'nothing',\n",
       " 'short',\n",
       " 'of',\n",
       " 'brilliant',\n",
       " 'expertly',\n",
       " 'scripted',\n",
       " 'and',\n",
       " 'perfectly',\n",
       " 'delivered',\n",
       " 'this',\n",
       " 'searing',\n",
       " 'parody',\n",
       " 'of',\n",
       " 'a',\n",
       " 'students',\n",
       " 'and',\n",
       " 'teachers',\n",
       " 'at',\n",
       " 'a',\n",
       " 'south',\n",
       " 'london',\n",
       " 'public',\n",
       " 'school',\n",
       " 'leaves',\n",
       " 'you',\n",
       " 'literally',\n",
       " 'rolling',\n",
       " 'with',\n",
       " 'laughter',\n",
       " 'its',\n",
       " 'vulgar',\n",
       " 'provocative',\n",
       " 'witty',\n",
       " 'and',\n",
       " 'sharp',\n",
       " 'the',\n",
       " 'characters',\n",
       " 'are',\n",
       " 'a',\n",
       " 'superbly',\n",
       " 'caricatured',\n",
       " 'cross',\n",
       " 'section',\n",
       " 'of',\n",
       " 'british',\n",
       " 'society',\n",
       " 'or',\n",
       " 'to',\n",
       " 'be',\n",
       " 'more',\n",
       " 'accurate',\n",
       " 'of',\n",
       " 'any',\n",
       " 'society',\n",
       " 'following',\n",
       " 'the',\n",
       " 'escapades',\n",
       " 'of',\n",
       " 'keisha',\n",
       " 'latrina',\n",
       " 'and',\n",
       " 'natella',\n",
       " 'our',\n",
       " 'three',\n",
       " 'protagonists',\n",
       " 'for',\n",
       " 'want',\n",
       " 'of',\n",
       " 'a',\n",
       " 'better',\n",
       " 'term',\n",
       " 'the',\n",
       " 'show',\n",
       " 'doesnt',\n",
       " 'shy',\n",
       " 'away',\n",
       " 'from',\n",
       " 'parodying',\n",
       " 'every',\n",
       " 'imaginable',\n",
       " 'subject',\n",
       " 'political',\n",
       " 'correctness',\n",
       " 'flies',\n",
       " 'out',\n",
       " 'the',\n",
       " 'window',\n",
       " 'in',\n",
       " 'every',\n",
       " 'episode',\n",
       " 'if',\n",
       " 'you',\n",
       " 'enjoy',\n",
       " 'shows',\n",
       " 'that',\n",
       " 'arent',\n",
       " 'afraid',\n",
       " 'to',\n",
       " 'poke',\n",
       " 'fun',\n",
       " 'of',\n",
       " 'every',\n",
       " 'taboo',\n",
       " 'subject',\n",
       " 'imaginable',\n",
       " 'then',\n",
       " 'bromwell',\n",
       " 'high',\n",
       " 'will',\n",
       " 'not',\n",
       " 'disappoint']"
      ]
     },
     "execution_count": 7,
     "metadata": {},
     "output_type": "execute_result"
    }
   ],
   "source": [
    "split_review = movie_review.split()\n",
    "\n",
    "print(len(split_review))\n",
    "split_review"
   ]
  },
  {
   "cell_type": "markdown",
   "metadata": {
    "scrolled": true
   },
   "source": [
    "Now, you want to use a `for` loop to create a new list (call it `clean_words`). In each iteration of your loop, go through `split_review` and check every word. If the word is not in `ENGLISH_STOP_WORDS`, append it to your `clean_words`."
   ]
  },
  {
   "cell_type": "code",
   "execution_count": 8,
   "metadata": {
    "scrolled": true
   },
   "outputs": [
    {
     "name": "stdout",
     "output_type": "stream",
     "text": [
      "65\n"
     ]
    },
    {
     "data": {
      "text/plain": [
       "['bromwell',\n",
       " 'high',\n",
       " 'short',\n",
       " 'brilliant',\n",
       " 'expertly',\n",
       " 'scripted',\n",
       " 'perfectly',\n",
       " 'delivered',\n",
       " 'searing',\n",
       " 'parody',\n",
       " 'students',\n",
       " 'teachers',\n",
       " 'south',\n",
       " 'london',\n",
       " 'public',\n",
       " 'school',\n",
       " 'leaves',\n",
       " 'literally',\n",
       " 'rolling',\n",
       " 'laughter',\n",
       " 'vulgar',\n",
       " 'provocative',\n",
       " 'witty',\n",
       " 'sharp',\n",
       " 'characters',\n",
       " 'superbly',\n",
       " 'caricatured',\n",
       " 'cross',\n",
       " 'section',\n",
       " 'british',\n",
       " 'society',\n",
       " 'accurate',\n",
       " 'society',\n",
       " 'following',\n",
       " 'escapades',\n",
       " 'keisha',\n",
       " 'latrina',\n",
       " 'natella',\n",
       " 'protagonists',\n",
       " 'want',\n",
       " 'better',\n",
       " 'term',\n",
       " 'doesnt',\n",
       " 'shy',\n",
       " 'away',\n",
       " 'parodying',\n",
       " 'imaginable',\n",
       " 'subject',\n",
       " 'political',\n",
       " 'correctness',\n",
       " 'flies',\n",
       " 'window',\n",
       " 'episode',\n",
       " 'enjoy',\n",
       " 'shows',\n",
       " 'arent',\n",
       " 'afraid',\n",
       " 'poke',\n",
       " 'fun',\n",
       " 'taboo',\n",
       " 'subject',\n",
       " 'imaginable',\n",
       " 'bromwell',\n",
       " 'high',\n",
       " 'disappoint']"
      ]
     },
     "execution_count": 8,
     "metadata": {},
     "output_type": "execute_result"
    }
   ],
   "source": [
    "clean_words = []\n",
    "\n",
    "for word in split_review:\n",
    "    \n",
    "    if word not in ENGLISH_STOP_WORDS:\n",
    "        clean_words.append(word)\n",
    "        \n",
    "print(len(clean_words))\n",
    "clean_words"
   ]
  },
  {
   "cell_type": "markdown",
   "metadata": {
    "scrolled": true
   },
   "source": [
    "Finally, put the clean words back together to re-create `movie_review`, by using the `.join'` method on `clean_words`, separated by a space."
   ]
  },
  {
   "cell_type": "code",
   "execution_count": 9,
   "metadata": {
    "scrolled": true
   },
   "outputs": [
    {
     "data": {
      "text/plain": [
       "'bromwell high short brilliant expertly scripted perfectly delivered searing parody students teachers south london public school leaves literally rolling laughter vulgar provocative witty sharp characters superbly caricatured cross section british society accurate society following escapades keisha latrina natella protagonists want better term doesnt shy away parodying imaginable subject political correctness flies window episode enjoy shows arent afraid poke fun taboo subject imaginable bromwell high disappoint'"
      ]
     },
     "execution_count": 9,
     "metadata": {},
     "output_type": "execute_result"
    }
   ],
   "source": [
    "movie_review = \" \".join(clean_words)\n",
    "movie_review"
   ]
  },
  {
   "cell_type": "markdown",
   "metadata": {},
   "source": [
    "#### Stem words\n",
    "Finally, we will \"stem\" the words so that we take away the differences between words like \"expertly\" and \"expert\" since they have the same meaning. Read more on stemming [here](https://en.wikipedia.org/wiki/Stemming):"
   ]
  },
  {
   "cell_type": "markdown",
   "metadata": {},
   "source": [
    "We will use the `SnowballStemmer` library. import it from `nltk.stem.snowball`"
   ]
  },
  {
   "cell_type": "code",
   "execution_count": 10,
   "metadata": {},
   "outputs": [],
   "source": [
    "from nltk.stem.snowball import SnowballStemmer"
   ]
  },
  {
   "cell_type": "markdown",
   "metadata": {},
   "source": [
    "SnowballStemmer takes in a language as an argument. Since we are working with english, create a `SnowballStemmer` object and pass it `english` as the language. Call your object `stemmer`."
   ]
  },
  {
   "cell_type": "code",
   "execution_count": 11,
   "metadata": {},
   "outputs": [],
   "source": [
    "stemmer = SnowballStemmer('english')"
   ]
  },
  {
   "cell_type": "markdown",
   "metadata": {},
   "source": [
    "To check the stem of a word, call `stemmer.stem()`. Try it out with the word `running`. See what it prints!"
   ]
  },
  {
   "cell_type": "code",
   "execution_count": 12,
   "metadata": {},
   "outputs": [
    {
     "data": {
      "text/plain": [
       "'run'"
      ]
     },
     "execution_count": 12,
     "metadata": {},
     "output_type": "execute_result"
    }
   ],
   "source": [
    "stemmer.stem('running')"
   ]
  },
  {
   "cell_type": "markdown",
   "metadata": {},
   "source": [
    "Now, similar to how we removed the stop words, we want to now go through our review and stem each word. So:\n",
    "* Turn your `movie_review` back into a list using `.split()`\n",
    "* Create an empty list called `stemmed_words`\n",
    "* Use a `for` loop to go through every word in your `movie_review` and call `stemmer.stem` on it.\n",
    "* Append the newly stemmed word to your `stemmed_words` list\n",
    "* Finally, re-create movie_review into a string by calling `.join` using a space as your separator."
   ]
  },
  {
   "cell_type": "code",
   "execution_count": 13,
   "metadata": {},
   "outputs": [
    {
     "data": {
      "text/plain": [
       "'bromwel high short brilliant expert script perfect deliv sear parodi student teacher south london public school leav liter roll laughter vulgar provoc witti sharp charact superbl caricatur cross section british societi accur societi follow escapad keisha latrina natella protagonist want better term doesnt shi away parodi imagin subject polit correct fli window episod enjoy show arent afraid poke fun taboo subject imagin bromwel high disappoint'"
      ]
     },
     "execution_count": 13,
     "metadata": {},
     "output_type": "execute_result"
    }
   ],
   "source": [
    "review_list = movie_review.split()\n",
    "\n",
    "stemmed_words = []\n",
    "\n",
    "for word in review_list:\n",
    "    \n",
    "    stemmed_words.append(stemmer.stem(word))\n",
    "    \n",
    "movie_review = \" \".join(stemmed_words)\n",
    "movie_review"
   ]
  },
  {
   "cell_type": "markdown",
   "metadata": {},
   "source": [
    "Print your final movie review! It should look like this:"
   ]
  },
  {
   "cell_type": "code",
   "execution_count": null,
   "metadata": {},
   "outputs": [],
   "source": []
  },
  {
   "cell_type": "markdown",
   "metadata": {},
   "source": [
    "#### Put it all together\n",
    "We can put all the steps above together in a function, like this (pseudo-code given):"
   ]
  },
  {
   "cell_type": "code",
   "execution_count": 14,
   "metadata": {
    "collapsed": true
   },
   "outputs": [],
   "source": [
    "translator = str.maketrans('','', punctuation)\n",
    "stemmer = SnowballStemmer('english')\n",
    "\n",
    "def clean_text(raw_text):\n",
    "    \n",
    "    clean_words = []\n",
    "    \n",
    "    raw_text = raw_text.lower()\n",
    "    raw_text = raw_text.translate(translator)\n",
    "    \n",
    "    for word in raw_text.split():\n",
    "        \n",
    "        if word not in ENGLISH_STOP_WORDS:\n",
    "            \n",
    "            clean_words.append(stemmer.stem(word))\n",
    "    \n",
    "    return \" \".join(clean_words)"
   ]
  },
  {
   "cell_type": "code",
   "execution_count": 15,
   "metadata": {
    "collapsed": true
   },
   "outputs": [],
   "source": [
    "# def clean_text(raw_text):\n",
    "#     initialize empty clean_words list\n",
    "#     make raw_text lower case\n",
    "#     remove punctuation from raw_text\n",
    "#     split_words into a list\n",
    "\n",
    "#     for word in split_words:\n",
    "#         if word not in ENGLISH_STOP_WORDS:\n",
    "#             make stemmed_word\n",
    "#             append stemmed_word to clean_words\n",
    "    \n",
    "#     return ' '.join(clean_words)"
   ]
  },
  {
   "cell_type": "markdown",
   "metadata": {},
   "source": [
    "Let's see how it works. Here is an unclean review:"
   ]
  },
  {
   "cell_type": "code",
   "execution_count": 16,
   "metadata": {},
   "outputs": [
    {
     "name": "stdout",
     "output_type": "stream",
     "text": [
      "Bromwell High is nothing short of brilliant. Expertly scripted and perfectly delivered, this searing parody of a students and teachers at a South London Public School leaves you literally rolling with laughter. It's vulgar, provocative, witty and sharp. The characters are a superbly caricatured cross section of British society (or to be more accurate, of any society). Following the escapades of Keisha, Latrina and Natella, our three \"protagonists\" for want of a better term, the show doesn't shy away from parodying every imaginable subject. Political correctness flies out the window in every episode. If you enjoy shows that aren't afraid to poke fun of every taboo subject imaginable, then Bromwell High will not disappoint!\n"
     ]
    }
   ],
   "source": [
    "unclean_review = \"\"\"Bromwell High is nothing short of brilliant. Expertly scripted and perfectly delivered, this searing parody of a students and teachers at a South London Public School leaves you literally rolling with laughter. It's vulgar, provocative, witty and sharp. The characters are a superbly caricatured cross section of British society (or to be more accurate, of any society). Following the escapades of Keisha, Latrina and Natella, our three \"protagonists\" for want of a better term, the show doesn't shy away from parodying every imaginable subject. Political correctness flies out the window in every episode. If you enjoy shows that aren't afraid to poke fun of every taboo subject imaginable, then Bromwell High will not disappoint!\"\"\"\n",
    "print(unclean_review)"
   ]
  },
  {
   "cell_type": "markdown",
   "metadata": {},
   "source": [
    "Now clean it by calling the `clean_text` function above and make sure you notice the difference!"
   ]
  },
  {
   "cell_type": "code",
   "execution_count": 17,
   "metadata": {},
   "outputs": [
    {
     "data": {
      "text/plain": [
       "'bromwel high short brilliant expert script perfect deliv sear parodi student teacher south london public school leav liter roll laughter vulgar provoc witti sharp charact superbl caricatur cross section british societi accur societi follow escapad keisha latrina natella protagonist want better term doesnt shi away parodi imagin subject polit correct fli window episod enjoy show arent afraid poke fun taboo subject imagin bromwel high disappoint'"
      ]
     },
     "execution_count": 17,
     "metadata": {},
     "output_type": "execute_result"
    }
   ],
   "source": [
    "clean_review = clean_text(unclean_review)\n",
    "\n",
    "clean_review"
   ]
  },
  {
   "cell_type": "code",
   "execution_count": 18,
   "metadata": {},
   "outputs": [
    {
     "data": {
      "text/plain": [
       "True"
      ]
     },
     "execution_count": 18,
     "metadata": {},
     "output_type": "execute_result"
    }
   ],
   "source": [
    "movie_review == clean_review"
   ]
  },
  {
   "cell_type": "markdown",
   "metadata": {},
   "source": [
    "## Let's now clean up all our data!\n",
    "\n",
    "Our data can be be found in the file `all_reviews_small.csv` (some of the cleaning steps have already been done)."
   ]
  },
  {
   "cell_type": "markdown",
   "metadata": {},
   "source": [
    "import `pandas` and read `all_reviews_small.csv` into a dataframe. Call it `df_reviews`."
   ]
  },
  {
   "cell_type": "code",
   "execution_count": 19,
   "metadata": {
    "collapsed": true
   },
   "outputs": [],
   "source": [
    "import pandas as pd \n",
    "\n",
    "df_reviews = pd.read_csv('all_reviews_small.csv')"
   ]
  },
  {
   "cell_type": "markdown",
   "metadata": {},
   "source": [
    "Print the `head` and `shape`. You should see 4000 reviews, with 3 columns."
   ]
  },
  {
   "cell_type": "code",
   "execution_count": 20,
   "metadata": {},
   "outputs": [
    {
     "data": {
      "text/html": [
       "<div>\n",
       "<style>\n",
       "    .dataframe thead tr:only-child th {\n",
       "        text-align: right;\n",
       "    }\n",
       "\n",
       "    .dataframe thead th {\n",
       "        text-align: left;\n",
       "    }\n",
       "\n",
       "    .dataframe tbody tr th {\n",
       "        vertical-align: top;\n",
       "    }\n",
       "</style>\n",
       "<table border=\"1\" class=\"dataframe\">\n",
       "  <thead>\n",
       "    <tr style=\"text-align: right;\">\n",
       "      <th></th>\n",
       "      <th>label</th>\n",
       "      <th>train_test_split</th>\n",
       "      <th>text</th>\n",
       "    </tr>\n",
       "  </thead>\n",
       "  <tbody>\n",
       "    <tr>\n",
       "      <th>0</th>\n",
       "      <td>pos</td>\n",
       "      <td>train</td>\n",
       "      <td>bromwell high is a cartoon comedy it ran at th...</td>\n",
       "    </tr>\n",
       "    <tr>\n",
       "      <th>1</th>\n",
       "      <td>pos</td>\n",
       "      <td>train</td>\n",
       "      <td>homelessness or houselessness as george carlin...</td>\n",
       "    </tr>\n",
       "    <tr>\n",
       "      <th>2</th>\n",
       "      <td>pos</td>\n",
       "      <td>train</td>\n",
       "      <td>brilliant over acting by lesley ann warren bes...</td>\n",
       "    </tr>\n",
       "    <tr>\n",
       "      <th>3</th>\n",
       "      <td>pos</td>\n",
       "      <td>train</td>\n",
       "      <td>this is easily the most underrated film inn th...</td>\n",
       "    </tr>\n",
       "    <tr>\n",
       "      <th>4</th>\n",
       "      <td>pos</td>\n",
       "      <td>train</td>\n",
       "      <td>this is not the typical mel brooks film it was...</td>\n",
       "    </tr>\n",
       "  </tbody>\n",
       "</table>\n",
       "</div>"
      ],
      "text/plain": [
       "  label train_test_split                                               text\n",
       "0   pos            train  bromwell high is a cartoon comedy it ran at th...\n",
       "1   pos            train  homelessness or houselessness as george carlin...\n",
       "2   pos            train  brilliant over acting by lesley ann warren bes...\n",
       "3   pos            train  this is easily the most underrated film inn th...\n",
       "4   pos            train  this is not the typical mel brooks film it was..."
      ]
     },
     "execution_count": 20,
     "metadata": {},
     "output_type": "execute_result"
    }
   ],
   "source": [
    "df_reviews.head()"
   ]
  },
  {
   "cell_type": "code",
   "execution_count": 21,
   "metadata": {},
   "outputs": [
    {
     "data": {
      "text/plain": [
       "(4000, 3)"
      ]
     },
     "execution_count": 21,
     "metadata": {},
     "output_type": "execute_result"
    }
   ],
   "source": [
    "df_reviews.shape"
   ]
  },
  {
   "cell_type": "markdown",
   "metadata": {},
   "source": [
    "Now apply our `clean_words` function to all the reviews! Store the clean reviews in a new column called `clean_text`."
   ]
  },
  {
   "cell_type": "code",
   "execution_count": 22,
   "metadata": {
    "collapsed": true
   },
   "outputs": [],
   "source": [
    "df_reviews['clean_text'] = df_reviews['text'].apply(clean_text)"
   ]
  },
  {
   "cell_type": "markdown",
   "metadata": {
    "scrolled": true
   },
   "source": [
    "Check the `head` again to see your new dataframe's `clean_text` column."
   ]
  },
  {
   "cell_type": "code",
   "execution_count": 23,
   "metadata": {
    "scrolled": true
   },
   "outputs": [
    {
     "data": {
      "text/html": [
       "<div>\n",
       "<style>\n",
       "    .dataframe thead tr:only-child th {\n",
       "        text-align: right;\n",
       "    }\n",
       "\n",
       "    .dataframe thead th {\n",
       "        text-align: left;\n",
       "    }\n",
       "\n",
       "    .dataframe tbody tr th {\n",
       "        vertical-align: top;\n",
       "    }\n",
       "</style>\n",
       "<table border=\"1\" class=\"dataframe\">\n",
       "  <thead>\n",
       "    <tr style=\"text-align: right;\">\n",
       "      <th></th>\n",
       "      <th>label</th>\n",
       "      <th>train_test_split</th>\n",
       "      <th>text</th>\n",
       "      <th>clean_text</th>\n",
       "    </tr>\n",
       "  </thead>\n",
       "  <tbody>\n",
       "    <tr>\n",
       "      <th>0</th>\n",
       "      <td>pos</td>\n",
       "      <td>train</td>\n",
       "      <td>bromwell high is a cartoon comedy it ran at th...</td>\n",
       "      <td>bromwel high cartoon comedi ran time program s...</td>\n",
       "    </tr>\n",
       "    <tr>\n",
       "      <th>1</th>\n",
       "      <td>pos</td>\n",
       "      <td>train</td>\n",
       "      <td>homelessness or houselessness as george carlin...</td>\n",
       "      <td>homeless houseless georg carlin state issu yea...</td>\n",
       "    </tr>\n",
       "    <tr>\n",
       "      <th>2</th>\n",
       "      <td>pos</td>\n",
       "      <td>train</td>\n",
       "      <td>brilliant over acting by lesley ann warren bes...</td>\n",
       "      <td>brilliant act lesley ann warren best dramat ho...</td>\n",
       "    </tr>\n",
       "    <tr>\n",
       "      <th>3</th>\n",
       "      <td>pos</td>\n",
       "      <td>train</td>\n",
       "      <td>this is easily the most underrated film inn th...</td>\n",
       "      <td>easili underr film inn brook cannon sure flaw ...</td>\n",
       "    </tr>\n",
       "    <tr>\n",
       "      <th>4</th>\n",
       "      <td>pos</td>\n",
       "      <td>train</td>\n",
       "      <td>this is not the typical mel brooks film it was...</td>\n",
       "      <td>typic mel brook film slapstick movi actual plo...</td>\n",
       "    </tr>\n",
       "  </tbody>\n",
       "</table>\n",
       "</div>"
      ],
      "text/plain": [
       "  label train_test_split                                               text  \\\n",
       "0   pos            train  bromwell high is a cartoon comedy it ran at th...   \n",
       "1   pos            train  homelessness or houselessness as george carlin...   \n",
       "2   pos            train  brilliant over acting by lesley ann warren bes...   \n",
       "3   pos            train  this is easily the most underrated film inn th...   \n",
       "4   pos            train  this is not the typical mel brooks film it was...   \n",
       "\n",
       "                                          clean_text  \n",
       "0  bromwel high cartoon comedi ran time program s...  \n",
       "1  homeless houseless georg carlin state issu yea...  \n",
       "2  brilliant act lesley ann warren best dramat ho...  \n",
       "3  easili underr film inn brook cannon sure flaw ...  \n",
       "4  typic mel brook film slapstick movi actual plo...  "
      ]
     },
     "execution_count": 23,
     "metadata": {},
     "output_type": "execute_result"
    }
   ],
   "source": [
    "df_reviews.head()"
   ]
  },
  {
   "cell_type": "markdown",
   "metadata": {},
   "source": [
    "## Bag of Words\n",
    "In Python, the `CountVectorizer` object represents the Bag Of Words model. import it from `sklearn.feature_extraction.text`, and create a `CountVectorizer()` object called `count_vect`."
   ]
  },
  {
   "cell_type": "code",
   "execution_count": 24,
   "metadata": {
    "collapsed": true
   },
   "outputs": [],
   "source": [
    "from sklearn.feature_extraction.text import CountVectorizer\n",
    "\n",
    "count_vect = CountVectorizer()"
   ]
  },
  {
   "cell_type": "markdown",
   "metadata": {},
   "source": [
    "Now we want to convert all our `clean_text` reviews into a bag of words representation. Call `count_vect.fit_transform` on all our clean reviews (i.e. `df_review['clean_text']`) to do this. Save the result in `bag_of_words`."
   ]
  },
  {
   "cell_type": "code",
   "execution_count": 25,
   "metadata": {
    "collapsed": true
   },
   "outputs": [],
   "source": [
    "bag_of_words = count_vect.fit_transform(df_reviews['clean_text'])"
   ]
  },
  {
   "cell_type": "markdown",
   "metadata": {},
   "source": [
    "Print your `bag_of_words`!"
   ]
  },
  {
   "cell_type": "code",
   "execution_count": 26,
   "metadata": {
    "scrolled": true
   },
   "outputs": [
    {
     "data": {
      "text/plain": [
       "<4000x20719 sparse matrix of type '<class 'numpy.int64'>'\n",
       "\twith 325930 stored elements in Compressed Sparse Row format>"
      ]
     },
     "execution_count": 26,
     "metadata": {},
     "output_type": "execute_result"
    }
   ],
   "source": [
    "bag_of_words"
   ]
  },
  {
   "cell_type": "markdown",
   "metadata": {},
   "source": [
    "Because our vocabulary is so large, CountVectorizer creates a sparse matrix for memory efficiency. Check `bag_of_words.shape`. You should see 4000 vectors, each with a dimension of 20719."
   ]
  },
  {
   "cell_type": "code",
   "execution_count": 27,
   "metadata": {},
   "outputs": [
    {
     "data": {
      "text/plain": [
       "(4000, 20719)"
      ]
     },
     "execution_count": 27,
     "metadata": {},
     "output_type": "execute_result"
    }
   ],
   "source": [
    "bag_of_words.shape"
   ]
  },
  {
   "cell_type": "markdown",
   "metadata": {},
   "source": [
    "bag_of_words is now a 4000 X 20,719 feature matrix, where every row is a move review, and every column is the count of words for the word that column represents. The words can be found using the `.get_feature_names()` method.\n",
    "\n",
    "Check the 200th word in `count_vect`. It should be `adulthood`!"
   ]
  },
  {
   "cell_type": "code",
   "execution_count": 43,
   "metadata": {},
   "outputs": [
    {
     "data": {
      "text/plain": [
       "'adulthood'"
      ]
     },
     "execution_count": 43,
     "metadata": {},
     "output_type": "execute_result"
    }
   ],
   "source": [
    "count_vect.get_feature_names()[200]"
   ]
  },
  {
   "cell_type": "markdown",
   "metadata": {},
   "source": [
    "Likewise, we can do the opposite using `.vocabulary_.get()`. Check `'adulthood'`; it should be the 200th word."
   ]
  },
  {
   "cell_type": "code",
   "execution_count": 89,
   "metadata": {
    "scrolled": true
   },
   "outputs": [
    {
     "data": {
      "text/plain": [
       "{'bromwel': 2278,\n",
       " 'high': 8284,\n",
       " 'cartoon': 2762,\n",
       " 'comedi': 3537,\n",
       " 'ran': 14695,\n",
       " 'time': 18420,\n",
       " 'program': 14289,\n",
       " 'school': 15898,\n",
       " 'life': 10470,\n",
       " 'teacher': 18066,\n",
       " 'year': 20542,\n",
       " 'teach': 18065,\n",
       " 'profess': 14274,\n",
       " 'lead': 10300,\n",
       " 'believ': 1562,\n",
       " 'satir': 15781,\n",
       " 'closer': 3377,\n",
       " 'realiti': 14793,\n",
       " 'scrambl': 15956,\n",
       " 'surviv': 17782,\n",
       " 'financi': 6429,\n",
       " 'insight': 9067,\n",
       " 'student': 17536,\n",
       " 'right': 15279,\n",
       " 'pathet': 13360,\n",
       " 'pomp': 13967,\n",
       " 'petti': 13613,\n",
       " 'situat': 16581,\n",
       " 'remind': 15018,\n",
       " 'knew': 9971,\n",
       " 'saw': 15812,\n",
       " 'episod': 5825,\n",
       " 'repeat': 15061,\n",
       " 'tri': 18738,\n",
       " 'burn': 2450,\n",
       " 'immedi': 8800,\n",
       " 'recal': 14825,\n",
       " 'classic': 3302,\n",
       " 'line': 10530,\n",
       " 'inspector': 9083,\n",
       " 'sack': 15629,\n",
       " 'welcom': 20055,\n",
       " 'expect': 6052,\n",
       " 'adult': 197,\n",
       " 'age': 274,\n",
       " 'think': 18299,\n",
       " 'far': 6212,\n",
       " 'fetch': 6360,\n",
       " 'piti': 13792,\n",
       " 'isn': 9282,\n",
       " 'homeless': 8424,\n",
       " 'houseless': 8544,\n",
       " 'georg': 7203,\n",
       " 'carlin': 2717,\n",
       " 'state': 17299,\n",
       " 'issu': 9291,\n",
       " 'plan': 13812,\n",
       " 'help': 8185,\n",
       " 'street': 17485,\n",
       " 'consid': 3732,\n",
       " 'human': 8602,\n",
       " 'did': 4794,\n",
       " 'go': 7394,\n",
       " 'work': 20379,\n",
       " 'vote': 19838,\n",
       " 'matter': 11253,\n",
       " 'peopl': 13503,\n",
       " 'just': 9654,\n",
       " 'lost': 10702,\n",
       " 'caus': 2840,\n",
       " 'worri': 20400,\n",
       " 'thing': 18297,\n",
       " 'racism': 14615,\n",
       " 'war': 19917,\n",
       " 'iraq': 9228,\n",
       " 'pressur': 14182,\n",
       " 'kid': 9877,\n",
       " 'succeed': 17623,\n",
       " 'technolog': 18088,\n",
       " 'elect': 5576,\n",
       " 'inflat': 9000,\n",
       " 'll': 10593,\n",
       " 'end': 5711,\n",
       " 'given': 7319,\n",
       " 'bet': 1667,\n",
       " 'live': 10581,\n",
       " 'month': 11915,\n",
       " 'luxuri': 10836,\n",
       " 'home': 8419,\n",
       " 'entertain': 5783,\n",
       " 'set': 16171,\n",
       " 'bathroom': 1424,\n",
       " 'pictur': 13707,\n",
       " 'wall': 19895,\n",
       " 'comput': 3620,\n",
       " 'treasur': 18712,\n",
       " 'like': 10496,\n",
       " 'goddard': 7409,\n",
       " 'bolt': 1968,\n",
       " 'lesson': 10410,\n",
       " 'mel': 11435,\n",
       " 'brook': 2290,\n",
       " 'direct': 4874,\n",
       " 'star': 17275,\n",
       " 'play': 13841,\n",
       " 'rich': 15248,\n",
       " 'man': 11033,\n",
       " 'world': 20389,\n",
       " 'decid': 4453,\n",
       " 'make': 10975,\n",
       " 'sissi': 16572,\n",
       " 'rival': 15330,\n",
       " 'jefferi': 9432,\n",
       " 'tambor': 17980,\n",
       " 'thirti': 18310,\n",
       " 'day': 4391,\n",
       " 'want': 19915,\n",
       " 'futur': 6971,\n",
       " 'project': 14294,\n",
       " 'build': 2375,\n",
       " 'thrown': 18360,\n",
       " 'bracelet': 2110,\n",
       " 'leg': 10342,\n",
       " 'monitor': 11885,\n",
       " 'step': 17357,\n",
       " 'sidewalk': 16481,\n",
       " 'nicknam': 12461,\n",
       " 'pepto': 13508,\n",
       " 'vagrant': 19501,\n",
       " 'written': 20448,\n",
       " 'forehead': 6681,\n",
       " 'meet': 11418,\n",
       " 'charact': 2989,\n",
       " 'includ': 8898,\n",
       " 'woman': 20332,\n",
       " 'molli': 11852,\n",
       " 'lesley': 10405,\n",
       " 'ann': 646,\n",
       " 'warren': 19944,\n",
       " 'ex': 5990,\n",
       " 'dancer': 4319,\n",
       " 'got': 7499,\n",
       " 'divorc': 5034,\n",
       " 'lose': 10699,\n",
       " 'pal': 13205,\n",
       " 'sailor': 15670,\n",
       " 'howard': 8553,\n",
       " 'morri': 11971,\n",
       " 'fume': 6932,\n",
       " 'teddi': 18092,\n",
       " 'wilson': 20227,\n",
       " 'use': 19469,\n",
       " 'survivor': 17784,\n",
       " 'reach': 14776,\n",
       " 'mutual': 12177,\n",
       " 'agreement': 298,\n",
       " 'fight': 6395,\n",
       " 'flight': 6560,\n",
       " 'kill': 9888,\n",
       " 'love': 10725,\n",
       " 'connect': 3701,\n",
       " 'wasn': 19954,\n",
       " 'necessari': 12337,\n",
       " 'plot': 13876,\n",
       " 'stink': 17404,\n",
       " 'observ': 12747,\n",
       " 'film': 6408,\n",
       " 'prior': 14236,\n",
       " 'show': 16415,\n",
       " 'tender': 18155,\n",
       " 'compar': 3582,\n",
       " 'slapstick': 16648,\n",
       " 'blaze': 1821,\n",
       " 'saddl': 15643,\n",
       " 'young': 20583,\n",
       " 'frankenstein': 6789,\n",
       " 'spacebal': 17004,\n",
       " 'have': 8039,\n",
       " 'valuabl': 19532,\n",
       " 'hand': 7899,\n",
       " 'stupid': 17553,\n",
       " 'don': 5115,\n",
       " 'know': 9986,\n",
       " 'money': 11875,\n",
       " 'mayb': 11283,\n",
       " 'instead': 9091,\n",
       " 'monopoli': 11893,\n",
       " 'inspir': 9084,\n",
       " 'brilliant': 2239,\n",
       " 'act': 128,\n",
       " 'best': 1664,\n",
       " 'dramat': 5228,\n",
       " 'hobo': 8374,\n",
       " 'ladi': 10125,\n",
       " 'seen': 16060,\n",
       " 'scene': 15862,\n",
       " 'cloth': 3382,\n",
       " 'warehous': 19925,\n",
       " 'second': 16036,\n",
       " 'corn': 3855,\n",
       " 'face': 6137,\n",
       " 'good': 7457,\n",
       " 'lawyer': 10282,\n",
       " 'superb': 17711,\n",
       " 'accus': 106,\n",
       " 'turncoat': 18879,\n",
       " 'sell': 16080,\n",
       " 'boss': 2051,\n",
       " 'dishonest': 4938,\n",
       " 'shrug': 16441,\n",
       " 'indiffer': 8939,\n",
       " 'say': 15818,\n",
       " 'funni': 6944,\n",
       " 'word': 20372,\n",
       " 'jeffrey': 9435,\n",
       " 'favorit': 6272,\n",
       " 'later': 10236,\n",
       " 'larri': 10214,\n",
       " 'sander': 15723,\n",
       " 'fantast': 6208,\n",
       " 'mad': 10895,\n",
       " 'millionair': 11640,\n",
       " 'crush': 4139,\n",
       " 'ghetto': 7238,\n",
       " 'malevol': 11002,\n",
       " 'usual': 19478,\n",
       " 'hospit': 8517,\n",
       " 'invad': 9195,\n",
       " 'demolit': 4578,\n",
       " 'site': 16578,\n",
       " 'look': 10666,\n",
       " 'big': 1713,\n",
       " 'digger': 4820,\n",
       " 'bleed': 1829,\n",
       " 'movi': 12045,\n",
       " 'get': 7224,\n",
       " 'better': 1676,\n",
       " 'quit': 14589,\n",
       " 'easili': 5450,\n",
       " 'underr': 19114,\n",
       " 'inn': 9037,\n",
       " 'cannon': 2649,\n",
       " 'sure': 17757,\n",
       " 'flaw': 6538,\n",
       " 'doe': 5075,\n",
       " 'realist': 14792,\n",
       " 'view': 19710,\n",
       " 'unlik': 19257,\n",
       " 'citizen': 3267,\n",
       " 'kane': 9708,\n",
       " 'gave': 7116,\n",
       " 'loung': 10720,\n",
       " 'singer': 16552,\n",
       " 'titan': 18460,\n",
       " 'italian': 9295,\n",
       " 'idiot': 8740,\n",
       " 'joke': 9551,\n",
       " 'fall': 6175,\n",
       " 'flat': 6528,\n",
       " 'lovabl': 10724,\n",
       " 'way': 19988,\n",
       " 'pull': 14436,\n",
       " 'stori': 17439,\n",
       " 'tradit': 18634,\n",
       " 'revil': 15194,\n",
       " 'member': 11456,\n",
       " 'societi': 16859,\n",
       " 'truli': 18820,\n",
       " 'impress': 8853,\n",
       " 'fisher': 6479,\n",
       " 'king': 9915,\n",
       " 'crap': 3995,\n",
       " 'complaint': 3597,\n",
       " 'cast': 2789,\n",
       " 'director': 4876,\n",
       " 'writer': 20446,\n",
       " 'typic': 18938,\n",
       " 'actual': 141,\n",
       " 'follow': 6638,\n",
       " 'lesli': 10406,\n",
       " 'rate': 14745,\n",
       " 'actress': 140,\n",
       " 'moment': 11856,\n",
       " 'flesh': 6551,\n",
       " 'bit': 1771,\n",
       " 'probabl': 14250,\n",
       " 'cut': 4232,\n",
       " 'room': 15456,\n",
       " 'worth': 20406,\n",
       " 'price': 14210,\n",
       " 'rent': 15051,\n",
       " 'overal': 13070,\n",
       " 'job': 9519,\n",
       " 'characterist': 2993,\n",
       " 'speak': 17043,\n",
       " 'audienc': 1047,\n",
       " 'actor': 137,\n",
       " 'part': 13312,\n",
       " 'comed': 3536,\n",
       " 'robin': 15371,\n",
       " 'william': 20223,\n",
       " 'quirki': 14587,\n",
       " 'insan': 9057,\n",
       " 'recent': 14835,\n",
       " 'thriller': 18347,\n",
       " 'fame': 6186,\n",
       " 'hybrid': 8673,\n",
       " 'drama': 5227,\n",
       " 'mix': 11789,\n",
       " 'new': 12413,\n",
       " 'se': 16007,\n",
       " 'mysteri': 12192,\n",
       " 'suspens': 17793,\n",
       " 'vehicl': 19596,\n",
       " 'attempt': 1022,\n",
       " 'locat': 10613,\n",
       " 'sick': 16470,\n",
       " 'boy': 2099,\n",
       " 'keeper': 9807,\n",
       " 'sandra': 15731,\n",
       " 'oh': 12810,\n",
       " 'rori': 15468,\n",
       " 'culkin': 4174,\n",
       " 'pretti': 14198,\n",
       " 'news': 12425,\n",
       " 'report': 15076,\n",
       " 'close': 3376,\n",
       " 'achiev': 114,\n",
       " 'goal': 7397,\n",
       " 'fail': 6156,\n",
       " 'guid': 7733,\n",
       " 'inspect': 9082,\n",
       " 'amus': 565,\n",
       " 'felt': 6329,\n",
       " 'watch': 19963,\n",
       " 'guy': 7798,\n",
       " 'perform': 13534,\n",
       " 'action': 132,\n",
       " 'person': 13575,\n",
       " 'perspect': 13581,\n",
       " 'real': 14789,\n",
       " 'abl': 37,\n",
       " 'subscrib': 17593,\n",
       " 'premis': 14155,\n",
       " 'definit': 4509,\n",
       " 'friday': 6862,\n",
       " 'saturday': 15791,\n",
       " 'night': 12480,\n",
       " 'fare': 6217,\n",
       " 'fiend': 6386,\n",
       " 'yes': 20558,\n",
       " 'art': 898,\n",
       " 'success': 17624,\n",
       " 'slow': 16718,\n",
       " 'pace': 13167,\n",
       " 'unfold': 19194,\n",
       " 'nice': 12447,\n",
       " 'volum': 19824,\n",
       " 'notic': 12640,\n",
       " 'happen': 7937,\n",
       " 'fine': 6432,\n",
       " 'sexual': 16206,\n",
       " 'angl': 624,\n",
       " 'unnecessari': 19282,\n",
       " 'affect': 226,\n",
       " 'enjoy': 5750,\n",
       " 'core': 3846,\n",
       " 'engag': 5731,\n",
       " 'doesn': 5077,\n",
       " 'rush': 15583,\n",
       " 'grip': 7663,\n",
       " 'wonder': 20336,\n",
       " 'light': 10485,\n",
       " 'desir': 4668,\n",
       " 'unexpected': 19174,\n",
       " 'lay': 10284,\n",
       " 'hear': 8101,\n",
       " 'thrill': 18346,\n",
       " 'short': 16396,\n",
       " 'critic': 4072,\n",
       " 'acclaim': 91,\n",
       " 'psycholog': 14400,\n",
       " 'base': 1390,\n",
       " 'true': 18814,\n",
       " 'event': 5958,\n",
       " 'gabriel': 6984,\n",
       " 'celebr': 2879,\n",
       " 'late': 10234,\n",
       " 'talk': 17967,\n",
       " 'host': 8518,\n",
       " 'captiv': 2685,\n",
       " 'harrow': 7998,\n",
       " 'listen': 10560,\n",
       " 'adopt': 187,\n",
       " 'mother': 12006,\n",
       " 'toni': 18535,\n",
       " 'collett': 3498,\n",
       " 'troubl': 18802,\n",
       " 'question': 14561,\n",
       " 'aris': 846,\n",
       " 'find': 6431,\n",
       " 'drawn': 5240,\n",
       " 'widen': 20184,\n",
       " 'hide': 8277,\n",
       " 'dead': 4402,\n",
       " 'secret': 16040,\n",
       " 'accord': 99,\n",
       " 'offici': 12794,\n",
       " 'synopsi': 17901,\n",
       " 'realli': 14796,\n",
       " 'stop': 17434,\n",
       " 'read': 14781,\n",
       " 'comment': 3556,\n",
       " 'ms': 12065,\n",
       " 'chop': 3168,\n",
       " 'sent': 16118,\n",
       " 'delet': 4538,\n",
       " 'land': 10173,\n",
       " 'overkil': 13101,\n",
       " 'natur': 12290,\n",
       " 'physic': 13686,\n",
       " 'mental': 11482,\n",
       " 'ailment': 317,\n",
       " 'obvious': 12755,\n",
       " 'mr': 12062,\n",
       " 'return': 15177,\n",
       " 'york': 20576,\n",
       " 'possibl': 14042,\n",
       " 'blind': 1840,\n",
       " 'revel': 15183,\n",
       " 'certain': 2919,\n",
       " 'highway': 8291,\n",
       " 'video': 19697,\n",
       " 'tape': 18004,\n",
       " 'benefit': 1599,\n",
       " 'edit': 5501,\n",
       " 'bobbi': 1914,\n",
       " 'cannaval': 2643,\n",
       " 'jess': 9462,\n",
       " 'initi': 9029,\n",
       " 'coupl': 3937,\n",
       " 'establish': 5908,\n",
       " 'relationship': 14977,\n",
       " 'stage': 17226,\n",
       " 'exemplari': 6025,\n",
       " 'offer': 12791,\n",
       " 'except': 6002,\n",
       " 'strong': 17515,\n",
       " 'character': 2990,\n",
       " 'gay': 7122,\n",
       " 'imperson': 8833,\n",
       " 'anna': 647,\n",
       " 'joe': 9533,\n",
       " 'morton': 11987,\n",
       " 'ash': 928,\n",
       " 'pete': 13603,\n",
       " 'logand': 10631,\n",
       " 'perfect': 13529,\n",
       " 'donna': 5122,\n",
       " 'belong': 1578,\n",
       " 'creepi': 4034,\n",
       " 'hall': 7865,\n",
       " 'correct': 3877,\n",
       " 'psycho': 14395,\n",
       " 'organ': 12953,\n",
       " 'give': 7317,\n",
       " 'award': 1133,\n",
       " 'women': 20334,\n",
       " 'slighter': 16688,\n",
       " 'dispers': 4970,\n",
       " 'role': 15417,\n",
       " 'consider': 3733,\n",
       " 'patrick': 13373,\n",
       " 'stettner': 17377,\n",
       " 'evok': 5981,\n",
       " 'hitchcock': 8344,\n",
       " 'sandwich': 15734,\n",
       " 'vend': 19613,\n",
       " 'machin': 10873,\n",
       " 'final': 6427,\n",
       " 'armistead': 869,\n",
       " 'maupin': 11264,\n",
       " 'terri': 18195,\n",
       " 'anderson': 596,\n",
       " 'deserv': 4665,\n",
       " 'gratitud': 7588,\n",
       " 'attend': 1024,\n",
       " 'john': 9541,\n",
       " 'cullum': 4177,\n",
       " 'lisa': 10556,\n",
       " 'emeri': 5660,\n",
       " 'becki': 1495,\n",
       " 'baker': 1257,\n",
       " 'dir': 4872,\n",
       " 'hitchcockian': 8345,\n",
       " 'stand': 17258,\n",
       " 'low': 10742,\n",
       " 'key': 9853,\n",
       " 'fan': 6193,\n",
       " 'near': 12326,\n",
       " 'paranoia': 13281,\n",
       " 'associ': 970,\n",
       " 'norm': 12606,\n",
       " 'latest': 10237,\n",
       " 'derang': 4639,\n",
       " 'scenario': 15861,\n",
       " 'radio': 14627,\n",
       " 'name': 12227,\n",
       " 'pen': 13476,\n",
       " 'airwav': 343,\n",
       " 'accumul': 103,\n",
       " 'interest': 9134,\n",
       " 'form': 6711,\n",
       " 'submit': 17588,\n",
       " 'manuscript': 11096,\n",
       " 'travail': 18697,\n",
       " 'youth': 20590,\n",
       " 'editor': 5503,\n",
       " 'disturb': 5012,\n",
       " 'ultim': 18980,\n",
       " 'intrigu': 9183,\n",
       " 'nightmarish': 12490,\n",
       " 'exist': 6039,\n",
       " 'abduct': 20,\n",
       " 'abus': 71,\n",
       " 'rescu': 15103,\n",
       " 'nurs': 12694,\n",
       " 'excel': 6001,\n",
       " 'correspond': 3881,\n",
       " 'reveal': 15182,\n",
       " 'die': 4802,\n",
       " 'aid': 311,\n",
       " 'sudden': 17643,\n",
       " 'doubt': 5173,\n",
       " 'devious': 4726,\n",
       " 'ulterior': 18979,\n",
       " 'motiv': 12017,\n",
       " 'seed': 16053,\n",
       " 'plant': 13820,\n",
       " 'estrang': 5916,\n",
       " 'lover': 10736,\n",
       " 'departur': 4619,\n",
       " 'citi': 3266,\n",
       " 'apart': 729,\n",
       " 'emot': 5678,\n",
       " 'tailspin': 17946,\n",
       " 'grown': 7700,\n",
       " 'tempest': 18136,\n",
       " 'teacup': 18067,\n",
       " 'investig': 9205,\n",
       " 'background': 1203,\n",
       " 'discov': 4917,\n",
       " 'truth': 18828,\n",
       " 'didn': 4800,\n",
       " 'anticip': 690,\n",
       " 'wrote': 20451,\n",
       " 'screenplay': 15971,\n",
       " 'novic': 12657,\n",
       " 'hoax': 8369,\n",
       " 'run': 15570,\n",
       " 'tilt': 18415,\n",
       " 'old': 12832,\n",
       " 'fashion': 6241,\n",
       " 'pot': 14054,\n",
       " 'boiler': 1951,\n",
       " 'conflict': 3677,\n",
       " 'heart': 8107,\n",
       " 'genuin': 7190,\n",
       " 'number': 12686,\n",
       " 'fact': 6144,\n",
       " 'escap': 5880,\n",
       " 'unsettl': 19353,\n",
       " 'dread': 5242,\n",
       " 'trait': 18650,\n",
       " 'leav': 10322,\n",
       " 'unment': 19273,\n",
       " 'underlin': 19108,\n",
       " 'desper': 4678,\n",
       " 'rattl': 14752,\n",
       " 'gas': 7090,\n",
       " 'eventu': 5959,\n",
       " 'repetit': 15067,\n",
       " 'predict': 14133,\n",
       " 'despit': 4682,\n",
       " 'piec': 13715,\n",
       " 'hoodwink': 8470,\n",
       " 'pay': 13402,\n",
       " 'inner': 9040,\n",
       " 'voic': 19812,\n",
       " 'care': 2703,\n",
       " 'hope': 8481,\n",
       " 'god': 7405,\n",
       " 'bless': 1835,\n",
       " 'constant': 3743,\n",
       " 'shoot': 16387,\n",
       " 'foot': 6655,\n",
       " 'dumb': 5340,\n",
       " 'decad': 4440,\n",
       " 'death': 4419,\n",
       " 'smoochi': 16771,\n",
       " 'bomb': 1970,\n",
       " 'came': 2595,\n",
       " 'cult': 4182,\n",
       " 'especi': 5893,\n",
       " 'insomnia': 9078,\n",
       " 'hour': 8537,\n",
       " 'photo': 13674,\n",
       " 'mediocr': 11409,\n",
       " 'review': 15192,\n",
       " 'quick': 14567,\n",
       " 'dvd': 5389,\n",
       " 'releas': 14981,\n",
       " 'period': 13544,\n",
       " 'chill': 3128,\n",
       " 'serial': 16152,\n",
       " 'killer': 9890,\n",
       " 'danger': 4324,\n",
       " 'concept': 3629,\n",
       " 'case': 2773,\n",
       " 'fraud': 6802,\n",
       " 'confirm': 3675,\n",
       " 'autobiographi': 1091,\n",
       " 'child': 3117,\n",
       " 'anthoni': 679,\n",
       " 'godbi': 7407,\n",
       " 'johnson': 9545,\n",
       " 'suffer': 17649,\n",
       " 'horrif': 8499,\n",
       " 'contract': 3777,\n",
       " 'result': 15152,\n",
       " 'move': 12041,\n",
       " 'onlin': 12874,\n",
       " 'confus': 3682,\n",
       " 'feel': 6310,\n",
       " 'portray': 14031,\n",
       " 'resurfac': 15154,\n",
       " 'mind': 11659,\n",
       " 'sociopath': 16864,\n",
       " 'caretak': 2710,\n",
       " 'littl': 10576,\n",
       " 'miss': 11754,\n",
       " 'sunshin': 17708,\n",
       " 'camera': 2599,\n",
       " 'thought': 18331,\n",
       " 'stare': 17281,\n",
       " 'take': 17957,\n",
       " 'sort': 16974,\n",
       " 'underst': 19118,\n",
       " 'generat': 7164,\n",
       " 'nomin': 12565,\n",
       " 'academi': 80,\n",
       " 'incred': 8916,\n",
       " 'scari': 15846,\n",
       " 'dark': 4348,\n",
       " 'recommend': 14853,\n",
       " 'prepar': 14161,\n",
       " 'strang': 17461,\n",
       " 'taken': 17958,\n",
       " 'display': 4972,\n",
       " 'said': 15667,\n",
       " 'version': 19656,\n",
       " 'past': 13342,\n",
       " 'gloss': 7379,\n",
       " 'hollywood': 8407,\n",
       " 'restraint': 15148,\n",
       " 'captur': 2687,\n",
       " 'fragil': 6761,\n",
       " 'essenc': 5904,\n",
       " 'let': 10413,\n",
       " 'struggl': 17521,\n",
       " 'trust': 18825,\n",
       " 'personnel': 13580,\n",
       " 'introduc': 9186,\n",
       " 'player': 13845,\n",
       " 'smallest': 16739,\n",
       " 'chang': 2969,\n",
       " 'irrevoc': 9258,\n",
       " 'request': 15096,\n",
       " 'book': 2004,\n",
       " 'turn': 18876,\n",
       " 'strength': 17490,\n",
       " 'carri': 2748,\n",
       " 'forward': 6733,\n",
       " 'bad': 1221,\n",
       " 'avoid': 1123,\n",
       " 'averag': 1116,\n",
       " 'american': 527,\n",
       " 'chanc': 2959,\n",
       " 'touch': 18593,\n",
       " 'qualiti': 14527,\n",
       " 'forget': 6701,\n",
       " 'steal': 17326,\n",
       " 'screen': 15969,\n",
       " 'presenc': 14174,\n",
       " 'hack': 7819,\n",
       " 'opinion': 12909,\n",
       " 'tens': 18168,\n",
       " 'open': 12901,\n",
       " 'semi': 16090,\n",
       " 'truck': 18811,\n",
       " 'transit': 18672,\n",
       " 'laps': 10205,\n",
       " 'photographi': 13676,\n",
       " 'unusu': 19402,\n",
       " 'color': 3511,\n",
       " 'evil': 5975,\n",
       " 'ill': 8765,\n",
       " 'born': 2043,\n",
       " 'modern': 11820,\n",
       " 'vigil': 19716,\n",
       " 'accru': 102,\n",
       " 'inform': 9009,\n",
       " 'realm': 14797,\n",
       " 'pyschosi': 14508,\n",
       " 'kept': 9840,\n",
       " 'psychologist': 14402,\n",
       " 'counselor': 3918,\n",
       " 'psychiatrist': 14393,\n",
       " 'busi': 2472,\n",
       " 'occasion': 12758,\n",
       " 'phenomenon': 13637,\n",
       " 'knowledg': 9988,\n",
       " 'remedi': 15015,\n",
       " 'entitl': 5792,\n",
       " 'listner': 10563,\n",
       " 'tell': 18126,\n",
       " 'popular': 14004,\n",
       " 'call': 2574,\n",
       " 'noon': 12590,\n",
       " 'spend': 17076,\n",
       " 'even': 5957,\n",
       " 'enthral': 5784,\n",
       " 'vivid': 19801,\n",
       " 'lifestyl': 10478,\n",
       " 'authent': 1085,\n",
       " 'veneer': 19616,\n",
       " 'admit': 177,\n",
       " 'longer': 10658,\n",
       " 'abandon': 12,\n",
       " 'friend': 6868,\n",
       " 'seek': 16056,\n",
       " 'shelter': 16315,\n",
       " 'deepen': 4483,\n",
       " 'despair': 4676,\n",
       " 'isol': 9285,\n",
       " 'ask': 943,\n",
       " 'need': 12351,\n",
       " 'peter': 13604,\n",
       " 'depict': 4621,\n",
       " 'earli': 5430,\n",
       " 'brutal': 2322,\n",
       " 'parent': 13291,\n",
       " 'soon': 16945,\n",
       " 'en': 5698,\n",
       " 'wrap': 20422,\n",
       " 'elus': 5633,\n",
       " 'bizarr': 1780,\n",
       " 'tale': 17962,\n",
       " 'torn': 18566,\n",
       " 'medic': 11406,\n",
       " 'nightmar': 12489,\n",
       " 'pure': 14471,\n",
       " 'pop': 13994,\n",
       " 'comic': 3547,\n",
       " 'prove': 14356,\n",
       " 'summer': 17677,\n",
       " 'entir': 5789,\n",
       " 'note': 12635,\n",
       " 'add': 152,\n",
       " 'great': 7605,\n",
       " 'mom': 11855,\n",
       " 'goe': 7415,\n",
       " 'half': 7859,\n",
       " 'general': 7161,\n",
       " 'minut': 11694,\n",
       " 'shorter': 16400,\n",
       " 'sundanc': 17692,\n",
       " 'imag': 8780,\n",
       " 'told': 18504,\n",
       " 'straightforward': 17454,\n",
       " 'refresh': 14918,\n",
       " 'sucker': 17636,\n",
       " 'punch': 14451,\n",
       " 'preview': 14205,\n",
       " 'ad': 143,\n",
       " 'disappoint': 4889,\n",
       " 'left': 10339,\n",
       " 'imagin': 8782,\n",
       " 'minor': 11688,\n",
       " 'quibbl': 14566,\n",
       " 'somewhat': 16927,\n",
       " 'odd': 12773,\n",
       " 'differ': 4812,\n",
       " 'guarante': 7719,\n",
       " 'kind': 9904,\n",
       " 'won': 20335,\n",
       " 'plus': 13893,\n",
       " 'come': 3534,\n",
       " 'content': 3768,\n",
       " 'hard': 7954,\n",
       " 'determin': 4699,\n",
       " 'outcom': 13018,\n",
       " 'hell': 8174,\n",
       " 'damn': 4310,\n",
       " 'origin': 12962,\n",
       " 'previous': 14206,\n",
       " 'foundat': 6740,\n",
       " 'deliveri': 4550,\n",
       " 'wast': 19957,\n",
       " 'eeri': 5517,\n",
       " 'wait': 19880,\n",
       " 'canadian': 2623,\n",
       " 'season': 16025,\n",
       " 'file': 6403,\n",
       " 'cheap': 3030,\n",
       " 'hokey': 8391,\n",
       " 'jump': 9633,\n",
       " 'seat': 16027,\n",
       " 'fade': 6152,\n",
       " 'away': 1135,\n",
       " 'fals': 6180,\n",
       " 'climax': 3354,\n",
       " 'fix': 6494,\n",
       " 'problem': 14256,\n",
       " 'held': 8168,\n",
       " 'attent': 1025,\n",
       " 'shine': 16351,\n",
       " 'enamor': 5701,\n",
       " 'friendship': 6870,\n",
       " 'met': 11524,\n",
       " 'contact': 3759,\n",
       " 'telephon': 18113,\n",
       " 'boyfriend': 2101,\n",
       " 'rais': 14662,\n",
       " 'prompt': 14307,\n",
       " 'arrang': 883,\n",
       " 'perman': 13552,\n",
       " 'impact': 8816,\n",
       " 'memor': 11460,\n",
       " 'somber': 16915,\n",
       " 'silenc': 16506,\n",
       " 'thank': 18238,\n",
       " 'see': 16052,\n",
       " 'logic': 10634,\n",
       " 'bonus': 1995,\n",
       " 'storytel': 17446,\n",
       " 'scraggi': 15955,\n",
       " 'hush': 8656,\n",
       " 'hypnot': 8693,\n",
       " 'tone': 18531,\n",
       " 'acquaint': 123,\n",
       " 'fourteen': 6744,\n",
       " 'wisconsin': 20276,\n",
       " 'detail': 4693,\n",
       " 'boot': 2024,\n",
       " 'compel': 3588,\n",
       " 'partner': 13324,\n",
       " 'hiv': 8354,\n",
       " 'guardian': 7721,\n",
       " 'stetner': 17376,\n",
       " 'lot': 10703,\n",
       " 'faster': 6247,\n",
       " 'min': 11653,\n",
       " 'genr': 7180,\n",
       " 'keep': 9806,\n",
       " 'storylin': 17445,\n",
       " 'lean': 10309,\n",
       " 'clear': 3325,\n",
       " 'various': 19568,\n",
       " 'hole': 8398,\n",
       " 'sew': 16188,\n",
       " 'familiar': 6189,\n",
       " 'loop': 10677,\n",
       " 've': 19589,\n",
       " 'heard': 8102,\n",
       " 'narrat': 12259,\n",
       " 'support': 17747,\n",
       " 'waitress': 19882,\n",
       " 'restaur': 15142,\n",
       " 'collet': 3497,\n",
       " 'frequent': 6844,\n",
       " 'small': 16737,\n",
       " 'notch': 12634,\n",
       " 'mood': 11923,\n",
       " 'chilli': 3130,\n",
       " 'lone': 10652,\n",
       " 'exterior': 6091,\n",
       " 'terrif': 18198,\n",
       " 'frame': 6770,\n",
       " 'tie': 18391,\n",
       " 'particular': 13320,\n",
       " 'stick': 17385,\n",
       " 'draw': 5237,\n",
       " 'hint': 8323,\n",
       " 'lurk': 10823,\n",
       " 'tension': 18170,\n",
       " 'mild': 11613,\n",
       " 'manner': 11073,\n",
       " 'relat': 14976,\n",
       " 'obsess': 12748,\n",
       " 'intent': 9123,\n",
       " 'product': 14270,\n",
       " 'appar': 755,\n",
       " 'complet': 3600,\n",
       " 'effort': 5525,\n",
       " 'taupin': 18043,\n",
       " 'commend': 3555,\n",
       " 'absolut': 59,\n",
       " 'intens': 9121,\n",
       " 'spot': 17158,\n",
       " 'liter': 10567,\n",
       " 'phone': 13667,\n",
       " 'ring': 15294,\n",
       " 'sound': 16984,\n",
       " 'edg': 5494,\n",
       " 'rest': 15141,\n",
       " 'choic': 3158,\n",
       " 'script': 15983,\n",
       " 'humor': 8617,\n",
       " 'sprinkl': 17176,\n",
       " 'point': 13920,\n",
       " 'gone': 7450,\n",
       " 'weak': 20002,\n",
       " 'ident': 8730,\n",
       " 'crisi': 4065,\n",
       " 'atmospher': 1010,\n",
       " 'firesid': 6462,\n",
       " 'ghost': 7240,\n",
       " 'awkward': 1140,\n",
       " 'deliber': 4541,\n",
       " 'plod': 13874,\n",
       " 'flashi': 6526,\n",
       " 'earth': 5438,\n",
       " 'shatter': 16282,\n",
       " 'showdown': 16417,\n",
       " 'heaven': 8129,\n",
       " 'zone': 20699,\n",
       " 'reserv': 15108,\n",
       " 'convent': 3795,\n",
       " 'suppos': 17748,\n",
       " 'generic': 7165,\n",
       " 'everyman': 5966,\n",
       " 'avatar': 1109,\n",
       " 'enter': 5781,\n",
       " 'oscar': 12984,\n",
       " 'shouldn': 16410,\n",
       " 'win': 20233,\n",
       " 'shot': 16406,\n",
       " 'percent': 13512,\n",
       " 'picki': 13700,\n",
       " 'complain': 3596,\n",
       " 'wrong': 20449,\n",
       " 'count': 3919,\n",
       " 'cap': 2662,\n",
       " 'contain': 3761,\n",
       " 'led': 10331,\n",
       " 'unfortun': 19200,\n",
       " 'poster': 14045,\n",
       " 'reason': 14807,\n",
       " 'disdain': 4925,\n",
       " 'team': 18070,\n",
       " 'smoke': 16766,\n",
       " 'crack': 3974,\n",
       " 'merit': 11502,\n",
       " 'orient': 12960,\n",
       " 'checklist': 3042,\n",
       " 'shred': 16430,\n",
       " 'commerci': 3560,\n",
       " 'horror': 8501,\n",
       " 'approach': 785,\n",
       " 'amaz': 502,\n",
       " 'stay': 17316,\n",
       " 'faith': 6169,\n",
       " 'long': 10657,\n",
       " 'ago': 288,\n",
       " 'broke': 2273,\n",
       " 'free': 6819,\n",
       " 'chain': 2935,\n",
       " 'type': 18934,\n",
       " 'flourish': 6591,\n",
       " 'increas': 8915,\n",
       " 'entangl': 5779,\n",
       " 'refer': 14908,\n",
       " 'sutdi': 17798,\n",
       " 'cours': 3941,\n",
       " 'lick': 10460,\n",
       " 'simpli': 16538,\n",
       " 'substanti': 17601,\n",
       " 'relev': 14985,\n",
       " 'exampl': 5997,\n",
       " 'alleg': 426,\n",
       " 'drug': 5289,\n",
       " 'habit': 7817,\n",
       " 'lol': 10641,\n",
       " 'moodi': 11924,\n",
       " 'allow': 441,\n",
       " 'creat': 4020,\n",
       " 'sought': 16979,\n",
       " 'messi': 11520,\n",
       " 'fast': 6245,\n",
       " ...}"
      ]
     },
     "execution_count": 89,
     "metadata": {},
     "output_type": "execute_result"
    }
   ],
   "source": [
    "count_vect.vocabulary_"
   ]
  },
  {
   "cell_type": "code",
   "execution_count": 84,
   "metadata": {},
   "outputs": [
    {
     "data": {
      "text/plain": [
       "200"
      ]
     },
     "execution_count": 84,
     "metadata": {},
     "output_type": "execute_result"
    }
   ],
   "source": [
    "count_vect.vocabulary_.get('adulthood')"
   ]
  },
  {
   "cell_type": "markdown",
   "metadata": {},
   "source": [
    "## TF-IDF\n",
    "\n",
    "In Python, the `TfidfVectorizer` object represents the Bag Of Words model. import it from `sklearn.feature_extraction.text`, and create a `CountVectorizer()` object called `tf_idf_vect`."
   ]
  },
  {
   "cell_type": "code",
   "execution_count": 86,
   "metadata": {
    "collapsed": true
   },
   "outputs": [],
   "source": [
    "from sklearn.feature_extraction.text import TfidfVectorizer\n",
    "\n",
    "tf_idf_vect = TfidfVectorizer()"
   ]
  },
  {
   "cell_type": "markdown",
   "metadata": {},
   "source": [
    "Again, just like you did with the `CountVectorizer`, fit and transform your clean text reviews and store the result in a variable called `tf_idf`. "
   ]
  },
  {
   "cell_type": "code",
   "execution_count": 87,
   "metadata": {
    "collapsed": true
   },
   "outputs": [],
   "source": [
    "tf_idf = tf_idf_vect.fit_transform(df_reviews['clean_text'])"
   ]
  },
  {
   "cell_type": "markdown",
   "metadata": {},
   "source": [
    "Print `tf_idf` and notice how the values are different. Print the `shape` to confirm that the dimensions are the same as `bag_of_words`."
   ]
  },
  {
   "cell_type": "code",
   "execution_count": 88,
   "metadata": {
    "scrolled": true
   },
   "outputs": [
    {
     "name": "stdout",
     "output_type": "stream",
     "text": [
      "  (0, 2278)\t0.585588780724\n",
      "  (0, 8284)\t0.265921160639\n",
      "  (0, 2762)\t0.0902999132203\n",
      "  (0, 3537)\t0.0563874590305\n",
      "  (0, 14695)\t0.0945774478549\n",
      "  (0, 18420)\t0.032304584135\n",
      "  (0, 14289)\t0.0916098400766\n",
      "  (0, 15898)\t0.204555821375\n",
      "  (0, 10470)\t0.0473356073499\n",
      "  (0, 18066)\t0.361199652881\n",
      "  (0, 20542)\t0.0443336898392\n",
      "  (0, 18065)\t0.0906180654526\n",
      "  (0, 14274)\t0.109971880498\n",
      "  (0, 10300)\t0.0568227934732\n",
      "  (0, 1562)\t0.0509203455254\n",
      "  (0, 15781)\t0.0949876038184\n",
      "  (0, 3377)\t0.0981740657368\n",
      "  (0, 14793)\t0.0775818392717\n",
      "  (0, 15956)\t0.127698101194\n",
      "  (0, 17782)\t0.0858828642895\n",
      "  (0, 6429)\t0.105583461765\n",
      "  (0, 9067)\t0.0906180654526\n",
      "  (0, 17536)\t0.312759136853\n",
      "  (0, 15279)\t0.0536901910038\n",
      "  (0, 13360)\t0.0876761686291\n",
      "  :\t:\n",
      "  (3999, 19905)\t0.0916471906954\n",
      "  (3999, 12051)\t0.1126913754\n",
      "  (3999, 18145)\t0.220035597446\n",
      "  (3999, 2181)\t0.0854704855585\n",
      "  (3999, 8399)\t0.0939076675673\n",
      "  (3999, 9101)\t0.101129378855\n",
      "  (3999, 16251)\t0.0986796855085\n",
      "  (3999, 20030)\t0.104072028647\n",
      "  (3999, 14070)\t0.0956348466385\n",
      "  (3999, 14343)\t0.120182159803\n",
      "  (3999, 10388)\t0.115963568798\n",
      "  (3999, 11260)\t0.0986796855085\n",
      "  (3999, 1737)\t0.107757321851\n",
      "  (3999, 2627)\t0.0975929607709\n",
      "  (3999, 7984)\t0.0931148218702\n",
      "  (3999, 16167)\t0.120182159803\n",
      "  (3999, 15580)\t0.104072028647\n",
      "  (3999, 2384)\t0.120182159803\n",
      "  (3999, 14091)\t0.126127929878\n",
      "  (3999, 5970)\t0.126127929878\n",
      "  (3999, 11414)\t0.378383789635\n",
      "  (3999, 7988)\t0.126127929878\n",
      "  (3999, 10987)\t0.252255859757\n",
      "  (3999, 7662)\t0.126127929878\n",
      "  (3999, 16866)\t0.126127929878\n"
     ]
    }
   ],
   "source": [
    "print(tf_idf)"
   ]
  },
  {
   "cell_type": "markdown",
   "metadata": {},
   "source": [
    "Again, because our dataset has so many unique words, tfidf vectorizer creates a sparse matrix.\n",
    "\n",
    "This matrix will again be 4000 X 20,719, where each column is the term frequence (count of times that word appears in the review) times the by the inverse document frequency (basically total number of reviews / number of reviews the word appears in)."
   ]
  },
  {
   "cell_type": "markdown",
   "metadata": {},
   "source": [
    "Let's compare the differences in the two feature sets for one of our reviews.\n",
    "\n",
    "Print the 9084th word in any one of our objects (`count_vect` or `tf_idf_vect`). It should be `inspir`."
   ]
  },
  {
   "cell_type": "code",
   "execution_count": 91,
   "metadata": {},
   "outputs": [
    {
     "data": {
      "text/plain": [
       "'inspir'"
      ]
     },
     "execution_count": 91,
     "metadata": {},
     "output_type": "execute_result"
    }
   ],
   "source": [
    "tf_idf_vect.get_feature_names()[9084]"
   ]
  },
  {
   "cell_type": "markdown",
   "metadata": {},
   "source": [
    "Let's see how often it appears in Review 1: print the value of `(1, 9084)` in your `bag_of_words`."
   ]
  },
  {
   "cell_type": "code",
   "execution_count": 94,
   "metadata": {},
   "outputs": [
    {
     "data": {
      "text/plain": [
       "1"
      ]
     },
     "execution_count": 94,
     "metadata": {},
     "output_type": "execute_result"
    }
   ],
   "source": [
    "bag_of_words[(1, 9084)]"
   ]
  },
  {
   "cell_type": "markdown",
   "metadata": {},
   "source": [
    "You should see `1` !\n",
    "\n",
    "What about it's tf-idf value?"
   ]
  },
  {
   "cell_type": "code",
   "execution_count": 95,
   "metadata": {},
   "outputs": [
    {
     "data": {
      "text/plain": [
       "0.045896271833222251"
      ]
     },
     "execution_count": 95,
     "metadata": {},
     "output_type": "execute_result"
    }
   ],
   "source": [
    "tf_idf[(1, 9084)]"
   ]
  },
  {
   "cell_type": "markdown",
   "metadata": {},
   "source": [
    "You should see `0.04589627183322225`.\n",
    "\n",
    "Notice how much smaller it is? This means it must appear in a good deal of other reviews\n",
    "\n",
    "### Classification\n",
    "\n",
    "Now, let's make a classifier to actually feed our feature data and train/test it. We'll use a Logistic Regression Classifier.\n",
    "\n",
    "First, do this for the `CountVectorizer`. Use `train_test_split` with `test_size=0.1` and `random_state=42`. Your features will simply be your `bag_of_words` and your labels will be `df_reviews['label']`. Because our data is balanced, you can use `accuracy_score` if you like to check the accuracy of your classifier."
   ]
  },
  {
   "cell_type": "code",
   "execution_count": 97,
   "metadata": {},
   "outputs": [
    {
     "data": {
      "text/plain": [
       "0.88300000000000001"
      ]
     },
     "execution_count": 97,
     "metadata": {},
     "output_type": "execute_result"
    }
   ],
   "source": [
    "from sklearn.metrics import accuracy_score\n",
    "from sklearn.model_selection import train_test_split\n",
    "from sklearn.linear_model import LogisticRegression\n",
    "\n",
    "X_train, X_test, y_train, y_test = train_test_split(bag_of_words, df_reviews['label'], random_state = 42)\n",
    "\n",
    "logistic_model = LogisticRegression().fit(X_train, y_train)\n",
    "logistic_model.score(X_test, y_test)"
   ]
  },
  {
   "cell_type": "markdown",
   "metadata": {},
   "source": [
    "88.75 %, not bad! \n",
    "\n",
    "Now let's try using our `TfidfVectorizer` and see if it performs better. Use the same parameters as above, the only different is that your features are `tf_idf`."
   ]
  },
  {
   "cell_type": "code",
   "execution_count": 99,
   "metadata": {},
   "outputs": [
    {
     "data": {
      "text/plain": [
       "0.90800000000000003"
      ]
     },
     "execution_count": 99,
     "metadata": {},
     "output_type": "execute_result"
    }
   ],
   "source": [
    "X_train, X_test, y_train, y_test = train_test_split(tf_idf, df_reviews['label'], random_state = 42)\n",
    "\n",
    "logistic_model = LogisticRegression().fit(X_train, y_train)\n",
    "logistic_model.score(X_test, y_test)"
   ]
  },
  {
   "cell_type": "markdown",
   "metadata": {},
   "source": [
    "90.25% ! So in this case, tf-idf is a little more accurate than bag of words."
   ]
  },
  {
   "cell_type": "markdown",
   "metadata": {},
   "source": [
    "## Doc2Vec"
   ]
  },
  {
   "cell_type": "markdown",
   "metadata": {},
   "source": [
    "The `Doc2Vec` documentation can be found here:<br>\n",
    "https://radimrehurek.com/gensim/models/doc2vec.html\n",
    "\n",
    "A readable, easy introduction to `Doc2Vec` is available in this medium article:<br>\n",
    "https://medium.com/scaleabout/a-gentle-introduction-to-doc2vec-db3e8c0cce5e\n",
    "\n",
    "You don't need to understand the main details about how `Doc2Vec` works, but it's more important that you understand how to use it -- and *that* will be the goal of this lab."
   ]
  },
  {
   "cell_type": "markdown",
   "metadata": {},
   "source": [
    "## Setup\n",
    "\n",
    "First of all, you need to install `gensim`, which is the module that contains `Doc2Vec`. Open up your Terminal (on Mac) or Command Prompt (on Windows) and type in the following:\n",
    "\n",
    "`easy_install -U gensim`\n",
    "\n",
    "### Modules\n",
    "\n",
    "We use `gensim`, since `gensim` has a much more readable implementation of `Word2Vec` (and `Doc2Vec`). We also use `numpy` for general array manipulation, and `sklearn` for Logistic Regression classifier."
   ]
  },
  {
   "cell_type": "markdown",
   "metadata": {},
   "source": [
    "First, from `gensim.models` import `Doc2Vec`."
   ]
  },
  {
   "cell_type": "code",
   "execution_count": 100,
   "metadata": {
    "collapsed": true
   },
   "outputs": [],
   "source": [
    "from gensim.models import Doc2Vec"
   ]
  },
  {
   "cell_type": "markdown",
   "metadata": {},
   "source": [
    "Next, import the usual suspects: `numpy`, and `LogisticRegression` from `sklearn.linear_model`"
   ]
  },
  {
   "cell_type": "code",
   "execution_count": 101,
   "metadata": {
    "collapsed": true
   },
   "outputs": [],
   "source": [
    "import numpy as np"
   ]
  },
  {
   "cell_type": "markdown",
   "metadata": {},
   "source": [
    "### Building a Doc2Vec model\n",
    "\n",
    "The way Doc2Vec works is that, each 'document' (lyrics of a song, words in an email, etc.) needs to be fully 'cleaned' (no punctuation, stemmed, etc.) and on a single line each in a `.txt` file. In our case, we have 50,000 movie reviews, split into 4 different `.txt` files:\n",
    "\n",
    "- `test-neg.txt`: 12500 negative movie reviews from the test data\n",
    "- `test-pos.txt`: 12500 positive movie reviews from the test data\n",
    "- `train-neg.txt`: 12500 negative movie reviews from the training data\n",
    "- `train-pos.txt`: 12500 positive movie reviews from the training data\n",
    "\n",
    "#### Check out the above text files and briefly go through them.\n",
    "\n",
    "You can look at the `Doc2VecHelperFunctions.ipynb` file if you are curious to see how the text files are converted into our Doc2Vec model, `imdb.d2v`.\n",
    "\n",
    "If you're curious about the parameters, do read the Doc2Vec/Word2Vec [documentation](\n",
    "https://radimrehurek.com/gensim/models/doc2vec.html)."
   ]
  },
  {
   "cell_type": "markdown",
   "metadata": {},
   "source": [
    "For this lab, the model is already prepared. It is named `imdb.d2v`. Load it by calling `Doc2Vec.load('./imdb.d2v')` and save it in a variable called `model`."
   ]
  },
  {
   "cell_type": "code",
   "execution_count": 102,
   "metadata": {},
   "outputs": [
    {
     "data": {
      "text/plain": [
       "<gensim.models.doc2vec.Doc2Vec at 0x7f4270fd2ac8>"
      ]
     },
     "execution_count": 102,
     "metadata": {},
     "output_type": "execute_result"
    }
   ],
   "source": [
    "model = Doc2Vec.load('imdb.d2v')\n",
    "\n",
    "model"
   ]
  },
  {
   "cell_type": "markdown",
   "metadata": {},
   "source": [
    "### Inspecting the Model\n",
    "\n",
    "Let's see what our model gives. If we want to see what words are most 'similar' to `'good'`, we can call `model.wv.most_similar('good')` on our model. Try it out!"
   ]
  },
  {
   "cell_type": "code",
   "execution_count": 105,
   "metadata": {},
   "outputs": [
    {
     "data": {
      "text/plain": [
       "[('decent', 0.7383522987365723),\n",
       " ('great', 0.7068538069725037),\n",
       " ('bad', 0.6740086078643799),\n",
       " ('fine', 0.6538172364234924),\n",
       " ('solid', 0.6522963643074036),\n",
       " ('nice', 0.6312328577041626),\n",
       " ('excellent', 0.5867268443107605),\n",
       " ('terrific', 0.5646075010299683),\n",
       " ('poor', 0.5573974847793579),\n",
       " ('strong', 0.5290022492408752)]"
      ]
     },
     "execution_count": 105,
     "metadata": {},
     "output_type": "execute_result"
    }
   ],
   "source": [
    "model.wv.most_similar('good')"
   ]
  },
  {
   "cell_type": "markdown",
   "metadata": {},
   "source": [
    "Are some of the words above used in similar ways in which you would use the word 'good' ? If yes, that means our model has kind of understood the *meaning* of the word `good`. This is really awesome (and important), since we are doing sentiment analysis."
   ]
  },
  {
   "cell_type": "markdown",
   "metadata": {},
   "source": [
    "We can also look deeper and see what the model actually contains. To see the feature vector for the **first review in the training set for negative reviews**, check `model['TRAIN_NEG_0']`:"
   ]
  },
  {
   "cell_type": "code",
   "execution_count": 106,
   "metadata": {},
   "outputs": [
    {
     "data": {
      "text/plain": [
       "array([-0.17747681,  0.12533455, -0.00807998, -0.27478257, -0.37068164,\n",
       "       -0.98255026, -0.66956019, -1.39830267, -0.91717923, -0.08588421,\n",
       "       -0.36857808, -0.07579076,  0.71824706, -1.08625567, -0.10960834,\n",
       "       -0.44040376,  0.27019891, -1.38475251,  0.09918125, -0.22871178,\n",
       "        0.58657205,  0.11869906,  0.0109016 , -1.43884468, -0.02760231,\n",
       "       -0.69180745, -0.83712697, -0.94328868, -0.18288958,  1.02588558,\n",
       "        1.47531867, -0.61216003, -0.79371619, -0.41774765, -0.98401558,\n",
       "       -0.62903881, -0.84463   , -0.47075298,  1.03370035,  0.16890025,\n",
       "        0.25671875, -0.04080485,  1.42234731, -0.46564919,  0.18151864,\n",
       "       -0.02523474, -0.93274307, -0.44220942,  1.30658138,  0.16119041,\n",
       "        0.35378784, -0.14659157,  0.53616524, -0.05212237, -0.4788619 ,\n",
       "       -0.56306207, -1.01424718, -0.87481618, -0.76901954,  0.97877818,\n",
       "       -0.84171081,  1.30183542, -0.43847433,  0.84468371, -1.24555826,\n",
       "       -0.36123884, -0.08434324,  0.7177968 , -0.14318839,  0.66041988,\n",
       "       -1.15007293,  2.14481473, -0.72963482, -0.10005339,  0.68124223,\n",
       "        1.00349641, -0.53086513, -0.40793309, -0.53510636,  0.45169264,\n",
       "       -0.4843348 , -0.33100647, -0.26935723,  0.28381577, -0.20652126,\n",
       "        1.19724929, -0.18612857,  0.65577394,  1.2491647 , -0.89319313,\n",
       "        0.42341894,  0.76446998, -0.60099739, -1.18780923, -0.25362119,\n",
       "       -0.16883609, -0.82799464, -0.3644976 ,  0.48102927, -0.40319595], dtype=float32)"
      ]
     },
     "execution_count": 106,
     "metadata": {},
     "output_type": "execute_result"
    }
   ],
   "source": [
    "model['TRAIN_NEG_0']"
   ]
  },
  {
   "cell_type": "code",
   "execution_count": 107,
   "metadata": {},
   "outputs": [
    {
     "data": {
      "text/plain": [
       "100"
      ]
     },
     "execution_count": 107,
     "metadata": {},
     "output_type": "execute_result"
    }
   ],
   "source": [
    "len(model['TRAIN_NEG_0'])"
   ]
  },
  {
   "cell_type": "markdown",
   "metadata": {},
   "source": [
    "## Classifying Sentiments\n",
    "\n",
    "### Training Vectors\n",
    "\n",
    "Now let's use these vectors to train a classifier. First, we must extract the training vectors. Remember that we have a total of 25000 training reviews, with equal numbers of positive and negative ones (12500 positive, 12500 negative). There are two parallel arrays, one containing the vectors (`train_arrays`) and the other containing the labels (`train_labels`). We simply put the positive ones at the first half of the array, and the negative ones at the second half."
   ]
  },
  {
   "cell_type": "markdown",
   "metadata": {},
   "source": [
    "We will use a `for` loop to go through all `25000` training reviews, adding the vector for each review in `train_arrays` and it's corresponding label (`1` for a positive review, and `0` for a negative review) in `train_labels`.\n",
    "\n",
    "#### Read the code below and ask your Instructor/TA if you have any questions!"
   ]
  },
  {
   "cell_type": "code",
   "execution_count": 109,
   "metadata": {
    "collapsed": true
   },
   "outputs": [],
   "source": [
    "train_arrays = np.zeros((25000, 100))\n",
    "train_labels = np.zeros(25000)\n",
    "\n",
    "for i in range(12500):\n",
    "     prefix_train_pos = 'TRAIN_POS_' + str(i)\n",
    "     prefix_train_neg = 'TRAIN_NEG_' + str(i)\n",
    "     train_arrays[i] = model[prefix_train_pos]\n",
    "     train_arrays[12500 + i] = model[prefix_train_neg]\n",
    "     train_labels[i] = 1\n",
    "     train_labels[12500 + i] = 0"
   ]
  },
  {
   "cell_type": "markdown",
   "metadata": {},
   "source": [
    "Print `train_arrays`. You should see rows and rows of vectors representing each sentence."
   ]
  },
  {
   "cell_type": "code",
   "execution_count": 110,
   "metadata": {
    "scrolled": true
   },
   "outputs": [
    {
     "data": {
      "text/plain": [
       "array([[-0.09523074,  0.10516991, -0.07066526, ..., -1.50765908,\n",
       "         0.37817046,  0.45435163],\n",
       "       [ 0.15591073, -1.00769353, -0.29605961, ..., -1.45913517,\n",
       "         1.49660051,  1.72079444],\n",
       "       [-0.49689472, -0.63923281, -1.31833351, ..., -2.12929225,\n",
       "         0.9443326 ,  0.63289094],\n",
       "       ..., \n",
       "       [-0.2536512 , -0.89831948, -0.24197805, ...,  1.50290143,\n",
       "         1.01230037, -0.3398996 ],\n",
       "       [-2.00854516,  0.64646685, -0.45022076, ...,  1.535079  ,\n",
       "         0.13337763,  0.06628666],\n",
       "       [-0.50857788,  0.85919422, -0.78979629, ..., -0.4446539 ,\n",
       "         1.05848455,  0.50058913]])"
      ]
     },
     "execution_count": 110,
     "metadata": {},
     "output_type": "execute_result"
    }
   ],
   "source": [
    "train_arrays"
   ]
  },
  {
   "cell_type": "markdown",
   "metadata": {},
   "source": [
    "Print `train_labels`. They are simply category labels for the sentence vectors -- 1 representing positive and 0 for negative."
   ]
  },
  {
   "cell_type": "code",
   "execution_count": 111,
   "metadata": {},
   "outputs": [
    {
     "data": {
      "text/plain": [
       "array([ 1.,  1.,  1., ...,  0.,  0.,  0.])"
      ]
     },
     "execution_count": 111,
     "metadata": {},
     "output_type": "execute_result"
    }
   ],
   "source": [
    "train_labels"
   ]
  },
  {
   "cell_type": "markdown",
   "metadata": {},
   "source": [
    "### Testing Vectors\n",
    "\n",
    "We do the same for testing data -- data that we are going to feed to the classifier after we've trained it using the training data. This allows us to evaluate our results. The process is pretty much the same as extracting the results for the training data.\n",
    "\n",
    "#### Read the code below and ask your Instructor/TA if you have any questions!"
   ]
  },
  {
   "cell_type": "code",
   "execution_count": 113,
   "metadata": {
    "collapsed": true
   },
   "outputs": [],
   "source": [
    "test_arrays = np.zeros((25000, 100))\n",
    "test_labels = np.zeros(25000)\n",
    "\n",
    "for i in range(12500):\n",
    "    prefix_test_pos = 'TEST_POS_' + str(i)\n",
    "    prefix_test_neg = 'TEST_NEG_' + str(i)\n",
    "    test_arrays[i] = model[prefix_test_pos]\n",
    "    test_arrays[12500 + i] = model[prefix_test_neg]\n",
    "    test_labels[i] = 1\n",
    "    test_labels[12500 + i] = 0"
   ]
  },
  {
   "cell_type": "markdown",
   "metadata": {},
   "source": [
    "### Classification\n",
    "\n",
    "Now, train a logistic regression classifier using the training data.\n",
    "\n",
    "Create a LogisticRegression Classifier, and `fit` it to your `train_arrays` and `train_labels`."
   ]
  },
  {
   "cell_type": "code",
   "execution_count": 114,
   "metadata": {
    "collapsed": true
   },
   "outputs": [],
   "source": [
    "classifier = LogisticRegression().fit(train_arrays, train_labels)"
   ]
  },
  {
   "cell_type": "markdown",
   "metadata": {},
   "source": [
    "Call `score` on your classifier, passing in your `test_arrays` and `test_labels`."
   ]
  },
  {
   "cell_type": "code",
   "execution_count": 115,
   "metadata": {},
   "outputs": [
    {
     "data": {
      "text/plain": [
       "0.86439999999999995"
      ]
     },
     "execution_count": 115,
     "metadata": {},
     "output_type": "execute_result"
    }
   ],
   "source": [
    "classifier.score(test_arrays, test_labels)"
   ]
  },
  {
   "cell_type": "markdown",
   "metadata": {},
   "source": [
    "You should see that we have achieved nearly 87% accuracy for sentiment analysis."
   ]
  },
  {
   "cell_type": "markdown",
   "metadata": {},
   "source": [
    "Finally, if you have time, try running your classifier on a bunch of individual reviews and see if you agree with the predictions! You can do this in the following steps:\n",
    "* Choose a review from one of the `.txt` files.\n",
    "* You can grab it's corresponding vector by using the correct index in your model.\n",
    "    * For example, for the 3rd negative test review, the feature vector is `model['TEST_NEG_2']`\n",
    "* Call `classifier.predict` on your feature vector to see the prediction (you may have to use `.reshape` to get it in the correct format).\n",
    "    * A result of 1 means it's a positive review, and 0 means negative.\n",
    "* Do you agree :) ?"
   ]
  },
  {
   "cell_type": "code",
   "execution_count": 118,
   "metadata": {},
   "outputs": [
    {
     "data": {
      "text/plain": [
       "array([ 0.])"
      ]
     },
     "execution_count": 118,
     "metadata": {},
     "output_type": "execute_result"
    }
   ],
   "source": [
    "# Try a random review\n",
    "predict_1 = classifier.predict(model['TEST_NEG_2'].reshape(1, 100))\n",
    "\n",
    "predict_1"
   ]
  },
  {
   "cell_type": "code",
   "execution_count": 119,
   "metadata": {},
   "outputs": [
    {
     "data": {
      "text/plain": [
       "array([ 1.])"
      ]
     },
     "execution_count": 119,
     "metadata": {},
     "output_type": "execute_result"
    }
   ],
   "source": [
    "# Try a random review\n",
    "predict_666 = classifier.predict(model['TEST_POS_666'].reshape(1, 100))\n",
    "\n",
    "predict_666"
   ]
  },
  {
   "cell_type": "code",
   "execution_count": null,
   "metadata": {
    "collapsed": true
   },
   "outputs": [],
   "source": [
    "# Try a random review"
   ]
  },
  {
   "cell_type": "code",
   "execution_count": null,
   "metadata": {
    "collapsed": true
   },
   "outputs": [],
   "source": [
    "# Try a random review"
   ]
  },
  {
   "cell_type": "code",
   "execution_count": null,
   "metadata": {
    "collapsed": true
   },
   "outputs": [],
   "source": [
    "# Try a random review"
   ]
  },
  {
   "cell_type": "markdown",
   "metadata": {},
   "source": [
    "Again, ask your Instructor or TA if you have any questions. Good luck on the Assignment!"
   ]
  },
  {
   "cell_type": "markdown",
   "metadata": {},
   "source": [
    "## References\n",
    "\n",
    "- Doc2vec: https://radimrehurek.com/gensim/models/doc2vec.html\n",
    "- Paper that inspired this: https://arxiv.org/pdf/1405.4053.pdf"
   ]
  },
  {
   "cell_type": "markdown",
   "metadata": {},
   "source": [
    "---"
   ]
  }
 ],
 "metadata": {
  "kernelspec": {
   "display_name": "Python 3",
   "language": "python",
   "name": "python3"
  },
  "language_info": {
   "codemirror_mode": {
    "name": "ipython",
    "version": 3
   },
   "file_extension": ".py",
   "mimetype": "text/x-python",
   "name": "python",
   "nbconvert_exporter": "python",
   "pygments_lexer": "ipython3",
   "version": "3.6.3"
  },
  "widgets": {
   "state": {},
   "version": "1.1.1"
  }
 },
 "nbformat": 4,
 "nbformat_minor": 1
}
