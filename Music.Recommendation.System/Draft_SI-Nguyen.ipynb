{
 "cells": [
  {
   "cell_type": "markdown",
   "metadata": {},
   "source": [
    "Step 1: predict moods:\n",
    "\n",
    "Moods were consolidated into 9 classes: happy, energetic, sad, trippy, seductive, aggressive, glassy, earthy, and funky\n",
    "\n",
    "        X1 - audio feature --> Y1 - probabilities of moods\n",
    "        X2 - lyrics feature --> Y2 - probabilities of moods\n",
    "        \n",
    "        Y = mean(Y1, Y2)\n",
    "        "
   ]
  },
  {
   "cell_type": "markdown",
   "metadata": {},
   "source": [
    "Step 3: similarity:\n",
    "\n",
    "    - moods: cosine_similarity \n",
    "    - genre: cosine_similarity \n",
    "    - audio feature: cosine similarity"
   ]
  },
  {
   "cell_type": "code",
   "execution_count": 1,
   "metadata": {
    "collapsed": true
   },
   "outputs": [],
   "source": [
    "import pandas as pd\n",
    "import numpy as np\n",
    "import pickle\n",
    "\n",
    "from sklearn.preprocessing import MultiLabelBinarizer, StandardScaler\n",
    "\n",
    "from sklearn.metrics import classification_report\n",
    "\n",
    "from sklearn.model_selection import train_test_split, GridSearchCV\n",
    "\n",
    "from sklearn.feature_extraction.text import TfidfVectorizer\n",
    "\n",
    "from sklearn.svm import SVC\n",
    "from sklearn.linear_model import LogisticRegression\n",
    "from sklearn.ensemble import RandomForestClassifier, VotingClassifier\n",
    "\n",
    "from sklearn.pipeline import Pipeline\n",
    "from sklearn.base import clone\n",
    "\n",
    "import matplotlib.pylab as plt\n",
    "import seaborn as sns\n",
    "sns.set_style(\"whitegrid\")\n",
    "\n",
    "% matplotlib inline"
   ]
  },
  {
   "cell_type": "code",
   "execution_count": 2,
   "metadata": {
    "collapsed": true
   },
   "outputs": [
    {
     "ename": "FileNotFoundError",
     "evalue": "[Errno 2] No such file or directory: 'audio_lyrics_moods.pickle'",
     "output_type": "error",
     "traceback": [
      "\u001b[0;31m---------------------------------------------------------------------------\u001b[0m",
      "\u001b[0;31mFileNotFoundError\u001b[0m                         Traceback (most recent call last)",
      "\u001b[0;32m<ipython-input-2-c7c9674c4517>\u001b[0m in \u001b[0;36m<module>\u001b[0;34m()\u001b[0m\n\u001b[0;32m----> 1\u001b[0;31m \u001b[0mdf\u001b[0m \u001b[0;34m=\u001b[0m \u001b[0mpickle\u001b[0m\u001b[0;34m.\u001b[0m\u001b[0mload\u001b[0m\u001b[0;34m(\u001b[0m\u001b[0mopen\u001b[0m\u001b[0;34m(\u001b[0m\u001b[0;34m'audio_lyrics_moods.pickle'\u001b[0m\u001b[0;34m,\u001b[0m \u001b[0;34m'rb'\u001b[0m\u001b[0;34m)\u001b[0m\u001b[0;34m)\u001b[0m\u001b[0;34m\u001b[0m\u001b[0m\n\u001b[0m",
      "\u001b[0;31mFileNotFoundError\u001b[0m: [Errno 2] No such file or directory: 'audio_lyrics_moods.pickle'"
     ]
    }
   ],
   "source": [
    "df = pickle.load(open('audio_lyrics_moods.pickle', 'rb'))"
   ]
  },
  {
   "cell_type": "code",
   "execution_count": null,
   "metadata": {},
   "outputs": [],
   "source": [
    "df.head()"
   ]
  },
  {
   "cell_type": "code",
   "execution_count": null,
   "metadata": {
    "collapsed": true
   },
   "outputs": [],
   "source": [
    "np.random.seed(99)"
   ]
  },
  {
   "cell_type": "markdown",
   "metadata": {},
   "source": [
    "## Audio"
   ]
  },
  {
   "cell_type": "code",
   "execution_count": null,
   "metadata": {},
   "outputs": [],
   "source": [
    "audio_moods = df.drop('lyrics_features', axis = 1)\n",
    "audio_moods.dropna(how = 'any', inplace = True)\n",
    "audio_moods.reset_index(drop = True, inplace = True)\n",
    "audio_moods.head()"
   ]
  },
  {
   "cell_type": "code",
   "execution_count": null,
   "metadata": {
    "collapsed": true
   },
   "outputs": [],
   "source": [
    "mlb_audio = MultiLabelBinarizer()"
   ]
  },
  {
   "cell_type": "code",
   "execution_count": null,
   "metadata": {},
   "outputs": [],
   "source": [
    "y_audio = mlb_audio.fit_transform(audio_moods['moods'])\n",
    "y_audio"
   ]
  },
  {
   "cell_type": "code",
   "execution_count": null,
   "metadata": {},
   "outputs": [],
   "source": [
    "y_audio.shape"
   ]
  },
  {
   "cell_type": "code",
   "execution_count": null,
   "metadata": {},
   "outputs": [],
   "source": [
    "mlb_audio.classes_"
   ]
  },
  {
   "cell_type": "code",
   "execution_count": null,
   "metadata": {},
   "outputs": [],
   "source": [
    "X_1 = audio_moods.drop('moods', axis = 1)\n",
    "X_1.head()"
   ]
  },
  {
   "cell_type": "code",
   "execution_count": null,
   "metadata": {},
   "outputs": [],
   "source": [
    "X_audio = np.array(X_1)\n",
    "X_audio.shape"
   ]
  },
  {
   "cell_type": "code",
   "execution_count": null,
   "metadata": {
    "collapsed": true
   },
   "outputs": [],
   "source": [
    "audio_train_test_list = train_test_split(X_audio, y_audio, test_size = 0.33)"
   ]
  },
  {
   "cell_type": "code",
   "execution_count": null,
   "metadata": {
    "collapsed": true
   },
   "outputs": [],
   "source": [
    "def optimizing (estimator, param_grid, train_test_list, n_jobs):\n",
    "    \n",
    "    output = {}\n",
    "    X_train, X_test, y_train, y_test = train_test_list\n",
    "    \n",
    "    grid = GridSearchCV(estimator, param_grid, refit = True, n_jobs = n_jobs)\n",
    "    grid.fit(X_train, y_train) \n",
    "    \n",
    "    output['estimator'] = grid.best_estimator_\n",
    "    output['params'] = grid.best_params_\n",
    "    output['prediction'] = grid.predict(X_test)\n",
    "    \n",
    "    return output\n",
    "\n",
    "\n",
    "def estimator_searching (init_classifiers, param_grids, train_test_list, n_jobs):\n",
    "    \n",
    "    classifiers = {method : {} for method in init_classifiers.keys()}\n",
    "    \n",
    "    for method in classifiers.keys():\n",
    "        \n",
    "        estimator = init_classifiers [method]\n",
    "        param_grid = param_grids [method]\n",
    "        \n",
    "        classifiers[method] = optimizing(estimator, param_grid, train_test_list, n_jobs)\n",
    "    \n",
    "    return classifiers\n",
    "\n",
    "def show_selected_params (classifiers, train_test_list):\n",
    "        \n",
    "    y_true = train_test_list[3]\n",
    "        \n",
    "    for model, result in classifiers.items():\n",
    "        print(\"    Accuracy in {} model: {}\".format(model, accuracy_score(y_true, result['prediction'])))\n",
    "        print(\" ...with selected params: {} \\n\".format(result['params']))\n",
    "\n",
    "    print(\"\\n\")"
   ]
  },
  {
   "cell_type": "code",
   "execution_count": null,
   "metadata": {
    "collapsed": true
   },
   "outputs": [],
   "source": [
    "audio_init_classifiers = {\n",
    "        'rfc': Pipeline([ ('scaling', StandardScaler()), ('clf', RandomForestClassifier()) ])\n",
    "    }\n",
    "\n",
    "audio_param_grids = {    \n",
    "    'rfc': \n",
    "    {\n",
    "        'clf__n_estimators': [5, 10, 100],\n",
    "        'clf__min_samples_split': [2, 3, 4, 5, 10],\n",
    "        'clf__max_features': ['sqrt', 'log2', 'auto']\n",
    "    }\n",
    "}"
   ]
  },
  {
   "cell_type": "code",
   "execution_count": null,
   "metadata": {
    "collapsed": true
   },
   "outputs": [],
   "source": [
    "audio_rfc = estimator_searching(audio_init_classifiers, audio_param_grids, audio_train_test_list, n_jobs=2)"
   ]
  },
  {
   "cell_type": "code",
   "execution_count": null,
   "metadata": {},
   "outputs": [],
   "source": [
    "audio_rfc"
   ]
  },
  {
   "cell_type": "code",
   "execution_count": null,
   "metadata": {},
   "outputs": [],
   "source": [
    "print(classification_report(audio_train_test_list[3], audio_rfc['rfc']['prediction']))"
   ]
  },
  {
   "cell_type": "code",
   "execution_count": null,
   "metadata": {
    "collapsed": true
   },
   "outputs": [],
   "source": [
    "rfc = RandomForestClassifier(n_estimators= 100, class_weight='balanced')\n",
    "rfc.fit(audio_train_test_list[0], audio_train_test_list[2])\n",
    "\n",
    "rfc_prediction = rfc.predict(audio_train_test_list[1])"
   ]
  },
  {
   "cell_type": "code",
   "execution_count": null,
   "metadata": {},
   "outputs": [],
   "source": [
    "print(classification_report(audio_train_test_list[3], rfc_prediction))"
   ]
  },
  {
   "cell_type": "code",
   "execution_count": null,
   "metadata": {
    "collapsed": true
   },
   "outputs": [],
   "source": [
    "import pickle\n",
    "\n",
    "pickle.dump(rfc, open('audio_predict_moods.rfc.pickle', 'wb'))"
   ]
  },
  {
   "cell_type": "markdown",
   "metadata": {},
   "source": [
    "## Lyrics"
   ]
  },
  {
   "cell_type": "code",
   "execution_count": 72,
   "metadata": {},
   "outputs": [
    {
     "data": {
      "text/html": [
       "<div>\n",
       "<style>\n",
       "    .dataframe thead tr:only-child th {\n",
       "        text-align: right;\n",
       "    }\n",
       "\n",
       "    .dataframe thead th {\n",
       "        text-align: left;\n",
       "    }\n",
       "\n",
       "    .dataframe tbody tr th {\n",
       "        vertical-align: top;\n",
       "    }\n",
       "</style>\n",
       "<table border=\"1\" class=\"dataframe\">\n",
       "  <thead>\n",
       "    <tr style=\"text-align: right;\">\n",
       "      <th></th>\n",
       "      <th>lyrics_features</th>\n",
       "      <th>moods</th>\n",
       "    </tr>\n",
       "  </thead>\n",
       "  <tbody>\n",
       "    <tr>\n",
       "      <th>0</th>\n",
       "      <td>oppa gangnam style gangnam style najeneun ttas...</td>\n",
       "      <td>[energetic]</td>\n",
       "    </tr>\n",
       "    <tr>\n",
       "      <th>1</th>\n",
       "      <td>late ve ve lose sleep dream thing babi ve ve p...</td>\n",
       "      <td>[happy]</td>\n",
       "    </tr>\n",
       "    <tr>\n",
       "      <th>2</th>\n",
       "      <td>parti rock yeah woo let s parti rock hous toni...</td>\n",
       "      <td>[happy, aggressive]</td>\n",
       "    </tr>\n",
       "    <tr>\n",
       "      <th>3</th>\n",
       "      <td>alagamun lan weh wakun heya hanun gon alagamun...</td>\n",
       "      <td>[energetic, happy]</td>\n",
       "    </tr>\n",
       "    <tr>\n",
       "      <th>4</th>\n",
       "      <td>j lo s new generat mr worldwid parti peopl flo...</td>\n",
       "      <td>[energetic]</td>\n",
       "    </tr>\n",
       "  </tbody>\n",
       "</table>\n",
       "</div>"
      ],
      "text/plain": [
       "                                     lyrics_features                moods\n",
       "0  oppa gangnam style gangnam style najeneun ttas...          [energetic]\n",
       "1  late ve ve lose sleep dream thing babi ve ve p...              [happy]\n",
       "2  parti rock yeah woo let s parti rock hous toni...  [happy, aggressive]\n",
       "3  alagamun lan weh wakun heya hanun gon alagamun...   [energetic, happy]\n",
       "4  j lo s new generat mr worldwid parti peopl flo...          [energetic]"
      ]
     },
     "execution_count": 72,
     "metadata": {},
     "output_type": "execute_result"
    }
   ],
   "source": [
    "lyrics_moods = df.loc[:, ['lyrics_features', 'moods']].copy()\n",
    "lyrics_moods.dropna(how='any', inplace = True)\n",
    "lyrics_moods.reset_index(drop = True, inplace = True)\n",
    "lyrics_moods.head()"
   ]
  },
  {
   "cell_type": "code",
   "execution_count": 73,
   "metadata": {
    "collapsed": true
   },
   "outputs": [],
   "source": [
    "mlb_lyrics = MultiLabelBinarizer()\n",
    "\n",
    "y_lyrics = mlb_lyrics.fit_transform(lyrics_moods['moods'])"
   ]
  },
  {
   "cell_type": "code",
   "execution_count": 74,
   "metadata": {},
   "outputs": [
    {
     "data": {
      "text/plain": [
       "(36733, 9)"
      ]
     },
     "execution_count": 74,
     "metadata": {},
     "output_type": "execute_result"
    }
   ],
   "source": [
    "y_lyrics.shape"
   ]
  },
  {
   "cell_type": "code",
   "execution_count": 75,
   "metadata": {
    "collapsed": true
   },
   "outputs": [],
   "source": [
    "lyrics_train_test_list = train_test_split(lyrics_moods['lyrics_features'], y_lyrics, test_size = 0.3)"
   ]
  },
  {
   "cell_type": "code",
   "execution_count": 87,
   "metadata": {
    "collapsed": true
   },
   "outputs": [],
   "source": [
    "lyrics_pipeline = Pipeline([ ('tf_idf', TfidfVectorizer()), ('clf', RandomForestClassifier(n_estimators=100)) ])"
   ]
  },
  {
   "cell_type": "code",
   "execution_count": 88,
   "metadata": {},
   "outputs": [
    {
     "data": {
      "text/plain": [
       "Pipeline(memory=None,\n",
       "     steps=[('tf_idf', TfidfVectorizer(analyzer='word', binary=False, decode_error='strict',\n",
       "        dtype=<class 'numpy.int64'>, encoding='utf-8', input='content',\n",
       "        lowercase=True, max_df=1.0, max_features=None, min_df=1,\n",
       "        ngram_range=(1, 1), norm='l2', preprocessor=None, smooth_idf=True,\n",
       "...n_jobs=1,\n",
       "            oob_score=False, random_state=None, verbose=0,\n",
       "            warm_start=False))])"
      ]
     },
     "execution_count": 88,
     "metadata": {},
     "output_type": "execute_result"
    }
   ],
   "source": [
    "lyrics_pipeline.fit(lyrics_train_test_list[0], lyrics_train_test_list[2])"
   ]
  },
  {
   "cell_type": "code",
   "execution_count": 89,
   "metadata": {
    "collapsed": true
   },
   "outputs": [],
   "source": [
    "prediction = lyrics_pipeline.predict(lyrics_train_test_list[1])"
   ]
  },
  {
   "cell_type": "code",
   "execution_count": 91,
   "metadata": {},
   "outputs": [
    {
     "name": "stdout",
     "output_type": "stream",
     "text": [
      "             precision    recall  f1-score   support\n",
      "\n",
      "          0       0.28      0.01      0.01      1715\n",
      "          1       0.35      0.01      0.02       584\n",
      "          2       0.56      0.03      0.06      3446\n",
      "          3       0.61      0.06      0.11      3083\n",
      "          4       0.44      0.01      0.03      1075\n",
      "          5       0.47      0.02      0.03      1473\n",
      "          6       0.39      0.01      0.02      2648\n",
      "          7       0.34      0.01      0.03      1487\n",
      "          8       0.36      0.01      0.02      2144\n",
      "\n",
      "avg / total       0.45      0.02      0.04     17655\n",
      "\n"
     ]
    }
   ],
   "source": [
    "print(classification_report(lyrics_train_test_list[3], prediction))"
   ]
  },
  {
   "cell_type": "code",
   "execution_count": 81,
   "metadata": {
    "collapsed": true
   },
   "outputs": [],
   "source": [
    "from sklearn.metrics import jaccard_similarity_score"
   ]
  },
  {
   "cell_type": "code",
   "execution_count": 100,
   "metadata": {},
   "outputs": [
    {
     "name": "stdout",
     "output_type": "stream",
     "text": [
      "0.777777777778\n"
     ]
    }
   ],
   "source": [
    "print(jaccard_similarity_score(lyrics_train_test_list[3][66], prediction[66]))"
   ]
  },
  {
   "cell_type": "code",
   "execution_count": 96,
   "metadata": {
    "collapsed": true
   },
   "outputs": [],
   "source": [
    "pickle.dump(lyrics_pipeline, open('lyrics_predict_moods.rfc.pickle', 'wb'))"
   ]
  },
  {
   "cell_type": "code",
   "execution_count": 98,
   "metadata": {},
   "outputs": [
    {
     "name": "stdout",
     "output_type": "stream",
     "text": [
      "0.5\n"
     ]
    }
   ],
   "source": [
    "print(jaccard_similarity_score(['happy', 'aggressive'], ['trippy', 'aggressive']))"
   ]
  },
  {
   "cell_type": "code",
   "execution_count": 99,
   "metadata": {},
   "outputs": [
    {
     "name": "stdout",
     "output_type": "stream",
     "text": [
      "0.0\n"
     ]
    }
   ],
   "source": [
    "print(jaccard_similarity_score(['happy', 'aggressive'], ['trippy', 'happy']))"
   ]
  },
  {
   "cell_type": "code",
   "execution_count": null,
   "metadata": {
    "collapsed": true
   },
   "outputs": [],
   "source": []
  }
 ],
 "metadata": {
  "kernelspec": {
   "display_name": "Python 3",
   "language": "python",
   "name": "python3"
  },
  "language_info": {
   "codemirror_mode": {
    "name": "ipython",
    "version": 3
   },
   "file_extension": ".py",
   "mimetype": "text/x-python",
   "name": "python",
   "nbconvert_exporter": "python",
   "pygments_lexer": "ipython3",
   "version": "3.6.5"
  }
 },
 "nbformat": 4,
 "nbformat_minor": 2
}
