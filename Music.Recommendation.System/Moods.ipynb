{
 "cells": [
  {
   "cell_type": "markdown",
   "metadata": {},
   "source": [
    "# Predicting Moods \n",
    "**Date: June 8, 2018**"
   ]
  },
  {
   "cell_type": "code",
   "execution_count": 1,
   "metadata": {
    "collapsed": true
   },
   "outputs": [],
   "source": [
    "import pandas as pd\n",
    "import numpy as np\n",
    "import pickle\n",
    "\n",
    "from sklearn.preprocessing import MultiLabelBinarizer\n",
    "\n",
    "from sklearn.metrics import classification_report\n",
    "\n",
    "from sklearn.model_selection import train_test_split\n",
    "\n",
    "from sklearn.feature_extraction.text import TfidfVectorizer\n",
    "\n",
    "from sklearn.ensemble import RandomForestClassifier\n",
    "\n",
    "from sklearn.multioutput import ClassifierChain\n",
    "from sklearn.multiclass import OneVsRestClassifier\n",
    "\n",
    "from sklearn.pipeline import Pipeline\n",
    "from sklearn.base import clone\n"
   ]
  },
  {
   "cell_type": "code",
   "execution_count": 2,
   "metadata": {
    "collapsed": true
   },
   "outputs": [],
   "source": [
    "df = pickle.load(open('audio_lyrics_moods_new.pickle', 'rb'))"
   ]
  },
  {
   "cell_type": "code",
   "execution_count": 3,
   "metadata": {},
   "outputs": [
    {
     "data": {
      "text/html": [
       "<div>\n",
       "<style>\n",
       "    .dataframe thead tr:only-child th {\n",
       "        text-align: right;\n",
       "    }\n",
       "\n",
       "    .dataframe thead th {\n",
       "        text-align: left;\n",
       "    }\n",
       "\n",
       "    .dataframe tbody tr th {\n",
       "        vertical-align: top;\n",
       "    }\n",
       "</style>\n",
       "<table border=\"1\" class=\"dataframe\">\n",
       "  <thead>\n",
       "    <tr style=\"text-align: right;\">\n",
       "      <th></th>\n",
       "      <th>key</th>\n",
       "      <th>energy</th>\n",
       "      <th>liveliness</th>\n",
       "      <th>tempo</th>\n",
       "      <th>speechiness</th>\n",
       "      <th>acousticness</th>\n",
       "      <th>instrumentalness</th>\n",
       "      <th>time_signature</th>\n",
       "      <th>duration</th>\n",
       "      <th>loudness</th>\n",
       "      <th>valence</th>\n",
       "      <th>danceability</th>\n",
       "      <th>mode</th>\n",
       "      <th>time_signature_confidence</th>\n",
       "      <th>tempo_confidence</th>\n",
       "      <th>key_confidence</th>\n",
       "      <th>mode_confidence</th>\n",
       "      <th>lyrics_features</th>\n",
       "      <th>moods</th>\n",
       "    </tr>\n",
       "  </thead>\n",
       "  <tbody>\n",
       "    <tr>\n",
       "      <th>0</th>\n",
       "      <td>11.0</td>\n",
       "      <td>0.912744</td>\n",
       "      <td>0.083704</td>\n",
       "      <td>132.069</td>\n",
       "      <td>0.293137</td>\n",
       "      <td>0.005423</td>\n",
       "      <td>0.000001</td>\n",
       "      <td>0.0</td>\n",
       "      <td>4.0</td>\n",
       "      <td>218.30667</td>\n",
       "      <td>-3.890</td>\n",
       "      <td>0.752186</td>\n",
       "      <td>0.726920</td>\n",
       "      <td>0.552</td>\n",
       "      <td>0.541</td>\n",
       "      <td>1.000</td>\n",
       "      <td>1.000</td>\n",
       "      <td>oppa gangnam style gangnam style najeneun ttas...</td>\n",
       "      <td>[energetic]</td>\n",
       "    </tr>\n",
       "    <tr>\n",
       "      <th>1</th>\n",
       "      <td>6.0</td>\n",
       "      <td>0.745704</td>\n",
       "      <td>0.119955</td>\n",
       "      <td>100.008</td>\n",
       "      <td>0.046255</td>\n",
       "      <td>0.026230</td>\n",
       "      <td>0.012727</td>\n",
       "      <td>1.0</td>\n",
       "      <td>4.0</td>\n",
       "      <td>235.06086</td>\n",
       "      <td>-7.687</td>\n",
       "      <td>0.351282</td>\n",
       "      <td>0.691817</td>\n",
       "      <td>0.737</td>\n",
       "      <td>0.634</td>\n",
       "      <td>0.796</td>\n",
       "      <td>1.000</td>\n",
       "      <td>late ve ve lose sleep dream thing babi ve ve p...</td>\n",
       "      <td>[happy]</td>\n",
       "    </tr>\n",
       "    <tr>\n",
       "      <th>2</th>\n",
       "      <td>5.0</td>\n",
       "      <td>0.709932</td>\n",
       "      <td>0.231455</td>\n",
       "      <td>130.030</td>\n",
       "      <td>0.121741</td>\n",
       "      <td>0.036662</td>\n",
       "      <td>0.000000</td>\n",
       "      <td>0.0</td>\n",
       "      <td>4.0</td>\n",
       "      <td>232.46104</td>\n",
       "      <td>-5.150</td>\n",
       "      <td>0.374390</td>\n",
       "      <td>0.704729</td>\n",
       "      <td>0.565</td>\n",
       "      <td>0.565</td>\n",
       "      <td>0.743</td>\n",
       "      <td>1.000</td>\n",
       "      <td>parti rock yeah woo let s parti rock hous toni...</td>\n",
       "      <td>[cocky, happy]</td>\n",
       "    </tr>\n",
       "    <tr>\n",
       "      <th>3</th>\n",
       "      <td>3.0</td>\n",
       "      <td>0.705822</td>\n",
       "      <td>0.053292</td>\n",
       "      <td>126.009</td>\n",
       "      <td>0.126016</td>\n",
       "      <td>0.001966</td>\n",
       "      <td>0.000000</td>\n",
       "      <td>0.0</td>\n",
       "      <td>4.0</td>\n",
       "      <td>194.09333</td>\n",
       "      <td>-3.898</td>\n",
       "      <td>0.592798</td>\n",
       "      <td>0.875137</td>\n",
       "      <td>0.004</td>\n",
       "      <td>0.114</td>\n",
       "      <td>1.000</td>\n",
       "      <td>0.742</td>\n",
       "      <td>alagamun lan weh wakun heya hanun gon alagamun...</td>\n",
       "      <td>[energetic, happy]</td>\n",
       "    </tr>\n",
       "    <tr>\n",
       "      <th>4</th>\n",
       "      <td>3.0</td>\n",
       "      <td>0.741757</td>\n",
       "      <td>0.072774</td>\n",
       "      <td>129.985</td>\n",
       "      <td>0.051255</td>\n",
       "      <td>0.096732</td>\n",
       "      <td>0.000474</td>\n",
       "      <td>0.0</td>\n",
       "      <td>4.0</td>\n",
       "      <td>285.42667</td>\n",
       "      <td>-5.860</td>\n",
       "      <td>0.585630</td>\n",
       "      <td>0.730711</td>\n",
       "      <td>0.271</td>\n",
       "      <td>0.324</td>\n",
       "      <td>0.822</td>\n",
       "      <td>1.000</td>\n",
       "      <td>j lo s new generat mr worldwid parti peopl flo...</td>\n",
       "      <td>[energetic]</td>\n",
       "    </tr>\n",
       "  </tbody>\n",
       "</table>\n",
       "</div>"
      ],
      "text/plain": [
       "    key    energy  liveliness    tempo  speechiness  acousticness  \\\n",
       "0  11.0  0.912744    0.083704  132.069     0.293137      0.005423   \n",
       "1   6.0  0.745704    0.119955  100.008     0.046255      0.026230   \n",
       "2   5.0  0.709932    0.231455  130.030     0.121741      0.036662   \n",
       "3   3.0  0.705822    0.053292  126.009     0.126016      0.001966   \n",
       "4   3.0  0.741757    0.072774  129.985     0.051255      0.096732   \n",
       "\n",
       "   instrumentalness  time_signature  duration   loudness  valence  \\\n",
       "0          0.000001             0.0       4.0  218.30667   -3.890   \n",
       "1          0.012727             1.0       4.0  235.06086   -7.687   \n",
       "2          0.000000             0.0       4.0  232.46104   -5.150   \n",
       "3          0.000000             0.0       4.0  194.09333   -3.898   \n",
       "4          0.000474             0.0       4.0  285.42667   -5.860   \n",
       "\n",
       "   danceability      mode  time_signature_confidence  tempo_confidence  \\\n",
       "0      0.752186  0.726920                      0.552             0.541   \n",
       "1      0.351282  0.691817                      0.737             0.634   \n",
       "2      0.374390  0.704729                      0.565             0.565   \n",
       "3      0.592798  0.875137                      0.004             0.114   \n",
       "4      0.585630  0.730711                      0.271             0.324   \n",
       "\n",
       "   key_confidence  mode_confidence  \\\n",
       "0           1.000            1.000   \n",
       "1           0.796            1.000   \n",
       "2           0.743            1.000   \n",
       "3           1.000            0.742   \n",
       "4           0.822            1.000   \n",
       "\n",
       "                                     lyrics_features               moods  \n",
       "0  oppa gangnam style gangnam style najeneun ttas...         [energetic]  \n",
       "1  late ve ve lose sleep dream thing babi ve ve p...             [happy]  \n",
       "2  parti rock yeah woo let s parti rock hous toni...      [cocky, happy]  \n",
       "3  alagamun lan weh wakun heya hanun gon alagamun...  [energetic, happy]  \n",
       "4  j lo s new generat mr worldwid parti peopl flo...         [energetic]  "
      ]
     },
     "execution_count": 3,
     "metadata": {},
     "output_type": "execute_result"
    }
   ],
   "source": [
    "df.head()"
   ]
  },
  {
   "cell_type": "code",
   "execution_count": 4,
   "metadata": {
    "collapsed": true
   },
   "outputs": [],
   "source": [
    "np.random.seed(100)"
   ]
  },
  {
   "cell_type": "markdown",
   "metadata": {},
   "source": [
    "## Audio"
   ]
  },
  {
   "cell_type": "code",
   "execution_count": 21,
   "metadata": {},
   "outputs": [
    {
     "data": {
      "text/html": [
       "<div>\n",
       "<style>\n",
       "    .dataframe thead tr:only-child th {\n",
       "        text-align: right;\n",
       "    }\n",
       "\n",
       "    .dataframe thead th {\n",
       "        text-align: left;\n",
       "    }\n",
       "\n",
       "    .dataframe tbody tr th {\n",
       "        vertical-align: top;\n",
       "    }\n",
       "</style>\n",
       "<table border=\"1\" class=\"dataframe\">\n",
       "  <thead>\n",
       "    <tr style=\"text-align: right;\">\n",
       "      <th></th>\n",
       "      <th>key</th>\n",
       "      <th>energy</th>\n",
       "      <th>liveliness</th>\n",
       "      <th>tempo</th>\n",
       "      <th>speechiness</th>\n",
       "      <th>acousticness</th>\n",
       "      <th>instrumentalness</th>\n",
       "      <th>time_signature</th>\n",
       "      <th>duration</th>\n",
       "      <th>loudness</th>\n",
       "      <th>valence</th>\n",
       "      <th>danceability</th>\n",
       "      <th>mode</th>\n",
       "      <th>time_signature_confidence</th>\n",
       "      <th>tempo_confidence</th>\n",
       "      <th>key_confidence</th>\n",
       "      <th>mode_confidence</th>\n",
       "      <th>moods</th>\n",
       "    </tr>\n",
       "  </thead>\n",
       "  <tbody>\n",
       "    <tr>\n",
       "      <th>0</th>\n",
       "      <td>11.0</td>\n",
       "      <td>0.912744</td>\n",
       "      <td>0.083704</td>\n",
       "      <td>132.069</td>\n",
       "      <td>0.293137</td>\n",
       "      <td>0.005423</td>\n",
       "      <td>0.000001</td>\n",
       "      <td>0.0</td>\n",
       "      <td>4.0</td>\n",
       "      <td>218.30667</td>\n",
       "      <td>-3.890</td>\n",
       "      <td>0.752186</td>\n",
       "      <td>0.726920</td>\n",
       "      <td>0.552</td>\n",
       "      <td>0.541</td>\n",
       "      <td>1.000</td>\n",
       "      <td>1.000</td>\n",
       "      <td>[energetic]</td>\n",
       "    </tr>\n",
       "    <tr>\n",
       "      <th>1</th>\n",
       "      <td>6.0</td>\n",
       "      <td>0.745704</td>\n",
       "      <td>0.119955</td>\n",
       "      <td>100.008</td>\n",
       "      <td>0.046255</td>\n",
       "      <td>0.026230</td>\n",
       "      <td>0.012727</td>\n",
       "      <td>1.0</td>\n",
       "      <td>4.0</td>\n",
       "      <td>235.06086</td>\n",
       "      <td>-7.687</td>\n",
       "      <td>0.351282</td>\n",
       "      <td>0.691817</td>\n",
       "      <td>0.737</td>\n",
       "      <td>0.634</td>\n",
       "      <td>0.796</td>\n",
       "      <td>1.000</td>\n",
       "      <td>[happy]</td>\n",
       "    </tr>\n",
       "    <tr>\n",
       "      <th>2</th>\n",
       "      <td>5.0</td>\n",
       "      <td>0.709932</td>\n",
       "      <td>0.231455</td>\n",
       "      <td>130.030</td>\n",
       "      <td>0.121741</td>\n",
       "      <td>0.036662</td>\n",
       "      <td>0.000000</td>\n",
       "      <td>0.0</td>\n",
       "      <td>4.0</td>\n",
       "      <td>232.46104</td>\n",
       "      <td>-5.150</td>\n",
       "      <td>0.374390</td>\n",
       "      <td>0.704729</td>\n",
       "      <td>0.565</td>\n",
       "      <td>0.565</td>\n",
       "      <td>0.743</td>\n",
       "      <td>1.000</td>\n",
       "      <td>[cocky, happy]</td>\n",
       "    </tr>\n",
       "    <tr>\n",
       "      <th>3</th>\n",
       "      <td>3.0</td>\n",
       "      <td>0.705822</td>\n",
       "      <td>0.053292</td>\n",
       "      <td>126.009</td>\n",
       "      <td>0.126016</td>\n",
       "      <td>0.001966</td>\n",
       "      <td>0.000000</td>\n",
       "      <td>0.0</td>\n",
       "      <td>4.0</td>\n",
       "      <td>194.09333</td>\n",
       "      <td>-3.898</td>\n",
       "      <td>0.592798</td>\n",
       "      <td>0.875137</td>\n",
       "      <td>0.004</td>\n",
       "      <td>0.114</td>\n",
       "      <td>1.000</td>\n",
       "      <td>0.742</td>\n",
       "      <td>[energetic, happy]</td>\n",
       "    </tr>\n",
       "    <tr>\n",
       "      <th>4</th>\n",
       "      <td>3.0</td>\n",
       "      <td>0.741757</td>\n",
       "      <td>0.072774</td>\n",
       "      <td>129.985</td>\n",
       "      <td>0.051255</td>\n",
       "      <td>0.096732</td>\n",
       "      <td>0.000474</td>\n",
       "      <td>0.0</td>\n",
       "      <td>4.0</td>\n",
       "      <td>285.42667</td>\n",
       "      <td>-5.860</td>\n",
       "      <td>0.585630</td>\n",
       "      <td>0.730711</td>\n",
       "      <td>0.271</td>\n",
       "      <td>0.324</td>\n",
       "      <td>0.822</td>\n",
       "      <td>1.000</td>\n",
       "      <td>[energetic]</td>\n",
       "    </tr>\n",
       "  </tbody>\n",
       "</table>\n",
       "</div>"
      ],
      "text/plain": [
       "    key    energy  liveliness    tempo  speechiness  acousticness  \\\n",
       "0  11.0  0.912744    0.083704  132.069     0.293137      0.005423   \n",
       "1   6.0  0.745704    0.119955  100.008     0.046255      0.026230   \n",
       "2   5.0  0.709932    0.231455  130.030     0.121741      0.036662   \n",
       "3   3.0  0.705822    0.053292  126.009     0.126016      0.001966   \n",
       "4   3.0  0.741757    0.072774  129.985     0.051255      0.096732   \n",
       "\n",
       "   instrumentalness  time_signature  duration   loudness  valence  \\\n",
       "0          0.000001             0.0       4.0  218.30667   -3.890   \n",
       "1          0.012727             1.0       4.0  235.06086   -7.687   \n",
       "2          0.000000             0.0       4.0  232.46104   -5.150   \n",
       "3          0.000000             0.0       4.0  194.09333   -3.898   \n",
       "4          0.000474             0.0       4.0  285.42667   -5.860   \n",
       "\n",
       "   danceability      mode  time_signature_confidence  tempo_confidence  \\\n",
       "0      0.752186  0.726920                      0.552             0.541   \n",
       "1      0.351282  0.691817                      0.737             0.634   \n",
       "2      0.374390  0.704729                      0.565             0.565   \n",
       "3      0.592798  0.875137                      0.004             0.114   \n",
       "4      0.585630  0.730711                      0.271             0.324   \n",
       "\n",
       "   key_confidence  mode_confidence               moods  \n",
       "0           1.000            1.000         [energetic]  \n",
       "1           0.796            1.000             [happy]  \n",
       "2           0.743            1.000      [cocky, happy]  \n",
       "3           1.000            0.742  [energetic, happy]  \n",
       "4           0.822            1.000         [energetic]  "
      ]
     },
     "execution_count": 21,
     "metadata": {},
     "output_type": "execute_result"
    }
   ],
   "source": [
    "audio_moods = df.drop('lyrics_features', axis = 1)\n",
    "audio_moods.dropna(how = 'any', inplace = True)\n",
    "audio_moods.reset_index(drop = True, inplace = True)\n",
    "audio_moods.head()"
   ]
  },
  {
   "cell_type": "code",
   "execution_count": 22,
   "metadata": {
    "collapsed": true
   },
   "outputs": [],
   "source": [
    "mlb_audio = MultiLabelBinarizer()\n",
    "y_audio = mlb_audio.fit_transform(audio_moods['moods'])"
   ]
  },
  {
   "cell_type": "code",
   "execution_count": 23,
   "metadata": {
    "collapsed": true
   },
   "outputs": [],
   "source": [
    "X_audio = audio_moods.drop('moods', axis = 1)"
   ]
  },
  {
   "cell_type": "code",
   "execution_count": 24,
   "metadata": {
    "collapsed": true
   },
   "outputs": [],
   "source": [
    "audio_train_test_list = train_test_split(X_audio, y_audio, test_size = 0.33)"
   ]
  },
  {
   "cell_type": "code",
   "execution_count": 25,
   "metadata": {},
   "outputs": [
    {
     "data": {
      "text/plain": [
       "RandomForestClassifier(bootstrap=True, class_weight='balanced',\n",
       "            criterion='gini', max_depth=None, max_features='auto',\n",
       "            max_leaf_nodes=None, min_impurity_decrease=0.0,\n",
       "            min_impurity_split=None, min_samples_leaf=1,\n",
       "            min_samples_split=2, min_weight_fraction_leaf=0.0,\n",
       "            n_estimators=100, n_jobs=1, oob_score=False, random_state=None,\n",
       "            verbose=0, warm_start=False)"
      ]
     },
     "execution_count": 25,
     "metadata": {},
     "output_type": "execute_result"
    }
   ],
   "source": [
    "audio_rfc = RandomForestClassifier(n_estimators= 100, class_weight='balanced')\n",
    "audio_rfc.fit(audio_train_test_list[0], audio_train_test_list[2])"
   ]
  },
  {
   "cell_type": "code",
   "execution_count": 26,
   "metadata": {},
   "outputs": [
    {
     "name": "stdout",
     "output_type": "stream",
     "text": [
      "             precision    recall  f1-score   support\n",
      "\n",
      "          0       0.61      0.08      0.15      1570\n",
      "          1       0.68      0.14      0.24      1998\n",
      "          2       0.61      0.08      0.14      1650\n",
      "          3       0.60      0.24      0.34      3265\n",
      "          4       0.59      0.26      0.36      2275\n",
      "          5       0.62      0.04      0.07      1878\n",
      "          6       0.67      0.15      0.25      1702\n",
      "\n",
      "avg / total       0.62      0.16      0.24     14338\n",
      "\n"
     ]
    }
   ],
   "source": [
    "audio_rfc_prediction = audio_rfc.predict(audio_train_test_list[1])\n",
    "print(classification_report(audio_train_test_list[3], audio_rfc_prediction))"
   ]
  },
  {
   "cell_type": "code",
   "execution_count": 27,
   "metadata": {},
   "outputs": [
    {
     "name": "stdout",
     "output_type": "stream",
     "text": [
      "             precision    recall  f1-score   support\n",
      "\n",
      "          0       0.39      0.42      0.40      1570\n",
      "          1       0.57      0.30      0.39      1998\n",
      "          2       0.45      0.21      0.29      1650\n",
      "          3       0.49      0.59      0.53      3265\n",
      "          4       0.58      0.26      0.36      2275\n",
      "          5       0.53      0.07      0.12      1878\n",
      "          6       0.67      0.18      0.28      1702\n",
      "\n",
      "avg / total       0.53      0.32      0.36     14338\n",
      "\n"
     ]
    }
   ],
   "source": [
    "estimator = OneVsRestClassifier(RandomForestClassifier(class_weight='balanced', n_estimators=100),\n",
    "                                n_jobs = 2)\n",
    "\n",
    "audio_chain = ClassifierChain(estimator, \n",
    "                              order=[4, 5, 6, 1, 3, 2, 0])\n",
    "\n",
    "audio_chain.fit(audio_train_test_list[0], audio_train_test_list[2])\n",
    "audio_chain_prediction = audio_chain.predict(audio_train_test_list[1])\n",
    "\n",
    "print(classification_report(audio_train_test_list[3], audio_chain_prediction))"
   ]
  },
  {
   "cell_type": "code",
   "execution_count": 28,
   "metadata": {
    "collapsed": true
   },
   "outputs": [],
   "source": [
    "pickle.dump(audio_rfc, open('audio_predict_moods.rfc.pickle', 'wb'))\n",
    "pickle.dump(audio_chain, open('audio_predict_moods.chain.pickle', 'wb'))"
   ]
  },
  {
   "cell_type": "markdown",
   "metadata": {},
   "source": [
    "## Lyrics"
   ]
  },
  {
   "cell_type": "code",
   "execution_count": 10,
   "metadata": {},
   "outputs": [
    {
     "name": "stdout",
     "output_type": "stream",
     "text": [
      "(20930, 3)\n"
     ]
    },
    {
     "data": {
      "text/html": [
       "<div>\n",
       "<style>\n",
       "    .dataframe thead tr:only-child th {\n",
       "        text-align: right;\n",
       "    }\n",
       "\n",
       "    .dataframe thead th {\n",
       "        text-align: left;\n",
       "    }\n",
       "\n",
       "    .dataframe tbody tr th {\n",
       "        vertical-align: top;\n",
       "    }\n",
       "</style>\n",
       "<table border=\"1\" class=\"dataframe\">\n",
       "  <thead>\n",
       "    <tr style=\"text-align: right;\">\n",
       "      <th></th>\n",
       "      <th>index</th>\n",
       "      <th>lyrics_features</th>\n",
       "      <th>moods</th>\n",
       "    </tr>\n",
       "  </thead>\n",
       "  <tbody>\n",
       "    <tr>\n",
       "      <th>0</th>\n",
       "      <td>0</td>\n",
       "      <td>oppa gangnam style gangnam style najeneun ttas...</td>\n",
       "      <td>[energetic]</td>\n",
       "    </tr>\n",
       "    <tr>\n",
       "      <th>1</th>\n",
       "      <td>1</td>\n",
       "      <td>late ve ve lose sleep dream thing babi ve ve p...</td>\n",
       "      <td>[happy]</td>\n",
       "    </tr>\n",
       "    <tr>\n",
       "      <th>2</th>\n",
       "      <td>2</td>\n",
       "      <td>parti rock yeah woo let s parti rock hous toni...</td>\n",
       "      <td>[cocky, happy]</td>\n",
       "    </tr>\n",
       "    <tr>\n",
       "      <th>3</th>\n",
       "      <td>3</td>\n",
       "      <td>alagamun lan weh wakun heya hanun gon alagamun...</td>\n",
       "      <td>[energetic, happy]</td>\n",
       "    </tr>\n",
       "    <tr>\n",
       "      <th>4</th>\n",
       "      <td>4</td>\n",
       "      <td>j lo s new generat mr worldwid parti peopl flo...</td>\n",
       "      <td>[energetic]</td>\n",
       "    </tr>\n",
       "  </tbody>\n",
       "</table>\n",
       "</div>"
      ],
      "text/plain": [
       "   index                                    lyrics_features  \\\n",
       "0      0  oppa gangnam style gangnam style najeneun ttas...   \n",
       "1      1  late ve ve lose sleep dream thing babi ve ve p...   \n",
       "2      2  parti rock yeah woo let s parti rock hous toni...   \n",
       "3      3  alagamun lan weh wakun heya hanun gon alagamun...   \n",
       "4      4  j lo s new generat mr worldwid parti peopl flo...   \n",
       "\n",
       "                moods  \n",
       "0         [energetic]  \n",
       "1             [happy]  \n",
       "2      [cocky, happy]  \n",
       "3  [energetic, happy]  \n",
       "4         [energetic]  "
      ]
     },
     "execution_count": 10,
     "metadata": {},
     "output_type": "execute_result"
    }
   ],
   "source": [
    "lyrics_moods = df.loc[df['lyrics_features'] != \"\", ['lyrics_features', 'moods']].copy()\n",
    "\n",
    "lyrics_moods.reset_index(inplace = True)\n",
    "\n",
    "print(lyrics_moods.shape)\n",
    "lyrics_moods.head()"
   ]
  },
  {
   "cell_type": "code",
   "execution_count": 11,
   "metadata": {
    "collapsed": true
   },
   "outputs": [],
   "source": [
    "mlb_lyrics = MultiLabelBinarizer()\n",
    "\n",
    "y_lyrics = mlb_lyrics.fit_transform(lyrics_moods['moods'])"
   ]
  },
  {
   "cell_type": "code",
   "execution_count": 12,
   "metadata": {
    "collapsed": true
   },
   "outputs": [],
   "source": [
    "lyrics_train_test_list = train_test_split(lyrics_moods['lyrics_features'], y_lyrics, test_size = 0.3)"
   ]
  },
  {
   "cell_type": "code",
   "execution_count": 15,
   "metadata": {},
   "outputs": [
    {
     "name": "stdout",
     "output_type": "stream",
     "text": [
      "             precision    recall  f1-score   support\n",
      "\n",
      "          0       0.45      0.02      0.03      1305\n",
      "          1       0.42      0.02      0.03      1066\n",
      "          2       0.44      0.05      0.09      1105\n",
      "          3       0.61      0.08      0.14      2125\n",
      "          4       0.53      0.03      0.05      1437\n",
      "          5       0.54      0.05      0.10      1050\n",
      "          6       0.31      0.02      0.03       825\n",
      "\n",
      "avg / total       0.49      0.04      0.08      8913\n",
      "\n"
     ]
    }
   ],
   "source": [
    "lyrics_rfc = Pipeline([ ('tf_idf', TfidfVectorizer()), \n",
    "                         ('clf', RandomForestClassifier(class_weight='balanced', n_estimators=100)) \n",
    "                        ])\n",
    "\n",
    "lyrics_rfc.fit(lyrics_train_test_list[0], lyrics_train_test_list[2])\n",
    "lyrics_rfc_prediction = lyrics_rfc.predict(lyrics_train_test_list[1])\n",
    "\n",
    "print(classification_report(lyrics_train_test_list[3], lyrics_rfc_prediction))"
   ]
  },
  {
   "cell_type": "code",
   "execution_count": 14,
   "metadata": {},
   "outputs": [
    {
     "name": "stdout",
     "output_type": "stream",
     "text": [
      "             precision    recall  f1-score   support\n",
      "\n",
      "          0       0.53      0.06      0.10      1305\n",
      "          1       0.45      0.02      0.04      1066\n",
      "          2       0.37      0.10      0.16      1105\n",
      "          3       0.56      0.23      0.32      2125\n",
      "          4       0.52      0.04      0.07      1437\n",
      "          5       0.57      0.10      0.17      1050\n",
      "          6       0.32      0.02      0.03       825\n",
      "\n",
      "avg / total       0.49      0.10      0.15      8913\n",
      "\n"
     ]
    }
   ],
   "source": [
    "lyrics_chain = Pipeline([ ('tf_idf', TfidfVectorizer()), \n",
    "                         ('clf', ClassifierChain(RandomForestClassifier(class_weight='balanced', n_estimators=100), \n",
    "                                                 order=[4, 5, 6, 1, 3, 2, 0])) \n",
    "                        ])\n",
    "\n",
    "lyrics_chain.fit(lyrics_train_test_list[0], lyrics_train_test_list[2])\n",
    "lyrics_chain_prediction = lyrics_chain.predict(lyrics_train_test_list[1])\n",
    "\n",
    "print(classification_report(lyrics_train_test_list[3], lyrics_chain_prediction))"
   ]
  },
  {
   "cell_type": "code",
   "execution_count": 16,
   "metadata": {
    "collapsed": true
   },
   "outputs": [],
   "source": [
    "pickle.dump(lyrics_rfc, open('lyrics_predict_moods.rfc.pickle', 'wb'))\n",
    "pickle.dump(lyrics_chain, open('lyrics_predict_moods.chain.pickle', 'wb'))"
   ]
  },
  {
   "cell_type": "code",
   "execution_count": null,
   "metadata": {
    "collapsed": true
   },
   "outputs": [],
   "source": []
  }
 ],
 "metadata": {
  "kernelspec": {
   "display_name": "Python 3",
   "language": "python",
   "name": "python3"
  },
  "language_info": {
   "codemirror_mode": {
    "name": "ipython",
    "version": 3
   },
   "file_extension": ".py",
   "mimetype": "text/x-python",
   "name": "python",
   "nbconvert_exporter": "python",
   "pygments_lexer": "ipython3",
   "version": "3.6.3"
  }
 },
 "nbformat": 4,
 "nbformat_minor": 2
}
