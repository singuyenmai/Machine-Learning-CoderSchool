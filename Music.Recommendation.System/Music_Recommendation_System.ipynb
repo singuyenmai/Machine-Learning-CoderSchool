{
 "cells": [
  {
   "cell_type": "markdown",
   "metadata": {},
   "source": [
    "MUSIC RECOMMENDATION SYSTEM\n",
    "===========================\n",
    "- ** Predict genres **\n",
    "- ** Predict moods **\n",
    "- ** Recommend base on cosin similarity and jaccard similarity **"
   ]
  },
  {
   "cell_type": "code",
   "execution_count": 1,
   "metadata": {},
   "outputs": [],
   "source": [
    "import pickle\n",
    "import pandas as pd\n",
    "import numpy as np"
   ]
  },
  {
   "cell_type": "code",
   "execution_count": 2,
   "metadata": {},
   "outputs": [],
   "source": [
    "# makes printing a dict look nice\n",
    "import pprint\n",
    "pp = pprint.PrettyPrinter(indent=4)"
   ]
  },
  {
   "cell_type": "code",
   "execution_count": 3,
   "metadata": {},
   "outputs": [],
   "source": [
    "from collections import namedtuple\n",
    "# Create a namedtuple called 'Song'\n",
    "Song = namedtuple(\"Song\", [\"artist\", \"title\"])\n",
    "# I'm choosing to also include probability, so I'm making Mood a namedtuple as well\n",
    "Mood = namedtuple(\"Mood\", [\"description\", \"probability\"])"
   ]
  },
  {
   "cell_type": "markdown",
   "metadata": {},
   "source": [
    "## Load model"
   ]
  },
  {
   "cell_type": "code",
   "execution_count": 47,
   "metadata": {},
   "outputs": [],
   "source": [
    "predict_genres = pickle.load(open('predict_genres.pickle', 'rb'))\n",
    "predict_moods  = pickle.load(open('lyrics_predict_moods.rfc.pickle', 'rb'))\n",
    "predict_moods_audio = pickle.load(open('audio_predict_moods.rfc.pickle'))\n",
    "my_database    = pickle.load(open('my_database.pickle', 'rb'))\n",
    "my_database.reset_index(inplace=True, drop=True)"
   ]
  },
  {
   "cell_type": "code",
   "execution_count": 5,
   "metadata": {},
   "outputs": [],
   "source": [
    "audio_features = np.array([5,\n",
    " 0.709932,\n",
    " 0.231455,\n",
    " 130.03,\n",
    " 0.12174099999999999,\n",
    " 0.036662,\n",
    " 0.0,\n",
    " 0,\n",
    " 4,\n",
    " 232.46104,\n",
    " -5.15,\n",
    " 0.37439000000000006,\n",
    " 0.7047289999999999,\n",
    " 0.5650000000000001,\n",
    " 0.5650000000000001,\n",
    " 0.743,\n",
    " 1.0])\n",
    "lyrics_features = 'party rock yeah woo let s go party rock is in the house tonight everybody just have a good time and we gon make you loose your mind wooo everybody just have a good time party rock is in the house tonight ooww everybody just have a good time and we gon make you loose your mind yeah we just wanna see you shake that in the club party rock look a pretty girl she on my jock huh non stop when we in the spot booty on the way like she on the block wooo with a drink i gots to know tight jeans tattoos cause i m rock n roll half black half white domino gain the money out the door yoo i m runnin through these hoes like drano i got that devilish flow rock n roll no halo we party rock yeah that s the crew that i m reppin on the rise to the stop no led in our zeppelin heeeey party rock is in the house tonight wooo everybody just have a good time hey and we gon make you loose your mind everybody just have a good time let s go party rock is in the house tonight everybody just have a good time and we gon make you loose your mind we just wanna see you shake that everyday i m shuffling shuffling shuffling step up fast be the first girl to make me throw this cash we gettin money don t be mad now stop hating is bad one more shot for us another round another round please fill up my cup don t mess around bitches wanna see you shake it now now you wanna be you re naked now get up get down put your hands up to the sound get up get down put your hands up to the sound get up get down put your hands up to the sound put your hands up to the sound put your hands up to the sound get up get up get up get up get up get up get up get up get up put your hands up to the sound to the sound put your hands up put your hands up put your hands up put your hands up party rock is in the house tonight put your hands up everybody just have a good time put your hands up and we gon make you loose your mind put your hands up everybody just have a good good good time ooohh ooooh put your hands up ooohh ooooh ooh ooh ooohh ooooh put your hands up ooohh ooooh put your hands up shake that everyday i m shu ff ffling put your put your put your put your yeaah put your put your wooo put your put your your hands up put your hands up put your hands up everyday i m shuffling'"
   ]
  },
  {
   "cell_type": "code",
   "execution_count": 6,
   "metadata": {
    "collapsed": true
   },
   "outputs": [],
   "source": [
    "from string import punctuation\n",
    "from sklearn.feature_extraction.stop_words import ENGLISH_STOP_WORDS\n",
    "from nltk.stem.snowball import SnowballStemmer\n",
    "\n",
    "translator = str.maketrans('','', punctuation)\n",
    "stemmer = SnowballStemmer('english')\n",
    "\n",
    "def clean_text(raw_text):\n",
    "    \n",
    "    clean_words = []\n",
    "    \n",
    "    raw_text = raw_text.lower()\n",
    "    raw_text = raw_text.translate(translator)\n",
    "    \n",
    "    for word in raw_text.split():\n",
    "        \n",
    "        if word not in ENGLISH_STOP_WORDS:\n",
    "            \n",
    "            clean_words.append(stemmer.stem(word))\n",
    "    \n",
    "    return \" \".join(clean_words)"
   ]
  },
  {
   "cell_type": "code",
   "execution_count": 63,
   "metadata": {},
   "outputs": [
    {
     "name": "stderr",
     "output_type": "stream",
     "text": [
      "/home/dks/anaconda3/lib/python3.6/site-packages/sklearn/preprocessing/label.py:151: DeprecationWarning: The truth value of an empty array is ambiguous. Returning False, but in future this will result in an error. Use `array.size > 0` to check that an array is not empty.\n",
      "  if diff:\n"
     ]
    },
    {
     "name": "stdout",
     "output_type": "stream",
     "text": [
      "{'playlist': [Song(artist='Madeon', title='The City'), Song(artist='Zac Brown Band', title=\"Whiskey's Gone\"), Song(artist='Tiësto', title='United (Ultra Music Festival Anthem)')]}\n"
     ]
    }
   ],
   "source": [
    "# You should submit code that basically looks like this\n",
    "from sklearn.metrics import jaccard_similarity_score\n",
    "df_moods = my_database.moods.str.join(',').str.get_dummies(sep=',')\n",
    "df_genres_moods = pd.concat((my_database.genres, df_moods), axis=1)\n",
    "def recommend_similar_songs(audio_features, lyrics_features):\n",
    "    genre = predict_genres.predict(audio_features.reshape((1, -1)))\n",
    "    lyrics_features_clean = clean_text(lyrics_features)\n",
    "    moods = predict_moods.predict([lyrics_features_clean])\n",
    "    predict_result = np.concatenate((genre, moods[0].astype('int').astype('str')))\n",
    "    similarity = df_genres_moods.apply(lambda x: jaccard_similarity_score(predict_result, x.tolist()), axis=1)\n",
    "    similarity = similarity.sort_values(ascending=False)[0:50]\n",
    "    top_3 = my_database.iloc[similarity.sample(3).index]\n",
    "    result = [ Song(artist=row[\"artist\"], title=row['name']) for idx, row in top_3.iterrows()]\n",
    "    final_result_dictionary = dict(playlist=result)\n",
    "    return final_result_dictionary\n",
    "predict_genres_moods = recommend_similar_songs(audio_features, lyrics_features)\n",
    "print(predict_genres_moods)"
   ]
  },
  {
   "cell_type": "code",
   "execution_count": 48,
   "metadata": {},
   "outputs": [
    {
     "data": {
      "text/html": [
       "<div>\n",
       "<style scoped>\n",
       "    .dataframe tbody tr th:only-of-type {\n",
       "        vertical-align: middle;\n",
       "    }\n",
       "\n",
       "    .dataframe tbody tr th {\n",
       "        vertical-align: top;\n",
       "    }\n",
       "\n",
       "    .dataframe thead th {\n",
       "        text-align: right;\n",
       "    }\n",
       "</style>\n",
       "<table border=\"1\" class=\"dataframe\">\n",
       "  <thead>\n",
       "    <tr style=\"text-align: right;\">\n",
       "      <th></th>\n",
       "      <th>artist</th>\n",
       "      <th>name</th>\n",
       "      <th>audio_features</th>\n",
       "      <th>genres</th>\n",
       "      <th>moods</th>\n",
       "    </tr>\n",
       "  </thead>\n",
       "  <tbody>\n",
       "    <tr>\n",
       "      <th>0</th>\n",
       "      <td>PSY</td>\n",
       "      <td>Gangnam Style (강남스타일)</td>\n",
       "      <td>[11, 0.912744, 0.083704, 132.069, 0.293137, 0....</td>\n",
       "      <td>pop</td>\n",
       "      <td>[energetic]</td>\n",
       "    </tr>\n",
       "    <tr>\n",
       "      <th>1</th>\n",
       "      <td>OneRepublic</td>\n",
       "      <td>Counting Stars</td>\n",
       "      <td>[6, 0.7457039999999999, 0.11995499999999999, 1...</td>\n",
       "      <td>pop</td>\n",
       "      <td>[happy]</td>\n",
       "    </tr>\n",
       "    <tr>\n",
       "      <th>2</th>\n",
       "      <td>Carly Rae Jepsen</td>\n",
       "      <td>Call Me Maybe</td>\n",
       "      <td>[7, 0.585564, 0.10829699999999999, 120.014, 0....</td>\n",
       "      <td>pop</td>\n",
       "      <td>[energetic]</td>\n",
       "    </tr>\n",
       "    <tr>\n",
       "      <th>3</th>\n",
       "      <td>One Direction</td>\n",
       "      <td>What Makes You Beautiful</td>\n",
       "      <td>[4, 0.81403, 0.079196, 124.991, 0.07244, 0.005...</td>\n",
       "      <td>pop</td>\n",
       "      <td>[happy]</td>\n",
       "    </tr>\n",
       "    <tr>\n",
       "      <th>4</th>\n",
       "      <td>Katy Perry</td>\n",
       "      <td>Firework</td>\n",
       "      <td>[8, 0.8695539999999999, 0.107945, 124.065, 0.0...</td>\n",
       "      <td>pop</td>\n",
       "      <td>[happy]</td>\n",
       "    </tr>\n",
       "  </tbody>\n",
       "</table>\n",
       "</div>"
      ],
      "text/plain": [
       "             artist                      name  \\\n",
       "0               PSY     Gangnam Style (강남스타일)   \n",
       "1       OneRepublic            Counting Stars   \n",
       "2  Carly Rae Jepsen             Call Me Maybe   \n",
       "3     One Direction  What Makes You Beautiful   \n",
       "4        Katy Perry                  Firework   \n",
       "\n",
       "                                      audio_features genres        moods  \n",
       "0  [11, 0.912744, 0.083704, 132.069, 0.293137, 0....    pop  [energetic]  \n",
       "1  [6, 0.7457039999999999, 0.11995499999999999, 1...    pop      [happy]  \n",
       "2  [7, 0.585564, 0.10829699999999999, 120.014, 0....    pop  [energetic]  \n",
       "3  [4, 0.81403, 0.079196, 124.991, 0.07244, 0.005...    pop      [happy]  \n",
       "4  [8, 0.8695539999999999, 0.107945, 124.065, 0.0...    pop      [happy]  "
      ]
     },
     "execution_count": 48,
     "metadata": {},
     "output_type": "execute_result"
    }
   ],
   "source": [
    "my_database.head()"
   ]
  },
  {
   "cell_type": "code",
   "execution_count": 49,
   "metadata": {},
   "outputs": [
    {
     "data": {
      "text/plain": [
       "artist                                             Carly Rae Jepsen\n",
       "name                                                  Call Me Maybe\n",
       "audio_features    [7, 0.585564, 0.10829699999999999, 120.014, 0....\n",
       "genres                                                          pop\n",
       "moods                                                   [energetic]\n",
       "Name: 2, dtype: object"
      ]
     },
     "execution_count": 49,
     "metadata": {},
     "output_type": "execute_result"
    }
   ],
   "source": [
    "my_database.iloc[2,:]"
   ]
  }
 ],
 "metadata": {
  "kernelspec": {
   "display_name": "Python 3",
   "language": "python",
   "name": "python3"
  },
  "language_info": {
   "codemirror_mode": {
    "name": "ipython",
    "version": 3
   },
   "file_extension": ".py",
   "mimetype": "text/x-python",
   "name": "python",
   "nbconvert_exporter": "python",
   "pygments_lexer": "ipython3",
   "version": "3.6.4"
  }
 },
 "nbformat": 4,
 "nbformat_minor": 2
}
