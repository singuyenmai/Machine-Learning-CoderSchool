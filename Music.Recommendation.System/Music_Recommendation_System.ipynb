{
 "cells": [
  {
   "cell_type": "markdown",
   "metadata": {},
   "source": [
    "MUSIC RECOMMENDATION SYSTEM\n",
    "===========================\n",
    "- ** Predict genres **\n",
    "- ** Predict moods **\n",
    "- ** Recommend base on cosin similarity and jaccard similarity **"
   ]
  },
  {
   "cell_type": "code",
   "execution_count": 1,
   "metadata": {},
   "outputs": [],
   "source": [
    "import pickle\n",
    "import pandas as pd\n",
    "import numpy as np"
   ]
  },
  {
   "cell_type": "code",
   "execution_count": 2,
   "metadata": {},
   "outputs": [],
   "source": [
    "# makes printing a dict look nice\n",
    "import pprint\n",
    "pp = pprint.PrettyPrinter(indent=4)"
   ]
  },
  {
   "cell_type": "code",
   "execution_count": 3,
   "metadata": {},
   "outputs": [],
   "source": [
    "from collections import namedtuple\n",
    "# Create a namedtuple called 'Song'\n",
    "Song = namedtuple(\"Song\", [\"artist\", \"title\"])\n",
    "# I'm choosing to also include probability, so I'm making Mood a namedtuple as well\n",
    "Mood = namedtuple(\"Mood\", [\"description\", \"probability\"])"
   ]
  },
  {
   "cell_type": "markdown",
   "metadata": {},
   "source": [
    "## Load model"
   ]
  },
  {
   "cell_type": "code",
   "execution_count": 4,
   "metadata": {},
   "outputs": [],
   "source": [
    "predict_genres = pickle.load(open('predict_genres.pickle', 'rb'))\n",
    "predict_moods  = pickle.load(open('lyrics_predict_moods.rfc.pickle', 'rb'))\n",
    "my_database    = pickle.load(open('my_database.pickle', 'rb'))"
   ]
  },
  {
   "cell_type": "code",
   "execution_count": 5,
   "metadata": {},
   "outputs": [],
   "source": [
    "audio_features = np.array([5,\n",
    " 0.709932,\n",
    " 0.231455,\n",
    " 130.03,\n",
    " 0.12174099999999999,\n",
    " 0.036662,\n",
    " 0.0,\n",
    " 0,\n",
    " 4,\n",
    " 232.46104,\n",
    " -5.15,\n",
    " 0.37439000000000006,\n",
    " 0.7047289999999999,\n",
    " 0.5650000000000001,\n",
    " 0.5650000000000001,\n",
    " 0.743,\n",
    " 1.0])\n",
    "lyrics_features = 'party rock yeah woo let s go party rock is in the house tonight everybody just have a good time and we gon make you loose your mind wooo everybody just have a good time party rock is in the house tonight ooww everybody just have a good time and we gon make you loose your mind yeah we just wanna see you shake that in the club party rock look a pretty girl she on my jock huh non stop when we in the spot booty on the way like she on the block wooo with a drink i gots to know tight jeans tattoos cause i m rock n roll half black half white domino gain the money out the door yoo i m runnin through these hoes like drano i got that devilish flow rock n roll no halo we party rock yeah that s the crew that i m reppin on the rise to the stop no led in our zeppelin heeeey party rock is in the house tonight wooo everybody just have a good time hey and we gon make you loose your mind everybody just have a good time let s go party rock is in the house tonight everybody just have a good time and we gon make you loose your mind we just wanna see you shake that everyday i m shuffling shuffling shuffling step up fast be the first girl to make me throw this cash we gettin money don t be mad now stop hating is bad one more shot for us another round another round please fill up my cup don t mess around bitches wanna see you shake it now now you wanna be you re naked now get up get down put your hands up to the sound get up get down put your hands up to the sound get up get down put your hands up to the sound put your hands up to the sound put your hands up to the sound get up get up get up get up get up get up get up get up get up put your hands up to the sound to the sound put your hands up put your hands up put your hands up put your hands up party rock is in the house tonight put your hands up everybody just have a good time put your hands up and we gon make you loose your mind put your hands up everybody just have a good good good time ooohh ooooh put your hands up ooohh ooooh ooh ooh ooohh ooooh put your hands up ooohh ooooh put your hands up shake that everyday i m shu ff ffling put your put your put your put your yeaah put your put your wooo put your put your your hands up put your hands up put your hands up everyday i m shuffling'"
   ]
  },
  {
   "cell_type": "code",
   "execution_count": 6,
   "metadata": {
    "collapsed": true
   },
   "outputs": [],
   "source": [
    "from string import punctuation\n",
    "from sklearn.feature_extraction.stop_words import ENGLISH_STOP_WORDS\n",
    "from nltk.stem.snowball import SnowballStemmer\n",
    "\n",
    "translator = str.maketrans('','', punctuation)\n",
    "stemmer = SnowballStemmer('english')\n",
    "\n",
    "def clean_text(raw_text):\n",
    "    \n",
    "    clean_words = []\n",
    "    \n",
    "    raw_text = raw_text.lower()\n",
    "    raw_text = raw_text.translate(translator)\n",
    "    \n",
    "    for word in raw_text.split():\n",
    "        \n",
    "        if word not in ENGLISH_STOP_WORDS:\n",
    "            \n",
    "            clean_words.append(stemmer.stem(word))\n",
    "    \n",
    "    return \" \".join(clean_words)"
   ]
  },
  {
   "cell_type": "code",
   "execution_count": null,
   "metadata": {},
   "outputs": [],
   "source": [
    "# You should submit code that basically looks like this\n",
    "from sklearn.metrics import jaccard_similarity_score\n",
    "df_moods = my_database.moods.str.join(',').str.get_dummies(sep=',')\n",
    "df_genres_moods = pd.concat((my_database.genres, df_moods), axis=1)\n",
    "def recommend_similar_songs(audio_features, lyrics_features):\n",
    "    genre = predict_genres.predict(audio_features.reshape((1, -1)))\n",
    "    lyrics_features_clean = clean_text(lyrics_features)\n",
    "    moods = predict_moods.predict([lyrics_features_clean])\n",
    "    predict_result = np.concatenate((genre, moods[0].astype('int').astype('str')))\n",
    "    similarity = df_genres_moods.apply(lambda x: jaccard_similarity_score(predict_result, x.tolist()), axis=1)\n",
    "    similarity = similarity.sort_values(ascending=False)[0:50]\n",
    "    print(similarity.sample(3).index)\n",
    "    top_3 = my_database.iloc[similarity.sample(3).index,:]\n",
    "    result = [ Song(artist=row.artist, title=row.name) for row in top_3.iterrows()]\n",
    "    final_result_dictionary = dict(playlist=result)\n",
    "    return final_result_dictionary\n",
    "predict_genres_moods = recommend_similar_songs(audio_features, lyrics_features)\n",
    "print(predict_genres_moods)"
   ]
  }
 ],
 "metadata": {
  "kernelspec": {
   "display_name": "Python 3",
   "language": "python",
   "name": "python3"
  },
  "language_info": {
   "codemirror_mode": {
    "name": "ipython",
    "version": 3
   },
   "file_extension": ".py",
   "mimetype": "text/x-python",
   "name": "python",
   "nbconvert_exporter": "python",
   "pygments_lexer": "ipython3",
   "version": "3.6.4"
  }
 },
 "nbformat": 4,
 "nbformat_minor": 2
}
