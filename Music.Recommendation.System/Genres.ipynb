{
 "cells": [
  {
   "cell_type": "markdown",
   "metadata": {},
   "source": [
    "Music Recommendation System\n",
    "===========================\n",
    "**Predict genres**"
   ]
  },
  {
   "cell_type": "code",
   "execution_count": 1,
   "metadata": {},
   "outputs": [],
   "source": [
    "import pandas as pd\n",
    "import numpy as np\n",
    "import matplotlib.pyplot as plt"
   ]
  },
  {
   "cell_type": "code",
   "execution_count": 2,
   "metadata": {},
   "outputs": [],
   "source": [
    "df_song_list = pd.read_json('../MasterSongList.json')\n",
    "df_song_list['genres'] = df_song_list['genres'].apply(''.join)\n",
    "df_song_list['genres'] = df_song_list['genres'].map(lambda x: x.split(':')[0] if len(x) > 0 else np.nan)\n",
    "df_song_list.loc[:, 'moods'] = df_song_list.loc[:, 'moods'].apply(lambda x: x if len(x) > 0 else np.nan)\n",
    "df_moods = df_song_list.loc[:, 'moods'].str.join(',').str.get_dummies(sep=',')\n",
    "df_song_list.loc[df_song_list['genres'] == 'blues & blues rock', 'genres'] = 'blues'"
   ]
  },
  {
   "cell_type": "code",
   "execution_count": 12,
   "metadata": {},
   "outputs": [
    {
     "data": {
      "text/html": [
       "<div>\n",
       "<style scoped>\n",
       "    .dataframe tbody tr th:only-of-type {\n",
       "        vertical-align: middle;\n",
       "    }\n",
       "\n",
       "    .dataframe tbody tr th {\n",
       "        vertical-align: top;\n",
       "    }\n",
       "\n",
       "    .dataframe thead th {\n",
       "        text-align: right;\n",
       "    }\n",
       "</style>\n",
       "<table border=\"1\" class=\"dataframe\">\n",
       "  <thead>\n",
       "    <tr style=\"text-align: right;\">\n",
       "      <th></th>\n",
       "      <th>key</th>\n",
       "      <th>energy</th>\n",
       "      <th>liveliness</th>\n",
       "      <th>tempo</th>\n",
       "      <th>speechiness</th>\n",
       "      <th>acousticness</th>\n",
       "      <th>instrumentalness</th>\n",
       "      <th>time_signature</th>\n",
       "      <th>duration</th>\n",
       "      <th>loudness</th>\n",
       "      <th>valence</th>\n",
       "      <th>danceability</th>\n",
       "      <th>mode</th>\n",
       "      <th>time_signature_confidence</th>\n",
       "      <th>tempo_confidence</th>\n",
       "      <th>key_confidence</th>\n",
       "      <th>mode_confidence</th>\n",
       "    </tr>\n",
       "  </thead>\n",
       "  <tbody>\n",
       "    <tr>\n",
       "      <th>0</th>\n",
       "      <td>11.0</td>\n",
       "      <td>0.912744</td>\n",
       "      <td>0.083704</td>\n",
       "      <td>132.069</td>\n",
       "      <td>0.293137</td>\n",
       "      <td>0.005423</td>\n",
       "      <td>0.000001</td>\n",
       "      <td>0.0</td>\n",
       "      <td>4.0</td>\n",
       "      <td>218.30667</td>\n",
       "      <td>-3.890</td>\n",
       "      <td>0.752186</td>\n",
       "      <td>0.726920</td>\n",
       "      <td>0.552</td>\n",
       "      <td>0.541</td>\n",
       "      <td>1.000</td>\n",
       "      <td>1.000</td>\n",
       "    </tr>\n",
       "    <tr>\n",
       "      <th>1</th>\n",
       "      <td>6.0</td>\n",
       "      <td>0.745704</td>\n",
       "      <td>0.119955</td>\n",
       "      <td>100.008</td>\n",
       "      <td>0.046255</td>\n",
       "      <td>0.026230</td>\n",
       "      <td>0.012727</td>\n",
       "      <td>1.0</td>\n",
       "      <td>4.0</td>\n",
       "      <td>235.06086</td>\n",
       "      <td>-7.687</td>\n",
       "      <td>0.351282</td>\n",
       "      <td>0.691817</td>\n",
       "      <td>0.737</td>\n",
       "      <td>0.634</td>\n",
       "      <td>0.796</td>\n",
       "      <td>1.000</td>\n",
       "    </tr>\n",
       "    <tr>\n",
       "      <th>2</th>\n",
       "      <td>5.0</td>\n",
       "      <td>0.709932</td>\n",
       "      <td>0.231455</td>\n",
       "      <td>130.030</td>\n",
       "      <td>0.121741</td>\n",
       "      <td>0.036662</td>\n",
       "      <td>0.000000</td>\n",
       "      <td>0.0</td>\n",
       "      <td>4.0</td>\n",
       "      <td>232.46104</td>\n",
       "      <td>-5.150</td>\n",
       "      <td>0.374390</td>\n",
       "      <td>0.704729</td>\n",
       "      <td>0.565</td>\n",
       "      <td>0.565</td>\n",
       "      <td>0.743</td>\n",
       "      <td>1.000</td>\n",
       "    </tr>\n",
       "    <tr>\n",
       "      <th>3</th>\n",
       "      <td>3.0</td>\n",
       "      <td>0.705822</td>\n",
       "      <td>0.053292</td>\n",
       "      <td>126.009</td>\n",
       "      <td>0.126016</td>\n",
       "      <td>0.001966</td>\n",
       "      <td>0.000000</td>\n",
       "      <td>0.0</td>\n",
       "      <td>4.0</td>\n",
       "      <td>194.09333</td>\n",
       "      <td>-3.898</td>\n",
       "      <td>0.592798</td>\n",
       "      <td>0.875137</td>\n",
       "      <td>0.004</td>\n",
       "      <td>0.114</td>\n",
       "      <td>1.000</td>\n",
       "      <td>0.742</td>\n",
       "    </tr>\n",
       "    <tr>\n",
       "      <th>4</th>\n",
       "      <td>3.0</td>\n",
       "      <td>0.741757</td>\n",
       "      <td>0.072774</td>\n",
       "      <td>129.985</td>\n",
       "      <td>0.051255</td>\n",
       "      <td>0.096732</td>\n",
       "      <td>0.000474</td>\n",
       "      <td>0.0</td>\n",
       "      <td>4.0</td>\n",
       "      <td>285.42667</td>\n",
       "      <td>-5.860</td>\n",
       "      <td>0.585630</td>\n",
       "      <td>0.730711</td>\n",
       "      <td>0.271</td>\n",
       "      <td>0.324</td>\n",
       "      <td>0.822</td>\n",
       "      <td>1.000</td>\n",
       "    </tr>\n",
       "  </tbody>\n",
       "</table>\n",
       "</div>"
      ],
      "text/plain": [
       "    key    energy  liveliness    tempo  speechiness  acousticness  \\\n",
       "0  11.0  0.912744    0.083704  132.069     0.293137      0.005423   \n",
       "1   6.0  0.745704    0.119955  100.008     0.046255      0.026230   \n",
       "2   5.0  0.709932    0.231455  130.030     0.121741      0.036662   \n",
       "3   3.0  0.705822    0.053292  126.009     0.126016      0.001966   \n",
       "4   3.0  0.741757    0.072774  129.985     0.051255      0.096732   \n",
       "\n",
       "   instrumentalness  time_signature  duration   loudness  valence  \\\n",
       "0          0.000001             0.0       4.0  218.30667   -3.890   \n",
       "1          0.012727             1.0       4.0  235.06086   -7.687   \n",
       "2          0.000000             0.0       4.0  232.46104   -5.150   \n",
       "3          0.000000             0.0       4.0  194.09333   -3.898   \n",
       "4          0.000474             0.0       4.0  285.42667   -5.860   \n",
       "\n",
       "   danceability      mode  time_signature_confidence  tempo_confidence  \\\n",
       "0      0.752186  0.726920                      0.552             0.541   \n",
       "1      0.351282  0.691817                      0.737             0.634   \n",
       "2      0.374390  0.704729                      0.565             0.565   \n",
       "3      0.592798  0.875137                      0.004             0.114   \n",
       "4      0.585630  0.730711                      0.271             0.324   \n",
       "\n",
       "   key_confidence  mode_confidence  \n",
       "0           1.000            1.000  \n",
       "1           0.796            1.000  \n",
       "2           0.743            1.000  \n",
       "3           1.000            0.742  \n",
       "4           0.822            1.000  "
      ]
     },
     "execution_count": 12,
     "metadata": {},
     "output_type": "execute_result"
    }
   ],
   "source": [
    "feature_col_names = [\n",
    "                        'key',\n",
    "                        'energy',\n",
    "                        'liveliness',\n",
    "                        'tempo',\n",
    "                        'speechiness',\n",
    "                        'acousticness',\n",
    "                        'instrumentalness',\n",
    "                        'time_signature',\n",
    "                        'duration',\n",
    "                        'loudness',\n",
    "                        'valence',\n",
    "                        'danceability',\n",
    "                        'mode',\n",
    "                        'time_signature_confidence',\n",
    "                        'tempo_confidence',\n",
    "                        'key_confidence',\n",
    "                        'mode_confidence'\n",
    "                    ]\n",
    "df_audio_features = pd.DataFrame(df_song_list.loc[:, 'audio_features'].tolist(), columns=feature_col_names)\n",
    "df_audio_features.head()"
   ]
  },
  {
   "cell_type": "code",
   "execution_count": 13,
   "metadata": {},
   "outputs": [
    {
     "data": {
      "text/html": [
       "<div>\n",
       "<style scoped>\n",
       "    .dataframe tbody tr th:only-of-type {\n",
       "        vertical-align: middle;\n",
       "    }\n",
       "\n",
       "    .dataframe tbody tr th {\n",
       "        vertical-align: top;\n",
       "    }\n",
       "\n",
       "    .dataframe thead th {\n",
       "        text-align: right;\n",
       "    }\n",
       "</style>\n",
       "<table border=\"1\" class=\"dataframe\">\n",
       "  <thead>\n",
       "    <tr style=\"text-align: right;\">\n",
       "      <th></th>\n",
       "      <th>key</th>\n",
       "      <th>energy</th>\n",
       "      <th>liveliness</th>\n",
       "      <th>tempo</th>\n",
       "      <th>speechiness</th>\n",
       "      <th>acousticness</th>\n",
       "      <th>instrumentalness</th>\n",
       "      <th>time_signature</th>\n",
       "      <th>duration</th>\n",
       "      <th>loudness</th>\n",
       "      <th>valence</th>\n",
       "      <th>danceability</th>\n",
       "      <th>mode</th>\n",
       "      <th>time_signature_confidence</th>\n",
       "      <th>tempo_confidence</th>\n",
       "      <th>key_confidence</th>\n",
       "      <th>mode_confidence</th>\n",
       "      <th>genres</th>\n",
       "    </tr>\n",
       "  </thead>\n",
       "  <tbody>\n",
       "    <tr>\n",
       "      <th>0</th>\n",
       "      <td>11.0</td>\n",
       "      <td>0.912744</td>\n",
       "      <td>0.083704</td>\n",
       "      <td>132.069</td>\n",
       "      <td>0.293137</td>\n",
       "      <td>0.005423</td>\n",
       "      <td>0.000001</td>\n",
       "      <td>0.0</td>\n",
       "      <td>4.0</td>\n",
       "      <td>218.30667</td>\n",
       "      <td>-3.890</td>\n",
       "      <td>0.752186</td>\n",
       "      <td>0.726920</td>\n",
       "      <td>0.552</td>\n",
       "      <td>0.541</td>\n",
       "      <td>1.000</td>\n",
       "      <td>1.000</td>\n",
       "      <td>pop</td>\n",
       "    </tr>\n",
       "    <tr>\n",
       "      <th>1</th>\n",
       "      <td>6.0</td>\n",
       "      <td>0.745704</td>\n",
       "      <td>0.119955</td>\n",
       "      <td>100.008</td>\n",
       "      <td>0.046255</td>\n",
       "      <td>0.026230</td>\n",
       "      <td>0.012727</td>\n",
       "      <td>1.0</td>\n",
       "      <td>4.0</td>\n",
       "      <td>235.06086</td>\n",
       "      <td>-7.687</td>\n",
       "      <td>0.351282</td>\n",
       "      <td>0.691817</td>\n",
       "      <td>0.737</td>\n",
       "      <td>0.634</td>\n",
       "      <td>0.796</td>\n",
       "      <td>1.000</td>\n",
       "      <td>pop</td>\n",
       "    </tr>\n",
       "    <tr>\n",
       "      <th>2</th>\n",
       "      <td>3.0</td>\n",
       "      <td>0.705822</td>\n",
       "      <td>0.053292</td>\n",
       "      <td>126.009</td>\n",
       "      <td>0.126016</td>\n",
       "      <td>0.001966</td>\n",
       "      <td>0.000000</td>\n",
       "      <td>0.0</td>\n",
       "      <td>4.0</td>\n",
       "      <td>194.09333</td>\n",
       "      <td>-3.898</td>\n",
       "      <td>0.592798</td>\n",
       "      <td>0.875137</td>\n",
       "      <td>0.004</td>\n",
       "      <td>0.114</td>\n",
       "      <td>1.000</td>\n",
       "      <td>0.742</td>\n",
       "      <td>dance</td>\n",
       "    </tr>\n",
       "    <tr>\n",
       "      <th>3</th>\n",
       "      <td>8.0</td>\n",
       "      <td>0.777375</td>\n",
       "      <td>0.054104</td>\n",
       "      <td>104.946</td>\n",
       "      <td>0.029302</td>\n",
       "      <td>0.130350</td>\n",
       "      <td>0.000000</td>\n",
       "      <td>1.0</td>\n",
       "      <td>4.0</td>\n",
       "      <td>228.29333</td>\n",
       "      <td>-5.112</td>\n",
       "      <td>0.525632</td>\n",
       "      <td>0.729051</td>\n",
       "      <td>0.817</td>\n",
       "      <td>0.672</td>\n",
       "      <td>0.394</td>\n",
       "      <td>0.963</td>\n",
       "      <td>r&amp;b</td>\n",
       "    </tr>\n",
       "    <tr>\n",
       "      <th>4</th>\n",
       "      <td>7.0</td>\n",
       "      <td>0.585564</td>\n",
       "      <td>0.108297</td>\n",
       "      <td>120.014</td>\n",
       "      <td>0.038924</td>\n",
       "      <td>0.011707</td>\n",
       "      <td>0.000005</td>\n",
       "      <td>1.0</td>\n",
       "      <td>4.0</td>\n",
       "      <td>193.57333</td>\n",
       "      <td>-6.583</td>\n",
       "      <td>0.622176</td>\n",
       "      <td>0.781822</td>\n",
       "      <td>0.970</td>\n",
       "      <td>0.861</td>\n",
       "      <td>0.792</td>\n",
       "      <td>1.000</td>\n",
       "      <td>pop</td>\n",
       "    </tr>\n",
       "  </tbody>\n",
       "</table>\n",
       "</div>"
      ],
      "text/plain": [
       "    key    energy  liveliness    tempo  speechiness  acousticness  \\\n",
       "0  11.0  0.912744    0.083704  132.069     0.293137      0.005423   \n",
       "1   6.0  0.745704    0.119955  100.008     0.046255      0.026230   \n",
       "2   3.0  0.705822    0.053292  126.009     0.126016      0.001966   \n",
       "3   8.0  0.777375    0.054104  104.946     0.029302      0.130350   \n",
       "4   7.0  0.585564    0.108297  120.014     0.038924      0.011707   \n",
       "\n",
       "   instrumentalness  time_signature  duration   loudness  valence  \\\n",
       "0          0.000001             0.0       4.0  218.30667   -3.890   \n",
       "1          0.012727             1.0       4.0  235.06086   -7.687   \n",
       "2          0.000000             0.0       4.0  194.09333   -3.898   \n",
       "3          0.000000             1.0       4.0  228.29333   -5.112   \n",
       "4          0.000005             1.0       4.0  193.57333   -6.583   \n",
       "\n",
       "   danceability      mode  time_signature_confidence  tempo_confidence  \\\n",
       "0      0.752186  0.726920                      0.552             0.541   \n",
       "1      0.351282  0.691817                      0.737             0.634   \n",
       "2      0.592798  0.875137                      0.004             0.114   \n",
       "3      0.525632  0.729051                      0.817             0.672   \n",
       "4      0.622176  0.781822                      0.970             0.861   \n",
       "\n",
       "   key_confidence  mode_confidence genres  \n",
       "0           1.000            1.000    pop  \n",
       "1           0.796            1.000    pop  \n",
       "2           1.000            0.742  dance  \n",
       "3           0.394            0.963    r&b  \n",
       "4           0.792            1.000    pop  "
      ]
     },
     "execution_count": 13,
     "metadata": {},
     "output_type": "execute_result"
    }
   ],
   "source": [
    "df_song_list_filtered = df_song_list.groupby('genres').filter(lambda x: len(x) > 900)\n",
    "df_song_list_filtered.reset_index(inplace=True, drop=True)\n",
    "df_audio_features_filtered = pd.DataFrame(df_song_list_filtered.loc[:, 'audio_features'].tolist(), columns=feature_col_names)\n",
    "df_moods_filtered = df_song_list_filtered.loc[:, 'moods'].str.join(',').str.get_dummies(sep=',')\n",
    "df_audio_features_moods_filtered = pd.concat([df_audio_features_filtered, df_moods_filtered, df_song_list_filtered['genres']], axis=1)\n",
    "df_audio_features_genres_filtered = pd.concat([df_audio_features_filtered, df_song_list_filtered['genres']], axis=1)\n",
    "df_song_list_filtered.head()\n",
    "df_audio_features_filtered.head()\n",
    "# df_song_list_filtered.shape\n",
    "# df_audio_features_filtered.shape\n",
    "df_moods_filtered.head()\n",
    "df_audio_features_moods_filtered.head()\n",
    "df_audio_features_genres_filtered.head()"
   ]
  },
  {
   "cell_type": "code",
   "execution_count": 14,
   "metadata": {},
   "outputs": [
    {
     "data": {
      "text/html": [
       "<div>\n",
       "<style scoped>\n",
       "    .dataframe tbody tr th:only-of-type {\n",
       "        vertical-align: middle;\n",
       "    }\n",
       "\n",
       "    .dataframe tbody tr th {\n",
       "        vertical-align: top;\n",
       "    }\n",
       "\n",
       "    .dataframe thead th {\n",
       "        text-align: right;\n",
       "    }\n",
       "</style>\n",
       "<table border=\"1\" class=\"dataframe\">\n",
       "  <thead>\n",
       "    <tr style=\"text-align: right;\">\n",
       "      <th></th>\n",
       "      <th>key</th>\n",
       "      <th>energy</th>\n",
       "      <th>liveliness</th>\n",
       "      <th>tempo</th>\n",
       "      <th>speechiness</th>\n",
       "      <th>acousticness</th>\n",
       "      <th>instrumentalness</th>\n",
       "      <th>time_signature</th>\n",
       "      <th>duration</th>\n",
       "      <th>loudness</th>\n",
       "      <th>...</th>\n",
       "      <th>sexual</th>\n",
       "      <th>soothing</th>\n",
       "      <th>spacey</th>\n",
       "      <th>sprightly</th>\n",
       "      <th>sweet</th>\n",
       "      <th>trashy</th>\n",
       "      <th>trippy</th>\n",
       "      <th>visceral</th>\n",
       "      <th>warm</th>\n",
       "      <th>genres</th>\n",
       "    </tr>\n",
       "  </thead>\n",
       "  <tbody>\n",
       "    <tr>\n",
       "      <th>0</th>\n",
       "      <td>11.0</td>\n",
       "      <td>0.912744</td>\n",
       "      <td>0.083704</td>\n",
       "      <td>132.069</td>\n",
       "      <td>0.293137</td>\n",
       "      <td>0.005423</td>\n",
       "      <td>0.000001</td>\n",
       "      <td>0.0</td>\n",
       "      <td>4.0</td>\n",
       "      <td>218.30667</td>\n",
       "      <td>...</td>\n",
       "      <td>0</td>\n",
       "      <td>0</td>\n",
       "      <td>0</td>\n",
       "      <td>0</td>\n",
       "      <td>0</td>\n",
       "      <td>0</td>\n",
       "      <td>0</td>\n",
       "      <td>0</td>\n",
       "      <td>0</td>\n",
       "      <td>pop</td>\n",
       "    </tr>\n",
       "    <tr>\n",
       "      <th>1</th>\n",
       "      <td>6.0</td>\n",
       "      <td>0.745704</td>\n",
       "      <td>0.119955</td>\n",
       "      <td>100.008</td>\n",
       "      <td>0.046255</td>\n",
       "      <td>0.026230</td>\n",
       "      <td>0.012727</td>\n",
       "      <td>1.0</td>\n",
       "      <td>4.0</td>\n",
       "      <td>235.06086</td>\n",
       "      <td>...</td>\n",
       "      <td>0</td>\n",
       "      <td>0</td>\n",
       "      <td>0</td>\n",
       "      <td>0</td>\n",
       "      <td>0</td>\n",
       "      <td>0</td>\n",
       "      <td>0</td>\n",
       "      <td>0</td>\n",
       "      <td>0</td>\n",
       "      <td>pop</td>\n",
       "    </tr>\n",
       "    <tr>\n",
       "      <th>2</th>\n",
       "      <td>5.0</td>\n",
       "      <td>0.709932</td>\n",
       "      <td>0.231455</td>\n",
       "      <td>130.030</td>\n",
       "      <td>0.121741</td>\n",
       "      <td>0.036662</td>\n",
       "      <td>0.000000</td>\n",
       "      <td>0.0</td>\n",
       "      <td>4.0</td>\n",
       "      <td>232.46104</td>\n",
       "      <td>...</td>\n",
       "      <td>0</td>\n",
       "      <td>0</td>\n",
       "      <td>0</td>\n",
       "      <td>0</td>\n",
       "      <td>0</td>\n",
       "      <td>0</td>\n",
       "      <td>0</td>\n",
       "      <td>0</td>\n",
       "      <td>0</td>\n",
       "      <td>NaN</td>\n",
       "    </tr>\n",
       "    <tr>\n",
       "      <th>3</th>\n",
       "      <td>3.0</td>\n",
       "      <td>0.705822</td>\n",
       "      <td>0.053292</td>\n",
       "      <td>126.009</td>\n",
       "      <td>0.126016</td>\n",
       "      <td>0.001966</td>\n",
       "      <td>0.000000</td>\n",
       "      <td>0.0</td>\n",
       "      <td>4.0</td>\n",
       "      <td>194.09333</td>\n",
       "      <td>...</td>\n",
       "      <td>0</td>\n",
       "      <td>0</td>\n",
       "      <td>0</td>\n",
       "      <td>0</td>\n",
       "      <td>0</td>\n",
       "      <td>0</td>\n",
       "      <td>0</td>\n",
       "      <td>0</td>\n",
       "      <td>0</td>\n",
       "      <td>dance</td>\n",
       "    </tr>\n",
       "    <tr>\n",
       "      <th>4</th>\n",
       "      <td>3.0</td>\n",
       "      <td>0.741757</td>\n",
       "      <td>0.072774</td>\n",
       "      <td>129.985</td>\n",
       "      <td>0.051255</td>\n",
       "      <td>0.096732</td>\n",
       "      <td>0.000474</td>\n",
       "      <td>0.0</td>\n",
       "      <td>4.0</td>\n",
       "      <td>285.42667</td>\n",
       "      <td>...</td>\n",
       "      <td>0</td>\n",
       "      <td>0</td>\n",
       "      <td>0</td>\n",
       "      <td>0</td>\n",
       "      <td>0</td>\n",
       "      <td>0</td>\n",
       "      <td>0</td>\n",
       "      <td>0</td>\n",
       "      <td>0</td>\n",
       "      <td>reggaeton</td>\n",
       "    </tr>\n",
       "  </tbody>\n",
       "</table>\n",
       "<p>5 rows × 50 columns</p>\n",
       "</div>"
      ],
      "text/plain": [
       "    key    energy  liveliness    tempo  speechiness  acousticness  \\\n",
       "0  11.0  0.912744    0.083704  132.069     0.293137      0.005423   \n",
       "1   6.0  0.745704    0.119955  100.008     0.046255      0.026230   \n",
       "2   5.0  0.709932    0.231455  130.030     0.121741      0.036662   \n",
       "3   3.0  0.705822    0.053292  126.009     0.126016      0.001966   \n",
       "4   3.0  0.741757    0.072774  129.985     0.051255      0.096732   \n",
       "\n",
       "   instrumentalness  time_signature  duration   loudness    ...      sexual  \\\n",
       "0          0.000001             0.0       4.0  218.30667    ...           0   \n",
       "1          0.012727             1.0       4.0  235.06086    ...           0   \n",
       "2          0.000000             0.0       4.0  232.46104    ...           0   \n",
       "3          0.000000             0.0       4.0  194.09333    ...           0   \n",
       "4          0.000474             0.0       4.0  285.42667    ...           0   \n",
       "\n",
       "   soothing  spacey  sprightly  sweet  trashy  trippy  visceral  warm  \\\n",
       "0         0       0          0      0       0       0         0     0   \n",
       "1         0       0          0      0       0       0         0     0   \n",
       "2         0       0          0      0       0       0         0     0   \n",
       "3         0       0          0      0       0       0         0     0   \n",
       "4         0       0          0      0       0       0         0     0   \n",
       "\n",
       "      genres  \n",
       "0        pop  \n",
       "1        pop  \n",
       "2        NaN  \n",
       "3      dance  \n",
       "4  reggaeton  \n",
       "\n",
       "[5 rows x 50 columns]"
      ]
     },
     "execution_count": 14,
     "metadata": {},
     "output_type": "execute_result"
    }
   ],
   "source": [
    "df_audio_features_moods = pd.concat([df_audio_features, df_moods, df_song_list['genres']], axis=1)\n",
    "df_audio_features_moods.head()"
   ]
  },
  {
   "cell_type": "code",
   "execution_count": 15,
   "metadata": {},
   "outputs": [
    {
     "data": {
      "text/html": [
       "<div>\n",
       "<style scoped>\n",
       "    .dataframe tbody tr th:only-of-type {\n",
       "        vertical-align: middle;\n",
       "    }\n",
       "\n",
       "    .dataframe tbody tr th {\n",
       "        vertical-align: top;\n",
       "    }\n",
       "\n",
       "    .dataframe thead th {\n",
       "        text-align: right;\n",
       "    }\n",
       "</style>\n",
       "<table border=\"1\" class=\"dataframe\">\n",
       "  <thead>\n",
       "    <tr style=\"text-align: right;\">\n",
       "      <th></th>\n",
       "      <th>key</th>\n",
       "      <th>energy</th>\n",
       "      <th>liveliness</th>\n",
       "      <th>tempo</th>\n",
       "      <th>speechiness</th>\n",
       "      <th>acousticness</th>\n",
       "      <th>instrumentalness</th>\n",
       "      <th>time_signature</th>\n",
       "      <th>duration</th>\n",
       "      <th>loudness</th>\n",
       "      <th>valence</th>\n",
       "      <th>danceability</th>\n",
       "      <th>mode</th>\n",
       "      <th>time_signature_confidence</th>\n",
       "      <th>tempo_confidence</th>\n",
       "      <th>key_confidence</th>\n",
       "      <th>mode_confidence</th>\n",
       "      <th>genres</th>\n",
       "    </tr>\n",
       "  </thead>\n",
       "  <tbody>\n",
       "    <tr>\n",
       "      <th>0</th>\n",
       "      <td>11.0</td>\n",
       "      <td>0.912744</td>\n",
       "      <td>0.083704</td>\n",
       "      <td>132.069</td>\n",
       "      <td>0.293137</td>\n",
       "      <td>0.005423</td>\n",
       "      <td>0.000001</td>\n",
       "      <td>0.0</td>\n",
       "      <td>4.0</td>\n",
       "      <td>218.30667</td>\n",
       "      <td>-3.890</td>\n",
       "      <td>0.752186</td>\n",
       "      <td>0.726920</td>\n",
       "      <td>0.552</td>\n",
       "      <td>0.541</td>\n",
       "      <td>1.000</td>\n",
       "      <td>1.000</td>\n",
       "      <td>pop</td>\n",
       "    </tr>\n",
       "    <tr>\n",
       "      <th>1</th>\n",
       "      <td>6.0</td>\n",
       "      <td>0.745704</td>\n",
       "      <td>0.119955</td>\n",
       "      <td>100.008</td>\n",
       "      <td>0.046255</td>\n",
       "      <td>0.026230</td>\n",
       "      <td>0.012727</td>\n",
       "      <td>1.0</td>\n",
       "      <td>4.0</td>\n",
       "      <td>235.06086</td>\n",
       "      <td>-7.687</td>\n",
       "      <td>0.351282</td>\n",
       "      <td>0.691817</td>\n",
       "      <td>0.737</td>\n",
       "      <td>0.634</td>\n",
       "      <td>0.796</td>\n",
       "      <td>1.000</td>\n",
       "      <td>pop</td>\n",
       "    </tr>\n",
       "    <tr>\n",
       "      <th>2</th>\n",
       "      <td>5.0</td>\n",
       "      <td>0.709932</td>\n",
       "      <td>0.231455</td>\n",
       "      <td>130.030</td>\n",
       "      <td>0.121741</td>\n",
       "      <td>0.036662</td>\n",
       "      <td>0.000000</td>\n",
       "      <td>0.0</td>\n",
       "      <td>4.0</td>\n",
       "      <td>232.46104</td>\n",
       "      <td>-5.150</td>\n",
       "      <td>0.374390</td>\n",
       "      <td>0.704729</td>\n",
       "      <td>0.565</td>\n",
       "      <td>0.565</td>\n",
       "      <td>0.743</td>\n",
       "      <td>1.000</td>\n",
       "      <td>NaN</td>\n",
       "    </tr>\n",
       "    <tr>\n",
       "      <th>3</th>\n",
       "      <td>3.0</td>\n",
       "      <td>0.705822</td>\n",
       "      <td>0.053292</td>\n",
       "      <td>126.009</td>\n",
       "      <td>0.126016</td>\n",
       "      <td>0.001966</td>\n",
       "      <td>0.000000</td>\n",
       "      <td>0.0</td>\n",
       "      <td>4.0</td>\n",
       "      <td>194.09333</td>\n",
       "      <td>-3.898</td>\n",
       "      <td>0.592798</td>\n",
       "      <td>0.875137</td>\n",
       "      <td>0.004</td>\n",
       "      <td>0.114</td>\n",
       "      <td>1.000</td>\n",
       "      <td>0.742</td>\n",
       "      <td>dance</td>\n",
       "    </tr>\n",
       "    <tr>\n",
       "      <th>4</th>\n",
       "      <td>3.0</td>\n",
       "      <td>0.741757</td>\n",
       "      <td>0.072774</td>\n",
       "      <td>129.985</td>\n",
       "      <td>0.051255</td>\n",
       "      <td>0.096732</td>\n",
       "      <td>0.000474</td>\n",
       "      <td>0.0</td>\n",
       "      <td>4.0</td>\n",
       "      <td>285.42667</td>\n",
       "      <td>-5.860</td>\n",
       "      <td>0.585630</td>\n",
       "      <td>0.730711</td>\n",
       "      <td>0.271</td>\n",
       "      <td>0.324</td>\n",
       "      <td>0.822</td>\n",
       "      <td>1.000</td>\n",
       "      <td>reggaeton</td>\n",
       "    </tr>\n",
       "  </tbody>\n",
       "</table>\n",
       "</div>"
      ],
      "text/plain": [
       "    key    energy  liveliness    tempo  speechiness  acousticness  \\\n",
       "0  11.0  0.912744    0.083704  132.069     0.293137      0.005423   \n",
       "1   6.0  0.745704    0.119955  100.008     0.046255      0.026230   \n",
       "2   5.0  0.709932    0.231455  130.030     0.121741      0.036662   \n",
       "3   3.0  0.705822    0.053292  126.009     0.126016      0.001966   \n",
       "4   3.0  0.741757    0.072774  129.985     0.051255      0.096732   \n",
       "\n",
       "   instrumentalness  time_signature  duration   loudness  valence  \\\n",
       "0          0.000001             0.0       4.0  218.30667   -3.890   \n",
       "1          0.012727             1.0       4.0  235.06086   -7.687   \n",
       "2          0.000000             0.0       4.0  232.46104   -5.150   \n",
       "3          0.000000             0.0       4.0  194.09333   -3.898   \n",
       "4          0.000474             0.0       4.0  285.42667   -5.860   \n",
       "\n",
       "   danceability      mode  time_signature_confidence  tempo_confidence  \\\n",
       "0      0.752186  0.726920                      0.552             0.541   \n",
       "1      0.351282  0.691817                      0.737             0.634   \n",
       "2      0.374390  0.704729                      0.565             0.565   \n",
       "3      0.592798  0.875137                      0.004             0.114   \n",
       "4      0.585630  0.730711                      0.271             0.324   \n",
       "\n",
       "   key_confidence  mode_confidence     genres  \n",
       "0           1.000            1.000        pop  \n",
       "1           0.796            1.000        pop  \n",
       "2           0.743            1.000        NaN  \n",
       "3           1.000            0.742      dance  \n",
       "4           0.822            1.000  reggaeton  "
      ]
     },
     "execution_count": 15,
     "metadata": {},
     "output_type": "execute_result"
    }
   ],
   "source": [
    "df_audio_features_genres = pd.concat([df_audio_features, df_song_list['genres']], axis=1)\n",
    "df_audio_features_genres.head()"
   ]
  },
  {
   "cell_type": "code",
   "execution_count": 16,
   "metadata": {},
   "outputs": [
    {
     "data": {
      "text/plain": [
       "rock                       7485\n",
       "rap                        2931\n",
       "r&b                        2721\n",
       "dance                      2391\n",
       "jazz                       2295\n",
       "indie                      2089\n",
       "electronica                1476\n",
       "latin                      1312\n",
       "country                    1284\n",
       "singer-songwriter          1189\n",
       "classical                  1092\n",
       "blues                       902\n",
       "pop                         901\n",
       "reggae & ska                754\n",
       "funk                        566\n",
       "oldies                      548\n",
       "folk                        487\n",
       "international/world         462\n",
       "int'l                       329\n",
       "dubstep & drum 'n' bass     318\n",
       "bluegrass                   302\n",
       "children's                  260\n",
       "film scores                 245\n",
       "christian                   236\n",
       "easy listening              196\n",
       "reggaeton                   127\n",
       "showtunes                   105\n",
       "nature sounds                34\n",
       "hawaiian                     20\n",
       "Name: genres, dtype: int64"
      ]
     },
     "execution_count": 16,
     "metadata": {},
     "output_type": "execute_result"
    }
   ],
   "source": [
    "df_audio_features_genres.genres.value_counts()"
   ]
  },
  {
   "cell_type": "code",
   "execution_count": 3,
   "metadata": {},
   "outputs": [],
   "source": [
    "from sklearn.model_selection import train_test_split\n",
    "from sklearn.neighbors import KNeighborsClassifier\n",
    "from sklearn.linear_model import LogisticRegression\n",
    "from sklearn.svm import SVC\n",
    "from sklearn.naive_bayes import GaussianNB\n",
    "from sklearn.ensemble import VotingClassifier, RandomForestClassifier\n",
    "from sklearn.pipeline import Pipeline\n",
    "from sklearn.preprocessing import StandardScaler, MinMaxScaler\n",
    "\n",
    "def build_genres_model(X, y):\n",
    "    nb =  GaussianNB()\n",
    "    svm = SVC(probability=True, class_weight='balanced')\n",
    "    rfc  = RandomForestClassifier(class_weight='balanced')\n",
    "    clfs = [\n",
    "        ('nb' , nb),\n",
    "        ('svm', svm),\n",
    "        ('rfc', rfc)\n",
    "    ]\n",
    "    \n",
    "    voting_cls = VotingClassifier(clfs, voting='soft')\n",
    "    scaler = MinMaxScaler()\n",
    "    \n",
    "    steps = [\n",
    "        ('scaler', scaler),\n",
    "        ('voting_cls',voting_cls)\n",
    "    ]\n",
    "    return Pipeline(steps=steps)\n",
    "    \n",
    "def train_genres_model(X, y):\n",
    "    pass\n",
    "def test_genres_model(X, y):\n",
    "    pass"
   ]
  },
  {
   "cell_type": "markdown",
   "metadata": {},
   "source": [
    "## Model Selection"
   ]
  },
  {
   "cell_type": "markdown",
   "metadata": {},
   "source": [
    "## pipeline + gridSearchCV\n",
    "```python\n",
    "pipe = Pipeline([\n",
    "    ('reduce_dim', PCA()),\n",
    "    ('classify', LinearSVC())\n",
    "])\n",
    "\n",
    "N_FEATURES_OPTIONS = [2, 4, 8]\n",
    "C_OPTIONS = [1, 10, 100, 1000]\n",
    "param_grid = [\n",
    "    {\n",
    "        'reduce_dim': [PCA(iterated_power=7), NMF()],\n",
    "        'reduce_dim__n_components': N_FEATURES_OPTIONS,\n",
    "        'classify__C': C_OPTIONS\n",
    "    },\n",
    "    {\n",
    "        'reduce_dim': [SelectKBest(chi2)],\n",
    "        'reduce_dim__k': N_FEATURES_OPTIONS,\n",
    "        'classify__C': C_OPTIONS\n",
    "    },\n",
    "]\n",
    "reducer_labels = ['PCA', 'NMF', 'KBest(chi2)']\n",
    "\n",
    "grid = GridSearchCV(pipe, cv=3, n_jobs=1, param_grid=param_grid)\n",
    "```"
   ]
  },
  {
   "cell_type": "code",
   "execution_count": 4,
   "metadata": {},
   "outputs": [],
   "source": [
    "from sklearn.model_selection import GridSearchCV"
   ]
  },
  {
   "cell_type": "code",
   "execution_count": 16,
   "metadata": {},
   "outputs": [],
   "source": [
    "param_grids = {\n",
    "    'voting_cls__voting': ['hard', 'soft'],\n",
    "    'voting_cls__svm__C':[0.1,1, 100, 1000],\n",
    "    'voting_cls__svm__gamma':[1,0.01,0.001,0.0001],\n",
    "    'voting_cls__rfc__n_estimators': [ 10, 100],\n",
    "    'voting_cls__rfc__min_samples_split': [4, 5, 10],\n",
    "#     'voting_cls__rfc__max_features': ['sqrt', 'log2', 'auto']\n",
    "}"
   ]
  },
  {
   "cell_type": "markdown",
   "metadata": {},
   "source": [
    "## Feature selection"
   ]
  },
  {
   "cell_type": "code",
   "execution_count": 46,
   "metadata": {},
   "outputs": [
    {
     "data": {
      "text/plain": [
       "SelectKBest(k=10, score_func=<function f_classif at 0x7fb7149cc378>)"
      ]
     },
     "execution_count": 46,
     "metadata": {},
     "output_type": "execute_result"
    }
   ],
   "source": [
    "from sklearn.feature_selection import chi2, SelectKBest\n",
    "X = df_audio_features_genres.drop('genres', axis=1)\n",
    "y = df_audio_features_genres['genres']\n",
    "kbest = SelectKBest(k = 10)\n",
    "kbest.fit(X, y)"
   ]
  },
  {
   "cell_type": "code",
   "execution_count": 60,
   "metadata": {},
   "outputs": [
    {
     "name": "stdout",
     "output_type": "stream",
     "text": [
      "[  3.33527448 464.06962699  18.88506472  42.91744741 373.7629087\n",
      " 612.64705323 284.5312043   51.19627414  24.95778269 102.8895384\n",
      " 367.45060945 211.62303198 465.11556891  52.00999985  79.26048311\n",
      " 140.33772996 119.78246729]\n",
      "[False  True False False  True  True  True False False  True  True  True\n",
      "  True False False  True  True]\n",
      "{'k': 10, 'score_func': <function f_classif at 0x7fb7149cc378>}\n"
     ]
    }
   ],
   "source": [
    "kbest.get_support()\n",
    "print(kbest.scores_)\n",
    "print(kbest.get_support())\n",
    "print(kbest.get_params())"
   ]
  },
  {
   "cell_type": "code",
   "execution_count": 59,
   "metadata": {},
   "outputs": [
    {
     "data": {
      "text/plain": [
       "Index(['energy', 'speechiness', 'acousticness', 'instrumentalness', 'loudness',\n",
       "       'valence', 'danceability', 'mode', 'key_confidence', 'mode_confidence'],\n",
       "      dtype='object')"
      ]
     },
     "execution_count": 59,
     "metadata": {},
     "output_type": "execute_result"
    }
   ],
   "source": [
    "X.columns[kbest.get_support()]"
   ]
  },
  {
   "cell_type": "code",
   "execution_count": 30,
   "metadata": {},
   "outputs": [
    {
     "data": {
      "text/plain": [
       "rock                       6435\n",
       "rap                        2452\n",
       "r&b                        2344\n",
       "dance                      2000\n",
       "jazz                       1889\n",
       "indie                      1834\n",
       "electronica                1249\n",
       "country                    1075\n",
       "singer-songwriter          1034\n",
       "latin                      1032\n",
       "blues                       727\n",
       "pop                         689\n",
       "reggae & ska                617\n",
       "funk                        470\n",
       "classical                   455\n",
       "oldies                      454\n",
       "folk                        402\n",
       "international/world         311\n",
       "dubstep & drum 'n' bass     272\n",
       "int'l                       256\n",
       "bluegrass                   213\n",
       "christian                   204\n",
       "children's                  196\n",
       "film scores                 180\n",
       "easy listening              151\n",
       "reggaeton                   102\n",
       "showtunes                    91\n",
       "nature sounds                15\n",
       "hawaiian                     12\n",
       "Name: genres, dtype: int64"
      ]
     },
     "execution_count": 30,
     "metadata": {},
     "output_type": "execute_result"
    }
   ],
   "source": [
    "df_audio_features_genres.dropna(inplace=True)\n",
    "df_audio_features_genres['genres'].value_counts()"
   ]
  },
  {
   "cell_type": "code",
   "execution_count": 31,
   "metadata": {},
   "outputs": [
    {
     "data": {
      "text/plain": [
       "Pipeline(memory=None,\n",
       "     steps=[('scaler', MinMaxScaler(copy=True, feature_range=(0, 1))), ('voting_cls', VotingClassifier(estimators=[('knn', KNeighborsClassifier(algorithm='auto', leaf_size=30, metric='minkowski',\n",
       "           metric_params=None, n_jobs=1, n_neighbors=5, p=2,\n",
       "           weights='uniform')), ('lg', LogisticR...se=0, warm_start=False))],\n",
       "         flatten_transform=None, n_jobs=4, voting='soft', weights=None))])"
      ]
     },
     "execution_count": 31,
     "metadata": {},
     "output_type": "execute_result"
    }
   ],
   "source": [
    "X = df_audio_features_genres.drop('genres', axis=1)\n",
    "y = df_audio_features_genres['genres']\n",
    "X_train, X_test, y_train, y_test = train_test_split(X, y, test_size=0.3, random_state=101)\n",
    "vtcls = build_genres_model(df_audio_features_genres, 'genres')\n",
    "vtcls.fit(X_train, y_train)"
   ]
  },
  {
   "cell_type": "code",
   "execution_count": 65,
   "metadata": {},
   "outputs": [],
   "source": [
    "from sklearn.metrics import classification_report\n",
    "nb  = GaussianNB()\n",
    "svm = SVC(probability=True, class_weight='balanced')\n",
    "rfc = RandomForestClassifier()\n",
    "clfs = [\n",
    "    ('nb' , nb),\n",
    "    ('svm', svm),\n",
    "    ('rfc' , rfc)\n",
    "]"
   ]
  },
  {
   "cell_type": "code",
   "execution_count": 32,
   "metadata": {},
   "outputs": [],
   "source": [
    "scaler = StandardScaler()\n",
    "X_train_scaled = scaler.fit_transform(X_train)\n",
    "X_test_scaled = scaler.transform(X_test)\n",
    "for name, estimator in clfs:\n",
    "    estimator.fit(X_train_scaled, y_train)"
   ]
  },
  {
   "cell_type": "code",
   "execution_count": 33,
   "metadata": {},
   "outputs": [
    {
     "name": "stdout",
     "output_type": "stream",
     "text": [
      "estimator: knn\n"
     ]
    },
    {
     "name": "stderr",
     "output_type": "stream",
     "text": [
      "/home/dks/anaconda3/envs/py3/lib/python3.6/site-packages/sklearn/metrics/classification.py:1135: UndefinedMetricWarning: Precision and F-score are ill-defined and being set to 0.0 in labels with no predicted samples.\n",
      "  'precision', 'predicted', average, warn_for)\n"
     ]
    },
    {
     "name": "stdout",
     "output_type": "stream",
     "text": [
      "                         precision    recall  f1-score   support\n",
      "\n",
      "              bluegrass       0.18      0.28      0.22        65\n",
      "                  blues       0.14      0.26      0.19       200\n",
      "             children's       0.03      0.05      0.04        55\n",
      "              christian       0.01      0.02      0.01        61\n",
      "              classical       0.31      0.49      0.38       144\n",
      "                country       0.15      0.25      0.19       309\n",
      "                  dance       0.36      0.49      0.41       625\n",
      "dubstep & drum 'n' bass       0.10      0.05      0.07        84\n",
      "         easy listening       0.11      0.06      0.08        47\n",
      "            electronica       0.29      0.21      0.25       383\n",
      "            film scores       0.14      0.09      0.11        57\n",
      "                   folk       0.11      0.09      0.10       114\n",
      "                   funk       0.11      0.09      0.10       140\n",
      "              hawaiian        0.00      0.00      0.00         6\n",
      "                  indie       0.14      0.13      0.13       523\n",
      "                  int'l       0.00      0.00      0.00        71\n",
      "    international/world       0.10      0.03      0.05       100\n",
      "                   jazz       0.37      0.41      0.39       569\n",
      "                  latin       0.27      0.17      0.21       305\n",
      "          nature sounds       0.00      0.00      0.00         4\n",
      "                 oldies       0.05      0.02      0.03       138\n",
      "                    pop       0.13      0.06      0.08       223\n",
      "                    r&b       0.27      0.23      0.25       739\n",
      "                    rap       0.57      0.59      0.58       777\n",
      "           reggae & ska       0.29      0.09      0.13       199\n",
      "              reggaeton       0.00      0.00      0.00        36\n",
      "                   rock       0.51      0.59      0.54      1859\n",
      "              showtunes       0.00      0.00      0.00        30\n",
      "      singer-songwriter       0.18      0.10      0.13       286\n",
      "\n",
      "            avg / total       0.32      0.34      0.33      8149\n",
      "\n",
      "estimator: lg\n",
      "                         precision    recall  f1-score   support\n",
      "\n",
      "              bluegrass       0.40      0.09      0.15        65\n",
      "                  blues       0.32      0.12      0.17       200\n",
      "             children's       0.00      0.00      0.00        55\n",
      "              christian       0.00      0.00      0.00        61\n",
      "              classical       0.44      0.35      0.39       144\n",
      "                country       0.21      0.15      0.17       309\n",
      "                  dance       0.47      0.50      0.48       625\n",
      "dubstep & drum 'n' bass       1.00      0.01      0.02        84\n",
      "         easy listening       0.33      0.02      0.04        47\n",
      "            electronica       0.41      0.20      0.27       383\n",
      "            film scores       0.75      0.05      0.10        57\n",
      "                   folk       0.25      0.01      0.02       114\n",
      "                   funk       0.44      0.03      0.05       140\n",
      "              hawaiian        0.00      0.00      0.00         6\n",
      "                  indie       0.18      0.03      0.06       523\n",
      "                  int'l       0.00      0.00      0.00        71\n",
      "    international/world       0.00      0.00      0.00       100\n",
      "                   jazz       0.36      0.55      0.43       569\n",
      "                  latin       0.31      0.24      0.27       305\n",
      "          nature sounds       0.00      0.00      0.00         4\n",
      "                 oldies       0.06      0.01      0.01       138\n",
      "                    pop       0.00      0.00      0.00       223\n",
      "                    r&b       0.30      0.27      0.28       739\n",
      "                    rap       0.55      0.70      0.61       777\n",
      "           reggae & ska       0.28      0.10      0.15       199\n",
      "              reggaeton       0.00      0.00      0.00        36\n",
      "                   rock       0.42      0.81      0.56      1859\n",
      "              showtunes       0.00      0.00      0.00        30\n",
      "      singer-songwriter       0.22      0.25      0.23       286\n",
      "\n",
      "            avg / total       0.35      0.40      0.34      8149\n",
      "\n",
      "estimator: svm\n",
      "                         precision    recall  f1-score   support\n",
      "\n",
      "              bluegrass       0.16      0.51      0.25        65\n",
      "                  blues       0.33      0.38      0.35       200\n",
      "             children's       0.08      0.16      0.10        55\n",
      "              christian       0.06      0.23      0.09        61\n",
      "              classical       0.41      0.66      0.50       144\n",
      "                country       0.24      0.28      0.26       309\n",
      "                  dance       0.53      0.40      0.45       625\n",
      "dubstep & drum 'n' bass       0.16      0.57      0.25        84\n",
      "         easy listening       0.10      0.28      0.15        47\n",
      "            electronica       0.34      0.29      0.32       383\n",
      "            film scores       0.19      0.42      0.26        57\n",
      "                   folk       0.11      0.18      0.14       114\n",
      "                   funk       0.13      0.36      0.19       140\n",
      "              hawaiian        0.00      0.00      0.00         6\n",
      "                  indie       0.25      0.12      0.16       523\n",
      "                  int'l       0.00      0.00      0.00        71\n",
      "    international/world       0.09      0.13      0.10       100\n",
      "                   jazz       0.50      0.40      0.44       569\n",
      "                  latin       0.31      0.29      0.30       305\n",
      "          nature sounds       1.00      0.75      0.86         4\n",
      "                 oldies       0.13      0.41      0.20       138\n",
      "                    pop       0.13      0.23      0.16       223\n",
      "                    r&b       0.36      0.12      0.18       739\n",
      "                    rap       0.64      0.57      0.60       777\n",
      "           reggae & ska       0.26      0.46      0.33       199\n",
      "              reggaeton       0.07      0.33      0.11        36\n",
      "                   rock       0.78      0.39      0.52      1859\n",
      "              showtunes       0.06      0.23      0.10        30\n",
      "      singer-songwriter       0.19      0.21      0.20       286\n",
      "\n",
      "            avg / total       0.44      0.34      0.36      8149\n",
      "\n",
      "estimator: nb\n",
      "                         precision    recall  f1-score   support\n",
      "\n",
      "              bluegrass       0.24      0.37      0.29        65\n",
      "                  blues       0.28      0.10      0.15       200\n",
      "             children's       0.00      0.00      0.00        55\n",
      "              christian       0.05      0.02      0.02        61\n",
      "              classical       0.31      0.74      0.43       144\n",
      "                country       0.17      0.29      0.21       309\n",
      "                  dance       0.38      0.52      0.44       625\n",
      "dubstep & drum 'n' bass       0.14      0.08      0.11        84\n",
      "         easy listening       0.10      0.19      0.13        47\n",
      "            electronica       0.34      0.11      0.17       383\n",
      "            film scores       0.14      0.25      0.17        57\n",
      "                   folk       0.06      0.02      0.03       114\n",
      "                   funk       0.17      0.14      0.15       140\n",
      "              hawaiian        0.08      0.50      0.14         6\n",
      "                  indie       0.23      0.05      0.08       523\n",
      "                  int'l       0.00      0.00      0.00        71\n",
      "    international/world       0.00      0.00      0.00       100\n",
      "                   jazz       0.39      0.38      0.39       569\n",
      "                  latin       0.37      0.10      0.15       305\n",
      "          nature sounds       0.18      0.75      0.29         4\n",
      "                 oldies       0.12      0.11      0.11       138\n",
      "                    pop       0.06      0.13      0.08       223\n",
      "                    r&b       0.26      0.13      0.18       739\n",
      "                    rap       0.61      0.50      0.55       777\n",
      "           reggae & ska       0.18      0.49      0.26       199\n",
      "              reggaeton       0.03      0.58      0.06        36\n",
      "                   rock       0.61      0.47      0.53      1859\n",
      "              showtunes       0.00      0.00      0.00        30\n",
      "      singer-songwriter       0.18      0.36      0.24       286\n",
      "\n",
      "            avg / total       0.36      0.32      0.32      8149\n",
      "\n",
      "estimator: voting_cls\n",
      "                         precision    recall  f1-score   support\n",
      "\n",
      "              bluegrass       0.33      0.05      0.08        65\n",
      "                  blues       0.12      0.12      0.12       200\n",
      "             children's       0.25      0.02      0.03        55\n",
      "              christian       0.00      0.00      0.00        61\n",
      "              classical       0.09      0.83      0.16       144\n",
      "                country       0.20      0.10      0.14       309\n",
      "                  dance       0.40      0.45      0.42       625\n",
      "dubstep & drum 'n' bass       0.00      0.00      0.00        84\n",
      "         easy listening       0.00      0.00      0.00        47\n",
      "            electronica       0.37      0.11      0.17       383\n",
      "            film scores       0.08      0.26      0.12        57\n",
      "                   folk       0.02      0.01      0.01       114\n",
      "                   funk       0.08      0.01      0.02       140\n",
      "              hawaiian        0.00      0.00      0.00         6\n",
      "                  indie       0.11      0.03      0.04       523\n",
      "                  int'l       0.00      0.00      0.00        71\n",
      "    international/world       0.00      0.00      0.00       100\n",
      "                   jazz       0.28      0.15      0.20       569\n",
      "                  latin       0.39      0.09      0.15       305\n",
      "          nature sounds       0.00      0.00      0.00         4\n",
      "                 oldies       0.12      0.01      0.03       138\n",
      "                    pop       0.14      0.00      0.01       223\n",
      "                    r&b       0.29      0.10      0.15       739\n",
      "                    rap       0.49      0.72      0.58       777\n",
      "           reggae & ska       0.20      0.20      0.20       199\n",
      "              reggaeton       0.00      0.00      0.00        36\n",
      "                   rock       0.46      0.74      0.57      1859\n",
      "              showtunes       0.00      0.00      0.00        30\n",
      "      singer-songwriter       0.13      0.05      0.07       286\n",
      "\n",
      "            avg / total       0.30      0.33      0.28      8149\n",
      "\n"
     ]
    },
    {
     "name": "stderr",
     "output_type": "stream",
     "text": [
      "/home/dks/anaconda3/envs/py3/lib/python3.6/site-packages/sklearn/preprocessing/label.py:151: DeprecationWarning: The truth value of an empty array is ambiguous. Returning False, but in future this will result in an error. Use `array.size > 0` to check that an array is not empty.\n",
      "  if diff:\n"
     ]
    }
   ],
   "source": [
    "clfs_plus = clfs + [('voting_cls', vtcls)]\n",
    "\n",
    "for name, estimator in clfs_plus:\n",
    "    print(\"estimator: {}\".format(name))\n",
    "    print(classification_report(y_test, estimator.predict(X_test_scaled)))"
   ]
  },
  {
   "cell_type": "code",
   "execution_count": 10,
   "metadata": {},
   "outputs": [
    {
     "name": "stdout",
     "output_type": "stream",
     "text": [
      "                         precision    recall  f1-score   support\n",
      "\n",
      "              bluegrass       0.46      0.29      0.36        65\n",
      "     blues & blues rock       0.42      0.21      0.28       200\n",
      "             children's       0.00      0.00      0.00        55\n",
      "              christian       0.00      0.00      0.00        61\n",
      "              classical       0.38      0.69      0.49       144\n",
      "                country       0.24      0.26      0.25       309\n",
      "                  dance       0.42      0.54      0.48       625\n",
      "dubstep & drum 'n' bass       0.71      0.06      0.11        84\n",
      "         easy listening       0.15      0.09      0.11        47\n",
      "            electronica       0.45      0.20      0.28       383\n",
      "            film scores       0.37      0.19      0.25        57\n",
      "                   folk       0.14      0.03      0.04       114\n",
      "                   funk       0.21      0.09      0.12       140\n",
      "              hawaiian        0.00      0.00      0.00         6\n",
      "                  indie       0.22      0.03      0.06       523\n",
      "                  int'l       0.00      0.00      0.00        71\n",
      "    international/world       0.00      0.00      0.00       100\n",
      "                   jazz       0.39      0.56      0.46       569\n",
      "                  latin       0.39      0.23      0.29       305\n",
      "          nature sounds       0.38      0.75      0.50         4\n",
      "                 oldies       0.13      0.04      0.06       138\n",
      "                    pop       0.12      0.02      0.03       223\n",
      "                    r&b       0.31      0.29      0.30       739\n",
      "                    rap       0.57      0.69      0.62       777\n",
      "           reggae & ska       0.30      0.28      0.29       199\n",
      "              reggaeton       0.06      0.14      0.08        36\n",
      "                   rock       0.50      0.76      0.60      1859\n",
      "              showtunes       0.00      0.00      0.00        30\n",
      "      singer-songwriter       0.21      0.31      0.25       286\n",
      "\n",
      "            avg / total       0.37      0.42      0.37      8149\n",
      "\n"
     ]
    },
    {
     "name": "stderr",
     "output_type": "stream",
     "text": [
      "/home/dks/anaconda3/lib/python3.6/site-packages/sklearn/preprocessing/label.py:151: DeprecationWarning: The truth value of an empty array is ambiguous. Returning False, but in future this will result in an error. Use `array.size > 0` to check that an array is not empty.\n",
      "  if diff:\n"
     ]
    }
   ],
   "source": [
    " print(classification_report(y_test, vtcls.predict(X_test)))"
   ]
  },
  {
   "cell_type": "markdown",
   "metadata": {},
   "source": [
    "## Filtered genres (more than 900 instance)"
   ]
  },
  {
   "cell_type": "code",
   "execution_count": 34,
   "metadata": {},
   "outputs": [
    {
     "data": {
      "text/plain": [
       "Pipeline(memory=None,\n",
       "     steps=[('scaler', MinMaxScaler(copy=True, feature_range=(0, 1))), ('voting_cls', VotingClassifier(estimators=[('knn', KNeighborsClassifier(algorithm='auto', leaf_size=30, metric='minkowski',\n",
       "           metric_params=None, n_jobs=1, n_neighbors=5, p=2,\n",
       "           weights='uniform')), ('lg', LogisticR...se=0, warm_start=False))],\n",
       "         flatten_transform=None, n_jobs=4, voting='soft', weights=None))])"
      ]
     },
     "execution_count": 34,
     "metadata": {},
     "output_type": "execute_result"
    }
   ],
   "source": [
    "df_audio_features_genres_filtered_clean = df_audio_features_genres_filtered.dropna()\n",
    "X = df_audio_features_genres_filtered_clean.drop('genres', axis=1)\n",
    "y = df_audio_features_genres_filtered_clean['genres']\n",
    "X_train, X_test, y_train, y_test = train_test_split(X, y, test_size=0.3, random_state=101)\n",
    "vtcls_filtered = build_genres_model(df_audio_features_genres_filtered_clean, 'genres')\n",
    "vtcls_filtered.fit(X_train, y_train)\n",
    "# df_audio_features_genres_filtered.head()"
   ]
  },
  {
   "cell_type": "code",
   "execution_count": 35,
   "metadata": {},
   "outputs": [
    {
     "name": "stdout",
     "output_type": "stream",
     "text": [
      "                   precision    recall  f1-score   support\n",
      "\n",
      "            blues       0.53      0.22      0.31       220\n",
      "        classical       0.53      0.49      0.51       136\n",
      "          country       0.28      0.16      0.21       299\n",
      "            dance       0.48      0.52      0.50       590\n",
      "      electronica       0.48      0.23      0.31       387\n",
      "            indie       0.26      0.04      0.06       559\n",
      "             jazz       0.43      0.59      0.50       550\n",
      "            latin       0.40      0.25      0.31       288\n",
      "              pop       0.19      0.01      0.03       219\n",
      "              r&b       0.36      0.37      0.36       684\n",
      "              rap       0.65      0.69      0.67       739\n",
      "             rock       0.52      0.78      0.63      1973\n",
      "singer-songwriter       0.32      0.25      0.28       321\n",
      "\n",
      "      avg / total       0.45      0.48      0.44      6965\n",
      "\n"
     ]
    },
    {
     "name": "stderr",
     "output_type": "stream",
     "text": [
      "/home/dks/anaconda3/envs/py3/lib/python3.6/site-packages/sklearn/preprocessing/label.py:151: DeprecationWarning: The truth value of an empty array is ambiguous. Returning False, but in future this will result in an error. Use `array.size > 0` to check that an array is not empty.\n",
      "  if diff:\n"
     ]
    }
   ],
   "source": [
    "from sklearn.metrics import classification_report\n",
    "print(classification_report(y_test, vtcls_filtered.predict(X_test)))"
   ]
  },
  {
   "cell_type": "code",
   "execution_count": 27,
   "metadata": {},
   "outputs": [],
   "source": [
    "# import pickle\n",
    "# pickle.dump(vtcls_filtered, open('predict_genres.pickle', 'wb'))"
   ]
  },
  {
   "cell_type": "code",
   "execution_count": 13,
   "metadata": {},
   "outputs": [
    {
     "data": {
      "text/plain": [
       "'party rock yeah woo let s go party rock is in the house tonight everybody just have a good time and we gon make you loose your mind wooo everybody just have a good time party rock is in the house tonight ooww everybody just have a good time and we gon make you loose your mind yeah we just wanna see you shake that in the club party rock look a pretty girl she on my jock huh non stop when we in the spot booty on the way like she on the block wooo with a drink i gots to know tight jeans tattoos cause i m rock n roll half black half white domino gain the money out the door yoo i m runnin through these hoes like drano i got that devilish flow rock n roll no halo we party rock yeah that s the crew that i m reppin on the rise to the stop no led in our zeppelin heeeey party rock is in the house tonight wooo everybody just have a good time hey and we gon make you loose your mind everybody just have a good time let s go party rock is in the house tonight everybody just have a good time and we gon make you loose your mind we just wanna see you shake that everyday i m shuffling shuffling shuffling step up fast be the first girl to make me throw this cash we gettin money don t be mad now stop hating is bad one more shot for us another round another round please fill up my cup don t mess around bitches wanna see you shake it now now you wanna be you re naked now get up get down put your hands up to the sound get up get down put your hands up to the sound get up get down put your hands up to the sound put your hands up to the sound put your hands up to the sound get up get up get up get up get up get up get up get up get up put your hands up to the sound to the sound put your hands up put your hands up put your hands up put your hands up party rock is in the house tonight put your hands up everybody just have a good time put your hands up and we gon make you loose your mind put your hands up everybody just have a good good good time ooohh ooooh put your hands up ooohh ooooh ooh ooh ooohh ooooh put your hands up ooohh ooooh put your hands up shake that everyday i m shu ff ffling put your put your put your put your yeaah put your put your wooo put your put your your hands up put your hands up put your hands up everyday i m shuffling'"
      ]
     },
     "execution_count": 13,
     "metadata": {},
     "output_type": "execute_result"
    }
   ],
   "source": [
    "df_audio_features_genres\n",
    "' '.join(df_song_list.iloc[2].lyrics_features)"
   ]
  },
  {
   "cell_type": "code",
   "execution_count": 15,
   "metadata": {},
   "outputs": [
    {
     "data": {
      "text/plain": [
       "[5,\n",
       " 0.709932,\n",
       " 0.231455,\n",
       " 130.03,\n",
       " 0.12174099999999999,\n",
       " 0.036662,\n",
       " 0.0,\n",
       " 0,\n",
       " 4,\n",
       " 232.46104,\n",
       " -5.15,\n",
       " 0.37439000000000006,\n",
       " 0.7047289999999999,\n",
       " 0.5650000000000001,\n",
       " 0.5650000000000001,\n",
       " 0.743,\n",
       " 1.0]"
      ]
     },
     "execution_count": 15,
     "metadata": {},
     "output_type": "execute_result"
    }
   ],
   "source": [
    "df_song_list.iloc[2].audio_features"
   ]
  },
  {
   "cell_type": "markdown",
   "metadata": {},
   "source": [
    "## Using pickle to load dataframe"
   ]
  },
  {
   "cell_type": "code",
   "execution_count": 6,
   "metadata": {},
   "outputs": [
    {
     "data": {
      "text/html": [
       "<div>\n",
       "<style scoped>\n",
       "    .dataframe tbody tr th:only-of-type {\n",
       "        vertical-align: middle;\n",
       "    }\n",
       "\n",
       "    .dataframe tbody tr th {\n",
       "        vertical-align: top;\n",
       "    }\n",
       "\n",
       "    .dataframe thead th {\n",
       "        text-align: right;\n",
       "    }\n",
       "</style>\n",
       "<table border=\"1\" class=\"dataframe\">\n",
       "  <thead>\n",
       "    <tr style=\"text-align: right;\">\n",
       "      <th></th>\n",
       "      <th>artist</th>\n",
       "      <th>name</th>\n",
       "      <th>audio_features</th>\n",
       "      <th>lyrics_features</th>\n",
       "      <th>genres</th>\n",
       "      <th>moods</th>\n",
       "    </tr>\n",
       "  </thead>\n",
       "  <tbody>\n",
       "    <tr>\n",
       "      <th>0</th>\n",
       "      <td>Merle Haggard</td>\n",
       "      <td>Workin' Man Blues</td>\n",
       "      <td>[2, 0.419332, 0.031391999999999996, 105.352, 0...</td>\n",
       "      <td>[it, s, a, big, job, just, gettin, by, with, n...</td>\n",
       "      <td>country</td>\n",
       "      <td>[earthy]</td>\n",
       "    </tr>\n",
       "    <tr>\n",
       "      <th>1</th>\n",
       "      <td>DJ Center</td>\n",
       "      <td>Yes! (Featuring Zaki Ibrahim)</td>\n",
       "      <td>[5, 0.548063, 0.10377199999999999, 92.022, 0.0...</td>\n",
       "      <td>[]</td>\n",
       "      <td>rap</td>\n",
       "      <td>[happy, sad]</td>\n",
       "    </tr>\n",
       "    <tr>\n",
       "      <th>2</th>\n",
       "      <td>Devendra Banhart</td>\n",
       "      <td>Freely</td>\n",
       "      <td>[4, 0.196956, 0.10985099999999999, 140.55, 0.0...</td>\n",
       "      <td>[it, ain, t, about, a, heart, to, find, it, s,...</td>\n",
       "      <td>indie</td>\n",
       "      <td>[sad]</td>\n",
       "    </tr>\n",
       "    <tr>\n",
       "      <th>3</th>\n",
       "      <td>Bobby Vee</td>\n",
       "      <td>Sharing You</td>\n",
       "      <td>[8, 0.356188, 0.169035, 110.14, 0.030354, 0.70...</td>\n",
       "      <td>[peak, billboard, position, 15, in, 1962, word...</td>\n",
       "      <td>rock</td>\n",
       "      <td>[earthy]</td>\n",
       "    </tr>\n",
       "    <tr>\n",
       "      <th>4</th>\n",
       "      <td>Bone Thugs-N-Harmony</td>\n",
       "      <td>Hardtimes</td>\n",
       "      <td>[10, 0.5808869999999999, 0.13563, 140.22, 0.02...</td>\n",
       "      <td>[yeah, i, m, just, tryin, to, prepare, myself,...</td>\n",
       "      <td>rap</td>\n",
       "      <td>[happy, sad]</td>\n",
       "    </tr>\n",
       "  </tbody>\n",
       "</table>\n",
       "</div>"
      ],
      "text/plain": [
       "                 artist                           name  \\\n",
       "0         Merle Haggard              Workin' Man Blues   \n",
       "1             DJ Center  Yes! (Featuring Zaki Ibrahim)   \n",
       "2      Devendra Banhart                         Freely   \n",
       "3             Bobby Vee                    Sharing You   \n",
       "4  Bone Thugs-N-Harmony                      Hardtimes   \n",
       "\n",
       "                                      audio_features  \\\n",
       "0  [2, 0.419332, 0.031391999999999996, 105.352, 0...   \n",
       "1  [5, 0.548063, 0.10377199999999999, 92.022, 0.0...   \n",
       "2  [4, 0.196956, 0.10985099999999999, 140.55, 0.0...   \n",
       "3  [8, 0.356188, 0.169035, 110.14, 0.030354, 0.70...   \n",
       "4  [10, 0.5808869999999999, 0.13563, 140.22, 0.02...   \n",
       "\n",
       "                                     lyrics_features   genres         moods  \n",
       "0  [it, s, a, big, job, just, gettin, by, with, n...  country      [earthy]  \n",
       "1                                                 []      rap  [happy, sad]  \n",
       "2  [it, ain, t, about, a, heart, to, find, it, s,...    indie         [sad]  \n",
       "3  [peak, billboard, position, 15, in, 1962, word...     rock      [earthy]  \n",
       "4  [yeah, i, m, just, tryin, to, prepare, myself,...      rap  [happy, sad]  "
      ]
     },
     "execution_count": 6,
     "metadata": {},
     "output_type": "execute_result"
    }
   ],
   "source": [
    "import pickle\n",
    "my_database = pd.read_pickle('my_database_new.pickle')\n",
    "my_database.head()"
   ]
  },
  {
   "cell_type": "code",
   "execution_count": 7,
   "metadata": {},
   "outputs": [
    {
     "data": {
      "text/plain": [
       "17    21459\n",
       "0      4518\n",
       "Name: audio_features, dtype: int64"
      ]
     },
     "execution_count": 7,
     "metadata": {},
     "output_type": "execute_result"
    }
   ],
   "source": [
    "my_database['audio_features'].isnull().value_counts()\n",
    "my_database['audio_features'].str.len().value_counts()"
   ]
  },
  {
   "cell_type": "code",
   "execution_count": 8,
   "metadata": {},
   "outputs": [
    {
     "data": {
      "text/plain": [
       "4     9780\n",
       "3     6553\n",
       "5     5792\n",
       "11    1476\n",
       "7     1284\n",
       "9     1092\n",
       "Name: genres, dtype: int64"
      ]
     },
     "execution_count": 8,
     "metadata": {},
     "output_type": "execute_result"
    }
   ],
   "source": [
    "my_database['genres'].str.len().value_counts()"
   ]
  },
  {
   "cell_type": "code",
   "execution_count": 9,
   "metadata": {},
   "outputs": [
    {
     "data": {
      "text/html": [
       "<div>\n",
       "<style scoped>\n",
       "    .dataframe tbody tr th:only-of-type {\n",
       "        vertical-align: middle;\n",
       "    }\n",
       "\n",
       "    .dataframe tbody tr th {\n",
       "        vertical-align: top;\n",
       "    }\n",
       "\n",
       "    .dataframe thead th {\n",
       "        text-align: right;\n",
       "    }\n",
       "</style>\n",
       "<table border=\"1\" class=\"dataframe\">\n",
       "  <thead>\n",
       "    <tr style=\"text-align: right;\">\n",
       "      <th></th>\n",
       "      <th>key</th>\n",
       "      <th>energy</th>\n",
       "      <th>liveliness</th>\n",
       "      <th>tempo</th>\n",
       "      <th>speechiness</th>\n",
       "      <th>acousticness</th>\n",
       "      <th>instrumentalness</th>\n",
       "      <th>time_signature</th>\n",
       "      <th>duration</th>\n",
       "      <th>loudness</th>\n",
       "      <th>valence</th>\n",
       "      <th>danceability</th>\n",
       "      <th>mode</th>\n",
       "      <th>time_signature_confidence</th>\n",
       "      <th>tempo_confidence</th>\n",
       "      <th>key_confidence</th>\n",
       "      <th>mode_confidence</th>\n",
       "    </tr>\n",
       "  </thead>\n",
       "  <tbody>\n",
       "    <tr>\n",
       "      <th>0</th>\n",
       "      <td>2.0</td>\n",
       "      <td>0.419332</td>\n",
       "      <td>0.031392</td>\n",
       "      <td>105.352</td>\n",
       "      <td>0.033737</td>\n",
       "      <td>0.286198</td>\n",
       "      <td>0.015986</td>\n",
       "      <td>1.0</td>\n",
       "      <td>4.0</td>\n",
       "      <td>162.12000</td>\n",
       "      <td>-16.718</td>\n",
       "      <td>0.844026</td>\n",
       "      <td>0.833461</td>\n",
       "      <td>0.541</td>\n",
       "      <td>0.640</td>\n",
       "      <td>0.848</td>\n",
       "      <td>1.000</td>\n",
       "    </tr>\n",
       "    <tr>\n",
       "      <th>1</th>\n",
       "      <td>5.0</td>\n",
       "      <td>0.548063</td>\n",
       "      <td>0.103772</td>\n",
       "      <td>92.022</td>\n",
       "      <td>0.040763</td>\n",
       "      <td>0.146351</td>\n",
       "      <td>0.081452</td>\n",
       "      <td>0.0</td>\n",
       "      <td>4.0</td>\n",
       "      <td>259.42667</td>\n",
       "      <td>-6.125</td>\n",
       "      <td>0.580668</td>\n",
       "      <td>0.755222</td>\n",
       "      <td>0.285</td>\n",
       "      <td>0.462</td>\n",
       "      <td>0.940</td>\n",
       "      <td>0.990</td>\n",
       "    </tr>\n",
       "    <tr>\n",
       "      <th>2</th>\n",
       "      <td>4.0</td>\n",
       "      <td>0.196956</td>\n",
       "      <td>0.109851</td>\n",
       "      <td>140.550</td>\n",
       "      <td>0.041798</td>\n",
       "      <td>0.677967</td>\n",
       "      <td>0.496227</td>\n",
       "      <td>1.0</td>\n",
       "      <td>4.0</td>\n",
       "      <td>298.53333</td>\n",
       "      <td>-18.621</td>\n",
       "      <td>0.168069</td>\n",
       "      <td>0.338994</td>\n",
       "      <td>0.333</td>\n",
       "      <td>0.462</td>\n",
       "      <td>0.017</td>\n",
       "      <td>0.849</td>\n",
       "    </tr>\n",
       "    <tr>\n",
       "      <th>3</th>\n",
       "      <td>8.0</td>\n",
       "      <td>0.356188</td>\n",
       "      <td>0.169035</td>\n",
       "      <td>110.140</td>\n",
       "      <td>0.030354</td>\n",
       "      <td>0.707248</td>\n",
       "      <td>0.000006</td>\n",
       "      <td>1.0</td>\n",
       "      <td>4.0</td>\n",
       "      <td>123.10667</td>\n",
       "      <td>-13.528</td>\n",
       "      <td>0.439992</td>\n",
       "      <td>0.503739</td>\n",
       "      <td>0.272</td>\n",
       "      <td>0.294</td>\n",
       "      <td>0.255</td>\n",
       "      <td>1.000</td>\n",
       "    </tr>\n",
       "    <tr>\n",
       "      <th>4</th>\n",
       "      <td>10.0</td>\n",
       "      <td>0.580887</td>\n",
       "      <td>0.135630</td>\n",
       "      <td>140.220</td>\n",
       "      <td>0.027578</td>\n",
       "      <td>0.258097</td>\n",
       "      <td>0.405780</td>\n",
       "      <td>1.0</td>\n",
       "      <td>4.0</td>\n",
       "      <td>169.40000</td>\n",
       "      <td>-6.654</td>\n",
       "      <td>0.791455</td>\n",
       "      <td>0.735931</td>\n",
       "      <td>0.817</td>\n",
       "      <td>0.377</td>\n",
       "      <td>0.456</td>\n",
       "      <td>1.000</td>\n",
       "    </tr>\n",
       "  </tbody>\n",
       "</table>\n",
       "</div>"
      ],
      "text/plain": [
       "    key    energy  liveliness    tempo  speechiness  acousticness  \\\n",
       "0   2.0  0.419332    0.031392  105.352     0.033737      0.286198   \n",
       "1   5.0  0.548063    0.103772   92.022     0.040763      0.146351   \n",
       "2   4.0  0.196956    0.109851  140.550     0.041798      0.677967   \n",
       "3   8.0  0.356188    0.169035  110.140     0.030354      0.707248   \n",
       "4  10.0  0.580887    0.135630  140.220     0.027578      0.258097   \n",
       "\n",
       "   instrumentalness  time_signature  duration   loudness  valence  \\\n",
       "0          0.015986             1.0       4.0  162.12000  -16.718   \n",
       "1          0.081452             0.0       4.0  259.42667   -6.125   \n",
       "2          0.496227             1.0       4.0  298.53333  -18.621   \n",
       "3          0.000006             1.0       4.0  123.10667  -13.528   \n",
       "4          0.405780             1.0       4.0  169.40000   -6.654   \n",
       "\n",
       "   danceability      mode  time_signature_confidence  tempo_confidence  \\\n",
       "0      0.844026  0.833461                      0.541             0.640   \n",
       "1      0.580668  0.755222                      0.285             0.462   \n",
       "2      0.168069  0.338994                      0.333             0.462   \n",
       "3      0.439992  0.503739                      0.272             0.294   \n",
       "4      0.791455  0.735931                      0.817             0.377   \n",
       "\n",
       "   key_confidence  mode_confidence  \n",
       "0           0.848            1.000  \n",
       "1           0.940            0.990  \n",
       "2           0.017            0.849  \n",
       "3           0.255            1.000  \n",
       "4           0.456            1.000  "
      ]
     },
     "execution_count": 9,
     "metadata": {},
     "output_type": "execute_result"
    }
   ],
   "source": [
    "feature_col_names = [\n",
    "                        'key',\n",
    "                        'energy',\n",
    "                        'liveliness',\n",
    "                        'tempo',\n",
    "                        'speechiness',\n",
    "                        'acousticness',\n",
    "                        'instrumentalness',\n",
    "                        'time_signature',\n",
    "                        'duration',\n",
    "                        'loudness',\n",
    "                        'valence',\n",
    "                        'danceability',\n",
    "                        'mode',\n",
    "                        'time_signature_confidence',\n",
    "                        'tempo_confidence',\n",
    "                        'key_confidence',\n",
    "                        'mode_confidence'\n",
    "                    ]\n",
    "n_df_audio_features = pd.DataFrame(my_database.loc[:, 'audio_features'].tolist(), columns=feature_col_names)\n",
    "n_df_audio_features.head()"
   ]
  },
  {
   "cell_type": "code",
   "execution_count": 10,
   "metadata": {},
   "outputs": [
    {
     "data": {
      "text/plain": [
       "rock           7485\n",
       "rap            2931\n",
       "r&b            2721\n",
       "dance          2391\n",
       "jazz           2295\n",
       "indie          2089\n",
       "electronica    1476\n",
       "latin          1312\n",
       "country        1284\n",
       "classical      1092\n",
       "pop             901\n",
       "Name: genres, dtype: int64"
      ]
     },
     "execution_count": 10,
     "metadata": {},
     "output_type": "execute_result"
    }
   ],
   "source": [
    "my_database['genres'].value_counts()"
   ]
  },
  {
   "cell_type": "code",
   "execution_count": 11,
   "metadata": {},
   "outputs": [],
   "source": [
    "n_df_audio_features_genres = pd.concat([my_database['genres'], n_df_audio_features], axis=1)"
   ]
  },
  {
   "cell_type": "code",
   "execution_count": 12,
   "metadata": {},
   "outputs": [],
   "source": [
    "n_df_audio_features_genres.dropna(inplace=True)\n",
    "X = n_df_audio_features_genres.drop(['genres', 'time_signature_confidence','tempo_confidence','key_confidence','mode_confidence'], axis=1)\n",
    "y = n_df_audio_features_genres['genres']\n",
    "X_train, X_test, y_train, y_test = train_test_split(X, y, test_size=0.3, random_state=101)\n",
    "vtcls = build_genres_model(n_df_audio_features_genres, 'genres')"
   ]
  },
  {
   "cell_type": "code",
   "execution_count": 17,
   "metadata": {},
   "outputs": [
    {
     "name": "stdout",
     "output_type": "stream",
     "text": [
      "Fitting 3 folds for each of 192 candidates, totalling 576 fits\n",
      "[CV] voting_cls__voting=hard, voting_cls__svm__gamma=1, voting_cls__svm__C=0.1, voting_cls__rfc__n_estimators=10, voting_cls__rfc__min_samples_split=4 \n",
      "[CV] voting_cls__voting=hard, voting_cls__svm__gamma=1, voting_cls__svm__C=0.1, voting_cls__rfc__n_estimators=10, voting_cls__rfc__min_samples_split=4 \n",
      "[CV] voting_cls__voting=hard, voting_cls__svm__gamma=1, voting_cls__svm__C=0.1, voting_cls__rfc__n_estimators=10, voting_cls__rfc__min_samples_split=4 \n",
      "[CV] voting_cls__voting=soft, voting_cls__svm__gamma=1, voting_cls__svm__C=0.1, voting_cls__rfc__n_estimators=10, voting_cls__rfc__min_samples_split=4 \n",
      "[CV] voting_cls__voting=soft, voting_cls__svm__gamma=1, voting_cls__svm__C=0.1, voting_cls__rfc__n_estimators=10, voting_cls__rfc__min_samples_split=4 \n",
      "[CV] voting_cls__voting=soft, voting_cls__svm__gamma=1, voting_cls__svm__C=0.1, voting_cls__rfc__n_estimators=10, voting_cls__rfc__min_samples_split=4 \n",
      "[CV] voting_cls__voting=hard, voting_cls__svm__gamma=0.01, voting_cls__svm__C=0.1, voting_cls__rfc__n_estimators=10, voting_cls__rfc__min_samples_split=4 \n",
      "[CV] voting_cls__voting=hard, voting_cls__svm__gamma=0.01, voting_cls__svm__C=0.1, voting_cls__rfc__n_estimators=10, voting_cls__rfc__min_samples_split=4 \n",
      "[CV] voting_cls__voting=hard, voting_cls__svm__gamma=0.01, voting_cls__svm__C=0.1, voting_cls__rfc__n_estimators=10, voting_cls__rfc__min_samples_split=4 \n",
      "[CV] voting_cls__voting=soft, voting_cls__svm__gamma=0.01, voting_cls__svm__C=0.1, voting_cls__rfc__n_estimators=10, voting_cls__rfc__min_samples_split=4 \n",
      "[CV] voting_cls__voting=hard, voting_cls__svm__gamma=0.001, voting_cls__svm__C=0.1, voting_cls__rfc__n_estimators=10, voting_cls__rfc__min_samples_split=4 \n",
      "[CV] voting_cls__voting=soft, voting_cls__svm__gamma=0.01, voting_cls__svm__C=0.1, voting_cls__rfc__n_estimators=10, voting_cls__rfc__min_samples_split=4 \n",
      "[CV] voting_cls__voting=hard, voting_cls__svm__gamma=0.001, voting_cls__svm__C=0.1, voting_cls__rfc__n_estimators=10, voting_cls__rfc__min_samples_split=4 \n",
      "[CV] voting_cls__voting=hard, voting_cls__svm__gamma=0.001, voting_cls__svm__C=0.1, voting_cls__rfc__n_estimators=10, voting_cls__rfc__min_samples_split=4 \n",
      "[CV] voting_cls__voting=soft, voting_cls__svm__gamma=0.01, voting_cls__svm__C=0.1, voting_cls__rfc__n_estimators=10, voting_cls__rfc__min_samples_split=4 \n",
      "[CV] voting_cls__voting=soft, voting_cls__svm__gamma=0.001, voting_cls__svm__C=0.1, voting_cls__rfc__n_estimators=10, voting_cls__rfc__min_samples_split=4 \n"
     ]
    },
    {
     "name": "stderr",
     "output_type": "stream",
     "text": [
      "/home/dks/anaconda3/lib/python3.5/site-packages/sklearn/preprocessing/label.py:151: DeprecationWarning: The truth value of an empty array is ambiguous. Returning False, but in future this will result in an error. Use `array.size > 0` to check that an array is not empty.\n",
      "  if diff:\n",
      "/home/dks/anaconda3/lib/python3.5/site-packages/sklearn/preprocessing/label.py:151: DeprecationWarning: The truth value of an empty array is ambiguous. Returning False, but in future this will result in an error. Use `array.size > 0` to check that an array is not empty.\n",
      "  if diff:\n",
      "/home/dks/anaconda3/lib/python3.5/site-packages/sklearn/preprocessing/label.py:151: DeprecationWarning: The truth value of an empty array is ambiguous. Returning False, but in future this will result in an error. Use `array.size > 0` to check that an array is not empty.\n",
      "  if diff:\n",
      "/home/dks/anaconda3/lib/python3.5/site-packages/sklearn/preprocessing/label.py:151: DeprecationWarning: The truth value of an empty array is ambiguous. Returning False, but in future this will result in an error. Use `array.size > 0` to check that an array is not empty.\n",
      "  if diff:\n",
      "/home/dks/anaconda3/lib/python3.5/site-packages/sklearn/preprocessing/label.py:151: DeprecationWarning: The truth value of an empty array is ambiguous. Returning False, but in future this will result in an error. Use `array.size > 0` to check that an array is not empty.\n",
      "  if diff:\n",
      "/home/dks/anaconda3/lib/python3.5/site-packages/sklearn/preprocessing/label.py:151: DeprecationWarning: The truth value of an empty array is ambiguous. Returning False, but in future this will result in an error. Use `array.size > 0` to check that an array is not empty.\n",
      "  if diff:\n",
      "/home/dks/anaconda3/lib/python3.5/site-packages/sklearn/preprocessing/label.py:151: DeprecationWarning: The truth value of an empty array is ambiguous. Returning False, but in future this will result in an error. Use `array.size > 0` to check that an array is not empty.\n",
      "  if diff:\n"
     ]
    },
    {
     "name": "stdout",
     "output_type": "stream",
     "text": [
      "[CV]  voting_cls__voting=hard, voting_cls__svm__gamma=1, voting_cls__svm__C=0.1, voting_cls__rfc__n_estimators=10, voting_cls__rfc__min_samples_split=4, score=0.42908509788254096, total= 1.7min\n",
      "[CV] voting_cls__voting=soft, voting_cls__svm__gamma=0.001, voting_cls__svm__C=0.1, voting_cls__rfc__n_estimators=10, voting_cls__rfc__min_samples_split=4 \n"
     ]
    },
    {
     "name": "stderr",
     "output_type": "stream",
     "text": [
      "/home/dks/anaconda3/lib/python3.5/site-packages/sklearn/preprocessing/label.py:151: DeprecationWarning: The truth value of an empty array is ambiguous. Returning False, but in future this will result in an error. Use `array.size > 0` to check that an array is not empty.\n",
      "  if diff:\n"
     ]
    },
    {
     "name": "stdout",
     "output_type": "stream",
     "text": [
      "[CV]  voting_cls__voting=hard, voting_cls__svm__gamma=1, voting_cls__svm__C=0.1, voting_cls__rfc__n_estimators=10, voting_cls__rfc__min_samples_split=4, score=0.44742103158736507, total= 1.7min\n",
      "[CV] voting_cls__voting=soft, voting_cls__svm__gamma=0.001, voting_cls__svm__C=0.1, voting_cls__rfc__n_estimators=10, voting_cls__rfc__min_samples_split=4 \n"
     ]
    },
    {
     "name": "stderr",
     "output_type": "stream",
     "text": [
      "/home/dks/anaconda3/lib/python3.5/site-packages/sklearn/preprocessing/label.py:151: DeprecationWarning: The truth value of an empty array is ambiguous. Returning False, but in future this will result in an error. Use `array.size > 0` to check that an array is not empty.\n",
      "  if diff:\n"
     ]
    },
    {
     "name": "stdout",
     "output_type": "stream",
     "text": [
      "[CV]  voting_cls__voting=hard, voting_cls__svm__gamma=1, voting_cls__svm__C=0.1, voting_cls__rfc__n_estimators=10, voting_cls__rfc__min_samples_split=4, score=0.4362148133359952, total= 1.8min\n",
      "[CV] voting_cls__voting=hard, voting_cls__svm__gamma=0.0001, voting_cls__svm__C=0.1, voting_cls__rfc__n_estimators=10, voting_cls__rfc__min_samples_split=4 \n"
     ]
    },
    {
     "name": "stderr",
     "output_type": "stream",
     "text": [
      "/home/dks/anaconda3/lib/python3.5/site-packages/sklearn/preprocessing/label.py:151: DeprecationWarning: The truth value of an empty array is ambiguous. Returning False, but in future this will result in an error. Use `array.size > 0` to check that an array is not empty.\n",
      "  if diff:\n"
     ]
    },
    {
     "name": "stdout",
     "output_type": "stream",
     "text": [
      "[CV]  voting_cls__voting=soft, voting_cls__svm__gamma=1, voting_cls__svm__C=0.1, voting_cls__rfc__n_estimators=10, voting_cls__rfc__min_samples_split=4, score=0.48961246504194966, total= 1.8min\n",
      "[CV] voting_cls__voting=hard, voting_cls__svm__gamma=0.0001, voting_cls__svm__C=0.1, voting_cls__rfc__n_estimators=10, voting_cls__rfc__min_samples_split=4 \n"
     ]
    },
    {
     "name": "stderr",
     "output_type": "stream",
     "text": [
      "/home/dks/anaconda3/lib/python3.5/site-packages/sklearn/preprocessing/label.py:151: DeprecationWarning: The truth value of an empty array is ambiguous. Returning False, but in future this will result in an error. Use `array.size > 0` to check that an array is not empty.\n",
      "  if diff:\n"
     ]
    },
    {
     "name": "stdout",
     "output_type": "stream",
     "text": [
      "[CV]  voting_cls__voting=soft, voting_cls__svm__gamma=1, voting_cls__svm__C=0.1, voting_cls__rfc__n_estimators=10, voting_cls__rfc__min_samples_split=4, score=0.4917149131563186, total= 1.8min\n",
      "[CV] voting_cls__voting=hard, voting_cls__svm__gamma=0.0001, voting_cls__svm__C=0.1, voting_cls__rfc__n_estimators=10, voting_cls__rfc__min_samples_split=4 \n"
     ]
    },
    {
     "name": "stderr",
     "output_type": "stream",
     "text": [
      "/home/dks/anaconda3/lib/python3.5/site-packages/sklearn/preprocessing/label.py:151: DeprecationWarning: The truth value of an empty array is ambiguous. Returning False, but in future this will result in an error. Use `array.size > 0` to check that an array is not empty.\n",
      "  if diff:\n"
     ]
    },
    {
     "name": "stdout",
     "output_type": "stream",
     "text": [
      "[CV]  voting_cls__voting=soft, voting_cls__svm__gamma=1, voting_cls__svm__C=0.1, voting_cls__rfc__n_estimators=10, voting_cls__rfc__min_samples_split=4, score=0.4892043182726909, total= 1.8min\n",
      "[CV] voting_cls__voting=soft, voting_cls__svm__gamma=0.0001, voting_cls__svm__C=0.1, voting_cls__rfc__n_estimators=10, voting_cls__rfc__min_samples_split=4 \n"
     ]
    },
    {
     "name": "stderr",
     "output_type": "stream",
     "text": [
      "/home/dks/anaconda3/lib/python3.5/site-packages/sklearn/preprocessing/label.py:151: DeprecationWarning: The truth value of an empty array is ambiguous. Returning False, but in future this will result in an error. Use `array.size > 0` to check that an array is not empty.\n",
      "  if diff:\n",
      "/home/dks/anaconda3/lib/python3.5/site-packages/sklearn/preprocessing/label.py:151: DeprecationWarning: The truth value of an empty array is ambiguous. Returning False, but in future this will result in an error. Use `array.size > 0` to check that an array is not empty.\n",
      "  if diff:\n",
      "/home/dks/anaconda3/lib/python3.5/site-packages/sklearn/preprocessing/label.py:151: DeprecationWarning: The truth value of an empty array is ambiguous. Returning False, but in future this will result in an error. Use `array.size > 0` to check that an array is not empty.\n",
      "  if diff:\n",
      "/home/dks/anaconda3/lib/python3.5/site-packages/sklearn/preprocessing/label.py:151: DeprecationWarning: The truth value of an empty array is ambiguous. Returning False, but in future this will result in an error. Use `array.size > 0` to check that an array is not empty.\n",
      "  if diff:\n",
      "/home/dks/anaconda3/lib/python3.5/site-packages/sklearn/preprocessing/label.py:151: DeprecationWarning: The truth value of an empty array is ambiguous. Returning False, but in future this will result in an error. Use `array.size > 0` to check that an array is not empty.\n",
      "  if diff:\n",
      "/home/dks/anaconda3/lib/python3.5/site-packages/sklearn/preprocessing/label.py:151: DeprecationWarning: The truth value of an empty array is ambiguous. Returning False, but in future this will result in an error. Use `array.size > 0` to check that an array is not empty.\n",
      "  if diff:\n",
      "/home/dks/anaconda3/lib/python3.5/site-packages/sklearn/preprocessing/label.py:151: DeprecationWarning: The truth value of an empty array is ambiguous. Returning False, but in future this will result in an error. Use `array.size > 0` to check that an array is not empty.\n",
      "  if diff:\n",
      "/home/dks/anaconda3/lib/python3.5/site-packages/sklearn/preprocessing/label.py:151: DeprecationWarning: The truth value of an empty array is ambiguous. Returning False, but in future this will result in an error. Use `array.size > 0` to check that an array is not empty.\n",
      "  if diff:\n",
      "/home/dks/anaconda3/lib/python3.5/site-packages/sklearn/preprocessing/label.py:151: DeprecationWarning: The truth value of an empty array is ambiguous. Returning False, but in future this will result in an error. Use `array.size > 0` to check that an array is not empty.\n",
      "  if diff:\n",
      "/home/dks/anaconda3/lib/python3.5/site-packages/sklearn/preprocessing/label.py:151: DeprecationWarning: The truth value of an empty array is ambiguous. Returning False, but in future this will result in an error. Use `array.size > 0` to check that an array is not empty.\n",
      "  if diff:\n",
      "/home/dks/anaconda3/lib/python3.5/site-packages/sklearn/preprocessing/label.py:151: DeprecationWarning: The truth value of an empty array is ambiguous. Returning False, but in future this will result in an error. Use `array.size > 0` to check that an array is not empty.\n",
      "  if diff:\n"
     ]
    },
    {
     "name": "stdout",
     "output_type": "stream",
     "text": [
      "[CV]  voting_cls__voting=soft, voting_cls__svm__gamma=0.01, voting_cls__svm__C=0.1, voting_cls__rfc__n_estimators=10, voting_cls__rfc__min_samples_split=4, score=0.48512677181074065, total= 2.6min\n",
      "[CV] voting_cls__voting=soft, voting_cls__svm__gamma=0.0001, voting_cls__svm__C=0.1, voting_cls__rfc__n_estimators=10, voting_cls__rfc__min_samples_split=4 \n"
     ]
    },
    {
     "name": "stderr",
     "output_type": "stream",
     "text": [
      "/home/dks/anaconda3/lib/python3.5/site-packages/sklearn/preprocessing/label.py:151: DeprecationWarning: The truth value of an empty array is ambiguous. Returning False, but in future this will result in an error. Use `array.size > 0` to check that an array is not empty.\n",
      "  if diff:\n",
      "/home/dks/anaconda3/lib/python3.5/site-packages/sklearn/preprocessing/label.py:151: DeprecationWarning: The truth value of an empty array is ambiguous. Returning False, but in future this will result in an error. Use `array.size > 0` to check that an array is not empty.\n",
      "  if diff:\n"
     ]
    },
    {
     "name": "stdout",
     "output_type": "stream",
     "text": [
      "[CV]  voting_cls__voting=hard, voting_cls__svm__gamma=0.01, voting_cls__svm__C=0.1, voting_cls__rfc__n_estimators=10, voting_cls__rfc__min_samples_split=4, score=0.40966260730684767, total= 2.6min\n",
      "[CV] voting_cls__voting=soft, voting_cls__svm__gamma=0.0001, voting_cls__svm__C=0.1, voting_cls__rfc__n_estimators=10, voting_cls__rfc__min_samples_split=4 \n",
      "[CV]  voting_cls__voting=hard, voting_cls__svm__gamma=0.001, voting_cls__svm__C=0.1, voting_cls__rfc__n_estimators=10, voting_cls__rfc__min_samples_split=4, score=0.4260331403473747, total= 2.6min\n",
      "[CV] voting_cls__voting=hard, voting_cls__svm__gamma=1, voting_cls__svm__C=1, voting_cls__rfc__n_estimators=10, voting_cls__rfc__min_samples_split=4 \n"
     ]
    },
    {
     "name": "stderr",
     "output_type": "stream",
     "text": [
      "/home/dks/anaconda3/lib/python3.5/site-packages/sklearn/preprocessing/label.py:151: DeprecationWarning: The truth value of an empty array is ambiguous. Returning False, but in future this will result in an error. Use `array.size > 0` to check that an array is not empty.\n",
      "  if diff:\n"
     ]
    },
    {
     "name": "stdout",
     "output_type": "stream",
     "text": [
      "[CV]  voting_cls__voting=soft, voting_cls__svm__gamma=0.01, voting_cls__svm__C=0.1, voting_cls__rfc__n_estimators=10, voting_cls__rfc__min_samples_split=4, score=0.48740503798480606, total= 2.7min\n",
      "[CV] voting_cls__voting=hard, voting_cls__svm__gamma=1, voting_cls__svm__C=1, voting_cls__rfc__n_estimators=10, voting_cls__rfc__min_samples_split=4 \n"
     ]
    },
    {
     "name": "stderr",
     "output_type": "stream",
     "text": [
      "/home/dks/anaconda3/lib/python3.5/site-packages/sklearn/preprocessing/label.py:151: DeprecationWarning: The truth value of an empty array is ambiguous. Returning False, but in future this will result in an error. Use `array.size > 0` to check that an array is not empty.\n",
      "  if diff:\n"
     ]
    },
    {
     "name": "stdout",
     "output_type": "stream",
     "text": [
      "[CV]  voting_cls__voting=soft, voting_cls__svm__gamma=0.01, voting_cls__svm__C=0.1, voting_cls__rfc__n_estimators=10, voting_cls__rfc__min_samples_split=4, score=0.4848182181382341, total= 2.7min\n",
      "[CV] voting_cls__voting=hard, voting_cls__svm__gamma=1, voting_cls__svm__C=1, voting_cls__rfc__n_estimators=10, voting_cls__rfc__min_samples_split=4 \n"
     ]
    },
    {
     "name": "stderr",
     "output_type": "stream",
     "text": [
      "/home/dks/anaconda3/lib/python3.5/site-packages/sklearn/preprocessing/label.py:151: DeprecationWarning: The truth value of an empty array is ambiguous. Returning False, but in future this will result in an error. Use `array.size > 0` to check that an array is not empty.\n",
      "  if diff:\n",
      "/home/dks/anaconda3/lib/python3.5/site-packages/sklearn/preprocessing/label.py:151: DeprecationWarning: The truth value of an empty array is ambiguous. Returning False, but in future this will result in an error. Use `array.size > 0` to check that an array is not empty.\n",
      "  if diff:\n"
     ]
    },
    {
     "name": "stdout",
     "output_type": "stream",
     "text": [
      "[CV]  voting_cls__voting=hard, voting_cls__svm__gamma=0.01, voting_cls__svm__C=0.1, voting_cls__rfc__n_estimators=10, voting_cls__rfc__min_samples_split=4, score=0.4027167399121055, total= 2.7min\n",
      "[CV]  voting_cls__voting=hard, voting_cls__svm__gamma=0.01, voting_cls__svm__C=0.1, voting_cls__rfc__n_estimators=10, voting_cls__rfc__min_samples_split=4, score=0.43122750899640144, total= 2.7min\n",
      "[CV] voting_cls__voting=soft, voting_cls__svm__gamma=1, voting_cls__svm__C=1, voting_cls__rfc__n_estimators=10, voting_cls__rfc__min_samples_split=4 \n",
      "[CV] voting_cls__voting=soft, voting_cls__svm__gamma=1, voting_cls__svm__C=1, voting_cls__rfc__n_estimators=10, voting_cls__rfc__min_samples_split=4 \n"
     ]
    },
    {
     "name": "stderr",
     "output_type": "stream",
     "text": [
      "/home/dks/anaconda3/lib/python3.5/site-packages/sklearn/preprocessing/label.py:151: DeprecationWarning: The truth value of an empty array is ambiguous. Returning False, but in future this will result in an error. Use `array.size > 0` to check that an array is not empty.\n",
      "  if diff:\n"
     ]
    },
    {
     "name": "stdout",
     "output_type": "stream",
     "text": [
      "[CV]  voting_cls__voting=hard, voting_cls__svm__gamma=0.001, voting_cls__svm__C=0.1, voting_cls__rfc__n_estimators=10, voting_cls__rfc__min_samples_split=4, score=0.42189372752696763, total= 2.7min\n",
      "[CV] voting_cls__voting=soft, voting_cls__svm__gamma=1, voting_cls__svm__C=1, voting_cls__rfc__n_estimators=10, voting_cls__rfc__min_samples_split=4 \n"
     ]
    },
    {
     "name": "stderr",
     "output_type": "stream",
     "text": [
      "/home/dks/anaconda3/lib/python3.5/site-packages/sklearn/preprocessing/label.py:151: DeprecationWarning: The truth value of an empty array is ambiguous. Returning False, but in future this will result in an error. Use `array.size > 0` to check that an array is not empty.\n",
      "  if diff:\n"
     ]
    },
    {
     "name": "stdout",
     "output_type": "stream",
     "text": [
      "[CV]  voting_cls__voting=soft, voting_cls__svm__gamma=0.001, voting_cls__svm__C=0.1, voting_cls__rfc__n_estimators=10, voting_cls__rfc__min_samples_split=4, score=0.48532641245757635, total= 2.7min\n",
      "[CV] voting_cls__voting=hard, voting_cls__svm__gamma=0.01, voting_cls__svm__C=1, voting_cls__rfc__n_estimators=10, voting_cls__rfc__min_samples_split=4 \n"
     ]
    },
    {
     "name": "stderr",
     "output_type": "stream",
     "text": [
      "/home/dks/anaconda3/lib/python3.5/site-packages/sklearn/preprocessing/label.py:151: DeprecationWarning: The truth value of an empty array is ambiguous. Returning False, but in future this will result in an error. Use `array.size > 0` to check that an array is not empty.\n",
      "  if diff:\n"
     ]
    },
    {
     "name": "stdout",
     "output_type": "stream",
     "text": [
      "[CV]  voting_cls__voting=hard, voting_cls__svm__gamma=0.001, voting_cls__svm__C=0.1, voting_cls__rfc__n_estimators=10, voting_cls__rfc__min_samples_split=4, score=0.43902439024390244, total= 2.8min\n",
      "[CV] voting_cls__voting=hard, voting_cls__svm__gamma=0.01, voting_cls__svm__C=1, voting_cls__rfc__n_estimators=10, voting_cls__rfc__min_samples_split=4 \n"
     ]
    },
    {
     "name": "stderr",
     "output_type": "stream",
     "text": [
      "/home/dks/anaconda3/lib/python3.5/site-packages/sklearn/preprocessing/label.py:151: DeprecationWarning: The truth value of an empty array is ambiguous. Returning False, but in future this will result in an error. Use `array.size > 0` to check that an array is not empty.\n",
      "  if diff:\n",
      "/home/dks/anaconda3/lib/python3.5/site-packages/sklearn/preprocessing/label.py:151: DeprecationWarning: The truth value of an empty array is ambiguous. Returning False, but in future this will result in an error. Use `array.size > 0` to check that an array is not empty.\n",
      "  if diff:\n",
      "/home/dks/anaconda3/lib/python3.5/site-packages/sklearn/preprocessing/label.py:151: DeprecationWarning: The truth value of an empty array is ambiguous. Returning False, but in future this will result in an error. Use `array.size > 0` to check that an array is not empty.\n",
      "  if diff:\n",
      "/home/dks/anaconda3/lib/python3.5/site-packages/sklearn/preprocessing/label.py:151: DeprecationWarning: The truth value of an empty array is ambiguous. Returning False, but in future this will result in an error. Use `array.size > 0` to check that an array is not empty.\n",
      "  if diff:\n",
      "/home/dks/anaconda3/lib/python3.5/site-packages/sklearn/preprocessing/label.py:151: DeprecationWarning: The truth value of an empty array is ambiguous. Returning False, but in future this will result in an error. Use `array.size > 0` to check that an array is not empty.\n",
      "  if diff:\n",
      "/home/dks/anaconda3/lib/python3.5/site-packages/sklearn/preprocessing/label.py:151: DeprecationWarning: The truth value of an empty array is ambiguous. Returning False, but in future this will result in an error. Use `array.size > 0` to check that an array is not empty.\n",
      "  if diff:\n",
      "/home/dks/anaconda3/lib/python3.5/site-packages/sklearn/preprocessing/label.py:151: DeprecationWarning: The truth value of an empty array is ambiguous. Returning False, but in future this will result in an error. Use `array.size > 0` to check that an array is not empty.\n",
      "  if diff:\n"
     ]
    },
    {
     "name": "stdout",
     "output_type": "stream",
     "text": [
      "[CV]  voting_cls__voting=hard, voting_cls__svm__gamma=1, voting_cls__svm__C=1, voting_cls__rfc__n_estimators=10, voting_cls__rfc__min_samples_split=4, score=0.45238570572968656, total= 1.4min\n",
      "[CV] voting_cls__voting=hard, voting_cls__svm__gamma=0.01, voting_cls__svm__C=1, voting_cls__rfc__n_estimators=10, voting_cls__rfc__min_samples_split=4 \n"
     ]
    },
    {
     "name": "stderr",
     "output_type": "stream",
     "text": [
      "/home/dks/anaconda3/lib/python3.5/site-packages/sklearn/preprocessing/label.py:151: DeprecationWarning: The truth value of an empty array is ambiguous. Returning False, but in future this will result in an error. Use `array.size > 0` to check that an array is not empty.\n",
      "  if diff:\n"
     ]
    },
    {
     "name": "stdout",
     "output_type": "stream",
     "text": [
      "[CV]  voting_cls__voting=hard, voting_cls__svm__gamma=1, voting_cls__svm__C=1, voting_cls__rfc__n_estimators=10, voting_cls__rfc__min_samples_split=4, score=0.44886136636036755, total= 1.3min\n",
      "[CV] voting_cls__voting=soft, voting_cls__svm__gamma=0.01, voting_cls__svm__C=1, voting_cls__rfc__n_estimators=10, voting_cls__rfc__min_samples_split=4 \n"
     ]
    },
    {
     "name": "stderr",
     "output_type": "stream",
     "text": [
      "/home/dks/anaconda3/lib/python3.5/site-packages/sklearn/preprocessing/label.py:151: DeprecationWarning: The truth value of an empty array is ambiguous. Returning False, but in future this will result in an error. Use `array.size > 0` to check that an array is not empty.\n",
      "  if diff:\n"
     ]
    },
    {
     "name": "stdout",
     "output_type": "stream",
     "text": [
      "[CV]  voting_cls__voting=soft, voting_cls__svm__gamma=1, voting_cls__svm__C=1, voting_cls__rfc__n_estimators=10, voting_cls__rfc__min_samples_split=4, score=0.49200958849380744, total= 1.3min\n",
      "[CV] voting_cls__voting=soft, voting_cls__svm__gamma=0.01, voting_cls__svm__C=1, voting_cls__rfc__n_estimators=10, voting_cls__rfc__min_samples_split=4 \n"
     ]
    },
    {
     "name": "stderr",
     "output_type": "stream",
     "text": [
      "/home/dks/anaconda3/lib/python3.5/site-packages/sklearn/preprocessing/label.py:151: DeprecationWarning: The truth value of an empty array is ambiguous. Returning False, but in future this will result in an error. Use `array.size > 0` to check that an array is not empty.\n",
      "  if diff:\n"
     ]
    },
    {
     "name": "stdout",
     "output_type": "stream",
     "text": [
      "[CV]  voting_cls__voting=soft, voting_cls__svm__gamma=1, voting_cls__svm__C=1, voting_cls__rfc__n_estimators=10, voting_cls__rfc__min_samples_split=4, score=0.49800079968012795, total= 1.4min\n",
      "[CV] voting_cls__voting=soft, voting_cls__svm__gamma=0.01, voting_cls__svm__C=1, voting_cls__rfc__n_estimators=10, voting_cls__rfc__min_samples_split=4 \n"
     ]
    },
    {
     "name": "stderr",
     "output_type": "stream",
     "text": [
      "/home/dks/anaconda3/lib/python3.5/site-packages/sklearn/preprocessing/label.py:151: DeprecationWarning: The truth value of an empty array is ambiguous. Returning False, but in future this will result in an error. Use `array.size > 0` to check that an array is not empty.\n",
      "  if diff:\n"
     ]
    },
    {
     "name": "stdout",
     "output_type": "stream",
     "text": [
      "[CV]  voting_cls__voting=soft, voting_cls__svm__gamma=1, voting_cls__svm__C=1, voting_cls__rfc__n_estimators=10, voting_cls__rfc__min_samples_split=4, score=0.501297664204432, total= 1.4min\n",
      "[CV] voting_cls__voting=hard, voting_cls__svm__gamma=0.001, voting_cls__svm__C=1, voting_cls__rfc__n_estimators=10, voting_cls__rfc__min_samples_split=4 \n"
     ]
    },
    {
     "name": "stderr",
     "output_type": "stream",
     "text": [
      "/home/dks/anaconda3/lib/python3.5/site-packages/sklearn/preprocessing/label.py:151: DeprecationWarning: The truth value of an empty array is ambiguous. Returning False, but in future this will result in an error. Use `array.size > 0` to check that an array is not empty.\n",
      "  if diff:\n"
     ]
    },
    {
     "name": "stdout",
     "output_type": "stream",
     "text": [
      "[CV]  voting_cls__voting=hard, voting_cls__svm__gamma=1, voting_cls__svm__C=1, voting_cls__rfc__n_estimators=10, voting_cls__rfc__min_samples_split=4, score=0.46921231507397043, total= 1.4min\n",
      "[CV] voting_cls__voting=hard, voting_cls__svm__gamma=0.001, voting_cls__svm__C=1, voting_cls__rfc__n_estimators=10, voting_cls__rfc__min_samples_split=4 \n"
     ]
    },
    {
     "name": "stderr",
     "output_type": "stream",
     "text": [
      "/home/dks/anaconda3/lib/python3.5/site-packages/sklearn/preprocessing/label.py:151: DeprecationWarning: The truth value of an empty array is ambiguous. Returning False, but in future this will result in an error. Use `array.size > 0` to check that an array is not empty.\n",
      "  if diff:\n",
      "/home/dks/anaconda3/lib/python3.5/site-packages/sklearn/preprocessing/label.py:151: DeprecationWarning: The truth value of an empty array is ambiguous. Returning False, but in future this will result in an error. Use `array.size > 0` to check that an array is not empty.\n",
      "  if diff:\n",
      "/home/dks/anaconda3/lib/python3.5/site-packages/sklearn/preprocessing/label.py:151: DeprecationWarning: The truth value of an empty array is ambiguous. Returning False, but in future this will result in an error. Use `array.size > 0` to check that an array is not empty.\n",
      "  if diff:\n",
      "/home/dks/anaconda3/lib/python3.5/site-packages/sklearn/preprocessing/label.py:151: DeprecationWarning: The truth value of an empty array is ambiguous. Returning False, but in future this will result in an error. Use `array.size > 0` to check that an array is not empty.\n",
      "  if diff:\n",
      "/home/dks/anaconda3/lib/python3.5/site-packages/sklearn/preprocessing/label.py:151: DeprecationWarning: The truth value of an empty array is ambiguous. Returning False, but in future this will result in an error. Use `array.size > 0` to check that an array is not empty.\n",
      "  if diff:\n",
      "/home/dks/anaconda3/lib/python3.5/site-packages/sklearn/preprocessing/label.py:151: DeprecationWarning: The truth value of an empty array is ambiguous. Returning False, but in future this will result in an error. Use `array.size > 0` to check that an array is not empty.\n",
      "  if diff:\n",
      "/home/dks/anaconda3/lib/python3.5/site-packages/sklearn/preprocessing/label.py:151: DeprecationWarning: The truth value of an empty array is ambiguous. Returning False, but in future this will result in an error. Use `array.size > 0` to check that an array is not empty.\n",
      "  if diff:\n"
     ]
    },
    {
     "name": "stdout",
     "output_type": "stream",
     "text": [
      "[CV]  voting_cls__voting=soft, voting_cls__svm__gamma=0.001, voting_cls__svm__C=0.1, voting_cls__rfc__n_estimators=10, voting_cls__rfc__min_samples_split=4, score=0.47962445065920895, total= 2.7min\n",
      "[CV] voting_cls__voting=hard, voting_cls__svm__gamma=0.001, voting_cls__svm__C=1, voting_cls__rfc__n_estimators=10, voting_cls__rfc__min_samples_split=4 \n"
     ]
    },
    {
     "name": "stderr",
     "output_type": "stream",
     "text": [
      "/home/dks/anaconda3/lib/python3.5/site-packages/sklearn/preprocessing/label.py:151: DeprecationWarning: The truth value of an empty array is ambiguous. Returning False, but in future this will result in an error. Use `array.size > 0` to check that an array is not empty.\n",
      "  if diff:\n"
     ]
    },
    {
     "name": "stdout",
     "output_type": "stream",
     "text": [
      "[CV]  voting_cls__voting=soft, voting_cls__svm__gamma=0.001, voting_cls__svm__C=0.1, voting_cls__rfc__n_estimators=10, voting_cls__rfc__min_samples_split=4, score=0.4880047980807677, total= 2.6min\n"
     ]
    },
    {
     "name": "stderr",
     "output_type": "stream",
     "text": [
      "/home/dks/anaconda3/lib/python3.5/site-packages/sklearn/preprocessing/label.py:151: DeprecationWarning: The truth value of an empty array is ambiguous. Returning False, but in future this will result in an error. Use `array.size > 0` to check that an array is not empty.\n",
      "  if diff:\n"
     ]
    },
    {
     "name": "stdout",
     "output_type": "stream",
     "text": [
      "[CV] voting_cls__voting=soft, voting_cls__svm__gamma=0.001, voting_cls__svm__C=1, voting_cls__rfc__n_estimators=10, voting_cls__rfc__min_samples_split=4 \n",
      "[CV]  voting_cls__voting=hard, voting_cls__svm__gamma=0.0001, voting_cls__svm__C=0.1, voting_cls__rfc__n_estimators=10, voting_cls__rfc__min_samples_split=4, score=0.42229324810227725, total= 2.6min\n",
      "[CV] voting_cls__voting=soft, voting_cls__svm__gamma=0.001, voting_cls__svm__C=1, voting_cls__rfc__n_estimators=10, voting_cls__rfc__min_samples_split=4 \n"
     ]
    },
    {
     "name": "stderr",
     "output_type": "stream",
     "text": [
      "/home/dks/anaconda3/lib/python3.5/site-packages/sklearn/preprocessing/label.py:151: DeprecationWarning: The truth value of an empty array is ambiguous. Returning False, but in future this will result in an error. Use `array.size > 0` to check that an array is not empty.\n",
      "  if diff:\n"
     ]
    },
    {
     "name": "stdout",
     "output_type": "stream",
     "text": [
      "[CV]  voting_cls__voting=hard, voting_cls__svm__gamma=0.0001, voting_cls__svm__C=0.1, voting_cls__rfc__n_estimators=10, voting_cls__rfc__min_samples_split=4, score=0.4284288281094031, total= 2.6min\n",
      "[CV] voting_cls__voting=soft, voting_cls__svm__gamma=0.001, voting_cls__svm__C=1, voting_cls__rfc__n_estimators=10, voting_cls__rfc__min_samples_split=4 \n"
     ]
    },
    {
     "name": "stderr",
     "output_type": "stream",
     "text": [
      "/home/dks/anaconda3/lib/python3.5/site-packages/sklearn/preprocessing/label.py:151: DeprecationWarning: The truth value of an empty array is ambiguous. Returning False, but in future this will result in an error. Use `array.size > 0` to check that an array is not empty.\n",
      "  if diff:\n"
     ]
    },
    {
     "name": "stdout",
     "output_type": "stream",
     "text": [
      "[CV]  voting_cls__voting=hard, voting_cls__svm__gamma=0.0001, voting_cls__svm__C=0.1, voting_cls__rfc__n_estimators=10, voting_cls__rfc__min_samples_split=4, score=0.446421431427429, total= 2.6min\n",
      "[CV] voting_cls__voting=hard, voting_cls__svm__gamma=0.0001, voting_cls__svm__C=1, voting_cls__rfc__n_estimators=10, voting_cls__rfc__min_samples_split=4 \n"
     ]
    },
    {
     "name": "stderr",
     "output_type": "stream",
     "text": [
      "/home/dks/anaconda3/lib/python3.5/site-packages/sklearn/preprocessing/label.py:151: DeprecationWarning: The truth value of an empty array is ambiguous. Returning False, but in future this will result in an error. Use `array.size > 0` to check that an array is not empty.\n",
      "  if diff:\n"
     ]
    },
    {
     "name": "stdout",
     "output_type": "stream",
     "text": [
      "[CV]  voting_cls__voting=soft, voting_cls__svm__gamma=0.0001, voting_cls__svm__C=0.1, voting_cls__rfc__n_estimators=10, voting_cls__rfc__min_samples_split=4, score=0.48552605310441205, total= 2.6min\n",
      "[CV] voting_cls__voting=hard, voting_cls__svm__gamma=0.0001, voting_cls__svm__C=1, voting_cls__rfc__n_estimators=10, voting_cls__rfc__min_samples_split=4 \n"
     ]
    },
    {
     "name": "stderr",
     "output_type": "stream",
     "text": [
      "/home/dks/anaconda3/lib/python3.5/site-packages/sklearn/preprocessing/label.py:151: DeprecationWarning: The truth value of an empty array is ambiguous. Returning False, but in future this will result in an error. Use `array.size > 0` to check that an array is not empty.\n",
      "  if diff:\n",
      "/home/dks/anaconda3/lib/python3.5/site-packages/sklearn/preprocessing/label.py:151: DeprecationWarning: The truth value of an empty array is ambiguous. Returning False, but in future this will result in an error. Use `array.size > 0` to check that an array is not empty.\n",
      "  if diff:\n",
      "/home/dks/anaconda3/lib/python3.5/site-packages/sklearn/preprocessing/label.py:151: DeprecationWarning: The truth value of an empty array is ambiguous. Returning False, but in future this will result in an error. Use `array.size > 0` to check that an array is not empty.\n",
      "  if diff:\n"
     ]
    },
    {
     "name": "stdout",
     "output_type": "stream",
     "text": [
      "[CV]  voting_cls__voting=hard, voting_cls__svm__gamma=0.01, voting_cls__svm__C=1, voting_cls__rfc__n_estimators=10, voting_cls__rfc__min_samples_split=4, score=0.42124176482331804, total= 2.0min\n",
      "[CV] voting_cls__voting=hard, voting_cls__svm__gamma=0.0001, voting_cls__svm__C=1, voting_cls__rfc__n_estimators=10, voting_cls__rfc__min_samples_split=4 \n"
     ]
    },
    {
     "name": "stderr",
     "output_type": "stream",
     "text": [
      "/home/dks/anaconda3/lib/python3.5/site-packages/sklearn/preprocessing/label.py:151: DeprecationWarning: The truth value of an empty array is ambiguous. Returning False, but in future this will result in an error. Use `array.size > 0` to check that an array is not empty.\n",
      "  if diff:\n"
     ]
    },
    {
     "name": "stdout",
     "output_type": "stream",
     "text": [
      "[CV]  voting_cls__voting=hard, voting_cls__svm__gamma=0.01, voting_cls__svm__C=1, voting_cls__rfc__n_estimators=10, voting_cls__rfc__min_samples_split=4, score=0.41390331602077507, total= 2.0min\n",
      "[CV] voting_cls__voting=soft, voting_cls__svm__gamma=0.0001, voting_cls__svm__C=1, voting_cls__rfc__n_estimators=10, voting_cls__rfc__min_samples_split=4 \n"
     ]
    },
    {
     "name": "stderr",
     "output_type": "stream",
     "text": [
      "/home/dks/anaconda3/lib/python3.5/site-packages/sklearn/preprocessing/label.py:151: DeprecationWarning: The truth value of an empty array is ambiguous. Returning False, but in future this will result in an error. Use `array.size > 0` to check that an array is not empty.\n",
      "  if diff:\n",
      "/home/dks/anaconda3/lib/python3.5/site-packages/sklearn/preprocessing/label.py:151: DeprecationWarning: The truth value of an empty array is ambiguous. Returning False, but in future this will result in an error. Use `array.size > 0` to check that an array is not empty.\n",
      "  if diff:\n",
      "/home/dks/anaconda3/lib/python3.5/site-packages/sklearn/preprocessing/label.py:151: DeprecationWarning: The truth value of an empty array is ambiguous. Returning False, but in future this will result in an error. Use `array.size > 0` to check that an array is not empty.\n",
      "  if diff:\n"
     ]
    },
    {
     "name": "stdout",
     "output_type": "stream",
     "text": [
      "[CV]  voting_cls__voting=soft, voting_cls__svm__gamma=0.0001, voting_cls__svm__C=0.1, voting_cls__rfc__n_estimators=10, voting_cls__rfc__min_samples_split=4, score=0.4880047980807677, total= 2.6min\n",
      "[CV] voting_cls__voting=soft, voting_cls__svm__gamma=0.0001, voting_cls__svm__C=1, voting_cls__rfc__n_estimators=10, voting_cls__rfc__min_samples_split=4 \n"
     ]
    },
    {
     "name": "stderr",
     "output_type": "stream",
     "text": [
      "/home/dks/anaconda3/lib/python3.5/site-packages/sklearn/preprocessing/label.py:151: DeprecationWarning: The truth value of an empty array is ambiguous. Returning False, but in future this will result in an error. Use `array.size > 0` to check that an array is not empty.\n",
      "  if diff:\n"
     ]
    },
    {
     "name": "stdout",
     "output_type": "stream",
     "text": [
      "[CV]  voting_cls__voting=soft, voting_cls__svm__gamma=0.0001, voting_cls__svm__C=0.1, voting_cls__rfc__n_estimators=10, voting_cls__rfc__min_samples_split=4, score=0.480623252097483, total= 2.6min\n",
      "[CV] voting_cls__voting=soft, voting_cls__svm__gamma=0.0001, voting_cls__svm__C=1, voting_cls__rfc__n_estimators=10, voting_cls__rfc__min_samples_split=4 \n"
     ]
    },
    {
     "name": "stderr",
     "output_type": "stream",
     "text": [
      "/home/dks/anaconda3/lib/python3.5/site-packages/sklearn/preprocessing/label.py:151: DeprecationWarning: The truth value of an empty array is ambiguous. Returning False, but in future this will result in an error. Use `array.size > 0` to check that an array is not empty.\n",
      "  if diff:\n",
      "/home/dks/anaconda3/lib/python3.5/site-packages/sklearn/preprocessing/label.py:151: DeprecationWarning: The truth value of an empty array is ambiguous. Returning False, but in future this will result in an error. Use `array.size > 0` to check that an array is not empty.\n",
      "  if diff:\n",
      "/home/dks/anaconda3/lib/python3.5/site-packages/sklearn/preprocessing/label.py:151: DeprecationWarning: The truth value of an empty array is ambiguous. Returning False, but in future this will result in an error. Use `array.size > 0` to check that an array is not empty.\n",
      "  if diff:\n",
      "/home/dks/anaconda3/lib/python3.5/site-packages/sklearn/preprocessing/label.py:151: DeprecationWarning: The truth value of an empty array is ambiguous. Returning False, but in future this will result in an error. Use `array.size > 0` to check that an array is not empty.\n",
      "  if diff:\n",
      "/home/dks/anaconda3/lib/python3.5/site-packages/sklearn/preprocessing/label.py:151: DeprecationWarning: The truth value of an empty array is ambiguous. Returning False, but in future this will result in an error. Use `array.size > 0` to check that an array is not empty.\n",
      "  if diff:\n"
     ]
    },
    {
     "name": "stdout",
     "output_type": "stream",
     "text": [
      "[CV]  voting_cls__voting=soft, voting_cls__svm__gamma=0.01, voting_cls__svm__C=1, voting_cls__rfc__n_estimators=10, voting_cls__rfc__min_samples_split=4, score=0.48561725928885335, total= 2.0min\n",
      "[CV] voting_cls__voting=hard, voting_cls__svm__gamma=1, voting_cls__svm__C=100, voting_cls__rfc__n_estimators=10, voting_cls__rfc__min_samples_split=4 \n"
     ]
    },
    {
     "name": "stderr",
     "output_type": "stream",
     "text": [
      "/home/dks/anaconda3/lib/python3.5/site-packages/sklearn/preprocessing/label.py:151: DeprecationWarning: The truth value of an empty array is ambiguous. Returning False, but in future this will result in an error. Use `array.size > 0` to check that an array is not empty.\n",
      "  if diff:\n"
     ]
    },
    {
     "name": "stdout",
     "output_type": "stream",
     "text": [
      "[CV]  voting_cls__voting=hard, voting_cls__svm__gamma=0.01, voting_cls__svm__C=1, voting_cls__rfc__n_estimators=10, voting_cls__rfc__min_samples_split=4, score=0.4346261495401839, total= 2.0min\n",
      "[CV] voting_cls__voting=hard, voting_cls__svm__gamma=1, voting_cls__svm__C=100, voting_cls__rfc__n_estimators=10, voting_cls__rfc__min_samples_split=4 \n"
     ]
    },
    {
     "name": "stderr",
     "output_type": "stream",
     "text": [
      "/home/dks/anaconda3/lib/python3.5/site-packages/sklearn/preprocessing/label.py:151: DeprecationWarning: The truth value of an empty array is ambiguous. Returning False, but in future this will result in an error. Use `array.size > 0` to check that an array is not empty.\n",
      "  if diff:\n"
     ]
    },
    {
     "name": "stdout",
     "output_type": "stream",
     "text": [
      "[CV]  voting_cls__voting=soft, voting_cls__svm__gamma=0.01, voting_cls__svm__C=1, voting_cls__rfc__n_estimators=10, voting_cls__rfc__min_samples_split=4, score=0.4873228189259333, total= 2.0min\n",
      "[CV] voting_cls__voting=hard, voting_cls__svm__gamma=1, voting_cls__svm__C=100, voting_cls__rfc__n_estimators=10, voting_cls__rfc__min_samples_split=4 \n"
     ]
    },
    {
     "name": "stderr",
     "output_type": "stream",
     "text": [
      "/home/dks/anaconda3/lib/python3.5/site-packages/sklearn/preprocessing/label.py:151: DeprecationWarning: The truth value of an empty array is ambiguous. Returning False, but in future this will result in an error. Use `array.size > 0` to check that an array is not empty.\n",
      "  if diff:\n"
     ]
    },
    {
     "name": "stdout",
     "output_type": "stream",
     "text": [
      "[CV]  voting_cls__voting=soft, voting_cls__svm__gamma=0.01, voting_cls__svm__C=1, voting_cls__rfc__n_estimators=10, voting_cls__rfc__min_samples_split=4, score=0.49000399840063974, total= 2.0min\n",
      "[CV] voting_cls__voting=soft, voting_cls__svm__gamma=1, voting_cls__svm__C=100, voting_cls__rfc__n_estimators=10, voting_cls__rfc__min_samples_split=4 \n"
     ]
    },
    {
     "name": "stderr",
     "output_type": "stream",
     "text": [
      "/home/dks/anaconda3/lib/python3.5/site-packages/sklearn/preprocessing/label.py:151: DeprecationWarning: The truth value of an empty array is ambiguous. Returning False, but in future this will result in an error. Use `array.size > 0` to check that an array is not empty.\n",
      "  if diff:\n",
      "/home/dks/anaconda3/lib/python3.5/site-packages/sklearn/preprocessing/label.py:151: DeprecationWarning: The truth value of an empty array is ambiguous. Returning False, but in future this will result in an error. Use `array.size > 0` to check that an array is not empty.\n",
      "  if diff:\n",
      "/home/dks/anaconda3/lib/python3.5/site-packages/sklearn/preprocessing/label.py:151: DeprecationWarning: The truth value of an empty array is ambiguous. Returning False, but in future this will result in an error. Use `array.size > 0` to check that an array is not empty.\n",
      "  if diff:\n"
     ]
    },
    {
     "name": "stdout",
     "output_type": "stream",
     "text": [
      "[CV]  voting_cls__voting=hard, voting_cls__svm__gamma=0.001, voting_cls__svm__C=1, voting_cls__rfc__n_estimators=10, voting_cls__rfc__min_samples_split=4, score=0.39472632840591293, total= 2.6min\n",
      "[CV] voting_cls__voting=soft, voting_cls__svm__gamma=1, voting_cls__svm__C=100, voting_cls__rfc__n_estimators=10, voting_cls__rfc__min_samples_split=4 \n"
     ]
    },
    {
     "name": "stderr",
     "output_type": "stream",
     "text": [
      "/home/dks/anaconda3/lib/python3.5/site-packages/sklearn/preprocessing/label.py:151: DeprecationWarning: The truth value of an empty array is ambiguous. Returning False, but in future this will result in an error. Use `array.size > 0` to check that an array is not empty.\n",
      "  if diff:\n"
     ]
    },
    {
     "name": "stdout",
     "output_type": "stream",
     "text": [
      "[CV]  voting_cls__voting=hard, voting_cls__svm__gamma=0.001, voting_cls__svm__C=1, voting_cls__rfc__n_estimators=10, voting_cls__rfc__min_samples_split=4, score=0.39708524655619887, total= 2.6min\n",
      "[CV] voting_cls__voting=soft, voting_cls__svm__gamma=1, voting_cls__svm__C=100, voting_cls__rfc__n_estimators=10, voting_cls__rfc__min_samples_split=4 \n"
     ]
    },
    {
     "name": "stderr",
     "output_type": "stream",
     "text": [
      "/home/dks/anaconda3/lib/python3.5/site-packages/sklearn/preprocessing/label.py:151: DeprecationWarning: The truth value of an empty array is ambiguous. Returning False, but in future this will result in an error. Use `array.size > 0` to check that an array is not empty.\n",
      "  if diff:\n",
      "/home/dks/anaconda3/lib/python3.5/site-packages/sklearn/preprocessing/label.py:151: DeprecationWarning: The truth value of an empty array is ambiguous. Returning False, but in future this will result in an error. Use `array.size > 0` to check that an array is not empty.\n",
      "  if diff:\n",
      "/home/dks/anaconda3/lib/python3.5/site-packages/sklearn/preprocessing/label.py:151: DeprecationWarning: The truth value of an empty array is ambiguous. Returning False, but in future this will result in an error. Use `array.size > 0` to check that an array is not empty.\n",
      "  if diff:\n",
      "/home/dks/anaconda3/lib/python3.5/site-packages/sklearn/preprocessing/label.py:151: DeprecationWarning: The truth value of an empty array is ambiguous. Returning False, but in future this will result in an error. Use `array.size > 0` to check that an array is not empty.\n",
      "  if diff:\n",
      "/home/dks/anaconda3/lib/python3.5/site-packages/sklearn/preprocessing/label.py:151: DeprecationWarning: The truth value of an empty array is ambiguous. Returning False, but in future this will result in an error. Use `array.size > 0` to check that an array is not empty.\n",
      "  if diff:\n",
      "/home/dks/anaconda3/lib/python3.5/site-packages/sklearn/preprocessing/label.py:151: DeprecationWarning: The truth value of an empty array is ambiguous. Returning False, but in future this will result in an error. Use `array.size > 0` to check that an array is not empty.\n",
      "  if diff:\n",
      "/home/dks/anaconda3/lib/python3.5/site-packages/sklearn/preprocessing/label.py:151: DeprecationWarning: The truth value of an empty array is ambiguous. Returning False, but in future this will result in an error. Use `array.size > 0` to check that an array is not empty.\n",
      "  if diff:\n"
     ]
    },
    {
     "name": "stdout",
     "output_type": "stream",
     "text": [
      "[CV]  voting_cls__voting=soft, voting_cls__svm__gamma=0.001, voting_cls__svm__C=1, voting_cls__rfc__n_estimators=10, voting_cls__rfc__min_samples_split=4, score=0.48900439824070374, total= 2.5min\n",
      "[CV] voting_cls__voting=hard, voting_cls__svm__gamma=0.01, voting_cls__svm__C=100, voting_cls__rfc__n_estimators=10, voting_cls__rfc__min_samples_split=4 \n"
     ]
    },
    {
     "name": "stderr",
     "output_type": "stream",
     "text": [
      "/home/dks/anaconda3/lib/python3.5/site-packages/sklearn/preprocessing/label.py:151: DeprecationWarning: The truth value of an empty array is ambiguous. Returning False, but in future this will result in an error. Use `array.size > 0` to check that an array is not empty.\n",
      "  if diff:\n"
     ]
    },
    {
     "name": "stdout",
     "output_type": "stream",
     "text": [
      "[CV]  voting_cls__voting=soft, voting_cls__svm__gamma=0.001, voting_cls__svm__C=1, voting_cls__rfc__n_estimators=10, voting_cls__rfc__min_samples_split=4, score=0.487522459572769, total= 2.6min\n",
      "[CV] voting_cls__voting=hard, voting_cls__svm__gamma=0.01, voting_cls__svm__C=100, voting_cls__rfc__n_estimators=10, voting_cls__rfc__min_samples_split=4 \n"
     ]
    },
    {
     "name": "stderr",
     "output_type": "stream",
     "text": [
      "/home/dks/anaconda3/lib/python3.5/site-packages/sklearn/preprocessing/label.py:151: DeprecationWarning: The truth value of an empty array is ambiguous. Returning False, but in future this will result in an error. Use `array.size > 0` to check that an array is not empty.\n",
      "  if diff:\n"
     ]
    },
    {
     "name": "stdout",
     "output_type": "stream",
     "text": [
      "[CV]  voting_cls__voting=hard, voting_cls__svm__gamma=0.001, voting_cls__svm__C=1, voting_cls__rfc__n_estimators=10, voting_cls__rfc__min_samples_split=4, score=0.4268292682926829, total= 2.6min\n",
      "[CV] voting_cls__voting=hard, voting_cls__svm__gamma=0.01, voting_cls__svm__C=100, voting_cls__rfc__n_estimators=10, voting_cls__rfc__min_samples_split=4 \n"
     ]
    },
    {
     "name": "stderr",
     "output_type": "stream",
     "text": [
      "/home/dks/anaconda3/lib/python3.5/site-packages/sklearn/preprocessing/label.py:151: DeprecationWarning: The truth value of an empty array is ambiguous. Returning False, but in future this will result in an error. Use `array.size > 0` to check that an array is not empty.\n",
      "  if diff:\n"
     ]
    },
    {
     "name": "stdout",
     "output_type": "stream",
     "text": [
      "[CV]  voting_cls__voting=soft, voting_cls__svm__gamma=0.001, voting_cls__svm__C=1, voting_cls__rfc__n_estimators=10, voting_cls__rfc__min_samples_split=4, score=0.48282061526168596, total= 2.6min\n",
      "[CV] voting_cls__voting=soft, voting_cls__svm__gamma=0.01, voting_cls__svm__C=100, voting_cls__rfc__n_estimators=10, voting_cls__rfc__min_samples_split=4 \n"
     ]
    },
    {
     "name": "stderr",
     "output_type": "stream",
     "text": [
      "/home/dks/anaconda3/lib/python3.5/site-packages/sklearn/preprocessing/label.py:151: DeprecationWarning: The truth value of an empty array is ambiguous. Returning False, but in future this will result in an error. Use `array.size > 0` to check that an array is not empty.\n",
      "  if diff:\n"
     ]
    },
    {
     "name": "stdout",
     "output_type": "stream",
     "text": [
      "[CV]  voting_cls__voting=hard, voting_cls__svm__gamma=0.0001, voting_cls__svm__C=1, voting_cls__rfc__n_estimators=10, voting_cls__rfc__min_samples_split=4, score=0.3294047143427887, total= 2.6min\n",
      "[CV] voting_cls__voting=soft, voting_cls__svm__gamma=0.01, voting_cls__svm__C=100, voting_cls__rfc__n_estimators=10, voting_cls__rfc__min_samples_split=4 \n"
     ]
    },
    {
     "name": "stderr",
     "output_type": "stream",
     "text": [
      "/home/dks/anaconda3/lib/python3.5/site-packages/sklearn/preprocessing/label.py:151: DeprecationWarning: The truth value of an empty array is ambiguous. Returning False, but in future this will result in an error. Use `array.size > 0` to check that an array is not empty.\n",
      "  if diff:\n"
     ]
    },
    {
     "name": "stdout",
     "output_type": "stream",
     "text": [
      "[CV]  voting_cls__voting=hard, voting_cls__svm__gamma=0.0001, voting_cls__svm__C=1, voting_cls__rfc__n_estimators=10, voting_cls__rfc__min_samples_split=4, score=0.3575563984827311, total= 2.6min\n",
      "[CV] voting_cls__voting=soft, voting_cls__svm__gamma=0.01, voting_cls__svm__C=100, voting_cls__rfc__n_estimators=10, voting_cls__rfc__min_samples_split=4 \n"
     ]
    },
    {
     "name": "stderr",
     "output_type": "stream",
     "text": [
      "/home/dks/anaconda3/lib/python3.5/site-packages/sklearn/preprocessing/label.py:151: DeprecationWarning: The truth value of an empty array is ambiguous. Returning False, but in future this will result in an error. Use `array.size > 0` to check that an array is not empty.\n",
      "  if diff:\n",
      "/home/dks/anaconda3/lib/python3.5/site-packages/sklearn/preprocessing/label.py:151: DeprecationWarning: The truth value of an empty array is ambiguous. Returning False, but in future this will result in an error. Use `array.size > 0` to check that an array is not empty.\n",
      "  if diff:\n",
      "/home/dks/anaconda3/lib/python3.5/site-packages/sklearn/preprocessing/label.py:151: DeprecationWarning: The truth value of an empty array is ambiguous. Returning False, but in future this will result in an error. Use `array.size > 0` to check that an array is not empty.\n",
      "  if diff:\n"
     ]
    },
    {
     "name": "stdout",
     "output_type": "stream",
     "text": [
      "[CV]  voting_cls__voting=hard, voting_cls__svm__gamma=0.0001, voting_cls__svm__C=1, voting_cls__rfc__n_estimators=10, voting_cls__rfc__min_samples_split=4, score=0.4218312674930028, total= 2.6min\n",
      "[CV] voting_cls__voting=hard, voting_cls__svm__gamma=0.001, voting_cls__svm__C=100, voting_cls__rfc__n_estimators=10, voting_cls__rfc__min_samples_split=4 \n"
     ]
    },
    {
     "name": "stderr",
     "output_type": "stream",
     "text": [
      "/home/dks/anaconda3/lib/python3.5/site-packages/sklearn/preprocessing/label.py:151: DeprecationWarning: The truth value of an empty array is ambiguous. Returning False, but in future this will result in an error. Use `array.size > 0` to check that an array is not empty.\n",
      "  if diff:\n"
     ]
    },
    {
     "name": "stdout",
     "output_type": "stream",
     "text": [
      "[CV]  voting_cls__voting=soft, voting_cls__svm__gamma=0.0001, voting_cls__svm__C=1, voting_cls__rfc__n_estimators=10, voting_cls__rfc__min_samples_split=4, score=0.48592533439808344, total= 2.6min\n",
      "[CV] voting_cls__voting=hard, voting_cls__svm__gamma=0.001, voting_cls__svm__C=100, voting_cls__rfc__n_estimators=10, voting_cls__rfc__min_samples_split=4 \n"
     ]
    },
    {
     "name": "stderr",
     "output_type": "stream",
     "text": [
      "/home/dks/anaconda3/lib/python3.5/site-packages/sklearn/preprocessing/label.py:151: DeprecationWarning: The truth value of an empty array is ambiguous. Returning False, but in future this will result in an error. Use `array.size > 0` to check that an array is not empty.\n",
      "  if diff:\n",
      "/home/dks/anaconda3/lib/python3.5/site-packages/sklearn/preprocessing/label.py:151: DeprecationWarning: The truth value of an empty array is ambiguous. Returning False, but in future this will result in an error. Use `array.size > 0` to check that an array is not empty.\n",
      "  if diff:\n",
      "/home/dks/anaconda3/lib/python3.5/site-packages/sklearn/preprocessing/label.py:151: DeprecationWarning: The truth value of an empty array is ambiguous. Returning False, but in future this will result in an error. Use `array.size > 0` to check that an array is not empty.\n",
      "  if diff:\n"
     ]
    },
    {
     "name": "stdout",
     "output_type": "stream",
     "text": [
      "[CV]  voting_cls__voting=soft, voting_cls__svm__gamma=0.0001, voting_cls__svm__C=1, voting_cls__rfc__n_estimators=10, voting_cls__rfc__min_samples_split=4, score=0.4884046381447421, total= 2.5min\n",
      "[CV] voting_cls__voting=hard, voting_cls__svm__gamma=0.001, voting_cls__svm__C=100, voting_cls__rfc__n_estimators=10, voting_cls__rfc__min_samples_split=4 \n"
     ]
    },
    {
     "name": "stderr",
     "output_type": "stream",
     "text": [
      "/home/dks/anaconda3/lib/python3.5/site-packages/sklearn/preprocessing/label.py:151: DeprecationWarning: The truth value of an empty array is ambiguous. Returning False, but in future this will result in an error. Use `array.size > 0` to check that an array is not empty.\n",
      "  if diff:\n"
     ]
    },
    {
     "name": "stdout",
     "output_type": "stream",
     "text": [
      "[CV]  voting_cls__voting=soft, voting_cls__svm__gamma=0.0001, voting_cls__svm__C=1, voting_cls__rfc__n_estimators=10, voting_cls__rfc__min_samples_split=4, score=0.4834198961246504, total= 2.6min\n",
      "[CV] voting_cls__voting=soft, voting_cls__svm__gamma=0.001, voting_cls__svm__C=100, voting_cls__rfc__n_estimators=10, voting_cls__rfc__min_samples_split=4 \n"
     ]
    },
    {
     "name": "stderr",
     "output_type": "stream",
     "text": [
      "/home/dks/anaconda3/lib/python3.5/site-packages/sklearn/preprocessing/label.py:151: DeprecationWarning: The truth value of an empty array is ambiguous. Returning False, but in future this will result in an error. Use `array.size > 0` to check that an array is not empty.\n",
      "  if diff:\n",
      "/home/dks/anaconda3/lib/python3.5/site-packages/sklearn/preprocessing/label.py:151: DeprecationWarning: The truth value of an empty array is ambiguous. Returning False, but in future this will result in an error. Use `array.size > 0` to check that an array is not empty.\n",
      "  if diff:\n",
      "/home/dks/anaconda3/lib/python3.5/site-packages/sklearn/preprocessing/label.py:151: DeprecationWarning: The truth value of an empty array is ambiguous. Returning False, but in future this will result in an error. Use `array.size > 0` to check that an array is not empty.\n",
      "  if diff:\n",
      "/home/dks/anaconda3/lib/python3.5/site-packages/sklearn/preprocessing/label.py:151: DeprecationWarning: The truth value of an empty array is ambiguous. Returning False, but in future this will result in an error. Use `array.size > 0` to check that an array is not empty.\n",
      "  if diff:\n",
      "/home/dks/anaconda3/lib/python3.5/site-packages/sklearn/preprocessing/label.py:151: DeprecationWarning: The truth value of an empty array is ambiguous. Returning False, but in future this will result in an error. Use `array.size > 0` to check that an array is not empty.\n",
      "  if diff:\n",
      "/home/dks/anaconda3/lib/python3.5/site-packages/sklearn/preprocessing/label.py:151: DeprecationWarning: The truth value of an empty array is ambiguous. Returning False, but in future this will result in an error. Use `array.size > 0` to check that an array is not empty.\n",
      "  if diff:\n",
      "/home/dks/anaconda3/lib/python3.5/site-packages/sklearn/preprocessing/label.py:151: DeprecationWarning: The truth value of an empty array is ambiguous. Returning False, but in future this will result in an error. Use `array.size > 0` to check that an array is not empty.\n",
      "  if diff:\n",
      "/home/dks/anaconda3/lib/python3.5/site-packages/sklearn/preprocessing/label.py:151: DeprecationWarning: The truth value of an empty array is ambiguous. Returning False, but in future this will result in an error. Use `array.size > 0` to check that an array is not empty.\n",
      "  if diff:\n",
      "/home/dks/anaconda3/lib/python3.5/site-packages/sklearn/preprocessing/label.py:151: DeprecationWarning: The truth value of an empty array is ambiguous. Returning False, but in future this will result in an error. Use `array.size > 0` to check that an array is not empty.\n",
      "  if diff:\n",
      "/home/dks/anaconda3/lib/python3.5/site-packages/sklearn/preprocessing/label.py:151: DeprecationWarning: The truth value of an empty array is ambiguous. Returning False, but in future this will result in an error. Use `array.size > 0` to check that an array is not empty.\n",
      "  if diff:\n",
      "/home/dks/anaconda3/lib/python3.5/site-packages/sklearn/preprocessing/label.py:151: DeprecationWarning: The truth value of an empty array is ambiguous. Returning False, but in future this will result in an error. Use `array.size > 0` to check that an array is not empty.\n",
      "  if diff:\n"
     ]
    },
    {
     "name": "stdout",
     "output_type": "stream",
     "text": [
      "[CV]  voting_cls__voting=hard, voting_cls__svm__gamma=1, voting_cls__svm__C=100, voting_cls__rfc__n_estimators=10, voting_cls__rfc__min_samples_split=4, score=0.4706352377147423, total= 2.2min\n",
      "[CV] voting_cls__voting=soft, voting_cls__svm__gamma=0.001, voting_cls__svm__C=100, voting_cls__rfc__n_estimators=10, voting_cls__rfc__min_samples_split=4 \n"
     ]
    },
    {
     "name": "stderr",
     "output_type": "stream",
     "text": [
      "/home/dks/anaconda3/lib/python3.5/site-packages/sklearn/preprocessing/label.py:151: DeprecationWarning: The truth value of an empty array is ambiguous. Returning False, but in future this will result in an error. Use `array.size > 0` to check that an array is not empty.\n",
      "  if diff:\n"
     ]
    },
    {
     "name": "stdout",
     "output_type": "stream",
     "text": [
      "[CV]  voting_cls__voting=hard, voting_cls__svm__gamma=0.01, voting_cls__svm__C=100, voting_cls__rfc__n_estimators=10, voting_cls__rfc__min_samples_split=4, score=0.4467957676182871, total= 1.4min\n",
      "[CV] voting_cls__voting=soft, voting_cls__svm__gamma=0.001, voting_cls__svm__C=100, voting_cls__rfc__n_estimators=10, voting_cls__rfc__min_samples_split=4 \n"
     ]
    },
    {
     "name": "stderr",
     "output_type": "stream",
     "text": [
      "/home/dks/anaconda3/lib/python3.5/site-packages/sklearn/preprocessing/label.py:151: DeprecationWarning: The truth value of an empty array is ambiguous. Returning False, but in future this will result in an error. Use `array.size > 0` to check that an array is not empty.\n",
      "  if diff:\n"
     ]
    },
    {
     "name": "stdout",
     "output_type": "stream",
     "text": [
      "[CV]  voting_cls__voting=hard, voting_cls__svm__gamma=0.01, voting_cls__svm__C=100, voting_cls__rfc__n_estimators=10, voting_cls__rfc__min_samples_split=4, score=0.4448661606072713, total= 1.3min\n",
      "[CV] voting_cls__voting=hard, voting_cls__svm__gamma=0.0001, voting_cls__svm__C=100, voting_cls__rfc__n_estimators=10, voting_cls__rfc__min_samples_split=4 \n"
     ]
    },
    {
     "name": "stderr",
     "output_type": "stream",
     "text": [
      "/home/dks/anaconda3/lib/python3.5/site-packages/sklearn/preprocessing/label.py:151: DeprecationWarning: The truth value of an empty array is ambiguous. Returning False, but in future this will result in an error. Use `array.size > 0` to check that an array is not empty.\n",
      "  if diff:\n"
     ]
    },
    {
     "name": "stdout",
     "output_type": "stream",
     "text": [
      "[CV]  voting_cls__voting=hard, voting_cls__svm__gamma=0.01, voting_cls__svm__C=100, voting_cls__rfc__n_estimators=10, voting_cls__rfc__min_samples_split=4, score=0.45741703318672533, total= 1.3min\n",
      "[CV] voting_cls__voting=hard, voting_cls__svm__gamma=0.0001, voting_cls__svm__C=100, voting_cls__rfc__n_estimators=10, voting_cls__rfc__min_samples_split=4 \n"
     ]
    },
    {
     "name": "stderr",
     "output_type": "stream",
     "text": [
      "/home/dks/anaconda3/lib/python3.5/site-packages/sklearn/preprocessing/label.py:151: DeprecationWarning: The truth value of an empty array is ambiguous. Returning False, but in future this will result in an error. Use `array.size > 0` to check that an array is not empty.\n",
      "  if diff:\n"
     ]
    },
    {
     "name": "stdout",
     "output_type": "stream",
     "text": [
      "[CV]  voting_cls__voting=hard, voting_cls__svm__gamma=1, voting_cls__svm__C=100, voting_cls__rfc__n_estimators=10, voting_cls__rfc__min_samples_split=4, score=0.4643641445398283, total= 2.3min\n",
      "[CV] voting_cls__voting=hard, voting_cls__svm__gamma=0.0001, voting_cls__svm__C=100, voting_cls__rfc__n_estimators=10, voting_cls__rfc__min_samples_split=4 \n"
     ]
    },
    {
     "name": "stderr",
     "output_type": "stream",
     "text": [
      "/home/dks/anaconda3/lib/python3.5/site-packages/sklearn/preprocessing/label.py:151: DeprecationWarning: The truth value of an empty array is ambiguous. Returning False, but in future this will result in an error. Use `array.size > 0` to check that an array is not empty.\n",
      "  if diff:\n"
     ]
    },
    {
     "name": "stdout",
     "output_type": "stream",
     "text": [
      "[CV]  voting_cls__voting=soft, voting_cls__svm__gamma=0.01, voting_cls__svm__C=100, voting_cls__rfc__n_estimators=10, voting_cls__rfc__min_samples_split=4, score=0.4993012577360751, total= 1.4min\n",
      "[CV] voting_cls__voting=soft, voting_cls__svm__gamma=0.0001, voting_cls__svm__C=100, voting_cls__rfc__n_estimators=10, voting_cls__rfc__min_samples_split=4 \n"
     ]
    },
    {
     "name": "stderr",
     "output_type": "stream",
     "text": [
      "/home/dks/anaconda3/lib/python3.5/site-packages/sklearn/preprocessing/label.py:151: DeprecationWarning: The truth value of an empty array is ambiguous. Returning False, but in future this will result in an error. Use `array.size > 0` to check that an array is not empty.\n",
      "  if diff:\n"
     ]
    },
    {
     "name": "stdout",
     "output_type": "stream",
     "text": [
      "[CV]  voting_cls__voting=hard, voting_cls__svm__gamma=1, voting_cls__svm__C=100, voting_cls__rfc__n_estimators=10, voting_cls__rfc__min_samples_split=4, score=0.4752099160335866, total= 2.3min\n",
      "[CV] voting_cls__voting=soft, voting_cls__svm__gamma=0.0001, voting_cls__svm__C=100, voting_cls__rfc__n_estimators=10, voting_cls__rfc__min_samples_split=4 \n"
     ]
    },
    {
     "name": "stderr",
     "output_type": "stream",
     "text": [
      "/home/dks/anaconda3/lib/python3.5/site-packages/sklearn/preprocessing/label.py:151: DeprecationWarning: The truth value of an empty array is ambiguous. Returning False, but in future this will result in an error. Use `array.size > 0` to check that an array is not empty.\n",
      "  if diff:\n"
     ]
    },
    {
     "name": "stdout",
     "output_type": "stream",
     "text": [
      "[CV]  voting_cls__voting=soft, voting_cls__svm__gamma=0.01, voting_cls__svm__C=100, voting_cls__rfc__n_estimators=10, voting_cls__rfc__min_samples_split=4, score=0.49880143827407114, total= 1.3min\n",
      "[CV] voting_cls__voting=soft, voting_cls__svm__gamma=0.0001, voting_cls__svm__C=100, voting_cls__rfc__n_estimators=10, voting_cls__rfc__min_samples_split=4 \n"
     ]
    },
    {
     "name": "stderr",
     "output_type": "stream",
     "text": [
      "/home/dks/anaconda3/lib/python3.5/site-packages/sklearn/preprocessing/label.py:151: DeprecationWarning: The truth value of an empty array is ambiguous. Returning False, but in future this will result in an error. Use `array.size > 0` to check that an array is not empty.\n",
      "  if diff:\n"
     ]
    },
    {
     "name": "stdout",
     "output_type": "stream",
     "text": [
      "[CV]  voting_cls__voting=soft, voting_cls__svm__gamma=0.01, voting_cls__svm__C=100, voting_cls__rfc__n_estimators=10, voting_cls__rfc__min_samples_split=4, score=0.49420231907237105, total= 1.4min\n",
      "[CV] voting_cls__voting=hard, voting_cls__svm__gamma=1, voting_cls__svm__C=1000, voting_cls__rfc__n_estimators=10, voting_cls__rfc__min_samples_split=4 \n"
     ]
    },
    {
     "name": "stderr",
     "output_type": "stream",
     "text": [
      "/home/dks/anaconda3/lib/python3.5/site-packages/sklearn/preprocessing/label.py:151: DeprecationWarning: The truth value of an empty array is ambiguous. Returning False, but in future this will result in an error. Use `array.size > 0` to check that an array is not empty.\n",
      "  if diff:\n"
     ]
    },
    {
     "name": "stdout",
     "output_type": "stream",
     "text": [
      "[CV]  voting_cls__voting=soft, voting_cls__svm__gamma=1, voting_cls__svm__C=100, voting_cls__rfc__n_estimators=10, voting_cls__rfc__min_samples_split=4, score=0.5010980235575964, total= 2.3min\n",
      "[CV] voting_cls__voting=hard, voting_cls__svm__gamma=1, voting_cls__svm__C=1000, voting_cls__rfc__n_estimators=10, voting_cls__rfc__min_samples_split=4 \n"
     ]
    },
    {
     "name": "stderr",
     "output_type": "stream",
     "text": [
      "/home/dks/anaconda3/lib/python3.5/site-packages/sklearn/preprocessing/label.py:151: DeprecationWarning: The truth value of an empty array is ambiguous. Returning False, but in future this will result in an error. Use `array.size > 0` to check that an array is not empty.\n",
      "  if diff:\n",
      "/home/dks/anaconda3/lib/python3.5/site-packages/sklearn/preprocessing/label.py:151: DeprecationWarning: The truth value of an empty array is ambiguous. Returning False, but in future this will result in an error. Use `array.size > 0` to check that an array is not empty.\n",
      "  if diff:\n",
      "/home/dks/anaconda3/lib/python3.5/site-packages/sklearn/preprocessing/label.py:151: DeprecationWarning: The truth value of an empty array is ambiguous. Returning False, but in future this will result in an error. Use `array.size > 0` to check that an array is not empty.\n",
      "  if diff:\n",
      "/home/dks/anaconda3/lib/python3.5/site-packages/sklearn/preprocessing/label.py:151: DeprecationWarning: The truth value of an empty array is ambiguous. Returning False, but in future this will result in an error. Use `array.size > 0` to check that an array is not empty.\n",
      "  if diff:\n",
      "/home/dks/anaconda3/lib/python3.5/site-packages/sklearn/preprocessing/label.py:151: DeprecationWarning: The truth value of an empty array is ambiguous. Returning False, but in future this will result in an error. Use `array.size > 0` to check that an array is not empty.\n",
      "  if diff:\n"
     ]
    },
    {
     "name": "stdout",
     "output_type": "stream",
     "text": [
      "[CV]  voting_cls__voting=hard, voting_cls__svm__gamma=0.001, voting_cls__svm__C=100, voting_cls__rfc__n_estimators=10, voting_cls__rfc__min_samples_split=4, score=0.44000798562587345, total= 1.5min\n",
      "[CV] voting_cls__voting=hard, voting_cls__svm__gamma=1, voting_cls__svm__C=1000, voting_cls__rfc__n_estimators=10, voting_cls__rfc__min_samples_split=4 \n"
     ]
    },
    {
     "name": "stderr",
     "output_type": "stream",
     "text": [
      "/home/dks/anaconda3/lib/python3.5/site-packages/sklearn/preprocessing/label.py:151: DeprecationWarning: The truth value of an empty array is ambiguous. Returning False, but in future this will result in an error. Use `array.size > 0` to check that an array is not empty.\n",
      "  if diff:\n"
     ]
    },
    {
     "name": "stdout",
     "output_type": "stream",
     "text": [
      "[CV]  voting_cls__voting=hard, voting_cls__svm__gamma=0.001, voting_cls__svm__C=100, voting_cls__rfc__n_estimators=10, voting_cls__rfc__min_samples_split=4, score=0.43787455053935276, total= 1.5min\n",
      "[CV] voting_cls__voting=soft, voting_cls__svm__gamma=1, voting_cls__svm__C=1000, voting_cls__rfc__n_estimators=10, voting_cls__rfc__min_samples_split=4 \n"
     ]
    },
    {
     "name": "stderr",
     "output_type": "stream",
     "text": [
      "/home/dks/anaconda3/lib/python3.5/site-packages/sklearn/preprocessing/label.py:151: DeprecationWarning: The truth value of an empty array is ambiguous. Returning False, but in future this will result in an error. Use `array.size > 0` to check that an array is not empty.\n",
      "  if diff:\n"
     ]
    },
    {
     "name": "stdout",
     "output_type": "stream",
     "text": [
      "[CV]  voting_cls__voting=soft, voting_cls__svm__gamma=1, voting_cls__svm__C=100, voting_cls__rfc__n_estimators=10, voting_cls__rfc__min_samples_split=4, score=0.5045944866160608, total= 2.2min\n",
      "[CV] voting_cls__voting=soft, voting_cls__svm__gamma=1, voting_cls__svm__C=1000, voting_cls__rfc__n_estimators=10, voting_cls__rfc__min_samples_split=4 \n"
     ]
    },
    {
     "name": "stderr",
     "output_type": "stream",
     "text": [
      "/home/dks/anaconda3/lib/python3.5/site-packages/sklearn/preprocessing/label.py:151: DeprecationWarning: The truth value of an empty array is ambiguous. Returning False, but in future this will result in an error. Use `array.size > 0` to check that an array is not empty.\n",
      "  if diff:\n"
     ]
    },
    {
     "name": "stdout",
     "output_type": "stream",
     "text": [
      "[CV]  voting_cls__voting=soft, voting_cls__svm__gamma=1, voting_cls__svm__C=100, voting_cls__rfc__n_estimators=10, voting_cls__rfc__min_samples_split=4, score=0.502998800479808, total= 2.3min\n",
      "[CV] voting_cls__voting=soft, voting_cls__svm__gamma=1, voting_cls__svm__C=1000, voting_cls__rfc__n_estimators=10, voting_cls__rfc__min_samples_split=4 \n"
     ]
    },
    {
     "name": "stderr",
     "output_type": "stream",
     "text": [
      "/home/dks/anaconda3/lib/python3.5/site-packages/sklearn/preprocessing/label.py:151: DeprecationWarning: The truth value of an empty array is ambiguous. Returning False, but in future this will result in an error. Use `array.size > 0` to check that an array is not empty.\n",
      "  if diff:\n",
      "/home/dks/anaconda3/lib/python3.5/site-packages/sklearn/preprocessing/label.py:151: DeprecationWarning: The truth value of an empty array is ambiguous. Returning False, but in future this will result in an error. Use `array.size > 0` to check that an array is not empty.\n",
      "  if diff:\n",
      "/home/dks/anaconda3/lib/python3.5/site-packages/sklearn/preprocessing/label.py:151: DeprecationWarning: The truth value of an empty array is ambiguous. Returning False, but in future this will result in an error. Use `array.size > 0` to check that an array is not empty.\n",
      "  if diff:\n"
     ]
    },
    {
     "name": "stdout",
     "output_type": "stream",
     "text": [
      "[CV]  voting_cls__voting=hard, voting_cls__svm__gamma=0.001, voting_cls__svm__C=100, voting_cls__rfc__n_estimators=10, voting_cls__rfc__min_samples_split=4, score=0.4492203118752499, total= 1.5min\n",
      "[CV] voting_cls__voting=hard, voting_cls__svm__gamma=0.01, voting_cls__svm__C=1000, voting_cls__rfc__n_estimators=10, voting_cls__rfc__min_samples_split=4 \n"
     ]
    },
    {
     "name": "stderr",
     "output_type": "stream",
     "text": [
      "/home/dks/anaconda3/lib/python3.5/site-packages/sklearn/preprocessing/label.py:151: DeprecationWarning: The truth value of an empty array is ambiguous. Returning False, but in future this will result in an error. Use `array.size > 0` to check that an array is not empty.\n",
      "  if diff:\n"
     ]
    },
    {
     "name": "stdout",
     "output_type": "stream",
     "text": [
      "[CV]  voting_cls__voting=soft, voting_cls__svm__gamma=0.001, voting_cls__svm__C=100, voting_cls__rfc__n_estimators=10, voting_cls__rfc__min_samples_split=4, score=0.4975044919145538, total= 1.5min\n",
      "[CV] voting_cls__voting=hard, voting_cls__svm__gamma=0.01, voting_cls__svm__C=1000, voting_cls__rfc__n_estimators=10, voting_cls__rfc__min_samples_split=4 \n"
     ]
    },
    {
     "name": "stderr",
     "output_type": "stream",
     "text": [
      "/home/dks/anaconda3/lib/python3.5/site-packages/sklearn/preprocessing/label.py:151: DeprecationWarning: The truth value of an empty array is ambiguous. Returning False, but in future this will result in an error. Use `array.size > 0` to check that an array is not empty.\n",
      "  if diff:\n",
      "/home/dks/anaconda3/lib/python3.5/site-packages/sklearn/preprocessing/label.py:151: DeprecationWarning: The truth value of an empty array is ambiguous. Returning False, but in future this will result in an error. Use `array.size > 0` to check that an array is not empty.\n",
      "  if diff:\n",
      "/home/dks/anaconda3/lib/python3.5/site-packages/sklearn/preprocessing/label.py:151: DeprecationWarning: The truth value of an empty array is ambiguous. Returning False, but in future this will result in an error. Use `array.size > 0` to check that an array is not empty.\n",
      "  if diff:\n"
     ]
    },
    {
     "name": "stdout",
     "output_type": "stream",
     "text": [
      "[CV]  voting_cls__voting=soft, voting_cls__svm__gamma=0.001, voting_cls__svm__C=100, voting_cls__rfc__n_estimators=10, voting_cls__rfc__min_samples_split=4, score=0.4972033559728326, total= 1.4min\n",
      "[CV] voting_cls__voting=hard, voting_cls__svm__gamma=0.01, voting_cls__svm__C=1000, voting_cls__rfc__n_estimators=10, voting_cls__rfc__min_samples_split=4 \n"
     ]
    },
    {
     "name": "stderr",
     "output_type": "stream",
     "text": [
      "/home/dks/anaconda3/lib/python3.5/site-packages/sklearn/preprocessing/label.py:151: DeprecationWarning: The truth value of an empty array is ambiguous. Returning False, but in future this will result in an error. Use `array.size > 0` to check that an array is not empty.\n",
      "  if diff:\n"
     ]
    },
    {
     "name": "stdout",
     "output_type": "stream",
     "text": [
      "[CV]  voting_cls__voting=soft, voting_cls__svm__gamma=0.001, voting_cls__svm__C=100, voting_cls__rfc__n_estimators=10, voting_cls__rfc__min_samples_split=4, score=0.4910035985605758, total= 1.5min\n",
      "[CV] voting_cls__voting=soft, voting_cls__svm__gamma=0.01, voting_cls__svm__C=1000, voting_cls__rfc__n_estimators=10, voting_cls__rfc__min_samples_split=4 \n"
     ]
    },
    {
     "name": "stderr",
     "output_type": "stream",
     "text": [
      "/home/dks/anaconda3/lib/python3.5/site-packages/sklearn/preprocessing/label.py:151: DeprecationWarning: The truth value of an empty array is ambiguous. Returning False, but in future this will result in an error. Use `array.size > 0` to check that an array is not empty.\n",
      "  if diff:\n",
      "/home/dks/anaconda3/lib/python3.5/site-packages/sklearn/preprocessing/label.py:151: DeprecationWarning: The truth value of an empty array is ambiguous. Returning False, but in future this will result in an error. Use `array.size > 0` to check that an array is not empty.\n",
      "  if diff:\n",
      "/home/dks/anaconda3/lib/python3.5/site-packages/sklearn/preprocessing/label.py:151: DeprecationWarning: The truth value of an empty array is ambiguous. Returning False, but in future this will result in an error. Use `array.size > 0` to check that an array is not empty.\n",
      "  if diff:\n",
      "/home/dks/anaconda3/lib/python3.5/site-packages/sklearn/preprocessing/label.py:151: DeprecationWarning: The truth value of an empty array is ambiguous. Returning False, but in future this will result in an error. Use `array.size > 0` to check that an array is not empty.\n",
      "  if diff:\n",
      "/home/dks/anaconda3/lib/python3.5/site-packages/sklearn/preprocessing/label.py:151: DeprecationWarning: The truth value of an empty array is ambiguous. Returning False, but in future this will result in an error. Use `array.size > 0` to check that an array is not empty.\n",
      "  if diff:\n",
      "/home/dks/anaconda3/lib/python3.5/site-packages/sklearn/preprocessing/label.py:151: DeprecationWarning: The truth value of an empty array is ambiguous. Returning False, but in future this will result in an error. Use `array.size > 0` to check that an array is not empty.\n",
      "  if diff:\n",
      "/home/dks/anaconda3/lib/python3.5/site-packages/sklearn/preprocessing/label.py:151: DeprecationWarning: The truth value of an empty array is ambiguous. Returning False, but in future this will result in an error. Use `array.size > 0` to check that an array is not empty.\n",
      "  if diff:\n"
     ]
    },
    {
     "name": "stdout",
     "output_type": "stream",
     "text": [
      "[CV]  voting_cls__voting=hard, voting_cls__svm__gamma=0.0001, voting_cls__svm__C=100, voting_cls__rfc__n_estimators=10, voting_cls__rfc__min_samples_split=4, score=0.4384246301479408, total= 1.9min\n",
      "[CV] voting_cls__voting=soft, voting_cls__svm__gamma=0.01, voting_cls__svm__C=1000, voting_cls__rfc__n_estimators=10, voting_cls__rfc__min_samples_split=4 \n"
     ]
    },
    {
     "name": "stderr",
     "output_type": "stream",
     "text": [
      "/home/dks/anaconda3/lib/python3.5/site-packages/sklearn/preprocessing/label.py:151: DeprecationWarning: The truth value of an empty array is ambiguous. Returning False, but in future this will result in an error. Use `array.size > 0` to check that an array is not empty.\n",
      "  if diff:\n"
     ]
    },
    {
     "name": "stdout",
     "output_type": "stream",
     "text": [
      "[CV]  voting_cls__voting=hard, voting_cls__svm__gamma=0.0001, voting_cls__svm__C=100, voting_cls__rfc__n_estimators=10, voting_cls__rfc__min_samples_split=4, score=0.42184068676382513, total= 1.9min\n"
     ]
    },
    {
     "name": "stderr",
     "output_type": "stream",
     "text": [
      "/home/dks/anaconda3/lib/python3.5/site-packages/sklearn/preprocessing/label.py:151: DeprecationWarning: The truth value of an empty array is ambiguous. Returning False, but in future this will result in an error. Use `array.size > 0` to check that an array is not empty.\n",
      "  if diff:\n"
     ]
    },
    {
     "name": "stdout",
     "output_type": "stream",
     "text": [
      "[CV] voting_cls__voting=soft, voting_cls__svm__gamma=0.01, voting_cls__svm__C=1000, voting_cls__rfc__n_estimators=10, voting_cls__rfc__min_samples_split=4 \n",
      "[CV]  voting_cls__voting=hard, voting_cls__svm__gamma=0.0001, voting_cls__svm__C=100, voting_cls__rfc__n_estimators=10, voting_cls__rfc__min_samples_split=4, score=0.4186975629244906, total= 1.9min\n",
      "[CV] voting_cls__voting=hard, voting_cls__svm__gamma=0.001, voting_cls__svm__C=1000, voting_cls__rfc__n_estimators=10, voting_cls__rfc__min_samples_split=4 \n"
     ]
    },
    {
     "name": "stderr",
     "output_type": "stream",
     "text": [
      "/home/dks/anaconda3/lib/python3.5/site-packages/sklearn/preprocessing/label.py:151: DeprecationWarning: The truth value of an empty array is ambiguous. Returning False, but in future this will result in an error. Use `array.size > 0` to check that an array is not empty.\n",
      "  if diff:\n",
      "/home/dks/anaconda3/lib/python3.5/site-packages/sklearn/preprocessing/label.py:151: DeprecationWarning: The truth value of an empty array is ambiguous. Returning False, but in future this will result in an error. Use `array.size > 0` to check that an array is not empty.\n",
      "  if diff:\n"
     ]
    },
    {
     "name": "stdout",
     "output_type": "stream",
     "text": [
      "[CV]  voting_cls__voting=soft, voting_cls__svm__gamma=0.0001, voting_cls__svm__C=100, voting_cls__rfc__n_estimators=10, voting_cls__rfc__min_samples_split=4, score=0.48661606072712743, total= 1.9min\n",
      "[CV]  voting_cls__voting=soft, voting_cls__svm__gamma=0.0001, voting_cls__svm__C=100, voting_cls__rfc__n_estimators=10, voting_cls__rfc__min_samples_split=4, score=0.48900439824070374, total= 1.9min\n",
      "[CV] voting_cls__voting=hard, voting_cls__svm__gamma=0.001, voting_cls__svm__C=1000, voting_cls__rfc__n_estimators=10, voting_cls__rfc__min_samples_split=4 \n",
      "[CV] voting_cls__voting=hard, voting_cls__svm__gamma=0.001, voting_cls__svm__C=1000, voting_cls__rfc__n_estimators=10, voting_cls__rfc__min_samples_split=4 \n"
     ]
    },
    {
     "name": "stderr",
     "output_type": "stream",
     "text": [
      "/home/dks/anaconda3/lib/python3.5/site-packages/sklearn/preprocessing/label.py:151: DeprecationWarning: The truth value of an empty array is ambiguous. Returning False, but in future this will result in an error. Use `array.size > 0` to check that an array is not empty.\n",
      "  if diff:\n"
     ]
    },
    {
     "name": "stdout",
     "output_type": "stream",
     "text": [
      "[CV]  voting_cls__voting=soft, voting_cls__svm__gamma=0.0001, voting_cls__svm__C=100, voting_cls__rfc__n_estimators=10, voting_cls__rfc__min_samples_split=4, score=0.4923138350968257, total= 1.9min\n",
      "[CV] voting_cls__voting=soft, voting_cls__svm__gamma=0.001, voting_cls__svm__C=1000, voting_cls__rfc__n_estimators=10, voting_cls__rfc__min_samples_split=4 \n"
     ]
    },
    {
     "name": "stderr",
     "output_type": "stream",
     "text": [
      "/home/dks/anaconda3/lib/python3.5/site-packages/sklearn/preprocessing/label.py:151: DeprecationWarning: The truth value of an empty array is ambiguous. Returning False, but in future this will result in an error. Use `array.size > 0` to check that an array is not empty.\n",
      "  if diff:\n",
      "/home/dks/anaconda3/lib/python3.5/site-packages/sklearn/preprocessing/label.py:151: DeprecationWarning: The truth value of an empty array is ambiguous. Returning False, but in future this will result in an error. Use `array.size > 0` to check that an array is not empty.\n",
      "  if diff:\n",
      "/home/dks/anaconda3/lib/python3.5/site-packages/sklearn/preprocessing/label.py:151: DeprecationWarning: The truth value of an empty array is ambiguous. Returning False, but in future this will result in an error. Use `array.size > 0` to check that an array is not empty.\n",
      "  if diff:\n"
     ]
    },
    {
     "name": "stdout",
     "output_type": "stream",
     "text": [
      "[CV]  voting_cls__voting=hard, voting_cls__svm__gamma=0.01, voting_cls__svm__C=1000, voting_cls__rfc__n_estimators=10, voting_cls__rfc__min_samples_split=4, score=0.4493910960271511, total= 1.4min\n"
     ]
    },
    {
     "name": "stderr",
     "output_type": "stream",
     "text": [
      "/home/dks/anaconda3/lib/python3.5/site-packages/sklearn/preprocessing/label.py:151: DeprecationWarning: The truth value of an empty array is ambiguous. Returning False, but in future this will result in an error. Use `array.size > 0` to check that an array is not empty.\n",
      "  if diff:\n"
     ]
    },
    {
     "name": "stdout",
     "output_type": "stream",
     "text": [
      "[CV] voting_cls__voting=soft, voting_cls__svm__gamma=0.001, voting_cls__svm__C=1000, voting_cls__rfc__n_estimators=10, voting_cls__rfc__min_samples_split=4 \n",
      "[CV]  voting_cls__voting=hard, voting_cls__svm__gamma=0.01, voting_cls__svm__C=1000, voting_cls__rfc__n_estimators=10, voting_cls__rfc__min_samples_split=4, score=0.449460647223332, total= 1.4min\n",
      "[CV] voting_cls__voting=soft, voting_cls__svm__gamma=0.001, voting_cls__svm__C=1000, voting_cls__rfc__n_estimators=10, voting_cls__rfc__min_samples_split=4 \n"
     ]
    },
    {
     "name": "stderr",
     "output_type": "stream",
     "text": [
      "/home/dks/anaconda3/lib/python3.5/site-packages/sklearn/preprocessing/label.py:151: DeprecationWarning: The truth value of an empty array is ambiguous. Returning False, but in future this will result in an error. Use `array.size > 0` to check that an array is not empty.\n",
      "  if diff:\n",
      "/home/dks/anaconda3/lib/python3.5/site-packages/sklearn/preprocessing/label.py:151: DeprecationWarning: The truth value of an empty array is ambiguous. Returning False, but in future this will result in an error. Use `array.size > 0` to check that an array is not empty.\n",
      "  if diff:\n",
      "/home/dks/anaconda3/lib/python3.5/site-packages/sklearn/preprocessing/label.py:151: DeprecationWarning: The truth value of an empty array is ambiguous. Returning False, but in future this will result in an error. Use `array.size > 0` to check that an array is not empty.\n",
      "  if diff:\n"
     ]
    },
    {
     "name": "stdout",
     "output_type": "stream",
     "text": [
      "[CV]  voting_cls__voting=hard, voting_cls__svm__gamma=0.01, voting_cls__svm__C=1000, voting_cls__rfc__n_estimators=10, voting_cls__rfc__min_samples_split=4, score=0.4596161535385846, total= 1.5min\n",
      "[CV] voting_cls__voting=hard, voting_cls__svm__gamma=0.0001, voting_cls__svm__C=1000, voting_cls__rfc__n_estimators=10, voting_cls__rfc__min_samples_split=4 \n"
     ]
    },
    {
     "name": "stderr",
     "output_type": "stream",
     "text": [
      "/home/dks/anaconda3/lib/python3.5/site-packages/sklearn/preprocessing/label.py:151: DeprecationWarning: The truth value of an empty array is ambiguous. Returning False, but in future this will result in an error. Use `array.size > 0` to check that an array is not empty.\n",
      "  if diff:\n"
     ]
    },
    {
     "name": "stdout",
     "output_type": "stream",
     "text": [
      "[CV]  voting_cls__voting=soft, voting_cls__svm__gamma=0.01, voting_cls__svm__C=1000, voting_cls__rfc__n_estimators=10, voting_cls__rfc__min_samples_split=4, score=0.503294070672789, total= 1.5min\n",
      "[CV] voting_cls__voting=hard, voting_cls__svm__gamma=0.0001, voting_cls__svm__C=1000, voting_cls__rfc__n_estimators=10, voting_cls__rfc__min_samples_split=4 \n"
     ]
    },
    {
     "name": "stderr",
     "output_type": "stream",
     "text": [
      "/home/dks/anaconda3/lib/python3.5/site-packages/sklearn/preprocessing/label.py:151: DeprecationWarning: The truth value of an empty array is ambiguous. Returning False, but in future this will result in an error. Use `array.size > 0` to check that an array is not empty.\n",
      "  if diff:\n",
      "/home/dks/anaconda3/lib/python3.5/site-packages/sklearn/preprocessing/label.py:151: DeprecationWarning: The truth value of an empty array is ambiguous. Returning False, but in future this will result in an error. Use `array.size > 0` to check that an array is not empty.\n",
      "  if diff:\n",
      "/home/dks/anaconda3/lib/python3.5/site-packages/sklearn/preprocessing/label.py:151: DeprecationWarning: The truth value of an empty array is ambiguous. Returning False, but in future this will result in an error. Use `array.size > 0` to check that an array is not empty.\n",
      "  if diff:\n",
      "/home/dks/anaconda3/lib/python3.5/site-packages/sklearn/preprocessing/label.py:151: DeprecationWarning: The truth value of an empty array is ambiguous. Returning False, but in future this will result in an error. Use `array.size > 0` to check that an array is not empty.\n",
      "  if diff:\n",
      "/home/dks/anaconda3/lib/python3.5/site-packages/sklearn/preprocessing/label.py:151: DeprecationWarning: The truth value of an empty array is ambiguous. Returning False, but in future this will result in an error. Use `array.size > 0` to check that an array is not empty.\n",
      "  if diff:\n",
      "/home/dks/anaconda3/lib/python3.5/site-packages/sklearn/preprocessing/label.py:151: DeprecationWarning: The truth value of an empty array is ambiguous. Returning False, but in future this will result in an error. Use `array.size > 0` to check that an array is not empty.\n",
      "  if diff:\n"
     ]
    },
    {
     "name": "stdout",
     "output_type": "stream",
     "text": [
      "[CV]  voting_cls__voting=hard, voting_cls__svm__gamma=0.001, voting_cls__svm__C=1000, voting_cls__rfc__n_estimators=10, voting_cls__rfc__min_samples_split=4, score=0.43887335197762684, total= 1.3min\n",
      "[CV] voting_cls__voting=hard, voting_cls__svm__gamma=0.0001, voting_cls__svm__C=1000, voting_cls__rfc__n_estimators=10, voting_cls__rfc__min_samples_split=4 \n"
     ]
    },
    {
     "name": "stderr",
     "output_type": "stream",
     "text": [
      "/home/dks/anaconda3/lib/python3.5/site-packages/sklearn/preprocessing/label.py:151: DeprecationWarning: The truth value of an empty array is ambiguous. Returning False, but in future this will result in an error. Use `array.size > 0` to check that an array is not empty.\n",
      "  if diff:\n",
      "/home/dks/anaconda3/lib/python3.5/site-packages/sklearn/preprocessing/label.py:151: DeprecationWarning: The truth value of an empty array is ambiguous. Returning False, but in future this will result in an error. Use `array.size > 0` to check that an array is not empty.\n",
      "  if diff:\n"
     ]
    },
    {
     "name": "stdout",
     "output_type": "stream",
     "text": [
      "[CV]  voting_cls__voting=hard, voting_cls__svm__gamma=0.001, voting_cls__svm__C=1000, voting_cls__rfc__n_estimators=10, voting_cls__rfc__min_samples_split=4, score=0.44360151726891595, total= 1.4min\n",
      "[CV] voting_cls__voting=soft, voting_cls__svm__gamma=0.0001, voting_cls__svm__C=1000, voting_cls__rfc__n_estimators=10, voting_cls__rfc__min_samples_split=4 \n"
     ]
    },
    {
     "name": "stderr",
     "output_type": "stream",
     "text": [
      "/home/dks/anaconda3/lib/python3.5/site-packages/sklearn/preprocessing/label.py:151: DeprecationWarning: The truth value of an empty array is ambiguous. Returning False, but in future this will result in an error. Use `array.size > 0` to check that an array is not empty.\n",
      "  if diff:\n"
     ]
    },
    {
     "name": "stdout",
     "output_type": "stream",
     "text": [
      "[CV]  voting_cls__voting=hard, voting_cls__svm__gamma=0.001, voting_cls__svm__C=1000, voting_cls__rfc__n_estimators=10, voting_cls__rfc__min_samples_split=4, score=0.4528188724510196, total= 1.4min\n",
      "[CV] voting_cls__voting=soft, voting_cls__svm__gamma=0.0001, voting_cls__svm__C=1000, voting_cls__rfc__n_estimators=10, voting_cls__rfc__min_samples_split=4 \n"
     ]
    },
    {
     "name": "stderr",
     "output_type": "stream",
     "text": [
      "/home/dks/anaconda3/lib/python3.5/site-packages/sklearn/preprocessing/label.py:151: DeprecationWarning: The truth value of an empty array is ambiguous. Returning False, but in future this will result in an error. Use `array.size > 0` to check that an array is not empty.\n",
      "  if diff:\n"
     ]
    },
    {
     "name": "stdout",
     "output_type": "stream",
     "text": [
      "[CV]  voting_cls__voting=soft, voting_cls__svm__gamma=0.01, voting_cls__svm__C=1000, voting_cls__rfc__n_estimators=10, voting_cls__rfc__min_samples_split=4, score=0.49880143827407114, total= 1.4min\n",
      "[CV] voting_cls__voting=soft, voting_cls__svm__gamma=0.0001, voting_cls__svm__C=1000, voting_cls__rfc__n_estimators=10, voting_cls__rfc__min_samples_split=4 \n"
     ]
    },
    {
     "name": "stderr",
     "output_type": "stream",
     "text": [
      "/home/dks/anaconda3/lib/python3.5/site-packages/sklearn/preprocessing/label.py:151: DeprecationWarning: The truth value of an empty array is ambiguous. Returning False, but in future this will result in an error. Use `array.size > 0` to check that an array is not empty.\n",
      "  if diff:\n"
     ]
    },
    {
     "name": "stdout",
     "output_type": "stream",
     "text": [
      "[CV]  voting_cls__voting=soft, voting_cls__svm__gamma=0.001, voting_cls__svm__C=1000, voting_cls__rfc__n_estimators=10, voting_cls__rfc__min_samples_split=4, score=0.4991016170892394, total= 1.4min\n",
      "[CV] voting_cls__voting=hard, voting_cls__svm__gamma=1, voting_cls__svm__C=0.1, voting_cls__rfc__n_estimators=100, voting_cls__rfc__min_samples_split=4 \n"
     ]
    },
    {
     "name": "stderr",
     "output_type": "stream",
     "text": [
      "/home/dks/anaconda3/lib/python3.5/site-packages/sklearn/preprocessing/label.py:151: DeprecationWarning: The truth value of an empty array is ambiguous. Returning False, but in future this will result in an error. Use `array.size > 0` to check that an array is not empty.\n",
      "  if diff:\n"
     ]
    },
    {
     "name": "stdout",
     "output_type": "stream",
     "text": [
      "[CV]  voting_cls__voting=soft, voting_cls__svm__gamma=0.01, voting_cls__svm__C=1000, voting_cls__rfc__n_estimators=10, voting_cls__rfc__min_samples_split=4, score=0.49700119952019195, total= 1.5min\n",
      "[CV] voting_cls__voting=hard, voting_cls__svm__gamma=1, voting_cls__svm__C=0.1, voting_cls__rfc__n_estimators=100, voting_cls__rfc__min_samples_split=4 \n"
     ]
    },
    {
     "name": "stderr",
     "output_type": "stream",
     "text": [
      "/home/dks/anaconda3/lib/python3.5/site-packages/sklearn/preprocessing/label.py:151: DeprecationWarning: The truth value of an empty array is ambiguous. Returning False, but in future this will result in an error. Use `array.size > 0` to check that an array is not empty.\n",
      "  if diff:\n",
      "/home/dks/anaconda3/lib/python3.5/site-packages/sklearn/preprocessing/label.py:151: DeprecationWarning: The truth value of an empty array is ambiguous. Returning False, but in future this will result in an error. Use `array.size > 0` to check that an array is not empty.\n",
      "  if diff:\n",
      "/home/dks/anaconda3/lib/python3.5/site-packages/sklearn/preprocessing/label.py:151: DeprecationWarning: The truth value of an empty array is ambiguous. Returning False, but in future this will result in an error. Use `array.size > 0` to check that an array is not empty.\n",
      "  if diff:\n"
     ]
    },
    {
     "name": "stdout",
     "output_type": "stream",
     "text": [
      "[CV]  voting_cls__voting=soft, voting_cls__svm__gamma=0.001, voting_cls__svm__C=1000, voting_cls__rfc__n_estimators=10, voting_cls__rfc__min_samples_split=4, score=0.49640431482221337, total= 1.3min\n",
      "[CV] voting_cls__voting=hard, voting_cls__svm__gamma=1, voting_cls__svm__C=0.1, voting_cls__rfc__n_estimators=100, voting_cls__rfc__min_samples_split=4 \n"
     ]
    },
    {
     "name": "stderr",
     "output_type": "stream",
     "text": [
      "/home/dks/anaconda3/lib/python3.5/site-packages/sklearn/preprocessing/label.py:151: DeprecationWarning: The truth value of an empty array is ambiguous. Returning False, but in future this will result in an error. Use `array.size > 0` to check that an array is not empty.\n",
      "  if diff:\n"
     ]
    },
    {
     "name": "stdout",
     "output_type": "stream",
     "text": [
      "[CV]  voting_cls__voting=soft, voting_cls__svm__gamma=0.001, voting_cls__svm__C=1000, voting_cls__rfc__n_estimators=10, voting_cls__rfc__min_samples_split=4, score=0.49420231907237105, total= 1.4min\n",
      "[CV] voting_cls__voting=soft, voting_cls__svm__gamma=1, voting_cls__svm__C=0.1, voting_cls__rfc__n_estimators=100, voting_cls__rfc__min_samples_split=4 \n"
     ]
    },
    {
     "name": "stderr",
     "output_type": "stream",
     "text": [
      "/home/dks/anaconda3/lib/python3.5/site-packages/sklearn/preprocessing/label.py:151: DeprecationWarning: The truth value of an empty array is ambiguous. Returning False, but in future this will result in an error. Use `array.size > 0` to check that an array is not empty.\n",
      "  if diff:\n",
      "/home/dks/anaconda3/lib/python3.5/site-packages/sklearn/preprocessing/label.py:151: DeprecationWarning: The truth value of an empty array is ambiguous. Returning False, but in future this will result in an error. Use `array.size > 0` to check that an array is not empty.\n",
      "  if diff:\n",
      "/home/dks/anaconda3/lib/python3.5/site-packages/sklearn/preprocessing/label.py:151: DeprecationWarning: The truth value of an empty array is ambiguous. Returning False, but in future this will result in an error. Use `array.size > 0` to check that an array is not empty.\n",
      "  if diff:\n"
     ]
    },
    {
     "name": "stdout",
     "output_type": "stream",
     "text": [
      "[CV]  voting_cls__voting=hard, voting_cls__svm__gamma=0.0001, voting_cls__svm__C=1000, voting_cls__rfc__n_estimators=10, voting_cls__rfc__min_samples_split=4, score=0.43940906368536636, total= 1.5min\n",
      "[CV] voting_cls__voting=soft, voting_cls__svm__gamma=1, voting_cls__svm__C=0.1, voting_cls__rfc__n_estimators=100, voting_cls__rfc__min_samples_split=4 \n"
     ]
    },
    {
     "name": "stderr",
     "output_type": "stream",
     "text": [
      "/home/dks/anaconda3/lib/python3.5/site-packages/sklearn/preprocessing/label.py:151: DeprecationWarning: The truth value of an empty array is ambiguous. Returning False, but in future this will result in an error. Use `array.size > 0` to check that an array is not empty.\n",
      "  if diff:\n"
     ]
    },
    {
     "name": "stdout",
     "output_type": "stream",
     "text": [
      "[CV]  voting_cls__voting=hard, voting_cls__svm__gamma=0.0001, voting_cls__svm__C=1000, voting_cls__rfc__n_estimators=10, voting_cls__rfc__min_samples_split=4, score=0.4330803036356372, total= 1.4min\n",
      "[CV] voting_cls__voting=soft, voting_cls__svm__gamma=1, voting_cls__svm__C=0.1, voting_cls__rfc__n_estimators=100, voting_cls__rfc__min_samples_split=4 \n"
     ]
    },
    {
     "name": "stderr",
     "output_type": "stream",
     "text": [
      "/home/dks/anaconda3/lib/python3.5/site-packages/sklearn/preprocessing/label.py:151: DeprecationWarning: The truth value of an empty array is ambiguous. Returning False, but in future this will result in an error. Use `array.size > 0` to check that an array is not empty.\n",
      "  if diff:\n",
      "/home/dks/anaconda3/lib/python3.5/site-packages/sklearn/preprocessing/label.py:151: DeprecationWarning: The truth value of an empty array is ambiguous. Returning False, but in future this will result in an error. Use `array.size > 0` to check that an array is not empty.\n",
      "  if diff:\n",
      "/home/dks/anaconda3/lib/python3.5/site-packages/sklearn/preprocessing/label.py:151: DeprecationWarning: The truth value of an empty array is ambiguous. Returning False, but in future this will result in an error. Use `array.size > 0` to check that an array is not empty.\n",
      "  if diff:\n",
      "/home/dks/anaconda3/lib/python3.5/site-packages/sklearn/preprocessing/label.py:151: DeprecationWarning: The truth value of an empty array is ambiguous. Returning False, but in future this will result in an error. Use `array.size > 0` to check that an array is not empty.\n",
      "  if diff:\n",
      "/home/dks/anaconda3/lib/python3.5/site-packages/sklearn/preprocessing/label.py:151: DeprecationWarning: The truth value of an empty array is ambiguous. Returning False, but in future this will result in an error. Use `array.size > 0` to check that an array is not empty.\n",
      "  if diff:\n"
     ]
    },
    {
     "name": "stdout",
     "output_type": "stream",
     "text": [
      "[CV]  voting_cls__voting=hard, voting_cls__svm__gamma=0.0001, voting_cls__svm__C=1000, voting_cls__rfc__n_estimators=10, voting_cls__rfc__min_samples_split=4, score=0.44842063174730107, total= 1.5min\n",
      "[CV] voting_cls__voting=hard, voting_cls__svm__gamma=0.01, voting_cls__svm__C=0.1, voting_cls__rfc__n_estimators=100, voting_cls__rfc__min_samples_split=4 \n"
     ]
    },
    {
     "name": "stderr",
     "output_type": "stream",
     "text": [
      "/home/dks/anaconda3/lib/python3.5/site-packages/sklearn/preprocessing/label.py:151: DeprecationWarning: The truth value of an empty array is ambiguous. Returning False, but in future this will result in an error. Use `array.size > 0` to check that an array is not empty.\n",
      "  if diff:\n"
     ]
    },
    {
     "name": "stdout",
     "output_type": "stream",
     "text": [
      "[CV]  voting_cls__voting=soft, voting_cls__svm__gamma=0.0001, voting_cls__svm__C=1000, voting_cls__rfc__n_estimators=10, voting_cls__rfc__min_samples_split=4, score=0.4918098282061526, total= 1.5min\n",
      "[CV] voting_cls__voting=hard, voting_cls__svm__gamma=0.01, voting_cls__svm__C=0.1, voting_cls__rfc__n_estimators=100, voting_cls__rfc__min_samples_split=4 \n"
     ]
    },
    {
     "name": "stderr",
     "output_type": "stream",
     "text": [
      "/home/dks/anaconda3/lib/python3.5/site-packages/sklearn/preprocessing/label.py:151: DeprecationWarning: The truth value of an empty array is ambiguous. Returning False, but in future this will result in an error. Use `array.size > 0` to check that an array is not empty.\n",
      "  if diff:\n"
     ]
    },
    {
     "name": "stdout",
     "output_type": "stream",
     "text": [
      "[CV]  voting_cls__voting=soft, voting_cls__svm__gamma=0.0001, voting_cls__svm__C=1000, voting_cls__rfc__n_estimators=10, voting_cls__rfc__min_samples_split=4, score=0.4926029588164734, total= 1.5min\n",
      "[CV] voting_cls__voting=hard, voting_cls__svm__gamma=0.01, voting_cls__svm__C=0.1, voting_cls__rfc__n_estimators=100, voting_cls__rfc__min_samples_split=4 \n"
     ]
    },
    {
     "name": "stderr",
     "output_type": "stream",
     "text": [
      "/home/dks/anaconda3/lib/python3.5/site-packages/sklearn/preprocessing/label.py:151: DeprecationWarning: The truth value of an empty array is ambiguous. Returning False, but in future this will result in an error. Use `array.size > 0` to check that an array is not empty.\n",
      "  if diff:\n"
     ]
    },
    {
     "name": "stdout",
     "output_type": "stream",
     "text": [
      "[CV]  voting_cls__voting=soft, voting_cls__svm__gamma=0.0001, voting_cls__svm__C=1000, voting_cls__rfc__n_estimators=10, voting_cls__rfc__min_samples_split=4, score=0.496705929327211, total= 1.5min\n",
      "[CV] voting_cls__voting=soft, voting_cls__svm__gamma=0.01, voting_cls__svm__C=0.1, voting_cls__rfc__n_estimators=100, voting_cls__rfc__min_samples_split=4 \n"
     ]
    },
    {
     "name": "stderr",
     "output_type": "stream",
     "text": [
      "/home/dks/anaconda3/lib/python3.5/site-packages/sklearn/preprocessing/label.py:151: DeprecationWarning: The truth value of an empty array is ambiguous. Returning False, but in future this will result in an error. Use `array.size > 0` to check that an array is not empty.\n",
      "  if diff:\n",
      "/home/dks/anaconda3/lib/python3.5/site-packages/sklearn/preprocessing/label.py:151: DeprecationWarning: The truth value of an empty array is ambiguous. Returning False, but in future this will result in an error. Use `array.size > 0` to check that an array is not empty.\n",
      "  if diff:\n",
      "/home/dks/anaconda3/lib/python3.5/site-packages/sklearn/preprocessing/label.py:151: DeprecationWarning: The truth value of an empty array is ambiguous. Returning False, but in future this will result in an error. Use `array.size > 0` to check that an array is not empty.\n",
      "  if diff:\n"
     ]
    },
    {
     "name": "stdout",
     "output_type": "stream",
     "text": [
      "[CV]  voting_cls__voting=hard, voting_cls__svm__gamma=1, voting_cls__svm__C=0.1, voting_cls__rfc__n_estimators=100, voting_cls__rfc__min_samples_split=4, score=0.4505889399081653, total= 1.8min\n",
      "[CV] voting_cls__voting=soft, voting_cls__svm__gamma=0.01, voting_cls__svm__C=0.1, voting_cls__rfc__n_estimators=100, voting_cls__rfc__min_samples_split=4 \n"
     ]
    },
    {
     "name": "stderr",
     "output_type": "stream",
     "text": [
      "/home/dks/anaconda3/lib/python3.5/site-packages/sklearn/preprocessing/label.py:151: DeprecationWarning: The truth value of an empty array is ambiguous. Returning False, but in future this will result in an error. Use `array.size > 0` to check that an array is not empty.\n",
      "  if diff:\n"
     ]
    },
    {
     "name": "stdout",
     "output_type": "stream",
     "text": [
      "[CV]  voting_cls__voting=hard, voting_cls__svm__gamma=1, voting_cls__svm__C=0.1, voting_cls__rfc__n_estimators=100, voting_cls__rfc__min_samples_split=4, score=0.4434678385936876, total= 1.7min\n",
      "[CV] voting_cls__voting=soft, voting_cls__svm__gamma=0.01, voting_cls__svm__C=0.1, voting_cls__rfc__n_estimators=100, voting_cls__rfc__min_samples_split=4 \n"
     ]
    },
    {
     "name": "stderr",
     "output_type": "stream",
     "text": [
      "/home/dks/anaconda3/lib/python3.5/site-packages/sklearn/preprocessing/label.py:151: DeprecationWarning: The truth value of an empty array is ambiguous. Returning False, but in future this will result in an error. Use `array.size > 0` to check that an array is not empty.\n",
      "  if diff:\n",
      "/home/dks/anaconda3/lib/python3.5/site-packages/sklearn/preprocessing/label.py:151: DeprecationWarning: The truth value of an empty array is ambiguous. Returning False, but in future this will result in an error. Use `array.size > 0` to check that an array is not empty.\n",
      "  if diff:\n",
      "/home/dks/anaconda3/lib/python3.5/site-packages/sklearn/preprocessing/label.py:151: DeprecationWarning: The truth value of an empty array is ambiguous. Returning False, but in future this will result in an error. Use `array.size > 0` to check that an array is not empty.\n",
      "  if diff:\n"
     ]
    },
    {
     "name": "stdout",
     "output_type": "stream",
     "text": [
      "[CV]  voting_cls__voting=hard, voting_cls__svm__gamma=1, voting_cls__svm__C=0.1, voting_cls__rfc__n_estimators=100, voting_cls__rfc__min_samples_split=4, score=0.4570171931227509, total= 1.7min\n",
      "[CV] voting_cls__voting=hard, voting_cls__svm__gamma=0.001, voting_cls__svm__C=0.1, voting_cls__rfc__n_estimators=100, voting_cls__rfc__min_samples_split=4 \n"
     ]
    },
    {
     "name": "stderr",
     "output_type": "stream",
     "text": [
      "/home/dks/anaconda3/lib/python3.5/site-packages/sklearn/preprocessing/label.py:151: DeprecationWarning: The truth value of an empty array is ambiguous. Returning False, but in future this will result in an error. Use `array.size > 0` to check that an array is not empty.\n",
      "  if diff:\n"
     ]
    },
    {
     "name": "stdout",
     "output_type": "stream",
     "text": [
      "[CV]  voting_cls__voting=soft, voting_cls__svm__gamma=1, voting_cls__svm__C=0.1, voting_cls__rfc__n_estimators=100, voting_cls__rfc__min_samples_split=4, score=0.49431024156518266, total= 1.8min\n",
      "[CV] voting_cls__voting=hard, voting_cls__svm__gamma=0.001, voting_cls__svm__C=0.1, voting_cls__rfc__n_estimators=100, voting_cls__rfc__min_samples_split=4 \n"
     ]
    },
    {
     "name": "stderr",
     "output_type": "stream",
     "text": [
      "/home/dks/anaconda3/lib/python3.5/site-packages/sklearn/preprocessing/label.py:151: DeprecationWarning: The truth value of an empty array is ambiguous. Returning False, but in future this will result in an error. Use `array.size > 0` to check that an array is not empty.\n",
      "  if diff:\n",
      "/home/dks/anaconda3/lib/python3.5/site-packages/sklearn/preprocessing/label.py:151: DeprecationWarning: The truth value of an empty array is ambiguous. Returning False, but in future this will result in an error. Use `array.size > 0` to check that an array is not empty.\n",
      "  if diff:\n",
      "/home/dks/anaconda3/lib/python3.5/site-packages/sklearn/preprocessing/label.py:151: DeprecationWarning: The truth value of an empty array is ambiguous. Returning False, but in future this will result in an error. Use `array.size > 0` to check that an array is not empty.\n",
      "  if diff:\n",
      "/home/dks/anaconda3/lib/python3.5/site-packages/sklearn/preprocessing/label.py:151: DeprecationWarning: The truth value of an empty array is ambiguous. Returning False, but in future this will result in an error. Use `array.size > 0` to check that an array is not empty.\n",
      "  if diff:\n"
     ]
    },
    {
     "name": "stdout",
     "output_type": "stream",
     "text": [
      "[CV]  voting_cls__voting=soft, voting_cls__svm__gamma=1, voting_cls__svm__C=0.1, voting_cls__rfc__n_estimators=100, voting_cls__rfc__min_samples_split=4, score=0.49101078705553336, total= 1.8min\n",
      "[CV] voting_cls__voting=hard, voting_cls__svm__gamma=0.001, voting_cls__svm__C=0.1, voting_cls__rfc__n_estimators=100, voting_cls__rfc__min_samples_split=4 \n"
     ]
    },
    {
     "name": "stderr",
     "output_type": "stream",
     "text": [
      "/home/dks/anaconda3/lib/python3.5/site-packages/sklearn/preprocessing/label.py:151: DeprecationWarning: The truth value of an empty array is ambiguous. Returning False, but in future this will result in an error. Use `array.size > 0` to check that an array is not empty.\n",
      "  if diff:\n"
     ]
    },
    {
     "name": "stdout",
     "output_type": "stream",
     "text": [
      "[CV]  voting_cls__voting=soft, voting_cls__svm__gamma=1, voting_cls__svm__C=0.1, voting_cls__rfc__n_estimators=100, voting_cls__rfc__min_samples_split=4, score=0.4910035985605758, total= 1.8min\n",
      "[CV] voting_cls__voting=soft, voting_cls__svm__gamma=0.001, voting_cls__svm__C=0.1, voting_cls__rfc__n_estimators=100, voting_cls__rfc__min_samples_split=4 \n"
     ]
    },
    {
     "name": "stderr",
     "output_type": "stream",
     "text": [
      "[Parallel(n_jobs=-1)]: Done  96 tasks      | elapsed: 15.9min\n",
      "/home/dks/anaconda3/lib/python3.5/site-packages/sklearn/preprocessing/label.py:151: DeprecationWarning: The truth value of an empty array is ambiguous. Returning False, but in future this will result in an error. Use `array.size > 0` to check that an array is not empty.\n",
      "  if diff:\n"
     ]
    },
    {
     "name": "stdout",
     "output_type": "stream",
     "text": [
      "[CV]  voting_cls__voting=hard, voting_cls__svm__gamma=1, voting_cls__svm__C=1000, voting_cls__rfc__n_estimators=10, voting_cls__rfc__min_samples_split=4, score=0.465641230523372, total= 6.6min\n",
      "[CV] voting_cls__voting=soft, voting_cls__svm__gamma=0.001, voting_cls__svm__C=0.1, voting_cls__rfc__n_estimators=100, voting_cls__rfc__min_samples_split=4 \n"
     ]
    },
    {
     "name": "stderr",
     "output_type": "stream",
     "text": [
      "/home/dks/anaconda3/lib/python3.5/site-packages/sklearn/preprocessing/label.py:151: DeprecationWarning: The truth value of an empty array is ambiguous. Returning False, but in future this will result in an error. Use `array.size > 0` to check that an array is not empty.\n",
      "  if diff:\n",
      "/home/dks/anaconda3/lib/python3.5/site-packages/sklearn/preprocessing/label.py:151: DeprecationWarning: The truth value of an empty array is ambiguous. Returning False, but in future this will result in an error. Use `array.size > 0` to check that an array is not empty.\n",
      "  if diff:\n",
      "/home/dks/anaconda3/lib/python3.5/site-packages/sklearn/preprocessing/label.py:151: DeprecationWarning: The truth value of an empty array is ambiguous. Returning False, but in future this will result in an error. Use `array.size > 0` to check that an array is not empty.\n",
      "  if diff:\n"
     ]
    },
    {
     "name": "stdout",
     "output_type": "stream",
     "text": [
      "[CV]  voting_cls__voting=soft, voting_cls__svm__gamma=1, voting_cls__svm__C=1000, voting_cls__rfc__n_estimators=10, voting_cls__rfc__min_samples_split=4, score=0.500998801438274, total= 6.6min\n",
      "[CV] voting_cls__voting=soft, voting_cls__svm__gamma=0.001, voting_cls__svm__C=0.1, voting_cls__rfc__n_estimators=100, voting_cls__rfc__min_samples_split=4 \n"
     ]
    },
    {
     "name": "stderr",
     "output_type": "stream",
     "text": [
      "/home/dks/anaconda3/lib/python3.5/site-packages/sklearn/preprocessing/label.py:151: DeprecationWarning: The truth value of an empty array is ambiguous. Returning False, but in future this will result in an error. Use `array.size > 0` to check that an array is not empty.\n",
      "  if diff:\n"
     ]
    },
    {
     "name": "stdout",
     "output_type": "stream",
     "text": [
      "[CV]  voting_cls__voting=hard, voting_cls__svm__gamma=1, voting_cls__svm__C=1000, voting_cls__rfc__n_estimators=10, voting_cls__rfc__min_samples_split=4, score=0.46316630065881415, total= 7.2min\n",
      "[CV] voting_cls__voting=hard, voting_cls__svm__gamma=0.0001, voting_cls__svm__C=0.1, voting_cls__rfc__n_estimators=100, voting_cls__rfc__min_samples_split=4 \n"
     ]
    },
    {
     "name": "stderr",
     "output_type": "stream",
     "text": [
      "/home/dks/anaconda3/lib/python3.5/site-packages/sklearn/preprocessing/label.py:151: DeprecationWarning: The truth value of an empty array is ambiguous. Returning False, but in future this will result in an error. Use `array.size > 0` to check that an array is not empty.\n",
      "  if diff:\n",
      "/home/dks/anaconda3/lib/python3.5/site-packages/sklearn/preprocessing/label.py:151: DeprecationWarning: The truth value of an empty array is ambiguous. Returning False, but in future this will result in an error. Use `array.size > 0` to check that an array is not empty.\n",
      "  if diff:\n"
     ]
    },
    {
     "name": "stdout",
     "output_type": "stream",
     "text": [
      "[CV]  voting_cls__voting=hard, voting_cls__svm__gamma=1, voting_cls__svm__C=1000, voting_cls__rfc__n_estimators=10, voting_cls__rfc__min_samples_split=4, score=0.4750099960015994, total= 7.0min\n",
      "[CV] voting_cls__voting=hard, voting_cls__svm__gamma=0.0001, voting_cls__svm__C=0.1, voting_cls__rfc__n_estimators=100, voting_cls__rfc__min_samples_split=4 \n"
     ]
    },
    {
     "name": "stderr",
     "output_type": "stream",
     "text": [
      "/home/dks/anaconda3/lib/python3.5/site-packages/sklearn/preprocessing/label.py:151: DeprecationWarning: The truth value of an empty array is ambiguous. Returning False, but in future this will result in an error. Use `array.size > 0` to check that an array is not empty.\n",
      "  if diff:\n",
      "/home/dks/anaconda3/lib/python3.5/site-packages/sklearn/preprocessing/label.py:151: DeprecationWarning: The truth value of an empty array is ambiguous. Returning False, but in future this will result in an error. Use `array.size > 0` to check that an array is not empty.\n",
      "  if diff:\n",
      "/home/dks/anaconda3/lib/python3.5/site-packages/sklearn/preprocessing/label.py:151: DeprecationWarning: The truth value of an empty array is ambiguous. Returning False, but in future this will result in an error. Use `array.size > 0` to check that an array is not empty.\n",
      "  if diff:\n"
     ]
    },
    {
     "name": "stdout",
     "output_type": "stream",
     "text": [
      "[CV]  voting_cls__voting=soft, voting_cls__svm__gamma=1, voting_cls__svm__C=1000, voting_cls__rfc__n_estimators=10, voting_cls__rfc__min_samples_split=4, score=0.4999001796765822, total= 7.2min\n",
      "[CV] voting_cls__voting=hard, voting_cls__svm__gamma=0.0001, voting_cls__svm__C=0.1, voting_cls__rfc__n_estimators=100, voting_cls__rfc__min_samples_split=4 \n"
     ]
    },
    {
     "name": "stderr",
     "output_type": "stream",
     "text": [
      "/home/dks/anaconda3/lib/python3.5/site-packages/sklearn/preprocessing/label.py:151: DeprecationWarning: The truth value of an empty array is ambiguous. Returning False, but in future this will result in an error. Use `array.size > 0` to check that an array is not empty.\n",
      "  if diff:\n"
     ]
    },
    {
     "name": "stdout",
     "output_type": "stream",
     "text": [
      "[CV]  voting_cls__voting=soft, voting_cls__svm__gamma=1, voting_cls__svm__C=1000, voting_cls__rfc__n_estimators=10, voting_cls__rfc__min_samples_split=4, score=0.49540183926429426, total= 7.0min\n",
      "[CV] voting_cls__voting=soft, voting_cls__svm__gamma=0.0001, voting_cls__svm__C=0.1, voting_cls__rfc__n_estimators=100, voting_cls__rfc__min_samples_split=4 \n"
     ]
    },
    {
     "name": "stderr",
     "output_type": "stream",
     "text": [
      "/home/dks/anaconda3/lib/python3.5/site-packages/sklearn/preprocessing/label.py:151: DeprecationWarning: The truth value of an empty array is ambiguous. Returning False, but in future this will result in an error. Use `array.size > 0` to check that an array is not empty.\n",
      "  if diff:\n",
      "/home/dks/anaconda3/lib/python3.5/site-packages/sklearn/preprocessing/label.py:151: DeprecationWarning: The truth value of an empty array is ambiguous. Returning False, but in future this will result in an error. Use `array.size > 0` to check that an array is not empty.\n",
      "  if diff:\n",
      "/home/dks/anaconda3/lib/python3.5/site-packages/sklearn/preprocessing/label.py:151: DeprecationWarning: The truth value of an empty array is ambiguous. Returning False, but in future this will result in an error. Use `array.size > 0` to check that an array is not empty.\n",
      "  if diff:\n",
      "/home/dks/anaconda3/lib/python3.5/site-packages/sklearn/preprocessing/label.py:151: DeprecationWarning: The truth value of an empty array is ambiguous. Returning False, but in future this will result in an error. Use `array.size > 0` to check that an array is not empty.\n",
      "  if diff:\n",
      "/home/dks/anaconda3/lib/python3.5/site-packages/sklearn/preprocessing/label.py:151: DeprecationWarning: The truth value of an empty array is ambiguous. Returning False, but in future this will result in an error. Use `array.size > 0` to check that an array is not empty.\n",
      "  if diff:\n"
     ]
    },
    {
     "name": "stdout",
     "output_type": "stream",
     "text": [
      "[CV]  voting_cls__voting=hard, voting_cls__svm__gamma=0.01, voting_cls__svm__C=0.1, voting_cls__rfc__n_estimators=100, voting_cls__rfc__min_samples_split=4, score=0.4524190323870452, total= 2.6min\n",
      "[CV] voting_cls__voting=soft, voting_cls__svm__gamma=0.0001, voting_cls__svm__C=0.1, voting_cls__rfc__n_estimators=100, voting_cls__rfc__min_samples_split=4 \n"
     ]
    },
    {
     "name": "stderr",
     "output_type": "stream",
     "text": [
      "/home/dks/anaconda3/lib/python3.5/site-packages/sklearn/preprocessing/label.py:151: DeprecationWarning: The truth value of an empty array is ambiguous. Returning False, but in future this will result in an error. Use `array.size > 0` to check that an array is not empty.\n",
      "  if diff:\n"
     ]
    },
    {
     "name": "stdout",
     "output_type": "stream",
     "text": [
      "[CV]  voting_cls__voting=hard, voting_cls__svm__gamma=0.01, voting_cls__svm__C=0.1, voting_cls__rfc__n_estimators=100, voting_cls__rfc__min_samples_split=4, score=0.43481732880814533, total= 2.7min\n",
      "[CV] voting_cls__voting=soft, voting_cls__svm__gamma=0.0001, voting_cls__svm__C=0.1, voting_cls__rfc__n_estimators=100, voting_cls__rfc__min_samples_split=4 \n"
     ]
    },
    {
     "name": "stderr",
     "output_type": "stream",
     "text": [
      "/home/dks/anaconda3/lib/python3.5/site-packages/sklearn/preprocessing/label.py:151: DeprecationWarning: The truth value of an empty array is ambiguous. Returning False, but in future this will result in an error. Use `array.size > 0` to check that an array is not empty.\n",
      "  if diff:\n"
     ]
    },
    {
     "name": "stdout",
     "output_type": "stream",
     "text": [
      "[CV]  voting_cls__voting=hard, voting_cls__svm__gamma=0.01, voting_cls__svm__C=0.1, voting_cls__rfc__n_estimators=100, voting_cls__rfc__min_samples_split=4, score=0.42369157011586095, total= 2.7min\n",
      "[CV] voting_cls__voting=hard, voting_cls__svm__gamma=1, voting_cls__svm__C=1, voting_cls__rfc__n_estimators=100, voting_cls__rfc__min_samples_split=4 \n"
     ]
    },
    {
     "name": "stderr",
     "output_type": "stream",
     "text": [
      "/home/dks/anaconda3/lib/python3.5/site-packages/sklearn/preprocessing/label.py:151: DeprecationWarning: The truth value of an empty array is ambiguous. Returning False, but in future this will result in an error. Use `array.size > 0` to check that an array is not empty.\n",
      "  if diff:\n"
     ]
    },
    {
     "name": "stdout",
     "output_type": "stream",
     "text": [
      "[CV]  voting_cls__voting=soft, voting_cls__svm__gamma=0.01, voting_cls__svm__C=0.1, voting_cls__rfc__n_estimators=100, voting_cls__rfc__min_samples_split=4, score=0.49490916350568975, total= 2.7min\n",
      "[CV] voting_cls__voting=hard, voting_cls__svm__gamma=1, voting_cls__svm__C=1, voting_cls__rfc__n_estimators=100, voting_cls__rfc__min_samples_split=4 \n"
     ]
    },
    {
     "name": "stderr",
     "output_type": "stream",
     "text": [
      "/home/dks/anaconda3/lib/python3.5/site-packages/sklearn/preprocessing/label.py:151: DeprecationWarning: The truth value of an empty array is ambiguous. Returning False, but in future this will result in an error. Use `array.size > 0` to check that an array is not empty.\n",
      "  if diff:\n",
      "/home/dks/anaconda3/lib/python3.5/site-packages/sklearn/preprocessing/label.py:151: DeprecationWarning: The truth value of an empty array is ambiguous. Returning False, but in future this will result in an error. Use `array.size > 0` to check that an array is not empty.\n",
      "  if diff:\n",
      "/home/dks/anaconda3/lib/python3.5/site-packages/sklearn/preprocessing/label.py:151: DeprecationWarning: The truth value of an empty array is ambiguous. Returning False, but in future this will result in an error. Use `array.size > 0` to check that an array is not empty.\n",
      "  if diff:\n"
     ]
    },
    {
     "name": "stdout",
     "output_type": "stream",
     "text": [
      "[CV]  voting_cls__voting=soft, voting_cls__svm__gamma=0.01, voting_cls__svm__C=0.1, voting_cls__rfc__n_estimators=100, voting_cls__rfc__min_samples_split=4, score=0.49240910906911706, total= 2.6min\n",
      "[CV] voting_cls__voting=hard, voting_cls__svm__gamma=1, voting_cls__svm__C=1, voting_cls__rfc__n_estimators=100, voting_cls__rfc__min_samples_split=4 \n"
     ]
    },
    {
     "name": "stderr",
     "output_type": "stream",
     "text": [
      "/home/dks/anaconda3/lib/python3.5/site-packages/sklearn/preprocessing/label.py:151: DeprecationWarning: The truth value of an empty array is ambiguous. Returning False, but in future this will result in an error. Use `array.size > 0` to check that an array is not empty.\n",
      "  if diff:\n"
     ]
    },
    {
     "name": "stdout",
     "output_type": "stream",
     "text": [
      "[CV]  voting_cls__voting=soft, voting_cls__svm__gamma=0.01, voting_cls__svm__C=0.1, voting_cls__rfc__n_estimators=100, voting_cls__rfc__min_samples_split=4, score=0.49420231907237105, total= 2.7min\n",
      "[CV] voting_cls__voting=soft, voting_cls__svm__gamma=1, voting_cls__svm__C=1, voting_cls__rfc__n_estimators=100, voting_cls__rfc__min_samples_split=4 \n"
     ]
    },
    {
     "name": "stderr",
     "output_type": "stream",
     "text": [
      "/home/dks/anaconda3/lib/python3.5/site-packages/sklearn/preprocessing/label.py:151: DeprecationWarning: The truth value of an empty array is ambiguous. Returning False, but in future this will result in an error. Use `array.size > 0` to check that an array is not empty.\n",
      "  if diff:\n",
      "/home/dks/anaconda3/lib/python3.5/site-packages/sklearn/preprocessing/label.py:151: DeprecationWarning: The truth value of an empty array is ambiguous. Returning False, but in future this will result in an error. Use `array.size > 0` to check that an array is not empty.\n",
      "  if diff:\n",
      "/home/dks/anaconda3/lib/python3.5/site-packages/sklearn/preprocessing/label.py:151: DeprecationWarning: The truth value of an empty array is ambiguous. Returning False, but in future this will result in an error. Use `array.size > 0` to check that an array is not empty.\n",
      "  if diff:\n"
     ]
    },
    {
     "name": "stdout",
     "output_type": "stream",
     "text": [
      "[CV]  voting_cls__voting=hard, voting_cls__svm__gamma=0.001, voting_cls__svm__C=0.1, voting_cls__rfc__n_estimators=100, voting_cls__rfc__min_samples_split=4, score=0.448792174086644, total= 2.8min\n",
      "[CV] voting_cls__voting=soft, voting_cls__svm__gamma=1, voting_cls__svm__C=1, voting_cls__rfc__n_estimators=100, voting_cls__rfc__min_samples_split=4 \n"
     ]
    },
    {
     "name": "stderr",
     "output_type": "stream",
     "text": [
      "/home/dks/anaconda3/lib/python3.5/site-packages/sklearn/preprocessing/label.py:151: DeprecationWarning: The truth value of an empty array is ambiguous. Returning False, but in future this will result in an error. Use `array.size > 0` to check that an array is not empty.\n",
      "  if diff:\n"
     ]
    },
    {
     "name": "stdout",
     "output_type": "stream",
     "text": [
      "[CV]  voting_cls__voting=hard, voting_cls__svm__gamma=0.001, voting_cls__svm__C=0.1, voting_cls__rfc__n_estimators=100, voting_cls__rfc__min_samples_split=4, score=0.4412704754294846, total= 2.7min\n",
      "[CV] voting_cls__voting=soft, voting_cls__svm__gamma=1, voting_cls__svm__C=1, voting_cls__rfc__n_estimators=100, voting_cls__rfc__min_samples_split=4 \n"
     ]
    },
    {
     "name": "stderr",
     "output_type": "stream",
     "text": [
      "/home/dks/anaconda3/lib/python3.5/site-packages/sklearn/preprocessing/label.py:151: DeprecationWarning: The truth value of an empty array is ambiguous. Returning False, but in future this will result in an error. Use `array.size > 0` to check that an array is not empty.\n",
      "  if diff:\n",
      "/home/dks/anaconda3/lib/python3.5/site-packages/sklearn/preprocessing/label.py:151: DeprecationWarning: The truth value of an empty array is ambiguous. Returning False, but in future this will result in an error. Use `array.size > 0` to check that an array is not empty.\n",
      "  if diff:\n",
      "/home/dks/anaconda3/lib/python3.5/site-packages/sklearn/preprocessing/label.py:151: DeprecationWarning: The truth value of an empty array is ambiguous. Returning False, but in future this will result in an error. Use `array.size > 0` to check that an array is not empty.\n",
      "  if diff:\n",
      "/home/dks/anaconda3/lib/python3.5/site-packages/sklearn/preprocessing/label.py:151: DeprecationWarning: The truth value of an empty array is ambiguous. Returning False, but in future this will result in an error. Use `array.size > 0` to check that an array is not empty.\n",
      "  if diff:\n",
      "/home/dks/anaconda3/lib/python3.5/site-packages/sklearn/preprocessing/label.py:151: DeprecationWarning: The truth value of an empty array is ambiguous. Returning False, but in future this will result in an error. Use `array.size > 0` to check that an array is not empty.\n",
      "  if diff:\n",
      "/home/dks/anaconda3/lib/python3.5/site-packages/sklearn/preprocessing/label.py:151: DeprecationWarning: The truth value of an empty array is ambiguous. Returning False, but in future this will result in an error. Use `array.size > 0` to check that an array is not empty.\n",
      "  if diff:\n"
     ]
    },
    {
     "name": "stdout",
     "output_type": "stream",
     "text": [
      "[CV]  voting_cls__voting=hard, voting_cls__svm__gamma=0.001, voting_cls__svm__C=0.1, voting_cls__rfc__n_estimators=100, voting_cls__rfc__min_samples_split=4, score=0.4622151139544182, total= 2.7min\n",
      "[CV] voting_cls__voting=hard, voting_cls__svm__gamma=0.01, voting_cls__svm__C=1, voting_cls__rfc__n_estimators=100, voting_cls__rfc__min_samples_split=4 \n"
     ]
    },
    {
     "name": "stderr",
     "output_type": "stream",
     "text": [
      "/home/dks/anaconda3/lib/python3.5/site-packages/sklearn/preprocessing/label.py:151: DeprecationWarning: The truth value of an empty array is ambiguous. Returning False, but in future this will result in an error. Use `array.size > 0` to check that an array is not empty.\n",
      "  if diff:\n"
     ]
    },
    {
     "name": "stdout",
     "output_type": "stream",
     "text": [
      "[CV]  voting_cls__voting=soft, voting_cls__svm__gamma=0.001, voting_cls__svm__C=0.1, voting_cls__rfc__n_estimators=100, voting_cls__rfc__min_samples_split=4, score=0.4940071913703556, total= 2.7min\n",
      "[CV] voting_cls__voting=hard, voting_cls__svm__gamma=0.01, voting_cls__svm__C=1, voting_cls__rfc__n_estimators=100, voting_cls__rfc__min_samples_split=4 \n"
     ]
    },
    {
     "name": "stderr",
     "output_type": "stream",
     "text": [
      "/home/dks/anaconda3/lib/python3.5/site-packages/sklearn/preprocessing/label.py:151: DeprecationWarning: The truth value of an empty array is ambiguous. Returning False, but in future this will result in an error. Use `array.size > 0` to check that an array is not empty.\n",
      "  if diff:\n"
     ]
    },
    {
     "name": "stdout",
     "output_type": "stream",
     "text": [
      "[CV]  voting_cls__voting=soft, voting_cls__svm__gamma=0.001, voting_cls__svm__C=0.1, voting_cls__rfc__n_estimators=100, voting_cls__rfc__min_samples_split=4, score=0.4931123976841685, total= 2.8min\n",
      "[CV] voting_cls__voting=hard, voting_cls__svm__gamma=0.01, voting_cls__svm__C=1, voting_cls__rfc__n_estimators=100, voting_cls__rfc__min_samples_split=4 \n"
     ]
    },
    {
     "name": "stderr",
     "output_type": "stream",
     "text": [
      "/home/dks/anaconda3/lib/python3.5/site-packages/sklearn/preprocessing/label.py:151: DeprecationWarning: The truth value of an empty array is ambiguous. Returning False, but in future this will result in an error. Use `array.size > 0` to check that an array is not empty.\n",
      "  if diff:\n"
     ]
    },
    {
     "name": "stdout",
     "output_type": "stream",
     "text": [
      "[CV]  voting_cls__voting=hard, voting_cls__svm__gamma=1, voting_cls__svm__C=1, voting_cls__rfc__n_estimators=100, voting_cls__rfc__min_samples_split=4, score=0.4596484218937275, total= 1.5min\n",
      "[CV] voting_cls__voting=soft, voting_cls__svm__gamma=0.01, voting_cls__svm__C=1, voting_cls__rfc__n_estimators=100, voting_cls__rfc__min_samples_split=4 \n"
     ]
    },
    {
     "name": "stderr",
     "output_type": "stream",
     "text": [
      "/home/dks/anaconda3/lib/python3.5/site-packages/sklearn/preprocessing/label.py:151: DeprecationWarning: The truth value of an empty array is ambiguous. Returning False, but in future this will result in an error. Use `array.size > 0` to check that an array is not empty.\n",
      "  if diff:\n"
     ]
    },
    {
     "name": "stdout",
     "output_type": "stream",
     "text": [
      "[CV]  voting_cls__voting=hard, voting_cls__svm__gamma=1, voting_cls__svm__C=1, voting_cls__rfc__n_estimators=100, voting_cls__rfc__min_samples_split=4, score=0.46695947294869233, total= 1.5min\n",
      "[CV] voting_cls__voting=soft, voting_cls__svm__gamma=0.01, voting_cls__svm__C=1, voting_cls__rfc__n_estimators=100, voting_cls__rfc__min_samples_split=4 \n"
     ]
    },
    {
     "name": "stderr",
     "output_type": "stream",
     "text": [
      "/home/dks/anaconda3/lib/python3.5/site-packages/sklearn/preprocessing/label.py:151: DeprecationWarning: The truth value of an empty array is ambiguous. Returning False, but in future this will result in an error. Use `array.size > 0` to check that an array is not empty.\n",
      "  if diff:\n",
      "/home/dks/anaconda3/lib/python3.5/site-packages/sklearn/preprocessing/label.py:151: DeprecationWarning: The truth value of an empty array is ambiguous. Returning False, but in future this will result in an error. Use `array.size > 0` to check that an array is not empty.\n",
      "  if diff:\n",
      "/home/dks/anaconda3/lib/python3.5/site-packages/sklearn/preprocessing/label.py:151: DeprecationWarning: The truth value of an empty array is ambiguous. Returning False, but in future this will result in an error. Use `array.size > 0` to check that an array is not empty.\n",
      "  if diff:\n",
      "/home/dks/anaconda3/lib/python3.5/site-packages/sklearn/preprocessing/label.py:151: DeprecationWarning: The truth value of an empty array is ambiguous. Returning False, but in future this will result in an error. Use `array.size > 0` to check that an array is not empty.\n",
      "  if diff:\n",
      "/home/dks/anaconda3/lib/python3.5/site-packages/sklearn/preprocessing/label.py:151: DeprecationWarning: The truth value of an empty array is ambiguous. Returning False, but in future this will result in an error. Use `array.size > 0` to check that an array is not empty.\n",
      "  if diff:\n"
     ]
    },
    {
     "name": "stdout",
     "output_type": "stream",
     "text": [
      "[CV]  voting_cls__voting=hard, voting_cls__svm__gamma=1, voting_cls__svm__C=1, voting_cls__rfc__n_estimators=100, voting_cls__rfc__min_samples_split=4, score=0.47481007596961217, total= 1.5min\n",
      "[CV] voting_cls__voting=soft, voting_cls__svm__gamma=0.01, voting_cls__svm__C=1, voting_cls__rfc__n_estimators=100, voting_cls__rfc__min_samples_split=4 \n"
     ]
    },
    {
     "name": "stderr",
     "output_type": "stream",
     "text": [
      "/home/dks/anaconda3/lib/python3.5/site-packages/sklearn/preprocessing/label.py:151: DeprecationWarning: The truth value of an empty array is ambiguous. Returning False, but in future this will result in an error. Use `array.size > 0` to check that an array is not empty.\n",
      "  if diff:\n",
      "/home/dks/anaconda3/lib/python3.5/site-packages/sklearn/preprocessing/label.py:151: DeprecationWarning: The truth value of an empty array is ambiguous. Returning False, but in future this will result in an error. Use `array.size > 0` to check that an array is not empty.\n",
      "  if diff:\n"
     ]
    },
    {
     "name": "stdout",
     "output_type": "stream",
     "text": [
      "[CV]  voting_cls__voting=soft, voting_cls__svm__gamma=1, voting_cls__svm__C=1, voting_cls__rfc__n_estimators=100, voting_cls__rfc__min_samples_split=4, score=0.5008983829107606, total= 1.5min\n",
      "[CV] voting_cls__voting=hard, voting_cls__svm__gamma=0.001, voting_cls__svm__C=1, voting_cls__rfc__n_estimators=100, voting_cls__rfc__min_samples_split=4 \n"
     ]
    },
    {
     "name": "stderr",
     "output_type": "stream",
     "text": [
      "/home/dks/anaconda3/lib/python3.5/site-packages/sklearn/preprocessing/label.py:151: DeprecationWarning: The truth value of an empty array is ambiguous. Returning False, but in future this will result in an error. Use `array.size > 0` to check that an array is not empty.\n",
      "  if diff:\n"
     ]
    },
    {
     "name": "stdout",
     "output_type": "stream",
     "text": [
      "[CV]  voting_cls__voting=hard, voting_cls__svm__gamma=0.0001, voting_cls__svm__C=0.1, voting_cls__rfc__n_estimators=100, voting_cls__rfc__min_samples_split=4, score=0.4467957676182871, total= 2.7min\n",
      "[CV] voting_cls__voting=hard, voting_cls__svm__gamma=0.001, voting_cls__svm__C=1, voting_cls__rfc__n_estimators=100, voting_cls__rfc__min_samples_split=4 \n"
     ]
    },
    {
     "name": "stderr",
     "output_type": "stream",
     "text": [
      "/home/dks/anaconda3/lib/python3.5/site-packages/sklearn/preprocessing/label.py:151: DeprecationWarning: The truth value of an empty array is ambiguous. Returning False, but in future this will result in an error. Use `array.size > 0` to check that an array is not empty.\n",
      "  if diff:\n"
     ]
    },
    {
     "name": "stdout",
     "output_type": "stream",
     "text": [
      "[CV]  voting_cls__voting=soft, voting_cls__svm__gamma=0.001, voting_cls__svm__C=0.1, voting_cls__rfc__n_estimators=100, voting_cls__rfc__min_samples_split=4, score=0.4920031987205118, total= 2.8min\n",
      "[CV] voting_cls__voting=hard, voting_cls__svm__gamma=0.001, voting_cls__svm__C=1, voting_cls__rfc__n_estimators=100, voting_cls__rfc__min_samples_split=4 \n"
     ]
    },
    {
     "name": "stderr",
     "output_type": "stream",
     "text": [
      "/home/dks/anaconda3/lib/python3.5/site-packages/sklearn/preprocessing/label.py:151: DeprecationWarning: The truth value of an empty array is ambiguous. Returning False, but in future this will result in an error. Use `array.size > 0` to check that an array is not empty.\n",
      "  if diff:\n",
      "/home/dks/anaconda3/lib/python3.5/site-packages/sklearn/preprocessing/label.py:151: DeprecationWarning: The truth value of an empty array is ambiguous. Returning False, but in future this will result in an error. Use `array.size > 0` to check that an array is not empty.\n",
      "  if diff:\n"
     ]
    },
    {
     "name": "stdout",
     "output_type": "stream",
     "text": [
      "[CV]  voting_cls__voting=hard, voting_cls__svm__gamma=0.0001, voting_cls__svm__C=0.1, voting_cls__rfc__n_estimators=100, voting_cls__rfc__min_samples_split=4, score=0.44606472233320016, total= 2.6min\n",
      "[CV] voting_cls__voting=soft, voting_cls__svm__gamma=0.001, voting_cls__svm__C=1, voting_cls__rfc__n_estimators=100, voting_cls__rfc__min_samples_split=4 \n"
     ]
    },
    {
     "name": "stderr",
     "output_type": "stream",
     "text": [
      "/home/dks/anaconda3/lib/python3.5/site-packages/sklearn/preprocessing/label.py:151: DeprecationWarning: The truth value of an empty array is ambiguous. Returning False, but in future this will result in an error. Use `array.size > 0` to check that an array is not empty.\n",
      "  if diff:\n",
      "/home/dks/anaconda3/lib/python3.5/site-packages/sklearn/preprocessing/label.py:151: DeprecationWarning: The truth value of an empty array is ambiguous. Returning False, but in future this will result in an error. Use `array.size > 0` to check that an array is not empty.\n",
      "  if diff:\n",
      "/home/dks/anaconda3/lib/python3.5/site-packages/sklearn/preprocessing/label.py:151: DeprecationWarning: The truth value of an empty array is ambiguous. Returning False, but in future this will result in an error. Use `array.size > 0` to check that an array is not empty.\n",
      "  if diff:\n",
      "/home/dks/anaconda3/lib/python3.5/site-packages/sklearn/preprocessing/label.py:151: DeprecationWarning: The truth value of an empty array is ambiguous. Returning False, but in future this will result in an error. Use `array.size > 0` to check that an array is not empty.\n",
      "  if diff:\n"
     ]
    },
    {
     "name": "stdout",
     "output_type": "stream",
     "text": [
      "[CV]  voting_cls__voting=soft, voting_cls__svm__gamma=1, voting_cls__svm__C=1, voting_cls__rfc__n_estimators=100, voting_cls__rfc__min_samples_split=4, score=0.49660407510986815, total= 1.5min\n",
      "[CV] voting_cls__voting=soft, voting_cls__svm__gamma=0.001, voting_cls__svm__C=1, voting_cls__rfc__n_estimators=100, voting_cls__rfc__min_samples_split=4 \n"
     ]
    },
    {
     "name": "stderr",
     "output_type": "stream",
     "text": [
      "/home/dks/anaconda3/lib/python3.5/site-packages/sklearn/preprocessing/label.py:151: DeprecationWarning: The truth value of an empty array is ambiguous. Returning False, but in future this will result in an error. Use `array.size > 0` to check that an array is not empty.\n",
      "  if diff:\n"
     ]
    },
    {
     "name": "stdout",
     "output_type": "stream",
     "text": [
      "[CV]  voting_cls__voting=soft, voting_cls__svm__gamma=1, voting_cls__svm__C=1, voting_cls__rfc__n_estimators=100, voting_cls__rfc__min_samples_split=4, score=0.4996001599360256, total= 1.5min\n",
      "[CV] voting_cls__voting=soft, voting_cls__svm__gamma=0.001, voting_cls__svm__C=1, voting_cls__rfc__n_estimators=100, voting_cls__rfc__min_samples_split=4 \n"
     ]
    },
    {
     "name": "stderr",
     "output_type": "stream",
     "text": [
      "/home/dks/anaconda3/lib/python3.5/site-packages/sklearn/preprocessing/label.py:151: DeprecationWarning: The truth value of an empty array is ambiguous. Returning False, but in future this will result in an error. Use `array.size > 0` to check that an array is not empty.\n",
      "  if diff:\n"
     ]
    },
    {
     "name": "stdout",
     "output_type": "stream",
     "text": [
      "[CV]  voting_cls__voting=hard, voting_cls__svm__gamma=0.0001, voting_cls__svm__C=0.1, voting_cls__rfc__n_estimators=100, voting_cls__rfc__min_samples_split=4, score=0.4612155137944822, total= 2.7min\n",
      "[CV] voting_cls__voting=hard, voting_cls__svm__gamma=0.0001, voting_cls__svm__C=1, voting_cls__rfc__n_estimators=100, voting_cls__rfc__min_samples_split=4 \n"
     ]
    },
    {
     "name": "stderr",
     "output_type": "stream",
     "text": [
      "/home/dks/anaconda3/lib/python3.5/site-packages/sklearn/preprocessing/label.py:151: DeprecationWarning: The truth value of an empty array is ambiguous. Returning False, but in future this will result in an error. Use `array.size > 0` to check that an array is not empty.\n",
      "  if diff:\n"
     ]
    },
    {
     "name": "stdout",
     "output_type": "stream",
     "text": [
      "[CV]  voting_cls__voting=soft, voting_cls__svm__gamma=0.0001, voting_cls__svm__C=0.1, voting_cls__rfc__n_estimators=100, voting_cls__rfc__min_samples_split=4, score=0.49490916350568975, total= 2.7min\n",
      "[CV] voting_cls__voting=hard, voting_cls__svm__gamma=0.0001, voting_cls__svm__C=1, voting_cls__rfc__n_estimators=100, voting_cls__rfc__min_samples_split=4 \n"
     ]
    },
    {
     "name": "stderr",
     "output_type": "stream",
     "text": [
      "/home/dks/anaconda3/lib/python3.5/site-packages/sklearn/preprocessing/label.py:151: DeprecationWarning: The truth value of an empty array is ambiguous. Returning False, but in future this will result in an error. Use `array.size > 0` to check that an array is not empty.\n",
      "  if diff:\n",
      "/home/dks/anaconda3/lib/python3.5/site-packages/sklearn/preprocessing/label.py:151: DeprecationWarning: The truth value of an empty array is ambiguous. Returning False, but in future this will result in an error. Use `array.size > 0` to check that an array is not empty.\n",
      "  if diff:\n",
      "/home/dks/anaconda3/lib/python3.5/site-packages/sklearn/preprocessing/label.py:151: DeprecationWarning: The truth value of an empty array is ambiguous. Returning False, but in future this will result in an error. Use `array.size > 0` to check that an array is not empty.\n",
      "  if diff:\n"
     ]
    },
    {
     "name": "stdout",
     "output_type": "stream",
     "text": [
      "[CV]  voting_cls__voting=soft, voting_cls__svm__gamma=0.0001, voting_cls__svm__C=0.1, voting_cls__rfc__n_estimators=100, voting_cls__rfc__min_samples_split=4, score=0.49240910906911706, total= 2.7min\n",
      "[CV] voting_cls__voting=hard, voting_cls__svm__gamma=0.0001, voting_cls__svm__C=1, voting_cls__rfc__n_estimators=100, voting_cls__rfc__min_samples_split=4 \n"
     ]
    },
    {
     "name": "stderr",
     "output_type": "stream",
     "text": [
      "/home/dks/anaconda3/lib/python3.5/site-packages/sklearn/preprocessing/label.py:151: DeprecationWarning: The truth value of an empty array is ambiguous. Returning False, but in future this will result in an error. Use `array.size > 0` to check that an array is not empty.\n",
      "  if diff:\n"
     ]
    },
    {
     "name": "stdout",
     "output_type": "stream",
     "text": [
      "[CV]  voting_cls__voting=soft, voting_cls__svm__gamma=0.0001, voting_cls__svm__C=0.1, voting_cls__rfc__n_estimators=100, voting_cls__rfc__min_samples_split=4, score=0.4926029588164734, total= 2.8min\n",
      "[CV] voting_cls__voting=soft, voting_cls__svm__gamma=0.0001, voting_cls__svm__C=1, voting_cls__rfc__n_estimators=100, voting_cls__rfc__min_samples_split=4 \n"
     ]
    },
    {
     "name": "stderr",
     "output_type": "stream",
     "text": [
      "/home/dks/anaconda3/lib/python3.5/site-packages/sklearn/preprocessing/label.py:151: DeprecationWarning: The truth value of an empty array is ambiguous. Returning False, but in future this will result in an error. Use `array.size > 0` to check that an array is not empty.\n",
      "  if diff:\n",
      "/home/dks/anaconda3/lib/python3.5/site-packages/sklearn/preprocessing/label.py:151: DeprecationWarning: The truth value of an empty array is ambiguous. Returning False, but in future this will result in an error. Use `array.size > 0` to check that an array is not empty.\n",
      "  if diff:\n",
      "/home/dks/anaconda3/lib/python3.5/site-packages/sklearn/preprocessing/label.py:151: DeprecationWarning: The truth value of an empty array is ambiguous. Returning False, but in future this will result in an error. Use `array.size > 0` to check that an array is not empty.\n",
      "  if diff:\n",
      "/home/dks/anaconda3/lib/python3.5/site-packages/sklearn/preprocessing/label.py:151: DeprecationWarning: The truth value of an empty array is ambiguous. Returning False, but in future this will result in an error. Use `array.size > 0` to check that an array is not empty.\n",
      "  if diff:\n",
      "/home/dks/anaconda3/lib/python3.5/site-packages/sklearn/preprocessing/label.py:151: DeprecationWarning: The truth value of an empty array is ambiguous. Returning False, but in future this will result in an error. Use `array.size > 0` to check that an array is not empty.\n",
      "  if diff:\n",
      "/home/dks/anaconda3/lib/python3.5/site-packages/sklearn/preprocessing/label.py:151: DeprecationWarning: The truth value of an empty array is ambiguous. Returning False, but in future this will result in an error. Use `array.size > 0` to check that an array is not empty.\n",
      "  if diff:\n"
     ]
    },
    {
     "name": "stdout",
     "output_type": "stream",
     "text": [
      "[CV]  voting_cls__voting=hard, voting_cls__svm__gamma=0.01, voting_cls__svm__C=1, voting_cls__rfc__n_estimators=100, voting_cls__rfc__min_samples_split=4, score=0.42409109069117057, total= 2.1min\n",
      "[CV] voting_cls__voting=soft, voting_cls__svm__gamma=0.0001, voting_cls__svm__C=1, voting_cls__rfc__n_estimators=100, voting_cls__rfc__min_samples_split=4 \n"
     ]
    },
    {
     "name": "stderr",
     "output_type": "stream",
     "text": [
      "/home/dks/anaconda3/lib/python3.5/site-packages/sklearn/preprocessing/label.py:151: DeprecationWarning: The truth value of an empty array is ambiguous. Returning False, but in future this will result in an error. Use `array.size > 0` to check that an array is not empty.\n",
      "  if diff:\n"
     ]
    },
    {
     "name": "stdout",
     "output_type": "stream",
     "text": [
      "[CV]  voting_cls__voting=hard, voting_cls__svm__gamma=0.01, voting_cls__svm__C=1, voting_cls__rfc__n_estimators=100, voting_cls__rfc__min_samples_split=4, score=0.4384108604511879, total= 2.2min\n",
      "[CV] voting_cls__voting=soft, voting_cls__svm__gamma=0.0001, voting_cls__svm__C=1, voting_cls__rfc__n_estimators=100, voting_cls__rfc__min_samples_split=4 \n"
     ]
    },
    {
     "name": "stderr",
     "output_type": "stream",
     "text": [
      "/home/dks/anaconda3/lib/python3.5/site-packages/sklearn/preprocessing/label.py:151: DeprecationWarning: The truth value of an empty array is ambiguous. Returning False, but in future this will result in an error. Use `array.size > 0` to check that an array is not empty.\n",
      "  if diff:\n"
     ]
    },
    {
     "name": "stdout",
     "output_type": "stream",
     "text": [
      "[CV]  voting_cls__voting=hard, voting_cls__svm__gamma=0.01, voting_cls__svm__C=1, voting_cls__rfc__n_estimators=100, voting_cls__rfc__min_samples_split=4, score=0.4504198320671731, total= 2.2min\n",
      "[CV] voting_cls__voting=hard, voting_cls__svm__gamma=1, voting_cls__svm__C=100, voting_cls__rfc__n_estimators=100, voting_cls__rfc__min_samples_split=4 \n"
     ]
    },
    {
     "name": "stderr",
     "output_type": "stream",
     "text": [
      "/home/dks/anaconda3/lib/python3.5/site-packages/sklearn/preprocessing/label.py:151: DeprecationWarning: The truth value of an empty array is ambiguous. Returning False, but in future this will result in an error. Use `array.size > 0` to check that an array is not empty.\n",
      "  if diff:\n"
     ]
    },
    {
     "name": "stdout",
     "output_type": "stream",
     "text": [
      "[CV]  voting_cls__voting=soft, voting_cls__svm__gamma=0.01, voting_cls__svm__C=1, voting_cls__rfc__n_estimators=100, voting_cls__rfc__min_samples_split=4, score=0.4923138350968257, total= 2.1min\n",
      "[CV] voting_cls__voting=hard, voting_cls__svm__gamma=1, voting_cls__svm__C=100, voting_cls__rfc__n_estimators=100, voting_cls__rfc__min_samples_split=4 \n"
     ]
    },
    {
     "name": "stderr",
     "output_type": "stream",
     "text": [
      "/home/dks/anaconda3/lib/python3.5/site-packages/sklearn/preprocessing/label.py:151: DeprecationWarning: The truth value of an empty array is ambiguous. Returning False, but in future this will result in an error. Use `array.size > 0` to check that an array is not empty.\n",
      "  if diff:\n"
     ]
    },
    {
     "name": "stdout",
     "output_type": "stream",
     "text": [
      "[CV]  voting_cls__voting=soft, voting_cls__svm__gamma=0.01, voting_cls__svm__C=1, voting_cls__rfc__n_estimators=100, voting_cls__rfc__min_samples_split=4, score=0.48841390331602075, total= 2.2min\n",
      "[CV] voting_cls__voting=hard, voting_cls__svm__gamma=1, voting_cls__svm__C=100, voting_cls__rfc__n_estimators=100, voting_cls__rfc__min_samples_split=4 \n"
     ]
    },
    {
     "name": "stderr",
     "output_type": "stream",
     "text": [
      "/home/dks/anaconda3/lib/python3.5/site-packages/sklearn/preprocessing/label.py:151: DeprecationWarning: The truth value of an empty array is ambiguous. Returning False, but in future this will result in an error. Use `array.size > 0` to check that an array is not empty.\n",
      "  if diff:\n",
      "/home/dks/anaconda3/lib/python3.5/site-packages/sklearn/preprocessing/label.py:151: DeprecationWarning: The truth value of an empty array is ambiguous. Returning False, but in future this will result in an error. Use `array.size > 0` to check that an array is not empty.\n",
      "  if diff:\n"
     ]
    },
    {
     "name": "stdout",
     "output_type": "stream",
     "text": [
      "[CV]  voting_cls__voting=soft, voting_cls__svm__gamma=0.01, voting_cls__svm__C=1, voting_cls__rfc__n_estimators=100, voting_cls__rfc__min_samples_split=4, score=0.4896041583366653, total= 2.1min\n",
      "[CV] voting_cls__voting=soft, voting_cls__svm__gamma=1, voting_cls__svm__C=100, voting_cls__rfc__n_estimators=100, voting_cls__rfc__min_samples_split=4 \n"
     ]
    },
    {
     "name": "stderr",
     "output_type": "stream",
     "text": [
      "/home/dks/anaconda3/lib/python3.5/site-packages/sklearn/preprocessing/label.py:151: DeprecationWarning: The truth value of an empty array is ambiguous. Returning False, but in future this will result in an error. Use `array.size > 0` to check that an array is not empty.\n",
      "  if diff:\n",
      "/home/dks/anaconda3/lib/python3.5/site-packages/sklearn/preprocessing/label.py:151: DeprecationWarning: The truth value of an empty array is ambiguous. Returning False, but in future this will result in an error. Use `array.size > 0` to check that an array is not empty.\n",
      "  if diff:\n",
      "/home/dks/anaconda3/lib/python3.5/site-packages/sklearn/preprocessing/label.py:151: DeprecationWarning: The truth value of an empty array is ambiguous. Returning False, but in future this will result in an error. Use `array.size > 0` to check that an array is not empty.\n",
      "  if diff:\n",
      "/home/dks/anaconda3/lib/python3.5/site-packages/sklearn/preprocessing/label.py:151: DeprecationWarning: The truth value of an empty array is ambiguous. Returning False, but in future this will result in an error. Use `array.size > 0` to check that an array is not empty.\n",
      "  if diff:\n",
      "/home/dks/anaconda3/lib/python3.5/site-packages/sklearn/preprocessing/label.py:151: DeprecationWarning: The truth value of an empty array is ambiguous. Returning False, but in future this will result in an error. Use `array.size > 0` to check that an array is not empty.\n",
      "  if diff:\n"
     ]
    },
    {
     "name": "stdout",
     "output_type": "stream",
     "text": [
      "[CV]  voting_cls__voting=hard, voting_cls__svm__gamma=0.001, voting_cls__svm__C=1, voting_cls__rfc__n_estimators=100, voting_cls__rfc__min_samples_split=4, score=0.4264324216410461, total= 2.7min\n",
      "[CV] voting_cls__voting=soft, voting_cls__svm__gamma=1, voting_cls__svm__C=100, voting_cls__rfc__n_estimators=100, voting_cls__rfc__min_samples_split=4 \n"
     ]
    },
    {
     "name": "stderr",
     "output_type": "stream",
     "text": [
      "/home/dks/anaconda3/lib/python3.5/site-packages/sklearn/preprocessing/label.py:151: DeprecationWarning: The truth value of an empty array is ambiguous. Returning False, but in future this will result in an error. Use `array.size > 0` to check that an array is not empty.\n",
      "  if diff:\n"
     ]
    },
    {
     "name": "stdout",
     "output_type": "stream",
     "text": [
      "[CV]  voting_cls__voting=hard, voting_cls__svm__gamma=0.001, voting_cls__svm__C=1, voting_cls__rfc__n_estimators=100, voting_cls__rfc__min_samples_split=4, score=0.4133040351578106, total= 2.8min\n",
      "[CV] voting_cls__voting=soft, voting_cls__svm__gamma=1, voting_cls__svm__C=100, voting_cls__rfc__n_estimators=100, voting_cls__rfc__min_samples_split=4 \n"
     ]
    },
    {
     "name": "stderr",
     "output_type": "stream",
     "text": [
      "/home/dks/anaconda3/lib/python3.5/site-packages/sklearn/preprocessing/label.py:151: DeprecationWarning: The truth value of an empty array is ambiguous. Returning False, but in future this will result in an error. Use `array.size > 0` to check that an array is not empty.\n",
      "  if diff:\n",
      "/home/dks/anaconda3/lib/python3.5/site-packages/sklearn/preprocessing/label.py:151: DeprecationWarning: The truth value of an empty array is ambiguous. Returning False, but in future this will result in an error. Use `array.size > 0` to check that an array is not empty.\n",
      "  if diff:\n"
     ]
    },
    {
     "name": "stdout",
     "output_type": "stream",
     "text": [
      "[CV]  voting_cls__voting=hard, voting_cls__svm__gamma=0.001, voting_cls__svm__C=1, voting_cls__rfc__n_estimators=100, voting_cls__rfc__min_samples_split=4, score=0.44702119152339065, total= 2.8min\n",
      "[CV] voting_cls__voting=hard, voting_cls__svm__gamma=0.01, voting_cls__svm__C=100, voting_cls__rfc__n_estimators=100, voting_cls__rfc__min_samples_split=4 \n"
     ]
    },
    {
     "name": "stderr",
     "output_type": "stream",
     "text": [
      "/home/dks/anaconda3/lib/python3.5/site-packages/sklearn/preprocessing/label.py:151: DeprecationWarning: The truth value of an empty array is ambiguous. Returning False, but in future this will result in an error. Use `array.size > 0` to check that an array is not empty.\n",
      "  if diff:\n"
     ]
    },
    {
     "name": "stdout",
     "output_type": "stream",
     "text": [
      "[CV]  voting_cls__voting=soft, voting_cls__svm__gamma=0.001, voting_cls__svm__C=1, voting_cls__rfc__n_estimators=100, voting_cls__rfc__min_samples_split=4, score=0.49510880415252545, total= 2.7min\n",
      "[CV] voting_cls__voting=hard, voting_cls__svm__gamma=0.01, voting_cls__svm__C=100, voting_cls__rfc__n_estimators=100, voting_cls__rfc__min_samples_split=4 \n"
     ]
    },
    {
     "name": "stderr",
     "output_type": "stream",
     "text": [
      "/home/dks/anaconda3/lib/python3.5/site-packages/sklearn/preprocessing/label.py:151: DeprecationWarning: The truth value of an empty array is ambiguous. Returning False, but in future this will result in an error. Use `array.size > 0` to check that an array is not empty.\n",
      "  if diff:\n",
      "/home/dks/anaconda3/lib/python3.5/site-packages/sklearn/preprocessing/label.py:151: DeprecationWarning: The truth value of an empty array is ambiguous. Returning False, but in future this will result in an error. Use `array.size > 0` to check that an array is not empty.\n",
      "  if diff:\n",
      "/home/dks/anaconda3/lib/python3.5/site-packages/sklearn/preprocessing/label.py:151: DeprecationWarning: The truth value of an empty array is ambiguous. Returning False, but in future this will result in an error. Use `array.size > 0` to check that an array is not empty.\n",
      "  if diff:\n"
     ]
    },
    {
     "name": "stdout",
     "output_type": "stream",
     "text": [
      "[CV]  voting_cls__voting=soft, voting_cls__svm__gamma=0.001, voting_cls__svm__C=1, voting_cls__rfc__n_estimators=100, voting_cls__rfc__min_samples_split=4, score=0.4918098282061526, total= 2.7min\n",
      "[CV] voting_cls__voting=hard, voting_cls__svm__gamma=0.01, voting_cls__svm__C=100, voting_cls__rfc__n_estimators=100, voting_cls__rfc__min_samples_split=4 \n"
     ]
    },
    {
     "name": "stderr",
     "output_type": "stream",
     "text": [
      "/home/dks/anaconda3/lib/python3.5/site-packages/sklearn/preprocessing/label.py:151: DeprecationWarning: The truth value of an empty array is ambiguous. Returning False, but in future this will result in an error. Use `array.size > 0` to check that an array is not empty.\n",
      "  if diff:\n",
      "/home/dks/anaconda3/lib/python3.5/site-packages/sklearn/preprocessing/label.py:151: DeprecationWarning: The truth value of an empty array is ambiguous. Returning False, but in future this will result in an error. Use `array.size > 0` to check that an array is not empty.\n",
      "  if diff:\n"
     ]
    },
    {
     "name": "stdout",
     "output_type": "stream",
     "text": [
      "[CV]  voting_cls__voting=soft, voting_cls__svm__gamma=0.001, voting_cls__svm__C=1, voting_cls__rfc__n_estimators=100, voting_cls__rfc__min_samples_split=4, score=0.4924030387844862, total= 2.7min\n",
      "[CV] voting_cls__voting=soft, voting_cls__svm__gamma=0.01, voting_cls__svm__C=100, voting_cls__rfc__n_estimators=100, voting_cls__rfc__min_samples_split=4 \n"
     ]
    },
    {
     "name": "stderr",
     "output_type": "stream",
     "text": [
      "/home/dks/anaconda3/lib/python3.5/site-packages/sklearn/preprocessing/label.py:151: DeprecationWarning: The truth value of an empty array is ambiguous. Returning False, but in future this will result in an error. Use `array.size > 0` to check that an array is not empty.\n",
      "  if diff:\n"
     ]
    },
    {
     "name": "stdout",
     "output_type": "stream",
     "text": [
      "[CV]  voting_cls__voting=hard, voting_cls__svm__gamma=0.0001, voting_cls__svm__C=1, voting_cls__rfc__n_estimators=100, voting_cls__rfc__min_samples_split=4, score=0.39249351167897784, total= 2.7min\n",
      "[CV] voting_cls__voting=soft, voting_cls__svm__gamma=0.01, voting_cls__svm__C=100, voting_cls__rfc__n_estimators=100, voting_cls__rfc__min_samples_split=4 \n"
     ]
    },
    {
     "name": "stderr",
     "output_type": "stream",
     "text": [
      "/home/dks/anaconda3/lib/python3.5/site-packages/sklearn/preprocessing/label.py:151: DeprecationWarning: The truth value of an empty array is ambiguous. Returning False, but in future this will result in an error. Use `array.size > 0` to check that an array is not empty.\n",
      "  if diff:\n",
      "/home/dks/anaconda3/lib/python3.5/site-packages/sklearn/preprocessing/label.py:151: DeprecationWarning: The truth value of an empty array is ambiguous. Returning False, but in future this will result in an error. Use `array.size > 0` to check that an array is not empty.\n",
      "  if diff:\n",
      "/home/dks/anaconda3/lib/python3.5/site-packages/sklearn/preprocessing/label.py:151: DeprecationWarning: The truth value of an empty array is ambiguous. Returning False, but in future this will result in an error. Use `array.size > 0` to check that an array is not empty.\n",
      "  if diff:\n"
     ]
    },
    {
     "name": "stdout",
     "output_type": "stream",
     "text": [
      "[CV]  voting_cls__voting=hard, voting_cls__svm__gamma=0.0001, voting_cls__svm__C=1, voting_cls__rfc__n_estimators=100, voting_cls__rfc__min_samples_split=4, score=0.356971634039153, total= 2.8min\n",
      "[CV] voting_cls__voting=soft, voting_cls__svm__gamma=0.01, voting_cls__svm__C=100, voting_cls__rfc__n_estimators=100, voting_cls__rfc__min_samples_split=4 \n"
     ]
    },
    {
     "name": "stderr",
     "output_type": "stream",
     "text": [
      "/home/dks/anaconda3/lib/python3.5/site-packages/sklearn/preprocessing/label.py:151: DeprecationWarning: The truth value of an empty array is ambiguous. Returning False, but in future this will result in an error. Use `array.size > 0` to check that an array is not empty.\n",
      "  if diff:\n"
     ]
    },
    {
     "name": "stdout",
     "output_type": "stream",
     "text": [
      "[CV]  voting_cls__voting=hard, voting_cls__svm__gamma=0.0001, voting_cls__svm__C=1, voting_cls__rfc__n_estimators=100, voting_cls__rfc__min_samples_split=4, score=0.4460215913634546, total= 2.7min\n",
      "[CV] voting_cls__voting=hard, voting_cls__svm__gamma=0.001, voting_cls__svm__C=100, voting_cls__rfc__n_estimators=100, voting_cls__rfc__min_samples_split=4 \n"
     ]
    },
    {
     "name": "stderr",
     "output_type": "stream",
     "text": [
      "/home/dks/anaconda3/lib/python3.5/site-packages/sklearn/preprocessing/label.py:151: DeprecationWarning: The truth value of an empty array is ambiguous. Returning False, but in future this will result in an error. Use `array.size > 0` to check that an array is not empty.\n",
      "  if diff:\n"
     ]
    },
    {
     "name": "stdout",
     "output_type": "stream",
     "text": [
      "[CV]  voting_cls__voting=soft, voting_cls__svm__gamma=0.0001, voting_cls__svm__C=1, voting_cls__rfc__n_estimators=100, voting_cls__rfc__min_samples_split=4, score=0.4935116789778399, total= 2.7min\n",
      "[CV] voting_cls__voting=hard, voting_cls__svm__gamma=0.001, voting_cls__svm__C=100, voting_cls__rfc__n_estimators=100, voting_cls__rfc__min_samples_split=4 \n"
     ]
    },
    {
     "name": "stderr",
     "output_type": "stream",
     "text": [
      "/home/dks/anaconda3/lib/python3.5/site-packages/sklearn/preprocessing/label.py:151: DeprecationWarning: The truth value of an empty array is ambiguous. Returning False, but in future this will result in an error. Use `array.size > 0` to check that an array is not empty.\n",
      "  if diff:\n",
      "/home/dks/anaconda3/lib/python3.5/site-packages/sklearn/preprocessing/label.py:151: DeprecationWarning: The truth value of an empty array is ambiguous. Returning False, but in future this will result in an error. Use `array.size > 0` to check that an array is not empty.\n",
      "  if diff:\n",
      "/home/dks/anaconda3/lib/python3.5/site-packages/sklearn/preprocessing/label.py:151: DeprecationWarning: The truth value of an empty array is ambiguous. Returning False, but in future this will result in an error. Use `array.size > 0` to check that an array is not empty.\n",
      "  if diff:\n",
      "/home/dks/anaconda3/lib/python3.5/site-packages/sklearn/preprocessing/label.py:151: DeprecationWarning: The truth value of an empty array is ambiguous. Returning False, but in future this will result in an error. Use `array.size > 0` to check that an array is not empty.\n",
      "  if diff:\n"
     ]
    },
    {
     "name": "stdout",
     "output_type": "stream",
     "text": [
      "[CV]  voting_cls__voting=hard, voting_cls__svm__gamma=1, voting_cls__svm__C=100, voting_cls__rfc__n_estimators=100, voting_cls__rfc__min_samples_split=4, score=0.48361965641230525, total= 2.4min\n",
      "[CV] voting_cls__voting=hard, voting_cls__svm__gamma=0.001, voting_cls__svm__C=100, voting_cls__rfc__n_estimators=100, voting_cls__rfc__min_samples_split=4 \n"
     ]
    },
    {
     "name": "stderr",
     "output_type": "stream",
     "text": [
      "/home/dks/anaconda3/lib/python3.5/site-packages/sklearn/preprocessing/label.py:151: DeprecationWarning: The truth value of an empty array is ambiguous. Returning False, but in future this will result in an error. Use `array.size > 0` to check that an array is not empty.\n",
      "  if diff:\n",
      "/home/dks/anaconda3/lib/python3.5/site-packages/sklearn/preprocessing/label.py:151: DeprecationWarning: The truth value of an empty array is ambiguous. Returning False, but in future this will result in an error. Use `array.size > 0` to check that an array is not empty.\n",
      "  if diff:\n",
      "/home/dks/anaconda3/lib/python3.5/site-packages/sklearn/preprocessing/label.py:151: DeprecationWarning: The truth value of an empty array is ambiguous. Returning False, but in future this will result in an error. Use `array.size > 0` to check that an array is not empty.\n",
      "  if diff:\n"
     ]
    },
    {
     "name": "stdout",
     "output_type": "stream",
     "text": [
      "[CV]  voting_cls__voting=hard, voting_cls__svm__gamma=1, voting_cls__svm__C=100, voting_cls__rfc__n_estimators=100, voting_cls__rfc__min_samples_split=4, score=0.48432820922339787, total= 2.5min\n",
      "[CV] voting_cls__voting=soft, voting_cls__svm__gamma=0.001, voting_cls__svm__C=100, voting_cls__rfc__n_estimators=100, voting_cls__rfc__min_samples_split=4 \n"
     ]
    },
    {
     "name": "stderr",
     "output_type": "stream",
     "text": [
      "/home/dks/anaconda3/lib/python3.5/site-packages/sklearn/preprocessing/label.py:151: DeprecationWarning: The truth value of an empty array is ambiguous. Returning False, but in future this will result in an error. Use `array.size > 0` to check that an array is not empty.\n",
      "  if diff:\n",
      "/home/dks/anaconda3/lib/python3.5/site-packages/sklearn/preprocessing/label.py:151: DeprecationWarning: The truth value of an empty array is ambiguous. Returning False, but in future this will result in an error. Use `array.size > 0` to check that an array is not empty.\n",
      "  if diff:\n",
      "/home/dks/anaconda3/lib/python3.5/site-packages/sklearn/preprocessing/label.py:151: DeprecationWarning: The truth value of an empty array is ambiguous. Returning False, but in future this will result in an error. Use `array.size > 0` to check that an array is not empty.\n",
      "  if diff:\n"
     ]
    },
    {
     "name": "stdout",
     "output_type": "stream",
     "text": [
      "[CV]  voting_cls__voting=hard, voting_cls__svm__gamma=1, voting_cls__svm__C=100, voting_cls__rfc__n_estimators=100, voting_cls__rfc__min_samples_split=4, score=0.49000399840063974, total= 2.5min\n",
      "[CV] voting_cls__voting=soft, voting_cls__svm__gamma=0.001, voting_cls__svm__C=100, voting_cls__rfc__n_estimators=100, voting_cls__rfc__min_samples_split=4 \n"
     ]
    },
    {
     "name": "stderr",
     "output_type": "stream",
     "text": [
      "/home/dks/anaconda3/lib/python3.5/site-packages/sklearn/preprocessing/label.py:151: DeprecationWarning: The truth value of an empty array is ambiguous. Returning False, but in future this will result in an error. Use `array.size > 0` to check that an array is not empty.\n",
      "  if diff:\n",
      "/home/dks/anaconda3/lib/python3.5/site-packages/sklearn/preprocessing/label.py:151: DeprecationWarning: The truth value of an empty array is ambiguous. Returning False, but in future this will result in an error. Use `array.size > 0` to check that an array is not empty.\n",
      "  if diff:\n",
      "/home/dks/anaconda3/lib/python3.5/site-packages/sklearn/preprocessing/label.py:151: DeprecationWarning: The truth value of an empty array is ambiguous. Returning False, but in future this will result in an error. Use `array.size > 0` to check that an array is not empty.\n",
      "  if diff:\n"
     ]
    },
    {
     "name": "stdout",
     "output_type": "stream",
     "text": [
      "[CV]  voting_cls__voting=hard, voting_cls__svm__gamma=0.01, voting_cls__svm__C=100, voting_cls__rfc__n_estimators=100, voting_cls__rfc__min_samples_split=4, score=0.45205753096284457, total= 1.4min\n",
      "[CV] voting_cls__voting=soft, voting_cls__svm__gamma=0.001, voting_cls__svm__C=100, voting_cls__rfc__n_estimators=100, voting_cls__rfc__min_samples_split=4 \n"
     ]
    },
    {
     "name": "stderr",
     "output_type": "stream",
     "text": [
      "/home/dks/anaconda3/lib/python3.5/site-packages/sklearn/preprocessing/label.py:151: DeprecationWarning: The truth value of an empty array is ambiguous. Returning False, but in future this will result in an error. Use `array.size > 0` to check that an array is not empty.\n",
      "  if diff:\n"
     ]
    },
    {
     "name": "stdout",
     "output_type": "stream",
     "text": [
      "[CV]  voting_cls__voting=hard, voting_cls__svm__gamma=0.01, voting_cls__svm__C=100, voting_cls__rfc__n_estimators=100, voting_cls__rfc__min_samples_split=4, score=0.459972050309443, total= 1.5min\n",
      "[CV] voting_cls__voting=hard, voting_cls__svm__gamma=0.0001, voting_cls__svm__C=100, voting_cls__rfc__n_estimators=100, voting_cls__rfc__min_samples_split=4 \n"
     ]
    },
    {
     "name": "stderr",
     "output_type": "stream",
     "text": [
      "/home/dks/anaconda3/lib/python3.5/site-packages/sklearn/preprocessing/label.py:151: DeprecationWarning: The truth value of an empty array is ambiguous. Returning False, but in future this will result in an error. Use `array.size > 0` to check that an array is not empty.\n",
      "  if diff:\n"
     ]
    },
    {
     "name": "stdout",
     "output_type": "stream",
     "text": [
      "[CV]  voting_cls__voting=soft, voting_cls__svm__gamma=0.0001, voting_cls__svm__C=1, voting_cls__rfc__n_estimators=100, voting_cls__rfc__min_samples_split=4, score=0.49620455453455853, total= 2.7min\n",
      "[CV] voting_cls__voting=hard, voting_cls__svm__gamma=0.0001, voting_cls__svm__C=100, voting_cls__rfc__n_estimators=100, voting_cls__rfc__min_samples_split=4 \n"
     ]
    },
    {
     "name": "stderr",
     "output_type": "stream",
     "text": [
      "/home/dks/anaconda3/lib/python3.5/site-packages/sklearn/preprocessing/label.py:151: DeprecationWarning: The truth value of an empty array is ambiguous. Returning False, but in future this will result in an error. Use `array.size > 0` to check that an array is not empty.\n",
      "  if diff:\n",
      "/home/dks/anaconda3/lib/python3.5/site-packages/sklearn/preprocessing/label.py:151: DeprecationWarning: The truth value of an empty array is ambiguous. Returning False, but in future this will result in an error. Use `array.size > 0` to check that an array is not empty.\n",
      "  if diff:\n",
      "/home/dks/anaconda3/lib/python3.5/site-packages/sklearn/preprocessing/label.py:151: DeprecationWarning: The truth value of an empty array is ambiguous. Returning False, but in future this will result in an error. Use `array.size > 0` to check that an array is not empty.\n",
      "  if diff:\n"
     ]
    },
    {
     "name": "stdout",
     "output_type": "stream",
     "text": [
      "[CV]  voting_cls__voting=soft, voting_cls__svm__gamma=0.0001, voting_cls__svm__C=1, voting_cls__rfc__n_estimators=100, voting_cls__rfc__min_samples_split=4, score=0.49400239904038384, total= 2.7min\n",
      "[CV] voting_cls__voting=hard, voting_cls__svm__gamma=0.0001, voting_cls__svm__C=100, voting_cls__rfc__n_estimators=100, voting_cls__rfc__min_samples_split=4 \n"
     ]
    },
    {
     "name": "stderr",
     "output_type": "stream",
     "text": [
      "/home/dks/anaconda3/lib/python3.5/site-packages/sklearn/preprocessing/label.py:151: DeprecationWarning: The truth value of an empty array is ambiguous. Returning False, but in future this will result in an error. Use `array.size > 0` to check that an array is not empty.\n",
      "  if diff:\n"
     ]
    },
    {
     "name": "stdout",
     "output_type": "stream",
     "text": [
      "[CV]  voting_cls__voting=soft, voting_cls__svm__gamma=1, voting_cls__svm__C=100, voting_cls__rfc__n_estimators=100, voting_cls__rfc__min_samples_split=4, score=0.5068876023158315, total= 2.4min\n",
      "[CV] voting_cls__voting=soft, voting_cls__svm__gamma=0.0001, voting_cls__svm__C=100, voting_cls__rfc__n_estimators=100, voting_cls__rfc__min_samples_split=4 \n"
     ]
    },
    {
     "name": "stderr",
     "output_type": "stream",
     "text": [
      "/home/dks/anaconda3/lib/python3.5/site-packages/sklearn/preprocessing/label.py:151: DeprecationWarning: The truth value of an empty array is ambiguous. Returning False, but in future this will result in an error. Use `array.size > 0` to check that an array is not empty.\n",
      "  if diff:\n"
     ]
    },
    {
     "name": "stdout",
     "output_type": "stream",
     "text": [
      "[CV]  voting_cls__voting=hard, voting_cls__svm__gamma=0.01, voting_cls__svm__C=100, voting_cls__rfc__n_estimators=100, voting_cls__rfc__min_samples_split=4, score=0.4710115953618553, total= 1.4min\n",
      "[CV] voting_cls__voting=soft, voting_cls__svm__gamma=0.0001, voting_cls__svm__C=100, voting_cls__rfc__n_estimators=100, voting_cls__rfc__min_samples_split=4 \n"
     ]
    },
    {
     "name": "stderr",
     "output_type": "stream",
     "text": [
      "/home/dks/anaconda3/lib/python3.5/site-packages/sklearn/preprocessing/label.py:151: DeprecationWarning: The truth value of an empty array is ambiguous. Returning False, but in future this will result in an error. Use `array.size > 0` to check that an array is not empty.\n",
      "  if diff:\n",
      "/home/dks/anaconda3/lib/python3.5/site-packages/sklearn/preprocessing/label.py:151: DeprecationWarning: The truth value of an empty array is ambiguous. Returning False, but in future this will result in an error. Use `array.size > 0` to check that an array is not empty.\n",
      "  if diff:\n"
     ]
    },
    {
     "name": "stdout",
     "output_type": "stream",
     "text": [
      "[CV]  voting_cls__voting=soft, voting_cls__svm__gamma=0.01, voting_cls__svm__C=100, voting_cls__rfc__n_estimators=100, voting_cls__rfc__min_samples_split=4, score=0.5020962267917748, total= 1.5min\n",
      "[CV] voting_cls__voting=soft, voting_cls__svm__gamma=0.0001, voting_cls__svm__C=100, voting_cls__rfc__n_estimators=100, voting_cls__rfc__min_samples_split=4 \n"
     ]
    },
    {
     "name": "stderr",
     "output_type": "stream",
     "text": [
      "/home/dks/anaconda3/lib/python3.5/site-packages/sklearn/preprocessing/label.py:151: DeprecationWarning: The truth value of an empty array is ambiguous. Returning False, but in future this will result in an error. Use `array.size > 0` to check that an array is not empty.\n",
      "  if diff:\n"
     ]
    },
    {
     "name": "stdout",
     "output_type": "stream",
     "text": [
      "[CV]  voting_cls__voting=soft, voting_cls__svm__gamma=0.01, voting_cls__svm__C=100, voting_cls__rfc__n_estimators=100, voting_cls__rfc__min_samples_split=4, score=0.4996004794246904, total= 1.5min\n",
      "[CV] voting_cls__voting=hard, voting_cls__svm__gamma=1, voting_cls__svm__C=1000, voting_cls__rfc__n_estimators=100, voting_cls__rfc__min_samples_split=4 \n"
     ]
    },
    {
     "name": "stderr",
     "output_type": "stream",
     "text": [
      "/home/dks/anaconda3/lib/python3.5/site-packages/sklearn/preprocessing/label.py:151: DeprecationWarning: The truth value of an empty array is ambiguous. Returning False, but in future this will result in an error. Use `array.size > 0` to check that an array is not empty.\n",
      "  if diff:\n"
     ]
    },
    {
     "name": "stdout",
     "output_type": "stream",
     "text": [
      "[CV]  voting_cls__voting=soft, voting_cls__svm__gamma=0.01, voting_cls__svm__C=100, voting_cls__rfc__n_estimators=100, voting_cls__rfc__min_samples_split=4, score=0.49940023990403837, total= 1.5min\n",
      "[CV] voting_cls__voting=hard, voting_cls__svm__gamma=1, voting_cls__svm__C=1000, voting_cls__rfc__n_estimators=100, voting_cls__rfc__min_samples_split=4 \n"
     ]
    },
    {
     "name": "stderr",
     "output_type": "stream",
     "text": [
      "/home/dks/anaconda3/lib/python3.5/site-packages/sklearn/preprocessing/label.py:151: DeprecationWarning: The truth value of an empty array is ambiguous. Returning False, but in future this will result in an error. Use `array.size > 0` to check that an array is not empty.\n",
      "  if diff:\n",
      "/home/dks/anaconda3/lib/python3.5/site-packages/sklearn/preprocessing/label.py:151: DeprecationWarning: The truth value of an empty array is ambiguous. Returning False, but in future this will result in an error. Use `array.size > 0` to check that an array is not empty.\n",
      "  if diff:\n",
      "/home/dks/anaconda3/lib/python3.5/site-packages/sklearn/preprocessing/label.py:151: DeprecationWarning: The truth value of an empty array is ambiguous. Returning False, but in future this will result in an error. Use `array.size > 0` to check that an array is not empty.\n",
      "  if diff:\n",
      "/home/dks/anaconda3/lib/python3.5/site-packages/sklearn/preprocessing/label.py:151: DeprecationWarning: The truth value of an empty array is ambiguous. Returning False, but in future this will result in an error. Use `array.size > 0` to check that an array is not empty.\n",
      "  if diff:\n",
      "/home/dks/anaconda3/lib/python3.5/site-packages/sklearn/preprocessing/label.py:151: DeprecationWarning: The truth value of an empty array is ambiguous. Returning False, but in future this will result in an error. Use `array.size > 0` to check that an array is not empty.\n",
      "  if diff:\n"
     ]
    },
    {
     "name": "stdout",
     "output_type": "stream",
     "text": [
      "[CV]  voting_cls__voting=hard, voting_cls__svm__gamma=0.001, voting_cls__svm__C=100, voting_cls__rfc__n_estimators=100, voting_cls__rfc__min_samples_split=4, score=0.45178678378917947, total= 1.6min\n",
      "[CV] voting_cls__voting=hard, voting_cls__svm__gamma=1, voting_cls__svm__C=1000, voting_cls__rfc__n_estimators=100, voting_cls__rfc__min_samples_split=4 \n"
     ]
    },
    {
     "name": "stderr",
     "output_type": "stream",
     "text": [
      "/home/dks/anaconda3/lib/python3.5/site-packages/sklearn/preprocessing/label.py:151: DeprecationWarning: The truth value of an empty array is ambiguous. Returning False, but in future this will result in an error. Use `array.size > 0` to check that an array is not empty.\n",
      "  if diff:\n"
     ]
    },
    {
     "name": "stdout",
     "output_type": "stream",
     "text": [
      "[CV]  voting_cls__voting=hard, voting_cls__svm__gamma=0.001, voting_cls__svm__C=100, voting_cls__rfc__n_estimators=100, voting_cls__rfc__min_samples_split=4, score=0.4450659208949261, total= 1.6min\n",
      "[CV] voting_cls__voting=soft, voting_cls__svm__gamma=1, voting_cls__svm__C=1000, voting_cls__rfc__n_estimators=100, voting_cls__rfc__min_samples_split=4 \n"
     ]
    },
    {
     "name": "stderr",
     "output_type": "stream",
     "text": [
      "/home/dks/anaconda3/lib/python3.5/site-packages/sklearn/preprocessing/label.py:151: DeprecationWarning: The truth value of an empty array is ambiguous. Returning False, but in future this will result in an error. Use `array.size > 0` to check that an array is not empty.\n",
      "  if diff:\n"
     ]
    },
    {
     "name": "stdout",
     "output_type": "stream",
     "text": [
      "[CV]  voting_cls__voting=soft, voting_cls__svm__gamma=1, voting_cls__svm__C=100, voting_cls__rfc__n_estimators=100, voting_cls__rfc__min_samples_split=4, score=0.5039952057530963, total= 2.4min\n",
      "[CV] voting_cls__voting=soft, voting_cls__svm__gamma=1, voting_cls__svm__C=1000, voting_cls__rfc__n_estimators=100, voting_cls__rfc__min_samples_split=4 \n"
     ]
    },
    {
     "name": "stderr",
     "output_type": "stream",
     "text": [
      "/home/dks/anaconda3/lib/python3.5/site-packages/sklearn/preprocessing/label.py:151: DeprecationWarning: The truth value of an empty array is ambiguous. Returning False, but in future this will result in an error. Use `array.size > 0` to check that an array is not empty.\n",
      "  if diff:\n"
     ]
    },
    {
     "name": "stdout",
     "output_type": "stream",
     "text": [
      "[CV]  voting_cls__voting=soft, voting_cls__svm__gamma=1, voting_cls__svm__C=100, voting_cls__rfc__n_estimators=100, voting_cls__rfc__min_samples_split=4, score=0.5025989604158336, total= 2.5min\n",
      "[CV] voting_cls__voting=soft, voting_cls__svm__gamma=1, voting_cls__svm__C=1000, voting_cls__rfc__n_estimators=100, voting_cls__rfc__min_samples_split=4 \n"
     ]
    },
    {
     "name": "stderr",
     "output_type": "stream",
     "text": [
      "/home/dks/anaconda3/lib/python3.5/site-packages/sklearn/preprocessing/label.py:151: DeprecationWarning: The truth value of an empty array is ambiguous. Returning False, but in future this will result in an error. Use `array.size > 0` to check that an array is not empty.\n",
      "  if diff:\n",
      "/home/dks/anaconda3/lib/python3.5/site-packages/sklearn/preprocessing/label.py:151: DeprecationWarning: The truth value of an empty array is ambiguous. Returning False, but in future this will result in an error. Use `array.size > 0` to check that an array is not empty.\n",
      "  if diff:\n",
      "/home/dks/anaconda3/lib/python3.5/site-packages/sklearn/preprocessing/label.py:151: DeprecationWarning: The truth value of an empty array is ambiguous. Returning False, but in future this will result in an error. Use `array.size > 0` to check that an array is not empty.\n",
      "  if diff:\n",
      "/home/dks/anaconda3/lib/python3.5/site-packages/sklearn/preprocessing/label.py:151: DeprecationWarning: The truth value of an empty array is ambiguous. Returning False, but in future this will result in an error. Use `array.size > 0` to check that an array is not empty.\n",
      "  if diff:\n"
     ]
    },
    {
     "name": "stdout",
     "output_type": "stream",
     "text": [
      "[CV]  voting_cls__voting=hard, voting_cls__svm__gamma=0.001, voting_cls__svm__C=100, voting_cls__rfc__n_estimators=100, voting_cls__rfc__min_samples_split=4, score=0.4618152738904438, total= 1.6min\n",
      "[CV] voting_cls__voting=hard, voting_cls__svm__gamma=0.01, voting_cls__svm__C=1000, voting_cls__rfc__n_estimators=100, voting_cls__rfc__min_samples_split=4 \n"
     ]
    },
    {
     "name": "stderr",
     "output_type": "stream",
     "text": [
      "/home/dks/anaconda3/lib/python3.5/site-packages/sklearn/preprocessing/label.py:151: DeprecationWarning: The truth value of an empty array is ambiguous. Returning False, but in future this will result in an error. Use `array.size > 0` to check that an array is not empty.\n",
      "  if diff:\n",
      "/home/dks/anaconda3/lib/python3.5/site-packages/sklearn/preprocessing/label.py:151: DeprecationWarning: The truth value of an empty array is ambiguous. Returning False, but in future this will result in an error. Use `array.size > 0` to check that an array is not empty.\n",
      "  if diff:\n"
     ]
    },
    {
     "name": "stdout",
     "output_type": "stream",
     "text": [
      "[CV]  voting_cls__voting=soft, voting_cls__svm__gamma=0.001, voting_cls__svm__C=100, voting_cls__rfc__n_estimators=100, voting_cls__rfc__min_samples_split=4, score=0.4979037732082252, total= 1.6min\n",
      "[CV] voting_cls__voting=hard, voting_cls__svm__gamma=0.01, voting_cls__svm__C=1000, voting_cls__rfc__n_estimators=100, voting_cls__rfc__min_samples_split=4 \n"
     ]
    },
    {
     "name": "stderr",
     "output_type": "stream",
     "text": [
      "/home/dks/anaconda3/lib/python3.5/site-packages/sklearn/preprocessing/label.py:151: DeprecationWarning: The truth value of an empty array is ambiguous. Returning False, but in future this will result in an error. Use `array.size > 0` to check that an array is not empty.\n",
      "  if diff:\n"
     ]
    },
    {
     "name": "stdout",
     "output_type": "stream",
     "text": [
      "[CV]  voting_cls__voting=soft, voting_cls__svm__gamma=0.001, voting_cls__svm__C=100, voting_cls__rfc__n_estimators=100, voting_cls__rfc__min_samples_split=4, score=0.49480623252097483, total= 1.6min\n",
      "[CV] voting_cls__voting=hard, voting_cls__svm__gamma=0.01, voting_cls__svm__C=1000, voting_cls__rfc__n_estimators=100, voting_cls__rfc__min_samples_split=4 \n"
     ]
    },
    {
     "name": "stderr",
     "output_type": "stream",
     "text": [
      "/home/dks/anaconda3/lib/python3.5/site-packages/sklearn/preprocessing/label.py:151: DeprecationWarning: The truth value of an empty array is ambiguous. Returning False, but in future this will result in an error. Use `array.size > 0` to check that an array is not empty.\n",
      "  if diff:\n"
     ]
    },
    {
     "name": "stdout",
     "output_type": "stream",
     "text": [
      "[CV]  voting_cls__voting=soft, voting_cls__svm__gamma=0.001, voting_cls__svm__C=100, voting_cls__rfc__n_estimators=100, voting_cls__rfc__min_samples_split=4, score=0.49400239904038384, total= 1.6min\n",
      "[CV] voting_cls__voting=soft, voting_cls__svm__gamma=0.01, voting_cls__svm__C=1000, voting_cls__rfc__n_estimators=100, voting_cls__rfc__min_samples_split=4 \n"
     ]
    },
    {
     "name": "stderr",
     "output_type": "stream",
     "text": [
      "/home/dks/anaconda3/lib/python3.5/site-packages/sklearn/preprocessing/label.py:151: DeprecationWarning: The truth value of an empty array is ambiguous. Returning False, but in future this will result in an error. Use `array.size > 0` to check that an array is not empty.\n",
      "  if diff:\n",
      "/home/dks/anaconda3/lib/python3.5/site-packages/sklearn/preprocessing/label.py:151: DeprecationWarning: The truth value of an empty array is ambiguous. Returning False, but in future this will result in an error. Use `array.size > 0` to check that an array is not empty.\n",
      "  if diff:\n",
      "/home/dks/anaconda3/lib/python3.5/site-packages/sklearn/preprocessing/label.py:151: DeprecationWarning: The truth value of an empty array is ambiguous. Returning False, but in future this will result in an error. Use `array.size > 0` to check that an array is not empty.\n",
      "  if diff:\n",
      "/home/dks/anaconda3/lib/python3.5/site-packages/sklearn/preprocessing/label.py:151: DeprecationWarning: The truth value of an empty array is ambiguous. Returning False, but in future this will result in an error. Use `array.size > 0` to check that an array is not empty.\n",
      "  if diff:\n",
      "/home/dks/anaconda3/lib/python3.5/site-packages/sklearn/preprocessing/label.py:151: DeprecationWarning: The truth value of an empty array is ambiguous. Returning False, but in future this will result in an error. Use `array.size > 0` to check that an array is not empty.\n",
      "  if diff:\n",
      "/home/dks/anaconda3/lib/python3.5/site-packages/sklearn/preprocessing/label.py:151: DeprecationWarning: The truth value of an empty array is ambiguous. Returning False, but in future this will result in an error. Use `array.size > 0` to check that an array is not empty.\n",
      "  if diff:\n"
     ]
    },
    {
     "name": "stdout",
     "output_type": "stream",
     "text": [
      "[CV]  voting_cls__voting=hard, voting_cls__svm__gamma=0.0001, voting_cls__svm__C=100, voting_cls__rfc__n_estimators=100, voting_cls__rfc__min_samples_split=4, score=0.426887734718338, total= 2.0min\n",
      "[CV] voting_cls__voting=soft, voting_cls__svm__gamma=0.01, voting_cls__svm__C=1000, voting_cls__rfc__n_estimators=100, voting_cls__rfc__min_samples_split=4 \n"
     ]
    },
    {
     "name": "stderr",
     "output_type": "stream",
     "text": [
      "/home/dks/anaconda3/lib/python3.5/site-packages/sklearn/preprocessing/label.py:151: DeprecationWarning: The truth value of an empty array is ambiguous. Returning False, but in future this will result in an error. Use `array.size > 0` to check that an array is not empty.\n",
      "  if diff:\n"
     ]
    },
    {
     "name": "stdout",
     "output_type": "stream",
     "text": [
      "[CV]  voting_cls__voting=hard, voting_cls__svm__gamma=0.0001, voting_cls__svm__C=100, voting_cls__rfc__n_estimators=100, voting_cls__rfc__min_samples_split=4, score=0.4384108604511879, total= 2.0min\n",
      "[CV] voting_cls__voting=soft, voting_cls__svm__gamma=0.01, voting_cls__svm__C=1000, voting_cls__rfc__n_estimators=100, voting_cls__rfc__min_samples_split=4 \n"
     ]
    },
    {
     "name": "stderr",
     "output_type": "stream",
     "text": [
      "/home/dks/anaconda3/lib/python3.5/site-packages/sklearn/preprocessing/label.py:151: DeprecationWarning: The truth value of an empty array is ambiguous. Returning False, but in future this will result in an error. Use `array.size > 0` to check that an array is not empty.\n",
      "  if diff:\n"
     ]
    },
    {
     "name": "stdout",
     "output_type": "stream",
     "text": [
      "[CV]  voting_cls__voting=hard, voting_cls__svm__gamma=0.0001, voting_cls__svm__C=100, voting_cls__rfc__n_estimators=100, voting_cls__rfc__min_samples_split=4, score=0.4492203118752499, total= 2.0min\n",
      "[CV] voting_cls__voting=hard, voting_cls__svm__gamma=0.001, voting_cls__svm__C=1000, voting_cls__rfc__n_estimators=100, voting_cls__rfc__min_samples_split=4 \n"
     ]
    },
    {
     "name": "stderr",
     "output_type": "stream",
     "text": [
      "/home/dks/anaconda3/lib/python3.5/site-packages/sklearn/preprocessing/label.py:151: DeprecationWarning: The truth value of an empty array is ambiguous. Returning False, but in future this will result in an error. Use `array.size > 0` to check that an array is not empty.\n",
      "  if diff:\n",
      "/home/dks/anaconda3/lib/python3.5/site-packages/sklearn/preprocessing/label.py:151: DeprecationWarning: The truth value of an empty array is ambiguous. Returning False, but in future this will result in an error. Use `array.size > 0` to check that an array is not empty.\n",
      "  if diff:\n"
     ]
    },
    {
     "name": "stdout",
     "output_type": "stream",
     "text": [
      "[CV]  voting_cls__voting=soft, voting_cls__svm__gamma=0.0001, voting_cls__svm__C=100, voting_cls__rfc__n_estimators=100, voting_cls__rfc__min_samples_split=4, score=0.48801438274071113, total= 2.0min\n",
      "[CV] voting_cls__voting=hard, voting_cls__svm__gamma=0.001, voting_cls__svm__C=1000, voting_cls__rfc__n_estimators=100, voting_cls__rfc__min_samples_split=4 \n"
     ]
    },
    {
     "name": "stderr",
     "output_type": "stream",
     "text": [
      "/home/dks/anaconda3/lib/python3.5/site-packages/sklearn/preprocessing/label.py:151: DeprecationWarning: The truth value of an empty array is ambiguous. Returning False, but in future this will result in an error. Use `array.size > 0` to check that an array is not empty.\n",
      "  if diff:\n"
     ]
    },
    {
     "name": "stdout",
     "output_type": "stream",
     "text": [
      "[CV]  voting_cls__voting=soft, voting_cls__svm__gamma=0.0001, voting_cls__svm__C=100, voting_cls__rfc__n_estimators=100, voting_cls__rfc__min_samples_split=4, score=0.4919145538031543, total= 2.0min\n",
      "[CV] voting_cls__voting=hard, voting_cls__svm__gamma=0.001, voting_cls__svm__C=1000, voting_cls__rfc__n_estimators=100, voting_cls__rfc__min_samples_split=4 \n"
     ]
    },
    {
     "name": "stderr",
     "output_type": "stream",
     "text": [
      "/home/dks/anaconda3/lib/python3.5/site-packages/sklearn/preprocessing/label.py:151: DeprecationWarning: The truth value of an empty array is ambiguous. Returning False, but in future this will result in an error. Use `array.size > 0` to check that an array is not empty.\n",
      "  if diff:\n"
     ]
    },
    {
     "name": "stdout",
     "output_type": "stream",
     "text": [
      "[CV]  voting_cls__voting=soft, voting_cls__svm__gamma=0.0001, voting_cls__svm__C=100, voting_cls__rfc__n_estimators=100, voting_cls__rfc__min_samples_split=4, score=0.4894042383046781, total= 2.0min\n",
      "[CV] voting_cls__voting=soft, voting_cls__svm__gamma=0.001, voting_cls__svm__C=1000, voting_cls__rfc__n_estimators=100, voting_cls__rfc__min_samples_split=4 \n"
     ]
    },
    {
     "name": "stderr",
     "output_type": "stream",
     "text": [
      "/home/dks/anaconda3/lib/python3.5/site-packages/sklearn/preprocessing/label.py:151: DeprecationWarning: The truth value of an empty array is ambiguous. Returning False, but in future this will result in an error. Use `array.size > 0` to check that an array is not empty.\n",
      "  if diff:\n",
      "/home/dks/anaconda3/lib/python3.5/site-packages/sklearn/preprocessing/label.py:151: DeprecationWarning: The truth value of an empty array is ambiguous. Returning False, but in future this will result in an error. Use `array.size > 0` to check that an array is not empty.\n",
      "  if diff:\n",
      "/home/dks/anaconda3/lib/python3.5/site-packages/sklearn/preprocessing/label.py:151: DeprecationWarning: The truth value of an empty array is ambiguous. Returning False, but in future this will result in an error. Use `array.size > 0` to check that an array is not empty.\n",
      "  if diff:\n",
      "/home/dks/anaconda3/lib/python3.5/site-packages/sklearn/preprocessing/label.py:151: DeprecationWarning: The truth value of an empty array is ambiguous. Returning False, but in future this will result in an error. Use `array.size > 0` to check that an array is not empty.\n",
      "  if diff:\n"
     ]
    },
    {
     "name": "stdout",
     "output_type": "stream",
     "text": [
      "[CV]  voting_cls__voting=hard, voting_cls__svm__gamma=0.01, voting_cls__svm__C=1000, voting_cls__rfc__n_estimators=100, voting_cls__rfc__min_samples_split=4, score=0.4649630664803354, total= 1.6min\n",
      "[CV] voting_cls__voting=soft, voting_cls__svm__gamma=0.001, voting_cls__svm__C=1000, voting_cls__rfc__n_estimators=100, voting_cls__rfc__min_samples_split=4 \n"
     ]
    },
    {
     "name": "stderr",
     "output_type": "stream",
     "text": [
      "/home/dks/anaconda3/lib/python3.5/site-packages/sklearn/preprocessing/label.py:151: DeprecationWarning: The truth value of an empty array is ambiguous. Returning False, but in future this will result in an error. Use `array.size > 0` to check that an array is not empty.\n",
      "  if diff:\n"
     ]
    },
    {
     "name": "stdout",
     "output_type": "stream",
     "text": [
      "[CV]  voting_cls__voting=hard, voting_cls__svm__gamma=0.01, voting_cls__svm__C=1000, voting_cls__rfc__n_estimators=100, voting_cls__rfc__min_samples_split=4, score=0.4582500998801438, total= 1.6min\n",
      "[CV] voting_cls__voting=soft, voting_cls__svm__gamma=0.001, voting_cls__svm__C=1000, voting_cls__rfc__n_estimators=100, voting_cls__rfc__min_samples_split=4 \n"
     ]
    },
    {
     "name": "stderr",
     "output_type": "stream",
     "text": [
      "/home/dks/anaconda3/lib/python3.5/site-packages/sklearn/preprocessing/label.py:151: DeprecationWarning: The truth value of an empty array is ambiguous. Returning False, but in future this will result in an error. Use `array.size > 0` to check that an array is not empty.\n",
      "  if diff:\n",
      "/home/dks/anaconda3/lib/python3.5/site-packages/sklearn/preprocessing/label.py:151: DeprecationWarning: The truth value of an empty array is ambiguous. Returning False, but in future this will result in an error. Use `array.size > 0` to check that an array is not empty.\n",
      "  if diff:\n"
     ]
    },
    {
     "name": "stdout",
     "output_type": "stream",
     "text": [
      "[CV]  voting_cls__voting=hard, voting_cls__svm__gamma=0.01, voting_cls__svm__C=1000, voting_cls__rfc__n_estimators=100, voting_cls__rfc__min_samples_split=4, score=0.4760095961615354, total= 1.6min\n",
      "[CV] voting_cls__voting=hard, voting_cls__svm__gamma=0.0001, voting_cls__svm__C=1000, voting_cls__rfc__n_estimators=100, voting_cls__rfc__min_samples_split=4 \n"
     ]
    },
    {
     "name": "stderr",
     "output_type": "stream",
     "text": [
      "/home/dks/anaconda3/lib/python3.5/site-packages/sklearn/preprocessing/label.py:151: DeprecationWarning: The truth value of an empty array is ambiguous. Returning False, but in future this will result in an error. Use `array.size > 0` to check that an array is not empty.\n",
      "  if diff:\n"
     ]
    },
    {
     "name": "stdout",
     "output_type": "stream",
     "text": [
      "[CV]  voting_cls__voting=soft, voting_cls__svm__gamma=0.01, voting_cls__svm__C=1000, voting_cls__rfc__n_estimators=100, voting_cls__rfc__min_samples_split=4, score=0.5034937113196247, total= 1.6min\n",
      "[CV] voting_cls__voting=hard, voting_cls__svm__gamma=0.0001, voting_cls__svm__C=1000, voting_cls__rfc__n_estimators=100, voting_cls__rfc__min_samples_split=4 \n"
     ]
    },
    {
     "name": "stderr",
     "output_type": "stream",
     "text": [
      "/home/dks/anaconda3/lib/python3.5/site-packages/sklearn/preprocessing/label.py:151: DeprecationWarning: The truth value of an empty array is ambiguous. Returning False, but in future this will result in an error. Use `array.size > 0` to check that an array is not empty.\n",
      "  if diff:\n",
      "/home/dks/anaconda3/lib/python3.5/site-packages/sklearn/preprocessing/label.py:151: DeprecationWarning: The truth value of an empty array is ambiguous. Returning False, but in future this will result in an error. Use `array.size > 0` to check that an array is not empty.\n",
      "  if diff:\n",
      "/home/dks/anaconda3/lib/python3.5/site-packages/sklearn/preprocessing/label.py:151: DeprecationWarning: The truth value of an empty array is ambiguous. Returning False, but in future this will result in an error. Use `array.size > 0` to check that an array is not empty.\n",
      "  if diff:\n",
      "/home/dks/anaconda3/lib/python3.5/site-packages/sklearn/preprocessing/label.py:151: DeprecationWarning: The truth value of an empty array is ambiguous. Returning False, but in future this will result in an error. Use `array.size > 0` to check that an array is not empty.\n",
      "  if diff:\n",
      "/home/dks/anaconda3/lib/python3.5/site-packages/sklearn/preprocessing/label.py:151: DeprecationWarning: The truth value of an empty array is ambiguous. Returning False, but in future this will result in an error. Use `array.size > 0` to check that an array is not empty.\n",
      "  if diff:\n",
      "/home/dks/anaconda3/lib/python3.5/site-packages/sklearn/preprocessing/label.py:151: DeprecationWarning: The truth value of an empty array is ambiguous. Returning False, but in future this will result in an error. Use `array.size > 0` to check that an array is not empty.\n",
      "  if diff:\n"
     ]
    },
    {
     "name": "stdout",
     "output_type": "stream",
     "text": [
      "[CV]  voting_cls__voting=hard, voting_cls__svm__gamma=0.001, voting_cls__svm__C=1000, voting_cls__rfc__n_estimators=100, voting_cls__rfc__min_samples_split=4, score=0.4593731283689359, total= 1.5min\n",
      "[CV] voting_cls__voting=hard, voting_cls__svm__gamma=0.0001, voting_cls__svm__C=1000, voting_cls__rfc__n_estimators=100, voting_cls__rfc__min_samples_split=4 \n"
     ]
    },
    {
     "name": "stderr",
     "output_type": "stream",
     "text": [
      "/home/dks/anaconda3/lib/python3.5/site-packages/sklearn/preprocessing/label.py:151: DeprecationWarning: The truth value of an empty array is ambiguous. Returning False, but in future this will result in an error. Use `array.size > 0` to check that an array is not empty.\n",
      "  if diff:\n",
      "/home/dks/anaconda3/lib/python3.5/site-packages/sklearn/preprocessing/label.py:151: DeprecationWarning: The truth value of an empty array is ambiguous. Returning False, but in future this will result in an error. Use `array.size > 0` to check that an array is not empty.\n",
      "  if diff:\n"
     ]
    },
    {
     "name": "stdout",
     "output_type": "stream",
     "text": [
      "[CV]  voting_cls__voting=soft, voting_cls__svm__gamma=0.01, voting_cls__svm__C=1000, voting_cls__rfc__n_estimators=100, voting_cls__rfc__min_samples_split=4, score=0.5, total= 1.6min\n",
      "[CV] voting_cls__voting=soft, voting_cls__svm__gamma=0.0001, voting_cls__svm__C=1000, voting_cls__rfc__n_estimators=100, voting_cls__rfc__min_samples_split=4 \n"
     ]
    },
    {
     "name": "stderr",
     "output_type": "stream",
     "text": [
      "/home/dks/anaconda3/lib/python3.5/site-packages/sklearn/preprocessing/label.py:151: DeprecationWarning: The truth value of an empty array is ambiguous. Returning False, but in future this will result in an error. Use `array.size > 0` to check that an array is not empty.\n",
      "  if diff:\n"
     ]
    },
    {
     "name": "stdout",
     "output_type": "stream",
     "text": [
      "[CV]  voting_cls__voting=hard, voting_cls__svm__gamma=0.001, voting_cls__svm__C=1000, voting_cls__rfc__n_estimators=100, voting_cls__rfc__min_samples_split=4, score=0.45285657211346386, total= 1.5min\n",
      "[CV] voting_cls__voting=soft, voting_cls__svm__gamma=0.0001, voting_cls__svm__C=1000, voting_cls__rfc__n_estimators=100, voting_cls__rfc__min_samples_split=4 \n"
     ]
    },
    {
     "name": "stderr",
     "output_type": "stream",
     "text": [
      "/home/dks/anaconda3/lib/python3.5/site-packages/sklearn/preprocessing/label.py:151: DeprecationWarning: The truth value of an empty array is ambiguous. Returning False, but in future this will result in an error. Use `array.size > 0` to check that an array is not empty.\n",
      "  if diff:\n"
     ]
    },
    {
     "name": "stdout",
     "output_type": "stream",
     "text": [
      "[CV]  voting_cls__voting=soft, voting_cls__svm__gamma=0.01, voting_cls__svm__C=1000, voting_cls__rfc__n_estimators=100, voting_cls__rfc__min_samples_split=4, score=0.5001999200319872, total= 1.6min\n",
      "[CV] voting_cls__voting=soft, voting_cls__svm__gamma=0.0001, voting_cls__svm__C=1000, voting_cls__rfc__n_estimators=100, voting_cls__rfc__min_samples_split=4 \n"
     ]
    },
    {
     "name": "stderr",
     "output_type": "stream",
     "text": [
      "/home/dks/anaconda3/lib/python3.5/site-packages/sklearn/preprocessing/label.py:151: DeprecationWarning: The truth value of an empty array is ambiguous. Returning False, but in future this will result in an error. Use `array.size > 0` to check that an array is not empty.\n",
      "  if diff:\n"
     ]
    },
    {
     "name": "stdout",
     "output_type": "stream",
     "text": [
      "[CV]  voting_cls__voting=hard, voting_cls__svm__gamma=0.001, voting_cls__svm__C=1000, voting_cls__rfc__n_estimators=100, voting_cls__rfc__min_samples_split=4, score=0.4674130347860856, total= 1.5min\n",
      "[CV] voting_cls__voting=hard, voting_cls__svm__gamma=1, voting_cls__svm__C=0.1, voting_cls__rfc__n_estimators=10, voting_cls__rfc__min_samples_split=5 \n"
     ]
    },
    {
     "name": "stderr",
     "output_type": "stream",
     "text": [
      "/home/dks/anaconda3/lib/python3.5/site-packages/sklearn/preprocessing/label.py:151: DeprecationWarning: The truth value of an empty array is ambiguous. Returning False, but in future this will result in an error. Use `array.size > 0` to check that an array is not empty.\n",
      "  if diff:\n"
     ]
    },
    {
     "name": "stdout",
     "output_type": "stream",
     "text": [
      "[CV]  voting_cls__voting=soft, voting_cls__svm__gamma=0.001, voting_cls__svm__C=1000, voting_cls__rfc__n_estimators=100, voting_cls__rfc__min_samples_split=4, score=0.5054901177879816, total= 1.5min\n",
      "[CV] voting_cls__voting=hard, voting_cls__svm__gamma=1, voting_cls__svm__C=0.1, voting_cls__rfc__n_estimators=10, voting_cls__rfc__min_samples_split=5 \n"
     ]
    },
    {
     "name": "stderr",
     "output_type": "stream",
     "text": [
      "/home/dks/anaconda3/lib/python3.5/site-packages/sklearn/preprocessing/label.py:151: DeprecationWarning: The truth value of an empty array is ambiguous. Returning False, but in future this will result in an error. Use `array.size > 0` to check that an array is not empty.\n",
      "  if diff:\n",
      "/home/dks/anaconda3/lib/python3.5/site-packages/sklearn/preprocessing/label.py:151: DeprecationWarning: The truth value of an empty array is ambiguous. Returning False, but in future this will result in an error. Use `array.size > 0` to check that an array is not empty.\n",
      "  if diff:\n",
      "/home/dks/anaconda3/lib/python3.5/site-packages/sklearn/preprocessing/label.py:151: DeprecationWarning: The truth value of an empty array is ambiguous. Returning False, but in future this will result in an error. Use `array.size > 0` to check that an array is not empty.\n",
      "  if diff:\n"
     ]
    },
    {
     "name": "stdout",
     "output_type": "stream",
     "text": [
      "[CV]  voting_cls__voting=soft, voting_cls__svm__gamma=0.001, voting_cls__svm__C=1000, voting_cls__rfc__n_estimators=100, voting_cls__rfc__min_samples_split=4, score=0.4990011985617259, total= 1.4min\n",
      "[CV] voting_cls__voting=hard, voting_cls__svm__gamma=1, voting_cls__svm__C=0.1, voting_cls__rfc__n_estimators=10, voting_cls__rfc__min_samples_split=5 \n"
     ]
    },
    {
     "name": "stderr",
     "output_type": "stream",
     "text": [
      "/home/dks/anaconda3/lib/python3.5/site-packages/sklearn/preprocessing/label.py:151: DeprecationWarning: The truth value of an empty array is ambiguous. Returning False, but in future this will result in an error. Use `array.size > 0` to check that an array is not empty.\n",
      "  if diff:\n"
     ]
    },
    {
     "name": "stdout",
     "output_type": "stream",
     "text": [
      "[CV]  voting_cls__voting=soft, voting_cls__svm__gamma=0.001, voting_cls__svm__C=1000, voting_cls__rfc__n_estimators=100, voting_cls__rfc__min_samples_split=4, score=0.5007996801279488, total= 1.5min\n",
      "[CV] voting_cls__voting=soft, voting_cls__svm__gamma=1, voting_cls__svm__C=0.1, voting_cls__rfc__n_estimators=10, voting_cls__rfc__min_samples_split=5 \n"
     ]
    },
    {
     "name": "stderr",
     "output_type": "stream",
     "text": [
      "/home/dks/anaconda3/lib/python3.5/site-packages/sklearn/preprocessing/label.py:151: DeprecationWarning: The truth value of an empty array is ambiguous. Returning False, but in future this will result in an error. Use `array.size > 0` to check that an array is not empty.\n",
      "  if diff:\n",
      "/home/dks/anaconda3/lib/python3.5/site-packages/sklearn/preprocessing/label.py:151: DeprecationWarning: The truth value of an empty array is ambiguous. Returning False, but in future this will result in an error. Use `array.size > 0` to check that an array is not empty.\n",
      "  if diff:\n",
      "/home/dks/anaconda3/lib/python3.5/site-packages/sklearn/preprocessing/label.py:151: DeprecationWarning: The truth value of an empty array is ambiguous. Returning False, but in future this will result in an error. Use `array.size > 0` to check that an array is not empty.\n",
      "  if diff:\n"
     ]
    },
    {
     "name": "stdout",
     "output_type": "stream",
     "text": [
      "[CV]  voting_cls__voting=hard, voting_cls__svm__gamma=0.0001, voting_cls__svm__C=1000, voting_cls__rfc__n_estimators=100, voting_cls__rfc__min_samples_split=4, score=0.45258534637652226, total= 1.6min\n",
      "[CV] voting_cls__voting=soft, voting_cls__svm__gamma=1, voting_cls__svm__C=0.1, voting_cls__rfc__n_estimators=10, voting_cls__rfc__min_samples_split=5 \n"
     ]
    },
    {
     "name": "stderr",
     "output_type": "stream",
     "text": [
      "/home/dks/anaconda3/lib/python3.5/site-packages/sklearn/preprocessing/label.py:151: DeprecationWarning: The truth value of an empty array is ambiguous. Returning False, but in future this will result in an error. Use `array.size > 0` to check that an array is not empty.\n",
      "  if diff:\n"
     ]
    },
    {
     "name": "stdout",
     "output_type": "stream",
     "text": [
      "[CV]  voting_cls__voting=hard, voting_cls__svm__gamma=0.0001, voting_cls__svm__C=1000, voting_cls__rfc__n_estimators=100, voting_cls__rfc__min_samples_split=4, score=0.44206951658010385, total= 1.6min\n",
      "[CV] voting_cls__voting=soft, voting_cls__svm__gamma=1, voting_cls__svm__C=0.1, voting_cls__rfc__n_estimators=10, voting_cls__rfc__min_samples_split=5 \n"
     ]
    },
    {
     "name": "stderr",
     "output_type": "stream",
     "text": [
      "/home/dks/anaconda3/lib/python3.5/site-packages/sklearn/preprocessing/label.py:151: DeprecationWarning: The truth value of an empty array is ambiguous. Returning False, but in future this will result in an error. Use `array.size > 0` to check that an array is not empty.\n",
      "  if diff:\n",
      "/home/dks/anaconda3/lib/python3.5/site-packages/sklearn/preprocessing/label.py:151: DeprecationWarning: The truth value of an empty array is ambiguous. Returning False, but in future this will result in an error. Use `array.size > 0` to check that an array is not empty.\n",
      "  if diff:\n",
      "/home/dks/anaconda3/lib/python3.5/site-packages/sklearn/preprocessing/label.py:151: DeprecationWarning: The truth value of an empty array is ambiguous. Returning False, but in future this will result in an error. Use `array.size > 0` to check that an array is not empty.\n",
      "  if diff:\n",
      "/home/dks/anaconda3/lib/python3.5/site-packages/sklearn/preprocessing/label.py:151: DeprecationWarning: The truth value of an empty array is ambiguous. Returning False, but in future this will result in an error. Use `array.size > 0` to check that an array is not empty.\n",
      "  if diff:\n",
      "/home/dks/anaconda3/lib/python3.5/site-packages/sklearn/preprocessing/label.py:151: DeprecationWarning: The truth value of an empty array is ambiguous. Returning False, but in future this will result in an error. Use `array.size > 0` to check that an array is not empty.\n",
      "  if diff:\n"
     ]
    },
    {
     "name": "stdout",
     "output_type": "stream",
     "text": [
      "[CV]  voting_cls__voting=hard, voting_cls__svm__gamma=0.0001, voting_cls__svm__C=1000, voting_cls__rfc__n_estimators=100, voting_cls__rfc__min_samples_split=4, score=0.46001599360255896, total= 1.6min\n",
      "[CV] voting_cls__voting=hard, voting_cls__svm__gamma=0.01, voting_cls__svm__C=0.1, voting_cls__rfc__n_estimators=10, voting_cls__rfc__min_samples_split=5 \n"
     ]
    },
    {
     "name": "stderr",
     "output_type": "stream",
     "text": [
      "/home/dks/anaconda3/lib/python3.5/site-packages/sklearn/preprocessing/label.py:151: DeprecationWarning: The truth value of an empty array is ambiguous. Returning False, but in future this will result in an error. Use `array.size > 0` to check that an array is not empty.\n",
      "  if diff:\n"
     ]
    },
    {
     "name": "stdout",
     "output_type": "stream",
     "text": [
      "[CV]  voting_cls__voting=soft, voting_cls__svm__gamma=0.0001, voting_cls__svm__C=1000, voting_cls__rfc__n_estimators=100, voting_cls__rfc__min_samples_split=4, score=0.4985026951487323, total= 1.6min\n",
      "[CV] voting_cls__voting=hard, voting_cls__svm__gamma=0.01, voting_cls__svm__C=0.1, voting_cls__rfc__n_estimators=10, voting_cls__rfc__min_samples_split=5 \n"
     ]
    },
    {
     "name": "stderr",
     "output_type": "stream",
     "text": [
      "/home/dks/anaconda3/lib/python3.5/site-packages/sklearn/preprocessing/label.py:151: DeprecationWarning: The truth value of an empty array is ambiguous. Returning False, but in future this will result in an error. Use `array.size > 0` to check that an array is not empty.\n",
      "  if diff:\n",
      "/home/dks/anaconda3/lib/python3.5/site-packages/sklearn/preprocessing/label.py:151: DeprecationWarning: The truth value of an empty array is ambiguous. Returning False, but in future this will result in an error. Use `array.size > 0` to check that an array is not empty.\n",
      "  if diff:\n"
     ]
    },
    {
     "name": "stdout",
     "output_type": "stream",
     "text": [
      "[CV]  voting_cls__voting=soft, voting_cls__svm__gamma=0.0001, voting_cls__svm__C=1000, voting_cls__rfc__n_estimators=100, voting_cls__rfc__min_samples_split=4, score=0.49660407510986815, total= 1.6min\n",
      "[CV] voting_cls__voting=hard, voting_cls__svm__gamma=0.01, voting_cls__svm__C=0.1, voting_cls__rfc__n_estimators=10, voting_cls__rfc__min_samples_split=5 \n"
     ]
    },
    {
     "name": "stderr",
     "output_type": "stream",
     "text": [
      "/home/dks/anaconda3/lib/python3.5/site-packages/sklearn/preprocessing/label.py:151: DeprecationWarning: The truth value of an empty array is ambiguous. Returning False, but in future this will result in an error. Use `array.size > 0` to check that an array is not empty.\n",
      "  if diff:\n"
     ]
    },
    {
     "name": "stdout",
     "output_type": "stream",
     "text": [
      "[CV]  voting_cls__voting=soft, voting_cls__svm__gamma=0.0001, voting_cls__svm__C=1000, voting_cls__rfc__n_estimators=100, voting_cls__rfc__min_samples_split=4, score=0.4988004798080768, total= 1.6min\n",
      "[CV] voting_cls__voting=soft, voting_cls__svm__gamma=0.01, voting_cls__svm__C=0.1, voting_cls__rfc__n_estimators=10, voting_cls__rfc__min_samples_split=5 \n"
     ]
    },
    {
     "name": "stderr",
     "output_type": "stream",
     "text": [
      "/home/dks/anaconda3/lib/python3.5/site-packages/sklearn/preprocessing/label.py:151: DeprecationWarning: The truth value of an empty array is ambiguous. Returning False, but in future this will result in an error. Use `array.size > 0` to check that an array is not empty.\n",
      "  if diff:\n",
      "/home/dks/anaconda3/lib/python3.5/site-packages/sklearn/preprocessing/label.py:151: DeprecationWarning: The truth value of an empty array is ambiguous. Returning False, but in future this will result in an error. Use `array.size > 0` to check that an array is not empty.\n",
      "  if diff:\n"
     ]
    },
    {
     "name": "stdout",
     "output_type": "stream",
     "text": [
      "[CV]  voting_cls__voting=hard, voting_cls__svm__gamma=1, voting_cls__svm__C=0.1, voting_cls__rfc__n_estimators=10, voting_cls__rfc__min_samples_split=5, score=0.4449990017967658, total= 1.7min\n",
      "[CV] voting_cls__voting=soft, voting_cls__svm__gamma=0.01, voting_cls__svm__C=0.1, voting_cls__rfc__n_estimators=10, voting_cls__rfc__min_samples_split=5 \n"
     ]
    },
    {
     "name": "stderr",
     "output_type": "stream",
     "text": [
      "/home/dks/anaconda3/lib/python3.5/site-packages/sklearn/preprocessing/label.py:151: DeprecationWarning: The truth value of an empty array is ambiguous. Returning False, but in future this will result in an error. Use `array.size > 0` to check that an array is not empty.\n",
      "  if diff:\n"
     ]
    },
    {
     "name": "stdout",
     "output_type": "stream",
     "text": [
      "[CV]  voting_cls__voting=hard, voting_cls__svm__gamma=1, voting_cls__svm__C=0.1, voting_cls__rfc__n_estimators=10, voting_cls__rfc__min_samples_split=5, score=0.4316819816220535, total= 1.7min\n",
      "[CV] voting_cls__voting=soft, voting_cls__svm__gamma=0.01, voting_cls__svm__C=0.1, voting_cls__rfc__n_estimators=10, voting_cls__rfc__min_samples_split=5 \n"
     ]
    },
    {
     "name": "stderr",
     "output_type": "stream",
     "text": [
      "/home/dks/anaconda3/lib/python3.5/site-packages/sklearn/preprocessing/label.py:151: DeprecationWarning: The truth value of an empty array is ambiguous. Returning False, but in future this will result in an error. Use `array.size > 0` to check that an array is not empty.\n",
      "  if diff:\n",
      "/home/dks/anaconda3/lib/python3.5/site-packages/sklearn/preprocessing/label.py:151: DeprecationWarning: The truth value of an empty array is ambiguous. Returning False, but in future this will result in an error. Use `array.size > 0` to check that an array is not empty.\n",
      "  if diff:\n",
      "/home/dks/anaconda3/lib/python3.5/site-packages/sklearn/preprocessing/label.py:151: DeprecationWarning: The truth value of an empty array is ambiguous. Returning False, but in future this will result in an error. Use `array.size > 0` to check that an array is not empty.\n",
      "  if diff:\n"
     ]
    },
    {
     "name": "stdout",
     "output_type": "stream",
     "text": [
      "[CV]  voting_cls__voting=hard, voting_cls__svm__gamma=1, voting_cls__svm__C=0.1, voting_cls__rfc__n_estimators=10, voting_cls__rfc__min_samples_split=5, score=0.446421431427429, total= 1.7min\n",
      "[CV] voting_cls__voting=hard, voting_cls__svm__gamma=0.001, voting_cls__svm__C=0.1, voting_cls__rfc__n_estimators=10, voting_cls__rfc__min_samples_split=5 \n"
     ]
    },
    {
     "name": "stderr",
     "output_type": "stream",
     "text": [
      "/home/dks/anaconda3/lib/python3.5/site-packages/sklearn/preprocessing/label.py:151: DeprecationWarning: The truth value of an empty array is ambiguous. Returning False, but in future this will result in an error. Use `array.size > 0` to check that an array is not empty.\n",
      "  if diff:\n"
     ]
    },
    {
     "name": "stdout",
     "output_type": "stream",
     "text": [
      "[CV]  voting_cls__voting=soft, voting_cls__svm__gamma=1, voting_cls__svm__C=0.1, voting_cls__rfc__n_estimators=10, voting_cls__rfc__min_samples_split=5, score=0.4933120383310042, total= 1.7min\n",
      "[CV] voting_cls__voting=hard, voting_cls__svm__gamma=0.001, voting_cls__svm__C=0.1, voting_cls__rfc__n_estimators=10, voting_cls__rfc__min_samples_split=5 \n"
     ]
    },
    {
     "name": "stderr",
     "output_type": "stream",
     "text": [
      "/home/dks/anaconda3/lib/python3.5/site-packages/sklearn/preprocessing/label.py:151: DeprecationWarning: The truth value of an empty array is ambiguous. Returning False, but in future this will result in an error. Use `array.size > 0` to check that an array is not empty.\n",
      "  if diff:\n",
      "/home/dks/anaconda3/lib/python3.5/site-packages/sklearn/preprocessing/label.py:151: DeprecationWarning: The truth value of an empty array is ambiguous. Returning False, but in future this will result in an error. Use `array.size > 0` to check that an array is not empty.\n",
      "  if diff:\n",
      "/home/dks/anaconda3/lib/python3.5/site-packages/sklearn/preprocessing/label.py:151: DeprecationWarning: The truth value of an empty array is ambiguous. Returning False, but in future this will result in an error. Use `array.size > 0` to check that an array is not empty.\n",
      "  if diff:\n"
     ]
    },
    {
     "name": "stdout",
     "output_type": "stream",
     "text": [
      "[CV]  voting_cls__voting=soft, voting_cls__svm__gamma=1, voting_cls__svm__C=0.1, voting_cls__rfc__n_estimators=10, voting_cls__rfc__min_samples_split=5, score=0.4922093487814622, total= 1.7min\n",
      "[CV] voting_cls__voting=hard, voting_cls__svm__gamma=0.001, voting_cls__svm__C=0.1, voting_cls__rfc__n_estimators=10, voting_cls__rfc__min_samples_split=5 \n"
     ]
    },
    {
     "name": "stderr",
     "output_type": "stream",
     "text": [
      "/home/dks/anaconda3/lib/python3.5/site-packages/sklearn/preprocessing/label.py:151: DeprecationWarning: The truth value of an empty array is ambiguous. Returning False, but in future this will result in an error. Use `array.size > 0` to check that an array is not empty.\n",
      "  if diff:\n"
     ]
    },
    {
     "name": "stdout",
     "output_type": "stream",
     "text": [
      "[CV]  voting_cls__voting=soft, voting_cls__svm__gamma=1, voting_cls__svm__C=0.1, voting_cls__rfc__n_estimators=10, voting_cls__rfc__min_samples_split=5, score=0.4910035985605758, total= 1.7min\n",
      "[CV] voting_cls__voting=soft, voting_cls__svm__gamma=0.001, voting_cls__svm__C=0.1, voting_cls__rfc__n_estimators=10, voting_cls__rfc__min_samples_split=5 \n"
     ]
    },
    {
     "name": "stderr",
     "output_type": "stream",
     "text": [
      "/home/dks/anaconda3/lib/python3.5/site-packages/sklearn/preprocessing/label.py:151: DeprecationWarning: The truth value of an empty array is ambiguous. Returning False, but in future this will result in an error. Use `array.size > 0` to check that an array is not empty.\n",
      "  if diff:\n",
      "/home/dks/anaconda3/lib/python3.5/site-packages/sklearn/preprocessing/label.py:151: DeprecationWarning: The truth value of an empty array is ambiguous. Returning False, but in future this will result in an error. Use `array.size > 0` to check that an array is not empty.\n",
      "  if diff:\n",
      "/home/dks/anaconda3/lib/python3.5/site-packages/sklearn/preprocessing/label.py:151: DeprecationWarning: The truth value of an empty array is ambiguous. Returning False, but in future this will result in an error. Use `array.size > 0` to check that an array is not empty.\n",
      "  if diff:\n"
     ]
    },
    {
     "name": "stdout",
     "output_type": "stream",
     "text": [
      "[CV]  voting_cls__voting=hard, voting_cls__svm__gamma=1, voting_cls__svm__C=1000, voting_cls__rfc__n_estimators=100, voting_cls__rfc__min_samples_split=4, score=0.48242109468637634, total= 7.0min\n",
      "[CV] voting_cls__voting=soft, voting_cls__svm__gamma=0.001, voting_cls__svm__C=0.1, voting_cls__rfc__n_estimators=10, voting_cls__rfc__min_samples_split=5 \n"
     ]
    },
    {
     "name": "stderr",
     "output_type": "stream",
     "text": [
      "/home/dks/anaconda3/lib/python3.5/site-packages/sklearn/preprocessing/label.py:151: DeprecationWarning: The truth value of an empty array is ambiguous. Returning False, but in future this will result in an error. Use `array.size > 0` to check that an array is not empty.\n",
      "  if diff:\n",
      "/home/dks/anaconda3/lib/python3.5/site-packages/sklearn/preprocessing/label.py:151: DeprecationWarning: The truth value of an empty array is ambiguous. Returning False, but in future this will result in an error. Use `array.size > 0` to check that an array is not empty.\n",
      "  if diff:\n"
     ]
    },
    {
     "name": "stdout",
     "output_type": "stream",
     "text": [
      "[CV]  voting_cls__voting=hard, voting_cls__svm__gamma=1, voting_cls__svm__C=1000, voting_cls__rfc__n_estimators=100, voting_cls__rfc__min_samples_split=4, score=0.48672389698542623, total= 7.3min\n",
      "[CV] voting_cls__voting=soft, voting_cls__svm__gamma=0.001, voting_cls__svm__C=0.1, voting_cls__rfc__n_estimators=10, voting_cls__rfc__min_samples_split=5 \n"
     ]
    },
    {
     "name": "stderr",
     "output_type": "stream",
     "text": [
      "/home/dks/anaconda3/lib/python3.5/site-packages/sklearn/preprocessing/label.py:151: DeprecationWarning: The truth value of an empty array is ambiguous. Returning False, but in future this will result in an error. Use `array.size > 0` to check that an array is not empty.\n",
      "  if diff:\n"
     ]
    },
    {
     "name": "stdout",
     "output_type": "stream",
     "text": [
      "[CV]  voting_cls__voting=soft, voting_cls__svm__gamma=1, voting_cls__svm__C=1000, voting_cls__rfc__n_estimators=100, voting_cls__rfc__min_samples_split=4, score=0.500998801438274, total= 7.0min\n",
      "[CV] voting_cls__voting=hard, voting_cls__svm__gamma=0.0001, voting_cls__svm__C=0.1, voting_cls__rfc__n_estimators=10, voting_cls__rfc__min_samples_split=5 \n"
     ]
    },
    {
     "name": "stderr",
     "output_type": "stream",
     "text": [
      "/home/dks/anaconda3/lib/python3.5/site-packages/sklearn/preprocessing/label.py:151: DeprecationWarning: The truth value of an empty array is ambiguous. Returning False, but in future this will result in an error. Use `array.size > 0` to check that an array is not empty.\n",
      "  if diff:\n",
      "/home/dks/anaconda3/lib/python3.5/site-packages/sklearn/preprocessing/label.py:151: DeprecationWarning: The truth value of an empty array is ambiguous. Returning False, but in future this will result in an error. Use `array.size > 0` to check that an array is not empty.\n",
      "  if diff:\n",
      "/home/dks/anaconda3/lib/python3.5/site-packages/sklearn/preprocessing/label.py:151: DeprecationWarning: The truth value of an empty array is ambiguous. Returning False, but in future this will result in an error. Use `array.size > 0` to check that an array is not empty.\n",
      "  if diff:\n",
      "/home/dks/anaconda3/lib/python3.5/site-packages/sklearn/preprocessing/label.py:151: DeprecationWarning: The truth value of an empty array is ambiguous. Returning False, but in future this will result in an error. Use `array.size > 0` to check that an array is not empty.\n",
      "  if diff:\n"
     ]
    },
    {
     "name": "stdout",
     "output_type": "stream",
     "text": [
      "[CV]  voting_cls__voting=hard, voting_cls__svm__gamma=1, voting_cls__svm__C=1000, voting_cls__rfc__n_estimators=100, voting_cls__rfc__min_samples_split=4, score=0.4936025589764094, total= 7.2min\n",
      "[CV] voting_cls__voting=hard, voting_cls__svm__gamma=0.0001, voting_cls__svm__C=0.1, voting_cls__rfc__n_estimators=10, voting_cls__rfc__min_samples_split=5 \n"
     ]
    },
    {
     "name": "stderr",
     "output_type": "stream",
     "text": [
      "/home/dks/anaconda3/lib/python3.5/site-packages/sklearn/preprocessing/label.py:151: DeprecationWarning: The truth value of an empty array is ambiguous. Returning False, but in future this will result in an error. Use `array.size > 0` to check that an array is not empty.\n",
      "  if diff:\n",
      "/home/dks/anaconda3/lib/python3.5/site-packages/sklearn/preprocessing/label.py:151: DeprecationWarning: The truth value of an empty array is ambiguous. Returning False, but in future this will result in an error. Use `array.size > 0` to check that an array is not empty.\n",
      "  if diff:\n"
     ]
    },
    {
     "name": "stdout",
     "output_type": "stream",
     "text": [
      "[CV]  voting_cls__voting=soft, voting_cls__svm__gamma=1, voting_cls__svm__C=1000, voting_cls__rfc__n_estimators=100, voting_cls__rfc__min_samples_split=4, score=0.49940023990403837, total= 7.2min\n",
      "[CV] voting_cls__voting=hard, voting_cls__svm__gamma=0.0001, voting_cls__svm__C=0.1, voting_cls__rfc__n_estimators=10, voting_cls__rfc__min_samples_split=5 \n"
     ]
    },
    {
     "name": "stderr",
     "output_type": "stream",
     "text": [
      "/home/dks/anaconda3/lib/python3.5/site-packages/sklearn/preprocessing/label.py:151: DeprecationWarning: The truth value of an empty array is ambiguous. Returning False, but in future this will result in an error. Use `array.size > 0` to check that an array is not empty.\n",
      "  if diff:\n",
      "/home/dks/anaconda3/lib/python3.5/site-packages/sklearn/preprocessing/label.py:151: DeprecationWarning: The truth value of an empty array is ambiguous. Returning False, but in future this will result in an error. Use `array.size > 0` to check that an array is not empty.\n",
      "  if diff:\n"
     ]
    },
    {
     "name": "stdout",
     "output_type": "stream",
     "text": [
      "[CV]  voting_cls__voting=soft, voting_cls__svm__gamma=1, voting_cls__svm__C=1000, voting_cls__rfc__n_estimators=100, voting_cls__rfc__min_samples_split=4, score=0.5076861649031743, total= 7.4min\n",
      "[CV] voting_cls__voting=soft, voting_cls__svm__gamma=0.0001, voting_cls__svm__C=0.1, voting_cls__rfc__n_estimators=10, voting_cls__rfc__min_samples_split=5 \n"
     ]
    },
    {
     "name": "stderr",
     "output_type": "stream",
     "text": [
      "/home/dks/anaconda3/lib/python3.5/site-packages/sklearn/preprocessing/label.py:151: DeprecationWarning: The truth value of an empty array is ambiguous. Returning False, but in future this will result in an error. Use `array.size > 0` to check that an array is not empty.\n",
      "  if diff:\n",
      "/home/dks/anaconda3/lib/python3.5/site-packages/sklearn/preprocessing/label.py:151: DeprecationWarning: The truth value of an empty array is ambiguous. Returning False, but in future this will result in an error. Use `array.size > 0` to check that an array is not empty.\n",
      "  if diff:\n",
      "/home/dks/anaconda3/lib/python3.5/site-packages/sklearn/preprocessing/label.py:151: DeprecationWarning: The truth value of an empty array is ambiguous. Returning False, but in future this will result in an error. Use `array.size > 0` to check that an array is not empty.\n",
      "  if diff:\n"
     ]
    },
    {
     "name": "stdout",
     "output_type": "stream",
     "text": [
      "[CV]  voting_cls__voting=hard, voting_cls__svm__gamma=0.01, voting_cls__svm__C=0.1, voting_cls__rfc__n_estimators=10, voting_cls__rfc__min_samples_split=5, score=0.40511386336396327, total= 2.5min\n",
      "[CV] voting_cls__voting=soft, voting_cls__svm__gamma=0.0001, voting_cls__svm__C=0.1, voting_cls__rfc__n_estimators=10, voting_cls__rfc__min_samples_split=5 \n"
     ]
    },
    {
     "name": "stderr",
     "output_type": "stream",
     "text": [
      "/home/dks/anaconda3/lib/python3.5/site-packages/sklearn/preprocessing/label.py:151: DeprecationWarning: The truth value of an empty array is ambiguous. Returning False, but in future this will result in an error. Use `array.size > 0` to check that an array is not empty.\n",
      "  if diff:\n"
     ]
    },
    {
     "name": "stdout",
     "output_type": "stream",
     "text": [
      "[CV]  voting_cls__voting=hard, voting_cls__svm__gamma=0.01, voting_cls__svm__C=0.1, voting_cls__rfc__n_estimators=10, voting_cls__rfc__min_samples_split=5, score=0.41205829506887603, total= 2.6min\n",
      "[CV] voting_cls__voting=soft, voting_cls__svm__gamma=0.0001, voting_cls__svm__C=0.1, voting_cls__rfc__n_estimators=10, voting_cls__rfc__min_samples_split=5 \n"
     ]
    },
    {
     "name": "stderr",
     "output_type": "stream",
     "text": [
      "/home/dks/anaconda3/lib/python3.5/site-packages/sklearn/preprocessing/label.py:151: DeprecationWarning: The truth value of an empty array is ambiguous. Returning False, but in future this will result in an error. Use `array.size > 0` to check that an array is not empty.\n",
      "  if diff:\n"
     ]
    },
    {
     "name": "stdout",
     "output_type": "stream",
     "text": [
      "[CV]  voting_cls__voting=hard, voting_cls__svm__gamma=0.01, voting_cls__svm__C=0.1, voting_cls__rfc__n_estimators=10, voting_cls__rfc__min_samples_split=5, score=0.437624950019992, total= 2.6min\n",
      "[CV] voting_cls__voting=hard, voting_cls__svm__gamma=1, voting_cls__svm__C=1, voting_cls__rfc__n_estimators=10, voting_cls__rfc__min_samples_split=5 \n"
     ]
    },
    {
     "name": "stderr",
     "output_type": "stream",
     "text": [
      "/home/dks/anaconda3/lib/python3.5/site-packages/sklearn/preprocessing/label.py:151: DeprecationWarning: The truth value of an empty array is ambiguous. Returning False, but in future this will result in an error. Use `array.size > 0` to check that an array is not empty.\n",
      "  if diff:\n"
     ]
    },
    {
     "name": "stdout",
     "output_type": "stream",
     "text": [
      "[CV]  voting_cls__voting=soft, voting_cls__svm__gamma=0.01, voting_cls__svm__C=0.1, voting_cls__rfc__n_estimators=10, voting_cls__rfc__min_samples_split=5, score=0.4883210221601118, total= 2.6min\n",
      "[CV] voting_cls__voting=hard, voting_cls__svm__gamma=1, voting_cls__svm__C=1, voting_cls__rfc__n_estimators=10, voting_cls__rfc__min_samples_split=5 \n"
     ]
    },
    {
     "name": "stderr",
     "output_type": "stream",
     "text": [
      "/home/dks/anaconda3/lib/python3.5/site-packages/sklearn/preprocessing/label.py:151: DeprecationWarning: The truth value of an empty array is ambiguous. Returning False, but in future this will result in an error. Use `array.size > 0` to check that an array is not empty.\n",
      "  if diff:\n",
      "/home/dks/anaconda3/lib/python3.5/site-packages/sklearn/preprocessing/label.py:151: DeprecationWarning: The truth value of an empty array is ambiguous. Returning False, but in future this will result in an error. Use `array.size > 0` to check that an array is not empty.\n",
      "  if diff:\n",
      "/home/dks/anaconda3/lib/python3.5/site-packages/sklearn/preprocessing/label.py:151: DeprecationWarning: The truth value of an empty array is ambiguous. Returning False, but in future this will result in an error. Use `array.size > 0` to check that an array is not empty.\n",
      "  if diff:\n"
     ]
    },
    {
     "name": "stdout",
     "output_type": "stream",
     "text": [
      "[CV]  voting_cls__voting=soft, voting_cls__svm__gamma=0.01, voting_cls__svm__C=0.1, voting_cls__rfc__n_estimators=10, voting_cls__rfc__min_samples_split=5, score=0.48801438274071113, total= 2.7min\n",
      "[CV] voting_cls__voting=hard, voting_cls__svm__gamma=1, voting_cls__svm__C=1, voting_cls__rfc__n_estimators=10, voting_cls__rfc__min_samples_split=5 \n"
     ]
    },
    {
     "name": "stderr",
     "output_type": "stream",
     "text": [
      "/home/dks/anaconda3/lib/python3.5/site-packages/sklearn/preprocessing/label.py:151: DeprecationWarning: The truth value of an empty array is ambiguous. Returning False, but in future this will result in an error. Use `array.size > 0` to check that an array is not empty.\n",
      "  if diff:\n"
     ]
    },
    {
     "name": "stdout",
     "output_type": "stream",
     "text": [
      "[CV]  voting_cls__voting=soft, voting_cls__svm__gamma=0.01, voting_cls__svm__C=0.1, voting_cls__rfc__n_estimators=10, voting_cls__rfc__min_samples_split=5, score=0.48720511795281884, total= 2.6min\n",
      "[CV] voting_cls__voting=soft, voting_cls__svm__gamma=1, voting_cls__svm__C=1, voting_cls__rfc__n_estimators=10, voting_cls__rfc__min_samples_split=5 \n"
     ]
    },
    {
     "name": "stderr",
     "output_type": "stream",
     "text": [
      "/home/dks/anaconda3/lib/python3.5/site-packages/sklearn/preprocessing/label.py:151: DeprecationWarning: The truth value of an empty array is ambiguous. Returning False, but in future this will result in an error. Use `array.size > 0` to check that an array is not empty.\n",
      "  if diff:\n",
      "/home/dks/anaconda3/lib/python3.5/site-packages/sklearn/preprocessing/label.py:151: DeprecationWarning: The truth value of an empty array is ambiguous. Returning False, but in future this will result in an error. Use `array.size > 0` to check that an array is not empty.\n",
      "  if diff:\n"
     ]
    },
    {
     "name": "stdout",
     "output_type": "stream",
     "text": [
      "[CV]  voting_cls__voting=hard, voting_cls__svm__gamma=0.001, voting_cls__svm__C=0.1, voting_cls__rfc__n_estimators=10, voting_cls__rfc__min_samples_split=5, score=0.4266320622878818, total= 2.7min\n",
      "[CV] voting_cls__voting=soft, voting_cls__svm__gamma=1, voting_cls__svm__C=1, voting_cls__rfc__n_estimators=10, voting_cls__rfc__min_samples_split=5 \n"
     ]
    },
    {
     "name": "stderr",
     "output_type": "stream",
     "text": [
      "/home/dks/anaconda3/lib/python3.5/site-packages/sklearn/preprocessing/label.py:151: DeprecationWarning: The truth value of an empty array is ambiguous. Returning False, but in future this will result in an error. Use `array.size > 0` to check that an array is not empty.\n",
      "  if diff:\n",
      "/home/dks/anaconda3/lib/python3.5/site-packages/sklearn/preprocessing/label.py:151: DeprecationWarning: The truth value of an empty array is ambiguous. Returning False, but in future this will result in an error. Use `array.size > 0` to check that an array is not empty.\n",
      "  if diff:\n",
      "/home/dks/anaconda3/lib/python3.5/site-packages/sklearn/preprocessing/label.py:151: DeprecationWarning: The truth value of an empty array is ambiguous. Returning False, but in future this will result in an error. Use `array.size > 0` to check that an array is not empty.\n",
      "  if diff:\n"
     ]
    },
    {
     "name": "stdout",
     "output_type": "stream",
     "text": [
      "[CV]  voting_cls__voting=hard, voting_cls__svm__gamma=0.001, voting_cls__svm__C=0.1, voting_cls__rfc__n_estimators=10, voting_cls__rfc__min_samples_split=5, score=0.42089492608869356, total= 2.7min\n",
      "[CV] voting_cls__voting=soft, voting_cls__svm__gamma=1, voting_cls__svm__C=1, voting_cls__rfc__n_estimators=10, voting_cls__rfc__min_samples_split=5 \n"
     ]
    },
    {
     "name": "stderr",
     "output_type": "stream",
     "text": [
      "/home/dks/anaconda3/lib/python3.5/site-packages/sklearn/preprocessing/label.py:151: DeprecationWarning: The truth value of an empty array is ambiguous. Returning False, but in future this will result in an error. Use `array.size > 0` to check that an array is not empty.\n",
      "  if diff:\n",
      "/home/dks/anaconda3/lib/python3.5/site-packages/sklearn/preprocessing/label.py:151: DeprecationWarning: The truth value of an empty array is ambiguous. Returning False, but in future this will result in an error. Use `array.size > 0` to check that an array is not empty.\n",
      "  if diff:\n"
     ]
    },
    {
     "name": "stdout",
     "output_type": "stream",
     "text": [
      "[CV]  voting_cls__voting=hard, voting_cls__svm__gamma=0.001, voting_cls__svm__C=0.1, voting_cls__rfc__n_estimators=10, voting_cls__rfc__min_samples_split=5, score=0.44722111155537786, total= 2.6min\n",
      "[CV] voting_cls__voting=hard, voting_cls__svm__gamma=0.01, voting_cls__svm__C=1, voting_cls__rfc__n_estimators=10, voting_cls__rfc__min_samples_split=5 \n"
     ]
    },
    {
     "name": "stderr",
     "output_type": "stream",
     "text": [
      "/home/dks/anaconda3/lib/python3.5/site-packages/sklearn/preprocessing/label.py:151: DeprecationWarning: The truth value of an empty array is ambiguous. Returning False, but in future this will result in an error. Use `array.size > 0` to check that an array is not empty.\n",
      "  if diff:\n",
      "/home/dks/anaconda3/lib/python3.5/site-packages/sklearn/preprocessing/label.py:151: DeprecationWarning: The truth value of an empty array is ambiguous. Returning False, but in future this will result in an error. Use `array.size > 0` to check that an array is not empty.\n",
      "  if diff:\n",
      "/home/dks/anaconda3/lib/python3.5/site-packages/sklearn/preprocessing/label.py:151: DeprecationWarning: The truth value of an empty array is ambiguous. Returning False, but in future this will result in an error. Use `array.size > 0` to check that an array is not empty.\n",
      "  if diff:\n"
     ]
    },
    {
     "name": "stdout",
     "output_type": "stream",
     "text": [
      "[CV]  voting_cls__voting=hard, voting_cls__svm__gamma=1, voting_cls__svm__C=1, voting_cls__rfc__n_estimators=10, voting_cls__rfc__min_samples_split=5, score=0.4567777999600719, total= 1.4min\n",
      "[CV] voting_cls__voting=hard, voting_cls__svm__gamma=0.01, voting_cls__svm__C=1, voting_cls__rfc__n_estimators=10, voting_cls__rfc__min_samples_split=5 \n"
     ]
    },
    {
     "name": "stderr",
     "output_type": "stream",
     "text": [
      "/home/dks/anaconda3/lib/python3.5/site-packages/sklearn/preprocessing/label.py:151: DeprecationWarning: The truth value of an empty array is ambiguous. Returning False, but in future this will result in an error. Use `array.size > 0` to check that an array is not empty.\n",
      "  if diff:\n"
     ]
    },
    {
     "name": "stdout",
     "output_type": "stream",
     "text": [
      "[CV]  voting_cls__voting=soft, voting_cls__svm__gamma=0.001, voting_cls__svm__C=0.1, voting_cls__rfc__n_estimators=10, voting_cls__rfc__min_samples_split=5, score=0.4885206628069475, total= 2.7min\n",
      "[CV] voting_cls__voting=hard, voting_cls__svm__gamma=0.01, voting_cls__svm__C=1, voting_cls__rfc__n_estimators=10, voting_cls__rfc__min_samples_split=5 \n"
     ]
    },
    {
     "name": "stderr",
     "output_type": "stream",
     "text": [
      "/home/dks/anaconda3/lib/python3.5/site-packages/sklearn/preprocessing/label.py:151: DeprecationWarning: The truth value of an empty array is ambiguous. Returning False, but in future this will result in an error. Use `array.size > 0` to check that an array is not empty.\n",
      "  if diff:\n",
      "/home/dks/anaconda3/lib/python3.5/site-packages/sklearn/preprocessing/label.py:151: DeprecationWarning: The truth value of an empty array is ambiguous. Returning False, but in future this will result in an error. Use `array.size > 0` to check that an array is not empty.\n",
      "  if diff:\n"
     ]
    },
    {
     "name": "stdout",
     "output_type": "stream",
     "text": [
      "[CV]  voting_cls__voting=hard, voting_cls__svm__gamma=1, voting_cls__svm__C=1, voting_cls__rfc__n_estimators=10, voting_cls__rfc__min_samples_split=5, score=0.45005992808629647, total= 1.4min\n",
      "[CV] voting_cls__voting=soft, voting_cls__svm__gamma=0.01, voting_cls__svm__C=1, voting_cls__rfc__n_estimators=10, voting_cls__rfc__min_samples_split=5 \n"
     ]
    },
    {
     "name": "stderr",
     "output_type": "stream",
     "text": [
      "/home/dks/anaconda3/lib/python3.5/site-packages/sklearn/preprocessing/label.py:151: DeprecationWarning: The truth value of an empty array is ambiguous. Returning False, but in future this will result in an error. Use `array.size > 0` to check that an array is not empty.\n",
      "  if diff:\n",
      "/home/dks/anaconda3/lib/python3.5/site-packages/sklearn/preprocessing/label.py:151: DeprecationWarning: The truth value of an empty array is ambiguous. Returning False, but in future this will result in an error. Use `array.size > 0` to check that an array is not empty.\n",
      "  if diff:\n",
      "/home/dks/anaconda3/lib/python3.5/site-packages/sklearn/preprocessing/label.py:151: DeprecationWarning: The truth value of an empty array is ambiguous. Returning False, but in future this will result in an error. Use `array.size > 0` to check that an array is not empty.\n",
      "  if diff:\n",
      "/home/dks/anaconda3/lib/python3.5/site-packages/sklearn/preprocessing/label.py:151: DeprecationWarning: The truth value of an empty array is ambiguous. Returning False, but in future this will result in an error. Use `array.size > 0` to check that an array is not empty.\n",
      "  if diff:\n"
     ]
    },
    {
     "name": "stdout",
     "output_type": "stream",
     "text": [
      "[CV]  voting_cls__voting=hard, voting_cls__svm__gamma=1, voting_cls__svm__C=1, voting_cls__rfc__n_estimators=10, voting_cls__rfc__min_samples_split=5, score=0.47181127548980406, total= 1.4min\n",
      "[CV] voting_cls__voting=soft, voting_cls__svm__gamma=0.01, voting_cls__svm__C=1, voting_cls__rfc__n_estimators=10, voting_cls__rfc__min_samples_split=5 \n"
     ]
    },
    {
     "name": "stderr",
     "output_type": "stream",
     "text": [
      "/home/dks/anaconda3/lib/python3.5/site-packages/sklearn/preprocessing/label.py:151: DeprecationWarning: The truth value of an empty array is ambiguous. Returning False, but in future this will result in an error. Use `array.size > 0` to check that an array is not empty.\n",
      "  if diff:\n"
     ]
    },
    {
     "name": "stdout",
     "output_type": "stream",
     "text": [
      "[CV]  voting_cls__voting=soft, voting_cls__svm__gamma=0.001, voting_cls__svm__C=0.1, voting_cls__rfc__n_estimators=10, voting_cls__rfc__min_samples_split=5, score=0.48381941669996004, total= 2.6min\n",
      "[CV] voting_cls__voting=soft, voting_cls__svm__gamma=0.01, voting_cls__svm__C=1, voting_cls__rfc__n_estimators=10, voting_cls__rfc__min_samples_split=5 \n"
     ]
    },
    {
     "name": "stderr",
     "output_type": "stream",
     "text": [
      "/home/dks/anaconda3/lib/python3.5/site-packages/sklearn/preprocessing/label.py:151: DeprecationWarning: The truth value of an empty array is ambiguous. Returning False, but in future this will result in an error. Use `array.size > 0` to check that an array is not empty.\n",
      "  if diff:\n"
     ]
    },
    {
     "name": "stdout",
     "output_type": "stream",
     "text": [
      "[CV]  voting_cls__voting=soft, voting_cls__svm__gamma=1, voting_cls__svm__C=1, voting_cls__rfc__n_estimators=10, voting_cls__rfc__min_samples_split=5, score=0.4977041325613895, total= 1.4min\n",
      "[CV] voting_cls__voting=hard, voting_cls__svm__gamma=0.001, voting_cls__svm__C=1, voting_cls__rfc__n_estimators=10, voting_cls__rfc__min_samples_split=5 \n"
     ]
    },
    {
     "name": "stderr",
     "output_type": "stream",
     "text": [
      "/home/dks/anaconda3/lib/python3.5/site-packages/sklearn/preprocessing/label.py:151: DeprecationWarning: The truth value of an empty array is ambiguous. Returning False, but in future this will result in an error. Use `array.size > 0` to check that an array is not empty.\n",
      "  if diff:\n",
      "/home/dks/anaconda3/lib/python3.5/site-packages/sklearn/preprocessing/label.py:151: DeprecationWarning: The truth value of an empty array is ambiguous. Returning False, but in future this will result in an error. Use `array.size > 0` to check that an array is not empty.\n",
      "  if diff:\n"
     ]
    },
    {
     "name": "stdout",
     "output_type": "stream",
     "text": [
      "[CV]  voting_cls__voting=soft, voting_cls__svm__gamma=0.001, voting_cls__svm__C=0.1, voting_cls__rfc__n_estimators=10, voting_cls__rfc__min_samples_split=5, score=0.4884046381447421, total= 2.6min\n",
      "[CV] voting_cls__voting=hard, voting_cls__svm__gamma=0.001, voting_cls__svm__C=1, voting_cls__rfc__n_estimators=10, voting_cls__rfc__min_samples_split=5 \n"
     ]
    },
    {
     "name": "stderr",
     "output_type": "stream",
     "text": [
      "/home/dks/anaconda3/lib/python3.5/site-packages/sklearn/preprocessing/label.py:151: DeprecationWarning: The truth value of an empty array is ambiguous. Returning False, but in future this will result in an error. Use `array.size > 0` to check that an array is not empty.\n",
      "  if diff:\n"
     ]
    },
    {
     "name": "stdout",
     "output_type": "stream",
     "text": [
      "[CV]  voting_cls__voting=hard, voting_cls__svm__gamma=0.0001, voting_cls__svm__C=0.1, voting_cls__rfc__n_estimators=10, voting_cls__rfc__min_samples_split=5, score=0.4320223597524456, total= 2.6min\n",
      "[CV] voting_cls__voting=hard, voting_cls__svm__gamma=0.001, voting_cls__svm__C=1, voting_cls__rfc__n_estimators=10, voting_cls__rfc__min_samples_split=5 \n"
     ]
    },
    {
     "name": "stderr",
     "output_type": "stream",
     "text": [
      "/home/dks/anaconda3/lib/python3.5/site-packages/sklearn/preprocessing/label.py:151: DeprecationWarning: The truth value of an empty array is ambiguous. Returning False, but in future this will result in an error. Use `array.size > 0` to check that an array is not empty.\n",
      "  if diff:\n",
      "/home/dks/anaconda3/lib/python3.5/site-packages/sklearn/preprocessing/label.py:151: DeprecationWarning: The truth value of an empty array is ambiguous. Returning False, but in future this will result in an error. Use `array.size > 0` to check that an array is not empty.\n",
      "  if diff:\n",
      "/home/dks/anaconda3/lib/python3.5/site-packages/sklearn/preprocessing/label.py:151: DeprecationWarning: The truth value of an empty array is ambiguous. Returning False, but in future this will result in an error. Use `array.size > 0` to check that an array is not empty.\n",
      "  if diff:\n",
      "/home/dks/anaconda3/lib/python3.5/site-packages/sklearn/preprocessing/label.py:151: DeprecationWarning: The truth value of an empty array is ambiguous. Returning False, but in future this will result in an error. Use `array.size > 0` to check that an array is not empty.\n",
      "  if diff:\n",
      "/home/dks/anaconda3/lib/python3.5/site-packages/sklearn/preprocessing/label.py:151: DeprecationWarning: The truth value of an empty array is ambiguous. Returning False, but in future this will result in an error. Use `array.size > 0` to check that an array is not empty.\n",
      "  if diff:\n"
     ]
    },
    {
     "name": "stdout",
     "output_type": "stream",
     "text": [
      "[CV]  voting_cls__voting=hard, voting_cls__svm__gamma=0.0001, voting_cls__svm__C=0.1, voting_cls__rfc__n_estimators=10, voting_cls__rfc__min_samples_split=5, score=0.4256891729924091, total= 2.7min\n",
      "[CV] voting_cls__voting=soft, voting_cls__svm__gamma=0.001, voting_cls__svm__C=1, voting_cls__rfc__n_estimators=10, voting_cls__rfc__min_samples_split=5 \n"
     ]
    },
    {
     "name": "stderr",
     "output_type": "stream",
     "text": [
      "/home/dks/anaconda3/lib/python3.5/site-packages/sklearn/preprocessing/label.py:151: DeprecationWarning: The truth value of an empty array is ambiguous. Returning False, but in future this will result in an error. Use `array.size > 0` to check that an array is not empty.\n",
      "  if diff:\n"
     ]
    },
    {
     "name": "stdout",
     "output_type": "stream",
     "text": [
      "[CV]  voting_cls__voting=soft, voting_cls__svm__gamma=0.0001, voting_cls__svm__C=0.1, voting_cls__rfc__n_estimators=10, voting_cls__rfc__min_samples_split=5, score=0.48452784987023356, total= 2.6min\n",
      "[CV] voting_cls__voting=soft, voting_cls__svm__gamma=0.001, voting_cls__svm__C=1, voting_cls__rfc__n_estimators=10, voting_cls__rfc__min_samples_split=5 \n"
     ]
    },
    {
     "name": "stderr",
     "output_type": "stream",
     "text": [
      "/home/dks/anaconda3/lib/python3.5/site-packages/sklearn/preprocessing/label.py:151: DeprecationWarning: The truth value of an empty array is ambiguous. Returning False, but in future this will result in an error. Use `array.size > 0` to check that an array is not empty.\n",
      "  if diff:\n",
      "/home/dks/anaconda3/lib/python3.5/site-packages/sklearn/preprocessing/label.py:151: DeprecationWarning: The truth value of an empty array is ambiguous. Returning False, but in future this will result in an error. Use `array.size > 0` to check that an array is not empty.\n",
      "  if diff:\n"
     ]
    },
    {
     "name": "stdout",
     "output_type": "stream",
     "text": [
      "[CV]  voting_cls__voting=hard, voting_cls__svm__gamma=0.0001, voting_cls__svm__C=0.1, voting_cls__rfc__n_estimators=10, voting_cls__rfc__min_samples_split=5, score=0.44742103158736507, total= 2.7min\n",
      "[CV] voting_cls__voting=soft, voting_cls__svm__gamma=0.001, voting_cls__svm__C=1, voting_cls__rfc__n_estimators=10, voting_cls__rfc__min_samples_split=5 \n"
     ]
    },
    {
     "name": "stderr",
     "output_type": "stream",
     "text": [
      "/home/dks/anaconda3/lib/python3.5/site-packages/sklearn/preprocessing/label.py:151: DeprecationWarning: The truth value of an empty array is ambiguous. Returning False, but in future this will result in an error. Use `array.size > 0` to check that an array is not empty.\n",
      "  if diff:\n",
      "/home/dks/anaconda3/lib/python3.5/site-packages/sklearn/preprocessing/label.py:151: DeprecationWarning: The truth value of an empty array is ambiguous. Returning False, but in future this will result in an error. Use `array.size > 0` to check that an array is not empty.\n",
      "  if diff:\n"
     ]
    },
    {
     "name": "stdout",
     "output_type": "stream",
     "text": [
      "[CV]  voting_cls__voting=soft, voting_cls__svm__gamma=1, voting_cls__svm__C=1, voting_cls__rfc__n_estimators=10, voting_cls__rfc__min_samples_split=5, score=0.49660407510986815, total= 1.3min\n",
      "[CV] voting_cls__voting=hard, voting_cls__svm__gamma=0.0001, voting_cls__svm__C=1, voting_cls__rfc__n_estimators=10, voting_cls__rfc__min_samples_split=5 \n"
     ]
    },
    {
     "name": "stderr",
     "output_type": "stream",
     "text": [
      "/home/dks/anaconda3/lib/python3.5/site-packages/sklearn/preprocessing/label.py:151: DeprecationWarning: The truth value of an empty array is ambiguous. Returning False, but in future this will result in an error. Use `array.size > 0` to check that an array is not empty.\n",
      "  if diff:\n",
      "/home/dks/anaconda3/lib/python3.5/site-packages/sklearn/preprocessing/label.py:151: DeprecationWarning: The truth value of an empty array is ambiguous. Returning False, but in future this will result in an error. Use `array.size > 0` to check that an array is not empty.\n",
      "  if diff:\n"
     ]
    },
    {
     "name": "stdout",
     "output_type": "stream",
     "text": [
      "[CV]  voting_cls__voting=soft, voting_cls__svm__gamma=0.0001, voting_cls__svm__C=0.1, voting_cls__rfc__n_estimators=10, voting_cls__rfc__min_samples_split=5, score=0.48461845785057933, total= 2.7min\n",
      "[CV] voting_cls__voting=hard, voting_cls__svm__gamma=0.0001, voting_cls__svm__C=1, voting_cls__rfc__n_estimators=10, voting_cls__rfc__min_samples_split=5 \n"
     ]
    },
    {
     "name": "stderr",
     "output_type": "stream",
     "text": [
      "/home/dks/anaconda3/lib/python3.5/site-packages/sklearn/preprocessing/label.py:151: DeprecationWarning: The truth value of an empty array is ambiguous. Returning False, but in future this will result in an error. Use `array.size > 0` to check that an array is not empty.\n",
      "  if diff:\n"
     ]
    },
    {
     "name": "stdout",
     "output_type": "stream",
     "text": [
      "[CV]  voting_cls__voting=soft, voting_cls__svm__gamma=0.0001, voting_cls__svm__C=0.1, voting_cls__rfc__n_estimators=10, voting_cls__rfc__min_samples_split=5, score=0.4886045581767293, total= 2.7min\n",
      "[CV] voting_cls__voting=hard, voting_cls__svm__gamma=0.0001, voting_cls__svm__C=1, voting_cls__rfc__n_estimators=10, voting_cls__rfc__min_samples_split=5 \n"
     ]
    },
    {
     "name": "stderr",
     "output_type": "stream",
     "text": [
      "/home/dks/anaconda3/lib/python3.5/site-packages/sklearn/preprocessing/label.py:151: DeprecationWarning: The truth value of an empty array is ambiguous. Returning False, but in future this will result in an error. Use `array.size > 0` to check that an array is not empty.\n",
      "  if diff:\n"
     ]
    },
    {
     "name": "stdout",
     "output_type": "stream",
     "text": [
      "[CV]  voting_cls__voting=soft, voting_cls__svm__gamma=1, voting_cls__svm__C=1, voting_cls__rfc__n_estimators=10, voting_cls__rfc__min_samples_split=5, score=0.499000399840064, total= 1.4min\n",
      "[CV] voting_cls__voting=soft, voting_cls__svm__gamma=0.0001, voting_cls__svm__C=1, voting_cls__rfc__n_estimators=10, voting_cls__rfc__min_samples_split=5 \n"
     ]
    },
    {
     "name": "stderr",
     "output_type": "stream",
     "text": [
      "/home/dks/anaconda3/lib/python3.5/site-packages/sklearn/preprocessing/label.py:151: DeprecationWarning: The truth value of an empty array is ambiguous. Returning False, but in future this will result in an error. Use `array.size > 0` to check that an array is not empty.\n",
      "  if diff:\n",
      "/home/dks/anaconda3/lib/python3.5/site-packages/sklearn/preprocessing/label.py:151: DeprecationWarning: The truth value of an empty array is ambiguous. Returning False, but in future this will result in an error. Use `array.size > 0` to check that an array is not empty.\n",
      "  if diff:\n"
     ]
    },
    {
     "name": "stdout",
     "output_type": "stream",
     "text": [
      "[CV]  voting_cls__voting=hard, voting_cls__svm__gamma=0.01, voting_cls__svm__C=1, voting_cls__rfc__n_estimators=10, voting_cls__rfc__min_samples_split=5, score=0.42164104611698944, total= 2.0min\n",
      "[CV] voting_cls__voting=soft, voting_cls__svm__gamma=0.0001, voting_cls__svm__C=1, voting_cls__rfc__n_estimators=10, voting_cls__rfc__min_samples_split=5 \n"
     ]
    },
    {
     "name": "stderr",
     "output_type": "stream",
     "text": [
      "/home/dks/anaconda3/lib/python3.5/site-packages/sklearn/preprocessing/label.py:151: DeprecationWarning: The truth value of an empty array is ambiguous. Returning False, but in future this will result in an error. Use `array.size > 0` to check that an array is not empty.\n",
      "  if diff:\n",
      "/home/dks/anaconda3/lib/python3.5/site-packages/sklearn/preprocessing/label.py:151: DeprecationWarning: The truth value of an empty array is ambiguous. Returning False, but in future this will result in an error. Use `array.size > 0` to check that an array is not empty.\n",
      "  if diff:\n",
      "/home/dks/anaconda3/lib/python3.5/site-packages/sklearn/preprocessing/label.py:151: DeprecationWarning: The truth value of an empty array is ambiguous. Returning False, but in future this will result in an error. Use `array.size > 0` to check that an array is not empty.\n",
      "  if diff:\n",
      "/home/dks/anaconda3/lib/python3.5/site-packages/sklearn/preprocessing/label.py:151: DeprecationWarning: The truth value of an empty array is ambiguous. Returning False, but in future this will result in an error. Use `array.size > 0` to check that an array is not empty.\n",
      "  if diff:\n"
     ]
    },
    {
     "name": "stdout",
     "output_type": "stream",
     "text": [
      "[CV]  voting_cls__voting=hard, voting_cls__svm__gamma=0.01, voting_cls__svm__C=1, voting_cls__rfc__n_estimators=10, voting_cls__rfc__min_samples_split=5, score=0.40751098681582104, total= 2.0min\n",
      "[CV] voting_cls__voting=soft, voting_cls__svm__gamma=0.0001, voting_cls__svm__C=1, voting_cls__rfc__n_estimators=10, voting_cls__rfc__min_samples_split=5 \n"
     ]
    },
    {
     "name": "stderr",
     "output_type": "stream",
     "text": [
      "/home/dks/anaconda3/lib/python3.5/site-packages/sklearn/preprocessing/label.py:151: DeprecationWarning: The truth value of an empty array is ambiguous. Returning False, but in future this will result in an error. Use `array.size > 0` to check that an array is not empty.\n",
      "  if diff:\n"
     ]
    },
    {
     "name": "stdout",
     "output_type": "stream",
     "text": [
      "[CV]  voting_cls__voting=soft, voting_cls__svm__gamma=0.01, voting_cls__svm__C=1, voting_cls__rfc__n_estimators=10, voting_cls__rfc__min_samples_split=5, score=0.4887203034537832, total= 2.0min\n",
      "[CV] voting_cls__voting=hard, voting_cls__svm__gamma=1, voting_cls__svm__C=100, voting_cls__rfc__n_estimators=10, voting_cls__rfc__min_samples_split=5 \n"
     ]
    },
    {
     "name": "stderr",
     "output_type": "stream",
     "text": [
      "/home/dks/anaconda3/lib/python3.5/site-packages/sklearn/preprocessing/label.py:151: DeprecationWarning: The truth value of an empty array is ambiguous. Returning False, but in future this will result in an error. Use `array.size > 0` to check that an array is not empty.\n",
      "  if diff:\n",
      "/home/dks/anaconda3/lib/python3.5/site-packages/sklearn/preprocessing/label.py:151: DeprecationWarning: The truth value of an empty array is ambiguous. Returning False, but in future this will result in an error. Use `array.size > 0` to check that an array is not empty.\n",
      "  if diff:\n",
      "/home/dks/anaconda3/lib/python3.5/site-packages/sklearn/preprocessing/label.py:151: DeprecationWarning: The truth value of an empty array is ambiguous. Returning False, but in future this will result in an error. Use `array.size > 0` to check that an array is not empty.\n",
      "  if diff:\n"
     ]
    },
    {
     "name": "stdout",
     "output_type": "stream",
     "text": [
      "[CV]  voting_cls__voting=hard, voting_cls__svm__gamma=0.01, voting_cls__svm__C=1, voting_cls__rfc__n_estimators=10, voting_cls__rfc__min_samples_split=5, score=0.4334266293482607, total= 2.1min\n",
      "[CV] voting_cls__voting=hard, voting_cls__svm__gamma=1, voting_cls__svm__C=100, voting_cls__rfc__n_estimators=10, voting_cls__rfc__min_samples_split=5 \n"
     ]
    },
    {
     "name": "stderr",
     "output_type": "stream",
     "text": [
      "/home/dks/anaconda3/lib/python3.5/site-packages/sklearn/preprocessing/label.py:151: DeprecationWarning: The truth value of an empty array is ambiguous. Returning False, but in future this will result in an error. Use `array.size > 0` to check that an array is not empty.\n",
      "  if diff:\n"
     ]
    },
    {
     "name": "stdout",
     "output_type": "stream",
     "text": [
      "[CV]  voting_cls__voting=soft, voting_cls__svm__gamma=0.01, voting_cls__svm__C=1, voting_cls__rfc__n_estimators=10, voting_cls__rfc__min_samples_split=5, score=0.48561725928885335, total= 2.0min\n",
      "[CV] voting_cls__voting=hard, voting_cls__svm__gamma=1, voting_cls__svm__C=100, voting_cls__rfc__n_estimators=10, voting_cls__rfc__min_samples_split=5 \n"
     ]
    },
    {
     "name": "stderr",
     "output_type": "stream",
     "text": [
      "/home/dks/anaconda3/lib/python3.5/site-packages/sklearn/preprocessing/label.py:151: DeprecationWarning: The truth value of an empty array is ambiguous. Returning False, but in future this will result in an error. Use `array.size > 0` to check that an array is not empty.\n",
      "  if diff:\n"
     ]
    },
    {
     "name": "stdout",
     "output_type": "stream",
     "text": [
      "[CV]  voting_cls__voting=soft, voting_cls__svm__gamma=0.01, voting_cls__svm__C=1, voting_cls__rfc__n_estimators=10, voting_cls__rfc__min_samples_split=5, score=0.48640543782487006, total= 2.0min\n",
      "[CV] voting_cls__voting=soft, voting_cls__svm__gamma=1, voting_cls__svm__C=100, voting_cls__rfc__n_estimators=10, voting_cls__rfc__min_samples_split=5 \n"
     ]
    },
    {
     "name": "stderr",
     "output_type": "stream",
     "text": [
      "/home/dks/anaconda3/lib/python3.5/site-packages/sklearn/preprocessing/label.py:151: DeprecationWarning: The truth value of an empty array is ambiguous. Returning False, but in future this will result in an error. Use `array.size > 0` to check that an array is not empty.\n",
      "  if diff:\n",
      "/home/dks/anaconda3/lib/python3.5/site-packages/sklearn/preprocessing/label.py:151: DeprecationWarning: The truth value of an empty array is ambiguous. Returning False, but in future this will result in an error. Use `array.size > 0` to check that an array is not empty.\n",
      "  if diff:\n",
      "/home/dks/anaconda3/lib/python3.5/site-packages/sklearn/preprocessing/label.py:151: DeprecationWarning: The truth value of an empty array is ambiguous. Returning False, but in future this will result in an error. Use `array.size > 0` to check that an array is not empty.\n",
      "  if diff:\n"
     ]
    },
    {
     "name": "stdout",
     "output_type": "stream",
     "text": [
      "[CV]  voting_cls__voting=hard, voting_cls__svm__gamma=0.001, voting_cls__svm__C=1, voting_cls__rfc__n_estimators=10, voting_cls__rfc__min_samples_split=5, score=0.39988021561189857, total= 2.6min\n",
      "[CV] voting_cls__voting=soft, voting_cls__svm__gamma=1, voting_cls__svm__C=100, voting_cls__rfc__n_estimators=10, voting_cls__rfc__min_samples_split=5 \n"
     ]
    },
    {
     "name": "stderr",
     "output_type": "stream",
     "text": [
      "/home/dks/anaconda3/lib/python3.5/site-packages/sklearn/preprocessing/label.py:151: DeprecationWarning: The truth value of an empty array is ambiguous. Returning False, but in future this will result in an error. Use `array.size > 0` to check that an array is not empty.\n",
      "  if diff:\n",
      "/home/dks/anaconda3/lib/python3.5/site-packages/sklearn/preprocessing/label.py:151: DeprecationWarning: The truth value of an empty array is ambiguous. Returning False, but in future this will result in an error. Use `array.size > 0` to check that an array is not empty.\n",
      "  if diff:\n"
     ]
    },
    {
     "name": "stdout",
     "output_type": "stream",
     "text": [
      "[CV]  voting_cls__voting=hard, voting_cls__svm__gamma=0.001, voting_cls__svm__C=1, voting_cls__rfc__n_estimators=10, voting_cls__rfc__min_samples_split=5, score=0.3927287255293648, total= 2.6min\n",
      "[CV] voting_cls__voting=soft, voting_cls__svm__gamma=1, voting_cls__svm__C=100, voting_cls__rfc__n_estimators=10, voting_cls__rfc__min_samples_split=5 \n"
     ]
    },
    {
     "name": "stderr",
     "output_type": "stream",
     "text": [
      "/home/dks/anaconda3/lib/python3.5/site-packages/sklearn/preprocessing/label.py:151: DeprecationWarning: The truth value of an empty array is ambiguous. Returning False, but in future this will result in an error. Use `array.size > 0` to check that an array is not empty.\n",
      "  if diff:\n"
     ]
    },
    {
     "name": "stdout",
     "output_type": "stream",
     "text": [
      "[CV]  voting_cls__voting=hard, voting_cls__svm__gamma=0.001, voting_cls__svm__C=1, voting_cls__rfc__n_estimators=10, voting_cls__rfc__min_samples_split=5, score=0.4228308676529388, total= 2.6min\n",
      "[CV] voting_cls__voting=hard, voting_cls__svm__gamma=0.01, voting_cls__svm__C=100, voting_cls__rfc__n_estimators=10, voting_cls__rfc__min_samples_split=5 \n"
     ]
    },
    {
     "name": "stderr",
     "output_type": "stream",
     "text": [
      "/home/dks/anaconda3/lib/python3.5/site-packages/sklearn/preprocessing/label.py:151: DeprecationWarning: The truth value of an empty array is ambiguous. Returning False, but in future this will result in an error. Use `array.size > 0` to check that an array is not empty.\n",
      "  if diff:\n",
      "/home/dks/anaconda3/lib/python3.5/site-packages/sklearn/preprocessing/label.py:151: DeprecationWarning: The truth value of an empty array is ambiguous. Returning False, but in future this will result in an error. Use `array.size > 0` to check that an array is not empty.\n",
      "  if diff:\n",
      "/home/dks/anaconda3/lib/python3.5/site-packages/sklearn/preprocessing/label.py:151: DeprecationWarning: The truth value of an empty array is ambiguous. Returning False, but in future this will result in an error. Use `array.size > 0` to check that an array is not empty.\n",
      "  if diff:\n",
      "/home/dks/anaconda3/lib/python3.5/site-packages/sklearn/preprocessing/label.py:151: DeprecationWarning: The truth value of an empty array is ambiguous. Returning False, but in future this will result in an error. Use `array.size > 0` to check that an array is not empty.\n",
      "  if diff:\n",
      "/home/dks/anaconda3/lib/python3.5/site-packages/sklearn/preprocessing/label.py:151: DeprecationWarning: The truth value of an empty array is ambiguous. Returning False, but in future this will result in an error. Use `array.size > 0` to check that an array is not empty.\n",
      "  if diff:\n"
     ]
    },
    {
     "name": "stdout",
     "output_type": "stream",
     "text": [
      "[CV]  voting_cls__voting=soft, voting_cls__svm__gamma=0.001, voting_cls__svm__C=1, voting_cls__rfc__n_estimators=10, voting_cls__rfc__min_samples_split=5, score=0.4889199441006189, total= 2.6min\n",
      "[CV] voting_cls__voting=hard, voting_cls__svm__gamma=0.01, voting_cls__svm__C=100, voting_cls__rfc__n_estimators=10, voting_cls__rfc__min_samples_split=5 \n"
     ]
    },
    {
     "name": "stderr",
     "output_type": "stream",
     "text": [
      "/home/dks/anaconda3/lib/python3.5/site-packages/sklearn/preprocessing/label.py:151: DeprecationWarning: The truth value of an empty array is ambiguous. Returning False, but in future this will result in an error. Use `array.size > 0` to check that an array is not empty.\n",
      "  if diff:\n",
      "/home/dks/anaconda3/lib/python3.5/site-packages/sklearn/preprocessing/label.py:151: DeprecationWarning: The truth value of an empty array is ambiguous. Returning False, but in future this will result in an error. Use `array.size > 0` to check that an array is not empty.\n",
      "  if diff:\n"
     ]
    },
    {
     "name": "stdout",
     "output_type": "stream",
     "text": [
      "[CV]  voting_cls__voting=soft, voting_cls__svm__gamma=0.001, voting_cls__svm__C=1, voting_cls__rfc__n_estimators=10, voting_cls__rfc__min_samples_split=5, score=0.48601677986416303, total= 2.6min\n",
      "[CV] voting_cls__voting=hard, voting_cls__svm__gamma=0.01, voting_cls__svm__C=100, voting_cls__rfc__n_estimators=10, voting_cls__rfc__min_samples_split=5 \n"
     ]
    },
    {
     "name": "stderr",
     "output_type": "stream",
     "text": [
      "/home/dks/anaconda3/lib/python3.5/site-packages/sklearn/preprocessing/label.py:151: DeprecationWarning: The truth value of an empty array is ambiguous. Returning False, but in future this will result in an error. Use `array.size > 0` to check that an array is not empty.\n",
      "  if diff:\n"
     ]
    },
    {
     "name": "stdout",
     "output_type": "stream",
     "text": [
      "[CV]  voting_cls__voting=soft, voting_cls__svm__gamma=0.001, voting_cls__svm__C=1, voting_cls__rfc__n_estimators=10, voting_cls__rfc__min_samples_split=5, score=0.4878048780487805, total= 2.6min\n",
      "[CV] voting_cls__voting=soft, voting_cls__svm__gamma=0.01, voting_cls__svm__C=100, voting_cls__rfc__n_estimators=10, voting_cls__rfc__min_samples_split=5 \n"
     ]
    },
    {
     "name": "stderr",
     "output_type": "stream",
     "text": [
      "/home/dks/anaconda3/lib/python3.5/site-packages/sklearn/preprocessing/label.py:151: DeprecationWarning: The truth value of an empty array is ambiguous. Returning False, but in future this will result in an error. Use `array.size > 0` to check that an array is not empty.\n",
      "  if diff:\n",
      "/home/dks/anaconda3/lib/python3.5/site-packages/sklearn/preprocessing/label.py:151: DeprecationWarning: The truth value of an empty array is ambiguous. Returning False, but in future this will result in an error. Use `array.size > 0` to check that an array is not empty.\n",
      "  if diff:\n"
     ]
    },
    {
     "name": "stdout",
     "output_type": "stream",
     "text": [
      "[CV]  voting_cls__voting=hard, voting_cls__svm__gamma=0.0001, voting_cls__svm__C=1, voting_cls__rfc__n_estimators=10, voting_cls__rfc__min_samples_split=5, score=0.36035136753843083, total= 2.6min\n",
      "[CV] voting_cls__voting=soft, voting_cls__svm__gamma=0.01, voting_cls__svm__C=100, voting_cls__rfc__n_estimators=10, voting_cls__rfc__min_samples_split=5 \n"
     ]
    },
    {
     "name": "stderr",
     "output_type": "stream",
     "text": [
      "/home/dks/anaconda3/lib/python3.5/site-packages/sklearn/preprocessing/label.py:151: DeprecationWarning: The truth value of an empty array is ambiguous. Returning False, but in future this will result in an error. Use `array.size > 0` to check that an array is not empty.\n",
      "  if diff:\n",
      "/home/dks/anaconda3/lib/python3.5/site-packages/sklearn/preprocessing/label.py:151: DeprecationWarning: The truth value of an empty array is ambiguous. Returning False, but in future this will result in an error. Use `array.size > 0` to check that an array is not empty.\n",
      "  if diff:\n"
     ]
    },
    {
     "name": "stdout",
     "output_type": "stream",
     "text": [
      "[CV]  voting_cls__voting=hard, voting_cls__svm__gamma=0.0001, voting_cls__svm__C=1, voting_cls__rfc__n_estimators=10, voting_cls__rfc__min_samples_split=5, score=0.33180183779464645, total= 2.6min\n",
      "[CV] voting_cls__voting=soft, voting_cls__svm__gamma=0.01, voting_cls__svm__C=100, voting_cls__rfc__n_estimators=10, voting_cls__rfc__min_samples_split=5 \n"
     ]
    },
    {
     "name": "stderr",
     "output_type": "stream",
     "text": [
      "/home/dks/anaconda3/lib/python3.5/site-packages/sklearn/preprocessing/label.py:151: DeprecationWarning: The truth value of an empty array is ambiguous. Returning False, but in future this will result in an error. Use `array.size > 0` to check that an array is not empty.\n",
      "  if diff:\n"
     ]
    },
    {
     "name": "stdout",
     "output_type": "stream",
     "text": [
      "[CV]  voting_cls__voting=hard, voting_cls__svm__gamma=0.0001, voting_cls__svm__C=1, voting_cls__rfc__n_estimators=10, voting_cls__rfc__min_samples_split=5, score=0.4318272690923631, total= 2.6min\n",
      "[CV] voting_cls__voting=hard, voting_cls__svm__gamma=0.001, voting_cls__svm__C=100, voting_cls__rfc__n_estimators=10, voting_cls__rfc__min_samples_split=5 \n"
     ]
    },
    {
     "name": "stderr",
     "output_type": "stream",
     "text": [
      "/home/dks/anaconda3/lib/python3.5/site-packages/sklearn/preprocessing/label.py:151: DeprecationWarning: The truth value of an empty array is ambiguous. Returning False, but in future this will result in an error. Use `array.size > 0` to check that an array is not empty.\n",
      "  if diff:\n"
     ]
    },
    {
     "name": "stdout",
     "output_type": "stream",
     "text": [
      "[CV]  voting_cls__voting=soft, voting_cls__svm__gamma=0.0001, voting_cls__svm__C=1, voting_cls__rfc__n_estimators=10, voting_cls__rfc__min_samples_split=5, score=0.48632461569175484, total= 2.6min\n",
      "[CV] voting_cls__voting=hard, voting_cls__svm__gamma=0.001, voting_cls__svm__C=100, voting_cls__rfc__n_estimators=10, voting_cls__rfc__min_samples_split=5 \n"
     ]
    },
    {
     "name": "stderr",
     "output_type": "stream",
     "text": [
      "/home/dks/anaconda3/lib/python3.5/site-packages/sklearn/preprocessing/label.py:151: DeprecationWarning: The truth value of an empty array is ambiguous. Returning False, but in future this will result in an error. Use `array.size > 0` to check that an array is not empty.\n",
      "  if diff:\n",
      "/home/dks/anaconda3/lib/python3.5/site-packages/sklearn/preprocessing/label.py:151: DeprecationWarning: The truth value of an empty array is ambiguous. Returning False, but in future this will result in an error. Use `array.size > 0` to check that an array is not empty.\n",
      "  if diff:\n",
      "/home/dks/anaconda3/lib/python3.5/site-packages/sklearn/preprocessing/label.py:151: DeprecationWarning: The truth value of an empty array is ambiguous. Returning False, but in future this will result in an error. Use `array.size > 0` to check that an array is not empty.\n",
      "  if diff:\n",
      "/home/dks/anaconda3/lib/python3.5/site-packages/sklearn/preprocessing/label.py:151: DeprecationWarning: The truth value of an empty array is ambiguous. Returning False, but in future this will result in an error. Use `array.size > 0` to check that an array is not empty.\n",
      "  if diff:\n",
      "/home/dks/anaconda3/lib/python3.5/site-packages/sklearn/preprocessing/label.py:151: DeprecationWarning: The truth value of an empty array is ambiguous. Returning False, but in future this will result in an error. Use `array.size > 0` to check that an array is not empty.\n",
      "  if diff:\n"
     ]
    },
    {
     "name": "stdout",
     "output_type": "stream",
     "text": [
      "[CV]  voting_cls__voting=hard, voting_cls__svm__gamma=1, voting_cls__svm__C=100, voting_cls__rfc__n_estimators=10, voting_cls__rfc__min_samples_split=5, score=0.4660407510986816, total= 2.3min\n",
      "[CV] voting_cls__voting=hard, voting_cls__svm__gamma=0.001, voting_cls__svm__C=100, voting_cls__rfc__n_estimators=10, voting_cls__rfc__min_samples_split=5 \n"
     ]
    },
    {
     "name": "stderr",
     "output_type": "stream",
     "text": [
      "/home/dks/anaconda3/lib/python3.5/site-packages/sklearn/preprocessing/label.py:151: DeprecationWarning: The truth value of an empty array is ambiguous. Returning False, but in future this will result in an error. Use `array.size > 0` to check that an array is not empty.\n",
      "  if diff:\n",
      "/home/dks/anaconda3/lib/python3.5/site-packages/sklearn/preprocessing/label.py:151: DeprecationWarning: The truth value of an empty array is ambiguous. Returning False, but in future this will result in an error. Use `array.size > 0` to check that an array is not empty.\n",
      "  if diff:\n",
      "/home/dks/anaconda3/lib/python3.5/site-packages/sklearn/preprocessing/label.py:151: DeprecationWarning: The truth value of an empty array is ambiguous. Returning False, but in future this will result in an error. Use `array.size > 0` to check that an array is not empty.\n",
      "  if diff:\n"
     ]
    },
    {
     "name": "stdout",
     "output_type": "stream",
     "text": [
      "[CV]  voting_cls__voting=hard, voting_cls__svm__gamma=1, voting_cls__svm__C=100, voting_cls__rfc__n_estimators=10, voting_cls__rfc__min_samples_split=5, score=0.46356558195248554, total= 2.4min\n",
      "[CV] voting_cls__voting=soft, voting_cls__svm__gamma=0.001, voting_cls__svm__C=100, voting_cls__rfc__n_estimators=10, voting_cls__rfc__min_samples_split=5 \n"
     ]
    },
    {
     "name": "stderr",
     "output_type": "stream",
     "text": [
      "/home/dks/anaconda3/lib/python3.5/site-packages/sklearn/preprocessing/label.py:151: DeprecationWarning: The truth value of an empty array is ambiguous. Returning False, but in future this will result in an error. Use `array.size > 0` to check that an array is not empty.\n",
      "  if diff:\n"
     ]
    },
    {
     "name": "stdout",
     "output_type": "stream",
     "text": [
      "[CV]  voting_cls__voting=soft, voting_cls__svm__gamma=0.0001, voting_cls__svm__C=1, voting_cls__rfc__n_estimators=10, voting_cls__rfc__min_samples_split=5, score=0.4858170195765082, total= 2.6min\n",
      "[CV] voting_cls__voting=soft, voting_cls__svm__gamma=0.001, voting_cls__svm__C=100, voting_cls__rfc__n_estimators=10, voting_cls__rfc__min_samples_split=5 \n"
     ]
    },
    {
     "name": "stderr",
     "output_type": "stream",
     "text": [
      "/home/dks/anaconda3/lib/python3.5/site-packages/sklearn/preprocessing/label.py:151: DeprecationWarning: The truth value of an empty array is ambiguous. Returning False, but in future this will result in an error. Use `array.size > 0` to check that an array is not empty.\n",
      "  if diff:\n",
      "/home/dks/anaconda3/lib/python3.5/site-packages/sklearn/preprocessing/label.py:151: DeprecationWarning: The truth value of an empty array is ambiguous. Returning False, but in future this will result in an error. Use `array.size > 0` to check that an array is not empty.\n",
      "  if diff:\n"
     ]
    },
    {
     "name": "stdout",
     "output_type": "stream",
     "text": [
      "[CV]  voting_cls__voting=hard, voting_cls__svm__gamma=0.01, voting_cls__svm__C=100, voting_cls__rfc__n_estimators=10, voting_cls__rfc__min_samples_split=5, score=0.44240367338790176, total= 1.4min\n",
      "[CV] voting_cls__voting=soft, voting_cls__svm__gamma=0.001, voting_cls__svm__C=100, voting_cls__rfc__n_estimators=10, voting_cls__rfc__min_samples_split=5 \n"
     ]
    },
    {
     "name": "stderr",
     "output_type": "stream",
     "text": [
      "/home/dks/anaconda3/lib/python3.5/site-packages/sklearn/preprocessing/label.py:151: DeprecationWarning: The truth value of an empty array is ambiguous. Returning False, but in future this will result in an error. Use `array.size > 0` to check that an array is not empty.\n",
      "  if diff:\n"
     ]
    },
    {
     "name": "stdout",
     "output_type": "stream",
     "text": [
      "[CV]  voting_cls__voting=soft, voting_cls__svm__gamma=1, voting_cls__svm__C=100, voting_cls__rfc__n_estimators=10, voting_cls__rfc__min_samples_split=5, score=0.5054901177879816, total= 2.4min\n",
      "[CV] voting_cls__voting=hard, voting_cls__svm__gamma=0.0001, voting_cls__svm__C=100, voting_cls__rfc__n_estimators=10, voting_cls__rfc__min_samples_split=5 \n"
     ]
    },
    {
     "name": "stderr",
     "output_type": "stream",
     "text": [
      "/home/dks/anaconda3/lib/python3.5/site-packages/sklearn/preprocessing/label.py:151: DeprecationWarning: The truth value of an empty array is ambiguous. Returning False, but in future this will result in an error. Use `array.size > 0` to check that an array is not empty.\n",
      "  if diff:\n"
     ]
    },
    {
     "name": "stdout",
     "output_type": "stream",
     "text": [
      "[CV]  voting_cls__voting=soft, voting_cls__svm__gamma=0.0001, voting_cls__svm__C=1, voting_cls__rfc__n_estimators=10, voting_cls__rfc__min_samples_split=5, score=0.485405837664934, total= 2.6min\n",
      "[CV] voting_cls__voting=hard, voting_cls__svm__gamma=0.0001, voting_cls__svm__C=100, voting_cls__rfc__n_estimators=10, voting_cls__rfc__min_samples_split=5 \n"
     ]
    },
    {
     "name": "stderr",
     "output_type": "stream",
     "text": [
      "/home/dks/anaconda3/lib/python3.5/site-packages/sklearn/preprocessing/label.py:151: DeprecationWarning: The truth value of an empty array is ambiguous. Returning False, but in future this will result in an error. Use `array.size > 0` to check that an array is not empty.\n",
      "  if diff:\n"
     ]
    },
    {
     "name": "stdout",
     "output_type": "stream",
     "text": [
      "[CV]  voting_cls__voting=hard, voting_cls__svm__gamma=1, voting_cls__svm__C=100, voting_cls__rfc__n_estimators=10, voting_cls__rfc__min_samples_split=5, score=0.47560975609756095, total= 2.4min\n",
      "[CV] voting_cls__voting=hard, voting_cls__svm__gamma=0.0001, voting_cls__svm__C=100, voting_cls__rfc__n_estimators=10, voting_cls__rfc__min_samples_split=5 \n"
     ]
    },
    {
     "name": "stderr",
     "output_type": "stream",
     "text": [
      "/home/dks/anaconda3/lib/python3.5/site-packages/sklearn/preprocessing/label.py:151: DeprecationWarning: The truth value of an empty array is ambiguous. Returning False, but in future this will result in an error. Use `array.size > 0` to check that an array is not empty.\n",
      "  if diff:\n",
      "/home/dks/anaconda3/lib/python3.5/site-packages/sklearn/preprocessing/label.py:151: DeprecationWarning: The truth value of an empty array is ambiguous. Returning False, but in future this will result in an error. Use `array.size > 0` to check that an array is not empty.\n",
      "  if diff:\n",
      "/home/dks/anaconda3/lib/python3.5/site-packages/sklearn/preprocessing/label.py:151: DeprecationWarning: The truth value of an empty array is ambiguous. Returning False, but in future this will result in an error. Use `array.size > 0` to check that an array is not empty.\n",
      "  if diff:\n",
      "/home/dks/anaconda3/lib/python3.5/site-packages/sklearn/preprocessing/label.py:151: DeprecationWarning: The truth value of an empty array is ambiguous. Returning False, but in future this will result in an error. Use `array.size > 0` to check that an array is not empty.\n",
      "  if diff:\n",
      "/home/dks/anaconda3/lib/python3.5/site-packages/sklearn/preprocessing/label.py:151: DeprecationWarning: The truth value of an empty array is ambiguous. Returning False, but in future this will result in an error. Use `array.size > 0` to check that an array is not empty.\n",
      "  if diff:\n"
     ]
    },
    {
     "name": "stdout",
     "output_type": "stream",
     "text": [
      "[CV]  voting_cls__voting=hard, voting_cls__svm__gamma=0.01, voting_cls__svm__C=100, voting_cls__rfc__n_estimators=10, voting_cls__rfc__min_samples_split=5, score=0.444067119456652, total= 1.4min\n",
      "[CV] voting_cls__voting=soft, voting_cls__svm__gamma=0.0001, voting_cls__svm__C=100, voting_cls__rfc__n_estimators=10, voting_cls__rfc__min_samples_split=5 \n"
     ]
    },
    {
     "name": "stderr",
     "output_type": "stream",
     "text": [
      "/home/dks/anaconda3/lib/python3.5/site-packages/sklearn/preprocessing/label.py:151: DeprecationWarning: The truth value of an empty array is ambiguous. Returning False, but in future this will result in an error. Use `array.size > 0` to check that an array is not empty.\n",
      "  if diff:\n",
      "/home/dks/anaconda3/lib/python3.5/site-packages/sklearn/preprocessing/label.py:151: DeprecationWarning: The truth value of an empty array is ambiguous. Returning False, but in future this will result in an error. Use `array.size > 0` to check that an array is not empty.\n",
      "  if diff:\n"
     ]
    },
    {
     "name": "stdout",
     "output_type": "stream",
     "text": [
      "[CV]  voting_cls__voting=hard, voting_cls__svm__gamma=0.01, voting_cls__svm__C=100, voting_cls__rfc__n_estimators=10, voting_cls__rfc__min_samples_split=5, score=0.4540183926429428, total= 1.4min\n",
      "[CV] voting_cls__voting=soft, voting_cls__svm__gamma=0.0001, voting_cls__svm__C=100, voting_cls__rfc__n_estimators=10, voting_cls__rfc__min_samples_split=5 \n"
     ]
    },
    {
     "name": "stderr",
     "output_type": "stream",
     "text": [
      "/home/dks/anaconda3/lib/python3.5/site-packages/sklearn/preprocessing/label.py:151: DeprecationWarning: The truth value of an empty array is ambiguous. Returning False, but in future this will result in an error. Use `array.size > 0` to check that an array is not empty.\n",
      "  if diff:\n",
      "/home/dks/anaconda3/lib/python3.5/site-packages/sklearn/preprocessing/label.py:151: DeprecationWarning: The truth value of an empty array is ambiguous. Returning False, but in future this will result in an error. Use `array.size > 0` to check that an array is not empty.\n",
      "  if diff:\n"
     ]
    },
    {
     "name": "stdout",
     "output_type": "stream",
     "text": [
      "[CV]  voting_cls__voting=soft, voting_cls__svm__gamma=0.01, voting_cls__svm__C=100, voting_cls__rfc__n_estimators=10, voting_cls__rfc__min_samples_split=5, score=0.4995008983829108, total= 1.4min\n",
      "[CV] voting_cls__voting=soft, voting_cls__svm__gamma=0.0001, voting_cls__svm__C=100, voting_cls__rfc__n_estimators=10, voting_cls__rfc__min_samples_split=5 \n"
     ]
    },
    {
     "name": "stderr",
     "output_type": "stream",
     "text": [
      "/home/dks/anaconda3/lib/python3.5/site-packages/sklearn/preprocessing/label.py:151: DeprecationWarning: The truth value of an empty array is ambiguous. Returning False, but in future this will result in an error. Use `array.size > 0` to check that an array is not empty.\n",
      "  if diff:\n"
     ]
    },
    {
     "name": "stdout",
     "output_type": "stream",
     "text": [
      "[CV]  voting_cls__voting=soft, voting_cls__svm__gamma=0.01, voting_cls__svm__C=100, voting_cls__rfc__n_estimators=10, voting_cls__rfc__min_samples_split=5, score=0.4944067119456652, total= 1.4min\n",
      "[CV] voting_cls__voting=hard, voting_cls__svm__gamma=1, voting_cls__svm__C=1000, voting_cls__rfc__n_estimators=10, voting_cls__rfc__min_samples_split=5 \n"
     ]
    },
    {
     "name": "stderr",
     "output_type": "stream",
     "text": [
      "/home/dks/anaconda3/lib/python3.5/site-packages/sklearn/preprocessing/label.py:151: DeprecationWarning: The truth value of an empty array is ambiguous. Returning False, but in future this will result in an error. Use `array.size > 0` to check that an array is not empty.\n",
      "  if diff:\n"
     ]
    },
    {
     "name": "stdout",
     "output_type": "stream",
     "text": [
      "[CV]  voting_cls__voting=soft, voting_cls__svm__gamma=0.01, voting_cls__svm__C=100, voting_cls__rfc__n_estimators=10, voting_cls__rfc__min_samples_split=5, score=0.4960015993602559, total= 1.4min\n",
      "[CV] voting_cls__voting=hard, voting_cls__svm__gamma=1, voting_cls__svm__C=1000, voting_cls__rfc__n_estimators=10, voting_cls__rfc__min_samples_split=5 \n"
     ]
    },
    {
     "name": "stderr",
     "output_type": "stream",
     "text": [
      "/home/dks/anaconda3/lib/python3.5/site-packages/sklearn/preprocessing/label.py:151: DeprecationWarning: The truth value of an empty array is ambiguous. Returning False, but in future this will result in an error. Use `array.size > 0` to check that an array is not empty.\n",
      "  if diff:\n",
      "/home/dks/anaconda3/lib/python3.5/site-packages/sklearn/preprocessing/label.py:151: DeprecationWarning: The truth value of an empty array is ambiguous. Returning False, but in future this will result in an error. Use `array.size > 0` to check that an array is not empty.\n",
      "  if diff:\n"
     ]
    },
    {
     "name": "stdout",
     "output_type": "stream",
     "text": [
      "[CV]  voting_cls__voting=soft, voting_cls__svm__gamma=1, voting_cls__svm__C=100, voting_cls__rfc__n_estimators=10, voting_cls__rfc__min_samples_split=5, score=0.5015980823012385, total= 2.3min\n",
      "[CV] voting_cls__voting=hard, voting_cls__svm__gamma=1, voting_cls__svm__C=1000, voting_cls__rfc__n_estimators=10, voting_cls__rfc__min_samples_split=5 \n"
     ]
    },
    {
     "name": "stderr",
     "output_type": "stream",
     "text": [
      "/home/dks/anaconda3/lib/python3.5/site-packages/sklearn/preprocessing/label.py:151: DeprecationWarning: The truth value of an empty array is ambiguous. Returning False, but in future this will result in an error. Use `array.size > 0` to check that an array is not empty.\n",
      "  if diff:\n",
      "/home/dks/anaconda3/lib/python3.5/site-packages/sklearn/preprocessing/label.py:151: DeprecationWarning: The truth value of an empty array is ambiguous. Returning False, but in future this will result in an error. Use `array.size > 0` to check that an array is not empty.\n",
      "  if diff:\n",
      "/home/dks/anaconda3/lib/python3.5/site-packages/sklearn/preprocessing/label.py:151: DeprecationWarning: The truth value of an empty array is ambiguous. Returning False, but in future this will result in an error. Use `array.size > 0` to check that an array is not empty.\n",
      "  if diff:\n"
     ]
    },
    {
     "name": "stdout",
     "output_type": "stream",
     "text": [
      "[CV]  voting_cls__voting=soft, voting_cls__svm__gamma=1, voting_cls__svm__C=100, voting_cls__rfc__n_estimators=10, voting_cls__rfc__min_samples_split=5, score=0.5015993602558977, total= 2.3min\n",
      "[CV] voting_cls__voting=soft, voting_cls__svm__gamma=1, voting_cls__svm__C=1000, voting_cls__rfc__n_estimators=10, voting_cls__rfc__min_samples_split=5 \n"
     ]
    },
    {
     "name": "stderr",
     "output_type": "stream",
     "text": [
      "/home/dks/anaconda3/lib/python3.5/site-packages/sklearn/preprocessing/label.py:151: DeprecationWarning: The truth value of an empty array is ambiguous. Returning False, but in future this will result in an error. Use `array.size > 0` to check that an array is not empty.\n",
      "  if diff:\n"
     ]
    },
    {
     "name": "stdout",
     "output_type": "stream",
     "text": [
      "[CV]  voting_cls__voting=hard, voting_cls__svm__gamma=0.001, voting_cls__svm__C=100, voting_cls__rfc__n_estimators=10, voting_cls__rfc__min_samples_split=5, score=0.4374126572170094, total= 1.6min\n",
      "[CV] voting_cls__voting=soft, voting_cls__svm__gamma=1, voting_cls__svm__C=1000, voting_cls__rfc__n_estimators=10, voting_cls__rfc__min_samples_split=5 \n"
     ]
    },
    {
     "name": "stderr",
     "output_type": "stream",
     "text": [
      "/home/dks/anaconda3/lib/python3.5/site-packages/sklearn/preprocessing/label.py:151: DeprecationWarning: The truth value of an empty array is ambiguous. Returning False, but in future this will result in an error. Use `array.size > 0` to check that an array is not empty.\n",
      "  if diff:\n"
     ]
    },
    {
     "name": "stdout",
     "output_type": "stream",
     "text": [
      "[CV]  voting_cls__voting=hard, voting_cls__svm__gamma=0.001, voting_cls__svm__C=100, voting_cls__rfc__n_estimators=10, voting_cls__rfc__min_samples_split=5, score=0.43188174190970835, total= 1.5min\n",
      "[CV] voting_cls__voting=soft, voting_cls__svm__gamma=1, voting_cls__svm__C=1000, voting_cls__rfc__n_estimators=10, voting_cls__rfc__min_samples_split=5 \n"
     ]
    },
    {
     "name": "stderr",
     "output_type": "stream",
     "text": [
      "/home/dks/anaconda3/lib/python3.5/site-packages/sklearn/preprocessing/label.py:151: DeprecationWarning: The truth value of an empty array is ambiguous. Returning False, but in future this will result in an error. Use `array.size > 0` to check that an array is not empty.\n",
      "  if diff:\n",
      "/home/dks/anaconda3/lib/python3.5/site-packages/sklearn/preprocessing/label.py:151: DeprecationWarning: The truth value of an empty array is ambiguous. Returning False, but in future this will result in an error. Use `array.size > 0` to check that an array is not empty.\n",
      "  if diff:\n",
      "/home/dks/anaconda3/lib/python3.5/site-packages/sklearn/preprocessing/label.py:151: DeprecationWarning: The truth value of an empty array is ambiguous. Returning False, but in future this will result in an error. Use `array.size > 0` to check that an array is not empty.\n",
      "  if diff:\n",
      "/home/dks/anaconda3/lib/python3.5/site-packages/sklearn/preprocessing/label.py:151: DeprecationWarning: The truth value of an empty array is ambiguous. Returning False, but in future this will result in an error. Use `array.size > 0` to check that an array is not empty.\n",
      "  if diff:\n",
      "/home/dks/anaconda3/lib/python3.5/site-packages/sklearn/preprocessing/label.py:151: DeprecationWarning: The truth value of an empty array is ambiguous. Returning False, but in future this will result in an error. Use `array.size > 0` to check that an array is not empty.\n",
      "  if diff:\n"
     ]
    },
    {
     "name": "stdout",
     "output_type": "stream",
     "text": [
      "[CV]  voting_cls__voting=hard, voting_cls__svm__gamma=0.001, voting_cls__svm__C=100, voting_cls__rfc__n_estimators=10, voting_cls__rfc__min_samples_split=5, score=0.45121951219512196, total= 1.6min\n",
      "[CV] voting_cls__voting=hard, voting_cls__svm__gamma=0.01, voting_cls__svm__C=1000, voting_cls__rfc__n_estimators=10, voting_cls__rfc__min_samples_split=5 \n"
     ]
    },
    {
     "name": "stderr",
     "output_type": "stream",
     "text": [
      "/home/dks/anaconda3/lib/python3.5/site-packages/sklearn/preprocessing/label.py:151: DeprecationWarning: The truth value of an empty array is ambiguous. Returning False, but in future this will result in an error. Use `array.size > 0` to check that an array is not empty.\n",
      "  if diff:\n"
     ]
    },
    {
     "name": "stdout",
     "output_type": "stream",
     "text": [
      "[CV]  voting_cls__voting=soft, voting_cls__svm__gamma=0.001, voting_cls__svm__C=100, voting_cls__rfc__n_estimators=10, voting_cls__rfc__min_samples_split=5, score=0.48921294446664004, total= 1.5min\n",
      "[CV] voting_cls__voting=hard, voting_cls__svm__gamma=0.01, voting_cls__svm__C=1000, voting_cls__rfc__n_estimators=10, voting_cls__rfc__min_samples_split=5 \n"
     ]
    },
    {
     "name": "stderr",
     "output_type": "stream",
     "text": [
      "[Parallel(n_jobs=-1)]: Done 256 tasks      | elapsed: 40.8min\n",
      "/home/dks/anaconda3/lib/python3.5/site-packages/sklearn/preprocessing/label.py:151: DeprecationWarning: The truth value of an empty array is ambiguous. Returning False, but in future this will result in an error. Use `array.size > 0` to check that an array is not empty.\n",
      "  if diff:\n",
      "/home/dks/anaconda3/lib/python3.5/site-packages/sklearn/preprocessing/label.py:151: DeprecationWarning: The truth value of an empty array is ambiguous. Returning False, but in future this will result in an error. Use `array.size > 0` to check that an array is not empty.\n",
      "  if diff:\n"
     ]
    },
    {
     "name": "stdout",
     "output_type": "stream",
     "text": [
      "[CV]  voting_cls__voting=soft, voting_cls__svm__gamma=0.001, voting_cls__svm__C=100, voting_cls__rfc__n_estimators=10, voting_cls__rfc__min_samples_split=5, score=0.49610700738670394, total= 1.5min\n",
      "[CV]  voting_cls__voting=soft, voting_cls__svm__gamma=0.001, voting_cls__svm__C=100, voting_cls__rfc__n_estimators=10, voting_cls__rfc__min_samples_split=5, score=0.4960015993602559, total= 1.5min\n",
      "[CV] voting_cls__voting=hard, voting_cls__svm__gamma=0.01, voting_cls__svm__C=1000, voting_cls__rfc__n_estimators=10, voting_cls__rfc__min_samples_split=5 \n",
      "[CV] voting_cls__voting=soft, voting_cls__svm__gamma=0.01, voting_cls__svm__C=1000, voting_cls__rfc__n_estimators=10, voting_cls__rfc__min_samples_split=5 \n"
     ]
    },
    {
     "name": "stderr",
     "output_type": "stream",
     "text": [
      "/home/dks/anaconda3/lib/python3.5/site-packages/sklearn/preprocessing/label.py:151: DeprecationWarning: The truth value of an empty array is ambiguous. Returning False, but in future this will result in an error. Use `array.size > 0` to check that an array is not empty.\n",
      "  if diff:\n",
      "/home/dks/anaconda3/lib/python3.5/site-packages/sklearn/preprocessing/label.py:151: DeprecationWarning: The truth value of an empty array is ambiguous. Returning False, but in future this will result in an error. Use `array.size > 0` to check that an array is not empty.\n",
      "  if diff:\n",
      "/home/dks/anaconda3/lib/python3.5/site-packages/sklearn/preprocessing/label.py:151: DeprecationWarning: The truth value of an empty array is ambiguous. Returning False, but in future this will result in an error. Use `array.size > 0` to check that an array is not empty.\n",
      "  if diff:\n",
      "/home/dks/anaconda3/lib/python3.5/site-packages/sklearn/preprocessing/label.py:151: DeprecationWarning: The truth value of an empty array is ambiguous. Returning False, but in future this will result in an error. Use `array.size > 0` to check that an array is not empty.\n",
      "  if diff:\n"
     ]
    },
    {
     "name": "stdout",
     "output_type": "stream",
     "text": [
      "[CV]  voting_cls__voting=hard, voting_cls__svm__gamma=0.0001, voting_cls__svm__C=100, voting_cls__rfc__n_estimators=10, voting_cls__rfc__min_samples_split=5, score=0.41510187774670393, total= 1.9min\n",
      "[CV] voting_cls__voting=soft, voting_cls__svm__gamma=0.01, voting_cls__svm__C=1000, voting_cls__rfc__n_estimators=10, voting_cls__rfc__min_samples_split=5 \n"
     ]
    },
    {
     "name": "stderr",
     "output_type": "stream",
     "text": [
      "/home/dks/anaconda3/lib/python3.5/site-packages/sklearn/preprocessing/label.py:151: DeprecationWarning: The truth value of an empty array is ambiguous. Returning False, but in future this will result in an error. Use `array.size > 0` to check that an array is not empty.\n",
      "  if diff:\n"
     ]
    },
    {
     "name": "stdout",
     "output_type": "stream",
     "text": [
      "[CV]  voting_cls__voting=hard, voting_cls__svm__gamma=0.0001, voting_cls__svm__C=100, voting_cls__rfc__n_estimators=10, voting_cls__rfc__min_samples_split=5, score=0.42223996805749653, total= 2.0min\n",
      "[CV] voting_cls__voting=soft, voting_cls__svm__gamma=0.01, voting_cls__svm__C=1000, voting_cls__rfc__n_estimators=10, voting_cls__rfc__min_samples_split=5 \n"
     ]
    },
    {
     "name": "stderr",
     "output_type": "stream",
     "text": [
      "/home/dks/anaconda3/lib/python3.5/site-packages/sklearn/preprocessing/label.py:151: DeprecationWarning: The truth value of an empty array is ambiguous. Returning False, but in future this will result in an error. Use `array.size > 0` to check that an array is not empty.\n",
      "  if diff:\n",
      "/home/dks/anaconda3/lib/python3.5/site-packages/sklearn/preprocessing/label.py:151: DeprecationWarning: The truth value of an empty array is ambiguous. Returning False, but in future this will result in an error. Use `array.size > 0` to check that an array is not empty.\n",
      "  if diff:\n"
     ]
    },
    {
     "name": "stdout",
     "output_type": "stream",
     "text": [
      "[CV]  voting_cls__voting=hard, voting_cls__svm__gamma=0.0001, voting_cls__svm__C=100, voting_cls__rfc__n_estimators=10, voting_cls__rfc__min_samples_split=5, score=0.43122750899640144, total= 2.0min\n",
      "[CV] voting_cls__voting=hard, voting_cls__svm__gamma=0.001, voting_cls__svm__C=1000, voting_cls__rfc__n_estimators=10, voting_cls__rfc__min_samples_split=5 \n"
     ]
    },
    {
     "name": "stderr",
     "output_type": "stream",
     "text": [
      "/home/dks/anaconda3/lib/python3.5/site-packages/sklearn/preprocessing/label.py:151: DeprecationWarning: The truth value of an empty array is ambiguous. Returning False, but in future this will result in an error. Use `array.size > 0` to check that an array is not empty.\n",
      "  if diff:\n",
      "/home/dks/anaconda3/lib/python3.5/site-packages/sklearn/preprocessing/label.py:151: DeprecationWarning: The truth value of an empty array is ambiguous. Returning False, but in future this will result in an error. Use `array.size > 0` to check that an array is not empty.\n",
      "  if diff:\n",
      "/home/dks/anaconda3/lib/python3.5/site-packages/sklearn/preprocessing/label.py:151: DeprecationWarning: The truth value of an empty array is ambiguous. Returning False, but in future this will result in an error. Use `array.size > 0` to check that an array is not empty.\n",
      "  if diff:\n"
     ]
    },
    {
     "name": "stdout",
     "output_type": "stream",
     "text": [
      "[CV]  voting_cls__voting=soft, voting_cls__svm__gamma=0.0001, voting_cls__svm__C=100, voting_cls__rfc__n_estimators=10, voting_cls__rfc__min_samples_split=5, score=0.4901177879816331, total= 1.9min\n",
      "[CV] voting_cls__voting=hard, voting_cls__svm__gamma=0.001, voting_cls__svm__C=1000, voting_cls__rfc__n_estimators=10, voting_cls__rfc__min_samples_split=5 \n"
     ]
    },
    {
     "name": "stderr",
     "output_type": "stream",
     "text": [
      "/home/dks/anaconda3/lib/python3.5/site-packages/sklearn/preprocessing/label.py:151: DeprecationWarning: The truth value of an empty array is ambiguous. Returning False, but in future this will result in an error. Use `array.size > 0` to check that an array is not empty.\n",
      "  if diff:\n"
     ]
    },
    {
     "name": "stdout",
     "output_type": "stream",
     "text": [
      "[CV]  voting_cls__voting=soft, voting_cls__svm__gamma=0.0001, voting_cls__svm__C=100, voting_cls__rfc__n_estimators=10, voting_cls__rfc__min_samples_split=5, score=0.48501797842588895, total= 1.9min\n",
      "[CV] voting_cls__voting=hard, voting_cls__svm__gamma=0.001, voting_cls__svm__C=1000, voting_cls__rfc__n_estimators=10, voting_cls__rfc__min_samples_split=5 \n"
     ]
    },
    {
     "name": "stderr",
     "output_type": "stream",
     "text": [
      "/home/dks/anaconda3/lib/python3.5/site-packages/sklearn/preprocessing/label.py:151: DeprecationWarning: The truth value of an empty array is ambiguous. Returning False, but in future this will result in an error. Use `array.size > 0` to check that an array is not empty.\n",
      "  if diff:\n"
     ]
    },
    {
     "name": "stdout",
     "output_type": "stream",
     "text": [
      "[CV]  voting_cls__voting=soft, voting_cls__svm__gamma=0.0001, voting_cls__svm__C=100, voting_cls__rfc__n_estimators=10, voting_cls__rfc__min_samples_split=5, score=0.4894042383046781, total= 1.9min\n",
      "[CV] voting_cls__voting=soft, voting_cls__svm__gamma=0.001, voting_cls__svm__C=1000, voting_cls__rfc__n_estimators=10, voting_cls__rfc__min_samples_split=5 \n"
     ]
    },
    {
     "name": "stderr",
     "output_type": "stream",
     "text": [
      "/home/dks/anaconda3/lib/python3.5/site-packages/sklearn/preprocessing/label.py:151: DeprecationWarning: The truth value of an empty array is ambiguous. Returning False, but in future this will result in an error. Use `array.size > 0` to check that an array is not empty.\n",
      "  if diff:\n",
      "/home/dks/anaconda3/lib/python3.5/site-packages/sklearn/preprocessing/label.py:151: DeprecationWarning: The truth value of an empty array is ambiguous. Returning False, but in future this will result in an error. Use `array.size > 0` to check that an array is not empty.\n",
      "  if diff:\n",
      "/home/dks/anaconda3/lib/python3.5/site-packages/sklearn/preprocessing/label.py:151: DeprecationWarning: The truth value of an empty array is ambiguous. Returning False, but in future this will result in an error. Use `array.size > 0` to check that an array is not empty.\n",
      "  if diff:\n",
      "/home/dks/anaconda3/lib/python3.5/site-packages/sklearn/preprocessing/label.py:151: DeprecationWarning: The truth value of an empty array is ambiguous. Returning False, but in future this will result in an error. Use `array.size > 0` to check that an array is not empty.\n",
      "  if diff:\n",
      "/home/dks/anaconda3/lib/python3.5/site-packages/sklearn/preprocessing/label.py:151: DeprecationWarning: The truth value of an empty array is ambiguous. Returning False, but in future this will result in an error. Use `array.size > 0` to check that an array is not empty.\n",
      "  if diff:\n"
     ]
    },
    {
     "name": "stdout",
     "output_type": "stream",
     "text": [
      "[CV]  voting_cls__voting=hard, voting_cls__svm__gamma=0.01, voting_cls__svm__C=1000, voting_cls__rfc__n_estimators=10, voting_cls__rfc__min_samples_split=5, score=0.4491914553803154, total= 1.5min\n",
      "[CV] voting_cls__voting=soft, voting_cls__svm__gamma=0.001, voting_cls__svm__C=1000, voting_cls__rfc__n_estimators=10, voting_cls__rfc__min_samples_split=5 \n"
     ]
    },
    {
     "name": "stderr",
     "output_type": "stream",
     "text": [
      "/home/dks/anaconda3/lib/python3.5/site-packages/sklearn/preprocessing/label.py:151: DeprecationWarning: The truth value of an empty array is ambiguous. Returning False, but in future this will result in an error. Use `array.size > 0` to check that an array is not empty.\n",
      "  if diff:\n"
     ]
    },
    {
     "name": "stdout",
     "output_type": "stream",
     "text": [
      "[CV]  voting_cls__voting=hard, voting_cls__svm__gamma=0.01, voting_cls__svm__C=1000, voting_cls__rfc__n_estimators=10, voting_cls__rfc__min_samples_split=5, score=0.44986016779864163, total= 1.4min\n",
      "[CV] voting_cls__voting=soft, voting_cls__svm__gamma=0.001, voting_cls__svm__C=1000, voting_cls__rfc__n_estimators=10, voting_cls__rfc__min_samples_split=5 \n"
     ]
    },
    {
     "name": "stderr",
     "output_type": "stream",
     "text": [
      "/home/dks/anaconda3/lib/python3.5/site-packages/sklearn/preprocessing/label.py:151: DeprecationWarning: The truth value of an empty array is ambiguous. Returning False, but in future this will result in an error. Use `array.size > 0` to check that an array is not empty.\n",
      "  if diff:\n"
     ]
    },
    {
     "name": "stdout",
     "output_type": "stream",
     "text": [
      "[CV]  voting_cls__voting=soft, voting_cls__svm__gamma=0.01, voting_cls__svm__C=1000, voting_cls__rfc__n_estimators=10, voting_cls__rfc__min_samples_split=5, score=0.5018965861449391, total= 1.4min\n",
      "[CV] voting_cls__voting=hard, voting_cls__svm__gamma=0.0001, voting_cls__svm__C=1000, voting_cls__rfc__n_estimators=10, voting_cls__rfc__min_samples_split=5 \n"
     ]
    },
    {
     "name": "stderr",
     "output_type": "stream",
     "text": [
      "/home/dks/anaconda3/lib/python3.5/site-packages/sklearn/preprocessing/label.py:151: DeprecationWarning: The truth value of an empty array is ambiguous. Returning False, but in future this will result in an error. Use `array.size > 0` to check that an array is not empty.\n",
      "  if diff:\n"
     ]
    },
    {
     "name": "stdout",
     "output_type": "stream",
     "text": [
      "[CV]  voting_cls__voting=hard, voting_cls__svm__gamma=0.01, voting_cls__svm__C=1000, voting_cls__rfc__n_estimators=10, voting_cls__rfc__min_samples_split=5, score=0.46141543382646943, total= 1.5min\n",
      "[CV] voting_cls__voting=hard, voting_cls__svm__gamma=0.0001, voting_cls__svm__C=1000, voting_cls__rfc__n_estimators=10, voting_cls__rfc__min_samples_split=5 \n"
     ]
    },
    {
     "name": "stderr",
     "output_type": "stream",
     "text": [
      "/home/dks/anaconda3/lib/python3.5/site-packages/sklearn/preprocessing/label.py:151: DeprecationWarning: The truth value of an empty array is ambiguous. Returning False, but in future this will result in an error. Use `array.size > 0` to check that an array is not empty.\n",
      "  if diff:\n",
      "/home/dks/anaconda3/lib/python3.5/site-packages/sklearn/preprocessing/label.py:151: DeprecationWarning: The truth value of an empty array is ambiguous. Returning False, but in future this will result in an error. Use `array.size > 0` to check that an array is not empty.\n",
      "  if diff:\n",
      "/home/dks/anaconda3/lib/python3.5/site-packages/sklearn/preprocessing/label.py:151: DeprecationWarning: The truth value of an empty array is ambiguous. Returning False, but in future this will result in an error. Use `array.size > 0` to check that an array is not empty.\n",
      "  if diff:\n",
      "/home/dks/anaconda3/lib/python3.5/site-packages/sklearn/preprocessing/label.py:151: DeprecationWarning: The truth value of an empty array is ambiguous. Returning False, but in future this will result in an error. Use `array.size > 0` to check that an array is not empty.\n",
      "  if diff:\n"
     ]
    },
    {
     "name": "stdout",
     "output_type": "stream",
     "text": [
      "[CV]  voting_cls__voting=soft, voting_cls__svm__gamma=0.01, voting_cls__svm__C=1000, voting_cls__rfc__n_estimators=10, voting_cls__rfc__min_samples_split=5, score=0.49660407510986815, total= 1.4min\n",
      "[CV] voting_cls__voting=hard, voting_cls__svm__gamma=0.0001, voting_cls__svm__C=1000, voting_cls__rfc__n_estimators=10, voting_cls__rfc__min_samples_split=5 \n"
     ]
    },
    {
     "name": "stderr",
     "output_type": "stream",
     "text": [
      "/home/dks/anaconda3/lib/python3.5/site-packages/sklearn/preprocessing/label.py:151: DeprecationWarning: The truth value of an empty array is ambiguous. Returning False, but in future this will result in an error. Use `array.size > 0` to check that an array is not empty.\n",
      "  if diff:\n",
      "/home/dks/anaconda3/lib/python3.5/site-packages/sklearn/preprocessing/label.py:151: DeprecationWarning: The truth value of an empty array is ambiguous. Returning False, but in future this will result in an error. Use `array.size > 0` to check that an array is not empty.\n",
      "  if diff:\n"
     ]
    },
    {
     "name": "stdout",
     "output_type": "stream",
     "text": [
      "[CV]  voting_cls__voting=hard, voting_cls__svm__gamma=0.001, voting_cls__svm__C=1000, voting_cls__rfc__n_estimators=10, voting_cls__rfc__min_samples_split=5, score=0.448193252146137, total= 1.3min\n",
      "[CV] voting_cls__voting=soft, voting_cls__svm__gamma=0.0001, voting_cls__svm__C=1000, voting_cls__rfc__n_estimators=10, voting_cls__rfc__min_samples_split=5 \n"
     ]
    },
    {
     "name": "stderr",
     "output_type": "stream",
     "text": [
      "/home/dks/anaconda3/lib/python3.5/site-packages/sklearn/preprocessing/label.py:151: DeprecationWarning: The truth value of an empty array is ambiguous. Returning False, but in future this will result in an error. Use `array.size > 0` to check that an array is not empty.\n",
      "  if diff:\n",
      "/home/dks/anaconda3/lib/python3.5/site-packages/sklearn/preprocessing/label.py:151: DeprecationWarning: The truth value of an empty array is ambiguous. Returning False, but in future this will result in an error. Use `array.size > 0` to check that an array is not empty.\n",
      "  if diff:\n"
     ]
    },
    {
     "name": "stdout",
     "output_type": "stream",
     "text": [
      "[CV]  voting_cls__voting=soft, voting_cls__svm__gamma=0.01, voting_cls__svm__C=1000, voting_cls__rfc__n_estimators=10, voting_cls__rfc__min_samples_split=5, score=0.49780087964814074, total= 1.5min\n",
      "[CV] voting_cls__voting=soft, voting_cls__svm__gamma=0.0001, voting_cls__svm__C=1000, voting_cls__rfc__n_estimators=10, voting_cls__rfc__min_samples_split=5 \n"
     ]
    },
    {
     "name": "stderr",
     "output_type": "stream",
     "text": [
      "/home/dks/anaconda3/lib/python3.5/site-packages/sklearn/preprocessing/label.py:151: DeprecationWarning: The truth value of an empty array is ambiguous. Returning False, but in future this will result in an error. Use `array.size > 0` to check that an array is not empty.\n",
      "  if diff:\n",
      "/home/dks/anaconda3/lib/python3.5/site-packages/sklearn/preprocessing/label.py:151: DeprecationWarning: The truth value of an empty array is ambiguous. Returning False, but in future this will result in an error. Use `array.size > 0` to check that an array is not empty.\n",
      "  if diff:\n"
     ]
    },
    {
     "name": "stdout",
     "output_type": "stream",
     "text": [
      "[CV]  voting_cls__voting=hard, voting_cls__svm__gamma=0.001, voting_cls__svm__C=1000, voting_cls__rfc__n_estimators=10, voting_cls__rfc__min_samples_split=5, score=0.43867359168997205, total= 1.3min\n",
      "[CV] voting_cls__voting=soft, voting_cls__svm__gamma=0.0001, voting_cls__svm__C=1000, voting_cls__rfc__n_estimators=10, voting_cls__rfc__min_samples_split=5 \n"
     ]
    },
    {
     "name": "stderr",
     "output_type": "stream",
     "text": [
      "/home/dks/anaconda3/lib/python3.5/site-packages/sklearn/preprocessing/label.py:151: DeprecationWarning: The truth value of an empty array is ambiguous. Returning False, but in future this will result in an error. Use `array.size > 0` to check that an array is not empty.\n",
      "  if diff:\n"
     ]
    },
    {
     "name": "stdout",
     "output_type": "stream",
     "text": [
      "[CV]  voting_cls__voting=hard, voting_cls__svm__gamma=0.001, voting_cls__svm__C=1000, voting_cls__rfc__n_estimators=10, voting_cls__rfc__min_samples_split=5, score=0.4534186325469812, total= 1.3min\n",
      "[CV] voting_cls__voting=hard, voting_cls__svm__gamma=1, voting_cls__svm__C=0.1, voting_cls__rfc__n_estimators=100, voting_cls__rfc__min_samples_split=5 \n"
     ]
    },
    {
     "name": "stderr",
     "output_type": "stream",
     "text": [
      "/home/dks/anaconda3/lib/python3.5/site-packages/sklearn/preprocessing/label.py:151: DeprecationWarning: The truth value of an empty array is ambiguous. Returning False, but in future this will result in an error. Use `array.size > 0` to check that an array is not empty.\n",
      "  if diff:\n"
     ]
    },
    {
     "name": "stdout",
     "output_type": "stream",
     "text": [
      "[CV]  voting_cls__voting=soft, voting_cls__svm__gamma=0.001, voting_cls__svm__C=1000, voting_cls__rfc__n_estimators=10, voting_cls__rfc__min_samples_split=5, score=0.5040926332601318, total= 1.4min\n",
      "[CV] voting_cls__voting=hard, voting_cls__svm__gamma=1, voting_cls__svm__C=0.1, voting_cls__rfc__n_estimators=100, voting_cls__rfc__min_samples_split=5 \n"
     ]
    },
    {
     "name": "stderr",
     "output_type": "stream",
     "text": [
      "/home/dks/anaconda3/lib/python3.5/site-packages/sklearn/preprocessing/label.py:151: DeprecationWarning: The truth value of an empty array is ambiguous. Returning False, but in future this will result in an error. Use `array.size > 0` to check that an array is not empty.\n",
      "  if diff:\n",
      "/home/dks/anaconda3/lib/python3.5/site-packages/sklearn/preprocessing/label.py:151: DeprecationWarning: The truth value of an empty array is ambiguous. Returning False, but in future this will result in an error. Use `array.size > 0` to check that an array is not empty.\n",
      "  if diff:\n",
      "/home/dks/anaconda3/lib/python3.5/site-packages/sklearn/preprocessing/label.py:151: DeprecationWarning: The truth value of an empty array is ambiguous. Returning False, but in future this will result in an error. Use `array.size > 0` to check that an array is not empty.\n",
      "  if diff:\n",
      "/home/dks/anaconda3/lib/python3.5/site-packages/sklearn/preprocessing/label.py:151: DeprecationWarning: The truth value of an empty array is ambiguous. Returning False, but in future this will result in an error. Use `array.size > 0` to check that an array is not empty.\n",
      "  if diff:\n"
     ]
    },
    {
     "name": "stdout",
     "output_type": "stream",
     "text": [
      "[CV]  voting_cls__voting=soft, voting_cls__svm__gamma=0.001, voting_cls__svm__C=1000, voting_cls__rfc__n_estimators=10, voting_cls__rfc__min_samples_split=5, score=0.49380743108270075, total= 1.4min\n",
      "[CV] voting_cls__voting=hard, voting_cls__svm__gamma=1, voting_cls__svm__C=0.1, voting_cls__rfc__n_estimators=100, voting_cls__rfc__min_samples_split=5 \n"
     ]
    },
    {
     "name": "stderr",
     "output_type": "stream",
     "text": [
      "/home/dks/anaconda3/lib/python3.5/site-packages/sklearn/preprocessing/label.py:151: DeprecationWarning: The truth value of an empty array is ambiguous. Returning False, but in future this will result in an error. Use `array.size > 0` to check that an array is not empty.\n",
      "  if diff:\n"
     ]
    },
    {
     "name": "stdout",
     "output_type": "stream",
     "text": [
      "[CV]  voting_cls__voting=soft, voting_cls__svm__gamma=0.001, voting_cls__svm__C=1000, voting_cls__rfc__n_estimators=10, voting_cls__rfc__min_samples_split=5, score=0.49440223910435827, total= 1.4min\n",
      "[CV] voting_cls__voting=soft, voting_cls__svm__gamma=1, voting_cls__svm__C=0.1, voting_cls__rfc__n_estimators=100, voting_cls__rfc__min_samples_split=5 \n"
     ]
    },
    {
     "name": "stderr",
     "output_type": "stream",
     "text": [
      "/home/dks/anaconda3/lib/python3.5/site-packages/sklearn/preprocessing/label.py:151: DeprecationWarning: The truth value of an empty array is ambiguous. Returning False, but in future this will result in an error. Use `array.size > 0` to check that an array is not empty.\n",
      "  if diff:\n",
      "/home/dks/anaconda3/lib/python3.5/site-packages/sklearn/preprocessing/label.py:151: DeprecationWarning: The truth value of an empty array is ambiguous. Returning False, but in future this will result in an error. Use `array.size > 0` to check that an array is not empty.\n",
      "  if diff:\n"
     ]
    },
    {
     "name": "stdout",
     "output_type": "stream",
     "text": [
      "[CV]  voting_cls__voting=hard, voting_cls__svm__gamma=0.0001, voting_cls__svm__C=1000, voting_cls__rfc__n_estimators=10, voting_cls__rfc__min_samples_split=5, score=0.44000798562587345, total= 1.5min\n",
      "[CV] voting_cls__voting=soft, voting_cls__svm__gamma=1, voting_cls__svm__C=0.1, voting_cls__rfc__n_estimators=100, voting_cls__rfc__min_samples_split=5 \n"
     ]
    },
    {
     "name": "stderr",
     "output_type": "stream",
     "text": [
      "/home/dks/anaconda3/lib/python3.5/site-packages/sklearn/preprocessing/label.py:151: DeprecationWarning: The truth value of an empty array is ambiguous. Returning False, but in future this will result in an error. Use `array.size > 0` to check that an array is not empty.\n",
      "  if diff:\n"
     ]
    },
    {
     "name": "stdout",
     "output_type": "stream",
     "text": [
      "[CV]  voting_cls__voting=hard, voting_cls__svm__gamma=0.0001, voting_cls__svm__C=1000, voting_cls__rfc__n_estimators=10, voting_cls__rfc__min_samples_split=5, score=0.4310827007590891, total= 1.5min\n",
      "[CV] voting_cls__voting=soft, voting_cls__svm__gamma=1, voting_cls__svm__C=0.1, voting_cls__rfc__n_estimators=100, voting_cls__rfc__min_samples_split=5 \n"
     ]
    },
    {
     "name": "stderr",
     "output_type": "stream",
     "text": [
      "/home/dks/anaconda3/lib/python3.5/site-packages/sklearn/preprocessing/label.py:151: DeprecationWarning: The truth value of an empty array is ambiguous. Returning False, but in future this will result in an error. Use `array.size > 0` to check that an array is not empty.\n",
      "  if diff:\n",
      "/home/dks/anaconda3/lib/python3.5/site-packages/sklearn/preprocessing/label.py:151: DeprecationWarning: The truth value of an empty array is ambiguous. Returning False, but in future this will result in an error. Use `array.size > 0` to check that an array is not empty.\n",
      "  if diff:\n",
      "/home/dks/anaconda3/lib/python3.5/site-packages/sklearn/preprocessing/label.py:151: DeprecationWarning: The truth value of an empty array is ambiguous. Returning False, but in future this will result in an error. Use `array.size > 0` to check that an array is not empty.\n",
      "  if diff:\n",
      "/home/dks/anaconda3/lib/python3.5/site-packages/sklearn/preprocessing/label.py:151: DeprecationWarning: The truth value of an empty array is ambiguous. Returning False, but in future this will result in an error. Use `array.size > 0` to check that an array is not empty.\n",
      "  if diff:\n"
     ]
    },
    {
     "name": "stdout",
     "output_type": "stream",
     "text": [
      "[CV]  voting_cls__voting=hard, voting_cls__svm__gamma=0.0001, voting_cls__svm__C=1000, voting_cls__rfc__n_estimators=10, voting_cls__rfc__min_samples_split=5, score=0.44702119152339065, total= 1.5min\n",
      "[CV] voting_cls__voting=hard, voting_cls__svm__gamma=0.01, voting_cls__svm__C=0.1, voting_cls__rfc__n_estimators=100, voting_cls__rfc__min_samples_split=5 \n"
     ]
    },
    {
     "name": "stderr",
     "output_type": "stream",
     "text": [
      "/home/dks/anaconda3/lib/python3.5/site-packages/sklearn/preprocessing/label.py:151: DeprecationWarning: The truth value of an empty array is ambiguous. Returning False, but in future this will result in an error. Use `array.size > 0` to check that an array is not empty.\n",
      "  if diff:\n"
     ]
    },
    {
     "name": "stdout",
     "output_type": "stream",
     "text": [
      "[CV]  voting_cls__voting=soft, voting_cls__svm__gamma=0.0001, voting_cls__svm__C=1000, voting_cls__rfc__n_estimators=10, voting_cls__rfc__min_samples_split=5, score=0.496705929327211, total= 1.5min\n",
      "[CV] voting_cls__voting=hard, voting_cls__svm__gamma=0.01, voting_cls__svm__C=0.1, voting_cls__rfc__n_estimators=100, voting_cls__rfc__min_samples_split=5 \n"
     ]
    },
    {
     "name": "stderr",
     "output_type": "stream",
     "text": [
      "/home/dks/anaconda3/lib/python3.5/site-packages/sklearn/preprocessing/label.py:151: DeprecationWarning: The truth value of an empty array is ambiguous. Returning False, but in future this will result in an error. Use `array.size > 0` to check that an array is not empty.\n",
      "  if diff:\n",
      "/home/dks/anaconda3/lib/python3.5/site-packages/sklearn/preprocessing/label.py:151: DeprecationWarning: The truth value of an empty array is ambiguous. Returning False, but in future this will result in an error. Use `array.size > 0` to check that an array is not empty.\n",
      "  if diff:\n"
     ]
    },
    {
     "name": "stdout",
     "output_type": "stream",
     "text": [
      "[CV]  voting_cls__voting=soft, voting_cls__svm__gamma=0.0001, voting_cls__svm__C=1000, voting_cls__rfc__n_estimators=10, voting_cls__rfc__min_samples_split=5, score=0.4928086296444267, total= 1.5min\n",
      "[CV] voting_cls__voting=hard, voting_cls__svm__gamma=0.01, voting_cls__svm__C=0.1, voting_cls__rfc__n_estimators=100, voting_cls__rfc__min_samples_split=5 \n"
     ]
    },
    {
     "name": "stderr",
     "output_type": "stream",
     "text": [
      "/home/dks/anaconda3/lib/python3.5/site-packages/sklearn/preprocessing/label.py:151: DeprecationWarning: The truth value of an empty array is ambiguous. Returning False, but in future this will result in an error. Use `array.size > 0` to check that an array is not empty.\n",
      "  if diff:\n"
     ]
    },
    {
     "name": "stdout",
     "output_type": "stream",
     "text": [
      "[CV]  voting_cls__voting=soft, voting_cls__svm__gamma=0.0001, voting_cls__svm__C=1000, voting_cls__rfc__n_estimators=10, voting_cls__rfc__min_samples_split=5, score=0.49420231907237105, total= 1.6min\n",
      "[CV] voting_cls__voting=soft, voting_cls__svm__gamma=0.01, voting_cls__svm__C=0.1, voting_cls__rfc__n_estimators=100, voting_cls__rfc__min_samples_split=5 \n"
     ]
    },
    {
     "name": "stderr",
     "output_type": "stream",
     "text": [
      "/home/dks/anaconda3/lib/python3.5/site-packages/sklearn/preprocessing/label.py:151: DeprecationWarning: The truth value of an empty array is ambiguous. Returning False, but in future this will result in an error. Use `array.size > 0` to check that an array is not empty.\n",
      "  if diff:\n",
      "/home/dks/anaconda3/lib/python3.5/site-packages/sklearn/preprocessing/label.py:151: DeprecationWarning: The truth value of an empty array is ambiguous. Returning False, but in future this will result in an error. Use `array.size > 0` to check that an array is not empty.\n",
      "  if diff:\n",
      "/home/dks/anaconda3/lib/python3.5/site-packages/sklearn/preprocessing/label.py:151: DeprecationWarning: The truth value of an empty array is ambiguous. Returning False, but in future this will result in an error. Use `array.size > 0` to check that an array is not empty.\n",
      "  if diff:\n"
     ]
    },
    {
     "name": "stdout",
     "output_type": "stream",
     "text": [
      "[CV]  voting_cls__voting=hard, voting_cls__svm__gamma=1, voting_cls__svm__C=0.1, voting_cls__rfc__n_estimators=100, voting_cls__rfc__min_samples_split=5, score=0.4483928927929727, total= 1.9min\n",
      "[CV] voting_cls__voting=soft, voting_cls__svm__gamma=0.01, voting_cls__svm__C=0.1, voting_cls__rfc__n_estimators=100, voting_cls__rfc__min_samples_split=5 \n"
     ]
    },
    {
     "name": "stderr",
     "output_type": "stream",
     "text": [
      "/home/dks/anaconda3/lib/python3.5/site-packages/sklearn/preprocessing/label.py:151: DeprecationWarning: The truth value of an empty array is ambiguous. Returning False, but in future this will result in an error. Use `array.size > 0` to check that an array is not empty.\n",
      "  if diff:\n"
     ]
    },
    {
     "name": "stdout",
     "output_type": "stream",
     "text": [
      "[CV]  voting_cls__voting=hard, voting_cls__svm__gamma=1, voting_cls__svm__C=0.1, voting_cls__rfc__n_estimators=100, voting_cls__rfc__min_samples_split=5, score=0.4434678385936876, total= 1.9min\n",
      "[CV] voting_cls__voting=soft, voting_cls__svm__gamma=0.01, voting_cls__svm__C=0.1, voting_cls__rfc__n_estimators=100, voting_cls__rfc__min_samples_split=5 \n"
     ]
    },
    {
     "name": "stderr",
     "output_type": "stream",
     "text": [
      "/home/dks/anaconda3/lib/python3.5/site-packages/sklearn/preprocessing/label.py:151: DeprecationWarning: The truth value of an empty array is ambiguous. Returning False, but in future this will result in an error. Use `array.size > 0` to check that an array is not empty.\n",
      "  if diff:\n",
      "/home/dks/anaconda3/lib/python3.5/site-packages/sklearn/preprocessing/label.py:151: DeprecationWarning: The truth value of an empty array is ambiguous. Returning False, but in future this will result in an error. Use `array.size > 0` to check that an array is not empty.\n",
      "  if diff:\n",
      "/home/dks/anaconda3/lib/python3.5/site-packages/sklearn/preprocessing/label.py:151: DeprecationWarning: The truth value of an empty array is ambiguous. Returning False, but in future this will result in an error. Use `array.size > 0` to check that an array is not empty.\n",
      "  if diff:\n",
      "/home/dks/anaconda3/lib/python3.5/site-packages/sklearn/preprocessing/label.py:151: DeprecationWarning: The truth value of an empty array is ambiguous. Returning False, but in future this will result in an error. Use `array.size > 0` to check that an array is not empty.\n",
      "  if diff:\n"
     ]
    },
    {
     "name": "stdout",
     "output_type": "stream",
     "text": [
      "[CV]  voting_cls__voting=soft, voting_cls__svm__gamma=1, voting_cls__svm__C=0.1, voting_cls__rfc__n_estimators=100, voting_cls__rfc__min_samples_split=5, score=0.49510880415252545, total= 1.8min\n",
      "[CV] voting_cls__voting=hard, voting_cls__svm__gamma=0.001, voting_cls__svm__C=0.1, voting_cls__rfc__n_estimators=100, voting_cls__rfc__min_samples_split=5 \n"
     ]
    },
    {
     "name": "stderr",
     "output_type": "stream",
     "text": [
      "/home/dks/anaconda3/lib/python3.5/site-packages/sklearn/preprocessing/label.py:151: DeprecationWarning: The truth value of an empty array is ambiguous. Returning False, but in future this will result in an error. Use `array.size > 0` to check that an array is not empty.\n",
      "  if diff:\n"
     ]
    },
    {
     "name": "stdout",
     "output_type": "stream",
     "text": [
      "[CV]  voting_cls__voting=hard, voting_cls__svm__gamma=1, voting_cls__svm__C=0.1, voting_cls__rfc__n_estimators=100, voting_cls__rfc__min_samples_split=5, score=0.4580167932826869, total= 1.9min\n",
      "[CV] voting_cls__voting=hard, voting_cls__svm__gamma=0.001, voting_cls__svm__C=0.1, voting_cls__rfc__n_estimators=100, voting_cls__rfc__min_samples_split=5 \n"
     ]
    },
    {
     "name": "stderr",
     "output_type": "stream",
     "text": [
      "/home/dks/anaconda3/lib/python3.5/site-packages/sklearn/preprocessing/label.py:151: DeprecationWarning: The truth value of an empty array is ambiguous. Returning False, but in future this will result in an error. Use `array.size > 0` to check that an array is not empty.\n",
      "  if diff:\n",
      "/home/dks/anaconda3/lib/python3.5/site-packages/sklearn/preprocessing/label.py:151: DeprecationWarning: The truth value of an empty array is ambiguous. Returning False, but in future this will result in an error. Use `array.size > 0` to check that an array is not empty.\n",
      "  if diff:\n"
     ]
    },
    {
     "name": "stdout",
     "output_type": "stream",
     "text": [
      "[CV]  voting_cls__voting=soft, voting_cls__svm__gamma=1, voting_cls__svm__C=0.1, voting_cls__rfc__n_estimators=100, voting_cls__rfc__min_samples_split=5, score=0.4886136636036756, total= 1.8min\n",
      "[CV] voting_cls__voting=hard, voting_cls__svm__gamma=0.001, voting_cls__svm__C=0.1, voting_cls__rfc__n_estimators=100, voting_cls__rfc__min_samples_split=5 \n"
     ]
    },
    {
     "name": "stderr",
     "output_type": "stream",
     "text": [
      "/home/dks/anaconda3/lib/python3.5/site-packages/sklearn/preprocessing/label.py:151: DeprecationWarning: The truth value of an empty array is ambiguous. Returning False, but in future this will result in an error. Use `array.size > 0` to check that an array is not empty.\n",
      "  if diff:\n"
     ]
    },
    {
     "name": "stdout",
     "output_type": "stream",
     "text": [
      "[CV]  voting_cls__voting=soft, voting_cls__svm__gamma=1, voting_cls__svm__C=0.1, voting_cls__rfc__n_estimators=100, voting_cls__rfc__min_samples_split=5, score=0.4920031987205118, total= 1.8min\n",
      "[CV] voting_cls__voting=soft, voting_cls__svm__gamma=0.001, voting_cls__svm__C=0.1, voting_cls__rfc__n_estimators=100, voting_cls__rfc__min_samples_split=5 \n"
     ]
    },
    {
     "name": "stderr",
     "output_type": "stream",
     "text": [
      "/home/dks/anaconda3/lib/python3.5/site-packages/sklearn/preprocessing/label.py:151: DeprecationWarning: The truth value of an empty array is ambiguous. Returning False, but in future this will result in an error. Use `array.size > 0` to check that an array is not empty.\n",
      "  if diff:\n",
      "/home/dks/anaconda3/lib/python3.5/site-packages/sklearn/preprocessing/label.py:151: DeprecationWarning: The truth value of an empty array is ambiguous. Returning False, but in future this will result in an error. Use `array.size > 0` to check that an array is not empty.\n",
      "  if diff:\n"
     ]
    },
    {
     "name": "stdout",
     "output_type": "stream",
     "text": [
      "[CV]  voting_cls__voting=hard, voting_cls__svm__gamma=1, voting_cls__svm__C=1000, voting_cls__rfc__n_estimators=10, voting_cls__rfc__min_samples_split=5, score=0.4578505793048342, total= 6.7min\n",
      "[CV] voting_cls__voting=soft, voting_cls__svm__gamma=0.001, voting_cls__svm__C=0.1, voting_cls__rfc__n_estimators=100, voting_cls__rfc__min_samples_split=5 \n"
     ]
    },
    {
     "name": "stderr",
     "output_type": "stream",
     "text": [
      "/home/dks/anaconda3/lib/python3.5/site-packages/sklearn/preprocessing/label.py:151: DeprecationWarning: The truth value of an empty array is ambiguous. Returning False, but in future this will result in an error. Use `array.size > 0` to check that an array is not empty.\n",
      "  if diff:\n",
      "/home/dks/anaconda3/lib/python3.5/site-packages/sklearn/preprocessing/label.py:151: DeprecationWarning: The truth value of an empty array is ambiguous. Returning False, but in future this will result in an error. Use `array.size > 0` to check that an array is not empty.\n",
      "  if diff:\n",
      "/home/dks/anaconda3/lib/python3.5/site-packages/sklearn/preprocessing/label.py:151: DeprecationWarning: The truth value of an empty array is ambiguous. Returning False, but in future this will result in an error. Use `array.size > 0` to check that an array is not empty.\n",
      "  if diff:\n",
      "/home/dks/anaconda3/lib/python3.5/site-packages/sklearn/preprocessing/label.py:151: DeprecationWarning: The truth value of an empty array is ambiguous. Returning False, but in future this will result in an error. Use `array.size > 0` to check that an array is not empty.\n",
      "  if diff:\n"
     ]
    },
    {
     "name": "stdout",
     "output_type": "stream",
     "text": [
      "[CV]  voting_cls__voting=soft, voting_cls__svm__gamma=1, voting_cls__svm__C=1000, voting_cls__rfc__n_estimators=10, voting_cls__rfc__min_samples_split=5, score=0.4940071913703556, total= 6.9min\n",
      "[CV] voting_cls__voting=soft, voting_cls__svm__gamma=0.001, voting_cls__svm__C=0.1, voting_cls__rfc__n_estimators=100, voting_cls__rfc__min_samples_split=5 \n"
     ]
    },
    {
     "name": "stderr",
     "output_type": "stream",
     "text": [
      "/home/dks/anaconda3/lib/python3.5/site-packages/sklearn/preprocessing/label.py:151: DeprecationWarning: The truth value of an empty array is ambiguous. Returning False, but in future this will result in an error. Use `array.size > 0` to check that an array is not empty.\n",
      "  if diff:\n"
     ]
    },
    {
     "name": "stdout",
     "output_type": "stream",
     "text": [
      "[CV]  voting_cls__voting=hard, voting_cls__svm__gamma=1, voting_cls__svm__C=1000, voting_cls__rfc__n_estimators=10, voting_cls__rfc__min_samples_split=5, score=0.47201119552179127, total= 7.1min\n",
      "[CV] voting_cls__voting=hard, voting_cls__svm__gamma=0.0001, voting_cls__svm__C=0.1, voting_cls__rfc__n_estimators=100, voting_cls__rfc__min_samples_split=5 \n"
     ]
    },
    {
     "name": "stderr",
     "output_type": "stream",
     "text": [
      "/home/dks/anaconda3/lib/python3.5/site-packages/sklearn/preprocessing/label.py:151: DeprecationWarning: The truth value of an empty array is ambiguous. Returning False, but in future this will result in an error. Use `array.size > 0` to check that an array is not empty.\n",
      "  if diff:\n",
      "/home/dks/anaconda3/lib/python3.5/site-packages/sklearn/preprocessing/label.py:151: DeprecationWarning: The truth value of an empty array is ambiguous. Returning False, but in future this will result in an error. Use `array.size > 0` to check that an array is not empty.\n",
      "  if diff:\n"
     ]
    },
    {
     "name": "stdout",
     "output_type": "stream",
     "text": [
      "[CV]  voting_cls__voting=hard, voting_cls__svm__gamma=1, voting_cls__svm__C=1000, voting_cls__rfc__n_estimators=10, voting_cls__rfc__min_samples_split=5, score=0.4701537232980635, total= 7.3min\n",
      "[CV] voting_cls__voting=hard, voting_cls__svm__gamma=0.0001, voting_cls__svm__C=0.1, voting_cls__rfc__n_estimators=100, voting_cls__rfc__min_samples_split=5 \n"
     ]
    },
    {
     "name": "stderr",
     "output_type": "stream",
     "text": [
      "/home/dks/anaconda3/lib/python3.5/site-packages/sklearn/preprocessing/label.py:151: DeprecationWarning: The truth value of an empty array is ambiguous. Returning False, but in future this will result in an error. Use `array.size > 0` to check that an array is not empty.\n",
      "  if diff:\n",
      "/home/dks/anaconda3/lib/python3.5/site-packages/sklearn/preprocessing/label.py:151: DeprecationWarning: The truth value of an empty array is ambiguous. Returning False, but in future this will result in an error. Use `array.size > 0` to check that an array is not empty.\n",
      "  if diff:\n"
     ]
    },
    {
     "name": "stdout",
     "output_type": "stream",
     "text": [
      "[CV]  voting_cls__voting=soft, voting_cls__svm__gamma=1, voting_cls__svm__C=1000, voting_cls__rfc__n_estimators=10, voting_cls__rfc__min_samples_split=5, score=0.4962015193922431, total= 7.0min\n",
      "[CV] voting_cls__voting=hard, voting_cls__svm__gamma=0.0001, voting_cls__svm__C=0.1, voting_cls__rfc__n_estimators=100, voting_cls__rfc__min_samples_split=5 \n"
     ]
    },
    {
     "name": "stderr",
     "output_type": "stream",
     "text": [
      "/home/dks/anaconda3/lib/python3.5/site-packages/sklearn/preprocessing/label.py:151: DeprecationWarning: The truth value of an empty array is ambiguous. Returning False, but in future this will result in an error. Use `array.size > 0` to check that an array is not empty.\n",
      "  if diff:\n",
      "/home/dks/anaconda3/lib/python3.5/site-packages/sklearn/preprocessing/label.py:151: DeprecationWarning: The truth value of an empty array is ambiguous. Returning False, but in future this will result in an error. Use `array.size > 0` to check that an array is not empty.\n",
      "  if diff:\n",
      "/home/dks/anaconda3/lib/python3.5/site-packages/sklearn/preprocessing/label.py:151: DeprecationWarning: The truth value of an empty array is ambiguous. Returning False, but in future this will result in an error. Use `array.size > 0` to check that an array is not empty.\n",
      "  if diff:\n"
     ]
    },
    {
     "name": "stdout",
     "output_type": "stream",
     "text": [
      "[CV]  voting_cls__voting=soft, voting_cls__svm__gamma=1, voting_cls__svm__C=1000, voting_cls__rfc__n_estimators=10, voting_cls__rfc__min_samples_split=5, score=0.5036933519664604, total= 7.2min\n",
      "[CV] voting_cls__voting=soft, voting_cls__svm__gamma=0.0001, voting_cls__svm__C=0.1, voting_cls__rfc__n_estimators=100, voting_cls__rfc__min_samples_split=5 \n"
     ]
    },
    {
     "name": "stderr",
     "output_type": "stream",
     "text": [
      "/home/dks/anaconda3/lib/python3.5/site-packages/sklearn/preprocessing/label.py:151: DeprecationWarning: The truth value of an empty array is ambiguous. Returning False, but in future this will result in an error. Use `array.size > 0` to check that an array is not empty.\n",
      "  if diff:\n"
     ]
    },
    {
     "name": "stdout",
     "output_type": "stream",
     "text": [
      "[CV]  voting_cls__voting=hard, voting_cls__svm__gamma=0.01, voting_cls__svm__C=0.1, voting_cls__rfc__n_estimators=100, voting_cls__rfc__min_samples_split=5, score=0.4354162507486524, total= 2.7min\n",
      "[CV] voting_cls__voting=soft, voting_cls__svm__gamma=0.0001, voting_cls__svm__C=0.1, voting_cls__rfc__n_estimators=100, voting_cls__rfc__min_samples_split=5 \n"
     ]
    },
    {
     "name": "stderr",
     "output_type": "stream",
     "text": [
      "/home/dks/anaconda3/lib/python3.5/site-packages/sklearn/preprocessing/label.py:151: DeprecationWarning: The truth value of an empty array is ambiguous. Returning False, but in future this will result in an error. Use `array.size > 0` to check that an array is not empty.\n",
      "  if diff:\n"
     ]
    },
    {
     "name": "stdout",
     "output_type": "stream",
     "text": [
      "[CV]  voting_cls__voting=hard, voting_cls__svm__gamma=0.01, voting_cls__svm__C=0.1, voting_cls__rfc__n_estimators=100, voting_cls__rfc__min_samples_split=5, score=0.42369157011586095, total= 2.7min\n",
      "[CV] voting_cls__voting=soft, voting_cls__svm__gamma=0.0001, voting_cls__svm__C=0.1, voting_cls__rfc__n_estimators=100, voting_cls__rfc__min_samples_split=5 \n"
     ]
    },
    {
     "name": "stderr",
     "output_type": "stream",
     "text": [
      "/home/dks/anaconda3/lib/python3.5/site-packages/sklearn/preprocessing/label.py:151: DeprecationWarning: The truth value of an empty array is ambiguous. Returning False, but in future this will result in an error. Use `array.size > 0` to check that an array is not empty.\n",
      "  if diff:\n",
      "/home/dks/anaconda3/lib/python3.5/site-packages/sklearn/preprocessing/label.py:151: DeprecationWarning: The truth value of an empty array is ambiguous. Returning False, but in future this will result in an error. Use `array.size > 0` to check that an array is not empty.\n",
      "  if diff:\n",
      "/home/dks/anaconda3/lib/python3.5/site-packages/sklearn/preprocessing/label.py:151: DeprecationWarning: The truth value of an empty array is ambiguous. Returning False, but in future this will result in an error. Use `array.size > 0` to check that an array is not empty.\n",
      "  if diff:\n"
     ]
    },
    {
     "name": "stdout",
     "output_type": "stream",
     "text": [
      "[CV]  voting_cls__voting=hard, voting_cls__svm__gamma=0.01, voting_cls__svm__C=0.1, voting_cls__rfc__n_estimators=100, voting_cls__rfc__min_samples_split=5, score=0.45521791283486607, total= 2.7min\n",
      "[CV] voting_cls__voting=hard, voting_cls__svm__gamma=1, voting_cls__svm__C=1, voting_cls__rfc__n_estimators=100, voting_cls__rfc__min_samples_split=5 \n"
     ]
    },
    {
     "name": "stderr",
     "output_type": "stream",
     "text": [
      "/home/dks/anaconda3/lib/python3.5/site-packages/sklearn/preprocessing/label.py:151: DeprecationWarning: The truth value of an empty array is ambiguous. Returning False, but in future this will result in an error. Use `array.size > 0` to check that an array is not empty.\n",
      "  if diff:\n"
     ]
    },
    {
     "name": "stdout",
     "output_type": "stream",
     "text": [
      "[CV]  voting_cls__voting=soft, voting_cls__svm__gamma=0.01, voting_cls__svm__C=0.1, voting_cls__rfc__n_estimators=100, voting_cls__rfc__min_samples_split=5, score=0.496705929327211, total= 2.7min\n",
      "[CV] voting_cls__voting=hard, voting_cls__svm__gamma=1, voting_cls__svm__C=1, voting_cls__rfc__n_estimators=100, voting_cls__rfc__min_samples_split=5 \n"
     ]
    },
    {
     "name": "stderr",
     "output_type": "stream",
     "text": [
      "/home/dks/anaconda3/lib/python3.5/site-packages/sklearn/preprocessing/label.py:151: DeprecationWarning: The truth value of an empty array is ambiguous. Returning False, but in future this will result in an error. Use `array.size > 0` to check that an array is not empty.\n",
      "  if diff:\n",
      "/home/dks/anaconda3/lib/python3.5/site-packages/sklearn/preprocessing/label.py:151: DeprecationWarning: The truth value of an empty array is ambiguous. Returning False, but in future this will result in an error. Use `array.size > 0` to check that an array is not empty.\n",
      "  if diff:\n",
      "/home/dks/anaconda3/lib/python3.5/site-packages/sklearn/preprocessing/label.py:151: DeprecationWarning: The truth value of an empty array is ambiguous. Returning False, but in future this will result in an error. Use `array.size > 0` to check that an array is not empty.\n",
      "  if diff:\n"
     ]
    },
    {
     "name": "stdout",
     "output_type": "stream",
     "text": [
      "[CV]  voting_cls__voting=soft, voting_cls__svm__gamma=0.01, voting_cls__svm__C=0.1, voting_cls__rfc__n_estimators=100, voting_cls__rfc__min_samples_split=5, score=0.49380743108270075, total= 2.7min\n",
      "[CV] voting_cls__voting=hard, voting_cls__svm__gamma=1, voting_cls__svm__C=1, voting_cls__rfc__n_estimators=100, voting_cls__rfc__min_samples_split=5 \n"
     ]
    },
    {
     "name": "stderr",
     "output_type": "stream",
     "text": [
      "/home/dks/anaconda3/lib/python3.5/site-packages/sklearn/preprocessing/label.py:151: DeprecationWarning: The truth value of an empty array is ambiguous. Returning False, but in future this will result in an error. Use `array.size > 0` to check that an array is not empty.\n",
      "  if diff:\n"
     ]
    },
    {
     "name": "stdout",
     "output_type": "stream",
     "text": [
      "[CV]  voting_cls__voting=soft, voting_cls__svm__gamma=0.01, voting_cls__svm__C=0.1, voting_cls__rfc__n_estimators=100, voting_cls__rfc__min_samples_split=5, score=0.49120351859256295, total= 2.7min\n",
      "[CV] voting_cls__voting=soft, voting_cls__svm__gamma=1, voting_cls__svm__C=1, voting_cls__rfc__n_estimators=100, voting_cls__rfc__min_samples_split=5 \n"
     ]
    },
    {
     "name": "stderr",
     "output_type": "stream",
     "text": [
      "/home/dks/anaconda3/lib/python3.5/site-packages/sklearn/preprocessing/label.py:151: DeprecationWarning: The truth value of an empty array is ambiguous. Returning False, but in future this will result in an error. Use `array.size > 0` to check that an array is not empty.\n",
      "  if diff:\n",
      "/home/dks/anaconda3/lib/python3.5/site-packages/sklearn/preprocessing/label.py:151: DeprecationWarning: The truth value of an empty array is ambiguous. Returning False, but in future this will result in an error. Use `array.size > 0` to check that an array is not empty.\n",
      "  if diff:\n",
      "/home/dks/anaconda3/lib/python3.5/site-packages/sklearn/preprocessing/label.py:151: DeprecationWarning: The truth value of an empty array is ambiguous. Returning False, but in future this will result in an error. Use `array.size > 0` to check that an array is not empty.\n",
      "  if diff:\n",
      "/home/dks/anaconda3/lib/python3.5/site-packages/sklearn/preprocessing/label.py:151: DeprecationWarning: The truth value of an empty array is ambiguous. Returning False, but in future this will result in an error. Use `array.size > 0` to check that an array is not empty.\n",
      "  if diff:\n"
     ]
    },
    {
     "name": "stdout",
     "output_type": "stream",
     "text": [
      "[CV]  voting_cls__voting=hard, voting_cls__svm__gamma=0.001, voting_cls__svm__C=0.1, voting_cls__rfc__n_estimators=100, voting_cls__rfc__min_samples_split=5, score=0.4505889399081653, total= 2.8min\n",
      "[CV] voting_cls__voting=soft, voting_cls__svm__gamma=1, voting_cls__svm__C=1, voting_cls__rfc__n_estimators=100, voting_cls__rfc__min_samples_split=5 \n"
     ]
    },
    {
     "name": "stderr",
     "output_type": "stream",
     "text": [
      "/home/dks/anaconda3/lib/python3.5/site-packages/sklearn/preprocessing/label.py:151: DeprecationWarning: The truth value of an empty array is ambiguous. Returning False, but in future this will result in an error. Use `array.size > 0` to check that an array is not empty.\n",
      "  if diff:\n",
      "/home/dks/anaconda3/lib/python3.5/site-packages/sklearn/preprocessing/label.py:151: DeprecationWarning: The truth value of an empty array is ambiguous. Returning False, but in future this will result in an error. Use `array.size > 0` to check that an array is not empty.\n",
      "  if diff:\n"
     ]
    },
    {
     "name": "stdout",
     "output_type": "stream",
     "text": [
      "[CV]  voting_cls__voting=hard, voting_cls__svm__gamma=0.001, voting_cls__svm__C=0.1, voting_cls__rfc__n_estimators=100, voting_cls__rfc__min_samples_split=5, score=0.446264482620855, total= 2.8min\n",
      "[CV] voting_cls__voting=soft, voting_cls__svm__gamma=1, voting_cls__svm__C=1, voting_cls__rfc__n_estimators=100, voting_cls__rfc__min_samples_split=5 \n"
     ]
    },
    {
     "name": "stderr",
     "output_type": "stream",
     "text": [
      "/home/dks/anaconda3/lib/python3.5/site-packages/sklearn/preprocessing/label.py:151: DeprecationWarning: The truth value of an empty array is ambiguous. Returning False, but in future this will result in an error. Use `array.size > 0` to check that an array is not empty.\n",
      "  if diff:\n"
     ]
    },
    {
     "name": "stdout",
     "output_type": "stream",
     "text": [
      "[CV]  voting_cls__voting=hard, voting_cls__svm__gamma=0.001, voting_cls__svm__C=0.1, voting_cls__rfc__n_estimators=100, voting_cls__rfc__min_samples_split=5, score=0.46641343462614954, total= 2.8min\n",
      "[CV] voting_cls__voting=hard, voting_cls__svm__gamma=0.01, voting_cls__svm__C=1, voting_cls__rfc__n_estimators=100, voting_cls__rfc__min_samples_split=5 \n"
     ]
    },
    {
     "name": "stderr",
     "output_type": "stream",
     "text": [
      "/home/dks/anaconda3/lib/python3.5/site-packages/sklearn/preprocessing/label.py:151: DeprecationWarning: The truth value of an empty array is ambiguous. Returning False, but in future this will result in an error. Use `array.size > 0` to check that an array is not empty.\n",
      "  if diff:\n"
     ]
    },
    {
     "name": "stdout",
     "output_type": "stream",
     "text": [
      "[CV]  voting_cls__voting=soft, voting_cls__svm__gamma=0.001, voting_cls__svm__C=0.1, voting_cls__rfc__n_estimators=100, voting_cls__rfc__min_samples_split=5, score=0.49411060091834696, total= 2.7min\n",
      "[CV] voting_cls__voting=hard, voting_cls__svm__gamma=0.01, voting_cls__svm__C=1, voting_cls__rfc__n_estimators=100, voting_cls__rfc__min_samples_split=5 \n"
     ]
    },
    {
     "name": "stderr",
     "output_type": "stream",
     "text": [
      "/home/dks/anaconda3/lib/python3.5/site-packages/sklearn/preprocessing/label.py:151: DeprecationWarning: The truth value of an empty array is ambiguous. Returning False, but in future this will result in an error. Use `array.size > 0` to check that an array is not empty.\n",
      "  if diff:\n",
      "/home/dks/anaconda3/lib/python3.5/site-packages/sklearn/preprocessing/label.py:151: DeprecationWarning: The truth value of an empty array is ambiguous. Returning False, but in future this will result in an error. Use `array.size > 0` to check that an array is not empty.\n",
      "  if diff:\n",
      "/home/dks/anaconda3/lib/python3.5/site-packages/sklearn/preprocessing/label.py:151: DeprecationWarning: The truth value of an empty array is ambiguous. Returning False, but in future this will result in an error. Use `array.size > 0` to check that an array is not empty.\n",
      "  if diff:\n"
     ]
    },
    {
     "name": "stdout",
     "output_type": "stream",
     "text": [
      "[CV]  voting_cls__voting=hard, voting_cls__svm__gamma=1, voting_cls__svm__C=1, voting_cls__rfc__n_estimators=100, voting_cls__rfc__min_samples_split=5, score=0.4655619884208425, total= 1.5min\n",
      "[CV] voting_cls__voting=hard, voting_cls__svm__gamma=0.01, voting_cls__svm__C=1, voting_cls__rfc__n_estimators=100, voting_cls__rfc__min_samples_split=5 \n"
     ]
    },
    {
     "name": "stderr",
     "output_type": "stream",
     "text": [
      "/home/dks/anaconda3/lib/python3.5/site-packages/sklearn/preprocessing/label.py:151: DeprecationWarning: The truth value of an empty array is ambiguous. Returning False, but in future this will result in an error. Use `array.size > 0` to check that an array is not empty.\n",
      "  if diff:\n",
      "/home/dks/anaconda3/lib/python3.5/site-packages/sklearn/preprocessing/label.py:151: DeprecationWarning: The truth value of an empty array is ambiguous. Returning False, but in future this will result in an error. Use `array.size > 0` to check that an array is not empty.\n",
      "  if diff:\n"
     ]
    },
    {
     "name": "stdout",
     "output_type": "stream",
     "text": [
      "[CV]  voting_cls__voting=hard, voting_cls__svm__gamma=1, voting_cls__svm__C=1, voting_cls__rfc__n_estimators=100, voting_cls__rfc__min_samples_split=5, score=0.4596484218937275, total= 1.5min\n",
      "[CV] voting_cls__voting=soft, voting_cls__svm__gamma=0.01, voting_cls__svm__C=1, voting_cls__rfc__n_estimators=100, voting_cls__rfc__min_samples_split=5 \n"
     ]
    },
    {
     "name": "stderr",
     "output_type": "stream",
     "text": [
      "/home/dks/anaconda3/lib/python3.5/site-packages/sklearn/preprocessing/label.py:151: DeprecationWarning: The truth value of an empty array is ambiguous. Returning False, but in future this will result in an error. Use `array.size > 0` to check that an array is not empty.\n",
      "  if diff:\n"
     ]
    },
    {
     "name": "stdout",
     "output_type": "stream",
     "text": [
      "[CV]  voting_cls__voting=soft, voting_cls__svm__gamma=0.001, voting_cls__svm__C=0.1, voting_cls__rfc__n_estimators=100, voting_cls__rfc__min_samples_split=5, score=0.4912105473431882, total= 2.9min\n",
      "[CV] voting_cls__voting=soft, voting_cls__svm__gamma=0.01, voting_cls__svm__C=1, voting_cls__rfc__n_estimators=100, voting_cls__rfc__min_samples_split=5 \n"
     ]
    },
    {
     "name": "stderr",
     "output_type": "stream",
     "text": [
      "/home/dks/anaconda3/lib/python3.5/site-packages/sklearn/preprocessing/label.py:151: DeprecationWarning: The truth value of an empty array is ambiguous. Returning False, but in future this will result in an error. Use `array.size > 0` to check that an array is not empty.\n",
      "  if diff:\n",
      "/home/dks/anaconda3/lib/python3.5/site-packages/sklearn/preprocessing/label.py:151: DeprecationWarning: The truth value of an empty array is ambiguous. Returning False, but in future this will result in an error. Use `array.size > 0` to check that an array is not empty.\n",
      "  if diff:\n",
      "/home/dks/anaconda3/lib/python3.5/site-packages/sklearn/preprocessing/label.py:151: DeprecationWarning: The truth value of an empty array is ambiguous. Returning False, but in future this will result in an error. Use `array.size > 0` to check that an array is not empty.\n",
      "  if diff:\n",
      "/home/dks/anaconda3/lib/python3.5/site-packages/sklearn/preprocessing/label.py:151: DeprecationWarning: The truth value of an empty array is ambiguous. Returning False, but in future this will result in an error. Use `array.size > 0` to check that an array is not empty.\n",
      "  if diff:\n",
      "/home/dks/anaconda3/lib/python3.5/site-packages/sklearn/preprocessing/label.py:151: DeprecationWarning: The truth value of an empty array is ambiguous. Returning False, but in future this will result in an error. Use `array.size > 0` to check that an array is not empty.\n",
      "  if diff:\n",
      "/home/dks/anaconda3/lib/python3.5/site-packages/sklearn/preprocessing/label.py:151: DeprecationWarning: The truth value of an empty array is ambiguous. Returning False, but in future this will result in an error. Use `array.size > 0` to check that an array is not empty.\n",
      "  if diff:\n"
     ]
    },
    {
     "name": "stdout",
     "output_type": "stream",
     "text": [
      "[CV]  voting_cls__voting=soft, voting_cls__svm__gamma=1, voting_cls__svm__C=1, voting_cls__rfc__n_estimators=100, voting_cls__rfc__min_samples_split=5, score=0.4997005390297465, total= 1.5min\n",
      "[CV] voting_cls__voting=soft, voting_cls__svm__gamma=0.01, voting_cls__svm__C=1, voting_cls__rfc__n_estimators=100, voting_cls__rfc__min_samples_split=5 \n"
     ]
    },
    {
     "name": "stderr",
     "output_type": "stream",
     "text": [
      "/home/dks/anaconda3/lib/python3.5/site-packages/sklearn/preprocessing/label.py:151: DeprecationWarning: The truth value of an empty array is ambiguous. Returning False, but in future this will result in an error. Use `array.size > 0` to check that an array is not empty.\n",
      "  if diff:\n"
     ]
    },
    {
     "name": "stdout",
     "output_type": "stream",
     "text": [
      "[CV]  voting_cls__voting=hard, voting_cls__svm__gamma=1, voting_cls__svm__C=1, voting_cls__rfc__n_estimators=100, voting_cls__rfc__min_samples_split=5, score=0.4816073570571771, total= 1.5min\n",
      "[CV] voting_cls__voting=hard, voting_cls__svm__gamma=0.001, voting_cls__svm__C=1, voting_cls__rfc__n_estimators=100, voting_cls__rfc__min_samples_split=5 \n"
     ]
    },
    {
     "name": "stderr",
     "output_type": "stream",
     "text": [
      "/home/dks/anaconda3/lib/python3.5/site-packages/sklearn/preprocessing/label.py:151: DeprecationWarning: The truth value of an empty array is ambiguous. Returning False, but in future this will result in an error. Use `array.size > 0` to check that an array is not empty.\n",
      "  if diff:\n"
     ]
    },
    {
     "name": "stdout",
     "output_type": "stream",
     "text": [
      "[CV]  voting_cls__voting=soft, voting_cls__svm__gamma=0.001, voting_cls__svm__C=0.1, voting_cls__rfc__n_estimators=100, voting_cls__rfc__min_samples_split=5, score=0.4910035985605758, total= 2.8min\n",
      "[CV] voting_cls__voting=hard, voting_cls__svm__gamma=0.001, voting_cls__svm__C=1, voting_cls__rfc__n_estimators=100, voting_cls__rfc__min_samples_split=5 \n"
     ]
    },
    {
     "name": "stderr",
     "output_type": "stream",
     "text": [
      "/home/dks/anaconda3/lib/python3.5/site-packages/sklearn/preprocessing/label.py:151: DeprecationWarning: The truth value of an empty array is ambiguous. Returning False, but in future this will result in an error. Use `array.size > 0` to check that an array is not empty.\n",
      "  if diff:\n"
     ]
    },
    {
     "name": "stdout",
     "output_type": "stream",
     "text": [
      "[CV]  voting_cls__voting=hard, voting_cls__svm__gamma=0.0001, voting_cls__svm__C=0.1, voting_cls__rfc__n_estimators=100, voting_cls__rfc__min_samples_split=5, score=0.45158714314234377, total= 2.8min\n",
      "[CV] voting_cls__voting=hard, voting_cls__svm__gamma=0.001, voting_cls__svm__C=1, voting_cls__rfc__n_estimators=100, voting_cls__rfc__min_samples_split=5 \n"
     ]
    },
    {
     "name": "stderr",
     "output_type": "stream",
     "text": [
      "/home/dks/anaconda3/lib/python3.5/site-packages/sklearn/preprocessing/label.py:151: DeprecationWarning: The truth value of an empty array is ambiguous. Returning False, but in future this will result in an error. Use `array.size > 0` to check that an array is not empty.\n",
      "  if diff:\n"
     ]
    },
    {
     "name": "stdout",
     "output_type": "stream",
     "text": [
      "[CV]  voting_cls__voting=hard, voting_cls__svm__gamma=0.0001, voting_cls__svm__C=0.1, voting_cls__rfc__n_estimators=100, voting_cls__rfc__min_samples_split=5, score=0.447263284059129, total= 2.7min\n",
      "[CV] voting_cls__voting=soft, voting_cls__svm__gamma=0.001, voting_cls__svm__C=1, voting_cls__rfc__n_estimators=100, voting_cls__rfc__min_samples_split=5 \n"
     ]
    },
    {
     "name": "stderr",
     "output_type": "stream",
     "text": [
      "/home/dks/anaconda3/lib/python3.5/site-packages/sklearn/preprocessing/label.py:151: DeprecationWarning: The truth value of an empty array is ambiguous. Returning False, but in future this will result in an error. Use `array.size > 0` to check that an array is not empty.\n",
      "  if diff:\n",
      "/home/dks/anaconda3/lib/python3.5/site-packages/sklearn/preprocessing/label.py:151: DeprecationWarning: The truth value of an empty array is ambiguous. Returning False, but in future this will result in an error. Use `array.size > 0` to check that an array is not empty.\n",
      "  if diff:\n",
      "/home/dks/anaconda3/lib/python3.5/site-packages/sklearn/preprocessing/label.py:151: DeprecationWarning: The truth value of an empty array is ambiguous. Returning False, but in future this will result in an error. Use `array.size > 0` to check that an array is not empty.\n",
      "  if diff:\n",
      "/home/dks/anaconda3/lib/python3.5/site-packages/sklearn/preprocessing/label.py:151: DeprecationWarning: The truth value of an empty array is ambiguous. Returning False, but in future this will result in an error. Use `array.size > 0` to check that an array is not empty.\n",
      "  if diff:\n",
      "/home/dks/anaconda3/lib/python3.5/site-packages/sklearn/preprocessing/label.py:151: DeprecationWarning: The truth value of an empty array is ambiguous. Returning False, but in future this will result in an error. Use `array.size > 0` to check that an array is not empty.\n",
      "  if diff:\n"
     ]
    },
    {
     "name": "stdout",
     "output_type": "stream",
     "text": [
      "[CV]  voting_cls__voting=hard, voting_cls__svm__gamma=0.0001, voting_cls__svm__C=0.1, voting_cls__rfc__n_estimators=100, voting_cls__rfc__min_samples_split=5, score=0.4648140743702519, total= 2.8min\n",
      "[CV] voting_cls__voting=soft, voting_cls__svm__gamma=0.001, voting_cls__svm__C=1, voting_cls__rfc__n_estimators=100, voting_cls__rfc__min_samples_split=5 \n"
     ]
    },
    {
     "name": "stderr",
     "output_type": "stream",
     "text": [
      "/home/dks/anaconda3/lib/python3.5/site-packages/sklearn/preprocessing/label.py:151: DeprecationWarning: The truth value of an empty array is ambiguous. Returning False, but in future this will result in an error. Use `array.size > 0` to check that an array is not empty.\n",
      "  if diff:\n"
     ]
    },
    {
     "name": "stdout",
     "output_type": "stream",
     "text": [
      "[CV]  voting_cls__voting=soft, voting_cls__svm__gamma=0.0001, voting_cls__svm__C=0.1, voting_cls__rfc__n_estimators=100, voting_cls__rfc__min_samples_split=5, score=0.4929127570373328, total= 2.8min\n",
      "[CV] voting_cls__voting=soft, voting_cls__svm__gamma=0.001, voting_cls__svm__C=1, voting_cls__rfc__n_estimators=100, voting_cls__rfc__min_samples_split=5 \n"
     ]
    },
    {
     "name": "stderr",
     "output_type": "stream",
     "text": [
      "/home/dks/anaconda3/lib/python3.5/site-packages/sklearn/preprocessing/label.py:151: DeprecationWarning: The truth value of an empty array is ambiguous. Returning False, but in future this will result in an error. Use `array.size > 0` to check that an array is not empty.\n",
      "  if diff:\n",
      "/home/dks/anaconda3/lib/python3.5/site-packages/sklearn/preprocessing/label.py:151: DeprecationWarning: The truth value of an empty array is ambiguous. Returning False, but in future this will result in an error. Use `array.size > 0` to check that an array is not empty.\n",
      "  if diff:\n",
      "/home/dks/anaconda3/lib/python3.5/site-packages/sklearn/preprocessing/label.py:151: DeprecationWarning: The truth value of an empty array is ambiguous. Returning False, but in future this will result in an error. Use `array.size > 0` to check that an array is not empty.\n",
      "  if diff:\n"
     ]
    },
    {
     "name": "stdout",
     "output_type": "stream",
     "text": [
      "[CV]  voting_cls__voting=soft, voting_cls__svm__gamma=0.0001, voting_cls__svm__C=0.1, voting_cls__rfc__n_estimators=100, voting_cls__rfc__min_samples_split=5, score=0.49061126648022374, total= 2.8min\n",
      "[CV]  voting_cls__voting=soft, voting_cls__svm__gamma=0.0001, voting_cls__svm__C=0.1, voting_cls__rfc__n_estimators=100, voting_cls__rfc__min_samples_split=5, score=0.492203118752499, total= 2.7min\n",
      "[CV] voting_cls__voting=hard, voting_cls__svm__gamma=0.0001, voting_cls__svm__C=1, voting_cls__rfc__n_estimators=100, voting_cls__rfc__min_samples_split=5 \n",
      "[CV] voting_cls__voting=hard, voting_cls__svm__gamma=0.0001, voting_cls__svm__C=1, voting_cls__rfc__n_estimators=100, voting_cls__rfc__min_samples_split=5 \n"
     ]
    },
    {
     "name": "stderr",
     "output_type": "stream",
     "text": [
      "/home/dks/anaconda3/lib/python3.5/site-packages/sklearn/preprocessing/label.py:151: DeprecationWarning: The truth value of an empty array is ambiguous. Returning False, but in future this will result in an error. Use `array.size > 0` to check that an array is not empty.\n",
      "  if diff:\n",
      "/home/dks/anaconda3/lib/python3.5/site-packages/sklearn/preprocessing/label.py:151: DeprecationWarning: The truth value of an empty array is ambiguous. Returning False, but in future this will result in an error. Use `array.size > 0` to check that an array is not empty.\n",
      "  if diff:\n"
     ]
    },
    {
     "name": "stdout",
     "output_type": "stream",
     "text": [
      "[CV]  voting_cls__voting=soft, voting_cls__svm__gamma=1, voting_cls__svm__C=1, voting_cls__rfc__n_estimators=100, voting_cls__rfc__min_samples_split=5, score=0.4972033559728326, total= 1.4min\n",
      "[CV] voting_cls__voting=hard, voting_cls__svm__gamma=0.0001, voting_cls__svm__C=1, voting_cls__rfc__n_estimators=100, voting_cls__rfc__min_samples_split=5 \n"
     ]
    },
    {
     "name": "stderr",
     "output_type": "stream",
     "text": [
      "/home/dks/anaconda3/lib/python3.5/site-packages/sklearn/preprocessing/label.py:151: DeprecationWarning: The truth value of an empty array is ambiguous. Returning False, but in future this will result in an error. Use `array.size > 0` to check that an array is not empty.\n",
      "  if diff:\n"
     ]
    },
    {
     "name": "stdout",
     "output_type": "stream",
     "text": [
      "[CV]  voting_cls__voting=soft, voting_cls__svm__gamma=1, voting_cls__svm__C=1, voting_cls__rfc__n_estimators=100, voting_cls__rfc__min_samples_split=5, score=0.49700119952019195, total= 1.5min\n",
      "[CV] voting_cls__voting=soft, voting_cls__svm__gamma=0.0001, voting_cls__svm__C=1, voting_cls__rfc__n_estimators=100, voting_cls__rfc__min_samples_split=5 \n"
     ]
    },
    {
     "name": "stderr",
     "output_type": "stream",
     "text": [
      "/home/dks/anaconda3/lib/python3.5/site-packages/sklearn/preprocessing/label.py:151: DeprecationWarning: The truth value of an empty array is ambiguous. Returning False, but in future this will result in an error. Use `array.size > 0` to check that an array is not empty.\n",
      "  if diff:\n",
      "/home/dks/anaconda3/lib/python3.5/site-packages/sklearn/preprocessing/label.py:151: DeprecationWarning: The truth value of an empty array is ambiguous. Returning False, but in future this will result in an error. Use `array.size > 0` to check that an array is not empty.\n",
      "  if diff:\n",
      "/home/dks/anaconda3/lib/python3.5/site-packages/sklearn/preprocessing/label.py:151: DeprecationWarning: The truth value of an empty array is ambiguous. Returning False, but in future this will result in an error. Use `array.size > 0` to check that an array is not empty.\n",
      "  if diff:\n"
     ]
    },
    {
     "name": "stdout",
     "output_type": "stream",
     "text": [
      "[CV]  voting_cls__voting=hard, voting_cls__svm__gamma=0.01, voting_cls__svm__C=1, voting_cls__rfc__n_estimators=100, voting_cls__rfc__min_samples_split=5, score=0.4402076262727091, total= 2.1min\n",
      "[CV] voting_cls__voting=soft, voting_cls__svm__gamma=0.0001, voting_cls__svm__C=1, voting_cls__rfc__n_estimators=100, voting_cls__rfc__min_samples_split=5 \n"
     ]
    },
    {
     "name": "stderr",
     "output_type": "stream",
     "text": [
      "/home/dks/anaconda3/lib/python3.5/site-packages/sklearn/preprocessing/label.py:151: DeprecationWarning: The truth value of an empty array is ambiguous. Returning False, but in future this will result in an error. Use `array.size > 0` to check that an array is not empty.\n",
      "  if diff:\n"
     ]
    },
    {
     "name": "stdout",
     "output_type": "stream",
     "text": [
      "[CV]  voting_cls__voting=hard, voting_cls__svm__gamma=0.01, voting_cls__svm__C=1, voting_cls__rfc__n_estimators=100, voting_cls__rfc__min_samples_split=5, score=0.4288853375948861, total= 2.1min\n",
      "[CV] voting_cls__voting=soft, voting_cls__svm__gamma=0.0001, voting_cls__svm__C=1, voting_cls__rfc__n_estimators=100, voting_cls__rfc__min_samples_split=5 \n"
     ]
    },
    {
     "name": "stderr",
     "output_type": "stream",
     "text": [
      "/home/dks/anaconda3/lib/python3.5/site-packages/sklearn/preprocessing/label.py:151: DeprecationWarning: The truth value of an empty array is ambiguous. Returning False, but in future this will result in an error. Use `array.size > 0` to check that an array is not empty.\n",
      "  if diff:\n",
      "/home/dks/anaconda3/lib/python3.5/site-packages/sklearn/preprocessing/label.py:151: DeprecationWarning: The truth value of an empty array is ambiguous. Returning False, but in future this will result in an error. Use `array.size > 0` to check that an array is not empty.\n",
      "  if diff:\n",
      "/home/dks/anaconda3/lib/python3.5/site-packages/sklearn/preprocessing/label.py:151: DeprecationWarning: The truth value of an empty array is ambiguous. Returning False, but in future this will result in an error. Use `array.size > 0` to check that an array is not empty.\n",
      "  if diff:\n"
     ]
    },
    {
     "name": "stdout",
     "output_type": "stream",
     "text": [
      "[CV]  voting_cls__voting=hard, voting_cls__svm__gamma=0.01, voting_cls__svm__C=1, voting_cls__rfc__n_estimators=100, voting_cls__rfc__min_samples_split=5, score=0.45121951219512196, total= 2.1min\n",
      "[CV] voting_cls__voting=hard, voting_cls__svm__gamma=1, voting_cls__svm__C=100, voting_cls__rfc__n_estimators=100, voting_cls__rfc__min_samples_split=5 \n"
     ]
    },
    {
     "name": "stderr",
     "output_type": "stream",
     "text": [
      "/home/dks/anaconda3/lib/python3.5/site-packages/sklearn/preprocessing/label.py:151: DeprecationWarning: The truth value of an empty array is ambiguous. Returning False, but in future this will result in an error. Use `array.size > 0` to check that an array is not empty.\n",
      "  if diff:\n"
     ]
    },
    {
     "name": "stdout",
     "output_type": "stream",
     "text": [
      "[CV]  voting_cls__voting=soft, voting_cls__svm__gamma=0.01, voting_cls__svm__C=1, voting_cls__rfc__n_estimators=100, voting_cls__rfc__min_samples_split=5, score=0.4917149131563186, total= 2.1min\n",
      "[CV] voting_cls__voting=hard, voting_cls__svm__gamma=1, voting_cls__svm__C=100, voting_cls__rfc__n_estimators=100, voting_cls__rfc__min_samples_split=5 \n"
     ]
    },
    {
     "name": "stderr",
     "output_type": "stream",
     "text": [
      "/home/dks/anaconda3/lib/python3.5/site-packages/sklearn/preprocessing/label.py:151: DeprecationWarning: The truth value of an empty array is ambiguous. Returning False, but in future this will result in an error. Use `array.size > 0` to check that an array is not empty.\n",
      "  if diff:\n",
      "/home/dks/anaconda3/lib/python3.5/site-packages/sklearn/preprocessing/label.py:151: DeprecationWarning: The truth value of an empty array is ambiguous. Returning False, but in future this will result in an error. Use `array.size > 0` to check that an array is not empty.\n",
      "  if diff:\n",
      "/home/dks/anaconda3/lib/python3.5/site-packages/sklearn/preprocessing/label.py:151: DeprecationWarning: The truth value of an empty array is ambiguous. Returning False, but in future this will result in an error. Use `array.size > 0` to check that an array is not empty.\n",
      "  if diff:\n"
     ]
    },
    {
     "name": "stdout",
     "output_type": "stream",
     "text": [
      "[CV]  voting_cls__voting=soft, voting_cls__svm__gamma=0.01, voting_cls__svm__C=1, voting_cls__rfc__n_estimators=100, voting_cls__rfc__min_samples_split=5, score=0.4902117459049141, total= 2.1min\n",
      "[CV] voting_cls__voting=hard, voting_cls__svm__gamma=1, voting_cls__svm__C=100, voting_cls__rfc__n_estimators=100, voting_cls__rfc__min_samples_split=5 \n"
     ]
    },
    {
     "name": "stderr",
     "output_type": "stream",
     "text": [
      "/home/dks/anaconda3/lib/python3.5/site-packages/sklearn/preprocessing/label.py:151: DeprecationWarning: The truth value of an empty array is ambiguous. Returning False, but in future this will result in an error. Use `array.size > 0` to check that an array is not empty.\n",
      "  if diff:\n"
     ]
    },
    {
     "name": "stdout",
     "output_type": "stream",
     "text": [
      "[CV]  voting_cls__voting=soft, voting_cls__svm__gamma=0.01, voting_cls__svm__C=1, voting_cls__rfc__n_estimators=100, voting_cls__rfc__min_samples_split=5, score=0.49140343862455016, total= 2.1min\n",
      "[CV] voting_cls__voting=soft, voting_cls__svm__gamma=1, voting_cls__svm__C=100, voting_cls__rfc__n_estimators=100, voting_cls__rfc__min_samples_split=5 \n"
     ]
    },
    {
     "name": "stderr",
     "output_type": "stream",
     "text": [
      "/home/dks/anaconda3/lib/python3.5/site-packages/sklearn/preprocessing/label.py:151: DeprecationWarning: The truth value of an empty array is ambiguous. Returning False, but in future this will result in an error. Use `array.size > 0` to check that an array is not empty.\n",
      "  if diff:\n",
      "/home/dks/anaconda3/lib/python3.5/site-packages/sklearn/preprocessing/label.py:151: DeprecationWarning: The truth value of an empty array is ambiguous. Returning False, but in future this will result in an error. Use `array.size > 0` to check that an array is not empty.\n",
      "  if diff:\n",
      "/home/dks/anaconda3/lib/python3.5/site-packages/sklearn/preprocessing/label.py:151: DeprecationWarning: The truth value of an empty array is ambiguous. Returning False, but in future this will result in an error. Use `array.size > 0` to check that an array is not empty.\n",
      "  if diff:\n",
      "/home/dks/anaconda3/lib/python3.5/site-packages/sklearn/preprocessing/label.py:151: DeprecationWarning: The truth value of an empty array is ambiguous. Returning False, but in future this will result in an error. Use `array.size > 0` to check that an array is not empty.\n",
      "  if diff:\n",
      "/home/dks/anaconda3/lib/python3.5/site-packages/sklearn/preprocessing/label.py:151: DeprecationWarning: The truth value of an empty array is ambiguous. Returning False, but in future this will result in an error. Use `array.size > 0` to check that an array is not empty.\n",
      "  if diff:\n"
     ]
    },
    {
     "name": "stdout",
     "output_type": "stream",
     "text": [
      "[CV]  voting_cls__voting=hard, voting_cls__svm__gamma=0.001, voting_cls__svm__C=1, voting_cls__rfc__n_estimators=100, voting_cls__rfc__min_samples_split=5, score=0.4266320622878818, total= 2.7min\n",
      "[CV] voting_cls__voting=soft, voting_cls__svm__gamma=1, voting_cls__svm__C=100, voting_cls__rfc__n_estimators=100, voting_cls__rfc__min_samples_split=5 \n"
     ]
    },
    {
     "name": "stderr",
     "output_type": "stream",
     "text": [
      "/home/dks/anaconda3/lib/python3.5/site-packages/sklearn/preprocessing/label.py:151: DeprecationWarning: The truth value of an empty array is ambiguous. Returning False, but in future this will result in an error. Use `array.size > 0` to check that an array is not empty.\n",
      "  if diff:\n",
      "/home/dks/anaconda3/lib/python3.5/site-packages/sklearn/preprocessing/label.py:151: DeprecationWarning: The truth value of an empty array is ambiguous. Returning False, but in future this will result in an error. Use `array.size > 0` to check that an array is not empty.\n",
      "  if diff:\n"
     ]
    },
    {
     "name": "stdout",
     "output_type": "stream",
     "text": [
      "[CV]  voting_cls__voting=hard, voting_cls__svm__gamma=0.001, voting_cls__svm__C=1, voting_cls__rfc__n_estimators=100, voting_cls__rfc__min_samples_split=5, score=0.41809828206152616, total= 2.7min\n",
      "[CV] voting_cls__voting=soft, voting_cls__svm__gamma=1, voting_cls__svm__C=100, voting_cls__rfc__n_estimators=100, voting_cls__rfc__min_samples_split=5 \n"
     ]
    },
    {
     "name": "stderr",
     "output_type": "stream",
     "text": [
      "/home/dks/anaconda3/lib/python3.5/site-packages/sklearn/preprocessing/label.py:151: DeprecationWarning: The truth value of an empty array is ambiguous. Returning False, but in future this will result in an error. Use `array.size > 0` to check that an array is not empty.\n",
      "  if diff:\n"
     ]
    },
    {
     "name": "stdout",
     "output_type": "stream",
     "text": [
      "[CV]  voting_cls__voting=soft, voting_cls__svm__gamma=0.001, voting_cls__svm__C=1, voting_cls__rfc__n_estimators=100, voting_cls__rfc__min_samples_split=5, score=0.4933120383310042, total= 2.7min\n",
      "[CV] voting_cls__voting=hard, voting_cls__svm__gamma=0.01, voting_cls__svm__C=100, voting_cls__rfc__n_estimators=100, voting_cls__rfc__min_samples_split=5 \n"
     ]
    },
    {
     "name": "stderr",
     "output_type": "stream",
     "text": [
      "/home/dks/anaconda3/lib/python3.5/site-packages/sklearn/preprocessing/label.py:151: DeprecationWarning: The truth value of an empty array is ambiguous. Returning False, but in future this will result in an error. Use `array.size > 0` to check that an array is not empty.\n",
      "  if diff:\n"
     ]
    },
    {
     "name": "stdout",
     "output_type": "stream",
     "text": [
      "[CV]  voting_cls__voting=hard, voting_cls__svm__gamma=0.001, voting_cls__svm__C=1, voting_cls__rfc__n_estimators=100, voting_cls__rfc__min_samples_split=5, score=0.4488204718112755, total= 2.7min\n"
     ]
    },
    {
     "name": "stderr",
     "output_type": "stream",
     "text": [
      "/home/dks/anaconda3/lib/python3.5/site-packages/sklearn/preprocessing/label.py:151: DeprecationWarning: The truth value of an empty array is ambiguous. Returning False, but in future this will result in an error. Use `array.size > 0` to check that an array is not empty.\n",
      "  if diff:\n"
     ]
    },
    {
     "name": "stdout",
     "output_type": "stream",
     "text": [
      "[CV] voting_cls__voting=hard, voting_cls__svm__gamma=0.01, voting_cls__svm__C=100, voting_cls__rfc__n_estimators=100, voting_cls__rfc__min_samples_split=5 \n"
     ]
    },
    {
     "name": "stderr",
     "output_type": "stream",
     "text": [
      "/home/dks/anaconda3/lib/python3.5/site-packages/sklearn/preprocessing/label.py:151: DeprecationWarning: The truth value of an empty array is ambiguous. Returning False, but in future this will result in an error. Use `array.size > 0` to check that an array is not empty.\n",
      "  if diff:\n"
     ]
    },
    {
     "name": "stdout",
     "output_type": "stream",
     "text": [
      "[CV]  voting_cls__voting=soft, voting_cls__svm__gamma=0.001, voting_cls__svm__C=1, voting_cls__rfc__n_estimators=100, voting_cls__rfc__min_samples_split=5, score=0.49061126648022374, total= 2.6min\n",
      "[CV] voting_cls__voting=hard, voting_cls__svm__gamma=0.01, voting_cls__svm__C=100, voting_cls__rfc__n_estimators=100, voting_cls__rfc__min_samples_split=5 \n"
     ]
    },
    {
     "name": "stderr",
     "output_type": "stream",
     "text": [
      "/home/dks/anaconda3/lib/python3.5/site-packages/sklearn/preprocessing/label.py:151: DeprecationWarning: The truth value of an empty array is ambiguous. Returning False, but in future this will result in an error. Use `array.size > 0` to check that an array is not empty.\n",
      "  if diff:\n",
      "/home/dks/anaconda3/lib/python3.5/site-packages/sklearn/preprocessing/label.py:151: DeprecationWarning: The truth value of an empty array is ambiguous. Returning False, but in future this will result in an error. Use `array.size > 0` to check that an array is not empty.\n",
      "  if diff:\n"
     ]
    },
    {
     "name": "stdout",
     "output_type": "stream",
     "text": [
      "[CV]  voting_cls__voting=soft, voting_cls__svm__gamma=0.001, voting_cls__svm__C=1, voting_cls__rfc__n_estimators=100, voting_cls__rfc__min_samples_split=5, score=0.49160335865653737, total= 2.6min\n",
      "[CV] voting_cls__voting=soft, voting_cls__svm__gamma=0.01, voting_cls__svm__C=100, voting_cls__rfc__n_estimators=100, voting_cls__rfc__min_samples_split=5 \n"
     ]
    },
    {
     "name": "stderr",
     "output_type": "stream",
     "text": [
      "/home/dks/anaconda3/lib/python3.5/site-packages/sklearn/preprocessing/label.py:151: DeprecationWarning: The truth value of an empty array is ambiguous. Returning False, but in future this will result in an error. Use `array.size > 0` to check that an array is not empty.\n",
      "  if diff:\n",
      "/home/dks/anaconda3/lib/python3.5/site-packages/sklearn/preprocessing/label.py:151: DeprecationWarning: The truth value of an empty array is ambiguous. Returning False, but in future this will result in an error. Use `array.size > 0` to check that an array is not empty.\n",
      "  if diff:\n",
      "/home/dks/anaconda3/lib/python3.5/site-packages/sklearn/preprocessing/label.py:151: DeprecationWarning: The truth value of an empty array is ambiguous. Returning False, but in future this will result in an error. Use `array.size > 0` to check that an array is not empty.\n",
      "  if diff:\n"
     ]
    },
    {
     "name": "stdout",
     "output_type": "stream",
     "text": [
      "[CV]  voting_cls__voting=hard, voting_cls__svm__gamma=0.0001, voting_cls__svm__C=1, voting_cls__rfc__n_estimators=100, voting_cls__rfc__min_samples_split=5, score=0.3950888400878419, total= 2.7min\n",
      "[CV] voting_cls__voting=soft, voting_cls__svm__gamma=0.01, voting_cls__svm__C=100, voting_cls__rfc__n_estimators=100, voting_cls__rfc__min_samples_split=5 \n"
     ]
    },
    {
     "name": "stderr",
     "output_type": "stream",
     "text": [
      "/home/dks/anaconda3/lib/python3.5/site-packages/sklearn/preprocessing/label.py:151: DeprecationWarning: The truth value of an empty array is ambiguous. Returning False, but in future this will result in an error. Use `array.size > 0` to check that an array is not empty.\n",
      "  if diff:\n",
      "/home/dks/anaconda3/lib/python3.5/site-packages/sklearn/preprocessing/label.py:151: DeprecationWarning: The truth value of an empty array is ambiguous. Returning False, but in future this will result in an error. Use `array.size > 0` to check that an array is not empty.\n",
      "  if diff:\n"
     ]
    },
    {
     "name": "stdout",
     "output_type": "stream",
     "text": [
      "[CV]  voting_cls__voting=hard, voting_cls__svm__gamma=0.0001, voting_cls__svm__C=1, voting_cls__rfc__n_estimators=100, voting_cls__rfc__min_samples_split=5, score=0.36176588094286855, total= 2.7min\n",
      "[CV] voting_cls__voting=soft, voting_cls__svm__gamma=0.01, voting_cls__svm__C=100, voting_cls__rfc__n_estimators=100, voting_cls__rfc__min_samples_split=5 \n"
     ]
    },
    {
     "name": "stderr",
     "output_type": "stream",
     "text": [
      "/home/dks/anaconda3/lib/python3.5/site-packages/sklearn/preprocessing/label.py:151: DeprecationWarning: The truth value of an empty array is ambiguous. Returning False, but in future this will result in an error. Use `array.size > 0` to check that an array is not empty.\n",
      "  if diff:\n"
     ]
    },
    {
     "name": "stdout",
     "output_type": "stream",
     "text": [
      "[CV]  voting_cls__voting=hard, voting_cls__svm__gamma=0.0001, voting_cls__svm__C=1, voting_cls__rfc__n_estimators=100, voting_cls__rfc__min_samples_split=5, score=0.45061975209916033, total= 2.7min\n",
      "[CV] voting_cls__voting=hard, voting_cls__svm__gamma=0.001, voting_cls__svm__C=100, voting_cls__rfc__n_estimators=100, voting_cls__rfc__min_samples_split=5 \n"
     ]
    },
    {
     "name": "stderr",
     "output_type": "stream",
     "text": [
      "/home/dks/anaconda3/lib/python3.5/site-packages/sklearn/preprocessing/label.py:151: DeprecationWarning: The truth value of an empty array is ambiguous. Returning False, but in future this will result in an error. Use `array.size > 0` to check that an array is not empty.\n",
      "  if diff:\n"
     ]
    },
    {
     "name": "stdout",
     "output_type": "stream",
     "text": [
      "[CV]  voting_cls__voting=soft, voting_cls__svm__gamma=0.0001, voting_cls__svm__C=1, voting_cls__rfc__n_estimators=100, voting_cls__rfc__min_samples_split=5, score=0.4935116789778399, total= 2.7min\n",
      "[CV] voting_cls__voting=hard, voting_cls__svm__gamma=0.001, voting_cls__svm__C=100, voting_cls__rfc__n_estimators=100, voting_cls__rfc__min_samples_split=5 \n"
     ]
    },
    {
     "name": "stderr",
     "output_type": "stream",
     "text": [
      "/home/dks/anaconda3/lib/python3.5/site-packages/sklearn/preprocessing/label.py:151: DeprecationWarning: The truth value of an empty array is ambiguous. Returning False, but in future this will result in an error. Use `array.size > 0` to check that an array is not empty.\n",
      "  if diff:\n",
      "/home/dks/anaconda3/lib/python3.5/site-packages/sklearn/preprocessing/label.py:151: DeprecationWarning: The truth value of an empty array is ambiguous. Returning False, but in future this will result in an error. Use `array.size > 0` to check that an array is not empty.\n",
      "  if diff:\n",
      "/home/dks/anaconda3/lib/python3.5/site-packages/sklearn/preprocessing/label.py:151: DeprecationWarning: The truth value of an empty array is ambiguous. Returning False, but in future this will result in an error. Use `array.size > 0` to check that an array is not empty.\n",
      "  if diff:\n",
      "/home/dks/anaconda3/lib/python3.5/site-packages/sklearn/preprocessing/label.py:151: DeprecationWarning: The truth value of an empty array is ambiguous. Returning False, but in future this will result in an error. Use `array.size > 0` to check that an array is not empty.\n",
      "  if diff:\n"
     ]
    },
    {
     "name": "stdout",
     "output_type": "stream",
     "text": [
      "[CV]  voting_cls__voting=soft, voting_cls__svm__gamma=0.0001, voting_cls__svm__C=1, voting_cls__rfc__n_estimators=100, voting_cls__rfc__min_samples_split=5, score=0.491410307630843, total= 2.7min\n",
      "[CV] voting_cls__voting=hard, voting_cls__svm__gamma=0.001, voting_cls__svm__C=100, voting_cls__rfc__n_estimators=100, voting_cls__rfc__min_samples_split=5 \n"
     ]
    },
    {
     "name": "stderr",
     "output_type": "stream",
     "text": [
      "/home/dks/anaconda3/lib/python3.5/site-packages/sklearn/preprocessing/label.py:151: DeprecationWarning: The truth value of an empty array is ambiguous. Returning False, but in future this will result in an error. Use `array.size > 0` to check that an array is not empty.\n",
      "  if diff:\n",
      "/home/dks/anaconda3/lib/python3.5/site-packages/sklearn/preprocessing/label.py:151: DeprecationWarning: The truth value of an empty array is ambiguous. Returning False, but in future this will result in an error. Use `array.size > 0` to check that an array is not empty.\n",
      "  if diff:\n"
     ]
    },
    {
     "name": "stdout",
     "output_type": "stream",
     "text": [
      "[CV]  voting_cls__voting=hard, voting_cls__svm__gamma=1, voting_cls__svm__C=100, voting_cls__rfc__n_estimators=100, voting_cls__rfc__min_samples_split=5, score=0.4830203755493408, total= 2.3min\n",
      "[CV] voting_cls__voting=soft, voting_cls__svm__gamma=0.001, voting_cls__svm__C=100, voting_cls__rfc__n_estimators=100, voting_cls__rfc__min_samples_split=5 \n"
     ]
    },
    {
     "name": "stderr",
     "output_type": "stream",
     "text": [
      "/home/dks/anaconda3/lib/python3.5/site-packages/sklearn/preprocessing/label.py:151: DeprecationWarning: The truth value of an empty array is ambiguous. Returning False, but in future this will result in an error. Use `array.size > 0` to check that an array is not empty.\n",
      "  if diff:\n"
     ]
    },
    {
     "name": "stdout",
     "output_type": "stream",
     "text": [
      "[CV]  voting_cls__voting=soft, voting_cls__svm__gamma=0.0001, voting_cls__svm__C=1, voting_cls__rfc__n_estimators=100, voting_cls__rfc__min_samples_split=5, score=0.49300279888044785, total= 2.7min\n",
      "[CV] voting_cls__voting=soft, voting_cls__svm__gamma=0.001, voting_cls__svm__C=100, voting_cls__rfc__n_estimators=100, voting_cls__rfc__min_samples_split=5 \n"
     ]
    },
    {
     "name": "stderr",
     "output_type": "stream",
     "text": [
      "/home/dks/anaconda3/lib/python3.5/site-packages/sklearn/preprocessing/label.py:151: DeprecationWarning: The truth value of an empty array is ambiguous. Returning False, but in future this will result in an error. Use `array.size > 0` to check that an array is not empty.\n",
      "  if diff:\n",
      "/home/dks/anaconda3/lib/python3.5/site-packages/sklearn/preprocessing/label.py:151: DeprecationWarning: The truth value of an empty array is ambiguous. Returning False, but in future this will result in an error. Use `array.size > 0` to check that an array is not empty.\n",
      "  if diff:\n",
      "/home/dks/anaconda3/lib/python3.5/site-packages/sklearn/preprocessing/label.py:151: DeprecationWarning: The truth value of an empty array is ambiguous. Returning False, but in future this will result in an error. Use `array.size > 0` to check that an array is not empty.\n",
      "  if diff:\n"
     ]
    },
    {
     "name": "stdout",
     "output_type": "stream",
     "text": [
      "[CV]  voting_cls__voting=hard, voting_cls__svm__gamma=1, voting_cls__svm__C=100, voting_cls__rfc__n_estimators=100, voting_cls__rfc__min_samples_split=5, score=0.48412856857656217, total= 2.4min\n",
      "[CV] voting_cls__voting=soft, voting_cls__svm__gamma=0.001, voting_cls__svm__C=100, voting_cls__rfc__n_estimators=100, voting_cls__rfc__min_samples_split=5 \n"
     ]
    },
    {
     "name": "stderr",
     "output_type": "stream",
     "text": [
      "/home/dks/anaconda3/lib/python3.5/site-packages/sklearn/preprocessing/label.py:151: DeprecationWarning: The truth value of an empty array is ambiguous. Returning False, but in future this will result in an error. Use `array.size > 0` to check that an array is not empty.\n",
      "  if diff:\n",
      "/home/dks/anaconda3/lib/python3.5/site-packages/sklearn/preprocessing/label.py:151: DeprecationWarning: The truth value of an empty array is ambiguous. Returning False, but in future this will result in an error. Use `array.size > 0` to check that an array is not empty.\n",
      "  if diff:\n"
     ]
    },
    {
     "name": "stdout",
     "output_type": "stream",
     "text": [
      "[CV]  voting_cls__voting=hard, voting_cls__svm__gamma=0.01, voting_cls__svm__C=100, voting_cls__rfc__n_estimators=100, voting_cls__rfc__min_samples_split=5, score=0.45305633240111864, total= 1.4min\n",
      "[CV] voting_cls__voting=hard, voting_cls__svm__gamma=0.0001, voting_cls__svm__C=100, voting_cls__rfc__n_estimators=100, voting_cls__rfc__min_samples_split=5 \n"
     ]
    },
    {
     "name": "stderr",
     "output_type": "stream",
     "text": [
      "/home/dks/anaconda3/lib/python3.5/site-packages/sklearn/preprocessing/label.py:151: DeprecationWarning: The truth value of an empty array is ambiguous. Returning False, but in future this will result in an error. Use `array.size > 0` to check that an array is not empty.\n",
      "  if diff:\n"
     ]
    },
    {
     "name": "stdout",
     "output_type": "stream",
     "text": [
      "[CV]  voting_cls__voting=hard, voting_cls__svm__gamma=0.01, voting_cls__svm__C=100, voting_cls__rfc__n_estimators=100, voting_cls__rfc__min_samples_split=5, score=0.46176881613096427, total= 1.5min\n",
      "[CV] voting_cls__voting=hard, voting_cls__svm__gamma=0.0001, voting_cls__svm__C=100, voting_cls__rfc__n_estimators=100, voting_cls__rfc__min_samples_split=5 \n"
     ]
    },
    {
     "name": "stderr",
     "output_type": "stream",
     "text": [
      "/home/dks/anaconda3/lib/python3.5/site-packages/sklearn/preprocessing/label.py:151: DeprecationWarning: The truth value of an empty array is ambiguous. Returning False, but in future this will result in an error. Use `array.size > 0` to check that an array is not empty.\n",
      "  if diff:\n",
      "/home/dks/anaconda3/lib/python3.5/site-packages/sklearn/preprocessing/label.py:151: DeprecationWarning: The truth value of an empty array is ambiguous. Returning False, but in future this will result in an error. Use `array.size > 0` to check that an array is not empty.\n",
      "  if diff:\n",
      "/home/dks/anaconda3/lib/python3.5/site-packages/sklearn/preprocessing/label.py:151: DeprecationWarning: The truth value of an empty array is ambiguous. Returning False, but in future this will result in an error. Use `array.size > 0` to check that an array is not empty.\n",
      "  if diff:\n",
      "/home/dks/anaconda3/lib/python3.5/site-packages/sklearn/preprocessing/label.py:151: DeprecationWarning: The truth value of an empty array is ambiguous. Returning False, but in future this will result in an error. Use `array.size > 0` to check that an array is not empty.\n",
      "  if diff:\n"
     ]
    },
    {
     "name": "stdout",
     "output_type": "stream",
     "text": [
      "[CV]  voting_cls__voting=hard, voting_cls__svm__gamma=1, voting_cls__svm__C=100, voting_cls__rfc__n_estimators=100, voting_cls__rfc__min_samples_split=5, score=0.4936025589764094, total= 2.4min\n",
      "[CV] voting_cls__voting=hard, voting_cls__svm__gamma=0.0001, voting_cls__svm__C=100, voting_cls__rfc__n_estimators=100, voting_cls__rfc__min_samples_split=5 \n"
     ]
    },
    {
     "name": "stderr",
     "output_type": "stream",
     "text": [
      "/home/dks/anaconda3/lib/python3.5/site-packages/sklearn/preprocessing/label.py:151: DeprecationWarning: The truth value of an empty array is ambiguous. Returning False, but in future this will result in an error. Use `array.size > 0` to check that an array is not empty.\n",
      "  if diff:\n",
      "/home/dks/anaconda3/lib/python3.5/site-packages/sklearn/preprocessing/label.py:151: DeprecationWarning: The truth value of an empty array is ambiguous. Returning False, but in future this will result in an error. Use `array.size > 0` to check that an array is not empty.\n",
      "  if diff:\n"
     ]
    },
    {
     "name": "stdout",
     "output_type": "stream",
     "text": [
      "[CV]  voting_cls__voting=hard, voting_cls__svm__gamma=0.01, voting_cls__svm__C=100, voting_cls__rfc__n_estimators=100, voting_cls__rfc__min_samples_split=5, score=0.47021191523390643, total= 1.5min\n",
      "[CV] voting_cls__voting=soft, voting_cls__svm__gamma=0.0001, voting_cls__svm__C=100, voting_cls__rfc__n_estimators=100, voting_cls__rfc__min_samples_split=5 \n"
     ]
    },
    {
     "name": "stderr",
     "output_type": "stream",
     "text": [
      "/home/dks/anaconda3/lib/python3.5/site-packages/sklearn/preprocessing/label.py:151: DeprecationWarning: The truth value of an empty array is ambiguous. Returning False, but in future this will result in an error. Use `array.size > 0` to check that an array is not empty.\n",
      "  if diff:\n",
      "/home/dks/anaconda3/lib/python3.5/site-packages/sklearn/preprocessing/label.py:151: DeprecationWarning: The truth value of an empty array is ambiguous. Returning False, but in future this will result in an error. Use `array.size > 0` to check that an array is not empty.\n",
      "  if diff:\n"
     ]
    },
    {
     "name": "stdout",
     "output_type": "stream",
     "text": [
      "[CV]  voting_cls__voting=soft, voting_cls__svm__gamma=0.01, voting_cls__svm__C=100, voting_cls__rfc__n_estimators=100, voting_cls__rfc__min_samples_split=5, score=0.500698742263925, total= 1.5min\n",
      "[CV] voting_cls__voting=soft, voting_cls__svm__gamma=0.0001, voting_cls__svm__C=100, voting_cls__rfc__n_estimators=100, voting_cls__rfc__min_samples_split=5 \n",
      "[CV]  voting_cls__voting=soft, voting_cls__svm__gamma=1, voting_cls__svm__C=100, voting_cls__rfc__n_estimators=100, voting_cls__rfc__min_samples_split=5, score=0.5064883210221601, total= 2.4min\n",
      "[CV] voting_cls__voting=soft, voting_cls__svm__gamma=0.0001, voting_cls__svm__C=100, voting_cls__rfc__n_estimators=100, voting_cls__rfc__min_samples_split=5 \n"
     ]
    },
    {
     "name": "stderr",
     "output_type": "stream",
     "text": [
      "/home/dks/anaconda3/lib/python3.5/site-packages/sklearn/preprocessing/label.py:151: DeprecationWarning: The truth value of an empty array is ambiguous. Returning False, but in future this will result in an error. Use `array.size > 0` to check that an array is not empty.\n",
      "  if diff:\n",
      "/home/dks/anaconda3/lib/python3.5/site-packages/sklearn/preprocessing/label.py:151: DeprecationWarning: The truth value of an empty array is ambiguous. Returning False, but in future this will result in an error. Use `array.size > 0` to check that an array is not empty.\n",
      "  if diff:\n"
     ]
    },
    {
     "name": "stdout",
     "output_type": "stream",
     "text": [
      "[CV]  voting_cls__voting=soft, voting_cls__svm__gamma=0.01, voting_cls__svm__C=100, voting_cls__rfc__n_estimators=100, voting_cls__rfc__min_samples_split=5, score=0.4972033559728326, total= 1.4min\n",
      "[CV] voting_cls__voting=hard, voting_cls__svm__gamma=1, voting_cls__svm__C=1000, voting_cls__rfc__n_estimators=100, voting_cls__rfc__min_samples_split=5 \n"
     ]
    },
    {
     "name": "stderr",
     "output_type": "stream",
     "text": [
      "/home/dks/anaconda3/lib/python3.5/site-packages/sklearn/preprocessing/label.py:151: DeprecationWarning: The truth value of an empty array is ambiguous. Returning False, but in future this will result in an error. Use `array.size > 0` to check that an array is not empty.\n",
      "  if diff:\n",
      "/home/dks/anaconda3/lib/python3.5/site-packages/sklearn/preprocessing/label.py:151: DeprecationWarning: The truth value of an empty array is ambiguous. Returning False, but in future this will result in an error. Use `array.size > 0` to check that an array is not empty.\n",
      "  if diff:\n"
     ]
    },
    {
     "name": "stdout",
     "output_type": "stream",
     "text": [
      "[CV]  voting_cls__voting=soft, voting_cls__svm__gamma=0.01, voting_cls__svm__C=100, voting_cls__rfc__n_estimators=100, voting_cls__rfc__min_samples_split=5, score=0.49920031987205116, total= 1.5min\n",
      "[CV] voting_cls__voting=hard, voting_cls__svm__gamma=1, voting_cls__svm__C=1000, voting_cls__rfc__n_estimators=100, voting_cls__rfc__min_samples_split=5 \n"
     ]
    },
    {
     "name": "stderr",
     "output_type": "stream",
     "text": [
      "/home/dks/anaconda3/lib/python3.5/site-packages/sklearn/preprocessing/label.py:151: DeprecationWarning: The truth value of an empty array is ambiguous. Returning False, but in future this will result in an error. Use `array.size > 0` to check that an array is not empty.\n",
      "  if diff:\n",
      "/home/dks/anaconda3/lib/python3.5/site-packages/sklearn/preprocessing/label.py:151: DeprecationWarning: The truth value of an empty array is ambiguous. Returning False, but in future this will result in an error. Use `array.size > 0` to check that an array is not empty.\n",
      "  if diff:\n",
      "/home/dks/anaconda3/lib/python3.5/site-packages/sklearn/preprocessing/label.py:151: DeprecationWarning: The truth value of an empty array is ambiguous. Returning False, but in future this will result in an error. Use `array.size > 0` to check that an array is not empty.\n",
      "  if diff:\n"
     ]
    },
    {
     "name": "stdout",
     "output_type": "stream",
     "text": [
      "[CV]  voting_cls__voting=hard, voting_cls__svm__gamma=0.001, voting_cls__svm__C=100, voting_cls__rfc__n_estimators=100, voting_cls__rfc__min_samples_split=5, score=0.4511878618486724, total= 1.6min\n",
      "[CV] voting_cls__voting=hard, voting_cls__svm__gamma=1, voting_cls__svm__C=1000, voting_cls__rfc__n_estimators=100, voting_cls__rfc__min_samples_split=5 \n"
     ]
    },
    {
     "name": "stderr",
     "output_type": "stream",
     "text": [
      "/home/dks/anaconda3/lib/python3.5/site-packages/sklearn/preprocessing/label.py:151: DeprecationWarning: The truth value of an empty array is ambiguous. Returning False, but in future this will result in an error. Use `array.size > 0` to check that an array is not empty.\n",
      "  if diff:\n"
     ]
    },
    {
     "name": "stdout",
     "output_type": "stream",
     "text": [
      "[CV]  voting_cls__voting=hard, voting_cls__svm__gamma=0.001, voting_cls__svm__C=100, voting_cls__rfc__n_estimators=100, voting_cls__rfc__min_samples_split=5, score=0.44466640031961646, total= 1.6min\n",
      "[CV] voting_cls__voting=soft, voting_cls__svm__gamma=1, voting_cls__svm__C=1000, voting_cls__rfc__n_estimators=100, voting_cls__rfc__min_samples_split=5 \n"
     ]
    },
    {
     "name": "stderr",
     "output_type": "stream",
     "text": [
      "/home/dks/anaconda3/lib/python3.5/site-packages/sklearn/preprocessing/label.py:151: DeprecationWarning: The truth value of an empty array is ambiguous. Returning False, but in future this will result in an error. Use `array.size > 0` to check that an array is not empty.\n",
      "  if diff:\n",
      "/home/dks/anaconda3/lib/python3.5/site-packages/sklearn/preprocessing/label.py:151: DeprecationWarning: The truth value of an empty array is ambiguous. Returning False, but in future this will result in an error. Use `array.size > 0` to check that an array is not empty.\n",
      "  if diff:\n"
     ]
    },
    {
     "name": "stdout",
     "output_type": "stream",
     "text": [
      "[CV]  voting_cls__voting=soft, voting_cls__svm__gamma=1, voting_cls__svm__C=100, voting_cls__rfc__n_estimators=100, voting_cls__rfc__min_samples_split=5, score=0.5005992808629645, total= 2.4min\n",
      "[CV] voting_cls__voting=soft, voting_cls__svm__gamma=1, voting_cls__svm__C=1000, voting_cls__rfc__n_estimators=100, voting_cls__rfc__min_samples_split=5 \n"
     ]
    },
    {
     "name": "stderr",
     "output_type": "stream",
     "text": [
      "/home/dks/anaconda3/lib/python3.5/site-packages/sklearn/preprocessing/label.py:151: DeprecationWarning: The truth value of an empty array is ambiguous. Returning False, but in future this will result in an error. Use `array.size > 0` to check that an array is not empty.\n",
      "  if diff:\n"
     ]
    },
    {
     "name": "stdout",
     "output_type": "stream",
     "text": [
      "[CV]  voting_cls__voting=soft, voting_cls__svm__gamma=1, voting_cls__svm__C=100, voting_cls__rfc__n_estimators=100, voting_cls__rfc__min_samples_split=5, score=0.5049980007996802, total= 2.5min\n",
      "[CV] voting_cls__voting=soft, voting_cls__svm__gamma=1, voting_cls__svm__C=1000, voting_cls__rfc__n_estimators=100, voting_cls__rfc__min_samples_split=5 \n"
     ]
    },
    {
     "name": "stderr",
     "output_type": "stream",
     "text": [
      "/home/dks/anaconda3/lib/python3.5/site-packages/sklearn/preprocessing/label.py:151: DeprecationWarning: The truth value of an empty array is ambiguous. Returning False, but in future this will result in an error. Use `array.size > 0` to check that an array is not empty.\n",
      "  if diff:\n",
      "/home/dks/anaconda3/lib/python3.5/site-packages/sklearn/preprocessing/label.py:151: DeprecationWarning: The truth value of an empty array is ambiguous. Returning False, but in future this will result in an error. Use `array.size > 0` to check that an array is not empty.\n",
      "  if diff:\n",
      "/home/dks/anaconda3/lib/python3.5/site-packages/sklearn/preprocessing/label.py:151: DeprecationWarning: The truth value of an empty array is ambiguous. Returning False, but in future this will result in an error. Use `array.size > 0` to check that an array is not empty.\n",
      "  if diff:\n",
      "/home/dks/anaconda3/lib/python3.5/site-packages/sklearn/preprocessing/label.py:151: DeprecationWarning: The truth value of an empty array is ambiguous. Returning False, but in future this will result in an error. Use `array.size > 0` to check that an array is not empty.\n",
      "  if diff:\n",
      "/home/dks/anaconda3/lib/python3.5/site-packages/sklearn/preprocessing/label.py:151: DeprecationWarning: The truth value of an empty array is ambiguous. Returning False, but in future this will result in an error. Use `array.size > 0` to check that an array is not empty.\n",
      "  if diff:\n"
     ]
    },
    {
     "name": "stdout",
     "output_type": "stream",
     "text": [
      "[CV]  voting_cls__voting=hard, voting_cls__svm__gamma=0.001, voting_cls__svm__C=100, voting_cls__rfc__n_estimators=100, voting_cls__rfc__min_samples_split=5, score=0.46261495401839264, total= 1.6min\n",
      "[CV] voting_cls__voting=hard, voting_cls__svm__gamma=0.01, voting_cls__svm__C=1000, voting_cls__rfc__n_estimators=100, voting_cls__rfc__min_samples_split=5 \n"
     ]
    },
    {
     "name": "stderr",
     "output_type": "stream",
     "text": [
      "/home/dks/anaconda3/lib/python3.5/site-packages/sklearn/preprocessing/label.py:151: DeprecationWarning: The truth value of an empty array is ambiguous. Returning False, but in future this will result in an error. Use `array.size > 0` to check that an array is not empty.\n",
      "  if diff:\n"
     ]
    },
    {
     "name": "stdout",
     "output_type": "stream",
     "text": [
      "[CV]  voting_cls__voting=soft, voting_cls__svm__gamma=0.001, voting_cls__svm__C=100, voting_cls__rfc__n_estimators=100, voting_cls__rfc__min_samples_split=5, score=0.4930083899320815, total= 1.6min\n",
      "[CV] voting_cls__voting=hard, voting_cls__svm__gamma=0.01, voting_cls__svm__C=1000, voting_cls__rfc__n_estimators=100, voting_cls__rfc__min_samples_split=5 \n"
     ]
    },
    {
     "name": "stderr",
     "output_type": "stream",
     "text": [
      "/home/dks/anaconda3/lib/python3.5/site-packages/sklearn/preprocessing/label.py:151: DeprecationWarning: The truth value of an empty array is ambiguous. Returning False, but in future this will result in an error. Use `array.size > 0` to check that an array is not empty.\n",
      "  if diff:\n"
     ]
    },
    {
     "name": "stdout",
     "output_type": "stream",
     "text": [
      "[CV]  voting_cls__voting=soft, voting_cls__svm__gamma=0.001, voting_cls__svm__C=100, voting_cls__rfc__n_estimators=100, voting_cls__rfc__min_samples_split=5, score=0.498702335795568, total= 1.6min\n",
      "[CV] voting_cls__voting=hard, voting_cls__svm__gamma=0.01, voting_cls__svm__C=1000, voting_cls__rfc__n_estimators=100, voting_cls__rfc__min_samples_split=5 \n"
     ]
    },
    {
     "name": "stderr",
     "output_type": "stream",
     "text": [
      "/home/dks/anaconda3/lib/python3.5/site-packages/sklearn/preprocessing/label.py:151: DeprecationWarning: The truth value of an empty array is ambiguous. Returning False, but in future this will result in an error. Use `array.size > 0` to check that an array is not empty.\n",
      "  if diff:\n"
     ]
    },
    {
     "name": "stdout",
     "output_type": "stream",
     "text": [
      "[CV]  voting_cls__voting=soft, voting_cls__svm__gamma=0.001, voting_cls__svm__C=100, voting_cls__rfc__n_estimators=100, voting_cls__rfc__min_samples_split=5, score=0.4934026389444222, total= 1.6min\n",
      "[CV] voting_cls__voting=soft, voting_cls__svm__gamma=0.01, voting_cls__svm__C=1000, voting_cls__rfc__n_estimators=100, voting_cls__rfc__min_samples_split=5 \n"
     ]
    },
    {
     "name": "stderr",
     "output_type": "stream",
     "text": [
      "/home/dks/anaconda3/lib/python3.5/site-packages/sklearn/preprocessing/label.py:151: DeprecationWarning: The truth value of an empty array is ambiguous. Returning False, but in future this will result in an error. Use `array.size > 0` to check that an array is not empty.\n",
      "  if diff:\n",
      "/home/dks/anaconda3/lib/python3.5/site-packages/sklearn/preprocessing/label.py:151: DeprecationWarning: The truth value of an empty array is ambiguous. Returning False, but in future this will result in an error. Use `array.size > 0` to check that an array is not empty.\n",
      "  if diff:\n",
      "/home/dks/anaconda3/lib/python3.5/site-packages/sklearn/preprocessing/label.py:151: DeprecationWarning: The truth value of an empty array is ambiguous. Returning False, but in future this will result in an error. Use `array.size > 0` to check that an array is not empty.\n",
      "  if diff:\n",
      "/home/dks/anaconda3/lib/python3.5/site-packages/sklearn/preprocessing/label.py:151: DeprecationWarning: The truth value of an empty array is ambiguous. Returning False, but in future this will result in an error. Use `array.size > 0` to check that an array is not empty.\n",
      "  if diff:\n"
     ]
    },
    {
     "name": "stdout",
     "output_type": "stream",
     "text": [
      "[CV]  voting_cls__voting=hard, voting_cls__svm__gamma=0.0001, voting_cls__svm__C=100, voting_cls__rfc__n_estimators=100, voting_cls__rfc__min_samples_split=5, score=0.42928485817019574, total= 2.0min\n",
      "[CV] voting_cls__voting=soft, voting_cls__svm__gamma=0.01, voting_cls__svm__C=1000, voting_cls__rfc__n_estimators=100, voting_cls__rfc__min_samples_split=5 \n"
     ]
    },
    {
     "name": "stderr",
     "output_type": "stream",
     "text": [
      "/home/dks/anaconda3/lib/python3.5/site-packages/sklearn/preprocessing/label.py:151: DeprecationWarning: The truth value of an empty array is ambiguous. Returning False, but in future this will result in an error. Use `array.size > 0` to check that an array is not empty.\n",
      "  if diff:\n"
     ]
    },
    {
     "name": "stdout",
     "output_type": "stream",
     "text": [
      "[CV]  voting_cls__voting=hard, voting_cls__svm__gamma=0.0001, voting_cls__svm__C=100, voting_cls__rfc__n_estimators=100, voting_cls__rfc__min_samples_split=5, score=0.4362148133359952, total= 2.1min\n",
      "[CV] voting_cls__voting=soft, voting_cls__svm__gamma=0.01, voting_cls__svm__C=1000, voting_cls__rfc__n_estimators=100, voting_cls__rfc__min_samples_split=5 \n"
     ]
    },
    {
     "name": "stderr",
     "output_type": "stream",
     "text": [
      "/home/dks/anaconda3/lib/python3.5/site-packages/sklearn/preprocessing/label.py:151: DeprecationWarning: The truth value of an empty array is ambiguous. Returning False, but in future this will result in an error. Use `array.size > 0` to check that an array is not empty.\n",
      "  if diff:\n",
      "/home/dks/anaconda3/lib/python3.5/site-packages/sklearn/preprocessing/label.py:151: DeprecationWarning: The truth value of an empty array is ambiguous. Returning False, but in future this will result in an error. Use `array.size > 0` to check that an array is not empty.\n",
      "  if diff:\n",
      "/home/dks/anaconda3/lib/python3.5/site-packages/sklearn/preprocessing/label.py:151: DeprecationWarning: The truth value of an empty array is ambiguous. Returning False, but in future this will result in an error. Use `array.size > 0` to check that an array is not empty.\n",
      "  if diff:\n",
      "/home/dks/anaconda3/lib/python3.5/site-packages/sklearn/preprocessing/label.py:151: DeprecationWarning: The truth value of an empty array is ambiguous. Returning False, but in future this will result in an error. Use `array.size > 0` to check that an array is not empty.\n",
      "  if diff:\n"
     ]
    },
    {
     "name": "stdout",
     "output_type": "stream",
     "text": [
      "[CV]  voting_cls__voting=hard, voting_cls__svm__gamma=0.0001, voting_cls__svm__C=100, voting_cls__rfc__n_estimators=100, voting_cls__rfc__min_samples_split=5, score=0.45121951219512196, total= 2.1min\n",
      "[CV] voting_cls__voting=hard, voting_cls__svm__gamma=0.001, voting_cls__svm__C=1000, voting_cls__rfc__n_estimators=100, voting_cls__rfc__min_samples_split=5 \n"
     ]
    },
    {
     "name": "stderr",
     "output_type": "stream",
     "text": [
      "/home/dks/anaconda3/lib/python3.5/site-packages/sklearn/preprocessing/label.py:151: DeprecationWarning: The truth value of an empty array is ambiguous. Returning False, but in future this will result in an error. Use `array.size > 0` to check that an array is not empty.\n",
      "  if diff:\n"
     ]
    },
    {
     "name": "stdout",
     "output_type": "stream",
     "text": [
      "[CV]  voting_cls__voting=soft, voting_cls__svm__gamma=0.0001, voting_cls__svm__C=100, voting_cls__rfc__n_estimators=100, voting_cls__rfc__min_samples_split=5, score=0.4917149131563186, total= 2.1min\n",
      "[CV] voting_cls__voting=hard, voting_cls__svm__gamma=0.001, voting_cls__svm__C=1000, voting_cls__rfc__n_estimators=100, voting_cls__rfc__min_samples_split=5 \n"
     ]
    },
    {
     "name": "stderr",
     "output_type": "stream",
     "text": [
      "/home/dks/anaconda3/lib/python3.5/site-packages/sklearn/preprocessing/label.py:151: DeprecationWarning: The truth value of an empty array is ambiguous. Returning False, but in future this will result in an error. Use `array.size > 0` to check that an array is not empty.\n",
      "  if diff:\n"
     ]
    },
    {
     "name": "stdout",
     "output_type": "stream",
     "text": [
      "[CV]  voting_cls__voting=soft, voting_cls__svm__gamma=0.0001, voting_cls__svm__C=100, voting_cls__rfc__n_estimators=100, voting_cls__rfc__min_samples_split=5, score=0.4936025589764094, total= 2.1min\n",
      "[CV] voting_cls__voting=hard, voting_cls__svm__gamma=0.001, voting_cls__svm__C=1000, voting_cls__rfc__n_estimators=100, voting_cls__rfc__min_samples_split=5 \n"
     ]
    },
    {
     "name": "stderr",
     "output_type": "stream",
     "text": [
      "/home/dks/anaconda3/lib/python3.5/site-packages/sklearn/preprocessing/label.py:151: DeprecationWarning: The truth value of an empty array is ambiguous. Returning False, but in future this will result in an error. Use `array.size > 0` to check that an array is not empty.\n",
      "  if diff:\n"
     ]
    },
    {
     "name": "stdout",
     "output_type": "stream",
     "text": [
      "[CV]  voting_cls__voting=soft, voting_cls__svm__gamma=0.0001, voting_cls__svm__C=100, voting_cls__rfc__n_estimators=100, voting_cls__rfc__min_samples_split=5, score=0.48921294446664004, total= 2.1min\n",
      "[CV] voting_cls__voting=soft, voting_cls__svm__gamma=0.001, voting_cls__svm__C=1000, voting_cls__rfc__n_estimators=100, voting_cls__rfc__min_samples_split=5 \n"
     ]
    },
    {
     "name": "stderr",
     "output_type": "stream",
     "text": [
      "/home/dks/anaconda3/lib/python3.5/site-packages/sklearn/preprocessing/label.py:151: DeprecationWarning: The truth value of an empty array is ambiguous. Returning False, but in future this will result in an error. Use `array.size > 0` to check that an array is not empty.\n",
      "  if diff:\n",
      "/home/dks/anaconda3/lib/python3.5/site-packages/sklearn/preprocessing/label.py:151: DeprecationWarning: The truth value of an empty array is ambiguous. Returning False, but in future this will result in an error. Use `array.size > 0` to check that an array is not empty.\n",
      "  if diff:\n",
      "/home/dks/anaconda3/lib/python3.5/site-packages/sklearn/preprocessing/label.py:151: DeprecationWarning: The truth value of an empty array is ambiguous. Returning False, but in future this will result in an error. Use `array.size > 0` to check that an array is not empty.\n",
      "  if diff:\n",
      "/home/dks/anaconda3/lib/python3.5/site-packages/sklearn/preprocessing/label.py:151: DeprecationWarning: The truth value of an empty array is ambiguous. Returning False, but in future this will result in an error. Use `array.size > 0` to check that an array is not empty.\n",
      "  if diff:\n"
     ]
    },
    {
     "name": "stdout",
     "output_type": "stream",
     "text": [
      "[CV]  voting_cls__voting=hard, voting_cls__svm__gamma=0.01, voting_cls__svm__C=1000, voting_cls__rfc__n_estimators=100, voting_cls__rfc__min_samples_split=5, score=0.4679576761828708, total= 1.7min\n",
      "[CV] voting_cls__voting=soft, voting_cls__svm__gamma=0.001, voting_cls__svm__C=1000, voting_cls__rfc__n_estimators=100, voting_cls__rfc__min_samples_split=5 \n"
     ]
    },
    {
     "name": "stderr",
     "output_type": "stream",
     "text": [
      "/home/dks/anaconda3/lib/python3.5/site-packages/sklearn/preprocessing/label.py:151: DeprecationWarning: The truth value of an empty array is ambiguous. Returning False, but in future this will result in an error. Use `array.size > 0` to check that an array is not empty.\n",
      "  if diff:\n",
      "/home/dks/anaconda3/lib/python3.5/site-packages/sklearn/preprocessing/label.py:151: DeprecationWarning: The truth value of an empty array is ambiguous. Returning False, but in future this will result in an error. Use `array.size > 0` to check that an array is not empty.\n",
      "  if diff:\n"
     ]
    },
    {
     "name": "stdout",
     "output_type": "stream",
     "text": [
      "[CV]  voting_cls__voting=hard, voting_cls__svm__gamma=0.01, voting_cls__svm__C=1000, voting_cls__rfc__n_estimators=100, voting_cls__rfc__min_samples_split=5, score=0.4610467439073112, total= 1.7min\n",
      "[CV] voting_cls__voting=soft, voting_cls__svm__gamma=0.001, voting_cls__svm__C=1000, voting_cls__rfc__n_estimators=100, voting_cls__rfc__min_samples_split=5 \n"
     ]
    },
    {
     "name": "stderr",
     "output_type": "stream",
     "text": [
      "/home/dks/anaconda3/lib/python3.5/site-packages/sklearn/preprocessing/label.py:151: DeprecationWarning: The truth value of an empty array is ambiguous. Returning False, but in future this will result in an error. Use `array.size > 0` to check that an array is not empty.\n",
      "  if diff:\n"
     ]
    },
    {
     "name": "stdout",
     "output_type": "stream",
     "text": [
      "[CV]  voting_cls__voting=hard, voting_cls__svm__gamma=0.01, voting_cls__svm__C=1000, voting_cls__rfc__n_estimators=100, voting_cls__rfc__min_samples_split=5, score=0.4730107956817273, total= 1.7min\n",
      "[CV] voting_cls__voting=hard, voting_cls__svm__gamma=0.0001, voting_cls__svm__C=1000, voting_cls__rfc__n_estimators=100, voting_cls__rfc__min_samples_split=5 \n"
     ]
    },
    {
     "name": "stderr",
     "output_type": "stream",
     "text": [
      "/home/dks/anaconda3/lib/python3.5/site-packages/sklearn/preprocessing/label.py:151: DeprecationWarning: The truth value of an empty array is ambiguous. Returning False, but in future this will result in an error. Use `array.size > 0` to check that an array is not empty.\n",
      "  if diff:\n"
     ]
    },
    {
     "name": "stdout",
     "output_type": "stream",
     "text": [
      "[CV]  voting_cls__voting=soft, voting_cls__svm__gamma=0.01, voting_cls__svm__C=1000, voting_cls__rfc__n_estimators=100, voting_cls__rfc__min_samples_split=5, score=0.5046915552006388, total= 1.7min\n",
      "[CV] voting_cls__voting=hard, voting_cls__svm__gamma=0.0001, voting_cls__svm__C=1000, voting_cls__rfc__n_estimators=100, voting_cls__rfc__min_samples_split=5 \n"
     ]
    },
    {
     "name": "stderr",
     "output_type": "stream",
     "text": [
      "/home/dks/anaconda3/lib/python3.5/site-packages/sklearn/preprocessing/label.py:151: DeprecationWarning: The truth value of an empty array is ambiguous. Returning False, but in future this will result in an error. Use `array.size > 0` to check that an array is not empty.\n",
      "  if diff:\n",
      "/home/dks/anaconda3/lib/python3.5/site-packages/sklearn/preprocessing/label.py:151: DeprecationWarning: The truth value of an empty array is ambiguous. Returning False, but in future this will result in an error. Use `array.size > 0` to check that an array is not empty.\n",
      "  if diff:\n",
      "/home/dks/anaconda3/lib/python3.5/site-packages/sklearn/preprocessing/label.py:151: DeprecationWarning: The truth value of an empty array is ambiguous. Returning False, but in future this will result in an error. Use `array.size > 0` to check that an array is not empty.\n",
      "  if diff:\n",
      "/home/dks/anaconda3/lib/python3.5/site-packages/sklearn/preprocessing/label.py:151: DeprecationWarning: The truth value of an empty array is ambiguous. Returning False, but in future this will result in an error. Use `array.size > 0` to check that an array is not empty.\n",
      "  if diff:\n",
      "/home/dks/anaconda3/lib/python3.5/site-packages/sklearn/preprocessing/label.py:151: DeprecationWarning: The truth value of an empty array is ambiguous. Returning False, but in future this will result in an error. Use `array.size > 0` to check that an array is not empty.\n",
      "  if diff:\n"
     ]
    },
    {
     "name": "stdout",
     "output_type": "stream",
     "text": [
      "[CV]  voting_cls__voting=soft, voting_cls__svm__gamma=0.01, voting_cls__svm__C=1000, voting_cls__rfc__n_estimators=100, voting_cls__rfc__min_samples_split=5, score=0.49840191769876147, total= 1.6min\n",
      "[CV] voting_cls__voting=hard, voting_cls__svm__gamma=0.0001, voting_cls__svm__C=1000, voting_cls__rfc__n_estimators=100, voting_cls__rfc__min_samples_split=5 \n"
     ]
    },
    {
     "name": "stderr",
     "output_type": "stream",
     "text": [
      "/home/dks/anaconda3/lib/python3.5/site-packages/sklearn/preprocessing/label.py:151: DeprecationWarning: The truth value of an empty array is ambiguous. Returning False, but in future this will result in an error. Use `array.size > 0` to check that an array is not empty.\n",
      "  if diff:\n",
      "/home/dks/anaconda3/lib/python3.5/site-packages/sklearn/preprocessing/label.py:151: DeprecationWarning: The truth value of an empty array is ambiguous. Returning False, but in future this will result in an error. Use `array.size > 0` to check that an array is not empty.\n",
      "  if diff:\n"
     ]
    },
    {
     "name": "stdout",
     "output_type": "stream",
     "text": [
      "[CV]  voting_cls__voting=hard, voting_cls__svm__gamma=0.001, voting_cls__svm__C=1000, voting_cls__rfc__n_estimators=100, voting_cls__rfc__min_samples_split=5, score=0.4585745657815931, total= 1.6min\n",
      "[CV] voting_cls__voting=soft, voting_cls__svm__gamma=0.0001, voting_cls__svm__C=1000, voting_cls__rfc__n_estimators=100, voting_cls__rfc__min_samples_split=5 \n"
     ]
    },
    {
     "name": "stderr",
     "output_type": "stream",
     "text": [
      "/home/dks/anaconda3/lib/python3.5/site-packages/sklearn/preprocessing/label.py:151: DeprecationWarning: The truth value of an empty array is ambiguous. Returning False, but in future this will result in an error. Use `array.size > 0` to check that an array is not empty.\n",
      "  if diff:\n",
      "/home/dks/anaconda3/lib/python3.5/site-packages/sklearn/preprocessing/label.py:151: DeprecationWarning: The truth value of an empty array is ambiguous. Returning False, but in future this will result in an error. Use `array.size > 0` to check that an array is not empty.\n",
      "  if diff:\n"
     ]
    },
    {
     "name": "stdout",
     "output_type": "stream",
     "text": [
      "[CV]  voting_cls__voting=soft, voting_cls__svm__gamma=0.01, voting_cls__svm__C=1000, voting_cls__rfc__n_estimators=100, voting_cls__rfc__min_samples_split=5, score=0.5001999200319872, total= 1.7min\n",
      "[CV] voting_cls__voting=soft, voting_cls__svm__gamma=0.0001, voting_cls__svm__C=1000, voting_cls__rfc__n_estimators=100, voting_cls__rfc__min_samples_split=5 \n"
     ]
    },
    {
     "name": "stderr",
     "output_type": "stream",
     "text": [
      "/home/dks/anaconda3/lib/python3.5/site-packages/sklearn/preprocessing/label.py:151: DeprecationWarning: The truth value of an empty array is ambiguous. Returning False, but in future this will result in an error. Use `array.size > 0` to check that an array is not empty.\n",
      "  if diff:\n"
     ]
    },
    {
     "name": "stdout",
     "output_type": "stream",
     "text": [
      "[CV]  voting_cls__voting=hard, voting_cls__svm__gamma=0.001, voting_cls__svm__C=1000, voting_cls__rfc__n_estimators=100, voting_cls__rfc__min_samples_split=5, score=0.4540551338393927, total= 1.4min\n",
      "[CV] voting_cls__voting=soft, voting_cls__svm__gamma=0.0001, voting_cls__svm__C=1000, voting_cls__rfc__n_estimators=100, voting_cls__rfc__min_samples_split=5 \n"
     ]
    },
    {
     "name": "stderr",
     "output_type": "stream",
     "text": [
      "/home/dks/anaconda3/lib/python3.5/site-packages/sklearn/preprocessing/label.py:151: DeprecationWarning: The truth value of an empty array is ambiguous. Returning False, but in future this will result in an error. Use `array.size > 0` to check that an array is not empty.\n",
      "  if diff:\n"
     ]
    },
    {
     "name": "stdout",
     "output_type": "stream",
     "text": [
      "[CV]  voting_cls__voting=hard, voting_cls__svm__gamma=0.001, voting_cls__svm__C=1000, voting_cls__rfc__n_estimators=100, voting_cls__rfc__min_samples_split=5, score=0.46941223510595764, total= 1.6min\n",
      "[CV] voting_cls__voting=hard, voting_cls__svm__gamma=1, voting_cls__svm__C=0.1, voting_cls__rfc__n_estimators=10, voting_cls__rfc__min_samples_split=10 \n"
     ]
    },
    {
     "name": "stderr",
     "output_type": "stream",
     "text": [
      "/home/dks/anaconda3/lib/python3.5/site-packages/sklearn/preprocessing/label.py:151: DeprecationWarning: The truth value of an empty array is ambiguous. Returning False, but in future this will result in an error. Use `array.size > 0` to check that an array is not empty.\n",
      "  if diff:\n"
     ]
    },
    {
     "name": "stdout",
     "output_type": "stream",
     "text": [
      "[CV]  voting_cls__voting=soft, voting_cls__svm__gamma=0.001, voting_cls__svm__C=1000, voting_cls__rfc__n_estimators=100, voting_cls__rfc__min_samples_split=5, score=0.5014973048512678, total= 1.6min\n",
      "[CV] voting_cls__voting=hard, voting_cls__svm__gamma=1, voting_cls__svm__C=0.1, voting_cls__rfc__n_estimators=10, voting_cls__rfc__min_samples_split=10 \n"
     ]
    },
    {
     "name": "stderr",
     "output_type": "stream",
     "text": [
      "/home/dks/anaconda3/lib/python3.5/site-packages/sklearn/preprocessing/label.py:151: DeprecationWarning: The truth value of an empty array is ambiguous. Returning False, but in future this will result in an error. Use `array.size > 0` to check that an array is not empty.\n",
      "  if diff:\n",
      "/home/dks/anaconda3/lib/python3.5/site-packages/sklearn/preprocessing/label.py:151: DeprecationWarning: The truth value of an empty array is ambiguous. Returning False, but in future this will result in an error. Use `array.size > 0` to check that an array is not empty.\n",
      "  if diff:\n",
      "/home/dks/anaconda3/lib/python3.5/site-packages/sklearn/preprocessing/label.py:151: DeprecationWarning: The truth value of an empty array is ambiguous. Returning False, but in future this will result in an error. Use `array.size > 0` to check that an array is not empty.\n",
      "  if diff:\n"
     ]
    },
    {
     "name": "stdout",
     "output_type": "stream",
     "text": [
      "[CV]  voting_cls__voting=soft, voting_cls__svm__gamma=0.001, voting_cls__svm__C=1000, voting_cls__rfc__n_estimators=100, voting_cls__rfc__min_samples_split=5, score=0.4958050339592489, total= 1.5min\n",
      "[CV] voting_cls__voting=hard, voting_cls__svm__gamma=1, voting_cls__svm__C=0.1, voting_cls__rfc__n_estimators=10, voting_cls__rfc__min_samples_split=10 \n"
     ]
    },
    {
     "name": "stderr",
     "output_type": "stream",
     "text": [
      "/home/dks/anaconda3/lib/python3.5/site-packages/sklearn/preprocessing/label.py:151: DeprecationWarning: The truth value of an empty array is ambiguous. Returning False, but in future this will result in an error. Use `array.size > 0` to check that an array is not empty.\n",
      "  if diff:\n"
     ]
    },
    {
     "name": "stdout",
     "output_type": "stream",
     "text": [
      "[CV]  voting_cls__voting=soft, voting_cls__svm__gamma=0.001, voting_cls__svm__C=1000, voting_cls__rfc__n_estimators=100, voting_cls__rfc__min_samples_split=5, score=0.49840063974410237, total= 1.5min\n",
      "[CV] voting_cls__voting=soft, voting_cls__svm__gamma=1, voting_cls__svm__C=0.1, voting_cls__rfc__n_estimators=10, voting_cls__rfc__min_samples_split=10 \n"
     ]
    },
    {
     "name": "stderr",
     "output_type": "stream",
     "text": [
      "/home/dks/anaconda3/lib/python3.5/site-packages/sklearn/preprocessing/label.py:151: DeprecationWarning: The truth value of an empty array is ambiguous. Returning False, but in future this will result in an error. Use `array.size > 0` to check that an array is not empty.\n",
      "  if diff:\n",
      "/home/dks/anaconda3/lib/python3.5/site-packages/sklearn/preprocessing/label.py:151: DeprecationWarning: The truth value of an empty array is ambiguous. Returning False, but in future this will result in an error. Use `array.size > 0` to check that an array is not empty.\n",
      "  if diff:\n",
      "/home/dks/anaconda3/lib/python3.5/site-packages/sklearn/preprocessing/label.py:151: DeprecationWarning: The truth value of an empty array is ambiguous. Returning False, but in future this will result in an error. Use `array.size > 0` to check that an array is not empty.\n",
      "  if diff:\n"
     ]
    },
    {
     "name": "stdout",
     "output_type": "stream",
     "text": [
      "[CV]  voting_cls__voting=hard, voting_cls__svm__gamma=0.0001, voting_cls__svm__C=1000, voting_cls__rfc__n_estimators=100, voting_cls__rfc__min_samples_split=5, score=0.4499900179676582, total= 1.7min\n",
      "[CV] voting_cls__voting=soft, voting_cls__svm__gamma=1, voting_cls__svm__C=0.1, voting_cls__rfc__n_estimators=10, voting_cls__rfc__min_samples_split=10 \n"
     ]
    },
    {
     "name": "stderr",
     "output_type": "stream",
     "text": [
      "/home/dks/anaconda3/lib/python3.5/site-packages/sklearn/preprocessing/label.py:151: DeprecationWarning: The truth value of an empty array is ambiguous. Returning False, but in future this will result in an error. Use `array.size > 0` to check that an array is not empty.\n",
      "  if diff:\n"
     ]
    },
    {
     "name": "stdout",
     "output_type": "stream",
     "text": [
      "[CV]  voting_cls__voting=hard, voting_cls__svm__gamma=0.0001, voting_cls__svm__C=1000, voting_cls__rfc__n_estimators=100, voting_cls__rfc__min_samples_split=5, score=0.446264482620855, total= 1.6min\n",
      "[CV] voting_cls__voting=soft, voting_cls__svm__gamma=1, voting_cls__svm__C=0.1, voting_cls__rfc__n_estimators=10, voting_cls__rfc__min_samples_split=10 \n"
     ]
    },
    {
     "name": "stderr",
     "output_type": "stream",
     "text": [
      "/home/dks/anaconda3/lib/python3.5/site-packages/sklearn/preprocessing/label.py:151: DeprecationWarning: The truth value of an empty array is ambiguous. Returning False, but in future this will result in an error. Use `array.size > 0` to check that an array is not empty.\n",
      "  if diff:\n",
      "/home/dks/anaconda3/lib/python3.5/site-packages/sklearn/preprocessing/label.py:151: DeprecationWarning: The truth value of an empty array is ambiguous. Returning False, but in future this will result in an error. Use `array.size > 0` to check that an array is not empty.\n",
      "  if diff:\n",
      "/home/dks/anaconda3/lib/python3.5/site-packages/sklearn/preprocessing/label.py:151: DeprecationWarning: The truth value of an empty array is ambiguous. Returning False, but in future this will result in an error. Use `array.size > 0` to check that an array is not empty.\n",
      "  if diff:\n",
      "/home/dks/anaconda3/lib/python3.5/site-packages/sklearn/preprocessing/label.py:151: DeprecationWarning: The truth value of an empty array is ambiguous. Returning False, but in future this will result in an error. Use `array.size > 0` to check that an array is not empty.\n",
      "  if diff:\n",
      "/home/dks/anaconda3/lib/python3.5/site-packages/sklearn/preprocessing/label.py:151: DeprecationWarning: The truth value of an empty array is ambiguous. Returning False, but in future this will result in an error. Use `array.size > 0` to check that an array is not empty.\n",
      "  if diff:\n",
      "/home/dks/anaconda3/lib/python3.5/site-packages/sklearn/preprocessing/label.py:151: DeprecationWarning: The truth value of an empty array is ambiguous. Returning False, but in future this will result in an error. Use `array.size > 0` to check that an array is not empty.\n",
      "  if diff:\n"
     ]
    },
    {
     "name": "stdout",
     "output_type": "stream",
     "text": [
      "[CV]  voting_cls__voting=soft, voting_cls__svm__gamma=0.0001, voting_cls__svm__C=1000, voting_cls__rfc__n_estimators=100, voting_cls__rfc__min_samples_split=5, score=0.49540183926429426, total= 1.6min\n",
      "[CV]  voting_cls__voting=hard, voting_cls__svm__gamma=0.0001, voting_cls__svm__C=1000, voting_cls__rfc__n_estimators=100, voting_cls__rfc__min_samples_split=5, score=0.4632147141143543, total= 1.7min\n",
      "[CV] voting_cls__voting=hard, voting_cls__svm__gamma=0.01, voting_cls__svm__C=0.1, voting_cls__rfc__n_estimators=10, voting_cls__rfc__min_samples_split=10 \n",
      "[CV] voting_cls__voting=hard, voting_cls__svm__gamma=0.01, voting_cls__svm__C=0.1, voting_cls__rfc__n_estimators=10, voting_cls__rfc__min_samples_split=10 \n"
     ]
    },
    {
     "name": "stderr",
     "output_type": "stream",
     "text": [
      "/home/dks/anaconda3/lib/python3.5/site-packages/sklearn/preprocessing/label.py:151: DeprecationWarning: The truth value of an empty array is ambiguous. Returning False, but in future this will result in an error. Use `array.size > 0` to check that an array is not empty.\n",
      "  if diff:\n"
     ]
    },
    {
     "name": "stdout",
     "output_type": "stream",
     "text": [
      "[CV]  voting_cls__voting=soft, voting_cls__svm__gamma=0.0001, voting_cls__svm__C=1000, voting_cls__rfc__n_estimators=100, voting_cls__rfc__min_samples_split=5, score=0.4898122253296045, total= 1.7min\n",
      "[CV] voting_cls__voting=hard, voting_cls__svm__gamma=0.01, voting_cls__svm__C=0.1, voting_cls__rfc__n_estimators=10, voting_cls__rfc__min_samples_split=10 \n"
     ]
    },
    {
     "name": "stderr",
     "output_type": "stream",
     "text": [
      "/home/dks/anaconda3/lib/python3.5/site-packages/sklearn/preprocessing/label.py:151: DeprecationWarning: The truth value of an empty array is ambiguous. Returning False, but in future this will result in an error. Use `array.size > 0` to check that an array is not empty.\n",
      "  if diff:\n"
     ]
    },
    {
     "name": "stdout",
     "output_type": "stream",
     "text": [
      "[CV]  voting_cls__voting=soft, voting_cls__svm__gamma=0.0001, voting_cls__svm__C=1000, voting_cls__rfc__n_estimators=100, voting_cls__rfc__min_samples_split=5, score=0.4985026951487323, total= 1.7min\n",
      "[CV] voting_cls__voting=soft, voting_cls__svm__gamma=0.01, voting_cls__svm__C=0.1, voting_cls__rfc__n_estimators=10, voting_cls__rfc__min_samples_split=10 \n"
     ]
    },
    {
     "name": "stderr",
     "output_type": "stream",
     "text": [
      "/home/dks/anaconda3/lib/python3.5/site-packages/sklearn/preprocessing/label.py:151: DeprecationWarning: The truth value of an empty array is ambiguous. Returning False, but in future this will result in an error. Use `array.size > 0` to check that an array is not empty.\n",
      "  if diff:\n",
      "/home/dks/anaconda3/lib/python3.5/site-packages/sklearn/preprocessing/label.py:151: DeprecationWarning: The truth value of an empty array is ambiguous. Returning False, but in future this will result in an error. Use `array.size > 0` to check that an array is not empty.\n",
      "  if diff:\n",
      "/home/dks/anaconda3/lib/python3.5/site-packages/sklearn/preprocessing/label.py:151: DeprecationWarning: The truth value of an empty array is ambiguous. Returning False, but in future this will result in an error. Use `array.size > 0` to check that an array is not empty.\n",
      "  if diff:\n"
     ]
    },
    {
     "name": "stdout",
     "output_type": "stream",
     "text": [
      "[CV]  voting_cls__voting=hard, voting_cls__svm__gamma=1, voting_cls__svm__C=0.1, voting_cls__rfc__n_estimators=10, voting_cls__rfc__min_samples_split=10, score=0.4260886935677187, total= 1.7min\n",
      "[CV] voting_cls__voting=soft, voting_cls__svm__gamma=0.01, voting_cls__svm__C=0.1, voting_cls__rfc__n_estimators=10, voting_cls__rfc__min_samples_split=10 \n"
     ]
    },
    {
     "name": "stderr",
     "output_type": "stream",
     "text": [
      "/home/dks/anaconda3/lib/python3.5/site-packages/sklearn/preprocessing/label.py:151: DeprecationWarning: The truth value of an empty array is ambiguous. Returning False, but in future this will result in an error. Use `array.size > 0` to check that an array is not empty.\n",
      "  if diff:\n"
     ]
    },
    {
     "name": "stdout",
     "output_type": "stream",
     "text": [
      "[CV]  voting_cls__voting=hard, voting_cls__svm__gamma=1, voting_cls__svm__C=0.1, voting_cls__rfc__n_estimators=10, voting_cls__rfc__min_samples_split=10, score=0.43361948492713115, total= 1.8min\n",
      "[CV] voting_cls__voting=soft, voting_cls__svm__gamma=0.01, voting_cls__svm__C=0.1, voting_cls__rfc__n_estimators=10, voting_cls__rfc__min_samples_split=10 \n"
     ]
    },
    {
     "name": "stderr",
     "output_type": "stream",
     "text": [
      "/home/dks/anaconda3/lib/python3.5/site-packages/sklearn/preprocessing/label.py:151: DeprecationWarning: The truth value of an empty array is ambiguous. Returning False, but in future this will result in an error. Use `array.size > 0` to check that an array is not empty.\n",
      "  if diff:\n",
      "/home/dks/anaconda3/lib/python3.5/site-packages/sklearn/preprocessing/label.py:151: DeprecationWarning: The truth value of an empty array is ambiguous. Returning False, but in future this will result in an error. Use `array.size > 0` to check that an array is not empty.\n",
      "  if diff:\n"
     ]
    },
    {
     "name": "stdout",
     "output_type": "stream",
     "text": [
      "[CV]  voting_cls__voting=hard, voting_cls__svm__gamma=1, voting_cls__svm__C=0.1, voting_cls__rfc__n_estimators=10, voting_cls__rfc__min_samples_split=10, score=0.44562175129948023, total= 1.7min\n",
      "[CV] voting_cls__voting=hard, voting_cls__svm__gamma=0.001, voting_cls__svm__C=0.1, voting_cls__rfc__n_estimators=10, voting_cls__rfc__min_samples_split=10 \n"
     ]
    },
    {
     "name": "stderr",
     "output_type": "stream",
     "text": [
      "/home/dks/anaconda3/lib/python3.5/site-packages/sklearn/preprocessing/label.py:151: DeprecationWarning: The truth value of an empty array is ambiguous. Returning False, but in future this will result in an error. Use `array.size > 0` to check that an array is not empty.\n",
      "  if diff:\n",
      "/home/dks/anaconda3/lib/python3.5/site-packages/sklearn/preprocessing/label.py:151: DeprecationWarning: The truth value of an empty array is ambiguous. Returning False, but in future this will result in an error. Use `array.size > 0` to check that an array is not empty.\n",
      "  if diff:\n",
      "/home/dks/anaconda3/lib/python3.5/site-packages/sklearn/preprocessing/label.py:151: DeprecationWarning: The truth value of an empty array is ambiguous. Returning False, but in future this will result in an error. Use `array.size > 0` to check that an array is not empty.\n",
      "  if diff:\n"
     ]
    },
    {
     "name": "stdout",
     "output_type": "stream",
     "text": [
      "[CV]  voting_cls__voting=soft, voting_cls__svm__gamma=1, voting_cls__svm__C=0.1, voting_cls__rfc__n_estimators=10, voting_cls__rfc__min_samples_split=10, score=0.4889199441006189, total= 1.8min\n",
      "[CV] voting_cls__voting=hard, voting_cls__svm__gamma=0.001, voting_cls__svm__C=0.1, voting_cls__rfc__n_estimators=10, voting_cls__rfc__min_samples_split=10 \n"
     ]
    },
    {
     "name": "stderr",
     "output_type": "stream",
     "text": [
      "/home/dks/anaconda3/lib/python3.5/site-packages/sklearn/preprocessing/label.py:151: DeprecationWarning: The truth value of an empty array is ambiguous. Returning False, but in future this will result in an error. Use `array.size > 0` to check that an array is not empty.\n",
      "  if diff:\n",
      "/home/dks/anaconda3/lib/python3.5/site-packages/sklearn/preprocessing/label.py:151: DeprecationWarning: The truth value of an empty array is ambiguous. Returning False, but in future this will result in an error. Use `array.size > 0` to check that an array is not empty.\n",
      "  if diff:\n"
     ]
    },
    {
     "name": "stdout",
     "output_type": "stream",
     "text": [
      "[CV]  voting_cls__voting=soft, voting_cls__svm__gamma=1, voting_cls__svm__C=0.1, voting_cls__rfc__n_estimators=10, voting_cls__rfc__min_samples_split=10, score=0.4784258889332801, total= 1.7min\n",
      "[CV] voting_cls__voting=hard, voting_cls__svm__gamma=0.001, voting_cls__svm__C=0.1, voting_cls__rfc__n_estimators=10, voting_cls__rfc__min_samples_split=10 \n"
     ]
    },
    {
     "name": "stderr",
     "output_type": "stream",
     "text": [
      "/home/dks/anaconda3/lib/python3.5/site-packages/sklearn/preprocessing/label.py:151: DeprecationWarning: The truth value of an empty array is ambiguous. Returning False, but in future this will result in an error. Use `array.size > 0` to check that an array is not empty.\n",
      "  if diff:\n"
     ]
    },
    {
     "name": "stdout",
     "output_type": "stream",
     "text": [
      "[CV]  voting_cls__voting=soft, voting_cls__svm__gamma=1, voting_cls__svm__C=0.1, voting_cls__rfc__n_estimators=10, voting_cls__rfc__min_samples_split=10, score=0.48500599760095964, total= 1.8min\n",
      "[CV] voting_cls__voting=soft, voting_cls__svm__gamma=0.001, voting_cls__svm__C=0.1, voting_cls__rfc__n_estimators=10, voting_cls__rfc__min_samples_split=10 \n"
     ]
    },
    {
     "name": "stderr",
     "output_type": "stream",
     "text": [
      "/home/dks/anaconda3/lib/python3.5/site-packages/sklearn/preprocessing/label.py:151: DeprecationWarning: The truth value of an empty array is ambiguous. Returning False, but in future this will result in an error. Use `array.size > 0` to check that an array is not empty.\n",
      "  if diff:\n",
      "/home/dks/anaconda3/lib/python3.5/site-packages/sklearn/preprocessing/label.py:151: DeprecationWarning: The truth value of an empty array is ambiguous. Returning False, but in future this will result in an error. Use `array.size > 0` to check that an array is not empty.\n",
      "  if diff:\n"
     ]
    },
    {
     "name": "stdout",
     "output_type": "stream",
     "text": [
      "[CV]  voting_cls__voting=hard, voting_cls__svm__gamma=1, voting_cls__svm__C=1000, voting_cls__rfc__n_estimators=100, voting_cls__rfc__min_samples_split=5, score=0.4844186975629245, total= 7.1min\n",
      "[CV] voting_cls__voting=soft, voting_cls__svm__gamma=0.001, voting_cls__svm__C=0.1, voting_cls__rfc__n_estimators=10, voting_cls__rfc__min_samples_split=10 \n"
     ]
    },
    {
     "name": "stderr",
     "output_type": "stream",
     "text": [
      "/home/dks/anaconda3/lib/python3.5/site-packages/sklearn/preprocessing/label.py:151: DeprecationWarning: The truth value of an empty array is ambiguous. Returning False, but in future this will result in an error. Use `array.size > 0` to check that an array is not empty.\n",
      "  if diff:\n",
      "/home/dks/anaconda3/lib/python3.5/site-packages/sklearn/preprocessing/label.py:151: DeprecationWarning: The truth value of an empty array is ambiguous. Returning False, but in future this will result in an error. Use `array.size > 0` to check that an array is not empty.\n",
      "  if diff:\n",
      "/home/dks/anaconda3/lib/python3.5/site-packages/sklearn/preprocessing/label.py:151: DeprecationWarning: The truth value of an empty array is ambiguous. Returning False, but in future this will result in an error. Use `array.size > 0` to check that an array is not empty.\n",
      "  if diff:\n",
      "/home/dks/anaconda3/lib/python3.5/site-packages/sklearn/preprocessing/label.py:151: DeprecationWarning: The truth value of an empty array is ambiguous. Returning False, but in future this will result in an error. Use `array.size > 0` to check that an array is not empty.\n",
      "  if diff:\n"
     ]
    },
    {
     "name": "stdout",
     "output_type": "stream",
     "text": [
      "[CV]  voting_cls__voting=hard, voting_cls__svm__gamma=1, voting_cls__svm__C=1000, voting_cls__rfc__n_estimators=100, voting_cls__rfc__min_samples_split=5, score=0.48652425633859053, total= 7.7min\n",
      "[CV] voting_cls__voting=soft, voting_cls__svm__gamma=0.001, voting_cls__svm__C=0.1, voting_cls__rfc__n_estimators=10, voting_cls__rfc__min_samples_split=10 \n"
     ]
    },
    {
     "name": "stderr",
     "output_type": "stream",
     "text": [
      "/home/dks/anaconda3/lib/python3.5/site-packages/sklearn/preprocessing/label.py:151: DeprecationWarning: The truth value of an empty array is ambiguous. Returning False, but in future this will result in an error. Use `array.size > 0` to check that an array is not empty.\n",
      "  if diff:\n"
     ]
    },
    {
     "name": "stdout",
     "output_type": "stream",
     "text": [
      "[CV]  voting_cls__voting=soft, voting_cls__svm__gamma=1, voting_cls__svm__C=1000, voting_cls__rfc__n_estimators=100, voting_cls__rfc__min_samples_split=5, score=0.4990011985617259, total= 7.2min\n",
      "[CV] voting_cls__voting=hard, voting_cls__svm__gamma=0.0001, voting_cls__svm__C=0.1, voting_cls__rfc__n_estimators=10, voting_cls__rfc__min_samples_split=10 \n"
     ]
    },
    {
     "name": "stderr",
     "output_type": "stream",
     "text": [
      "/home/dks/anaconda3/lib/python3.5/site-packages/sklearn/preprocessing/label.py:151: DeprecationWarning: The truth value of an empty array is ambiguous. Returning False, but in future this will result in an error. Use `array.size > 0` to check that an array is not empty.\n",
      "  if diff:\n"
     ]
    },
    {
     "name": "stdout",
     "output_type": "stream",
     "text": [
      "[CV]  voting_cls__voting=hard, voting_cls__svm__gamma=1, voting_cls__svm__C=1000, voting_cls__rfc__n_estimators=100, voting_cls__rfc__min_samples_split=5, score=0.4910035985605758, total= 7.5min\n",
      "[CV] voting_cls__voting=hard, voting_cls__svm__gamma=0.0001, voting_cls__svm__C=0.1, voting_cls__rfc__n_estimators=10, voting_cls__rfc__min_samples_split=10 \n"
     ]
    },
    {
     "name": "stderr",
     "output_type": "stream",
     "text": [
      "/home/dks/anaconda3/lib/python3.5/site-packages/sklearn/preprocessing/label.py:151: DeprecationWarning: The truth value of an empty array is ambiguous. Returning False, but in future this will result in an error. Use `array.size > 0` to check that an array is not empty.\n",
      "  if diff:\n",
      "/home/dks/anaconda3/lib/python3.5/site-packages/sklearn/preprocessing/label.py:151: DeprecationWarning: The truth value of an empty array is ambiguous. Returning False, but in future this will result in an error. Use `array.size > 0` to check that an array is not empty.\n",
      "  if diff:\n",
      "/home/dks/anaconda3/lib/python3.5/site-packages/sklearn/preprocessing/label.py:151: DeprecationWarning: The truth value of an empty array is ambiguous. Returning False, but in future this will result in an error. Use `array.size > 0` to check that an array is not empty.\n",
      "  if diff:\n",
      "/home/dks/anaconda3/lib/python3.5/site-packages/sklearn/preprocessing/label.py:151: DeprecationWarning: The truth value of an empty array is ambiguous. Returning False, but in future this will result in an error. Use `array.size > 0` to check that an array is not empty.\n",
      "  if diff:\n"
     ]
    },
    {
     "name": "stdout",
     "output_type": "stream",
     "text": [
      "[CV]  voting_cls__voting=soft, voting_cls__svm__gamma=1, voting_cls__svm__C=1000, voting_cls__rfc__n_estimators=100, voting_cls__rfc__min_samples_split=5, score=0.49940023990403837, total= 7.4min\n",
      "[CV] voting_cls__voting=hard, voting_cls__svm__gamma=0.0001, voting_cls__svm__C=0.1, voting_cls__rfc__n_estimators=10, voting_cls__rfc__min_samples_split=10 \n"
     ]
    },
    {
     "name": "stderr",
     "output_type": "stream",
     "text": [
      "/home/dks/anaconda3/lib/python3.5/site-packages/sklearn/preprocessing/label.py:151: DeprecationWarning: The truth value of an empty array is ambiguous. Returning False, but in future this will result in an error. Use `array.size > 0` to check that an array is not empty.\n",
      "  if diff:\n",
      "/home/dks/anaconda3/lib/python3.5/site-packages/sklearn/preprocessing/label.py:151: DeprecationWarning: The truth value of an empty array is ambiguous. Returning False, but in future this will result in an error. Use `array.size > 0` to check that an array is not empty.\n",
      "  if diff:\n"
     ]
    },
    {
     "name": "stdout",
     "output_type": "stream",
     "text": [
      "[CV]  voting_cls__voting=soft, voting_cls__svm__gamma=1, voting_cls__svm__C=1000, voting_cls__rfc__n_estimators=100, voting_cls__rfc__min_samples_split=5, score=0.5082850868436813, total= 7.7min\n",
      "[CV] voting_cls__voting=soft, voting_cls__svm__gamma=0.0001, voting_cls__svm__C=0.1, voting_cls__rfc__n_estimators=10, voting_cls__rfc__min_samples_split=10 \n"
     ]
    },
    {
     "name": "stderr",
     "output_type": "stream",
     "text": [
      "/home/dks/anaconda3/lib/python3.5/site-packages/sklearn/preprocessing/label.py:151: DeprecationWarning: The truth value of an empty array is ambiguous. Returning False, but in future this will result in an error. Use `array.size > 0` to check that an array is not empty.\n",
      "  if diff:\n",
      "/home/dks/anaconda3/lib/python3.5/site-packages/sklearn/preprocessing/label.py:151: DeprecationWarning: The truth value of an empty array is ambiguous. Returning False, but in future this will result in an error. Use `array.size > 0` to check that an array is not empty.\n",
      "  if diff:\n",
      "/home/dks/anaconda3/lib/python3.5/site-packages/sklearn/preprocessing/label.py:151: DeprecationWarning: The truth value of an empty array is ambiguous. Returning False, but in future this will result in an error. Use `array.size > 0` to check that an array is not empty.\n",
      "  if diff:\n"
     ]
    },
    {
     "name": "stdout",
     "output_type": "stream",
     "text": [
      "[CV]  voting_cls__voting=hard, voting_cls__svm__gamma=0.01, voting_cls__svm__C=0.1, voting_cls__rfc__n_estimators=10, voting_cls__rfc__min_samples_split=10, score=0.4084647634258335, total= 2.6min\n",
      "[CV] voting_cls__voting=soft, voting_cls__svm__gamma=0.0001, voting_cls__svm__C=0.1, voting_cls__rfc__n_estimators=10, voting_cls__rfc__min_samples_split=10 \n"
     ]
    },
    {
     "name": "stderr",
     "output_type": "stream",
     "text": [
      "/home/dks/anaconda3/lib/python3.5/site-packages/sklearn/preprocessing/label.py:151: DeprecationWarning: The truth value of an empty array is ambiguous. Returning False, but in future this will result in an error. Use `array.size > 0` to check that an array is not empty.\n",
      "  if diff:\n"
     ]
    },
    {
     "name": "stdout",
     "output_type": "stream",
     "text": [
      "[CV]  voting_cls__voting=hard, voting_cls__svm__gamma=0.01, voting_cls__svm__C=0.1, voting_cls__rfc__n_estimators=10, voting_cls__rfc__min_samples_split=10, score=0.4342263094762095, total= 2.6min\n",
      "[CV] voting_cls__voting=soft, voting_cls__svm__gamma=0.0001, voting_cls__svm__C=0.1, voting_cls__rfc__n_estimators=10, voting_cls__rfc__min_samples_split=10 \n"
     ]
    },
    {
     "name": "stderr",
     "output_type": "stream",
     "text": [
      "/home/dks/anaconda3/lib/python3.5/site-packages/sklearn/preprocessing/label.py:151: DeprecationWarning: The truth value of an empty array is ambiguous. Returning False, but in future this will result in an error. Use `array.size > 0` to check that an array is not empty.\n",
      "  if diff:\n",
      "/home/dks/anaconda3/lib/python3.5/site-packages/sklearn/preprocessing/label.py:151: DeprecationWarning: The truth value of an empty array is ambiguous. Returning False, but in future this will result in an error. Use `array.size > 0` to check that an array is not empty.\n",
      "  if diff:\n"
     ]
    },
    {
     "name": "stdout",
     "output_type": "stream",
     "text": [
      "[CV]  voting_cls__voting=hard, voting_cls__svm__gamma=0.01, voting_cls__svm__C=0.1, voting_cls__rfc__n_estimators=10, voting_cls__rfc__min_samples_split=10, score=0.4023172193367959, total= 2.7min\n",
      "[CV] voting_cls__voting=hard, voting_cls__svm__gamma=1, voting_cls__svm__C=1, voting_cls__rfc__n_estimators=10, voting_cls__rfc__min_samples_split=10 \n"
     ]
    },
    {
     "name": "stderr",
     "output_type": "stream",
     "text": [
      "/home/dks/anaconda3/lib/python3.5/site-packages/sklearn/preprocessing/label.py:151: DeprecationWarning: The truth value of an empty array is ambiguous. Returning False, but in future this will result in an error. Use `array.size > 0` to check that an array is not empty.\n",
      "  if diff:\n"
     ]
    },
    {
     "name": "stdout",
     "output_type": "stream",
     "text": [
      "[CV]  voting_cls__voting=soft, voting_cls__svm__gamma=0.01, voting_cls__svm__C=0.1, voting_cls__rfc__n_estimators=10, voting_cls__rfc__min_samples_split=10, score=0.48253144340187665, total= 2.7min\n",
      "[CV] voting_cls__voting=hard, voting_cls__svm__gamma=1, voting_cls__svm__C=1, voting_cls__rfc__n_estimators=10, voting_cls__rfc__min_samples_split=10 \n"
     ]
    },
    {
     "name": "stderr",
     "output_type": "stream",
     "text": [
      "/home/dks/anaconda3/lib/python3.5/site-packages/sklearn/preprocessing/label.py:151: DeprecationWarning: The truth value of an empty array is ambiguous. Returning False, but in future this will result in an error. Use `array.size > 0` to check that an array is not empty.\n",
      "  if diff:\n",
      "/home/dks/anaconda3/lib/python3.5/site-packages/sklearn/preprocessing/label.py:151: DeprecationWarning: The truth value of an empty array is ambiguous. Returning False, but in future this will result in an error. Use `array.size > 0` to check that an array is not empty.\n",
      "  if diff:\n"
     ]
    },
    {
     "name": "stdout",
     "output_type": "stream",
     "text": [
      "[CV]  voting_cls__voting=soft, voting_cls__svm__gamma=0.01, voting_cls__svm__C=0.1, voting_cls__rfc__n_estimators=10, voting_cls__rfc__min_samples_split=10, score=0.47502996404314823, total= 2.7min\n",
      "[CV] voting_cls__voting=hard, voting_cls__svm__gamma=1, voting_cls__svm__C=1, voting_cls__rfc__n_estimators=10, voting_cls__rfc__min_samples_split=10 \n"
     ]
    },
    {
     "name": "stderr",
     "output_type": "stream",
     "text": [
      "/home/dks/anaconda3/lib/python3.5/site-packages/sklearn/preprocessing/label.py:151: DeprecationWarning: The truth value of an empty array is ambiguous. Returning False, but in future this will result in an error. Use `array.size > 0` to check that an array is not empty.\n",
      "  if diff:\n"
     ]
    },
    {
     "name": "stdout",
     "output_type": "stream",
     "text": [
      "[CV]  voting_cls__voting=soft, voting_cls__svm__gamma=0.01, voting_cls__svm__C=0.1, voting_cls__rfc__n_estimators=10, voting_cls__rfc__min_samples_split=10, score=0.47840863654538185, total= 2.7min\n",
      "[CV] voting_cls__voting=soft, voting_cls__svm__gamma=1, voting_cls__svm__C=1, voting_cls__rfc__n_estimators=10, voting_cls__rfc__min_samples_split=10 \n"
     ]
    },
    {
     "name": "stderr",
     "output_type": "stream",
     "text": [
      "/home/dks/anaconda3/lib/python3.5/site-packages/sklearn/preprocessing/label.py:151: DeprecationWarning: The truth value of an empty array is ambiguous. Returning False, but in future this will result in an error. Use `array.size > 0` to check that an array is not empty.\n",
      "  if diff:\n",
      "/home/dks/anaconda3/lib/python3.5/site-packages/sklearn/preprocessing/label.py:151: DeprecationWarning: The truth value of an empty array is ambiguous. Returning False, but in future this will result in an error. Use `array.size > 0` to check that an array is not empty.\n",
      "  if diff:\n",
      "/home/dks/anaconda3/lib/python3.5/site-packages/sklearn/preprocessing/label.py:151: DeprecationWarning: The truth value of an empty array is ambiguous. Returning False, but in future this will result in an error. Use `array.size > 0` to check that an array is not empty.\n",
      "  if diff:\n"
     ]
    },
    {
     "name": "stdout",
     "output_type": "stream",
     "text": [
      "[CV]  voting_cls__voting=hard, voting_cls__svm__gamma=0.001, voting_cls__svm__C=0.1, voting_cls__rfc__n_estimators=10, voting_cls__rfc__min_samples_split=10, score=0.4272309842283889, total= 2.7min\n",
      "[CV] voting_cls__voting=soft, voting_cls__svm__gamma=1, voting_cls__svm__C=1, voting_cls__rfc__n_estimators=10, voting_cls__rfc__min_samples_split=10 \n"
     ]
    },
    {
     "name": "stderr",
     "output_type": "stream",
     "text": [
      "/home/dks/anaconda3/lib/python3.5/site-packages/sklearn/preprocessing/label.py:151: DeprecationWarning: The truth value of an empty array is ambiguous. Returning False, but in future this will result in an error. Use `array.size > 0` to check that an array is not empty.\n",
      "  if diff:\n"
     ]
    },
    {
     "name": "stdout",
     "output_type": "stream",
     "text": [
      "[CV]  voting_cls__voting=hard, voting_cls__svm__gamma=0.001, voting_cls__svm__C=0.1, voting_cls__rfc__n_estimators=10, voting_cls__rfc__min_samples_split=10, score=0.4306831801837795, total= 2.7min\n",
      "[CV] voting_cls__voting=soft, voting_cls__svm__gamma=1, voting_cls__svm__C=1, voting_cls__rfc__n_estimators=10, voting_cls__rfc__min_samples_split=10 \n"
     ]
    },
    {
     "name": "stderr",
     "output_type": "stream",
     "text": [
      "/home/dks/anaconda3/lib/python3.5/site-packages/sklearn/preprocessing/label.py:151: DeprecationWarning: The truth value of an empty array is ambiguous. Returning False, but in future this will result in an error. Use `array.size > 0` to check that an array is not empty.\n",
      "  if diff:\n",
      "/home/dks/anaconda3/lib/python3.5/site-packages/sklearn/preprocessing/label.py:151: DeprecationWarning: The truth value of an empty array is ambiguous. Returning False, but in future this will result in an error. Use `array.size > 0` to check that an array is not empty.\n",
      "  if diff:\n",
      "/home/dks/anaconda3/lib/python3.5/site-packages/sklearn/preprocessing/label.py:151: DeprecationWarning: The truth value of an empty array is ambiguous. Returning False, but in future this will result in an error. Use `array.size > 0` to check that an array is not empty.\n",
      "  if diff:\n"
     ]
    },
    {
     "name": "stdout",
     "output_type": "stream",
     "text": [
      "[CV]  voting_cls__voting=hard, voting_cls__svm__gamma=0.001, voting_cls__svm__C=0.1, voting_cls__rfc__n_estimators=10, voting_cls__rfc__min_samples_split=10, score=0.4380247900839664, total= 2.9min\n",
      "[CV] voting_cls__voting=hard, voting_cls__svm__gamma=0.01, voting_cls__svm__C=1, voting_cls__rfc__n_estimators=10, voting_cls__rfc__min_samples_split=10 \n"
     ]
    },
    {
     "name": "stderr",
     "output_type": "stream",
     "text": [
      "/home/dks/anaconda3/lib/python3.5/site-packages/sklearn/preprocessing/label.py:151: DeprecationWarning: The truth value of an empty array is ambiguous. Returning False, but in future this will result in an error. Use `array.size > 0` to check that an array is not empty.\n",
      "  if diff:\n"
     ]
    },
    {
     "name": "stdout",
     "output_type": "stream",
     "text": [
      "[CV]  voting_cls__voting=soft, voting_cls__svm__gamma=0.001, voting_cls__svm__C=0.1, voting_cls__rfc__n_estimators=10, voting_cls__rfc__min_samples_split=10, score=0.48512677181074065, total= 2.8min\n",
      "[CV] voting_cls__voting=hard, voting_cls__svm__gamma=0.01, voting_cls__svm__C=1, voting_cls__rfc__n_estimators=10, voting_cls__rfc__min_samples_split=10 \n"
     ]
    },
    {
     "name": "stderr",
     "output_type": "stream",
     "text": [
      "/home/dks/anaconda3/lib/python3.5/site-packages/sklearn/preprocessing/label.py:151: DeprecationWarning: The truth value of an empty array is ambiguous. Returning False, but in future this will result in an error. Use `array.size > 0` to check that an array is not empty.\n",
      "  if diff:\n",
      "/home/dks/anaconda3/lib/python3.5/site-packages/sklearn/preprocessing/label.py:151: DeprecationWarning: The truth value of an empty array is ambiguous. Returning False, but in future this will result in an error. Use `array.size > 0` to check that an array is not empty.\n",
      "  if diff:\n",
      "/home/dks/anaconda3/lib/python3.5/site-packages/sklearn/preprocessing/label.py:151: DeprecationWarning: The truth value of an empty array is ambiguous. Returning False, but in future this will result in an error. Use `array.size > 0` to check that an array is not empty.\n",
      "  if diff:\n",
      "/home/dks/anaconda3/lib/python3.5/site-packages/sklearn/preprocessing/label.py:151: DeprecationWarning: The truth value of an empty array is ambiguous. Returning False, but in future this will result in an error. Use `array.size > 0` to check that an array is not empty.\n",
      "  if diff:\n"
     ]
    },
    {
     "name": "stdout",
     "output_type": "stream",
     "text": [
      "[CV]  voting_cls__voting=hard, voting_cls__svm__gamma=1, voting_cls__svm__C=1, voting_cls__rfc__n_estimators=10, voting_cls__rfc__min_samples_split=10, score=0.450788580555001, total= 1.4min\n",
      "[CV] voting_cls__voting=hard, voting_cls__svm__gamma=0.01, voting_cls__svm__C=1, voting_cls__rfc__n_estimators=10, voting_cls__rfc__min_samples_split=10 \n"
     ]
    },
    {
     "name": "stderr",
     "output_type": "stream",
     "text": [
      "/home/dks/anaconda3/lib/python3.5/site-packages/sklearn/preprocessing/label.py:151: DeprecationWarning: The truth value of an empty array is ambiguous. Returning False, but in future this will result in an error. Use `array.size > 0` to check that an array is not empty.\n",
      "  if diff:\n",
      "/home/dks/anaconda3/lib/python3.5/site-packages/sklearn/preprocessing/label.py:151: DeprecationWarning: The truth value of an empty array is ambiguous. Returning False, but in future this will result in an error. Use `array.size > 0` to check that an array is not empty.\n",
      "  if diff:\n"
     ]
    },
    {
     "name": "stdout",
     "output_type": "stream",
     "text": [
      "[CV]  voting_cls__voting=hard, voting_cls__svm__gamma=1, voting_cls__svm__C=1, voting_cls__rfc__n_estimators=10, voting_cls__rfc__min_samples_split=10, score=0.44706352377147424, total= 1.4min\n",
      "[CV] voting_cls__voting=soft, voting_cls__svm__gamma=0.01, voting_cls__svm__C=1, voting_cls__rfc__n_estimators=10, voting_cls__rfc__min_samples_split=10 \n"
     ]
    },
    {
     "name": "stderr",
     "output_type": "stream",
     "text": [
      "/home/dks/anaconda3/lib/python3.5/site-packages/sklearn/preprocessing/label.py:151: DeprecationWarning: The truth value of an empty array is ambiguous. Returning False, but in future this will result in an error. Use `array.size > 0` to check that an array is not empty.\n",
      "  if diff:\n"
     ]
    },
    {
     "name": "stdout",
     "output_type": "stream",
     "text": [
      "[CV]  voting_cls__voting=soft, voting_cls__svm__gamma=0.001, voting_cls__svm__C=0.1, voting_cls__rfc__n_estimators=10, voting_cls__rfc__min_samples_split=10, score=0.4794246903715541, total= 2.8min\n",
      "[CV] voting_cls__voting=soft, voting_cls__svm__gamma=0.01, voting_cls__svm__C=1, voting_cls__rfc__n_estimators=10, voting_cls__rfc__min_samples_split=10 \n"
     ]
    },
    {
     "name": "stderr",
     "output_type": "stream",
     "text": [
      "/home/dks/anaconda3/lib/python3.5/site-packages/sklearn/preprocessing/label.py:151: DeprecationWarning: The truth value of an empty array is ambiguous. Returning False, but in future this will result in an error. Use `array.size > 0` to check that an array is not empty.\n",
      "  if diff:\n"
     ]
    },
    {
     "name": "stdout",
     "output_type": "stream",
     "text": [
      "[CV]  voting_cls__voting=hard, voting_cls__svm__gamma=1, voting_cls__svm__C=1, voting_cls__rfc__n_estimators=10, voting_cls__rfc__min_samples_split=10, score=0.4644142343062775, total= 1.5min\n",
      "[CV] voting_cls__voting=soft, voting_cls__svm__gamma=0.01, voting_cls__svm__C=1, voting_cls__rfc__n_estimators=10, voting_cls__rfc__min_samples_split=10 \n"
     ]
    },
    {
     "name": "stderr",
     "output_type": "stream",
     "text": [
      "/home/dks/anaconda3/lib/python3.5/site-packages/sklearn/preprocessing/label.py:151: DeprecationWarning: The truth value of an empty array is ambiguous. Returning False, but in future this will result in an error. Use `array.size > 0` to check that an array is not empty.\n",
      "  if diff:\n",
      "/home/dks/anaconda3/lib/python3.5/site-packages/sklearn/preprocessing/label.py:151: DeprecationWarning: The truth value of an empty array is ambiguous. Returning False, but in future this will result in an error. Use `array.size > 0` to check that an array is not empty.\n",
      "  if diff:\n",
      "/home/dks/anaconda3/lib/python3.5/site-packages/sklearn/preprocessing/label.py:151: DeprecationWarning: The truth value of an empty array is ambiguous. Returning False, but in future this will result in an error. Use `array.size > 0` to check that an array is not empty.\n",
      "  if diff:\n",
      "/home/dks/anaconda3/lib/python3.5/site-packages/sklearn/preprocessing/label.py:151: DeprecationWarning: The truth value of an empty array is ambiguous. Returning False, but in future this will result in an error. Use `array.size > 0` to check that an array is not empty.\n",
      "  if diff:\n"
     ]
    },
    {
     "name": "stdout",
     "output_type": "stream",
     "text": [
      "[CV]  voting_cls__voting=soft, voting_cls__svm__gamma=1, voting_cls__svm__C=1, voting_cls__rfc__n_estimators=10, voting_cls__rfc__min_samples_split=10, score=0.4999001796765822, total= 1.5min\n",
      "[CV] voting_cls__voting=hard, voting_cls__svm__gamma=0.001, voting_cls__svm__C=1, voting_cls__rfc__n_estimators=10, voting_cls__rfc__min_samples_split=10 \n"
     ]
    },
    {
     "name": "stderr",
     "output_type": "stream",
     "text": [
      "/home/dks/anaconda3/lib/python3.5/site-packages/sklearn/preprocessing/label.py:151: DeprecationWarning: The truth value of an empty array is ambiguous. Returning False, but in future this will result in an error. Use `array.size > 0` to check that an array is not empty.\n",
      "  if diff:\n"
     ]
    },
    {
     "name": "stdout",
     "output_type": "stream",
     "text": [
      "[CV]  voting_cls__voting=hard, voting_cls__svm__gamma=0.0001, voting_cls__svm__C=0.1, voting_cls__rfc__n_estimators=10, voting_cls__rfc__min_samples_split=10, score=0.4288281094030745, total= 2.7min\n",
      "[CV] voting_cls__voting=hard, voting_cls__svm__gamma=0.001, voting_cls__svm__C=1, voting_cls__rfc__n_estimators=10, voting_cls__rfc__min_samples_split=10 \n"
     ]
    },
    {
     "name": "stderr",
     "output_type": "stream",
     "text": [
      "/home/dks/anaconda3/lib/python3.5/site-packages/sklearn/preprocessing/label.py:151: DeprecationWarning: The truth value of an empty array is ambiguous. Returning False, but in future this will result in an error. Use `array.size > 0` to check that an array is not empty.\n",
      "  if diff:\n",
      "/home/dks/anaconda3/lib/python3.5/site-packages/sklearn/preprocessing/label.py:151: DeprecationWarning: The truth value of an empty array is ambiguous. Returning False, but in future this will result in an error. Use `array.size > 0` to check that an array is not empty.\n",
      "  if diff:\n"
     ]
    },
    {
     "name": "stdout",
     "output_type": "stream",
     "text": [
      "[CV]  voting_cls__voting=soft, voting_cls__svm__gamma=0.001, voting_cls__svm__C=0.1, voting_cls__rfc__n_estimators=10, voting_cls__rfc__min_samples_split=10, score=0.4832067173130748, total= 2.7min\n",
      "[CV] voting_cls__voting=hard, voting_cls__svm__gamma=0.001, voting_cls__svm__C=1, voting_cls__rfc__n_estimators=10, voting_cls__rfc__min_samples_split=10 \n"
     ]
    },
    {
     "name": "stderr",
     "output_type": "stream",
     "text": [
      "/home/dks/anaconda3/lib/python3.5/site-packages/sklearn/preprocessing/label.py:151: DeprecationWarning: The truth value of an empty array is ambiguous. Returning False, but in future this will result in an error. Use `array.size > 0` to check that an array is not empty.\n",
      "  if diff:\n",
      "/home/dks/anaconda3/lib/python3.5/site-packages/sklearn/preprocessing/label.py:151: DeprecationWarning: The truth value of an empty array is ambiguous. Returning False, but in future this will result in an error. Use `array.size > 0` to check that an array is not empty.\n",
      "  if diff:\n",
      "/home/dks/anaconda3/lib/python3.5/site-packages/sklearn/preprocessing/label.py:151: DeprecationWarning: The truth value of an empty array is ambiguous. Returning False, but in future this will result in an error. Use `array.size > 0` to check that an array is not empty.\n",
      "  if diff:\n"
     ]
    },
    {
     "name": "stdout",
     "output_type": "stream",
     "text": [
      "[CV]  voting_cls__voting=hard, voting_cls__svm__gamma=0.0001, voting_cls__svm__C=0.1, voting_cls__rfc__n_estimators=10, voting_cls__rfc__min_samples_split=10, score=0.4310827007590891, total= 2.8min\n",
      "[CV] voting_cls__voting=soft, voting_cls__svm__gamma=0.001, voting_cls__svm__C=1, voting_cls__rfc__n_estimators=10, voting_cls__rfc__min_samples_split=10 \n"
     ]
    },
    {
     "name": "stderr",
     "output_type": "stream",
     "text": [
      "/home/dks/anaconda3/lib/python3.5/site-packages/sklearn/preprocessing/label.py:151: DeprecationWarning: The truth value of an empty array is ambiguous. Returning False, but in future this will result in an error. Use `array.size > 0` to check that an array is not empty.\n",
      "  if diff:\n",
      "/home/dks/anaconda3/lib/python3.5/site-packages/sklearn/preprocessing/label.py:151: DeprecationWarning: The truth value of an empty array is ambiguous. Returning False, but in future this will result in an error. Use `array.size > 0` to check that an array is not empty.\n",
      "  if diff:\n"
     ]
    },
    {
     "name": "stdout",
     "output_type": "stream",
     "text": [
      "[CV]  voting_cls__voting=soft, voting_cls__svm__gamma=1, voting_cls__svm__C=1, voting_cls__rfc__n_estimators=10, voting_cls__rfc__min_samples_split=10, score=0.49200958849380744, total= 1.4min\n",
      "[CV] voting_cls__voting=soft, voting_cls__svm__gamma=0.001, voting_cls__svm__C=1, voting_cls__rfc__n_estimators=10, voting_cls__rfc__min_samples_split=10 \n"
     ]
    },
    {
     "name": "stderr",
     "output_type": "stream",
     "text": [
      "/home/dks/anaconda3/lib/python3.5/site-packages/sklearn/preprocessing/label.py:151: DeprecationWarning: The truth value of an empty array is ambiguous. Returning False, but in future this will result in an error. Use `array.size > 0` to check that an array is not empty.\n",
      "  if diff:\n",
      "/home/dks/anaconda3/lib/python3.5/site-packages/sklearn/preprocessing/label.py:151: DeprecationWarning: The truth value of an empty array is ambiguous. Returning False, but in future this will result in an error. Use `array.size > 0` to check that an array is not empty.\n",
      "  if diff:\n"
     ]
    },
    {
     "name": "stdout",
     "output_type": "stream",
     "text": [
      "[CV]  voting_cls__voting=hard, voting_cls__svm__gamma=0.0001, voting_cls__svm__C=0.1, voting_cls__rfc__n_estimators=10, voting_cls__rfc__min_samples_split=10, score=0.44182327069172334, total= 2.7min\n",
      "[CV] voting_cls__voting=soft, voting_cls__svm__gamma=0.001, voting_cls__svm__C=1, voting_cls__rfc__n_estimators=10, voting_cls__rfc__min_samples_split=10 \n"
     ]
    },
    {
     "name": "stderr",
     "output_type": "stream",
     "text": [
      "/home/dks/anaconda3/lib/python3.5/site-packages/sklearn/preprocessing/label.py:151: DeprecationWarning: The truth value of an empty array is ambiguous. Returning False, but in future this will result in an error. Use `array.size > 0` to check that an array is not empty.\n",
      "  if diff:\n",
      "/home/dks/anaconda3/lib/python3.5/site-packages/sklearn/preprocessing/label.py:151: DeprecationWarning: The truth value of an empty array is ambiguous. Returning False, but in future this will result in an error. Use `array.size > 0` to check that an array is not empty.\n",
      "  if diff:\n",
      "/home/dks/anaconda3/lib/python3.5/site-packages/sklearn/preprocessing/label.py:151: DeprecationWarning: The truth value of an empty array is ambiguous. Returning False, but in future this will result in an error. Use `array.size > 0` to check that an array is not empty.\n",
      "  if diff:\n"
     ]
    },
    {
     "name": "stdout",
     "output_type": "stream",
     "text": [
      "[CV]  voting_cls__voting=soft, voting_cls__svm__gamma=1, voting_cls__svm__C=1, voting_cls__rfc__n_estimators=10, voting_cls__rfc__min_samples_split=10, score=0.4964014394242303, total= 1.4min\n",
      "[CV] voting_cls__voting=hard, voting_cls__svm__gamma=0.0001, voting_cls__svm__C=1, voting_cls__rfc__n_estimators=10, voting_cls__rfc__min_samples_split=10 \n"
     ]
    },
    {
     "name": "stderr",
     "output_type": "stream",
     "text": [
      "/home/dks/anaconda3/lib/python3.5/site-packages/sklearn/preprocessing/label.py:151: DeprecationWarning: The truth value of an empty array is ambiguous. Returning False, but in future this will result in an error. Use `array.size > 0` to check that an array is not empty.\n",
      "  if diff:\n"
     ]
    },
    {
     "name": "stdout",
     "output_type": "stream",
     "text": [
      "[CV]  voting_cls__voting=soft, voting_cls__svm__gamma=0.0001, voting_cls__svm__C=0.1, voting_cls__rfc__n_estimators=10, voting_cls__rfc__min_samples_split=10, score=0.48233180275504095, total= 2.7min\n",
      "[CV] voting_cls__voting=hard, voting_cls__svm__gamma=0.0001, voting_cls__svm__C=1, voting_cls__rfc__n_estimators=10, voting_cls__rfc__min_samples_split=10 \n"
     ]
    },
    {
     "name": "stderr",
     "output_type": "stream",
     "text": [
      "/home/dks/anaconda3/lib/python3.5/site-packages/sklearn/preprocessing/label.py:151: DeprecationWarning: The truth value of an empty array is ambiguous. Returning False, but in future this will result in an error. Use `array.size > 0` to check that an array is not empty.\n",
      "  if diff:\n"
     ]
    },
    {
     "name": "stdout",
     "output_type": "stream",
     "text": [
      "[CV]  voting_cls__voting=soft, voting_cls__svm__gamma=0.0001, voting_cls__svm__C=0.1, voting_cls__rfc__n_estimators=10, voting_cls__rfc__min_samples_split=10, score=0.4812225329604475, total= 2.8min\n",
      "[CV] voting_cls__voting=hard, voting_cls__svm__gamma=0.0001, voting_cls__svm__C=1, voting_cls__rfc__n_estimators=10, voting_cls__rfc__min_samples_split=10 \n"
     ]
    },
    {
     "name": "stderr",
     "output_type": "stream",
     "text": [
      "/home/dks/anaconda3/lib/python3.5/site-packages/sklearn/preprocessing/label.py:151: DeprecationWarning: The truth value of an empty array is ambiguous. Returning False, but in future this will result in an error. Use `array.size > 0` to check that an array is not empty.\n",
      "  if diff:\n"
     ]
    },
    {
     "name": "stdout",
     "output_type": "stream",
     "text": [
      "[CV]  voting_cls__voting=soft, voting_cls__svm__gamma=0.0001, voting_cls__svm__C=0.1, voting_cls__rfc__n_estimators=10, voting_cls__rfc__min_samples_split=10, score=0.4842063174730108, total= 2.7min\n",
      "[CV] voting_cls__voting=soft, voting_cls__svm__gamma=0.0001, voting_cls__svm__C=1, voting_cls__rfc__n_estimators=10, voting_cls__rfc__min_samples_split=10 \n"
     ]
    },
    {
     "name": "stderr",
     "output_type": "stream",
     "text": [
      "/home/dks/anaconda3/lib/python3.5/site-packages/sklearn/preprocessing/label.py:151: DeprecationWarning: The truth value of an empty array is ambiguous. Returning False, but in future this will result in an error. Use `array.size > 0` to check that an array is not empty.\n",
      "  if diff:\n",
      "/home/dks/anaconda3/lib/python3.5/site-packages/sklearn/preprocessing/label.py:151: DeprecationWarning: The truth value of an empty array is ambiguous. Returning False, but in future this will result in an error. Use `array.size > 0` to check that an array is not empty.\n",
      "  if diff:\n",
      "/home/dks/anaconda3/lib/python3.5/site-packages/sklearn/preprocessing/label.py:151: DeprecationWarning: The truth value of an empty array is ambiguous. Returning False, but in future this will result in an error. Use `array.size > 0` to check that an array is not empty.\n",
      "  if diff:\n",
      "/home/dks/anaconda3/lib/python3.5/site-packages/sklearn/preprocessing/label.py:151: DeprecationWarning: The truth value of an empty array is ambiguous. Returning False, but in future this will result in an error. Use `array.size > 0` to check that an array is not empty.\n",
      "  if diff:\n"
     ]
    },
    {
     "name": "stdout",
     "output_type": "stream",
     "text": [
      "[CV]  voting_cls__voting=hard, voting_cls__svm__gamma=0.01, voting_cls__svm__C=1, voting_cls__rfc__n_estimators=10, voting_cls__rfc__min_samples_split=10, score=0.4119057131442269, total= 2.1min\n",
      "[CV] voting_cls__voting=soft, voting_cls__svm__gamma=0.0001, voting_cls__svm__C=1, voting_cls__rfc__n_estimators=10, voting_cls__rfc__min_samples_split=10 \n"
     ]
    },
    {
     "name": "stderr",
     "output_type": "stream",
     "text": [
      "/home/dks/anaconda3/lib/python3.5/site-packages/sklearn/preprocessing/label.py:151: DeprecationWarning: The truth value of an empty array is ambiguous. Returning False, but in future this will result in an error. Use `array.size > 0` to check that an array is not empty.\n",
      "  if diff:\n",
      "/home/dks/anaconda3/lib/python3.5/site-packages/sklearn/preprocessing/label.py:151: DeprecationWarning: The truth value of an empty array is ambiguous. Returning False, but in future this will result in an error. Use `array.size > 0` to check that an array is not empty.\n",
      "  if diff:\n"
     ]
    },
    {
     "name": "stdout",
     "output_type": "stream",
     "text": [
      "[CV]  voting_cls__voting=hard, voting_cls__svm__gamma=0.01, voting_cls__svm__C=1, voting_cls__rfc__n_estimators=10, voting_cls__rfc__min_samples_split=10, score=0.4176482331802755, total= 2.2min\n",
      "[CV] voting_cls__voting=soft, voting_cls__svm__gamma=0.0001, voting_cls__svm__C=1, voting_cls__rfc__n_estimators=10, voting_cls__rfc__min_samples_split=10 \n"
     ]
    },
    {
     "name": "stderr",
     "output_type": "stream",
     "text": [
      "/home/dks/anaconda3/lib/python3.5/site-packages/sklearn/preprocessing/label.py:151: DeprecationWarning: The truth value of an empty array is ambiguous. Returning False, but in future this will result in an error. Use `array.size > 0` to check that an array is not empty.\n",
      "  if diff:\n",
      "/home/dks/anaconda3/lib/python3.5/site-packages/sklearn/preprocessing/label.py:151: DeprecationWarning: The truth value of an empty array is ambiguous. Returning False, but in future this will result in an error. Use `array.size > 0` to check that an array is not empty.\n",
      "  if diff:\n",
      "/home/dks/anaconda3/lib/python3.5/site-packages/sklearn/preprocessing/label.py:151: DeprecationWarning: The truth value of an empty array is ambiguous. Returning False, but in future this will result in an error. Use `array.size > 0` to check that an array is not empty.\n",
      "  if diff:\n"
     ]
    },
    {
     "name": "stdout",
     "output_type": "stream",
     "text": [
      "[CV]  voting_cls__voting=hard, voting_cls__svm__gamma=0.01, voting_cls__svm__C=1, voting_cls__rfc__n_estimators=10, voting_cls__rfc__min_samples_split=10, score=0.4368252698920432, total= 2.1min\n",
      "[CV] voting_cls__voting=hard, voting_cls__svm__gamma=1, voting_cls__svm__C=100, voting_cls__rfc__n_estimators=10, voting_cls__rfc__min_samples_split=10 \n"
     ]
    },
    {
     "name": "stderr",
     "output_type": "stream",
     "text": [
      "/home/dks/anaconda3/lib/python3.5/site-packages/sklearn/preprocessing/label.py:151: DeprecationWarning: The truth value of an empty array is ambiguous. Returning False, but in future this will result in an error. Use `array.size > 0` to check that an array is not empty.\n",
      "  if diff:\n"
     ]
    },
    {
     "name": "stdout",
     "output_type": "stream",
     "text": [
      "[CV]  voting_cls__voting=soft, voting_cls__svm__gamma=0.01, voting_cls__svm__C=1, voting_cls__rfc__n_estimators=10, voting_cls__rfc__min_samples_split=10, score=0.48253144340187665, total= 2.1min\n",
      "[CV] voting_cls__voting=hard, voting_cls__svm__gamma=1, voting_cls__svm__C=100, voting_cls__rfc__n_estimators=10, voting_cls__rfc__min_samples_split=10 \n"
     ]
    },
    {
     "name": "stderr",
     "output_type": "stream",
     "text": [
      "/home/dks/anaconda3/lib/python3.5/site-packages/sklearn/preprocessing/label.py:151: DeprecationWarning: The truth value of an empty array is ambiguous. Returning False, but in future this will result in an error. Use `array.size > 0` to check that an array is not empty.\n",
      "  if diff:\n"
     ]
    },
    {
     "name": "stdout",
     "output_type": "stream",
     "text": [
      "[CV]  voting_cls__voting=soft, voting_cls__svm__gamma=0.01, voting_cls__svm__C=1, voting_cls__rfc__n_estimators=10, voting_cls__rfc__min_samples_split=10, score=0.4784258889332801, total= 2.1min\n",
      "[CV] voting_cls__voting=hard, voting_cls__svm__gamma=1, voting_cls__svm__C=100, voting_cls__rfc__n_estimators=10, voting_cls__rfc__min_samples_split=10 \n"
     ]
    },
    {
     "name": "stderr",
     "output_type": "stream",
     "text": [
      "/home/dks/anaconda3/lib/python3.5/site-packages/sklearn/preprocessing/label.py:151: DeprecationWarning: The truth value of an empty array is ambiguous. Returning False, but in future this will result in an error. Use `array.size > 0` to check that an array is not empty.\n",
      "  if diff:\n"
     ]
    },
    {
     "name": "stdout",
     "output_type": "stream",
     "text": [
      "[CV]  voting_cls__voting=soft, voting_cls__svm__gamma=0.01, voting_cls__svm__C=1, voting_cls__rfc__n_estimators=10, voting_cls__rfc__min_samples_split=10, score=0.4842063174730108, total= 2.1min\n",
      "[CV] voting_cls__voting=soft, voting_cls__svm__gamma=1, voting_cls__svm__C=100, voting_cls__rfc__n_estimators=10, voting_cls__rfc__min_samples_split=10 \n"
     ]
    },
    {
     "name": "stderr",
     "output_type": "stream",
     "text": [
      "/home/dks/anaconda3/lib/python3.5/site-packages/sklearn/preprocessing/label.py:151: DeprecationWarning: The truth value of an empty array is ambiguous. Returning False, but in future this will result in an error. Use `array.size > 0` to check that an array is not empty.\n",
      "  if diff:\n",
      "/home/dks/anaconda3/lib/python3.5/site-packages/sklearn/preprocessing/label.py:151: DeprecationWarning: The truth value of an empty array is ambiguous. Returning False, but in future this will result in an error. Use `array.size > 0` to check that an array is not empty.\n",
      "  if diff:\n",
      "/home/dks/anaconda3/lib/python3.5/site-packages/sklearn/preprocessing/label.py:151: DeprecationWarning: The truth value of an empty array is ambiguous. Returning False, but in future this will result in an error. Use `array.size > 0` to check that an array is not empty.\n",
      "  if diff:\n",
      "/home/dks/anaconda3/lib/python3.5/site-packages/sklearn/preprocessing/label.py:151: DeprecationWarning: The truth value of an empty array is ambiguous. Returning False, but in future this will result in an error. Use `array.size > 0` to check that an array is not empty.\n",
      "  if diff:\n"
     ]
    },
    {
     "name": "stdout",
     "output_type": "stream",
     "text": [
      "[CV]  voting_cls__voting=hard, voting_cls__svm__gamma=0.001, voting_cls__svm__C=1, voting_cls__rfc__n_estimators=10, voting_cls__rfc__min_samples_split=10, score=0.3944899181473348, total= 2.7min\n",
      "[CV] voting_cls__voting=soft, voting_cls__svm__gamma=1, voting_cls__svm__C=100, voting_cls__rfc__n_estimators=10, voting_cls__rfc__min_samples_split=10 \n"
     ]
    },
    {
     "name": "stderr",
     "output_type": "stream",
     "text": [
      "/home/dks/anaconda3/lib/python3.5/site-packages/sklearn/preprocessing/label.py:151: DeprecationWarning: The truth value of an empty array is ambiguous. Returning False, but in future this will result in an error. Use `array.size > 0` to check that an array is not empty.\n",
      "  if diff:\n",
      "/home/dks/anaconda3/lib/python3.5/site-packages/sklearn/preprocessing/label.py:151: DeprecationWarning: The truth value of an empty array is ambiguous. Returning False, but in future this will result in an error. Use `array.size > 0` to check that an array is not empty.\n",
      "  if diff:\n"
     ]
    },
    {
     "name": "stdout",
     "output_type": "stream",
     "text": [
      "[CV]  voting_cls__voting=hard, voting_cls__svm__gamma=0.001, voting_cls__svm__C=1, voting_cls__rfc__n_estimators=10, voting_cls__rfc__min_samples_split=10, score=0.38973232121454254, total= 2.8min\n",
      "[CV] voting_cls__voting=soft, voting_cls__svm__gamma=1, voting_cls__svm__C=100, voting_cls__rfc__n_estimators=10, voting_cls__rfc__min_samples_split=10 \n"
     ]
    },
    {
     "name": "stderr",
     "output_type": "stream",
     "text": [
      "/home/dks/anaconda3/lib/python3.5/site-packages/sklearn/preprocessing/label.py:151: DeprecationWarning: The truth value of an empty array is ambiguous. Returning False, but in future this will result in an error. Use `array.size > 0` to check that an array is not empty.\n",
      "  if diff:\n"
     ]
    },
    {
     "name": "stdout",
     "output_type": "stream",
     "text": [
      "[CV]  voting_cls__voting=hard, voting_cls__svm__gamma=0.001, voting_cls__svm__C=1, voting_cls__rfc__n_estimators=10, voting_cls__rfc__min_samples_split=10, score=0.42363054778088766, total= 2.7min\n",
      "[CV] voting_cls__voting=hard, voting_cls__svm__gamma=0.01, voting_cls__svm__C=100, voting_cls__rfc__n_estimators=10, voting_cls__rfc__min_samples_split=10 \n"
     ]
    },
    {
     "name": "stderr",
     "output_type": "stream",
     "text": [
      "/home/dks/anaconda3/lib/python3.5/site-packages/sklearn/preprocessing/label.py:151: DeprecationWarning: The truth value of an empty array is ambiguous. Returning False, but in future this will result in an error. Use `array.size > 0` to check that an array is not empty.\n",
      "  if diff:\n",
      "/home/dks/anaconda3/lib/python3.5/site-packages/sklearn/preprocessing/label.py:151: DeprecationWarning: The truth value of an empty array is ambiguous. Returning False, but in future this will result in an error. Use `array.size > 0` to check that an array is not empty.\n",
      "  if diff:\n",
      "/home/dks/anaconda3/lib/python3.5/site-packages/sklearn/preprocessing/label.py:151: DeprecationWarning: The truth value of an empty array is ambiguous. Returning False, but in future this will result in an error. Use `array.size > 0` to check that an array is not empty.\n",
      "  if diff:\n"
     ]
    },
    {
     "name": "stdout",
     "output_type": "stream",
     "text": [
      "[CV]  voting_cls__voting=soft, voting_cls__svm__gamma=0.001, voting_cls__svm__C=1, voting_cls__rfc__n_estimators=10, voting_cls__rfc__min_samples_split=10, score=0.48532641245757635, total= 2.7min\n",
      "[CV] voting_cls__voting=hard, voting_cls__svm__gamma=0.01, voting_cls__svm__C=100, voting_cls__rfc__n_estimators=10, voting_cls__rfc__min_samples_split=10 \n"
     ]
    },
    {
     "name": "stderr",
     "output_type": "stream",
     "text": [
      "/home/dks/anaconda3/lib/python3.5/site-packages/sklearn/preprocessing/label.py:151: DeprecationWarning: The truth value of an empty array is ambiguous. Returning False, but in future this will result in an error. Use `array.size > 0` to check that an array is not empty.\n",
      "  if diff:\n"
     ]
    },
    {
     "name": "stdout",
     "output_type": "stream",
     "text": [
      "[CV]  voting_cls__voting=soft, voting_cls__svm__gamma=0.001, voting_cls__svm__C=1, voting_cls__rfc__n_estimators=10, voting_cls__rfc__min_samples_split=10, score=0.4832201358369956, total= 2.7min\n",
      "[CV] voting_cls__voting=hard, voting_cls__svm__gamma=0.01, voting_cls__svm__C=100, voting_cls__rfc__n_estimators=10, voting_cls__rfc__min_samples_split=10 \n"
     ]
    },
    {
     "name": "stderr",
     "output_type": "stream",
     "text": [
      "/home/dks/anaconda3/lib/python3.5/site-packages/sklearn/preprocessing/label.py:151: DeprecationWarning: The truth value of an empty array is ambiguous. Returning False, but in future this will result in an error. Use `array.size > 0` to check that an array is not empty.\n",
      "  if diff:\n",
      "/home/dks/anaconda3/lib/python3.5/site-packages/sklearn/preprocessing/label.py:151: DeprecationWarning: The truth value of an empty array is ambiguous. Returning False, but in future this will result in an error. Use `array.size > 0` to check that an array is not empty.\n",
      "  if diff:\n",
      "/home/dks/anaconda3/lib/python3.5/site-packages/sklearn/preprocessing/label.py:151: DeprecationWarning: The truth value of an empty array is ambiguous. Returning False, but in future this will result in an error. Use `array.size > 0` to check that an array is not empty.\n",
      "  if diff:\n",
      "/home/dks/anaconda3/lib/python3.5/site-packages/sklearn/preprocessing/label.py:151: DeprecationWarning: The truth value of an empty array is ambiguous. Returning False, but in future this will result in an error. Use `array.size > 0` to check that an array is not empty.\n",
      "  if diff:\n",
      "/home/dks/anaconda3/lib/python3.5/site-packages/sklearn/preprocessing/label.py:151: DeprecationWarning: The truth value of an empty array is ambiguous. Returning False, but in future this will result in an error. Use `array.size > 0` to check that an array is not empty.\n",
      "  if diff:\n"
     ]
    },
    {
     "name": "stdout",
     "output_type": "stream",
     "text": [
      "[CV]  voting_cls__voting=soft, voting_cls__svm__gamma=0.001, voting_cls__svm__C=1, voting_cls__rfc__n_estimators=10, voting_cls__rfc__min_samples_split=10, score=0.4828068772491004, total= 2.8min\n",
      "[CV] voting_cls__voting=soft, voting_cls__svm__gamma=0.01, voting_cls__svm__C=100, voting_cls__rfc__n_estimators=10, voting_cls__rfc__min_samples_split=10 \n"
     ]
    },
    {
     "name": "stderr",
     "output_type": "stream",
     "text": [
      "/home/dks/anaconda3/lib/python3.5/site-packages/sklearn/preprocessing/label.py:151: DeprecationWarning: The truth value of an empty array is ambiguous. Returning False, but in future this will result in an error. Use `array.size > 0` to check that an array is not empty.\n",
      "  if diff:\n"
     ]
    },
    {
     "name": "stdout",
     "output_type": "stream",
     "text": [
      "[CV]  voting_cls__voting=hard, voting_cls__svm__gamma=0.0001, voting_cls__svm__C=1, voting_cls__rfc__n_estimators=10, voting_cls__rfc__min_samples_split=10, score=0.3607506488321022, total= 2.7min\n",
      "[CV] voting_cls__voting=soft, voting_cls__svm__gamma=0.01, voting_cls__svm__C=100, voting_cls__rfc__n_estimators=10, voting_cls__rfc__min_samples_split=10 \n"
     ]
    },
    {
     "name": "stderr",
     "output_type": "stream",
     "text": [
      "/home/dks/anaconda3/lib/python3.5/site-packages/sklearn/preprocessing/label.py:151: DeprecationWarning: The truth value of an empty array is ambiguous. Returning False, but in future this will result in an error. Use `array.size > 0` to check that an array is not empty.\n",
      "  if diff:\n"
     ]
    },
    {
     "name": "stdout",
     "output_type": "stream",
     "text": [
      "[CV]  voting_cls__voting=hard, voting_cls__svm__gamma=0.0001, voting_cls__svm__C=1, voting_cls__rfc__n_estimators=10, voting_cls__rfc__min_samples_split=10, score=0.33379944067119455, total= 2.8min\n",
      "[CV] voting_cls__voting=soft, voting_cls__svm__gamma=0.01, voting_cls__svm__C=100, voting_cls__rfc__n_estimators=10, voting_cls__rfc__min_samples_split=10 \n"
     ]
    },
    {
     "name": "stderr",
     "output_type": "stream",
     "text": [
      "/home/dks/anaconda3/lib/python3.5/site-packages/sklearn/preprocessing/label.py:151: DeprecationWarning: The truth value of an empty array is ambiguous. Returning False, but in future this will result in an error. Use `array.size > 0` to check that an array is not empty.\n",
      "  if diff:\n"
     ]
    },
    {
     "name": "stdout",
     "output_type": "stream",
     "text": [
      "[CV]  voting_cls__voting=hard, voting_cls__svm__gamma=0.0001, voting_cls__svm__C=1, voting_cls__rfc__n_estimators=10, voting_cls__rfc__min_samples_split=10, score=0.4268292682926829, total= 2.7min\n",
      "[CV] voting_cls__voting=hard, voting_cls__svm__gamma=0.001, voting_cls__svm__C=100, voting_cls__rfc__n_estimators=10, voting_cls__rfc__min_samples_split=10 \n"
     ]
    },
    {
     "name": "stderr",
     "output_type": "stream",
     "text": [
      "/home/dks/anaconda3/lib/python3.5/site-packages/sklearn/preprocessing/label.py:151: DeprecationWarning: The truth value of an empty array is ambiguous. Returning False, but in future this will result in an error. Use `array.size > 0` to check that an array is not empty.\n",
      "  if diff:\n"
     ]
    },
    {
     "name": "stdout",
     "output_type": "stream",
     "text": [
      "[CV]  voting_cls__voting=soft, voting_cls__svm__gamma=0.0001, voting_cls__svm__C=1, voting_cls__rfc__n_estimators=10, voting_cls__rfc__min_samples_split=10, score=0.48432820922339787, total= 2.7min\n",
      "[CV] voting_cls__voting=hard, voting_cls__svm__gamma=0.001, voting_cls__svm__C=100, voting_cls__rfc__n_estimators=10, voting_cls__rfc__min_samples_split=10 \n"
     ]
    },
    {
     "name": "stderr",
     "output_type": "stream",
     "text": [
      "/home/dks/anaconda3/lib/python3.5/site-packages/sklearn/preprocessing/label.py:151: DeprecationWarning: The truth value of an empty array is ambiguous. Returning False, but in future this will result in an error. Use `array.size > 0` to check that an array is not empty.\n",
      "  if diff:\n",
      "/home/dks/anaconda3/lib/python3.5/site-packages/sklearn/preprocessing/label.py:151: DeprecationWarning: The truth value of an empty array is ambiguous. Returning False, but in future this will result in an error. Use `array.size > 0` to check that an array is not empty.\n",
      "  if diff:\n",
      "/home/dks/anaconda3/lib/python3.5/site-packages/sklearn/preprocessing/label.py:151: DeprecationWarning: The truth value of an empty array is ambiguous. Returning False, but in future this will result in an error. Use `array.size > 0` to check that an array is not empty.\n",
      "  if diff:\n",
      "/home/dks/anaconda3/lib/python3.5/site-packages/sklearn/preprocessing/label.py:151: DeprecationWarning: The truth value of an empty array is ambiguous. Returning False, but in future this will result in an error. Use `array.size > 0` to check that an array is not empty.\n",
      "  if diff:\n",
      "/home/dks/anaconda3/lib/python3.5/site-packages/sklearn/preprocessing/label.py:151: DeprecationWarning: The truth value of an empty array is ambiguous. Returning False, but in future this will result in an error. Use `array.size > 0` to check that an array is not empty.\n",
      "  if diff:\n"
     ]
    },
    {
     "name": "stdout",
     "output_type": "stream",
     "text": [
      "[CV]  voting_cls__voting=hard, voting_cls__svm__gamma=1, voting_cls__svm__C=100, voting_cls__rfc__n_estimators=10, voting_cls__rfc__min_samples_split=10, score=0.45864962045545343, total= 2.4min\n",
      "[CV] voting_cls__voting=hard, voting_cls__svm__gamma=0.001, voting_cls__svm__C=100, voting_cls__rfc__n_estimators=10, voting_cls__rfc__min_samples_split=10 \n"
     ]
    },
    {
     "name": "stderr",
     "output_type": "stream",
     "text": [
      "/home/dks/anaconda3/lib/python3.5/site-packages/sklearn/preprocessing/label.py:151: DeprecationWarning: The truth value of an empty array is ambiguous. Returning False, but in future this will result in an error. Use `array.size > 0` to check that an array is not empty.\n",
      "  if diff:\n",
      "/home/dks/anaconda3/lib/python3.5/site-packages/sklearn/preprocessing/label.py:151: DeprecationWarning: The truth value of an empty array is ambiguous. Returning False, but in future this will result in an error. Use `array.size > 0` to check that an array is not empty.\n",
      "  if diff:\n"
     ]
    },
    {
     "name": "stdout",
     "output_type": "stream",
     "text": [
      "[CV]  voting_cls__voting=hard, voting_cls__svm__gamma=1, voting_cls__svm__C=100, voting_cls__rfc__n_estimators=10, voting_cls__rfc__min_samples_split=10, score=0.4585745657815931, total= 2.5min\n",
      "[CV] voting_cls__voting=soft, voting_cls__svm__gamma=0.001, voting_cls__svm__C=100, voting_cls__rfc__n_estimators=10, voting_cls__rfc__min_samples_split=10 \n"
     ]
    },
    {
     "name": "stderr",
     "output_type": "stream",
     "text": [
      "/home/dks/anaconda3/lib/python3.5/site-packages/sklearn/preprocessing/label.py:151: DeprecationWarning: The truth value of an empty array is ambiguous. Returning False, but in future this will result in an error. Use `array.size > 0` to check that an array is not empty.\n",
      "  if diff:\n"
     ]
    },
    {
     "name": "stdout",
     "output_type": "stream",
     "text": [
      "[CV]  voting_cls__voting=hard, voting_cls__svm__gamma=1, voting_cls__svm__C=100, voting_cls__rfc__n_estimators=10, voting_cls__rfc__min_samples_split=10, score=0.47461015593762496, total= 2.4min\n",
      "[CV] voting_cls__voting=soft, voting_cls__svm__gamma=0.001, voting_cls__svm__C=100, voting_cls__rfc__n_estimators=10, voting_cls__rfc__min_samples_split=10 \n"
     ]
    },
    {
     "name": "stderr",
     "output_type": "stream",
     "text": [
      "/home/dks/anaconda3/lib/python3.5/site-packages/sklearn/preprocessing/label.py:151: DeprecationWarning: The truth value of an empty array is ambiguous. Returning False, but in future this will result in an error. Use `array.size > 0` to check that an array is not empty.\n",
      "  if diff:\n"
     ]
    },
    {
     "name": "stdout",
     "output_type": "stream",
     "text": [
      "[CV]  voting_cls__voting=soft, voting_cls__svm__gamma=0.0001, voting_cls__svm__C=1, voting_cls__rfc__n_estimators=10, voting_cls__rfc__min_samples_split=10, score=0.48521773871354373, total= 2.7min\n",
      "[CV] voting_cls__voting=soft, voting_cls__svm__gamma=0.001, voting_cls__svm__C=100, voting_cls__rfc__n_estimators=10, voting_cls__rfc__min_samples_split=10 \n"
     ]
    },
    {
     "name": "stderr",
     "output_type": "stream",
     "text": [
      "/home/dks/anaconda3/lib/python3.5/site-packages/sklearn/preprocessing/label.py:151: DeprecationWarning: The truth value of an empty array is ambiguous. Returning False, but in future this will result in an error. Use `array.size > 0` to check that an array is not empty.\n",
      "  if diff:\n",
      "/home/dks/anaconda3/lib/python3.5/site-packages/sklearn/preprocessing/label.py:151: DeprecationWarning: The truth value of an empty array is ambiguous. Returning False, but in future this will result in an error. Use `array.size > 0` to check that an array is not empty.\n",
      "  if diff:\n",
      "/home/dks/anaconda3/lib/python3.5/site-packages/sklearn/preprocessing/label.py:151: DeprecationWarning: The truth value of an empty array is ambiguous. Returning False, but in future this will result in an error. Use `array.size > 0` to check that an array is not empty.\n",
      "  if diff:\n"
     ]
    },
    {
     "name": "stdout",
     "output_type": "stream",
     "text": [
      "[CV]  voting_cls__voting=soft, voting_cls__svm__gamma=1, voting_cls__svm__C=100, voting_cls__rfc__n_estimators=10, voting_cls__rfc__min_samples_split=10, score=0.498702335795568, total= 2.5min\n",
      "[CV] voting_cls__voting=hard, voting_cls__svm__gamma=0.0001, voting_cls__svm__C=100, voting_cls__rfc__n_estimators=10, voting_cls__rfc__min_samples_split=10 \n"
     ]
    },
    {
     "name": "stderr",
     "output_type": "stream",
     "text": [
      "/home/dks/anaconda3/lib/python3.5/site-packages/sklearn/preprocessing/label.py:151: DeprecationWarning: The truth value of an empty array is ambiguous. Returning False, but in future this will result in an error. Use `array.size > 0` to check that an array is not empty.\n",
      "  if diff:\n",
      "/home/dks/anaconda3/lib/python3.5/site-packages/sklearn/preprocessing/label.py:151: DeprecationWarning: The truth value of an empty array is ambiguous. Returning False, but in future this will result in an error. Use `array.size > 0` to check that an array is not empty.\n",
      "  if diff:\n"
     ]
    },
    {
     "name": "stdout",
     "output_type": "stream",
     "text": [
      "[CV]  voting_cls__voting=hard, voting_cls__svm__gamma=0.01, voting_cls__svm__C=100, voting_cls__rfc__n_estimators=10, voting_cls__rfc__min_samples_split=10, score=0.4491914553803154, total= 1.5min\n",
      "[CV] voting_cls__voting=hard, voting_cls__svm__gamma=0.0001, voting_cls__svm__C=100, voting_cls__rfc__n_estimators=10, voting_cls__rfc__min_samples_split=10 \n"
     ]
    },
    {
     "name": "stderr",
     "output_type": "stream",
     "text": [
      "/home/dks/anaconda3/lib/python3.5/site-packages/sklearn/preprocessing/label.py:151: DeprecationWarning: The truth value of an empty array is ambiguous. Returning False, but in future this will result in an error. Use `array.size > 0` to check that an array is not empty.\n",
      "  if diff:\n",
      "/home/dks/anaconda3/lib/python3.5/site-packages/sklearn/preprocessing/label.py:151: DeprecationWarning: The truth value of an empty array is ambiguous. Returning False, but in future this will result in an error. Use `array.size > 0` to check that an array is not empty.\n",
      "  if diff:\n"
     ]
    },
    {
     "name": "stdout",
     "output_type": "stream",
     "text": [
      "[CV]  voting_cls__voting=soft, voting_cls__svm__gamma=0.0001, voting_cls__svm__C=1, voting_cls__rfc__n_estimators=10, voting_cls__rfc__min_samples_split=10, score=0.4846061575369852, total= 2.9min\n",
      "[CV] voting_cls__voting=hard, voting_cls__svm__gamma=0.0001, voting_cls__svm__C=100, voting_cls__rfc__n_estimators=10, voting_cls__rfc__min_samples_split=10 \n"
     ]
    },
    {
     "name": "stderr",
     "output_type": "stream",
     "text": [
      "/home/dks/anaconda3/lib/python3.5/site-packages/sklearn/preprocessing/label.py:151: DeprecationWarning: The truth value of an empty array is ambiguous. Returning False, but in future this will result in an error. Use `array.size > 0` to check that an array is not empty.\n",
      "  if diff:\n"
     ]
    },
    {
     "name": "stdout",
     "output_type": "stream",
     "text": [
      "[CV]  voting_cls__voting=hard, voting_cls__svm__gamma=0.01, voting_cls__svm__C=100, voting_cls__rfc__n_estimators=10, voting_cls__rfc__min_samples_split=10, score=0.4394726328405913, total= 1.5min\n"
     ]
    },
    {
     "name": "stderr",
     "output_type": "stream",
     "text": [
      "/home/dks/anaconda3/lib/python3.5/site-packages/sklearn/preprocessing/label.py:151: DeprecationWarning: The truth value of an empty array is ambiguous. Returning False, but in future this will result in an error. Use `array.size > 0` to check that an array is not empty.\n",
      "  if diff:\n"
     ]
    },
    {
     "name": "stdout",
     "output_type": "stream",
     "text": [
      "[CV] voting_cls__voting=soft, voting_cls__svm__gamma=0.0001, voting_cls__svm__C=100, voting_cls__rfc__n_estimators=10, voting_cls__rfc__min_samples_split=10 \n"
     ]
    },
    {
     "name": "stderr",
     "output_type": "stream",
     "text": [
      "/home/dks/anaconda3/lib/python3.5/site-packages/sklearn/preprocessing/label.py:151: DeprecationWarning: The truth value of an empty array is ambiguous. Returning False, but in future this will result in an error. Use `array.size > 0` to check that an array is not empty.\n",
      "  if diff:\n",
      "/home/dks/anaconda3/lib/python3.5/site-packages/sklearn/preprocessing/label.py:151: DeprecationWarning: The truth value of an empty array is ambiguous. Returning False, but in future this will result in an error. Use `array.size > 0` to check that an array is not empty.\n",
      "  if diff:\n"
     ]
    },
    {
     "name": "stdout",
     "output_type": "stream",
     "text": [
      "[CV]  voting_cls__voting=hard, voting_cls__svm__gamma=0.01, voting_cls__svm__C=100, voting_cls__rfc__n_estimators=10, voting_cls__rfc__min_samples_split=10, score=0.45521791283486607, total= 1.5min\n",
      "[CV] voting_cls__voting=soft, voting_cls__svm__gamma=0.0001, voting_cls__svm__C=100, voting_cls__rfc__n_estimators=10, voting_cls__rfc__min_samples_split=10 \n"
     ]
    },
    {
     "name": "stderr",
     "output_type": "stream",
     "text": [
      "/home/dks/anaconda3/lib/python3.5/site-packages/sklearn/preprocessing/label.py:151: DeprecationWarning: The truth value of an empty array is ambiguous. Returning False, but in future this will result in an error. Use `array.size > 0` to check that an array is not empty.\n",
      "  if diff:\n",
      "/home/dks/anaconda3/lib/python3.5/site-packages/sklearn/preprocessing/label.py:151: DeprecationWarning: The truth value of an empty array is ambiguous. Returning False, but in future this will result in an error. Use `array.size > 0` to check that an array is not empty.\n",
      "  if diff:\n"
     ]
    },
    {
     "name": "stdout",
     "output_type": "stream",
     "text": [
      "[CV]  voting_cls__voting=soft, voting_cls__svm__gamma=0.01, voting_cls__svm__C=100, voting_cls__rfc__n_estimators=10, voting_cls__rfc__min_samples_split=10, score=0.48641630043947265, total= 1.4min\n",
      "[CV] voting_cls__voting=soft, voting_cls__svm__gamma=0.0001, voting_cls__svm__C=100, voting_cls__rfc__n_estimators=10, voting_cls__rfc__min_samples_split=10 \n"
     ]
    },
    {
     "name": "stderr",
     "output_type": "stream",
     "text": [
      "/home/dks/anaconda3/lib/python3.5/site-packages/sklearn/preprocessing/label.py:151: DeprecationWarning: The truth value of an empty array is ambiguous. Returning False, but in future this will result in an error. Use `array.size > 0` to check that an array is not empty.\n",
      "  if diff:\n"
     ]
    },
    {
     "name": "stdout",
     "output_type": "stream",
     "text": [
      "[CV]  voting_cls__voting=soft, voting_cls__svm__gamma=0.01, voting_cls__svm__C=100, voting_cls__rfc__n_estimators=10, voting_cls__rfc__min_samples_split=10, score=0.5048911958474745, total= 1.5min\n",
      "[CV] voting_cls__voting=hard, voting_cls__svm__gamma=1, voting_cls__svm__C=1000, voting_cls__rfc__n_estimators=10, voting_cls__rfc__min_samples_split=10 \n"
     ]
    },
    {
     "name": "stderr",
     "output_type": "stream",
     "text": [
      "/home/dks/anaconda3/lib/python3.5/site-packages/sklearn/preprocessing/label.py:151: DeprecationWarning: The truth value of an empty array is ambiguous. Returning False, but in future this will result in an error. Use `array.size > 0` to check that an array is not empty.\n",
      "  if diff:\n",
      "/home/dks/anaconda3/lib/python3.5/site-packages/sklearn/preprocessing/label.py:151: DeprecationWarning: The truth value of an empty array is ambiguous. Returning False, but in future this will result in an error. Use `array.size > 0` to check that an array is not empty.\n",
      "  if diff:\n",
      "/home/dks/anaconda3/lib/python3.5/site-packages/sklearn/preprocessing/label.py:151: DeprecationWarning: The truth value of an empty array is ambiguous. Returning False, but in future this will result in an error. Use `array.size > 0` to check that an array is not empty.\n",
      "  if diff:\n"
     ]
    },
    {
     "name": "stdout",
     "output_type": "stream",
     "text": [
      "[CV]  voting_cls__voting=soft, voting_cls__svm__gamma=0.01, voting_cls__svm__C=100, voting_cls__rfc__n_estimators=10, voting_cls__rfc__min_samples_split=10, score=0.4934026389444222, total= 1.5min\n",
      "[CV] voting_cls__voting=hard, voting_cls__svm__gamma=1, voting_cls__svm__C=1000, voting_cls__rfc__n_estimators=10, voting_cls__rfc__min_samples_split=10 \n"
     ]
    },
    {
     "name": "stderr",
     "output_type": "stream",
     "text": [
      "/home/dks/anaconda3/lib/python3.5/site-packages/sklearn/preprocessing/label.py:151: DeprecationWarning: The truth value of an empty array is ambiguous. Returning False, but in future this will result in an error. Use `array.size > 0` to check that an array is not empty.\n",
      "  if diff:\n",
      "/home/dks/anaconda3/lib/python3.5/site-packages/sklearn/preprocessing/label.py:151: DeprecationWarning: The truth value of an empty array is ambiguous. Returning False, but in future this will result in an error. Use `array.size > 0` to check that an array is not empty.\n",
      "  if diff:\n"
     ]
    },
    {
     "name": "stdout",
     "output_type": "stream",
     "text": [
      "[CV]  voting_cls__voting=hard, voting_cls__svm__gamma=0.001, voting_cls__svm__C=100, voting_cls__rfc__n_estimators=10, voting_cls__rfc__min_samples_split=10, score=0.4308829404714343, total= 1.5min\n",
      "[CV] voting_cls__voting=hard, voting_cls__svm__gamma=1, voting_cls__svm__C=1000, voting_cls__rfc__n_estimators=10, voting_cls__rfc__min_samples_split=10 \n"
     ]
    },
    {
     "name": "stderr",
     "output_type": "stream",
     "text": [
      "/home/dks/anaconda3/lib/python3.5/site-packages/sklearn/preprocessing/label.py:151: DeprecationWarning: The truth value of an empty array is ambiguous. Returning False, but in future this will result in an error. Use `array.size > 0` to check that an array is not empty.\n",
      "  if diff:\n"
     ]
    },
    {
     "name": "stdout",
     "output_type": "stream",
     "text": [
      "[CV]  voting_cls__voting=soft, voting_cls__svm__gamma=1, voting_cls__svm__C=100, voting_cls__rfc__n_estimators=10, voting_cls__rfc__min_samples_split=10, score=0.49560527367159407, total= 2.3min\n",
      "[CV] voting_cls__voting=soft, voting_cls__svm__gamma=1, voting_cls__svm__C=1000, voting_cls__rfc__n_estimators=10, voting_cls__rfc__min_samples_split=10 \n"
     ]
    },
    {
     "name": "stderr",
     "output_type": "stream",
     "text": [
      "/home/dks/anaconda3/lib/python3.5/site-packages/sklearn/preprocessing/label.py:151: DeprecationWarning: The truth value of an empty array is ambiguous. Returning False, but in future this will result in an error. Use `array.size > 0` to check that an array is not empty.\n",
      "  if diff:\n"
     ]
    },
    {
     "name": "stdout",
     "output_type": "stream",
     "text": [
      "[CV]  voting_cls__voting=hard, voting_cls__svm__gamma=0.001, voting_cls__svm__C=100, voting_cls__rfc__n_estimators=10, voting_cls__rfc__min_samples_split=10, score=0.43421840686763824, total= 1.7min\n",
      "[CV] voting_cls__voting=soft, voting_cls__svm__gamma=1, voting_cls__svm__C=1000, voting_cls__rfc__n_estimators=10, voting_cls__rfc__min_samples_split=10 \n"
     ]
    },
    {
     "name": "stderr",
     "output_type": "stream",
     "text": [
      "/home/dks/anaconda3/lib/python3.5/site-packages/sklearn/preprocessing/label.py:151: DeprecationWarning: The truth value of an empty array is ambiguous. Returning False, but in future this will result in an error. Use `array.size > 0` to check that an array is not empty.\n",
      "  if diff:\n",
      "/home/dks/anaconda3/lib/python3.5/site-packages/sklearn/preprocessing/label.py:151: DeprecationWarning: The truth value of an empty array is ambiguous. Returning False, but in future this will result in an error. Use `array.size > 0` to check that an array is not empty.\n",
      "  if diff:\n"
     ]
    },
    {
     "name": "stdout",
     "output_type": "stream",
     "text": [
      "[CV]  voting_cls__voting=soft, voting_cls__svm__gamma=1, voting_cls__svm__C=100, voting_cls__rfc__n_estimators=10, voting_cls__rfc__min_samples_split=10, score=0.49420231907237105, total= 2.4min\n",
      "[CV] voting_cls__voting=soft, voting_cls__svm__gamma=1, voting_cls__svm__C=1000, voting_cls__rfc__n_estimators=10, voting_cls__rfc__min_samples_split=10 \n"
     ]
    },
    {
     "name": "stderr",
     "output_type": "stream",
     "text": [
      "/home/dks/anaconda3/lib/python3.5/site-packages/sklearn/preprocessing/label.py:151: DeprecationWarning: The truth value of an empty array is ambiguous. Returning False, but in future this will result in an error. Use `array.size > 0` to check that an array is not empty.\n",
      "  if diff:\n",
      "/home/dks/anaconda3/lib/python3.5/site-packages/sklearn/preprocessing/label.py:151: DeprecationWarning: The truth value of an empty array is ambiguous. Returning False, but in future this will result in an error. Use `array.size > 0` to check that an array is not empty.\n",
      "  if diff:\n",
      "/home/dks/anaconda3/lib/python3.5/site-packages/sklearn/preprocessing/label.py:151: DeprecationWarning: The truth value of an empty array is ambiguous. Returning False, but in future this will result in an error. Use `array.size > 0` to check that an array is not empty.\n",
      "  if diff:\n",
      "/home/dks/anaconda3/lib/python3.5/site-packages/sklearn/preprocessing/label.py:151: DeprecationWarning: The truth value of an empty array is ambiguous. Returning False, but in future this will result in an error. Use `array.size > 0` to check that an array is not empty.\n",
      "  if diff:\n",
      "/home/dks/anaconda3/lib/python3.5/site-packages/sklearn/preprocessing/label.py:151: DeprecationWarning: The truth value of an empty array is ambiguous. Returning False, but in future this will result in an error. Use `array.size > 0` to check that an array is not empty.\n",
      "  if diff:\n"
     ]
    },
    {
     "name": "stdout",
     "output_type": "stream",
     "text": [
      "[CV]  voting_cls__voting=hard, voting_cls__svm__gamma=0.001, voting_cls__svm__C=100, voting_cls__rfc__n_estimators=10, voting_cls__rfc__min_samples_split=10, score=0.44422231107556975, total= 1.6min\n",
      "[CV] voting_cls__voting=hard, voting_cls__svm__gamma=0.01, voting_cls__svm__C=1000, voting_cls__rfc__n_estimators=10, voting_cls__rfc__min_samples_split=10 \n"
     ]
    },
    {
     "name": "stderr",
     "output_type": "stream",
     "text": [
      "/home/dks/anaconda3/lib/python3.5/site-packages/sklearn/preprocessing/label.py:151: DeprecationWarning: The truth value of an empty array is ambiguous. Returning False, but in future this will result in an error. Use `array.size > 0` to check that an array is not empty.\n",
      "  if diff:\n"
     ]
    },
    {
     "name": "stdout",
     "output_type": "stream",
     "text": [
      "[CV]  voting_cls__voting=soft, voting_cls__svm__gamma=0.001, voting_cls__svm__C=100, voting_cls__rfc__n_estimators=10, voting_cls__rfc__min_samples_split=10, score=0.4917149131563186, total= 1.5min\n",
      "[CV] voting_cls__voting=hard, voting_cls__svm__gamma=0.01, voting_cls__svm__C=1000, voting_cls__rfc__n_estimators=10, voting_cls__rfc__min_samples_split=10 \n"
     ]
    },
    {
     "name": "stderr",
     "output_type": "stream",
     "text": [
      "/home/dks/anaconda3/lib/python3.5/site-packages/sklearn/preprocessing/label.py:151: DeprecationWarning: The truth value of an empty array is ambiguous. Returning False, but in future this will result in an error. Use `array.size > 0` to check that an array is not empty.\n",
      "  if diff:\n"
     ]
    },
    {
     "name": "stdout",
     "output_type": "stream",
     "text": [
      "[CV]  voting_cls__voting=soft, voting_cls__svm__gamma=0.001, voting_cls__svm__C=100, voting_cls__rfc__n_estimators=10, voting_cls__rfc__min_samples_split=10, score=0.48900439824070374, total= 1.6min\n",
      "[CV] voting_cls__voting=hard, voting_cls__svm__gamma=0.01, voting_cls__svm__C=1000, voting_cls__rfc__n_estimators=10, voting_cls__rfc__min_samples_split=10 \n"
     ]
    },
    {
     "name": "stderr",
     "output_type": "stream",
     "text": [
      "/home/dks/anaconda3/lib/python3.5/site-packages/sklearn/preprocessing/label.py:151: DeprecationWarning: The truth value of an empty array is ambiguous. Returning False, but in future this will result in an error. Use `array.size > 0` to check that an array is not empty.\n",
      "  if diff:\n"
     ]
    },
    {
     "name": "stdout",
     "output_type": "stream",
     "text": [
      "[CV]  voting_cls__voting=soft, voting_cls__svm__gamma=0.001, voting_cls__svm__C=100, voting_cls__rfc__n_estimators=10, voting_cls__rfc__min_samples_split=10, score=0.4876148621654015, total= 1.6min\n",
      "[CV] voting_cls__voting=soft, voting_cls__svm__gamma=0.01, voting_cls__svm__C=1000, voting_cls__rfc__n_estimators=10, voting_cls__rfc__min_samples_split=10 \n"
     ]
    },
    {
     "name": "stderr",
     "output_type": "stream",
     "text": [
      "/home/dks/anaconda3/lib/python3.5/site-packages/sklearn/preprocessing/label.py:151: DeprecationWarning: The truth value of an empty array is ambiguous. Returning False, but in future this will result in an error. Use `array.size > 0` to check that an array is not empty.\n",
      "  if diff:\n",
      "/home/dks/anaconda3/lib/python3.5/site-packages/sklearn/preprocessing/label.py:151: DeprecationWarning: The truth value of an empty array is ambiguous. Returning False, but in future this will result in an error. Use `array.size > 0` to check that an array is not empty.\n",
      "  if diff:\n",
      "/home/dks/anaconda3/lib/python3.5/site-packages/sklearn/preprocessing/label.py:151: DeprecationWarning: The truth value of an empty array is ambiguous. Returning False, but in future this will result in an error. Use `array.size > 0` to check that an array is not empty.\n",
      "  if diff:\n"
     ]
    },
    {
     "name": "stdout",
     "output_type": "stream",
     "text": [
      "[CV]  voting_cls__voting=hard, voting_cls__svm__gamma=0.0001, voting_cls__svm__C=100, voting_cls__rfc__n_estimators=10, voting_cls__rfc__min_samples_split=10, score=0.4182471551207826, total= 1.9min\n",
      "[CV] voting_cls__voting=soft, voting_cls__svm__gamma=0.01, voting_cls__svm__C=1000, voting_cls__rfc__n_estimators=10, voting_cls__rfc__min_samples_split=10 \n"
     ]
    },
    {
     "name": "stderr",
     "output_type": "stream",
     "text": [
      "/home/dks/anaconda3/lib/python3.5/site-packages/sklearn/preprocessing/label.py:151: DeprecationWarning: The truth value of an empty array is ambiguous. Returning False, but in future this will result in an error. Use `array.size > 0` to check that an array is not empty.\n",
      "  if diff:\n",
      "/home/dks/anaconda3/lib/python3.5/site-packages/sklearn/preprocessing/label.py:151: DeprecationWarning: The truth value of an empty array is ambiguous. Returning False, but in future this will result in an error. Use `array.size > 0` to check that an array is not empty.\n",
      "  if diff:\n"
     ]
    },
    {
     "name": "stdout",
     "output_type": "stream",
     "text": [
      "[CV]  voting_cls__voting=hard, voting_cls__svm__gamma=0.0001, voting_cls__svm__C=100, voting_cls__rfc__n_estimators=10, voting_cls__rfc__min_samples_split=10, score=0.41170595285657213, total= 2.0min\n",
      "[CV] voting_cls__voting=soft, voting_cls__svm__gamma=0.01, voting_cls__svm__C=1000, voting_cls__rfc__n_estimators=10, voting_cls__rfc__min_samples_split=10 \n"
     ]
    },
    {
     "name": "stderr",
     "output_type": "stream",
     "text": [
      "/home/dks/anaconda3/lib/python3.5/site-packages/sklearn/preprocessing/label.py:151: DeprecationWarning: The truth value of an empty array is ambiguous. Returning False, but in future this will result in an error. Use `array.size > 0` to check that an array is not empty.\n",
      "  if diff:\n",
      "/home/dks/anaconda3/lib/python3.5/site-packages/sklearn/preprocessing/label.py:151: DeprecationWarning: The truth value of an empty array is ambiguous. Returning False, but in future this will result in an error. Use `array.size > 0` to check that an array is not empty.\n",
      "  if diff:\n",
      "/home/dks/anaconda3/lib/python3.5/site-packages/sklearn/preprocessing/label.py:151: DeprecationWarning: The truth value of an empty array is ambiguous. Returning False, but in future this will result in an error. Use `array.size > 0` to check that an array is not empty.\n",
      "  if diff:\n",
      "/home/dks/anaconda3/lib/python3.5/site-packages/sklearn/preprocessing/label.py:151: DeprecationWarning: The truth value of an empty array is ambiguous. Returning False, but in future this will result in an error. Use `array.size > 0` to check that an array is not empty.\n",
      "  if diff:\n"
     ]
    },
    {
     "name": "stdout",
     "output_type": "stream",
     "text": [
      "[CV]  voting_cls__voting=hard, voting_cls__svm__gamma=0.0001, voting_cls__svm__C=100, voting_cls__rfc__n_estimators=10, voting_cls__rfc__min_samples_split=10, score=0.43002798880447823, total= 2.1min\n",
      "[CV] voting_cls__voting=hard, voting_cls__svm__gamma=0.001, voting_cls__svm__C=1000, voting_cls__rfc__n_estimators=10, voting_cls__rfc__min_samples_split=10 \n"
     ]
    },
    {
     "name": "stderr",
     "output_type": "stream",
     "text": [
      "/home/dks/anaconda3/lib/python3.5/site-packages/sklearn/preprocessing/label.py:151: DeprecationWarning: The truth value of an empty array is ambiguous. Returning False, but in future this will result in an error. Use `array.size > 0` to check that an array is not empty.\n",
      "  if diff:\n"
     ]
    },
    {
     "name": "stdout",
     "output_type": "stream",
     "text": [
      "[CV]  voting_cls__voting=soft, voting_cls__svm__gamma=0.0001, voting_cls__svm__C=100, voting_cls__rfc__n_estimators=10, voting_cls__rfc__min_samples_split=10, score=0.4881213815132761, total= 2.1min\n",
      "[CV] voting_cls__voting=hard, voting_cls__svm__gamma=0.001, voting_cls__svm__C=1000, voting_cls__rfc__n_estimators=10, voting_cls__rfc__min_samples_split=10 \n"
     ]
    },
    {
     "name": "stderr",
     "output_type": "stream",
     "text": [
      "/home/dks/anaconda3/lib/python3.5/site-packages/sklearn/preprocessing/label.py:151: DeprecationWarning: The truth value of an empty array is ambiguous. Returning False, but in future this will result in an error. Use `array.size > 0` to check that an array is not empty.\n",
      "  if diff:\n"
     ]
    },
    {
     "name": "stdout",
     "output_type": "stream",
     "text": [
      "[CV]  voting_cls__voting=soft, voting_cls__svm__gamma=0.0001, voting_cls__svm__C=100, voting_cls__rfc__n_estimators=10, voting_cls__rfc__min_samples_split=10, score=0.4818218138234119, total= 2.1min\n",
      "[CV] voting_cls__voting=hard, voting_cls__svm__gamma=0.001, voting_cls__svm__C=1000, voting_cls__rfc__n_estimators=10, voting_cls__rfc__min_samples_split=10 \n"
     ]
    },
    {
     "name": "stderr",
     "output_type": "stream",
     "text": [
      "/home/dks/anaconda3/lib/python3.5/site-packages/sklearn/preprocessing/label.py:151: DeprecationWarning: The truth value of an empty array is ambiguous. Returning False, but in future this will result in an error. Use `array.size > 0` to check that an array is not empty.\n",
      "  if diff:\n"
     ]
    },
    {
     "name": "stdout",
     "output_type": "stream",
     "text": [
      "[CV]  voting_cls__voting=soft, voting_cls__svm__gamma=0.0001, voting_cls__svm__C=100, voting_cls__rfc__n_estimators=10, voting_cls__rfc__min_samples_split=10, score=0.4858056777289084, total= 1.9min\n",
      "[CV] voting_cls__voting=soft, voting_cls__svm__gamma=0.001, voting_cls__svm__C=1000, voting_cls__rfc__n_estimators=10, voting_cls__rfc__min_samples_split=10 \n"
     ]
    },
    {
     "name": "stderr",
     "output_type": "stream",
     "text": [
      "/home/dks/anaconda3/lib/python3.5/site-packages/sklearn/preprocessing/label.py:151: DeprecationWarning: The truth value of an empty array is ambiguous. Returning False, but in future this will result in an error. Use `array.size > 0` to check that an array is not empty.\n",
      "  if diff:\n",
      "/home/dks/anaconda3/lib/python3.5/site-packages/sklearn/preprocessing/label.py:151: DeprecationWarning: The truth value of an empty array is ambiguous. Returning False, but in future this will result in an error. Use `array.size > 0` to check that an array is not empty.\n",
      "  if diff:\n",
      "/home/dks/anaconda3/lib/python3.5/site-packages/sklearn/preprocessing/label.py:151: DeprecationWarning: The truth value of an empty array is ambiguous. Returning False, but in future this will result in an error. Use `array.size > 0` to check that an array is not empty.\n",
      "  if diff:\n"
     ]
    },
    {
     "name": "stdout",
     "output_type": "stream",
     "text": [
      "[CV]  voting_cls__voting=hard, voting_cls__svm__gamma=0.01, voting_cls__svm__C=1000, voting_cls__rfc__n_estimators=10, voting_cls__rfc__min_samples_split=10, score=0.4493910960271511, total= 1.6min\n",
      "[CV] voting_cls__voting=soft, voting_cls__svm__gamma=0.001, voting_cls__svm__C=1000, voting_cls__rfc__n_estimators=10, voting_cls__rfc__min_samples_split=10 \n"
     ]
    },
    {
     "name": "stderr",
     "output_type": "stream",
     "text": [
      "/home/dks/anaconda3/lib/python3.5/site-packages/sklearn/preprocessing/label.py:151: DeprecationWarning: The truth value of an empty array is ambiguous. Returning False, but in future this will result in an error. Use `array.size > 0` to check that an array is not empty.\n",
      "  if diff:\n",
      "/home/dks/anaconda3/lib/python3.5/site-packages/sklearn/preprocessing/label.py:151: DeprecationWarning: The truth value of an empty array is ambiguous. Returning False, but in future this will result in an error. Use `array.size > 0` to check that an array is not empty.\n",
      "  if diff:\n",
      "/home/dks/anaconda3/lib/python3.5/site-packages/sklearn/preprocessing/label.py:151: DeprecationWarning: The truth value of an empty array is ambiguous. Returning False, but in future this will result in an error. Use `array.size > 0` to check that an array is not empty.\n",
      "  if diff:\n"
     ]
    },
    {
     "name": "stdout",
     "output_type": "stream",
     "text": [
      "[CV]  voting_cls__voting=hard, voting_cls__svm__gamma=0.01, voting_cls__svm__C=1000, voting_cls__rfc__n_estimators=10, voting_cls__rfc__min_samples_split=10, score=0.4452656811825809, total= 1.7min\n",
      "[CV] voting_cls__voting=soft, voting_cls__svm__gamma=0.001, voting_cls__svm__C=1000, voting_cls__rfc__n_estimators=10, voting_cls__rfc__min_samples_split=10 \n"
     ]
    },
    {
     "name": "stderr",
     "output_type": "stream",
     "text": [
      "/home/dks/anaconda3/lib/python3.5/site-packages/sklearn/preprocessing/label.py:151: DeprecationWarning: The truth value of an empty array is ambiguous. Returning False, but in future this will result in an error. Use `array.size > 0` to check that an array is not empty.\n",
      "  if diff:\n"
     ]
    },
    {
     "name": "stdout",
     "output_type": "stream",
     "text": [
      "[CV]  voting_cls__voting=soft, voting_cls__svm__gamma=0.01, voting_cls__svm__C=1000, voting_cls__rfc__n_estimators=10, voting_cls__rfc__min_samples_split=10, score=0.49530844479936115, total= 1.7min\n",
      "[CV] voting_cls__voting=hard, voting_cls__svm__gamma=0.0001, voting_cls__svm__C=1000, voting_cls__rfc__n_estimators=10, voting_cls__rfc__min_samples_split=10 \n"
     ]
    },
    {
     "name": "stderr",
     "output_type": "stream",
     "text": [
      "/home/dks/anaconda3/lib/python3.5/site-packages/sklearn/preprocessing/label.py:151: DeprecationWarning: The truth value of an empty array is ambiguous. Returning False, but in future this will result in an error. Use `array.size > 0` to check that an array is not empty.\n",
      "  if diff:\n"
     ]
    },
    {
     "name": "stdout",
     "output_type": "stream",
     "text": [
      "[CV]  voting_cls__voting=hard, voting_cls__svm__gamma=0.01, voting_cls__svm__C=1000, voting_cls__rfc__n_estimators=10, voting_cls__rfc__min_samples_split=10, score=0.46241503398640543, total= 1.7min\n",
      "[CV] voting_cls__voting=hard, voting_cls__svm__gamma=0.0001, voting_cls__svm__C=1000, voting_cls__rfc__n_estimators=10, voting_cls__rfc__min_samples_split=10 \n"
     ]
    },
    {
     "ename": "KeyboardInterrupt",
     "evalue": "",
     "output_type": "error",
     "traceback": [
      "\u001b[0;31m---------------------------------------------------------------------------\u001b[0m",
      "\u001b[0;31mKeyboardInterrupt\u001b[0m                         Traceback (most recent call last)",
      "\u001b[0;32m<ipython-input-17-314bc3932806>\u001b[0m in \u001b[0;36m<module>\u001b[0;34m()\u001b[0m\n\u001b[1;32m      2\u001b[0m \u001b[0;32mfrom\u001b[0m \u001b[0msklearn\u001b[0m\u001b[0;34m.\u001b[0m\u001b[0mmodel_selection\u001b[0m \u001b[0;32mimport\u001b[0m \u001b[0mGridSearchCV\u001b[0m\u001b[0;34m\u001b[0m\u001b[0m\n\u001b[1;32m      3\u001b[0m \u001b[0mvtcls_gs\u001b[0m \u001b[0;34m=\u001b[0m \u001b[0mGridSearchCV\u001b[0m\u001b[0;34m(\u001b[0m\u001b[0mvtcls\u001b[0m\u001b[0;34m,\u001b[0m \u001b[0mparam_grid\u001b[0m\u001b[0;34m=\u001b[0m\u001b[0mparam_grids\u001b[0m\u001b[0;34m,\u001b[0m \u001b[0mcv\u001b[0m \u001b[0;34m=\u001b[0m \u001b[0;36m3\u001b[0m\u001b[0;34m,\u001b[0m \u001b[0mn_jobs\u001b[0m\u001b[0;34m=\u001b[0m\u001b[0;34m-\u001b[0m\u001b[0;36m1\u001b[0m\u001b[0;34m,\u001b[0m \u001b[0mverbose\u001b[0m\u001b[0;34m=\u001b[0m\u001b[0;36m3\u001b[0m\u001b[0;34m)\u001b[0m\u001b[0;34m\u001b[0m\u001b[0m\n\u001b[0;32m----> 4\u001b[0;31m \u001b[0mvtcls_gs\u001b[0m\u001b[0;34m.\u001b[0m\u001b[0mfit\u001b[0m\u001b[0;34m(\u001b[0m\u001b[0mX_train\u001b[0m\u001b[0;34m,\u001b[0m \u001b[0my_train\u001b[0m\u001b[0;34m)\u001b[0m\u001b[0;34m\u001b[0m\u001b[0m\n\u001b[0m",
      "\u001b[0;32m~/anaconda3/lib/python3.5/site-packages/sklearn/model_selection/_search.py\u001b[0m in \u001b[0;36mfit\u001b[0;34m(self, X, y, groups, **fit_params)\u001b[0m\n\u001b[1;32m    637\u001b[0m                                   error_score=self.error_score)\n\u001b[1;32m    638\u001b[0m           for parameters, (train, test) in product(candidate_params,\n\u001b[0;32m--> 639\u001b[0;31m                                                    cv.split(X, y, groups)))\n\u001b[0m\u001b[1;32m    640\u001b[0m \u001b[0;34m\u001b[0m\u001b[0m\n\u001b[1;32m    641\u001b[0m         \u001b[0;31m# if one choose to see train score, \"out\" will contain train score info\u001b[0m\u001b[0;34m\u001b[0m\u001b[0;34m\u001b[0m\u001b[0m\n",
      "\u001b[0;32m~/anaconda3/lib/python3.5/site-packages/sklearn/externals/joblib/parallel.py\u001b[0m in \u001b[0;36m__call__\u001b[0;34m(self, iterable)\u001b[0m\n\u001b[1;32m    787\u001b[0m                 \u001b[0;31m# consumption.\u001b[0m\u001b[0;34m\u001b[0m\u001b[0;34m\u001b[0m\u001b[0m\n\u001b[1;32m    788\u001b[0m                 \u001b[0mself\u001b[0m\u001b[0;34m.\u001b[0m\u001b[0m_iterating\u001b[0m \u001b[0;34m=\u001b[0m \u001b[0;32mFalse\u001b[0m\u001b[0;34m\u001b[0m\u001b[0m\n\u001b[0;32m--> 789\u001b[0;31m             \u001b[0mself\u001b[0m\u001b[0;34m.\u001b[0m\u001b[0mretrieve\u001b[0m\u001b[0;34m(\u001b[0m\u001b[0;34m)\u001b[0m\u001b[0;34m\u001b[0m\u001b[0m\n\u001b[0m\u001b[1;32m    790\u001b[0m             \u001b[0;31m# Make sure that we get a last message telling us we are done\u001b[0m\u001b[0;34m\u001b[0m\u001b[0;34m\u001b[0m\u001b[0m\n\u001b[1;32m    791\u001b[0m             \u001b[0melapsed_time\u001b[0m \u001b[0;34m=\u001b[0m \u001b[0mtime\u001b[0m\u001b[0;34m.\u001b[0m\u001b[0mtime\u001b[0m\u001b[0;34m(\u001b[0m\u001b[0;34m)\u001b[0m \u001b[0;34m-\u001b[0m \u001b[0mself\u001b[0m\u001b[0;34m.\u001b[0m\u001b[0m_start_time\u001b[0m\u001b[0;34m\u001b[0m\u001b[0m\n",
      "\u001b[0;32m~/anaconda3/lib/python3.5/site-packages/sklearn/externals/joblib/parallel.py\u001b[0m in \u001b[0;36mretrieve\u001b[0;34m(self)\u001b[0m\n\u001b[1;32m    697\u001b[0m             \u001b[0;32mtry\u001b[0m\u001b[0;34m:\u001b[0m\u001b[0;34m\u001b[0m\u001b[0m\n\u001b[1;32m    698\u001b[0m                 \u001b[0;32mif\u001b[0m \u001b[0mgetattr\u001b[0m\u001b[0;34m(\u001b[0m\u001b[0mself\u001b[0m\u001b[0;34m.\u001b[0m\u001b[0m_backend\u001b[0m\u001b[0;34m,\u001b[0m \u001b[0;34m'supports_timeout'\u001b[0m\u001b[0;34m,\u001b[0m \u001b[0;32mFalse\u001b[0m\u001b[0;34m)\u001b[0m\u001b[0;34m:\u001b[0m\u001b[0;34m\u001b[0m\u001b[0m\n\u001b[0;32m--> 699\u001b[0;31m                     \u001b[0mself\u001b[0m\u001b[0;34m.\u001b[0m\u001b[0m_output\u001b[0m\u001b[0;34m.\u001b[0m\u001b[0mextend\u001b[0m\u001b[0;34m(\u001b[0m\u001b[0mjob\u001b[0m\u001b[0;34m.\u001b[0m\u001b[0mget\u001b[0m\u001b[0;34m(\u001b[0m\u001b[0mtimeout\u001b[0m\u001b[0;34m=\u001b[0m\u001b[0mself\u001b[0m\u001b[0;34m.\u001b[0m\u001b[0mtimeout\u001b[0m\u001b[0;34m)\u001b[0m\u001b[0;34m)\u001b[0m\u001b[0;34m\u001b[0m\u001b[0m\n\u001b[0m\u001b[1;32m    700\u001b[0m                 \u001b[0;32melse\u001b[0m\u001b[0;34m:\u001b[0m\u001b[0;34m\u001b[0m\u001b[0m\n\u001b[1;32m    701\u001b[0m                     \u001b[0mself\u001b[0m\u001b[0;34m.\u001b[0m\u001b[0m_output\u001b[0m\u001b[0;34m.\u001b[0m\u001b[0mextend\u001b[0m\u001b[0;34m(\u001b[0m\u001b[0mjob\u001b[0m\u001b[0;34m.\u001b[0m\u001b[0mget\u001b[0m\u001b[0;34m(\u001b[0m\u001b[0;34m)\u001b[0m\u001b[0;34m)\u001b[0m\u001b[0;34m\u001b[0m\u001b[0m\n",
      "\u001b[0;32m~/anaconda3/lib/python3.5/multiprocessing/pool.py\u001b[0m in \u001b[0;36mget\u001b[0;34m(self, timeout)\u001b[0m\n\u001b[1;32m    636\u001b[0m \u001b[0;34m\u001b[0m\u001b[0m\n\u001b[1;32m    637\u001b[0m     \u001b[0;32mdef\u001b[0m \u001b[0mget\u001b[0m\u001b[0;34m(\u001b[0m\u001b[0mself\u001b[0m\u001b[0;34m,\u001b[0m \u001b[0mtimeout\u001b[0m\u001b[0;34m=\u001b[0m\u001b[0;32mNone\u001b[0m\u001b[0;34m)\u001b[0m\u001b[0;34m:\u001b[0m\u001b[0;34m\u001b[0m\u001b[0m\n\u001b[0;32m--> 638\u001b[0;31m         \u001b[0mself\u001b[0m\u001b[0;34m.\u001b[0m\u001b[0mwait\u001b[0m\u001b[0;34m(\u001b[0m\u001b[0mtimeout\u001b[0m\u001b[0;34m)\u001b[0m\u001b[0;34m\u001b[0m\u001b[0m\n\u001b[0m\u001b[1;32m    639\u001b[0m         \u001b[0;32mif\u001b[0m \u001b[0;32mnot\u001b[0m \u001b[0mself\u001b[0m\u001b[0;34m.\u001b[0m\u001b[0mready\u001b[0m\u001b[0;34m(\u001b[0m\u001b[0;34m)\u001b[0m\u001b[0;34m:\u001b[0m\u001b[0;34m\u001b[0m\u001b[0m\n\u001b[1;32m    640\u001b[0m             \u001b[0;32mraise\u001b[0m \u001b[0mTimeoutError\u001b[0m\u001b[0;34m\u001b[0m\u001b[0m\n",
      "\u001b[0;32m~/anaconda3/lib/python3.5/multiprocessing/pool.py\u001b[0m in \u001b[0;36mwait\u001b[0;34m(self, timeout)\u001b[0m\n\u001b[1;32m    633\u001b[0m \u001b[0;34m\u001b[0m\u001b[0m\n\u001b[1;32m    634\u001b[0m     \u001b[0;32mdef\u001b[0m \u001b[0mwait\u001b[0m\u001b[0;34m(\u001b[0m\u001b[0mself\u001b[0m\u001b[0;34m,\u001b[0m \u001b[0mtimeout\u001b[0m\u001b[0;34m=\u001b[0m\u001b[0;32mNone\u001b[0m\u001b[0;34m)\u001b[0m\u001b[0;34m:\u001b[0m\u001b[0;34m\u001b[0m\u001b[0m\n\u001b[0;32m--> 635\u001b[0;31m         \u001b[0mself\u001b[0m\u001b[0;34m.\u001b[0m\u001b[0m_event\u001b[0m\u001b[0;34m.\u001b[0m\u001b[0mwait\u001b[0m\u001b[0;34m(\u001b[0m\u001b[0mtimeout\u001b[0m\u001b[0;34m)\u001b[0m\u001b[0;34m\u001b[0m\u001b[0m\n\u001b[0m\u001b[1;32m    636\u001b[0m \u001b[0;34m\u001b[0m\u001b[0m\n\u001b[1;32m    637\u001b[0m     \u001b[0;32mdef\u001b[0m \u001b[0mget\u001b[0m\u001b[0;34m(\u001b[0m\u001b[0mself\u001b[0m\u001b[0;34m,\u001b[0m \u001b[0mtimeout\u001b[0m\u001b[0;34m=\u001b[0m\u001b[0;32mNone\u001b[0m\u001b[0;34m)\u001b[0m\u001b[0;34m:\u001b[0m\u001b[0;34m\u001b[0m\u001b[0m\n",
      "\u001b[0;32m~/anaconda3/lib/python3.5/threading.py\u001b[0m in \u001b[0;36mwait\u001b[0;34m(self, timeout)\u001b[0m\n\u001b[1;32m    547\u001b[0m             \u001b[0msignaled\u001b[0m \u001b[0;34m=\u001b[0m \u001b[0mself\u001b[0m\u001b[0;34m.\u001b[0m\u001b[0m_flag\u001b[0m\u001b[0;34m\u001b[0m\u001b[0m\n\u001b[1;32m    548\u001b[0m             \u001b[0;32mif\u001b[0m \u001b[0;32mnot\u001b[0m \u001b[0msignaled\u001b[0m\u001b[0;34m:\u001b[0m\u001b[0;34m\u001b[0m\u001b[0m\n\u001b[0;32m--> 549\u001b[0;31m                 \u001b[0msignaled\u001b[0m \u001b[0;34m=\u001b[0m \u001b[0mself\u001b[0m\u001b[0;34m.\u001b[0m\u001b[0m_cond\u001b[0m\u001b[0;34m.\u001b[0m\u001b[0mwait\u001b[0m\u001b[0;34m(\u001b[0m\u001b[0mtimeout\u001b[0m\u001b[0;34m)\u001b[0m\u001b[0;34m\u001b[0m\u001b[0m\n\u001b[0m\u001b[1;32m    550\u001b[0m             \u001b[0;32mreturn\u001b[0m \u001b[0msignaled\u001b[0m\u001b[0;34m\u001b[0m\u001b[0m\n\u001b[1;32m    551\u001b[0m \u001b[0;34m\u001b[0m\u001b[0m\n",
      "\u001b[0;32m~/anaconda3/lib/python3.5/threading.py\u001b[0m in \u001b[0;36mwait\u001b[0;34m(self, timeout)\u001b[0m\n\u001b[1;32m    291\u001b[0m         \u001b[0;32mtry\u001b[0m\u001b[0;34m:\u001b[0m    \u001b[0;31m# restore state no matter what (e.g., KeyboardInterrupt)\u001b[0m\u001b[0;34m\u001b[0m\u001b[0m\n\u001b[1;32m    292\u001b[0m             \u001b[0;32mif\u001b[0m \u001b[0mtimeout\u001b[0m \u001b[0;32mis\u001b[0m \u001b[0;32mNone\u001b[0m\u001b[0;34m:\u001b[0m\u001b[0;34m\u001b[0m\u001b[0m\n\u001b[0;32m--> 293\u001b[0;31m                 \u001b[0mwaiter\u001b[0m\u001b[0;34m.\u001b[0m\u001b[0macquire\u001b[0m\u001b[0;34m(\u001b[0m\u001b[0;34m)\u001b[0m\u001b[0;34m\u001b[0m\u001b[0m\n\u001b[0m\u001b[1;32m    294\u001b[0m                 \u001b[0mgotit\u001b[0m \u001b[0;34m=\u001b[0m \u001b[0;32mTrue\u001b[0m\u001b[0;34m\u001b[0m\u001b[0m\n\u001b[1;32m    295\u001b[0m             \u001b[0;32melse\u001b[0m\u001b[0;34m:\u001b[0m\u001b[0;34m\u001b[0m\u001b[0m\n",
      "\u001b[0;31mKeyboardInterrupt\u001b[0m: "
     ]
    }
   ],
   "source": [
    "# GridSearchCV\n",
    "from sklearn.model_selection import GridSearchCV\n",
    "vtcls_gs = GridSearchCV(vtcls, param_grid=param_grids, cv = 3, n_jobs=-1, verbose=3)\n",
    "vtcls_gs.fit(X_train, y_train)"
   ]
  },
  {
   "cell_type": "code",
   "execution_count": 82,
   "metadata": {},
   "outputs": [
    {
     "name": "stdout",
     "output_type": "stream",
     "text": [
      "dict_keys(['memory', 'steps', 'scaler', 'voting_cls', 'scaler__copy', 'scaler__feature_range', 'voting_cls__estimators', 'voting_cls__flatten_transform', 'voting_cls__n_jobs', 'voting_cls__voting', 'voting_cls__weights', 'voting_cls__nb', 'voting_cls__svm', 'voting_cls__rfc', 'voting_cls__nb__priors', 'voting_cls__svm__C', 'voting_cls__svm__cache_size', 'voting_cls__svm__class_weight', 'voting_cls__svm__coef0', 'voting_cls__svm__decision_function_shape', 'voting_cls__svm__degree', 'voting_cls__svm__gamma', 'voting_cls__svm__kernel', 'voting_cls__svm__max_iter', 'voting_cls__svm__probability', 'voting_cls__svm__random_state', 'voting_cls__svm__shrinking', 'voting_cls__svm__tol', 'voting_cls__svm__verbose', 'voting_cls__rfc__bootstrap', 'voting_cls__rfc__class_weight', 'voting_cls__rfc__criterion', 'voting_cls__rfc__max_depth', 'voting_cls__rfc__max_features', 'voting_cls__rfc__max_leaf_nodes', 'voting_cls__rfc__min_impurity_decrease', 'voting_cls__rfc__min_impurity_split', 'voting_cls__rfc__min_samples_leaf', 'voting_cls__rfc__min_samples_split', 'voting_cls__rfc__min_weight_fraction_leaf', 'voting_cls__rfc__n_estimators', 'voting_cls__rfc__n_jobs', 'voting_cls__rfc__oob_score', 'voting_cls__rfc__random_state', 'voting_cls__rfc__verbose', 'voting_cls__rfc__warm_start'])\n"
     ]
    }
   ],
   "source": [
    "print(vtcls.get_params().keys())"
   ]
  },
  {
   "cell_type": "code",
   "execution_count": 61,
   "metadata": {},
   "outputs": [
    {
     "data": {
      "text/plain": [
       "Pipeline(memory=None,\n",
       "     steps=[('scaler', MinMaxScaler(copy=True, feature_range=(0, 1))), ('voting_cls', VotingClassifier(estimators=[('knn', KNeighborsClassifier(algorithm='auto', leaf_size=30, metric='minkowski',\n",
       "           metric_params=None, n_jobs=1, n_neighbors=5, p=2,\n",
       "           weights='uniform')), ('lg', LogisticR...se=0, warm_start=False))],\n",
       "         flatten_transform=None, n_jobs=4, voting='soft', weights=None))])"
      ]
     },
     "execution_count": 61,
     "metadata": {},
     "output_type": "execute_result"
    }
   ],
   "source": [
    "vtcls = build_genres_model(n_df_audio_features_genres, 'genres')\n",
    "vtcls.fit(X_train, y_train)"
   ]
  },
  {
   "cell_type": "code",
   "execution_count": 44,
   "metadata": {},
   "outputs": [
    {
     "name": "stdout",
     "output_type": "stream",
     "text": [
      "rock           6435\n",
      "rap            2452\n",
      "r&b            2344\n",
      "dance          2000\n",
      "jazz           1889\n",
      "indie          1834\n",
      "electronica    1249\n",
      "country        1075\n",
      "latin          1032\n",
      "pop             689\n",
      "classical       455\n",
      "Name: genres, dtype: int64\n",
      "(21454, 18)\n",
      "(25977, 6)\n"
     ]
    }
   ],
   "source": [
    "print(n_df_audio_features_genres['genres'].value_counts())\n",
    "print(n_df_audio_features_genres.shape)\n",
    "print(my_database.shape)"
   ]
  },
  {
   "cell_type": "code",
   "execution_count": 62,
   "metadata": {},
   "outputs": [
    {
     "name": "stdout",
     "output_type": "stream",
     "text": [
      "             precision    recall  f1-score   support\n",
      "\n",
      "  classical       0.59      0.46      0.52       137\n",
      "    country       0.25      0.17      0.20       303\n",
      "      dance       0.49      0.52      0.50       575\n",
      "electronica       0.44      0.21      0.29       403\n",
      "      indie       0.27      0.04      0.07       536\n",
      "       jazz       0.49      0.60      0.54       605\n",
      "      latin       0.39      0.21      0.27       287\n",
      "        pop       0.36      0.02      0.04       204\n",
      "        r&b       0.34      0.32      0.33       704\n",
      "        rap       0.64      0.70      0.67       729\n",
      "       rock       0.54      0.80      0.64      1954\n",
      "\n",
      "avg / total       0.47      0.50      0.46      6437\n",
      "\n"
     ]
    },
    {
     "name": "stderr",
     "output_type": "stream",
     "text": [
      "/home/dks/anaconda3/envs/py3/lib/python3.6/site-packages/sklearn/preprocessing/label.py:151: DeprecationWarning: The truth value of an empty array is ambiguous. Returning False, but in future this will result in an error. Use `array.size > 0` to check that an array is not empty.\n",
      "  if diff:\n"
     ]
    }
   ],
   "source": [
    "from sklearn.metrics import classification_report\n",
    "print(classification_report(y_test, vtcls.predict(X_test)))"
   ]
  },
  {
   "cell_type": "markdown",
   "metadata": {},
   "source": [
    "## Use moods label to predict genres"
   ]
  },
  {
   "cell_type": "markdown",
   "metadata": {},
   "source": [
    "## Use predicted moods to predict genres"
   ]
  },
  {
   "cell_type": "code",
   "execution_count": null,
   "metadata": {},
   "outputs": [],
   "source": []
  },
  {
   "cell_type": "code",
   "execution_count": 12,
   "metadata": {},
   "outputs": [],
   "source": [
    "import pickle\n",
    "predict_genres = pickle.load(open('predict_genres.pickle', 'rb'))"
   ]
  },
  {
   "cell_type": "code",
   "execution_count": null,
   "metadata": {},
   "outputs": [],
   "source": []
  },
  {
   "cell_type": "code",
   "execution_count": null,
   "metadata": {},
   "outputs": [],
   "source": [
    "# predict_genres.predict()"
   ]
  }
 ],
 "metadata": {
  "kernelspec": {
   "display_name": "Python [default]",
   "language": "python",
   "name": "python3"
  },
  "language_info": {
   "codemirror_mode": {
    "name": "ipython",
    "version": 3
   },
   "file_extension": ".py",
   "mimetype": "text/x-python",
   "name": "python",
   "nbconvert_exporter": "python",
   "pygments_lexer": "ipython3",
   "version": "3.5.5"
  }
 },
 "nbformat": 4,
 "nbformat_minor": 2
}
