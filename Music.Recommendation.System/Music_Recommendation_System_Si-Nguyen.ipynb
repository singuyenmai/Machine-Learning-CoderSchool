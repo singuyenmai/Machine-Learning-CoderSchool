{
 "cells": [
  {
   "cell_type": "markdown",
   "metadata": {},
   "source": [
    "MUSIC RECOMMENDATION SYSTEM\n",
    "===========================\n",
    "- ** Predict genres **\n",
    "- ** Predict moods **\n",
    "- ** Recommend base on cosin similarity and jaccard similarity **"
   ]
  },
  {
   "cell_type": "code",
   "execution_count": 1,
   "metadata": {
    "collapsed": true
   },
   "outputs": [],
   "source": [
    "import pickle\n",
    "import pandas as pd\n",
    "import numpy as np"
   ]
  },
  {
   "cell_type": "code",
   "execution_count": 2,
   "metadata": {
    "collapsed": true
   },
   "outputs": [],
   "source": [
    "# makes printing a dict look nice\n",
    "import pprint\n",
    "pp = pprint.PrettyPrinter(indent=4)"
   ]
  },
  {
   "cell_type": "code",
   "execution_count": 3,
   "metadata": {
    "collapsed": true
   },
   "outputs": [],
   "source": [
    "from collections import namedtuple\n",
    "# Create a namedtuple called 'Song'\n",
    "Song = namedtuple(\"Song\", [\"artist\", \"title\"])\n",
    "# I'm choosing to also include probability, so I'm making Mood a namedtuple as well\n",
    "Mood = namedtuple(\"Mood\", [\"description\", \"probability\"])"
   ]
  },
  {
   "cell_type": "markdown",
   "metadata": {},
   "source": [
    "## Load model"
   ]
  },
  {
   "cell_type": "code",
   "execution_count": 57,
   "metadata": {
    "collapsed": true
   },
   "outputs": [],
   "source": [
    "# Load my resources\n",
    "predict_genres = pickle.load(open('predict_genres.pickle', 'rb'))\n",
    "predict_moods_lyrics  = pickle.load(open('lyrics_predict_moods.chain.pickle', 'rb'))\n",
    "predict_moods_audio = pickle.load(open('audio_predict_moods.chain.pickle', 'rb'))\n",
    "my_database = pickle.load(open('my_database_new.pickle', 'rb'))"
   ]
  },
  {
   "cell_type": "code",
   "execution_count": 58,
   "metadata": {
    "collapsed": true
   },
   "outputs": [],
   "source": [
    "# Tools for cleaning lyrics\n",
    "from string import punctuation\n",
    "from sklearn.feature_extraction.stop_words import ENGLISH_STOP_WORDS\n",
    "from nltk.stem.snowball import SnowballStemmer\n",
    "\n",
    "translator = str.maketrans('','', punctuation)\n",
    "stemmer = SnowballStemmer('english')\n",
    "\n",
    "def clean_text(raw_text):\n",
    "    \n",
    "    clean_words = []\n",
    "    \n",
    "    raw_text = \" \".join(raw_text).lower()\n",
    "    raw_text = raw_text.translate(translator)\n",
    "    \n",
    "    for word in raw_text.split():\n",
    "        \n",
    "        if word not in ENGLISH_STOP_WORDS:\n",
    "            \n",
    "            clean_words.append(stemmer.stem(word))\n",
    "    \n",
    "    return \" \".join(clean_words)"
   ]
  },
  {
   "cell_type": "code",
   "execution_count": 59,
   "metadata": {
    "collapsed": true
   },
   "outputs": [],
   "source": [
    "from sklearn.metrics import jaccard_similarity_score\n",
    "\n",
    "df_moods = my_database.moods.str.join(',').str.get_dummies(sep=',')\n",
    "df_genres_moods = pd.concat((my_database.genres, df_moods), axis=1)"
   ]
  },
  {
   "cell_type": "code",
   "execution_count": 103,
   "metadata": {},
   "outputs": [],
   "source": [
    "from sklearn.metrics.pairwise import cosine_similarity"
   ]
  },
  {
   "cell_type": "code",
   "execution_count": 81,
   "metadata": {
    "collapsed": true
   },
   "outputs": [],
   "source": [
    "def recommend_similar_songs(audio_features, lyrics_features):\n",
    "    \n",
    "    genre = predict_genres.predict(audio_features.reshape((1, -1)))\n",
    "    \n",
    "    if lyrics_features is not None:\n",
    "        \n",
    "        lyrics_features_clean = clean_text(lyrics_features)\n",
    "        \n",
    "        moods_1 = predict_moods_audio.predict_proba(audio_features.reshape(1, -1))\n",
    "        moods_2 = predict_moods_lyrics.predict_proba([lyrics_features_clean])\n",
    "        moods = (moods_1*2 + moods_2*1)*1/3\n",
    "    \n",
    "    else:\n",
    "        moods = predict_moods_audio.predict_proba(audio_features.reshape((1, -1)))\n",
    "    \n",
    "    predict_result = np.concatenate((genre.reshape(1,1), moods), axis = 1)\n",
    "    \n",
    "    similarity = df_genres_moods.apply(lambda x: jaccard_similarity_score(predict_result, np.array(x).reshape(1, -1)), \n",
    "                                       axis=1)\n",
    "    similarity = similarity.sort_values(ascending=False)[0:50]\n",
    "    \n",
    "    top_10 = my_database.iloc[similarity.sample(10).index]\n",
    "    \n",
    "    result = [ Song(artist=row[\"artist\"], title=row['name']) for idx, row in top_10.iterrows()]\n",
    "    final_result_dictionary = dict(playlist=result)\n",
    "    \n",
    "    return final_result_dictionary"
   ]
  },
  {
   "cell_type": "code",
   "execution_count": 108,
   "metadata": {
    "collapsed": true
   },
   "outputs": [],
   "source": [
    "def recommend_similar_songs(audio_features, lyrics_features):\n",
    "    \n",
    "    genre = predict_genres.predict(audio_features.reshape((1, -1)))\n",
    "    \n",
    "    if lyrics_features is not None:\n",
    "        \n",
    "        lyrics_features_clean = clean_text(lyrics_features)\n",
    "        \n",
    "        moods_1 = predict_moods_audio.predict_proba(audio_features.reshape(1, -1))\n",
    "        moods_2 = predict_moods_lyrics.predict_proba([lyrics_features_clean])\n",
    "        moods = (moods_1*2 + moods_2*1)*1/3\n",
    "    \n",
    "    else:\n",
    "        moods = predict_moods_audio.predict_proba(audio_features.reshape((1, -1)))\n",
    "    \n",
    "    predict_result = np.concatenate((genre.reshape(1,1), moods), axis = 1)\n",
    "    \n",
    "    similarity = df_moods.apply(lambda x: cosine_similarity(moods, np.array(x).reshape(1, -1))[0, 0], \n",
    "                                       axis=1)\n",
    "    similarity = similarity.sort_values(ascending=False)[0:50]\n",
    "    \n",
    "    top_10 = my_database.iloc[similarity.sample(10).index]\n",
    "    \n",
    "    result = [ Song(artist=row[\"artist\"], title=row['name']) for idx, row in top_10.iterrows()]\n",
    "    final_result_dictionary = dict(playlist=result)\n",
    "    \n",
    "    return final_result_dictionary"
   ]
  },
  {
   "cell_type": "code",
   "execution_count": 42,
   "metadata": {},
   "outputs": [],
   "source": [
    "audio = np.array(my_database.iloc[0, 2])\n",
    "lyrics = my_database.iloc[0, 3]"
   ]
  },
  {
   "cell_type": "code",
   "execution_count": 43,
   "metadata": {},
   "outputs": [
    {
     "data": {
      "text/plain": [
       "array(['country'], dtype=object)"
      ]
     },
     "execution_count": 43,
     "metadata": {},
     "output_type": "execute_result"
    }
   ],
   "source": [
    "genre = predict_genres.predict(audio.reshape((1, -1)))\n",
    "genre"
   ]
  },
  {
   "cell_type": "code",
   "execution_count": 98,
   "metadata": {},
   "outputs": [
    {
     "data": {
      "text/plain": [
       "(1, 7)"
      ]
     },
     "execution_count": 98,
     "metadata": {},
     "output_type": "execute_result"
    }
   ],
   "source": [
    "moods_1 = predict_moods_audio.predict_proba(audio.reshape(1, -1))\n",
    "moods_2 = predict_moods_lyrics.predict_proba([clean_text(lyrics)])\n",
    "moods = (moods_1*2 + moods_2*1)*1/3\n",
    "\n",
    "moods.shape"
   ]
  },
  {
   "cell_type": "code",
   "execution_count": 77,
   "metadata": {},
   "outputs": [
    {
     "name": "stdout",
     "output_type": "stream",
     "text": [
      "(1, 8)\n"
     ]
    }
   ],
   "source": [
    "print(np.concatenate((genre.reshape(1,1), moods), axis = 1).shape)"
   ]
  },
  {
   "cell_type": "code",
   "execution_count": 107,
   "metadata": {
    "scrolled": true
   },
   "outputs": [
    {
     "data": {
      "text/plain": [
       "0        0.968712\n",
       "1        0.188961\n",
       "2        0.062632\n",
       "3        0.968712\n",
       "4        0.188961\n",
       "5        0.188961\n",
       "6        0.204599\n",
       "7        0.062632\n",
       "8        0.204599\n",
       "9        0.204599\n",
       "10       0.200771\n",
       "11       0.741081\n",
       "12       0.200771\n",
       "13       0.020877\n",
       "14       0.204599\n",
       "15       0.968712\n",
       "16       0.000000\n",
       "17       0.062632\n",
       "18       0.829656\n",
       "19       0.083510\n",
       "20       0.204599\n",
       "21       0.968712\n",
       "22       0.968712\n",
       "23       0.079334\n",
       "24       0.188961\n",
       "25       0.968712\n",
       "26       0.703929\n",
       "27       0.045930\n",
       "28       0.968712\n",
       "29       0.968712\n",
       "           ...   \n",
       "25947    0.204599\n",
       "25948    0.829656\n",
       "25949    0.741081\n",
       "25950    0.968712\n",
       "25951    0.079334\n",
       "25952    0.204599\n",
       "25953    0.968712\n",
       "25954    0.200771\n",
       "25955    0.020877\n",
       "25956    0.079334\n",
       "25957    0.204599\n",
       "25958    0.047240\n",
       "25959    0.717461\n",
       "25960    0.045930\n",
       "25961    0.829656\n",
       "25962    0.204599\n",
       "25963    0.079334\n",
       "25964    0.062632\n",
       "25965    0.091528\n",
       "25966    0.204599\n",
       "25967    0.083510\n",
       "25968    0.829656\n",
       "25969    0.204599\n",
       "25970    0.020877\n",
       "25971    0.188961\n",
       "25972    0.968712\n",
       "25973    0.115148\n",
       "25974    0.204599\n",
       "25975    0.177151\n",
       "25976    0.091528\n",
       "Length: 25977, dtype: float64"
      ]
     },
     "execution_count": 107,
     "metadata": {},
     "output_type": "execute_result"
    }
   ],
   "source": [
    "simi = df_moods.apply(lambda x: cosine_similarity(moods, np.array(x).reshape(1, -1))[0, 0], axis=1)\n",
    "simi"
   ]
  },
  {
   "cell_type": "code",
   "execution_count": null,
   "metadata": {
    "collapsed": true
   },
   "outputs": [],
   "source": []
  },
  {
   "cell_type": "code",
   "execution_count": 109,
   "metadata": {
    "scrolled": true
   },
   "outputs": [
    {
     "name": "stdout",
     "output_type": "stream",
     "text": [
      "{   'playlist': [   Song(artist='Steve Earle', title='Christmas In Washington'),\n",
      "                    Song(artist='The Pains Of Being Pure At Heart', title='Come Saturday'),\n",
      "                    Song(artist='Pavement', title='Summer Babe (Winter Version)'),\n",
      "                    Song(artist='Chuck Berry', title='Memphis Tennessee'),\n",
      "                    Song(artist='Ibrahim Ferrer', title='Ay, Candela'),\n",
      "                    Song(artist='Rocola Bacalao', title='Mis Amigas Las Plantas'),\n",
      "                    Song(artist='Ray Price', title='Crazy Arms'),\n",
      "                    Song(artist='Peppermint Harris', title='Raining In My Heart'),\n",
      "                    Song(artist='Merle Haggard', title=\"Workin' Man Blues\"),\n",
      "                    Song(artist='The Clash', title='Complete Control')]}\n"
     ]
    }
   ],
   "source": [
    "results = recommend_similar_songs(audio, lyrics)\n",
    "pp.pprint(results)"
   ]
  },
  {
   "cell_type": "code",
   "execution_count": null,
   "metadata": {
    "collapsed": true
   },
   "outputs": [],
   "source": []
  }
 ],
 "metadata": {
  "kernelspec": {
   "display_name": "Python 3",
   "language": "python",
   "name": "python3"
  },
  "language_info": {
   "codemirror_mode": {
    "name": "ipython",
    "version": 3
   },
   "file_extension": ".py",
   "mimetype": "text/x-python",
   "name": "python",
   "nbconvert_exporter": "python",
   "pygments_lexer": "ipython3",
   "version": "3.6.3"
  }
 },
 "nbformat": 4,
 "nbformat_minor": 2
}
