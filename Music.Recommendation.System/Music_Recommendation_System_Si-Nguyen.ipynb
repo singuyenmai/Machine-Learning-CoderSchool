{
 "cells": [
  {
   "cell_type": "markdown",
   "metadata": {},
   "source": [
    "MUSIC RECOMMENDATION SYSTEM\n",
    "===========================\n",
    "- ** Predict genres **\n",
    "- ** Predict moods **\n",
    "- ** Recommend base on cosin similarity and jaccard similarity **"
   ]
  },
  {
   "cell_type": "code",
   "execution_count": 1,
   "metadata": {
    "collapsed": true
   },
   "outputs": [],
   "source": [
    "import pickle\n",
    "import pandas as pd\n",
    "import numpy as np"
   ]
  },
  {
   "cell_type": "code",
   "execution_count": 2,
   "metadata": {
    "collapsed": true
   },
   "outputs": [],
   "source": [
    "# makes printing a dict look nice\n",
    "import pprint\n",
    "pp = pprint.PrettyPrinter(indent=4)"
   ]
  },
  {
   "cell_type": "code",
   "execution_count": 3,
   "metadata": {
    "collapsed": true
   },
   "outputs": [],
   "source": [
    "from collections import namedtuple\n",
    "# Create a namedtuple called 'Song'\n",
    "Song = namedtuple(\"Song\", [\"artist\", \"title\"])\n",
    "# I'm choosing to also include probability, so I'm making Mood a namedtuple as well\n",
    "Mood = namedtuple(\"Mood\", [\"description\", \"probability\"])"
   ]
  },
  {
   "cell_type": "markdown",
   "metadata": {},
   "source": [
    "## Load model"
   ]
  },
  {
   "cell_type": "code",
   "execution_count": 4,
   "metadata": {},
   "outputs": [],
   "source": [
    "# Load my resources\n",
    "#predict_genres = pickle.load(open('predict_genres.pickle', 'rb'))\n",
    "#predict_moods_lyrics  = pickle.load(open('lyrics_predict_moods.rfc.pickle', 'rb'))\n",
    "#predict_moods_audio = pickle.load(open('audio_predict_moods.rfc.pickle', 'rb'))\n",
    "my_database = pickle.load(open('my_database_new.pickle', 'rb'))"
   ]
  },
  {
   "cell_type": "code",
   "execution_count": 5,
   "metadata": {
    "collapsed": true
   },
   "outputs": [],
   "source": [
    "# Tools for cleaning lyrics\n",
    "from string import punctuation\n",
    "from sklearn.feature_extraction.stop_words import ENGLISH_STOP_WORDS\n",
    "from nltk.stem.snowball import SnowballStemmer\n",
    "\n",
    "translator = str.maketrans('','', punctuation)\n",
    "stemmer = SnowballStemmer('english')\n",
    "\n",
    "def clean_text(raw_text):\n",
    "    \n",
    "    clean_words = []\n",
    "    \n",
    "    raw_text = raw_text.lower()\n",
    "    raw_text = raw_text.translate(translator)\n",
    "    \n",
    "    for word in raw_text.split():\n",
    "        \n",
    "        if word not in ENGLISH_STOP_WORDS:\n",
    "            \n",
    "            clean_words.append(stemmer.stem(word))\n",
    "    \n",
    "    return \" \".join(clean_words)"
   ]
  },
  {
   "cell_type": "code",
   "execution_count": 18,
   "metadata": {
    "collapsed": true
   },
   "outputs": [],
   "source": [
    "from sklearn.metrics import jaccard_similarity_score\n",
    "\n",
    "df_moods = my_database.moods.str.join(',').str.get_dummies(sep=',')\n",
    "df_genres_moods = pd.concat((my_database.genres, df_moods), axis=1)"
   ]
  },
  {
   "cell_type": "code",
   "execution_count": null,
   "metadata": {
    "collapsed": true
   },
   "outputs": [],
   "source": [
    "def recommend_similar_songs(audio_features, lyrics_features):\n",
    "    \n",
    "    genre = predict_genres.predict(audio_features.reshape((1, -1)))\n",
    "    \n",
    "    if lyrics_features is not None:\n",
    "        \n",
    "        lyrics_features_clean = clean_text(lyrics_features)\n",
    "    \n",
    "        moods_1 = predict_moods_audio.predict_proba(audio_features.reshape((1, -1)))\n",
    "        moods_2 = predict_moods_lyrics.predict_proba([lyrics_features_clean])\n",
    "        moods = (moods_1*2 + moods_2*1)*1/3\n",
    "    \n",
    "    else:\n",
    "        moods = predict_moods_audio.predict_proba(audio_features.reshape((1, -1)))\n",
    "    \n",
    "    predict_result = np.concatenate((genre, moods))\n",
    "    \n",
    "    similarity = df_genres_moods.apply(lambda x: jaccard_similarity_score(predict_result, x.tolist()), axis=1)\n",
    "    similarity = similarity.sort_values(ascending=False)[0:50]\n",
    "    \n",
    "    top_10 = my_database.iloc[similarity.sample(10).index]\n",
    "    \n",
    "    result = [ Song(artist=row[\"artist\"], title=row['name']) for idx, row in top_10.iterrows()]\n",
    "    final_result_dictionary = dict(playlist=result)\n",
    "    \n",
    "    return final_result_dictionary"
   ]
  },
  {
   "cell_type": "code",
   "execution_count": 63,
   "metadata": {},
   "outputs": [
    {
     "name": "stderr",
     "output_type": "stream",
     "text": [
      "/home/dks/anaconda3/lib/python3.6/site-packages/sklearn/preprocessing/label.py:151: DeprecationWarning: The truth value of an empty array is ambiguous. Returning False, but in future this will result in an error. Use `array.size > 0` to check that an array is not empty.\n",
      "  if diff:\n"
     ]
    },
    {
     "name": "stdout",
     "output_type": "stream",
     "text": [
      "{'playlist': [Song(artist='Madeon', title='The City'), Song(artist='Zac Brown Band', title=\"Whiskey's Gone\"), Song(artist='Tiësto', title='United (Ultra Music Festival Anthem)')]}\n"
     ]
    }
   ],
   "source": [
    "predict_genres_moods = recommend_similar_songs(audio_features, lyrics_features)\n",
    "print(predict_genres_moods)"
   ]
  }
 ],
 "metadata": {
  "kernelspec": {
   "display_name": "Python 3",
   "language": "python",
   "name": "python3"
  },
  "language_info": {
   "codemirror_mode": {
    "name": "ipython",
    "version": 3
   },
   "file_extension": ".py",
   "mimetype": "text/x-python",
   "name": "python",
   "nbconvert_exporter": "python",
   "pygments_lexer": "ipython3",
   "version": "3.6.3"
  }
 },
 "nbformat": 4,
 "nbformat_minor": 2
}
