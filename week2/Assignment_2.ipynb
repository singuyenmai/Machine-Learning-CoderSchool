{
 "cells": [
  {
   "cell_type": "markdown",
   "metadata": {},
   "source": [
    "# Assignment 2\n",
    "\n",
    "\\- Si Nguyen Mai, May 19, 2018 -"
   ]
  },
  {
   "cell_type": "code",
   "execution_count": 1,
   "metadata": {
    "collapsed": true
   },
   "outputs": [],
   "source": [
    "import pandas as pd\n",
    "import numpy as np\n",
    "\n",
    "from sklearn.preprocessing import StandardScaler\n",
    "\n",
    "from sklearn.linear_model import LogisticRegression\n",
    "from sklearn.svm import SVC\n",
    "from sklearn.ensemble import RandomForestClassifier\n",
    "\n",
    "from sklearn.model_selection import train_test_split, GridSearchCV\n",
    "\n",
    "from sklearn.feature_selection import SelectFromModel, SelectKBest, RFE\n",
    "\n",
    "from nltk import ConfusionMatrix\n",
    "from sklearn.metrics import classification_report\n",
    "\n",
    "import matplotlib.pyplot as plt\n",
    "\n",
    "% matplotlib inline"
   ]
  },
  {
   "cell_type": "code",
   "execution_count": 2,
   "metadata": {},
   "outputs": [
    {
     "name": "stdout",
     "output_type": "stream",
     "text": [
      "(6000, 19)\n"
     ]
    },
    {
     "data": {
      "text/html": [
       "<div>\n",
       "<style>\n",
       "    .dataframe thead tr:only-child th {\n",
       "        text-align: right;\n",
       "    }\n",
       "\n",
       "    .dataframe thead th {\n",
       "        text-align: left;\n",
       "    }\n",
       "\n",
       "    .dataframe tbody tr th {\n",
       "        vertical-align: top;\n",
       "    }\n",
       "</style>\n",
       "<table border=\"1\" class=\"dataframe\">\n",
       "  <thead>\n",
       "    <tr style=\"text-align: right;\">\n",
       "      <th></th>\n",
       "      <th>key</th>\n",
       "      <th>energy</th>\n",
       "      <th>liveliness</th>\n",
       "      <th>tempo</th>\n",
       "      <th>speechiness</th>\n",
       "      <th>acousticness</th>\n",
       "      <th>instrumentalness</th>\n",
       "      <th>time_signature</th>\n",
       "      <th>duration</th>\n",
       "      <th>loudness</th>\n",
       "      <th>valence</th>\n",
       "      <th>danceability</th>\n",
       "      <th>mode</th>\n",
       "      <th>time_signature_confidence</th>\n",
       "      <th>tempo_confidence</th>\n",
       "      <th>key_confidence</th>\n",
       "      <th>mode_confidence</th>\n",
       "      <th>moods</th>\n",
       "      <th>genres</th>\n",
       "    </tr>\n",
       "  </thead>\n",
       "  <tbody>\n",
       "    <tr>\n",
       "      <th>0</th>\n",
       "      <td>8.0</td>\n",
       "      <td>0.831914</td>\n",
       "      <td>0.056928</td>\n",
       "      <td>106.245</td>\n",
       "      <td>0.232162</td>\n",
       "      <td>0.072076</td>\n",
       "      <td>0.000000</td>\n",
       "      <td>1.0</td>\n",
       "      <td>4.0</td>\n",
       "      <td>254.60000</td>\n",
       "      <td>-5.984</td>\n",
       "      <td>0.555338</td>\n",
       "      <td>0.837518</td>\n",
       "      <td>0.555</td>\n",
       "      <td>0.408</td>\n",
       "      <td>0.664</td>\n",
       "      <td>1.000</td>\n",
       "      <td>motivational</td>\n",
       "      <td>rap</td>\n",
       "    </tr>\n",
       "    <tr>\n",
       "      <th>1</th>\n",
       "      <td>1.0</td>\n",
       "      <td>0.434896</td>\n",
       "      <td>0.113409</td>\n",
       "      <td>105.276</td>\n",
       "      <td>0.071236</td>\n",
       "      <td>0.456392</td>\n",
       "      <td>0.322574</td>\n",
       "      <td>1.0</td>\n",
       "      <td>4.0</td>\n",
       "      <td>242.21333</td>\n",
       "      <td>-13.902</td>\n",
       "      <td>0.290687</td>\n",
       "      <td>0.459532</td>\n",
       "      <td>0.127</td>\n",
       "      <td>0.225</td>\n",
       "      <td>0.743</td>\n",
       "      <td>0.907</td>\n",
       "      <td>classy</td>\n",
       "      <td>jazz</td>\n",
       "    </tr>\n",
       "    <tr>\n",
       "      <th>2</th>\n",
       "      <td>8.0</td>\n",
       "      <td>0.326645</td>\n",
       "      <td>0.843938</td>\n",
       "      <td>123.949</td>\n",
       "      <td>0.492508</td>\n",
       "      <td>0.016599</td>\n",
       "      <td>0.000000</td>\n",
       "      <td>0.0</td>\n",
       "      <td>4.0</td>\n",
       "      <td>275.01714</td>\n",
       "      <td>-10.846</td>\n",
       "      <td>0.568852</td>\n",
       "      <td>0.934398</td>\n",
       "      <td>0.562</td>\n",
       "      <td>0.418</td>\n",
       "      <td>0.704</td>\n",
       "      <td>0.813</td>\n",
       "      <td>sexual</td>\n",
       "      <td>rap</td>\n",
       "    </tr>\n",
       "    <tr>\n",
       "      <th>3</th>\n",
       "      <td>7.0</td>\n",
       "      <td>0.873642</td>\n",
       "      <td>0.281888</td>\n",
       "      <td>97.940</td>\n",
       "      <td>0.041479</td>\n",
       "      <td>0.327251</td>\n",
       "      <td>0.264088</td>\n",
       "      <td>0.0</td>\n",
       "      <td>4.0</td>\n",
       "      <td>234.78857</td>\n",
       "      <td>-10.682</td>\n",
       "      <td>0.224093</td>\n",
       "      <td>0.600045</td>\n",
       "      <td>0.000</td>\n",
       "      <td>0.064</td>\n",
       "      <td>0.167</td>\n",
       "      <td>0.983</td>\n",
       "      <td>funky,mellow</td>\n",
       "      <td>rap</td>\n",
       "    </tr>\n",
       "    <tr>\n",
       "      <th>4</th>\n",
       "      <td>5.0</td>\n",
       "      <td>0.117357</td>\n",
       "      <td>0.101048</td>\n",
       "      <td>129.386</td>\n",
       "      <td>0.062007</td>\n",
       "      <td>0.847661</td>\n",
       "      <td>0.010635</td>\n",
       "      <td>0.0</td>\n",
       "      <td>4.0</td>\n",
       "      <td>128.88045</td>\n",
       "      <td>-15.296</td>\n",
       "      <td>0.488700</td>\n",
       "      <td>0.778220</td>\n",
       "      <td>0.369</td>\n",
       "      <td>0.529</td>\n",
       "      <td>0.248</td>\n",
       "      <td>1.000</td>\n",
       "      <td>sprightly</td>\n",
       "      <td>jazz</td>\n",
       "    </tr>\n",
       "  </tbody>\n",
       "</table>\n",
       "</div>"
      ],
      "text/plain": [
       "   key    energy  liveliness    tempo  speechiness  acousticness  \\\n",
       "0  8.0  0.831914    0.056928  106.245     0.232162      0.072076   \n",
       "1  1.0  0.434896    0.113409  105.276     0.071236      0.456392   \n",
       "2  8.0  0.326645    0.843938  123.949     0.492508      0.016599   \n",
       "3  7.0  0.873642    0.281888   97.940     0.041479      0.327251   \n",
       "4  5.0  0.117357    0.101048  129.386     0.062007      0.847661   \n",
       "\n",
       "   instrumentalness  time_signature  duration   loudness  valence  \\\n",
       "0          0.000000             1.0       4.0  254.60000   -5.984   \n",
       "1          0.322574             1.0       4.0  242.21333  -13.902   \n",
       "2          0.000000             0.0       4.0  275.01714  -10.846   \n",
       "3          0.264088             0.0       4.0  234.78857  -10.682   \n",
       "4          0.010635             0.0       4.0  128.88045  -15.296   \n",
       "\n",
       "   danceability      mode  time_signature_confidence  tempo_confidence  \\\n",
       "0      0.555338  0.837518                      0.555             0.408   \n",
       "1      0.290687  0.459532                      0.127             0.225   \n",
       "2      0.568852  0.934398                      0.562             0.418   \n",
       "3      0.224093  0.600045                      0.000             0.064   \n",
       "4      0.488700  0.778220                      0.369             0.529   \n",
       "\n",
       "   key_confidence  mode_confidence         moods genres  \n",
       "0           0.664            1.000  motivational    rap  \n",
       "1           0.743            0.907        classy   jazz  \n",
       "2           0.704            0.813        sexual    rap  \n",
       "3           0.167            0.983  funky,mellow    rap  \n",
       "4           0.248            1.000     sprightly   jazz  "
      ]
     },
     "execution_count": 2,
     "metadata": {},
     "output_type": "execute_result"
    }
   ],
   "source": [
    "dataset = pd.read_csv('assignment-2_dataset.csv') # Code for generating this clean dataset is in \n",
    "                                                # `Cleaning_Song-dataset.ipynb` notebook in the \"root\" directory\n",
    "print(dataset.shape)\n",
    "dataset.head()"
   ]
  },
  {
   "cell_type": "code",
   "execution_count": 3,
   "metadata": {},
   "outputs": [
    {
     "data": {
      "text/html": [
       "<div>\n",
       "<style>\n",
       "    .dataframe thead tr:only-child th {\n",
       "        text-align: right;\n",
       "    }\n",
       "\n",
       "    .dataframe thead th {\n",
       "        text-align: left;\n",
       "    }\n",
       "\n",
       "    .dataframe tbody tr th {\n",
       "        vertical-align: top;\n",
       "    }\n",
       "</style>\n",
       "<table border=\"1\" class=\"dataframe\">\n",
       "  <thead>\n",
       "    <tr style=\"text-align: right;\">\n",
       "      <th></th>\n",
       "      <th>key</th>\n",
       "      <th>energy</th>\n",
       "      <th>liveliness</th>\n",
       "      <th>tempo</th>\n",
       "      <th>speechiness</th>\n",
       "      <th>acousticness</th>\n",
       "      <th>instrumentalness</th>\n",
       "      <th>time_signature</th>\n",
       "      <th>duration</th>\n",
       "      <th>loudness</th>\n",
       "      <th>valence</th>\n",
       "      <th>danceability</th>\n",
       "      <th>mode</th>\n",
       "      <th>time_signature_confidence</th>\n",
       "      <th>tempo_confidence</th>\n",
       "      <th>key_confidence</th>\n",
       "      <th>mode_confidence</th>\n",
       "    </tr>\n",
       "  </thead>\n",
       "  <tbody>\n",
       "    <tr>\n",
       "      <th>0</th>\n",
       "      <td>8.0</td>\n",
       "      <td>0.831914</td>\n",
       "      <td>0.056928</td>\n",
       "      <td>106.245</td>\n",
       "      <td>0.232162</td>\n",
       "      <td>0.072076</td>\n",
       "      <td>0.000000</td>\n",
       "      <td>1.0</td>\n",
       "      <td>4.0</td>\n",
       "      <td>254.60000</td>\n",
       "      <td>-5.984</td>\n",
       "      <td>0.555338</td>\n",
       "      <td>0.837518</td>\n",
       "      <td>0.555</td>\n",
       "      <td>0.408</td>\n",
       "      <td>0.664</td>\n",
       "      <td>1.000</td>\n",
       "    </tr>\n",
       "    <tr>\n",
       "      <th>1</th>\n",
       "      <td>1.0</td>\n",
       "      <td>0.434896</td>\n",
       "      <td>0.113409</td>\n",
       "      <td>105.276</td>\n",
       "      <td>0.071236</td>\n",
       "      <td>0.456392</td>\n",
       "      <td>0.322574</td>\n",
       "      <td>1.0</td>\n",
       "      <td>4.0</td>\n",
       "      <td>242.21333</td>\n",
       "      <td>-13.902</td>\n",
       "      <td>0.290687</td>\n",
       "      <td>0.459532</td>\n",
       "      <td>0.127</td>\n",
       "      <td>0.225</td>\n",
       "      <td>0.743</td>\n",
       "      <td>0.907</td>\n",
       "    </tr>\n",
       "    <tr>\n",
       "      <th>2</th>\n",
       "      <td>8.0</td>\n",
       "      <td>0.326645</td>\n",
       "      <td>0.843938</td>\n",
       "      <td>123.949</td>\n",
       "      <td>0.492508</td>\n",
       "      <td>0.016599</td>\n",
       "      <td>0.000000</td>\n",
       "      <td>0.0</td>\n",
       "      <td>4.0</td>\n",
       "      <td>275.01714</td>\n",
       "      <td>-10.846</td>\n",
       "      <td>0.568852</td>\n",
       "      <td>0.934398</td>\n",
       "      <td>0.562</td>\n",
       "      <td>0.418</td>\n",
       "      <td>0.704</td>\n",
       "      <td>0.813</td>\n",
       "    </tr>\n",
       "    <tr>\n",
       "      <th>3</th>\n",
       "      <td>7.0</td>\n",
       "      <td>0.873642</td>\n",
       "      <td>0.281888</td>\n",
       "      <td>97.940</td>\n",
       "      <td>0.041479</td>\n",
       "      <td>0.327251</td>\n",
       "      <td>0.264088</td>\n",
       "      <td>0.0</td>\n",
       "      <td>4.0</td>\n",
       "      <td>234.78857</td>\n",
       "      <td>-10.682</td>\n",
       "      <td>0.224093</td>\n",
       "      <td>0.600045</td>\n",
       "      <td>0.000</td>\n",
       "      <td>0.064</td>\n",
       "      <td>0.167</td>\n",
       "      <td>0.983</td>\n",
       "    </tr>\n",
       "    <tr>\n",
       "      <th>4</th>\n",
       "      <td>5.0</td>\n",
       "      <td>0.117357</td>\n",
       "      <td>0.101048</td>\n",
       "      <td>129.386</td>\n",
       "      <td>0.062007</td>\n",
       "      <td>0.847661</td>\n",
       "      <td>0.010635</td>\n",
       "      <td>0.0</td>\n",
       "      <td>4.0</td>\n",
       "      <td>128.88045</td>\n",
       "      <td>-15.296</td>\n",
       "      <td>0.488700</td>\n",
       "      <td>0.778220</td>\n",
       "      <td>0.369</td>\n",
       "      <td>0.529</td>\n",
       "      <td>0.248</td>\n",
       "      <td>1.000</td>\n",
       "    </tr>\n",
       "  </tbody>\n",
       "</table>\n",
       "</div>"
      ],
      "text/plain": [
       "   key    energy  liveliness    tempo  speechiness  acousticness  \\\n",
       "0  8.0  0.831914    0.056928  106.245     0.232162      0.072076   \n",
       "1  1.0  0.434896    0.113409  105.276     0.071236      0.456392   \n",
       "2  8.0  0.326645    0.843938  123.949     0.492508      0.016599   \n",
       "3  7.0  0.873642    0.281888   97.940     0.041479      0.327251   \n",
       "4  5.0  0.117357    0.101048  129.386     0.062007      0.847661   \n",
       "\n",
       "   instrumentalness  time_signature  duration   loudness  valence  \\\n",
       "0          0.000000             1.0       4.0  254.60000   -5.984   \n",
       "1          0.322574             1.0       4.0  242.21333  -13.902   \n",
       "2          0.000000             0.0       4.0  275.01714  -10.846   \n",
       "3          0.264088             0.0       4.0  234.78857  -10.682   \n",
       "4          0.010635             0.0       4.0  128.88045  -15.296   \n",
       "\n",
       "   danceability      mode  time_signature_confidence  tempo_confidence  \\\n",
       "0      0.555338  0.837518                      0.555             0.408   \n",
       "1      0.290687  0.459532                      0.127             0.225   \n",
       "2      0.568852  0.934398                      0.562             0.418   \n",
       "3      0.224093  0.600045                      0.000             0.064   \n",
       "4      0.488700  0.778220                      0.369             0.529   \n",
       "\n",
       "   key_confidence  mode_confidence  \n",
       "0           0.664            1.000  \n",
       "1           0.743            0.907  \n",
       "2           0.704            0.813  \n",
       "3           0.167            0.983  \n",
       "4           0.248            1.000  "
      ]
     },
     "execution_count": 3,
     "metadata": {},
     "output_type": "execute_result"
    }
   ],
   "source": [
    "audio_df = dataset.drop(['moods', 'genres'], axis = 1)\n",
    "audio_df.head()"
   ]
  },
  {
   "cell_type": "code",
   "execution_count": 4,
   "metadata": {},
   "outputs": [
    {
     "data": {
      "text/plain": [
       "array(['rap', 'jazz', 'rap', ..., 'rock', 'jazz', 'rap'], dtype=object)"
      ]
     },
     "execution_count": 4,
     "metadata": {},
     "output_type": "execute_result"
    }
   ],
   "source": [
    "genres = np.ravel(dataset['genres'])\n",
    "genres"
   ]
  },
  {
   "cell_type": "code",
   "execution_count": 5,
   "metadata": {},
   "outputs": [
    {
     "data": {
      "text/plain": [
       "array([[ 0.74289754,  0.79038307, -0.82994424, ..., -0.22933918,\n",
       "         0.57256136,  0.54444631],\n",
       "       [-1.20928269, -0.79134335, -0.53280988, ..., -1.25128013,\n",
       "         0.83133061,  0.07421993],\n",
       "       [ 0.74289754, -1.22261716,  3.31034567, ..., -0.17349542,\n",
       "         0.70358377, -0.40106266],\n",
       "       ..., \n",
       "       [-1.48816558, -1.37798984, -0.56033956, ...,  0.98805495,\n",
       "        -0.66232481,  0.54444631],\n",
       "       [-0.37263402,  0.04421256, -0.65962109, ..., -1.30712389,\n",
       "         0.76254385,  0.54444631],\n",
       "       [ 0.74289754,  0.17007961,  1.7506704 , ..., -0.54764866,\n",
       "        -0.37079996, -0.2999387 ]])"
      ]
     },
     "execution_count": 5,
     "metadata": {},
     "output_type": "execute_result"
    }
   ],
   "source": [
    "scaler = StandardScaler()\n",
    "audio_scaled = scaler.fit_transform(audio_df)\n",
    "audio_scaled"
   ]
  },
  {
   "cell_type": "code",
   "execution_count": 6,
   "metadata": {
    "collapsed": true
   },
   "outputs": [],
   "source": [
    "np.random.seed(777)"
   ]
  },
  {
   "cell_type": "code",
   "execution_count": 109,
   "metadata": {
    "collapsed": true
   },
   "outputs": [],
   "source": [
    "X_train, X_test, y_train, y_test = train_test_split(audio_scaled, genres, test_size =  0.3) "
   ]
  },
  {
   "cell_type": "markdown",
   "metadata": {},
   "source": [
    "## Build original classifiers"
   ]
  },
  {
   "cell_type": "code",
   "execution_count": 28,
   "metadata": {
    "collapsed": true
   },
   "outputs": [],
   "source": [
    "original_classifiers = {'logistic regression': LogisticRegression(solver = 'saga', multi_class = 'multinomial'),\n",
    "                      'svm': SVC(C = 1, gamma = 1),\n",
    "                      'rfc': RandomForestClassifier(n_estimators = 5, min_samples_split = 2, max_features = 'log2')}"
   ]
  },
  {
   "cell_type": "code",
   "execution_count": 29,
   "metadata": {
    "scrolled": true
   },
   "outputs": [
    {
     "name": "stdout",
     "output_type": "stream",
     "text": [
      "Original logistic regression\n",
      "\n",
      "\n",
      "      |   d             |\n",
      "      |   a   j       r |\n",
      "      |   n   a   r   o |\n",
      "      |   c   z   a   c |\n",
      "      |   e   z   p   k |\n",
      "------+-----------------+\n",
      "dance |<349> 10  67  46 |\n",
      " jazz |  15<393> 14  34 |\n",
      "  rap |  65  19<328> 17 |\n",
      " rock |  38  56  23<326>|\n",
      "------+-----------------+\n",
      "(row = reference; col = test)\n",
      "\n",
      "             precision    recall  f1-score   support\n",
      "\n",
      "      dance       0.75      0.74      0.74       472\n",
      "       jazz       0.82      0.86      0.84       456\n",
      "        rap       0.76      0.76      0.76       429\n",
      "       rock       0.77      0.74      0.75       443\n",
      "\n",
      "avg / total       0.77      0.78      0.77      1800\n",
      "\n",
      "\n",
      "\n",
      "Original svm\n",
      "\n",
      "\n",
      "      |   d             |\n",
      "      |   a   j       r |\n",
      "      |   n   a   r   o |\n",
      "      |   c   z   a   c |\n",
      "      |   e   z   p   k |\n",
      "------+-----------------+\n",
      "dance |<200>167  41  64 |\n",
      " jazz |   6<431>  4  15 |\n",
      "  rap |  20 158<231> 20 |\n",
      " rock |  20 219  13<191>|\n",
      "------+-----------------+\n",
      "(row = reference; col = test)\n",
      "\n",
      "             precision    recall  f1-score   support\n",
      "\n",
      "      dance       0.81      0.42      0.56       472\n",
      "       jazz       0.44      0.95      0.60       456\n",
      "        rap       0.80      0.54      0.64       429\n",
      "       rock       0.66      0.43      0.52       443\n",
      "\n",
      "avg / total       0.68      0.58      0.58      1800\n",
      "\n",
      "\n",
      "\n",
      "Original rfc\n",
      "\n",
      "\n",
      "      |   d             |\n",
      "      |   a   j       r |\n",
      "      |   n   a   r   o |\n",
      "      |   c   z   a   c |\n",
      "      |   e   z   p   k |\n",
      "------+-----------------+\n",
      "dance |<344> 17  60  51 |\n",
      " jazz |  25<377>  8  46 |\n",
      "  rap |  60  20<332> 17 |\n",
      " rock |  74  70  27<272>|\n",
      "------+-----------------+\n",
      "(row = reference; col = test)\n",
      "\n",
      "             precision    recall  f1-score   support\n",
      "\n",
      "      dance       0.68      0.73      0.71       472\n",
      "       jazz       0.78      0.83      0.80       456\n",
      "        rap       0.78      0.77      0.78       429\n",
      "       rock       0.70      0.61      0.66       443\n",
      "\n",
      "avg / total       0.74      0.74      0.73      1800\n",
      "\n",
      "\n",
      "\n"
     ]
    }
   ],
   "source": [
    "for name, classifier in original_classifiers.items():\n",
    "    \n",
    "    classifier.fit(X_train, y_train)\n",
    "    prediction = classifier.predict(X_test)\n",
    "    \n",
    "    confus_mat = ConfusionMatrix(list(y_test), list(prediction))\n",
    "    class_report = classification_report(y_test, prediction)\n",
    "    \n",
    "    print('Original ' + name)\n",
    "    print('\\n')\n",
    "    print(confus_mat)\n",
    "    print(class_report)\n",
    "    print('\\n')"
   ]
  },
  {
   "cell_type": "markdown",
   "metadata": {},
   "source": [
    "As can be seen, all the original_classifiers have the scores below 80%, with the highest performance belongs to the Logistic Regression model (77% for precision and 78% for recall). The original SVM model has very low scores with 68% for precision and 58% for recall."
   ]
  },
  {
   "cell_type": "markdown",
   "metadata": {},
   "source": [
    "## Build best classifiers by finding the best (combination of) parameters"
   ]
  },
  {
   "cell_type": "code",
   "execution_count": 30,
   "metadata": {
    "collapsed": true
   },
   "outputs": [],
   "source": [
    "param_grids = {\n",
    "    'logistic regression': \n",
    "    {\n",
    "        'solver': ['newton-cg', 'sag', 'saga', 'lbfgs'], \n",
    "        'multi_class': ['ovr', 'multinomial']\n",
    "    }, \n",
    "    'svm': \n",
    "    {\n",
    "        'C': [0.1, 1, 10],\n",
    "        'gamma': [1, 0.1, 0.01, 0.001]\n",
    "    },\n",
    "    'rfc': \n",
    "    {\n",
    "        'n_estimators': [5, 10, 100],\n",
    "        'min_samples_split': [2, 3, 4, 5, 10],\n",
    "        'max_features': ['sqrt', 'log2', 'auto']\n",
    "    }\n",
    "}"
   ]
  },
  {
   "cell_type": "code",
   "execution_count": 31,
   "metadata": {
    "collapsed": true
   },
   "outputs": [],
   "source": [
    "best_classifiers = {'logistic regression': {'estimator': LogisticRegression()},\n",
    "                    'svm': {'estimator': SVC()},\n",
    "                    'rfc': {'estimator': RandomForestClassifier()}\n",
    "                   }"
   ]
  },
  {
   "cell_type": "code",
   "execution_count": 32,
   "metadata": {
    "collapsed": true
   },
   "outputs": [],
   "source": [
    "for name, param_grid in param_grids.items():\n",
    "    \n",
    "    estimator = best_classifiers[name]['estimator']\n",
    "    \n",
    "    grid = GridSearchCV(estimator, param_grid, refit = True, n_jobs = 2)\n",
    "    grid.fit(X_train, y_train)\n",
    "    \n",
    "    best_classifiers[name]['estimator'] = grid.best_estimator_\n",
    "    best_classifiers[name]['params'] = grid.best_params_\n",
    "    best_classifiers[name]['prediction'] = grid.best_estimator_.predict(X_test)"
   ]
  },
  {
   "cell_type": "markdown",
   "metadata": {},
   "source": [
    "My `best_classifiers` is a dict of dict storing set of data for every classifying method (logistic regression, SVM, & random forest). <br>\n",
    "Each data set then includes best estimator (with best found parameters from GridSearchCV) in `estimator`, best parameters in `params`, and prediction result from best estimator in `prediction`. "
   ]
  },
  {
   "cell_type": "code",
   "execution_count": 33,
   "metadata": {
    "scrolled": true
   },
   "outputs": [
    {
     "data": {
      "text/plain": [
       "{'logistic regression': {'estimator': LogisticRegression(C=1.0, class_weight=None, dual=False, fit_intercept=True,\n",
       "            intercept_scaling=1, max_iter=100, multi_class='ovr', n_jobs=1,\n",
       "            penalty='l2', random_state=None, solver='newton-cg', tol=0.0001,\n",
       "            verbose=0, warm_start=False),\n",
       "  'params': {'multi_class': 'ovr', 'solver': 'newton-cg'},\n",
       "  'prediction': array(['dance', 'rap', 'jazz', ..., 'jazz', 'jazz', 'rap'], dtype=object)},\n",
       " 'rfc': {'estimator': RandomForestClassifier(bootstrap=True, class_weight=None, criterion='gini',\n",
       "              max_depth=None, max_features='sqrt', max_leaf_nodes=None,\n",
       "              min_impurity_decrease=0.0, min_impurity_split=None,\n",
       "              min_samples_leaf=1, min_samples_split=10,\n",
       "              min_weight_fraction_leaf=0.0, n_estimators=100, n_jobs=1,\n",
       "              oob_score=False, random_state=None, verbose=0,\n",
       "              warm_start=False),\n",
       "  'params': {'max_features': 'sqrt',\n",
       "   'min_samples_split': 10,\n",
       "   'n_estimators': 100},\n",
       "  'prediction': array(['dance', 'rap', 'jazz', ..., 'jazz', 'jazz', 'rap'], dtype=object)},\n",
       " 'svm': {'estimator': SVC(C=1, cache_size=200, class_weight=None, coef0=0.0,\n",
       "    decision_function_shape='ovr', degree=3, gamma=0.1, kernel='rbf',\n",
       "    max_iter=-1, probability=False, random_state=None, shrinking=True,\n",
       "    tol=0.001, verbose=False),\n",
       "  'params': {'C': 1, 'gamma': 0.1},\n",
       "  'prediction': array(['dance', 'rap', 'jazz', ..., 'jazz', 'jazz', 'rap'], dtype=object)}}"
      ]
     },
     "execution_count": 33,
     "metadata": {},
     "output_type": "execute_result"
    }
   ],
   "source": [
    "best_classifiers"
   ]
  },
  {
   "cell_type": "code",
   "execution_count": 34,
   "metadata": {},
   "outputs": [
    {
     "name": "stdout",
     "output_type": "stream",
     "text": [
      "Best parameters found ...\n",
      "\n",
      "in logistic regression are: {'multi_class': 'ovr', 'solver': 'newton-cg'}\n",
      "in svm are: {'C': 1, 'gamma': 0.1}\n",
      "in rfc are: {'max_features': 'sqrt', 'min_samples_split': 10, 'n_estimators': 100}\n"
     ]
    }
   ],
   "source": [
    "print('Best parameters found ...\\n')\n",
    "\n",
    "for method, attribute in best_classifiers.items():\n",
    "    \n",
    "    print('in {} are: {}'.format(method, attribute['params']))"
   ]
  },
  {
   "cell_type": "markdown",
   "metadata": {},
   "source": [
    "Using the `prediction` obtained from each best estimator and real target values `y_test`, confusion matrix and classification report for every method now can be generated."
   ]
  },
  {
   "cell_type": "code",
   "execution_count": 35,
   "metadata": {
    "scrolled": true
   },
   "outputs": [
    {
     "name": "stdout",
     "output_type": "stream",
     "text": [
      "Best logistic regression classifier with parameters: \n",
      "{'multi_class': 'ovr', 'solver': 'newton-cg'}\n",
      "\n",
      "\n",
      "      |   d             |\n",
      "      |   a   j       r |\n",
      "      |   n   a   r   o |\n",
      "      |   c   z   a   c |\n",
      "      |   e   z   p   k |\n",
      "------+-----------------+\n",
      "dance |<340> 10  69  53 |\n",
      " jazz |  14<402>  9  31 |\n",
      "  rap |  63  18<329> 19 |\n",
      " rock |  40  61  18<324>|\n",
      "------+-----------------+\n",
      "(row = reference; col = test)\n",
      "              precision    recall  f1-score   support\n",
      "\n",
      "      dance       0.74      0.72      0.73       472\n",
      "       jazz       0.82      0.88      0.85       456\n",
      "        rap       0.77      0.77      0.77       429\n",
      "       rock       0.76      0.73      0.74       443\n",
      "\n",
      "avg / total       0.77      0.78      0.77      1800\n",
      "\n",
      "\n",
      "\n",
      "Best svm classifier with parameters: \n",
      "{'C': 1, 'gamma': 0.1}\n",
      "\n",
      "\n",
      "      |   d             |\n",
      "      |   a   j       r |\n",
      "      |   n   a   r   o |\n",
      "      |   c   z   a   c |\n",
      "      |   e   z   p   k |\n",
      "------+-----------------+\n",
      "dance |<331> 11  75  55 |\n",
      " jazz |  13<396>  7  40 |\n",
      "  rap |  49  20<335> 25 |\n",
      " rock |  41  55  17<330>|\n",
      "------+-----------------+\n",
      "(row = reference; col = test)\n",
      "              precision    recall  f1-score   support\n",
      "\n",
      "      dance       0.76      0.70      0.73       472\n",
      "       jazz       0.82      0.87      0.84       456\n",
      "        rap       0.77      0.78      0.78       429\n",
      "       rock       0.73      0.74      0.74       443\n",
      "\n",
      "avg / total       0.77      0.77      0.77      1800\n",
      "\n",
      "\n",
      "\n",
      "Best rfc classifier with parameters: \n",
      "{'max_features': 'sqrt', 'min_samples_split': 10, 'n_estimators': 100}\n",
      "\n",
      "\n",
      "      |   d             |\n",
      "      |   a   j       r |\n",
      "      |   n   a   r   o |\n",
      "      |   c   z   a   c |\n",
      "      |   e   z   p   k |\n",
      "------+-----------------+\n",
      "dance |<358> 10  55  49 |\n",
      " jazz |  10<399>  8  39 |\n",
      "  rap |  31  18<356> 24 |\n",
      " rock |  40  55   9<339>|\n",
      "------+-----------------+\n",
      "(row = reference; col = test)\n",
      "              precision    recall  f1-score   support\n",
      "\n",
      "      dance       0.82      0.76      0.79       472\n",
      "       jazz       0.83      0.88      0.85       456\n",
      "        rap       0.83      0.83      0.83       429\n",
      "       rock       0.75      0.77      0.76       443\n",
      "\n",
      "avg / total       0.81      0.81      0.81      1800\n",
      "\n",
      "\n",
      "\n"
     ]
    }
   ],
   "source": [
    "for name, classifier in best_classifiers.items():\n",
    "    \n",
    "    prediction = classifier['prediction']\n",
    "    \n",
    "    confus_mat = ConfusionMatrix(list(y_test), list(prediction))\n",
    "    class_report = classification_report(y_test, prediction)\n",
    "    \n",
    "    print('Best ' + name + ' classifier with parameters: ')\n",
    "    print(classifier['params'])\n",
    "    print('\\n')\n",
    "    print(confus_mat, class_report)\n",
    "    print('\\n')"
   ]
  },
  {
   "cell_type": "markdown",
   "metadata": {},
   "source": [
    "<br>\n",
    "With best parameters found, scores of the \"*best*\" SVM model are higher than that of the original model by nearly 10% in precision and 20% in recall.<br>\n",
    "Also, the best parameters returned for this method is C = 1 and gamma = 0.1, which means that the only difference between the best and the original model is the decrease in gamma (by 10 times) in the best estimator.\n",
    "\n",
    "On the other hand, for other methods, all the considered parameters between the original and the best estimators are different, but little difference in prediction scores is observed.<br>\n",
    "Specifically, there are little increase in scores of best random forest model, and almost no difference in those of the best logistic regression one."
   ]
  },
  {
   "cell_type": "markdown",
   "metadata": {},
   "source": [
    "## Build optimized classifiers"
   ]
  },
  {
   "cell_type": "markdown",
   "metadata": {},
   "source": [
    "But first, let's have a look at the feature importances and coefficients returned by `best_classifiers['rfc']['estimator']` and `best_classifiers['logistic regression']['estimator']`, respectively."
   ]
  },
  {
   "cell_type": "code",
   "execution_count": 129,
   "metadata": {},
   "outputs": [
    {
     "name": "stdout",
     "output_type": "stream",
     "text": [
      "                           importance\n",
      "feature                              \n",
      "acousticness                 0.177294\n",
      "speechiness                  0.135340\n",
      "mode                         0.134680\n",
      "energy                       0.082129\n",
      "tempo                        0.077228\n",
      "key_confidence               0.064448\n",
      "valence                      0.059708\n",
      "instrumentalness             0.057244\n",
      "loudness                     0.056239\n",
      "danceability                 0.033583\n",
      "tempo_confidence             0.027729\n",
      "time_signature_confidence    0.027220\n",
      "mode_confidence              0.025400\n",
      "liveliness                   0.021238\n",
      "key                          0.011579\n",
      "time_signature               0.005719\n",
      "duration                     0.003223\n"
     ]
    },
    {
     "data": {
      "text/plain": [
       "<matplotlib.axes._subplots.AxesSubplot at 0x7febda918dd8>"
      ]
     },
     "execution_count": 129,
     "metadata": {},
     "output_type": "execute_result"
    },
    {
     "data": {
      "image/png": "[encoded data removed]",
      "text/plain": [
       "<matplotlib.figure.Figure at 0x7febdaa34d30>"
      ]
     },
     "metadata": {},
     "output_type": "display_data"
    }
   ],
   "source": [
    "rfc_importances = {'feature': audio_df.columns.values,\n",
    "                   'importance': best_classifiers['rfc']['estimator'].feature_importances_\n",
    "                  }\n",
    "rfc_importances_df = pd.DataFrame(rfc_importances)\n",
    "rfc_importances_df.sort_values(by = ['importance'], ascending= False, inplace= True)\n",
    "rfc_importances_df.set_index('feature', inplace = True)\n",
    "print(rfc_importances_df)\n",
    "rfc_importances_df.plot.bar()"
   ]
  },
  {
   "cell_type": "code",
   "execution_count": 37,
   "metadata": {},
   "outputs": [
    {
     "data": {
      "text/plain": [
       "0.058823529411764705"
      ]
     },
     "execution_count": 37,
     "metadata": {},
     "output_type": "execute_result"
    }
   ],
   "source": [
    "np.mean(best_classifiers['rfc']['estimator'].feature_importances_)"
   ]
  },
  {
   "cell_type": "code",
   "execution_count": 38,
   "metadata": {
    "scrolled": true
   },
   "outputs": [
    {
     "data": {
      "text/plain": [
       "array([[-0.05696527,  0.72148895, -0.11871585,  0.35404773, -0.39757135,\n",
       "        -0.79595924,  0.46994881, -0.25206835,  0.29172998,  0.44311001,\n",
       "         0.10664753, -0.41165958,  1.15408035, -0.26681219,  0.22492041,\n",
       "         0.50832284, -0.10801094],\n",
       "       [-0.20938273, -0.8784298 ,  0.07925582, -0.0823219 , -0.83819243,\n",
       "         1.46960623,  0.19690176, -0.17440359,  0.14811786,  0.21854349,\n",
       "        -0.3956161 ,  0.86955807, -0.47283915, -0.1009225 , -0.3960657 ,\n",
       "        -0.38265274, -0.04658993],\n",
       "       [ 0.04529943, -0.42494309,  0.09172202, -0.35788793,  1.08122035,\n",
       "        -0.81640115, -0.3367475 , -0.10335043, -0.18680586, -0.15501524,\n",
       "         0.48058473,  0.06163259,  0.95507851,  0.06695219, -0.11998802,\n",
       "        -0.61139229,  0.35680049],\n",
       "       [ 0.09731279,  0.60691347,  0.0215155 ,  0.06793878, -1.08354152,\n",
       "        -0.59299192, -0.50553971,  0.4536013 , -0.04099772, -0.41453233,\n",
       "        -0.23304072,  0.24233002, -1.58152688,  0.16301761,  0.24036245,\n",
       "         0.15184503,  0.04460509]])"
      ]
     },
     "execution_count": 38,
     "metadata": {},
     "output_type": "execute_result"
    }
   ],
   "source": [
    "best_classifiers['logistic regression']['estimator'].coef_"
   ]
  },
  {
   "cell_type": "code",
   "execution_count": 45,
   "metadata": {
    "collapsed": true
   },
   "outputs": [],
   "source": [
    "from sklearn.base import clone"
   ]
  },
  {
   "cell_type": "code",
   "execution_count": 51,
   "metadata": {
    "collapsed": true,
    "scrolled": false
   },
   "outputs": [],
   "source": [
    "optimized_classifiers = {'logistic regression': {},\n",
    "                         'svm': {},\n",
    "                         'rfc': {},\n",
    "                        }\n",
    "\n",
    "for key, value in optimized_classifiers.items():\n",
    "    \n",
    "    classifier = best_classifiers[key]['estimator'] # To use SelectFromModel on the prefitted best classifier\n",
    "    classifier_clone = clone(classifier) # So that in later, transformed data is fitted on the estimator with \n",
    "                                            # same parameters as the best classifier\n",
    "    \n",
    "    if key == 'svm':\n",
    "        value['SKB'] = SelectKBest(k = 7).fit(audio_scaled, genres)\n",
    "        value['SKB_features'] = audio_df.columns[value['SKB'].get_support(indices = True)].tolist()\n",
    "        \n",
    "        skb_X_train = X_train[:, value['SKB'].get_support()].copy()\n",
    "        skb_X_test = X_test[:, value['SKB'].get_support()].copy()\n",
    "        \n",
    "        classifier_clone.fit(skb_X_train, y_train)\n",
    "        value['SKB_prediction'] = classifier_clone.predict(skb_X_test)\n",
    "    \n",
    "    else:\n",
    "        \n",
    "        value['SFM'] = SelectFromModel(classifier, prefit = True)\n",
    "        value['SFM_features'] = audio_df.columns[value['SFM'].get_support(indices = True)].tolist()\n",
    "        \n",
    "        sfm_X_train = value['SFM'].transform(X_train.copy())\n",
    "        sfm_X_test = value['SFM'].transform(X_test.copy())\n",
    "        \n",
    "        classifier_clone.fit(sfm_X_train, y_train)\n",
    "        value['SFM_prediction'] = classifier_clone.predict(sfm_X_test)\n",
    "        \n",
    "        new_clone = clone(classifier)\n",
    "        value['RFE'] = RFE(new_clone, n_features_to_select = 7).fit(X_train, y_train)\n",
    "        value['RFE_features'] = audio_df.columns.values[value['RFE'].support_]\n",
    "        value['RFE_prediction'] = value['RFE'].predict(X_test)\n",
    "                                                        "
   ]
  },
  {
   "cell_type": "markdown",
   "metadata": {},
   "source": [
    "For Random Forest model, I chose the default `threshold` in `SelectFromModel` is the mean in feature importances. <br>\n",
    "As from best random forest model obtained, this value is around 0.0588 and there are 7 features having importance above this, so I chose `n_features_to_select` of `RFE` to be 7 to see how things gonna be. <br>\n",
    "\n",
    "For logistic regression model, `n_features_to_select` of `RFE` was also set to be 7. As in this case, the default `threshold` in `SelectFromModel` is the mean in `coef_`, so the number of features selected by this method might not be 7.\n",
    "\n",
    "The `k` in `SelectKBest` was also set to be 7 for comparison."
   ]
  },
  {
   "cell_type": "code",
   "execution_count": 47,
   "metadata": {
    "collapsed": true
   },
   "outputs": [],
   "source": [
    "from sklearn.metrics import accuracy_score"
   ]
  },
  {
   "cell_type": "code",
   "execution_count": 52,
   "metadata": {
    "scrolled": true
   },
   "outputs": [
    {
     "name": "stdout",
     "output_type": "stream",
     "text": [
      "\n",
      "Optimized logistic regression\n",
      "\n",
      "\n",
      "Features selected by SelectFromModel:  ['energy', 'speechiness', 'acousticness', 'danceability', 'mode', 'key_confidence']\n",
      "Accuracy of optimized classifier using those features: 0.7466666666666667\n",
      "\n",
      "Features selected by RFE:  ['energy' 'speechiness' 'acousticness' 'instrumentalness' 'danceability'\n",
      " 'mode' 'key_confidence']\n",
      "Accuracy of optimized classifier using those features:  0.757222222222\n",
      "\n",
      "\n",
      "\n",
      "Optimized svm\n",
      "\n",
      "\n",
      "Features selected by SelectKBest:  ['energy', 'speechiness', 'acousticness', 'valence', 'mode', 'key_confidence', 'mode_confidence']\n",
      "Accuracy of optimized classifier using those features:  0.747222222222\n",
      "\n",
      "\n",
      "\n",
      "Optimized rfc\n",
      "\n",
      "\n",
      "Features selected by SelectFromModel:  ['energy', 'tempo', 'speechiness', 'acousticness', 'valence', 'mode', 'key_confidence']\n",
      "Accuracy of optimized classifier using those features: 0.7661111111111111\n",
      "\n",
      "Features selected by RFE:  ['energy' 'tempo' 'speechiness' 'acousticness' 'instrumentalness' 'mode'\n",
      " 'key_confidence']\n",
      "Accuracy of optimized classifier using those features:  0.782777777778\n",
      "\n",
      "\n"
     ]
    }
   ],
   "source": [
    "for key, value in optimized_classifiers.items():\n",
    "    \n",
    "    print('\\nOptimized ' + key)\n",
    "    print('\\n')\n",
    "    \n",
    "    if key == 'svm':\n",
    "        print('Features selected by SelectKBest: ', value['SKB_features'])\n",
    "        print('Accuracy of optimized classifier using those features: ',\n",
    "              accuracy_score(y_test, value['SKB_prediction']))\n",
    "        print('\\n')\n",
    "    \n",
    "    else:\n",
    "        print('Features selected by SelectFromModel: ', value['SFM_features'])\n",
    "        print(\"Accuracy of optimized classifier using those features: {}\\n\".\n",
    "              format(accuracy_score(y_test, value['SFM_prediction'])))\n",
    "        \n",
    "        print('Features selected by RFE: ', value['RFE_features'])\n",
    "        print('Accuracy of optimized classifier using those features: ', \n",
    "              accuracy_score(y_test, value['RFE_prediction']))\n",
    "        print('\\n')\n",
    "    "
   ]
  },
  {
   "cell_type": "markdown",
   "metadata": {},
   "source": [
    "As I expected, the number of features above the `mean` in `coef_` from logistic regression model (which is 6) is not as same as (less than) the number of features above the `mean` in `feature_importance`. <br>\n",
    "As a result, in logistic regression model, `RFE` returned more features than `SelectFromModel`. With more features, `RFE` gave higher accuracy score.\n",
    "\n",
    "In random forest model, `SelectFromModel` and `RFE` obviously returned the same number of features. Also, as I used the prefitted `best_classifier` for `SelectFromModel`, the set of features selected by this method is as predicted from the `rfc_importances_df` above. <br> \n",
    "However, using `RFE`, `instrumentalness` was selected instead of `valence`, and accuracy score is little higher than that from `SelectFromModel`. This reflects the variation in `feature_importance` resulting from recursively fitting and ranking the features. This variation, however, was very little. Looking back at the `rfc_importances_df`, we can also see that the `feature_importance` of `instrumentalness` and `valence` were initally very close to each other. <br>\n",
    "\n",
    "For all the model, with same parameters as `best_classifier` but reduced number of features, `optimized_classifier` gave lower scores."
   ]
  },
  {
   "cell_type": "markdown",
   "metadata": {},
   "source": [
    "Let's have a closer look to the confusion matrix and classification report of these `optimized_classifiers`."
   ]
  },
  {
   "cell_type": "code",
   "execution_count": 54,
   "metadata": {},
   "outputs": [
    {
     "name": "stdout",
     "output_type": "stream",
     "text": [
      "\n",
      "Optimized logistic regression\n",
      "\n",
      "\n",
      "Confusion Matrix (SelectFromModel): \n",
      "       |   d             |\n",
      "      |   a   j       r |\n",
      "      |   n   a   r   o |\n",
      "      |   c   z   a   c |\n",
      "      |   e   z   p   k |\n",
      "------+-----------------+\n",
      "dance |<334> 12  66  60 |\n",
      " jazz |  10<394> 12  40 |\n",
      "  rap |  70  23<313> 23 |\n",
      " rock |  51  74  15<303>|\n",
      "------+-----------------+\n",
      "(row = reference; col = test)\n",
      "\n",
      "Classification Report (SelectFromModel): \n",
      "              precision    recall  f1-score   support\n",
      "\n",
      "      dance       0.72      0.71      0.71       472\n",
      "       jazz       0.78      0.86      0.82       456\n",
      "        rap       0.77      0.73      0.75       429\n",
      "       rock       0.71      0.68      0.70       443\n",
      "\n",
      "avg / total       0.75      0.75      0.75      1800\n",
      "\n",
      "Confusion Matrix (RFE): \n",
      "       |   d             |\n",
      "      |   a   j       r |\n",
      "      |   n   a   r   o |\n",
      "      |   c   z   a   c |\n",
      "      |   e   z   p   k |\n",
      "------+-----------------+\n",
      "dance |<336> 13  67  56 |\n",
      " jazz |  14<397>  9  36 |\n",
      "  rap |  56  22<327> 24 |\n",
      " rock |  48  73  19<303>|\n",
      "------+-----------------+\n",
      "(row = reference; col = test)\n",
      "\n",
      "Classification Report (RFE): \n",
      "              precision    recall  f1-score   support\n",
      "\n",
      "      dance       0.74      0.71      0.73       472\n",
      "       jazz       0.79      0.87      0.83       456\n",
      "        rap       0.77      0.76      0.77       429\n",
      "       rock       0.72      0.68      0.70       443\n",
      "\n",
      "avg / total       0.76      0.76      0.76      1800\n",
      "\n",
      "\n",
      "\n",
      "\n",
      "Optimized svm\n",
      "\n",
      "\n",
      "Confusion Matrix: \n",
      "       |   d             |\n",
      "      |   a   j       r |\n",
      "      |   n   a   r   o |\n",
      "      |   c   z   a   c |\n",
      "      |   e   z   p   k |\n",
      "------+-----------------+\n",
      "dance |<317> 12  76  67 |\n",
      " jazz |  10<402>  7  37 |\n",
      "  rap |  49  23<341> 16 |\n",
      " rock |  69  75  14<285>|\n",
      "------+-----------------+\n",
      "(row = reference; col = test)\n",
      "\n",
      "Classification Report: \n",
      "              precision    recall  f1-score   support\n",
      "\n",
      "      dance       0.71      0.67      0.69       472\n",
      "       jazz       0.79      0.88      0.83       456\n",
      "        rap       0.78      0.79      0.79       429\n",
      "       rock       0.70      0.64      0.67       443\n",
      "\n",
      "avg / total       0.74      0.75      0.74      1800\n",
      "\n",
      "\n",
      "\n",
      "\n",
      "Optimized rfc\n",
      "\n",
      "\n",
      "Confusion Matrix (SelectFromModel): \n",
      "       |   d             |\n",
      "      |   a   j       r |\n",
      "      |   n   a   r   o |\n",
      "      |   c   z   a   c |\n",
      "      |   e   z   p   k |\n",
      "------+-----------------+\n",
      "dance |<329> 13  68  62 |\n",
      " jazz |   8<397>  5  46 |\n",
      "  rap |  42  21<342> 24 |\n",
      " rock |  46  71  15<311>|\n",
      "------+-----------------+\n",
      "(row = reference; col = test)\n",
      "\n",
      "Classification Report (SelectFromModel): \n",
      "              precision    recall  f1-score   support\n",
      "\n",
      "      dance       0.77      0.70      0.73       472\n",
      "       jazz       0.79      0.87      0.83       456\n",
      "        rap       0.80      0.80      0.80       429\n",
      "       rock       0.70      0.70      0.70       443\n",
      "\n",
      "avg / total       0.77      0.77      0.76      1800\n",
      "\n",
      "Confusion Matrix (RFE): \n",
      "       |   d             |\n",
      "      |   a   j       r |\n",
      "      |   n   a   r   o |\n",
      "      |   c   z   a   c |\n",
      "      |   e   z   p   k |\n",
      "------+-----------------+\n",
      "dance |<339> 13  58  62 |\n",
      " jazz |  11<400>  9  36 |\n",
      "  rap |  35  24<348> 22 |\n",
      " rock |  45  61  15<322>|\n",
      "------+-----------------+\n",
      "(row = reference; col = test)\n",
      "\n",
      "Classification Report (RFE): \n",
      "              precision    recall  f1-score   support\n",
      "\n",
      "      dance       0.79      0.72      0.75       472\n",
      "       jazz       0.80      0.88      0.84       456\n",
      "        rap       0.81      0.81      0.81       429\n",
      "       rock       0.73      0.73      0.73       443\n",
      "\n",
      "avg / total       0.78      0.78      0.78      1800\n",
      "\n",
      "\n",
      "\n"
     ]
    }
   ],
   "source": [
    "for key, value in optimized_classifiers.items():\n",
    "    \n",
    "    print('\\nOptimized ' + key)\n",
    "    print('\\n')\n",
    "    \n",
    "    if key == 'svm':\n",
    "        print('Confusion Matrix: \\n', ConfusionMatrix(list(y_test), list(value['SKB_prediction'])))\n",
    "        print('Classification Report: \\n', classification_report(y_test, value['SKB_prediction']))\n",
    "        print('\\n')\n",
    "    \n",
    "    else:\n",
    "        print('Confusion Matrix (SelectFromModel): \\n', ConfusionMatrix(list(y_test), list(value['SFM_prediction'])))\n",
    "        print('Classification Report (SelectFromModel): \\n', classification_report(y_test, value['SFM_prediction']))\n",
    "        \n",
    "        print('Confusion Matrix (RFE): \\n', ConfusionMatrix(list(y_test), list(value['RFE_prediction'])))\n",
    "        print('Classification Report (RFE): \\n', classification_report(y_test, value['RFE_prediction']))\n",
    "        print('\\n')"
   ]
  },
  {
   "cell_type": "markdown",
   "metadata": {},
   "source": [
    "## Vary the parameters of feature selection methods"
   ]
  },
  {
   "cell_type": "code",
   "execution_count": 62,
   "metadata": {
    "collapsed": true
   },
   "outputs": [],
   "source": [
    "from sklearn.pipeline import Pipeline"
   ]
  },
  {
   "cell_type": "code",
   "execution_count": 150,
   "metadata": {
    "collapsed": true,
    "scrolled": true
   },
   "outputs": [],
   "source": [
    "fs_pipes = {\n",
    "    'logistic regression': [],\n",
    "    'svm': [],\n",
    "    'rfc': []\n",
    "}\n",
    "\n",
    "for method, attribute in best_classifiers.items():\n",
    "    \n",
    "    estimator = attribute['estimator']\n",
    "    clone_estimator = clone(estimator)\n",
    "    \n",
    "    if method == 'svm':\n",
    "        \n",
    "        pipeline = Pipeline([('fs', SelectKBest()), ('clf', clone_estimator)])\n",
    "        param_grid = {\n",
    "            'fs__k': [5, 6, 7, 8, 9]\n",
    "        }\n",
    "        fs_pipes[method] = [(pipeline, param_grid)]\n",
    "        \n",
    "    else:\n",
    "        \n",
    "        pipeline_1 = Pipeline([('fs', SelectFromModel(estimator)), ('clf', clone_estimator)])\n",
    "        \n",
    "        if method == 'logistic regression': \n",
    "            thresholds = [-0.5, -0.02, 0.03, 0.15, 0.5]\n",
    "        else:\n",
    "            thresholds = [0.01, 0.03, 0.06, 0.1]\n",
    "        param_grid_1 = {\n",
    "                'fs__threshold': thresholds\n",
    "        }\n",
    "        \n",
    "        pipeline_2 = Pipeline([('fs', RFE(clone_estimator)), ('clf', clone_estimator)])\n",
    "        param_grid_2 = {\n",
    "            'fs__n_features_to_select': [5, 7, 9, 11, 13]\n",
    "        }\n",
    "        fs_pipes[method] = [ (pipeline_1, param_grid_1), (pipeline_2, param_grid_2) ] "
   ]
  },
  {
   "cell_type": "code",
   "execution_count": 152,
   "metadata": {
    "scrolled": true
   },
   "outputs": [
    {
     "name": "stdout",
     "output_type": "stream",
     "text": [
      "Pipeline(memory=None,\n",
      "     steps=[('fs', SelectFromModel(estimator=RandomForestClassifier(bootstrap=True, class_weight=None, criterion='gini',\n",
      "            max_depth=None, max_features='sqrt', max_leaf_nodes=None,\n",
      "            min_impurity_decrease=0.0, min_impurity_split=None,\n",
      "            min_samples_leaf=1, min_samples_split=...n_jobs=1,\n",
      "            oob_score=False, random_state=None, verbose=0,\n",
      "            warm_start=False))])\n",
      "\n",
      "\n",
      "{'fs__threshold': [0.01, 0.03, 0.06, 0.1]}\n",
      "\n",
      "\n",
      "Pipeline(memory=None,\n",
      "     steps=[('fs', RFE(estimator=RandomForestClassifier(bootstrap=True, class_weight=None, criterion='gini',\n",
      "            max_depth=None, max_features='sqrt', max_leaf_nodes=None,\n",
      "            min_impurity_decrease=0.0, min_impurity_split=None,\n",
      "            min_samples_leaf=1, min_samples_split=10,\n",
      "        ...n_jobs=1,\n",
      "            oob_score=False, random_state=None, verbose=0,\n",
      "            warm_start=False))])\n",
      "\n",
      "\n",
      "{'fs__n_features_to_select': [5, 7, 9, 11, 13]}\n",
      "\n",
      "\n"
     ]
    }
   ],
   "source": [
    "for pipe, grid in fs_pipes['rfc']:\n",
    "    \n",
    "    print(pipe)\n",
    "    print('\\n')\n",
    "    print(grid)\n",
    "    print(\"\\n\")"
   ]
  },
  {
   "cell_type": "code",
   "execution_count": 154,
   "metadata": {
    "collapsed": true
   },
   "outputs": [],
   "source": [
    "def pipe_optimizing (pipes_dict, X_train, X_test, y_train, n_jobs):\n",
    "\n",
    "    optimal_estimators = {}\n",
    "    \n",
    "    for method, attribute in pipes_dict.items():\n",
    "        \n",
    "        optimal_estimators[method] = {\n",
    "            'pipelines': attribute,\n",
    "            'optimal_pipes': []\n",
    "        }\n",
    "\n",
    "        for pipe, grid in attribute:\n",
    "\n",
    "            grid_pipe = GridSearchCV(pipe, grid, n_jobs = n_jobs, return_train_score=False)\n",
    "            grid_pipe.fit(X_train, y_train)\n",
    "            prediction = grid_pipe.predict(X_test)\n",
    "\n",
    "            optimal_estimators[method]['optimal_pipes'].append({\n",
    "                'estimator': grid_pipe.best_estimator_,\n",
    "                'params': grid_pipe.best_params_,\n",
    "                'prediction': prediction,\n",
    "                'cv_results': grid_pipe.cv_results_ \n",
    "            })\n",
    "\n",
    "    return optimal_estimators\n",
    "\n",
    "def evaluate_optimal_pipe (optimized_pipes, evaluation, y_test):\n",
    "    \n",
    "    for method, attribute in optimized_pipes.items():\n",
    "    \n",
    "        print(method)\n",
    "        print(\"\\n\")\n",
    "    \n",
    "        for optimal_pipe in attribute['optimal_pipes']:\n",
    "\n",
    "            print(optimal_pipe['params'])\n",
    "            report = evaluation(y_test, optimal_pipe['prediction'])\n",
    "            print(report)\n",
    "            print(\"\\n\")"
   ]
  },
  {
   "cell_type": "code",
   "execution_count": 124,
   "metadata": {
    "collapsed": true
   },
   "outputs": [],
   "source": [
    "optimized_fs_pipes = pipe_optimizing(fs_pipes, X_train, X_test, y_train, n_jobs = 2)"
   ]
  },
  {
   "cell_type": "code",
   "execution_count": 142,
   "metadata": {
    "scrolled": true
   },
   "outputs": [
    {
     "name": "stdout",
     "output_type": "stream",
     "text": [
      "logistic regression\n",
      "\n",
      "\n",
      "{'fs__threshold': -0.5}\n",
      "             precision    recall  f1-score   support\n",
      "\n",
      "      dance       0.72      0.70      0.71       450\n",
      "       jazz       0.80      0.87      0.84       436\n",
      "        rap       0.77      0.77      0.77       439\n",
      "       rock       0.76      0.72      0.74       475\n",
      "\n",
      "avg / total       0.76      0.76      0.76      1800\n",
      "\n",
      "\n",
      "\n",
      "{'fs__n_features_to_select': 13}\n",
      "             precision    recall  f1-score   support\n",
      "\n",
      "      dance       0.72      0.70      0.71       450\n",
      "       jazz       0.80      0.87      0.83       436\n",
      "        rap       0.77      0.77      0.77       439\n",
      "       rock       0.76      0.71      0.73       475\n",
      "\n",
      "avg / total       0.76      0.76      0.76      1800\n",
      "\n",
      "\n",
      "\n",
      "svm\n",
      "\n",
      "\n",
      "{'fs__k': 9}\n",
      "             precision    recall  f1-score   support\n",
      "\n",
      "      dance       0.73      0.69      0.71       450\n",
      "       jazz       0.76      0.89      0.82       436\n",
      "        rap       0.78      0.80      0.79       439\n",
      "       rock       0.74      0.64      0.69       475\n",
      "\n",
      "avg / total       0.75      0.75      0.75      1800\n",
      "\n",
      "\n",
      "\n",
      "rfc\n",
      "\n",
      "\n",
      "{'fs__threshold': 0.01}\n",
      "             precision    recall  f1-score   support\n",
      "\n",
      "      dance       0.77      0.70      0.73       450\n",
      "       jazz       0.79      0.88      0.83       436\n",
      "        rap       0.80      0.82      0.81       439\n",
      "       rock       0.74      0.70      0.72       475\n",
      "\n",
      "avg / total       0.77      0.78      0.77      1800\n",
      "\n",
      "\n",
      "\n",
      "{'fs__n_features_to_select': 9}\n",
      "             precision    recall  f1-score   support\n",
      "\n",
      "      dance       0.76      0.72      0.74       450\n",
      "       jazz       0.77      0.86      0.81       436\n",
      "        rap       0.80      0.81      0.80       439\n",
      "       rock       0.72      0.67      0.70       475\n",
      "\n",
      "avg / total       0.76      0.76      0.76      1800\n",
      "\n",
      "\n",
      "\n"
     ]
    }
   ],
   "source": [
    "evaluate_optimal_pipe(optimized_fs_pipes, classification_report, y_test)"
   ]
  },
  {
   "cell_type": "code",
   "execution_count": 130,
   "metadata": {
    "collapsed": true,
    "scrolled": true
   },
   "outputs": [],
   "source": [
    "new_fs_pipes = {\n",
    "    'logistic regression': [],\n",
    "    'svm': [],\n",
    "    'rfc': []\n",
    "}\n",
    "\n",
    "for method, attribute in best_classifiers.items():\n",
    "    \n",
    "    estimator = attribute['estimator']\n",
    "    clone_estimator = clone(estimator)\n",
    "    \n",
    "    if method == 'svm':\n",
    "        \n",
    "        pipeline = Pipeline([('fs', SelectKBest()), ('clf', clone_estimator)])\n",
    "        param_grid = {\n",
    "            'fs__k': [6, 9, 10, 13] # Added 5 & 10\n",
    "        }\n",
    "        fs_pipes[method] = [(pipeline, param_grid)]\n",
    "        \n",
    "    else:\n",
    "        \n",
    "        pipeline_1 = Pipeline([('fs', SelectFromModel(estimator)), ('clf', clone_estimator)])\n",
    "        \n",
    "        if method == 'logistic regression': \n",
    "            thresholds = [-1, -0.7, -0.5, 0.15, 0.5] # Added -1 & -0.7\n",
    "        else:\n",
    "            thresholds = [0.005, 0.01, 0.03, 0.06] # Added 0.005\n",
    "        param_grid_1 = {\n",
    "                'fs__threshold': thresholds\n",
    "        }\n",
    "        \n",
    "        pipeline_2 = Pipeline([('fs', RFE(clone_estimator)), ('clf', clone_estimator)])\n",
    "        param_grid_2 = {\n",
    "            'fs__n_features_to_select': [9, 13, 15] # Kept 9, 13. Added 15\n",
    "        }\n",
    "        fs_pipes[method] = [ (pipeline_1, param_grid_1), (pipeline_2, param_grid_2) ] "
   ]
  },
  {
   "cell_type": "code",
   "execution_count": 131,
   "metadata": {
    "collapsed": true
   },
   "outputs": [],
   "source": [
    "new_optimized_fs_pipes = pipe_optimizing(fs_pipes, X_train, X_test, y_train, n_jobs = 2)"
   ]
  },
  {
   "cell_type": "code",
   "execution_count": 143,
   "metadata": {
    "scrolled": true
   },
   "outputs": [
    {
     "name": "stdout",
     "output_type": "stream",
     "text": [
      "logistic regression\n",
      "\n",
      "\n",
      "{'fs__threshold': -1}\n",
      "             precision    recall  f1-score   support\n",
      "\n",
      "      dance       0.72      0.70      0.71       450\n",
      "       jazz       0.80      0.87      0.84       436\n",
      "        rap       0.77      0.77      0.77       439\n",
      "       rock       0.76      0.72      0.74       475\n",
      "\n",
      "avg / total       0.76      0.76      0.76      1800\n",
      "\n",
      "\n",
      "\n",
      "{'fs__n_features_to_select': 15}\n",
      "             precision    recall  f1-score   support\n",
      "\n",
      "      dance       0.72      0.69      0.70       450\n",
      "       jazz       0.80      0.87      0.83       436\n",
      "        rap       0.77      0.77      0.77       439\n",
      "       rock       0.76      0.72      0.74       475\n",
      "\n",
      "avg / total       0.76      0.76      0.76      1800\n",
      "\n",
      "\n",
      "\n",
      "svm\n",
      "\n",
      "\n",
      "{'fs__k': 13}\n",
      "             precision    recall  f1-score   support\n",
      "\n",
      "      dance       0.75      0.70      0.72       450\n",
      "       jazz       0.81      0.89      0.85       436\n",
      "        rap       0.78      0.77      0.78       439\n",
      "       rock       0.74      0.73      0.73       475\n",
      "\n",
      "avg / total       0.77      0.77      0.77      1800\n",
      "\n",
      "\n",
      "\n",
      "rfc\n",
      "\n",
      "\n",
      "{'fs__threshold': 0.01}\n",
      "             precision    recall  f1-score   support\n",
      "\n",
      "      dance       0.77      0.70      0.73       450\n",
      "       jazz       0.79      0.87      0.83       436\n",
      "        rap       0.78      0.81      0.80       439\n",
      "       rock       0.75      0.72      0.73       475\n",
      "\n",
      "avg / total       0.77      0.77      0.77      1800\n",
      "\n",
      "\n",
      "\n",
      "{'fs__n_features_to_select': 13}\n",
      "             precision    recall  f1-score   support\n",
      "\n",
      "      dance       0.78      0.71      0.75       450\n",
      "       jazz       0.79      0.87      0.82       436\n",
      "        rap       0.80      0.82      0.81       439\n",
      "       rock       0.74      0.71      0.72       475\n",
      "\n",
      "avg / total       0.77      0.78      0.77      1800\n",
      "\n",
      "\n",
      "\n"
     ]
    }
   ],
   "source": [
    "evaluate_optimal_pipe(new_optimized_fs_pipes, classification_report, y_test)"
   ]
  },
  {
   "cell_type": "markdown",
   "metadata": {
    "collapsed": true
   },
   "source": [
    "Using the best number of features or threshold selected from `GridSearchCV` did not improve the scores.\n",
    "\n",
    "I think this possibly because that there might be cases where a parameter performs best in the \"grid search\" but fails in the whole dataset. <br>\n",
    "In fact, in the `GridSearchCV`, the test score of every parameter (used for ranking them) is from a k-fold (the default is 3-fold) cross-validation, which is performed on only 30% of our data (training data), and therefore, is very different from a cross-validation on the whole dataset.\n",
    "\n",
    "Overall, I think in this case, the original number of audio features already gave the best prediction models (with optimized model parameters) so that reducing it declined the prediction performance."
   ]
  },
  {
   "cell_type": "markdown",
   "metadata": {},
   "source": [
    "## Combine both parameter selection and feature selection"
   ]
  },
  {
   "cell_type": "code",
   "execution_count": 155,
   "metadata": {
    "collapsed": true,
    "scrolled": true
   },
   "outputs": [],
   "source": [
    "svm_pipe_param_grid = {\n",
    "        'fs__k': [7, 9, 13, 15],\n",
    "        'clf__C': [0.1, 1, 10],\n",
    "        'clf__gamma': [1, 0.1, 0.01, 0.001]\n",
    "    }\n",
    "\n",
    "svm_pipe = {\n",
    "    'svm': [ (Pipeline([('fs', SelectKBest()), ('clf', SVC())]), svm_pipe_param_grid) ] \n",
    "}\n"
   ]
  },
  {
   "cell_type": "code",
   "execution_count": 156,
   "metadata": {
    "collapsed": true
   },
   "outputs": [],
   "source": [
    "optimal_svm = pipe_optimizing(svm_pipe, X_train, X_test, y_train, n_jobs = 2)"
   ]
  },
  {
   "cell_type": "code",
   "execution_count": 157,
   "metadata": {},
   "outputs": [
    {
     "name": "stdout",
     "output_type": "stream",
     "text": [
      "svm\n",
      "\n",
      "\n",
      "{'clf__C': 1, 'clf__gamma': 0.1, 'fs__k': 15}\n",
      "             precision    recall  f1-score   support\n",
      "\n",
      "      dance       0.76      0.70      0.73       450\n",
      "       jazz       0.81      0.88      0.84       436\n",
      "        rap       0.79      0.77      0.78       439\n",
      "       rock       0.72      0.73      0.73       475\n",
      "\n",
      "avg / total       0.77      0.77      0.77      1800\n",
      "\n",
      "\n",
      "\n"
     ]
    }
   ],
   "source": [
    "evaluate_optimal_pipe(optimal_svm, classification_report, y_test)"
   ]
  },
  {
   "cell_type": "markdown",
   "metadata": {},
   "source": [
    "**No result was returned for below steps, as the computation would take a huge amount of time on my laptop. <br>\n",
    "However, the code is still here, because I think it deserves that.**"
   ]
  },
  {
   "cell_type": "code",
   "execution_count": 149,
   "metadata": {
    "collapsed": true
   },
   "outputs": [],
   "source": [
    "multiple_param_grids = {\n",
    "    'logistic_regression': {\n",
    "        'fs__threshold': [-1, -0.7, -0.5],\n",
    "        'fs__estimator__solver': ['newton-cg', 'sag', 'saga', 'lbfgs'], \n",
    "        'fs__estimator__multi_class': ['ovr', 'multinomial'],\n",
    "\n",
    "        'clf__solver': ['newton-cg', 'sag', 'saga', 'lbfgs'], \n",
    "        'clf__multi_class': ['ovr', 'multinomial']\n",
    "    },\n",
    "    \n",
    "    'rfc': {\n",
    "        'fs': [SelectFromModel(RandomForestClassifier())],\n",
    "        'fs__threshold': [0.005, 0.01, 0.06],\n",
    "        'fs__estimator__n_estimators': [5, 10, 100],\n",
    "        'fs__estimator__min_samples_split': [2, 3, 4, 5, 10],\n",
    "        'fs__estimator__max_features': ['sqrt', 'log2', 'auto'],\n",
    "\n",
    "        'clf': [RandomForestClassifier()],\n",
    "        'clf__n_estimators': [5, 10, 100],\n",
    "        'clf__min_samples_split': [2, 3, 4, 5, 10],\n",
    "        'clf__max_features': ['sqrt', 'log2', 'auto']\n",
    "    }\n",
    "}\n",
    "\n",
    "logreg_rfc_pipes = {\n",
    "    'logistic regression': [(\n",
    "        Pipeline([('fs', SelectFromModel(LogisticRegression())), ('clf', LogisticRegression())]),\n",
    "        multiple_param_grids['logistic regression']\n",
    "    )],\n",
    "    \n",
    "    'rfc': [(\n",
    "        Pipeline([('fs', SelectFromModel(RandomForestClassifier())), ('clf', RandomForestClassifier())]),\n",
    "        multiple_param_grids['rfc']\n",
    "    )]\n",
    "}"
   ]
  },
  {
   "cell_type": "code",
   "execution_count": null,
   "metadata": {
    "collapsed": true
   },
   "outputs": [],
   "source": [
    "optimal_logreg_rfc = pipe_optimizing(logreg_rfc_pipes, X_train, X_test, y_train, n_jobs = 2)"
   ]
  },
  {
   "cell_type": "markdown",
   "metadata": {},
   "source": [
    "## Audio features and moods\n",
    "\n",
    "** ... To be completed ... **"
   ]
  },
  {
   "cell_type": "markdown",
   "metadata": {},
   "source": [
    "## The effect of scaling data"
   ]
  },
  {
   "cell_type": "code",
   "execution_count": 56,
   "metadata": {
    "collapsed": true
   },
   "outputs": [],
   "source": [
    "X_train_nonscaled, X_test_nonscaled, \\\n",
    "y_train_nonscaled, y_test_nonscaled = train_test_split(audio_df, dataset['genres'], test_size =  0.3)"
   ]
  },
  {
   "cell_type": "code",
   "execution_count": 61,
   "metadata": {
    "scrolled": true
   },
   "outputs": [
    {
     "name": "stderr",
     "output_type": "stream",
     "text": [
      "/home/singuyen/anaconda3/lib/python3.6/site-packages/sklearn/linear_model/sag.py:326: ConvergenceWarning: The max_iter was reached which means the coef_ did not converge\n",
      "  \"the coef_ did not converge\", ConvergenceWarning)\n",
      "/home/singuyen/anaconda3/lib/python3.6/site-packages/sklearn/linear_model/sag.py:326: ConvergenceWarning: The max_iter was reached which means the coef_ did not converge\n",
      "  \"the coef_ did not converge\", ConvergenceWarning)\n",
      "/home/singuyen/anaconda3/lib/python3.6/site-packages/sklearn/linear_model/sag.py:326: ConvergenceWarning: The max_iter was reached which means the coef_ did not converge\n",
      "  \"the coef_ did not converge\", ConvergenceWarning)\n",
      "/home/singuyen/anaconda3/lib/python3.6/site-packages/sklearn/linear_model/sag.py:326: ConvergenceWarning: The max_iter was reached which means the coef_ did not converge\n",
      "  \"the coef_ did not converge\", ConvergenceWarning)\n",
      "/home/singuyen/anaconda3/lib/python3.6/site-packages/sklearn/linear_model/sag.py:326: ConvergenceWarning: The max_iter was reached which means the coef_ did not converge\n",
      "  \"the coef_ did not converge\", ConvergenceWarning)\n",
      "/home/singuyen/anaconda3/lib/python3.6/site-packages/sklearn/linear_model/sag.py:326: ConvergenceWarning: The max_iter was reached which means the coef_ did not converge\n",
      "  \"the coef_ did not converge\", ConvergenceWarning)\n",
      "/home/singuyen/anaconda3/lib/python3.6/site-packages/sklearn/linear_model/sag.py:326: ConvergenceWarning: The max_iter was reached which means the coef_ did not converge\n",
      "  \"the coef_ did not converge\", ConvergenceWarning)\n",
      "/home/singuyen/anaconda3/lib/python3.6/site-packages/sklearn/linear_model/sag.py:326: ConvergenceWarning: The max_iter was reached which means the coef_ did not converge\n",
      "  \"the coef_ did not converge\", ConvergenceWarning)\n",
      "/home/singuyen/anaconda3/lib/python3.6/site-packages/sklearn/linear_model/sag.py:326: ConvergenceWarning: The max_iter was reached which means the coef_ did not converge\n",
      "  \"the coef_ did not converge\", ConvergenceWarning)\n",
      "/home/singuyen/anaconda3/lib/python3.6/site-packages/sklearn/linear_model/sag.py:326: ConvergenceWarning: The max_iter was reached which means the coef_ did not converge\n",
      "  \"the coef_ did not converge\", ConvergenceWarning)\n",
      "/home/singuyen/anaconda3/lib/python3.6/site-packages/sklearn/linear_model/sag.py:326: ConvergenceWarning: The max_iter was reached which means the coef_ did not converge\n",
      "  \"the coef_ did not converge\", ConvergenceWarning)\n",
      "/home/singuyen/anaconda3/lib/python3.6/site-packages/sklearn/linear_model/sag.py:326: ConvergenceWarning: The max_iter was reached which means the coef_ did not converge\n",
      "  \"the coef_ did not converge\", ConvergenceWarning)\n"
     ]
    },
    {
     "name": "stdout",
     "output_type": "stream",
     "text": [
      "Best logistic regression classifier with parameters: \n",
      "{'multi_class': 'ovr', 'solver': 'newton-cg'}\n",
      "\n",
      "\n",
      "      |   d             |\n",
      "      |   a   j       r |\n",
      "      |   n   a   r   o |\n",
      "      |   c   z   a   c |\n",
      "      |   e   z   p   k |\n",
      "------+-----------------+\n",
      "dance |<319>  9  68  55 |\n",
      " jazz |  12<386> 12  40 |\n",
      "  rap |  65  19<333> 21 |\n",
      " rock |  46  67  17<331>|\n",
      "------+-----------------+\n",
      "(row = reference; col = test)\n",
      "              precision    recall  f1-score   support\n",
      "\n",
      "      dance       0.72      0.71      0.71       451\n",
      "       jazz       0.80      0.86      0.83       450\n",
      "        rap       0.77      0.76      0.77       438\n",
      "       rock       0.74      0.72      0.73       461\n",
      "\n",
      "avg / total       0.76      0.76      0.76      1800\n",
      "\n",
      "\n",
      "\n",
      "Best svm classifier with parameters: \n",
      "{'C': 10, 'gamma': 0.001}\n",
      "\n",
      "\n",
      "      |   d             |\n",
      "      |   a   j       r |\n",
      "      |   n   a   r   o |\n",
      "      |   c   z   a   c |\n",
      "      |   e   z   p   k |\n",
      "------+-----------------+\n",
      "dance |<336> 24  40  51 |\n",
      " jazz |  52<298> 45  55 |\n",
      "  rap |  66  40<262> 70 |\n",
      " rock | 110  96 100<155>|\n",
      "------+-----------------+\n",
      "(row = reference; col = test)\n",
      "              precision    recall  f1-score   support\n",
      "\n",
      "      dance       0.60      0.75      0.66       451\n",
      "       jazz       0.65      0.66      0.66       450\n",
      "        rap       0.59      0.60      0.59       438\n",
      "       rock       0.47      0.34      0.39       461\n",
      "\n",
      "avg / total       0.57      0.58      0.57      1800\n",
      "\n",
      "\n",
      "\n",
      "Best rfc classifier with parameters: \n",
      "{'max_features': 'auto', 'min_samples_split': 4, 'n_estimators': 100}\n",
      "\n",
      "\n",
      "      |   d             |\n",
      "      |   a   j       r |\n",
      "      |   n   a   r   o |\n",
      "      |   c   z   a   c |\n",
      "      |   e   z   p   k |\n",
      "------+-----------------+\n",
      "dance |<336> 11  64  40 |\n",
      " jazz |   9<386>  9  46 |\n",
      "  rap |  44  22<349> 23 |\n",
      " rock |  46  63  13<339>|\n",
      "------+-----------------+\n",
      "(row = reference; col = test)\n",
      "              precision    recall  f1-score   support\n",
      "\n",
      "      dance       0.77      0.75      0.76       451\n",
      "       jazz       0.80      0.86      0.83       450\n",
      "        rap       0.80      0.80      0.80       438\n",
      "       rock       0.76      0.74      0.75       461\n",
      "\n",
      "avg / total       0.78      0.78      0.78      1800\n",
      "\n",
      "\n",
      "\n"
     ]
    }
   ],
   "source": [
    "best_classifiers_nonscaled = {'logistic regression': {'estimator': LogisticRegression()},\n",
    "                    'svm': {'estimator': SVC()},\n",
    "                    'rfc': {'estimator': RandomForestClassifier()}\n",
    "                   }\n",
    "\n",
    "for name, param_grid in param_grids.items():\n",
    "    \n",
    "    estimator = best_classifiers_nonscaled[name]['estimator']\n",
    "    \n",
    "    grid = GridSearchCV(estimator, param_grid, refit = True, n_jobs = 2)\n",
    "    grid.fit(X_train_nonscaled, y_train_nonscaled)\n",
    "    \n",
    "    best_classifiers_nonscaled[name]['estimator'] = grid.best_estimator_\n",
    "    best_classifiers_nonscaled[name]['params'] = grid.best_params_\n",
    "    best_classifiers_nonscaled[name]['prediction'] = grid.best_estimator_.predict(X_test_nonscaled)\n",
    "    \n",
    "for name, classifier in best_classifiers_nonscaled.items():\n",
    "    \n",
    "    prediction = classifier['prediction']\n",
    "    \n",
    "    confus_mat = ConfusionMatrix(list(y_test_nonscaled), list(prediction))\n",
    "    class_report = classification_report(y_test_nonscaled, prediction)\n",
    "    \n",
    "    print('Best ' + name + ' classifier with parameters: ')\n",
    "    print(classifier['params'])\n",
    "    print('\\n')\n",
    "    print(confus_mat, class_report)\n",
    "    print('\\n')"
   ]
  },
  {
   "cell_type": "markdown",
   "metadata": {},
   "source": [
    "For SVM, without scaling the data of many features to be in the same scale, the prediction scores drop significantly (even with best parameters). This is obvious since SVM requires data of all features to be in the same scale. \n",
    "\n",
    "For linear logistic regression, `ConvergenceWarning` was raised by `sag` solver (sag.py) of `linear_model`. <br>\n",
    "I tried increasing the `max_iter` (up to 4000) as suggested, but the problem still wasn't fixed. <br>\n",
    "I think this is because of the non-scaled data itself. In the documentation of Scikit-learn, they also stated that:\n",
    "\n",
    "> Note that ‘sag’ and ‘saga’ fast convergence is only guaranteed on features with approximately the same scale.\n",
    "\n",
    "[Suggestion on solving the problem](https://stats.stackexchange.com/questions/184017/how-to-fix-non-convergence-in-logisticregressioncv) <br>\n",
    "[Assumptions of linear regression](http://people.duke.edu/~rnau/testing.htm) <br>\n",
    "[Distribution of independent variables in regression models](https://www.theanalysisfactor.com/the-distribution-of-independent-variables-in-regression-models/) <br>"
   ]
  }
 ],
 "metadata": {
  "kernelspec": {
   "display_name": "Python 3",
   "language": "python",
   "name": "python3"
  },
  "language_info": {
   "codemirror_mode": {
    "name": "ipython",
    "version": 3
   },
   "file_extension": ".py",
   "mimetype": "text/x-python",
   "name": "python",
   "nbconvert_exporter": "python",
   "pygments_lexer": "ipython3",
   "version": "3.6.3"
  }
 },
 "nbformat": 4,
 "nbformat_minor": 2
}
