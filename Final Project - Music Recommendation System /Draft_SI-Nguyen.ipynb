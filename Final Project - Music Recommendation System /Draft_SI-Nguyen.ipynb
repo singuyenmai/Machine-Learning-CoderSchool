{
 "cells": [
  {
   "cell_type": "code",
   "execution_count": 1,
   "metadata": {
    "collapsed": true
   },
   "outputs": [],
   "source": [
    "import pandas as pd\n",
    "import numpy as np"
   ]
  },
  {
   "cell_type": "markdown",
   "metadata": {},
   "source": [
    "Step 1: predict moods:\n",
    "    \n",
    "    - Strategy 1:\n",
    "    \n",
    "        X1 - audio feature --> Y1 - probabilities of moods\n",
    "        X2 - lyrics feature --> Y2 - probabilities of moods\n",
    "        Y = mean(Y1, Y2)\n",
    "        \n",
    "    - Strategy 2:\n",
    "        X- audio + lyrics ---> Y - probabilities of moods"
   ]
  },
  {
   "cell_type": "markdown",
   "metadata": {},
   "source": [
    "Step 2: predict genre:\n",
    "\n",
    "    - Strategy 1:\n",
    "    \n",
    "        X1 - audio feature --> Y1 - probabilities of genres\n",
    "        X2 - moods --> Y2 - probabilities of genres\n",
    "        Y = mean(Y1, Y2)\n",
    "        \n",
    "    - Strategy 2:\n",
    "        X- audio + moods ---> Y - probabilities of genres"
   ]
  },
  {
   "cell_type": "markdown",
   "metadata": {},
   "source": [
    "Step 3: similarity:\n",
    "\n",
    "    - moods: jaccard_similarity_score\n",
    "    - genre: cosine_similarity \n",
    "    - audio feature: cosine similarity"
   ]
  }
 ],
 "metadata": {
  "kernelspec": {
   "display_name": "Python 3",
   "language": "python",
   "name": "python3"
  },
  "language_info": {
   "codemirror_mode": {
    "name": "ipython",
    "version": 3
   },
   "file_extension": ".py",
   "mimetype": "text/x-python",
   "name": "python",
   "nbconvert_exporter": "python",
   "pygments_lexer": "ipython3",
   "version": "3.6.3"
  }
 },
 "nbformat": 4,
 "nbformat_minor": 2
}
